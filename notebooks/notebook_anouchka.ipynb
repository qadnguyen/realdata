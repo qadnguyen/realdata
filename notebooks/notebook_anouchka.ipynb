{
 "cells": [
  {
   "cell_type": "markdown",
   "id": "6f18eb81",
   "metadata": {},
   "source": [
    "# ⬇️ Imports"
   ]
  },
  {
   "cell_type": "code",
   "execution_count": 1,
   "id": "e22b5836",
   "metadata": {},
   "outputs": [],
   "source": [
    "import pandas as pd\n",
    "import numpy as np\n",
    "import matplotlib as plt\n",
    "from pathlib import Path\n",
    "\n",
    "\n",
    "import warnings\n",
    "warnings.filterwarnings('ignore')\n"
   ]
  },
  {
   "cell_type": "markdown",
   "id": "35334902",
   "metadata": {},
   "source": [
    "# ✅ Downloading the data"
   ]
  },
  {
   "cell_type": "markdown",
   "id": "65a63758",
   "metadata": {},
   "source": [
    "region (department) exceptions :\n",
    "- 20 not existing ->2A and 2B\n",
    "- 57, 67, 68 -> no data\n",
    "- 69 -> 69D and 59M"
   ]
  },
  {
   "cell_type": "code",
   "execution_count": 2,
   "id": "09c85fba",
   "metadata": {},
   "outputs": [
    {
     "name": "stdout",
     "output_type": "stream",
     "text": [
      "[1, 2, 3, 4, 5, 6, 7, 8, 9, 10, 11, 12, 13, 14, 15, 16, 17, 18, 19, 21, 22, 23, 24, 25, 26, 27, 28, 29, 30, 31, 32, 33, 34, 35, 36, 37, 38, 39, 40, 41, 42, 43, 44, 45, 46, 47, 48, 49, 50, 51, 52, 53, 54, 55, 56, 58, 59, 60, 61, 62, 63, 64, 65, 66, 69, 70, 71, 72, 73, 74, 75, 76, 77, 78, 79, 80, 81, 82, 83, 84, 85, 86, 87, 88, 89, 90, 91, 92, 93, 94, 95, '2A', '2B']\n"
     ]
    }
   ],
   "source": [
    "## list all the number of regions we can download\n",
    "regions = list(np.arange(1,96))\n",
    "# regions = list(map(str, regions))\n",
    "regions = list(np.delete(regions, [20-1, 57-1, 67-1, 68-1]))\n",
    "regions = regions + ['2A', '2B']\n",
    "print(regions)"
   ]
  },
  {
   "cell_type": "code",
   "execution_count": 3,
   "id": "06059182",
   "metadata": {},
   "outputs": [
    {
     "name": "stdout",
     "output_type": "stream",
     "text": [
      "region n° 1 is already downloaded ! 🚀\n",
      "region n° 2 is already downloaded ! 🚀\n",
      "region n° 3 is already downloaded ! 🚀\n",
      "region n° 4 is already downloaded ! 🚀\n",
      "region n° 5 is already downloaded ! 🚀\n",
      "region n° 6 is already downloaded ! 🚀\n",
      "region n° 7 is already downloaded ! 🚀\n",
      "region n° 8 is already downloaded ! 🚀\n",
      "region n° 9 is already downloaded ! 🚀\n",
      "region n° 10 is already downloaded ! 🚀\n",
      "region n° 11 is already downloaded ! 🚀\n",
      "region n° 12 is already downloaded ! 🚀\n",
      "region n° 13 is already downloaded ! 🚀\n",
      "region n° 14 is already downloaded ! 🚀\n",
      "region n° 15 is already downloaded ! 🚀\n",
      "region n° 16 is already downloaded ! 🚀\n",
      "region n° 17 is already downloaded ! 🚀\n",
      "region n° 18 is already downloaded ! 🚀\n",
      "region n° 19 is already downloaded ! 🚀\n",
      "region n° 21 is already downloaded ! 🚀\n",
      "region n° 22 is already downloaded ! 🚀\n",
      "region n° 23 is already downloaded ! 🚀\n",
      "region n° 24 is already downloaded ! 🚀\n",
      "region n° 25 is already downloaded ! 🚀\n",
      "region n° 26 is already downloaded ! 🚀\n",
      "region n° 27 is already downloaded ! 🚀\n",
      "region n° 28 is already downloaded ! 🚀\n",
      "region n° 29 is already downloaded ! 🚀\n",
      "region n° 30 is already downloaded ! 🚀\n",
      "region n° 31 is already downloaded ! 🚀\n",
      "region n° 32 is already downloaded ! 🚀\n",
      "region n° 33 is already downloaded ! 🚀\n",
      "region n° 34 is already downloaded ! 🚀\n",
      "region n° 35 is already downloaded ! 🚀\n",
      "region n° 36 is already downloaded ! 🚀\n",
      "region n° 37 is already downloaded ! 🚀\n",
      "region n° 38 is already downloaded ! 🚀\n",
      "region n° 39 is already downloaded ! 🚀\n",
      "region n° 40 is already downloaded ! 🚀\n",
      "region n° 41 is already downloaded ! 🚀\n",
      "region n° 42 is already downloaded ! 🚀\n",
      "region n° 43 is already downloaded ! 🚀\n",
      "region n° 44 is already downloaded ! 🚀\n",
      "region n° 45 is already downloaded ! 🚀\n",
      "region n° 46 is already downloaded ! 🚀\n",
      "region n° 47 is already downloaded ! 🚀\n",
      "region n° 48 is already downloaded ! 🚀\n",
      "region n° 49 is already downloaded ! 🚀\n",
      "region n° 50 is already downloaded ! 🚀\n",
      "region n° 51 is already downloaded ! 🚀\n",
      "region n° 52 is already downloaded ! 🚀\n",
      "region n° 53 is already downloaded ! 🚀\n",
      "region n° 54 is already downloaded ! 🚀\n",
      "region n° 55 is already downloaded ! 🚀\n",
      "region n° 56 is already downloaded ! 🚀\n",
      "region n° 58 is already downloaded ! 🚀\n",
      "region n° 59 is already downloaded ! 🚀\n",
      "region n° 60 is already downloaded ! 🚀\n",
      "region n° 61 is already downloaded ! 🚀\n",
      "region n° 62 is already downloaded ! 🚀\n",
      "region n° 63 is already downloaded ! 🚀\n",
      "region n° 64 is already downloaded ! 🚀\n",
      "region n° 65 is already downloaded ! 🚀\n",
      "region n° 66 is already downloaded ! 🚀\n",
      "region n° 69 is already downloaded ! 🚀\n",
      "region n° 70 is already downloaded ! 🚀\n",
      "region n° 71 is already downloaded ! 🚀\n",
      "region n° 72 is already downloaded ! 🚀\n",
      "region n° 73 is already downloaded ! 🚀\n",
      "region n° 74 is already downloaded ! 🚀\n",
      "region n° 75 is already downloaded ! 🚀\n",
      "region n° 76 is already downloaded ! 🚀\n",
      "region n° 77 is already downloaded ! 🚀\n",
      "region n° 78 is already downloaded ! 🚀\n",
      "region n° 79 is already downloaded ! 🚀\n",
      "region n° 80 is already downloaded ! 🚀\n",
      "region n° 81 is already downloaded ! 🚀\n",
      "region n° 82 is already downloaded ! 🚀\n",
      "region n° 83 is already downloaded ! 🚀\n",
      "region n° 84 is already downloaded ! 🚀\n",
      "region n° 85 is already downloaded ! 🚀\n",
      "region n° 86 is already downloaded ! 🚀\n",
      "region n° 87 is already downloaded ! 🚀\n",
      "region n° 88 is already downloaded ! 🚀\n",
      "region n° 89 is already downloaded ! 🚀\n",
      "region n° 90 is already downloaded ! 🚀\n",
      "region n° 91 is already downloaded ! 🚀\n",
      "region n° 92 is already downloaded ! 🚀\n",
      "region n° 93 is already downloaded ! 🚀\n",
      "region n° 94 is already downloaded ! 🚀\n",
      "region n° 95 is already downloaded ! 🚀\n",
      "region n° 2A is already downloaded ! 🚀\n",
      "region n° 2B is already downloaded ! 🚀\n"
     ]
    }
   ],
   "source": [
    "# download all csv files\n",
    "\n",
    "# from pathlib import Path\n",
    "\n",
    "for index, num in enumerate(regions):\n",
    "    if index < 9 :\n",
    "        url = f'https://dvf-api.data.gouv.fr/dvf/csv/?dep=0{num}'\n",
    "    else :\n",
    "        url = f'https://dvf-api.data.gouv.fr/dvf/csv/?dep={num}'\n",
    "\n",
    "    path = Path(f'../raw_data/dvf_{num}.csv')\n",
    "\n",
    "    if not path.is_file():\n",
    "        df = pd.read_csv(url)\n",
    "        df.to_csv(path)\n",
    "        print(f'Downloaded region n° {num} 💪')\n",
    "\n",
    "    else:\n",
    "        print(f'region n° {num} is already downloaded ! 🚀')\n"
   ]
  },
  {
   "cell_type": "code",
   "execution_count": 1,
   "id": "4f9317bc",
   "metadata": {},
   "outputs": [],
   "source": [
    "# # concat all csv files in 1 big dataframe --> too big for the kernel\n",
    "# df = pd.DataFrame()\n",
    "# for num in regions:\n",
    "#     df = pd.concat([df, pd.read_csv(f'../raw_data/dvf_{num}.csv')])"
   ]
  },
  {
   "cell_type": "code",
   "execution_count": null,
   "id": "06d07483",
   "metadata": {},
   "outputs": [],
   "source": [
    "# ### save full df raw as 1 csv\n",
    "# df.to_csv(f'../raw_data/dvf_full_raw.csv')"
   ]
  },
  {
   "cell_type": "code",
   "execution_count": null,
   "id": "f9565fb8",
   "metadata": {},
   "outputs": [],
   "source": [
    "# df.shape"
   ]
  },
  {
   "cell_type": "code",
   "execution_count": null,
   "id": "dd666bfb",
   "metadata": {},
   "outputs": [],
   "source": [
    "# df_dvf = pd.read_csv('../raw_data/dvf_93.csv')\n",
    "\n",
    "# df_dvf.shape"
   ]
  },
  {
   "cell_type": "code",
   "execution_count": null,
   "id": "b729e7cc",
   "metadata": {},
   "outputs": [],
   "source": [
    "df_dvf['code_departement']"
   ]
  },
  {
   "cell_type": "markdown",
   "id": "42b16f51",
   "metadata": {},
   "source": [
    "# 🔎 Exploring"
   ]
  },
  {
   "cell_type": "code",
   "execution_count": null,
   "id": "63c484b7",
   "metadata": {},
   "outputs": [],
   "source": [
    "df_dvf.duplicated().sum()"
   ]
  },
  {
   "cell_type": "code",
   "execution_count": null,
   "id": "bf0ec430",
   "metadata": {},
   "outputs": [],
   "source": [
    "df_dvf['nature_mutation'].unique()"
   ]
  },
  {
   "cell_type": "code",
   "execution_count": null,
   "id": "3ab2b7eb",
   "metadata": {},
   "outputs": [],
   "source": [
    "df_dvf['nature_mutation'].value_counts()"
   ]
  },
  {
   "cell_type": "code",
   "execution_count": null,
   "id": "e11137c2",
   "metadata": {},
   "outputs": [],
   "source": [
    "df_dvf.dtypes"
   ]
  },
  {
   "cell_type": "code",
   "execution_count": null,
   "id": "6b988717",
   "metadata": {},
   "outputs": [],
   "source": [
    "df_dvf.columns"
   ]
  },
  {
   "cell_type": "code",
   "execution_count": null,
   "id": "2c5d707f",
   "metadata": {},
   "outputs": [],
   "source": [
    "df_dvf.isnull().sum()"
   ]
  },
  {
   "cell_type": "code",
   "execution_count": null,
   "id": "376f22f7",
   "metadata": {},
   "outputs": [],
   "source": [
    "df_dvf[['code_postal', 'code_commune', 'nom_commune']].isnull().sum()/len(df_dvf)"
   ]
  },
  {
   "cell_type": "code",
   "execution_count": null,
   "id": "7d6037f7",
   "metadata": {},
   "outputs": [],
   "source": [
    "df_dvf['nombre_lots'].astype('str').value_counts()"
   ]
  },
  {
   "cell_type": "code",
   "execution_count": null,
   "id": "eb3f129e",
   "metadata": {},
   "outputs": [],
   "source": [
    "df_dvf['type_local'].unique()"
   ]
  },
  {
   "cell_type": "markdown",
   "id": "a5c5bd8b",
   "metadata": {},
   "source": [
    "# 🔅 Preprocessing"
   ]
  },
  {
   "cell_type": "markdown",
   "id": "750ad2d5",
   "metadata": {},
   "source": [
    "## 🧹 Keep only useful columns and rows and translate"
   ]
  },
  {
   "cell_type": "markdown",
   "id": "cc0dd0d0",
   "metadata": {},
   "source": [
    "### Removing columns"
   ]
  },
  {
   "cell_type": "code",
   "execution_count": null,
   "id": "bc3be1f9",
   "metadata": {},
   "outputs": [],
   "source": [
    "keep_col =['date_mutation',\n",
    "            'nature_mutation',\n",
    "            'valeur_fonciere',\n",
    "            'code_postal',\n",
    "            'code_commune',\n",
    "            'code_departement',\n",
    "            'nombre_lots',\n",
    "            'type_local',\n",
    "            'surface_reelle_bati',\n",
    "            'nombre_pieces_principales',\n",
    "            'longitude',\n",
    "            'latitude']\n",
    "df_dvf = df_dvf[keep_col]\n",
    "\n",
    "df_dvf.info()"
   ]
  },
  {
   "cell_type": "markdown",
   "id": "09b4d480",
   "metadata": {},
   "source": [
    "### Translate column-names"
   ]
  },
  {
   "cell_type": "code",
   "execution_count": null,
   "id": "72763dbe",
   "metadata": {},
   "outputs": [],
   "source": [
    "df_dvf.columns = ['date', 'built', 'price', 'postal_code',\n",
    "                'city', 'region', 'number_of_units', 'property_type',\n",
    "                'living_area', 'number_of_rooms',\n",
    "                'longitude', 'latitude']"
   ]
  },
  {
   "cell_type": "markdown",
   "id": "d3895ad6",
   "metadata": {},
   "source": [
    "### Remove non-representative rows"
   ]
  },
  {
   "cell_type": "code",
   "execution_count": null,
   "id": "d05b4d1c",
   "metadata": {},
   "outputs": [],
   "source": [
    "df_dvf.shape"
   ]
  },
  {
   "cell_type": "code",
   "execution_count": null,
   "id": "f7a16c5d",
   "metadata": {},
   "outputs": [],
   "source": [
    "df_dvf['built'].unique()"
   ]
  },
  {
   "cell_type": "code",
   "execution_count": null,
   "id": "b104f5f3",
   "metadata": {},
   "outputs": [],
   "source": [
    "df_dvf.shape"
   ]
  },
  {
   "cell_type": "code",
   "execution_count": null,
   "id": "556b3534",
   "metadata": {},
   "outputs": [],
   "source": [
    "df_dvf['built'].unique()"
   ]
  },
  {
   "cell_type": "markdown",
   "id": "cb0dffb1",
   "metadata": {},
   "source": [
    "We want to keep only :\n",
    "- Houses and appartments\n",
    "- Normal sales and off-plan sales\n",
    "- Sales with only one unit"
   ]
  },
  {
   "cell_type": "code",
   "execution_count": null,
   "id": "3be55052",
   "metadata": {},
   "outputs": [],
   "source": [
    "df_dvf['built'].unique()"
   ]
  },
  {
   "cell_type": "code",
   "execution_count": null,
   "id": "f532651a",
   "metadata": {},
   "outputs": [],
   "source": [
    "print('Shape before the masks : ', df_dvf.shape)\n",
    "print('Shape only normal sales', df_dvf[((df_dvf['built'] == \"Vente\") | (df_dvf['built'] == \"Vente en l'état futur d'achèvement\"))].shape)\n",
    "print('Shape only 1 unit', df_dvf[((df_dvf['number_of_units'] == 1) | (df_dvf['number_of_units'] == '1'))].shape)\n",
    "print('Shape only house and appartments', df_dvf[((df_dvf['property_type'] == 'Appartement') | (df_dvf['property_type'] == 'Maison'))].shape)"
   ]
  },
  {
   "cell_type": "code",
   "execution_count": null,
   "id": "ed5e654b",
   "metadata": {},
   "outputs": [],
   "source": [
    "df_useful = df_dvf[((df_dvf['built'] == \"Vente\") | (df_dvf['built'] == \"Vente en l'état futur d'achèvement\")) &\n",
    "                    ((df_dvf['number_of_units'] == 1) | (df_dvf['number_of_units'] == '1')) &\n",
    "                    ((df_dvf['property_type'] == 'Appartement') | (df_dvf['property_type'] == 'Maison'))]\n",
    "df_useful.shape"
   ]
  },
  {
   "cell_type": "code",
   "execution_count": null,
   "id": "793a68b6",
   "metadata": {},
   "outputs": [],
   "source": [
    "## checking that the masks worked correctly\n",
    "print(df_useful['built'].unique())\n",
    "print(df_useful['number_of_units'].unique())\n",
    "print(df_useful['property_type'].unique())\n"
   ]
  },
  {
   "cell_type": "markdown",
   "id": "79e5d1e8",
   "metadata": {},
   "source": [
    "### Translating the values"
   ]
  },
  {
   "cell_type": "code",
   "execution_count": null,
   "id": "2a19961a",
   "metadata": {},
   "outputs": [],
   "source": [
    "trans_dict_built = {'Vente' : 'built',\n",
    "                    'Vente en l’état futur d’achèvement' : 'off-plan'}\n",
    "trans_dict_type = {'Appartement' : 'appartment',\n",
    "                   'Maison' : 'house'}\n",
    "df_useful= df_useful.replace({'built' : trans_dict_built,\n",
    "                             'property type' : trans_dict_type})"
   ]
  },
  {
   "cell_type": "code",
   "execution_count": null,
   "id": "24ae0e34",
   "metadata": {},
   "outputs": [],
   "source": [
    "# checking we didn't lose rows\n",
    "df_useful.shape"
   ]
  },
  {
   "cell_type": "markdown",
   "id": "5636c427",
   "metadata": {},
   "source": [
    "## Dropping duplicates and NaNs"
   ]
  },
  {
   "cell_type": "code",
   "execution_count": null,
   "id": "09d98eed",
   "metadata": {},
   "outputs": [],
   "source": [
    "df_useful.columns"
   ]
  },
  {
   "cell_type": "code",
   "execution_count": null,
   "id": "2e3a45c7",
   "metadata": {},
   "outputs": [],
   "source": [
    "## dropping the column with number of units (only 1s)\n",
    "df_useful = df_useful.drop(columns='number_of_units')"
   ]
  },
  {
   "cell_type": "code",
   "execution_count": null,
   "id": "c7d6e3eb",
   "metadata": {},
   "outputs": [],
   "source": [
    "df_useful.columns"
   ]
  },
  {
   "cell_type": "code",
   "execution_count": null,
   "id": "73df1970",
   "metadata": {},
   "outputs": [],
   "source": [
    "## checking for NaN values\n",
    "df_useful.isna().sum()\n",
    "df_useful = df_useful.dropna()\n",
    "df_useful.shape\n",
    "df_useful = df_useful.drop_duplicates()\n",
    "df_useful.shape"
   ]
  },
  {
   "cell_type": "markdown",
   "id": "5529d134",
   "metadata": {},
   "source": [
    "## Changing everything to the right type"
   ]
  },
  {
   "cell_type": "code",
   "execution_count": null,
   "id": "23829c8f",
   "metadata": {},
   "outputs": [],
   "source": [
    "col_float = ['price', 'longitude', 'latitude', 'postal_code', 'living_area', 'number_of_rooms']\n",
    "col_string = ['built','city', 'region','property_type']\n",
    "col_date = ['date']\n",
    "### Formating data types ####\n",
    "df_useful[col_float] = df_useful[col_float].apply(lambda x: pd.to_numeric(x, errors='coerce').astype('float64'))\n",
    "df_useful[col_date]= df_useful[col_date].apply(lambda x: pd.to_datetime(x, errors='coerce'))\n",
    "\n",
    "df_useful.info()"
   ]
  },
  {
   "cell_type": "code",
   "execution_count": null,
   "id": "174597fd",
   "metadata": {},
   "outputs": [],
   "source": [
    "df_useful.shape"
   ]
  },
  {
   "cell_type": "code",
   "execution_count": null,
   "id": "f92047e1",
   "metadata": {},
   "outputs": [],
   "source": [
    "df_useful.head()"
   ]
  },
  {
   "cell_type": "code",
   "execution_count": null,
   "id": "a147c3dc",
   "metadata": {},
   "outputs": [],
   "source": [
    "# import folium\n",
    "# m = folium.Map(location = [-33.8, 151.2], tiles ='OpenStreetMap', zoom_start=11)\n",
    "import seaborn as sns\n",
    "sns.scatterplot(x = df_useful['longitude'], y = df_useful['latitude'])"
   ]
  },
  {
   "cell_type": "markdown",
   "id": "c7859595",
   "metadata": {},
   "source": [
    "## 🤓 Feature engineering"
   ]
  },
  {
   "cell_type": "code",
   "execution_count": null,
   "id": "5dcb29fd",
   "metadata": {},
   "outputs": [],
   "source": [
    "df_dvf['prix_m_2'] = df_dvf['valeur_fonciere']/ df_dvf['surface_reelle_bati']\n",
    "\n",
    "\n",
    "\n",
    "df_dvf.head(5)"
   ]
  },
  {
   "cell_type": "code",
   "execution_count": null,
   "id": "46a64ba2",
   "metadata": {},
   "outputs": [],
   "source": [
    "df_dvf['surface_terrain'].fillna(value=0, inplace=True)\n",
    "\n",
    "df_dvf.head(5)"
   ]
  },
  {
   "cell_type": "code",
   "execution_count": null,
   "id": "4e6591de",
   "metadata": {},
   "outputs": [],
   "source": [
    "df_dvf.info()"
   ]
  },
  {
   "cell_type": "code",
   "execution_count": null,
   "id": "d0a6cf95",
   "metadata": {},
   "outputs": [],
   "source": [
    "df_dvf.head(5)"
   ]
  },
  {
   "cell_type": "code",
   "execution_count": null,
   "id": "a7926f26",
   "metadata": {},
   "outputs": [],
   "source": [
    "import project"
   ]
  },
  {
   "cell_type": "code",
   "execution_count": null,
   "id": "33e400ac",
   "metadata": {},
   "outputs": [],
   "source": [
    "df_dvf"
   ]
  },
  {
   "cell_type": "markdown",
   "id": "2073c7dd",
   "metadata": {},
   "source": []
  },
  {
   "cell_type": "code",
   "execution_count": null,
   "id": "c791822e",
   "metadata": {},
   "outputs": [],
   "source": []
  },
  {
   "cell_type": "code",
   "execution_count": null,
   "id": "6dd71749",
   "metadata": {},
   "outputs": [],
   "source": []
  },
  {
   "cell_type": "code",
   "execution_count": null,
   "id": "53213e0a",
   "metadata": {},
   "outputs": [],
   "source": []
  },
  {
   "cell_type": "code",
   "execution_count": null,
   "id": "0bc5d34d",
   "metadata": {},
   "outputs": [],
   "source": []
  },
  {
   "cell_type": "code",
   "execution_count": null,
   "id": "8f4d51ad",
   "metadata": {},
   "outputs": [],
   "source": []
  }
 ],
 "metadata": {
  "kernelspec": {
   "display_name": "Python 3 (ipykernel)",
   "language": "python",
   "name": "python3"
  },
  "language_info": {
   "codemirror_mode": {
    "name": "ipython",
    "version": 3
   },
   "file_extension": ".py",
   "mimetype": "text/x-python",
   "name": "python",
   "nbconvert_exporter": "python",
   "pygments_lexer": "ipython3",
   "version": "3.10.6"
  },
  "toc": {
   "base_numbering": 1,
   "nav_menu": {},
   "number_sections": true,
   "sideBar": true,
   "skip_h1_title": false,
   "title_cell": "Table of Contents",
   "title_sidebar": "Contents",
   "toc_cell": false,
   "toc_position": {},
   "toc_section_display": true,
   "toc_window_display": false
  }
 },
 "nbformat": 4,
 "nbformat_minor": 5
}
