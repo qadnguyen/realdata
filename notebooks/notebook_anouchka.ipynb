{
 "cells": [
  {
   "cell_type": "markdown",
   "id": "6f18eb81",
   "metadata": {},
   "source": [
    "# ⬇️ Imports"
   ]
  },
  {
   "cell_type": "code",
   "execution_count": 1,
   "id": "e22b5836",
   "metadata": {},
   "outputs": [],
   "source": [
    "import pandas as pd\n",
    "import numpy as np\n",
    "import matplotlib as plt\n",
    "from pathlib import Path\n",
    "\n",
    "\n",
    "import warnings\n",
    "warnings.filterwarnings('ignore')\n"
   ]
  },
  {
   "cell_type": "markdown",
   "id": "35334902",
   "metadata": {},
   "source": [
    "# ✅ Downloading the data"
   ]
  },
  {
   "cell_type": "markdown",
   "id": "65a63758",
   "metadata": {},
   "source": [
    "region (department) exceptions :\n",
    "- 20 not existing ->2A and 2B\n",
    "- 57, 67, 68 -> no data\n",
    "- 69 -> 69D and 59M"
   ]
  },
  {
   "cell_type": "code",
   "execution_count": 2,
   "id": "09c85fba",
   "metadata": {},
   "outputs": [
    {
     "name": "stdout",
     "output_type": "stream",
     "text": [
      "[1, 2, 3, 4, 5, 6, 7, 8, 9, 10, 11, 12, 13, 14, 15, 16, 17, 18, 19, 21, 22, 23, 24, 25, 26, 27, 28, 29, 30, 31, 32, 33, 34, 35, 36, 37, 38, 39, 40, 41, 42, 43, 44, 45, 46, 47, 48, 49, 50, 51, 52, 53, 54, 55, 56, 58, 59, 60, 61, 62, 63, 64, 65, 66, 69, 70, 71, 72, 73, 74, 75, 76, 77, 78, 79, 80, 81, 82, 83, 84, 85, 86, 87, 88, 89, 90, 91, 92, 93, 94, 95, '2A', '2B']\n"
     ]
    }
   ],
   "source": [
    "## list all the number of regions we can download\n",
    "regions = list(np.arange(1,96))\n",
    "# regions = list(map(str, regions))\n",
    "regions = list(np.delete(regions, [20-1, 57-1, 67-1, 68-1]))\n",
    "regions = regions + ['2A', '2B']\n",
    "print(regions)"
   ]
  },
  {
   "cell_type": "code",
   "execution_count": 3,
   "id": "06059182",
   "metadata": {},
   "outputs": [
    {
     "name": "stdout",
     "output_type": "stream",
     "text": [
      "region n° 1 is already downloaded ! 🚀\n",
      "region n° 2 is already downloaded ! 🚀\n",
      "region n° 3 is already downloaded ! 🚀\n",
      "region n° 4 is already downloaded ! 🚀\n",
      "region n° 5 is already downloaded ! 🚀\n",
      "region n° 6 is already downloaded ! 🚀\n",
      "region n° 7 is already downloaded ! 🚀\n",
      "region n° 8 is already downloaded ! 🚀\n",
      "region n° 9 is already downloaded ! 🚀\n",
      "region n° 10 is already downloaded ! 🚀\n",
      "region n° 11 is already downloaded ! 🚀\n",
      "region n° 12 is already downloaded ! 🚀\n",
      "region n° 13 is already downloaded ! 🚀\n",
      "region n° 14 is already downloaded ! 🚀\n",
      "region n° 15 is already downloaded ! 🚀\n",
      "region n° 16 is already downloaded ! 🚀\n",
      "region n° 17 is already downloaded ! 🚀\n",
      "region n° 18 is already downloaded ! 🚀\n",
      "region n° 19 is already downloaded ! 🚀\n",
      "region n° 21 is already downloaded ! 🚀\n",
      "region n° 22 is already downloaded ! 🚀\n",
      "region n° 23 is already downloaded ! 🚀\n",
      "region n° 24 is already downloaded ! 🚀\n",
      "region n° 25 is already downloaded ! 🚀\n",
      "region n° 26 is already downloaded ! 🚀\n",
      "region n° 27 is already downloaded ! 🚀\n",
      "region n° 28 is already downloaded ! 🚀\n",
      "region n° 29 is already downloaded ! 🚀\n",
      "region n° 30 is already downloaded ! 🚀\n",
      "region n° 31 is already downloaded ! 🚀\n",
      "region n° 32 is already downloaded ! 🚀\n",
      "region n° 33 is already downloaded ! 🚀\n",
      "region n° 34 is already downloaded ! 🚀\n",
      "region n° 35 is already downloaded ! 🚀\n",
      "region n° 36 is already downloaded ! 🚀\n",
      "region n° 37 is already downloaded ! 🚀\n",
      "region n° 38 is already downloaded ! 🚀\n",
      "region n° 39 is already downloaded ! 🚀\n",
      "region n° 40 is already downloaded ! 🚀\n",
      "region n° 41 is already downloaded ! 🚀\n",
      "region n° 42 is already downloaded ! 🚀\n",
      "region n° 43 is already downloaded ! 🚀\n",
      "region n° 44 is already downloaded ! 🚀\n",
      "region n° 45 is already downloaded ! 🚀\n",
      "region n° 46 is already downloaded ! 🚀\n",
      "region n° 47 is already downloaded ! 🚀\n",
      "region n° 48 is already downloaded ! 🚀\n",
      "region n° 49 is already downloaded ! 🚀\n",
      "region n° 50 is already downloaded ! 🚀\n",
      "region n° 51 is already downloaded ! 🚀\n",
      "region n° 52 is already downloaded ! 🚀\n",
      "region n° 53 is already downloaded ! 🚀\n",
      "region n° 54 is already downloaded ! 🚀\n",
      "region n° 55 is already downloaded ! 🚀\n",
      "region n° 56 is already downloaded ! 🚀\n",
      "region n° 58 is already downloaded ! 🚀\n",
      "region n° 59 is already downloaded ! 🚀\n",
      "region n° 60 is already downloaded ! 🚀\n",
      "region n° 61 is already downloaded ! 🚀\n",
      "region n° 62 is already downloaded ! 🚀\n",
      "region n° 63 is already downloaded ! 🚀\n",
      "region n° 64 is already downloaded ! 🚀\n",
      "region n° 65 is already downloaded ! 🚀\n",
      "region n° 66 is already downloaded ! 🚀\n",
      "region n° 69 is already downloaded ! 🚀\n",
      "region n° 70 is already downloaded ! 🚀\n",
      "region n° 71 is already downloaded ! 🚀\n",
      "region n° 72 is already downloaded ! 🚀\n",
      "region n° 73 is already downloaded ! 🚀\n",
      "region n° 74 is already downloaded ! 🚀\n",
      "region n° 75 is already downloaded ! 🚀\n",
      "region n° 76 is already downloaded ! 🚀\n",
      "region n° 77 is already downloaded ! 🚀\n",
      "region n° 78 is already downloaded ! 🚀\n",
      "region n° 79 is already downloaded ! 🚀\n",
      "region n° 80 is already downloaded ! 🚀\n",
      "region n° 81 is already downloaded ! 🚀\n",
      "region n° 82 is already downloaded ! 🚀\n",
      "region n° 83 is already downloaded ! 🚀\n",
      "region n° 84 is already downloaded ! 🚀\n",
      "region n° 85 is already downloaded ! 🚀\n",
      "region n° 86 is already downloaded ! 🚀\n",
      "region n° 87 is already downloaded ! 🚀\n",
      "region n° 88 is already downloaded ! 🚀\n",
      "region n° 89 is already downloaded ! 🚀\n",
      "region n° 90 is already downloaded ! 🚀\n",
      "region n° 91 is already downloaded ! 🚀\n",
      "region n° 92 is already downloaded ! 🚀\n",
      "region n° 93 is already downloaded ! 🚀\n",
      "region n° 94 is already downloaded ! 🚀\n",
      "region n° 95 is already downloaded ! 🚀\n",
      "region n° 2A is already downloaded ! 🚀\n",
      "region n° 2B is already downloaded ! 🚀\n"
     ]
    }
   ],
   "source": [
    "# download all csv files\n",
    "\n",
    "# from pathlib import Path\n",
    "\n",
    "for index, num in enumerate(regions):\n",
    "    if index < 9 :\n",
    "        url = f'https://dvf-api.data.gouv.fr/dvf/csv/?dep=0{num}'\n",
    "    else :\n",
    "        url = f'https://dvf-api.data.gouv.fr/dvf/csv/?dep={num}'\n",
    "\n",
    "    path = Path(f'../raw_data/dvf_{num}.csv')\n",
    "\n",
    "    if not path.is_file():\n",
    "        df = pd.read_csv(url)\n",
    "        df.to_csv(path)\n",
    "        print(f'Downloaded region n° {num} 💪')\n",
    "\n",
    "    else:\n",
    "        print(f'region n° {num} is already downloaded ! 🚀')\n"
   ]
  },
  {
   "cell_type": "code",
   "execution_count": 4,
   "id": "4f9317bc",
   "metadata": {},
   "outputs": [],
   "source": [
    "# # concat all csv files in 1 big dataframe --> too big for the kernel\n",
    "# df = pd.DataFrame()\n",
    "# for num in regions[:20]:\n",
    "#     df = pd.concat([df, pd.read_csv(f'../raw_data/dvf_{num}.csv')])"
   ]
  },
  {
   "cell_type": "markdown",
   "id": "8599451b",
   "metadata": {},
   "source": [
    "> trying to concat everything in part (not killing the kernel)"
   ]
  },
  {
   "cell_type": "code",
   "execution_count": 5,
   "id": "cf77160c",
   "metadata": {},
   "outputs": [],
   "source": [
    "# df20 = pd.DataFrame()\n",
    "# for num in regions[:20]:\n",
    "#     df20 = pd.concat([df20, pd.read_csv(f'../raw_data/dvf_{num}.csv')])\n",
    "#### NOT WORKING..."
   ]
  },
  {
   "cell_type": "code",
   "execution_count": 6,
   "id": "06d07483",
   "metadata": {},
   "outputs": [],
   "source": [
    "# ### save full df raw as 1 csv\n",
    "# df.to_csv(f'../raw_data/dvf_full_raw.csv')"
   ]
  },
  {
   "cell_type": "code",
   "execution_count": 7,
   "id": "dd666bfb",
   "metadata": {},
   "outputs": [
    {
     "data": {
      "text/plain": [
       "(271360, 42)"
      ]
     },
     "execution_count": 7,
     "metadata": {},
     "output_type": "execute_result"
    }
   ],
   "source": [
    "df_dvf = pd.read_csv('../raw_data/dvf_93.csv')\n",
    "\n",
    "df_dvf.shape"
   ]
  },
  {
   "cell_type": "markdown",
   "id": "42b16f51",
   "metadata": {},
   "source": [
    "# 🔎 Exploring"
   ]
  },
  {
   "cell_type": "code",
   "execution_count": 8,
   "id": "63c484b7",
   "metadata": {},
   "outputs": [
    {
     "data": {
      "text/plain": [
       "0"
      ]
     },
     "execution_count": 8,
     "metadata": {},
     "output_type": "execute_result"
    }
   ],
   "source": [
    "df_dvf.duplicated().sum()"
   ]
  },
  {
   "cell_type": "code",
   "execution_count": 9,
   "id": "bf0ec430",
   "metadata": {},
   "outputs": [
    {
     "data": {
      "text/plain": [
       "array([\"Vente en l'état futur d'achèvement\", 'Vente', 'Echange',\n",
       "       'Vente terrain à bâtir', 'Expropriation', 'Adjudication',\n",
       "       'nature_mutation'], dtype=object)"
      ]
     },
     "execution_count": 9,
     "metadata": {},
     "output_type": "execute_result"
    }
   ],
   "source": [
    "df_dvf['nature_mutation'].unique()"
   ]
  },
  {
   "cell_type": "code",
   "execution_count": 10,
   "id": "3ab2b7eb",
   "metadata": {},
   "outputs": [
    {
     "data": {
      "text/plain": [
       "Vente                                 193157\n",
       "Vente en l'état futur d'achèvement     75039\n",
       "Adjudication                            1366\n",
       "Expropriation                            849\n",
       "Echange                                  796\n",
       "Vente terrain à bâtir                    148\n",
       "nature_mutation                            5\n",
       "Name: nature_mutation, dtype: int64"
      ]
     },
     "execution_count": 10,
     "metadata": {},
     "output_type": "execute_result"
    }
   ],
   "source": [
    "df_dvf['nature_mutation'].value_counts()"
   ]
  },
  {
   "cell_type": "code",
   "execution_count": 11,
   "id": "e11137c2",
   "metadata": {},
   "outputs": [
    {
     "data": {
      "text/plain": [
       "Unnamed: 0                       int64\n",
       "id_mutation                     object\n",
       "date_mutation                   object\n",
       "numero_disposition              object\n",
       "nature_mutation                 object\n",
       "valeur_fonciere                 object\n",
       "adresse_numero                  object\n",
       "adresse_suffixe                 object\n",
       "adresse_nom_voie                object\n",
       "adresse_code_voie               object\n",
       "code_postal                     object\n",
       "code_commune                    object\n",
       "nom_commune                     object\n",
       "code_departement                object\n",
       "ancien_code_commune             object\n",
       "ancien_nom_commune              object\n",
       "id_parcelle                     object\n",
       "ancien_id_parcelle              object\n",
       "numero_volume                   object\n",
       "lot1_numero                     object\n",
       "lot1_surface_carrez             object\n",
       "lot2_numero                     object\n",
       "lot2_surface_carrez             object\n",
       "lot3_numero                     object\n",
       "lot3_surface_carrez             object\n",
       "lot4_numero                     object\n",
       "lot4_surface_carrez             object\n",
       "lot5_numero                     object\n",
       "lot5_surface_carrez             object\n",
       "nombre_lots                     object\n",
       "code_type_local                 object\n",
       "type_local                      object\n",
       "surface_reelle_bati             object\n",
       "nombre_pieces_principales       object\n",
       "code_nature_culture             object\n",
       "nature_culture                  object\n",
       "code_nature_culture_speciale    object\n",
       "nature_culture_speciale         object\n",
       "surface_terrain                 object\n",
       "longitude                       object\n",
       "latitude                        object\n",
       "section_prefixe                 object\n",
       "dtype: object"
      ]
     },
     "execution_count": 11,
     "metadata": {},
     "output_type": "execute_result"
    }
   ],
   "source": [
    "df_dvf.dtypes"
   ]
  },
  {
   "cell_type": "code",
   "execution_count": 12,
   "id": "6b988717",
   "metadata": {},
   "outputs": [
    {
     "data": {
      "text/plain": [
       "Index(['Unnamed: 0', 'id_mutation', 'date_mutation', 'numero_disposition',\n",
       "       'nature_mutation', 'valeur_fonciere', 'adresse_numero',\n",
       "       'adresse_suffixe', 'adresse_nom_voie', 'adresse_code_voie',\n",
       "       'code_postal', 'code_commune', 'nom_commune', 'code_departement',\n",
       "       'ancien_code_commune', 'ancien_nom_commune', 'id_parcelle',\n",
       "       'ancien_id_parcelle', 'numero_volume', 'lot1_numero',\n",
       "       'lot1_surface_carrez', 'lot2_numero', 'lot2_surface_carrez',\n",
       "       'lot3_numero', 'lot3_surface_carrez', 'lot4_numero',\n",
       "       'lot4_surface_carrez', 'lot5_numero', 'lot5_surface_carrez',\n",
       "       'nombre_lots', 'code_type_local', 'type_local', 'surface_reelle_bati',\n",
       "       'nombre_pieces_principales', 'code_nature_culture', 'nature_culture',\n",
       "       'code_nature_culture_speciale', 'nature_culture_speciale',\n",
       "       'surface_terrain', 'longitude', 'latitude', 'section_prefixe'],\n",
       "      dtype='object')"
      ]
     },
     "execution_count": 12,
     "metadata": {},
     "output_type": "execute_result"
    }
   ],
   "source": [
    "df_dvf.columns"
   ]
  },
  {
   "cell_type": "code",
   "execution_count": 13,
   "id": "2c5d707f",
   "metadata": {},
   "outputs": [
    {
     "data": {
      "text/plain": [
       "Unnamed: 0                           0\n",
       "id_mutation                          0\n",
       "date_mutation                        0\n",
       "numero_disposition                   0\n",
       "nature_mutation                      0\n",
       "valeur_fonciere                   1627\n",
       "adresse_numero                   28993\n",
       "adresse_suffixe                 258562\n",
       "adresse_nom_voie                 11072\n",
       "adresse_code_voie                11072\n",
       "code_postal                      11072\n",
       "code_commune                         0\n",
       "nom_commune                          0\n",
       "code_departement                     0\n",
       "ancien_code_commune             271355\n",
       "ancien_nom_commune              271355\n",
       "id_parcelle                          0\n",
       "ancien_id_parcelle              271355\n",
       "numero_volume                   269744\n",
       "lot1_numero                      73453\n",
       "lot1_surface_carrez             229403\n",
       "lot2_numero                     226927\n",
       "lot2_surface_carrez             259898\n",
       "lot3_numero                     265832\n",
       "lot3_surface_carrez             270521\n",
       "lot4_numero                     269417\n",
       "lot4_surface_carrez             271128\n",
       "lot5_numero                     270538\n",
       "lot5_surface_carrez             271300\n",
       "nombre_lots                          0\n",
       "code_type_local                  58926\n",
       "type_local                       58926\n",
       "surface_reelle_bati             144100\n",
       "nombre_pieces_principales        59084\n",
       "code_nature_culture             198810\n",
       "nature_culture                  198810\n",
       "code_nature_culture_speciale    268030\n",
       "nature_culture_speciale         268030\n",
       "surface_terrain                 198810\n",
       "longitude                         7383\n",
       "latitude                          7383\n",
       "section_prefixe                      0\n",
       "dtype: int64"
      ]
     },
     "execution_count": 13,
     "metadata": {},
     "output_type": "execute_result"
    }
   ],
   "source": [
    "df_dvf.isnull().sum()"
   ]
  },
  {
   "cell_type": "code",
   "execution_count": 14,
   "id": "376f22f7",
   "metadata": {},
   "outputs": [
    {
     "data": {
      "text/plain": [
       "code_postal     0.040802\n",
       "code_commune    0.000000\n",
       "nom_commune     0.000000\n",
       "dtype: float64"
      ]
     },
     "execution_count": 14,
     "metadata": {},
     "output_type": "execute_result"
    }
   ],
   "source": [
    "df_dvf[['code_postal', 'code_commune', 'nom_commune']].isnull().sum()/len(df_dvf)"
   ]
  },
  {
   "cell_type": "code",
   "execution_count": 15,
   "id": "7d6037f7",
   "metadata": {},
   "outputs": [
    {
     "data": {
      "text/plain": [
       "1              153474\n",
       "0               73453\n",
       "2               38905\n",
       "3                3585\n",
       "4                1121\n",
       "5                 356\n",
       "6                 179\n",
       "7                 120\n",
       "9                  42\n",
       "8                  35\n",
       "10                 12\n",
       "12                  7\n",
       "17                  7\n",
       "22                  6\n",
       "11                  6\n",
       "15                  5\n",
       "nombre_lots         5\n",
       "13                  5\n",
       "25                  4\n",
       "21                  3\n",
       "14                  3\n",
       "45                  3\n",
       "33                  3\n",
       "61                  2\n",
       "44                  2\n",
       "28                  2\n",
       "19                  2\n",
       "31                  2\n",
       "23                  2\n",
       "95                  1\n",
       "34                  1\n",
       "16                  1\n",
       "20                  1\n",
       "27                  1\n",
       "49                  1\n",
       "72                  1\n",
       "150                 1\n",
       "80                  1\n",
       "Name: nombre_lots, dtype: int64"
      ]
     },
     "execution_count": 15,
     "metadata": {},
     "output_type": "execute_result"
    }
   ],
   "source": [
    "df_dvf['nombre_lots'].astype('str').value_counts()"
   ]
  },
  {
   "cell_type": "code",
   "execution_count": 16,
   "id": "eb3f129e",
   "metadata": {},
   "outputs": [
    {
     "data": {
      "text/plain": [
       "array([nan, 'Dépendance', 'Appartement', 'Maison',\n",
       "       'Local industriel. commercial ou assimilé', 'type_local'],\n",
       "      dtype=object)"
      ]
     },
     "execution_count": 16,
     "metadata": {},
     "output_type": "execute_result"
    }
   ],
   "source": [
    "df_dvf['type_local'].unique()"
   ]
  },
  {
   "cell_type": "markdown",
   "id": "a5c5bd8b",
   "metadata": {},
   "source": [
    "# 🔅 Preprocessing"
   ]
  },
  {
   "cell_type": "markdown",
   "id": "750ad2d5",
   "metadata": {},
   "source": [
    "## 🧹 Keep only useful columns and rows and translate"
   ]
  },
  {
   "cell_type": "markdown",
   "id": "cc0dd0d0",
   "metadata": {},
   "source": [
    "### Removing columns"
   ]
  },
  {
   "cell_type": "code",
   "execution_count": 17,
   "id": "bc3be1f9",
   "metadata": {},
   "outputs": [
    {
     "name": "stdout",
     "output_type": "stream",
     "text": [
      "<class 'pandas.core.frame.DataFrame'>\n",
      "RangeIndex: 271360 entries, 0 to 271359\n",
      "Data columns (total 12 columns):\n",
      " #   Column                     Non-Null Count   Dtype \n",
      "---  ------                     --------------   ----- \n",
      " 0   date_mutation              271360 non-null  object\n",
      " 1   nature_mutation            271360 non-null  object\n",
      " 2   valeur_fonciere            269733 non-null  object\n",
      " 3   code_postal                260288 non-null  object\n",
      " 4   code_commune               271360 non-null  object\n",
      " 5   code_departement           271360 non-null  object\n",
      " 6   nombre_lots                271360 non-null  object\n",
      " 7   type_local                 212434 non-null  object\n",
      " 8   surface_reelle_bati        127260 non-null  object\n",
      " 9   nombre_pieces_principales  212276 non-null  object\n",
      " 10  longitude                  263977 non-null  object\n",
      " 11  latitude                   263977 non-null  object\n",
      "dtypes: object(12)\n",
      "memory usage: 24.8+ MB\n"
     ]
    }
   ],
   "source": [
    "keep_col =['date_mutation',\n",
    "            'nature_mutation',\n",
    "            'valeur_fonciere',\n",
    "            'code_postal',\n",
    "            'code_commune',\n",
    "            'code_departement',\n",
    "            'nombre_lots',\n",
    "            'type_local',\n",
    "            'surface_reelle_bati',\n",
    "            'nombre_pieces_principales',\n",
    "            'longitude',\n",
    "            'latitude']\n",
    "df_dvf = df_dvf[keep_col]\n",
    "\n",
    "df_dvf.info()"
   ]
  },
  {
   "cell_type": "markdown",
   "id": "09b4d480",
   "metadata": {},
   "source": [
    "### Translate column-names"
   ]
  },
  {
   "cell_type": "code",
   "execution_count": 18,
   "id": "72763dbe",
   "metadata": {},
   "outputs": [],
   "source": [
    "df_dvf.columns = ['date', 'built', 'price', 'postal_code',\n",
    "                'city', 'region', 'number_of_units', 'property_type',\n",
    "                'living_area', 'number_of_rooms',\n",
    "                'longitude', 'latitude']"
   ]
  },
  {
   "cell_type": "markdown",
   "id": "d3895ad6",
   "metadata": {},
   "source": [
    "### Remove non-representative rows"
   ]
  },
  {
   "cell_type": "code",
   "execution_count": 19,
   "id": "d05b4d1c",
   "metadata": {},
   "outputs": [
    {
     "data": {
      "text/plain": [
       "(271360, 12)"
      ]
     },
     "execution_count": 19,
     "metadata": {},
     "output_type": "execute_result"
    }
   ],
   "source": [
    "df_dvf.shape"
   ]
  },
  {
   "cell_type": "code",
   "execution_count": 20,
   "id": "f7a16c5d",
   "metadata": {},
   "outputs": [
    {
     "data": {
      "text/plain": [
       "array([\"Vente en l'état futur d'achèvement\", 'Vente', 'Echange',\n",
       "       'Vente terrain à bâtir', 'Expropriation', 'Adjudication',\n",
       "       'nature_mutation'], dtype=object)"
      ]
     },
     "execution_count": 20,
     "metadata": {},
     "output_type": "execute_result"
    }
   ],
   "source": [
    "df_dvf['built'].unique()"
   ]
  },
  {
   "cell_type": "code",
   "execution_count": 21,
   "id": "b104f5f3",
   "metadata": {},
   "outputs": [
    {
     "data": {
      "text/plain": [
       "(271360, 12)"
      ]
     },
     "execution_count": 21,
     "metadata": {},
     "output_type": "execute_result"
    }
   ],
   "source": [
    "df_dvf.shape"
   ]
  },
  {
   "cell_type": "code",
   "execution_count": 22,
   "id": "556b3534",
   "metadata": {},
   "outputs": [
    {
     "data": {
      "text/plain": [
       "array([\"Vente en l'état futur d'achèvement\", 'Vente', 'Echange',\n",
       "       'Vente terrain à bâtir', 'Expropriation', 'Adjudication',\n",
       "       'nature_mutation'], dtype=object)"
      ]
     },
     "execution_count": 22,
     "metadata": {},
     "output_type": "execute_result"
    }
   ],
   "source": [
    "df_dvf['built'].unique()"
   ]
  },
  {
   "cell_type": "markdown",
   "id": "cb0dffb1",
   "metadata": {},
   "source": [
    "We want to keep only :\n",
    "- Houses and appartments\n",
    "- Normal sales and off-plan sales\n",
    "- Sales with only one unit"
   ]
  },
  {
   "cell_type": "code",
   "execution_count": 23,
   "id": "3be55052",
   "metadata": {},
   "outputs": [
    {
     "data": {
      "text/plain": [
       "array([\"Vente en l'état futur d'achèvement\", 'Vente', 'Echange',\n",
       "       'Vente terrain à bâtir', 'Expropriation', 'Adjudication',\n",
       "       'nature_mutation'], dtype=object)"
      ]
     },
     "execution_count": 23,
     "metadata": {},
     "output_type": "execute_result"
    }
   ],
   "source": [
    "df_dvf['built'].unique()"
   ]
  },
  {
   "cell_type": "code",
   "execution_count": 24,
   "id": "f532651a",
   "metadata": {},
   "outputs": [
    {
     "name": "stdout",
     "output_type": "stream",
     "text": [
      "Shape before the masks :  (271360, 12)\n",
      "Shape only normal sales (268196, 12)\n",
      "Shape only 1 unit (153474, 12)\n",
      "Shape only house and appartments (115664, 12)\n"
     ]
    }
   ],
   "source": [
    "print('Shape before the masks : ', df_dvf.shape)\n",
    "print('Shape only normal sales', df_dvf[((df_dvf['built'] == \"Vente\") | (df_dvf['built'] == \"Vente en l'état futur d'achèvement\"))].shape)\n",
    "print('Shape only 1 unit', df_dvf[((df_dvf['number_of_units'] == 1) | (df_dvf['number_of_units'] == '1'))].shape)\n",
    "print('Shape only house and appartments', df_dvf[((df_dvf['property_type'] == 'Appartement') | (df_dvf['property_type'] == 'Maison'))].shape)"
   ]
  },
  {
   "cell_type": "code",
   "execution_count": 25,
   "id": "ed5e654b",
   "metadata": {},
   "outputs": [
    {
     "data": {
      "text/plain": [
       "(42903, 12)"
      ]
     },
     "execution_count": 25,
     "metadata": {},
     "output_type": "execute_result"
    }
   ],
   "source": [
    "df_useful = df_dvf[((df_dvf['built'] == \"Vente\") | (df_dvf['built'] == \"Vente en l'état futur d'achèvement\")) &\n",
    "                    ((df_dvf['number_of_units'] == 1) | (df_dvf['number_of_units'] == '1')) &\n",
    "                    ((df_dvf['property_type'] == 'Appartement') | (df_dvf['property_type'] == 'Maison'))]\n",
    "df_useful.shape"
   ]
  },
  {
   "cell_type": "code",
   "execution_count": 26,
   "id": "793a68b6",
   "metadata": {},
   "outputs": [
    {
     "name": "stdout",
     "output_type": "stream",
     "text": [
      "['Vente' \"Vente en l'état futur d'achèvement\"]\n",
      "[1 '1']\n",
      "['Maison' 'Appartement']\n"
     ]
    }
   ],
   "source": [
    "## checking that the masks worked correctly\n",
    "print(df_useful['built'].unique())\n",
    "print(df_useful['number_of_units'].unique())\n",
    "print(df_useful['property_type'].unique())\n"
   ]
  },
  {
   "cell_type": "markdown",
   "id": "79e5d1e8",
   "metadata": {},
   "source": [
    "### Translating the values"
   ]
  },
  {
   "cell_type": "code",
   "execution_count": 27,
   "id": "2a19961a",
   "metadata": {},
   "outputs": [],
   "source": [
    "trans_dict_built = {'Vente' : 'built',\n",
    "                    'Vente en l’état futur d’achèvement' : 'off-plan'}\n",
    "trans_dict_type = {'Appartement' : 'appartment',\n",
    "                   'Maison' : 'house'}\n",
    "df_useful= df_useful.replace({'built' : trans_dict_built,\n",
    "                             'property type' : trans_dict_type})"
   ]
  },
  {
   "cell_type": "code",
   "execution_count": 28,
   "id": "24ae0e34",
   "metadata": {},
   "outputs": [
    {
     "data": {
      "text/plain": [
       "(42903, 12)"
      ]
     },
     "execution_count": 28,
     "metadata": {},
     "output_type": "execute_result"
    }
   ],
   "source": [
    "# checking we didn't lose rows\n",
    "df_useful.shape"
   ]
  },
  {
   "cell_type": "markdown",
   "id": "5636c427",
   "metadata": {},
   "source": [
    "## 🚮 Dropping duplicates and NaNs"
   ]
  },
  {
   "cell_type": "code",
   "execution_count": 29,
   "id": "09d98eed",
   "metadata": {},
   "outputs": [
    {
     "data": {
      "text/plain": [
       "Index(['date', 'built', 'price', 'postal_code', 'city', 'region',\n",
       "       'number_of_units', 'property_type', 'living_area', 'number_of_rooms',\n",
       "       'longitude', 'latitude'],\n",
       "      dtype='object')"
      ]
     },
     "execution_count": 29,
     "metadata": {},
     "output_type": "execute_result"
    }
   ],
   "source": [
    "df_useful.columns"
   ]
  },
  {
   "cell_type": "code",
   "execution_count": 30,
   "id": "2e3a45c7",
   "metadata": {},
   "outputs": [],
   "source": [
    "## dropping the column with number of units (only 1s)\n",
    "df_useful = df_useful.drop(columns='number_of_units')"
   ]
  },
  {
   "cell_type": "code",
   "execution_count": 31,
   "id": "c7d6e3eb",
   "metadata": {},
   "outputs": [
    {
     "data": {
      "text/plain": [
       "Index(['date', 'built', 'price', 'postal_code', 'city', 'region',\n",
       "       'property_type', 'living_area', 'number_of_rooms', 'longitude',\n",
       "       'latitude'],\n",
       "      dtype='object')"
      ]
     },
     "execution_count": 31,
     "metadata": {},
     "output_type": "execute_result"
    }
   ],
   "source": [
    "df_useful.columns"
   ]
  },
  {
   "cell_type": "code",
   "execution_count": 32,
   "id": "73df1970",
   "metadata": {},
   "outputs": [
    {
     "data": {
      "text/plain": [
       "(34297, 11)"
      ]
     },
     "execution_count": 32,
     "metadata": {},
     "output_type": "execute_result"
    }
   ],
   "source": [
    "## checking for NaN values\n",
    "df_useful.isna().sum()\n",
    "df_useful = df_useful.dropna()\n",
    "df_useful.shape\n",
    "df_useful = df_useful.drop_duplicates()\n",
    "df_useful.shape"
   ]
  },
  {
   "cell_type": "markdown",
   "id": "5529d134",
   "metadata": {},
   "source": [
    "## 🦖 Changing everything to the right type"
   ]
  },
  {
   "cell_type": "code",
   "execution_count": 33,
   "id": "23829c8f",
   "metadata": {},
   "outputs": [
    {
     "name": "stdout",
     "output_type": "stream",
     "text": [
      "<class 'pandas.core.frame.DataFrame'>\n",
      "Int64Index: 34297 entries, 56 to 271358\n",
      "Data columns (total 11 columns):\n",
      " #   Column           Non-Null Count  Dtype         \n",
      "---  ------           --------------  -----         \n",
      " 0   date             34297 non-null  datetime64[ns]\n",
      " 1   built            34297 non-null  object        \n",
      " 2   price            34297 non-null  float64       \n",
      " 3   postal_code      34297 non-null  float64       \n",
      " 4   city             34297 non-null  object        \n",
      " 5   region           34297 non-null  object        \n",
      " 6   property_type    34297 non-null  object        \n",
      " 7   living_area      34297 non-null  float64       \n",
      " 8   number_of_rooms  34297 non-null  float64       \n",
      " 9   longitude        34297 non-null  float64       \n",
      " 10  latitude         34297 non-null  float64       \n",
      "dtypes: datetime64[ns](1), float64(6), object(4)\n",
      "memory usage: 3.1+ MB\n"
     ]
    }
   ],
   "source": [
    "col_float = ['price', 'longitude', 'latitude', 'postal_code', 'living_area', 'number_of_rooms']\n",
    "col_string = ['built','city', 'region','property_type']\n",
    "col_date = ['date']\n",
    "### Formating data types ####\n",
    "df_useful[col_float] = df_useful[col_float].apply(lambda x: pd.to_numeric(x, errors='coerce').astype('float64'))\n",
    "df_useful[col_date]= df_useful[col_date].apply(lambda x: pd.to_datetime(x, errors='coerce'))\n",
    "\n",
    "df_useful.info()"
   ]
  },
  {
   "cell_type": "code",
   "execution_count": 34,
   "id": "174597fd",
   "metadata": {},
   "outputs": [
    {
     "data": {
      "text/plain": [
       "(34297, 11)"
      ]
     },
     "execution_count": 34,
     "metadata": {},
     "output_type": "execute_result"
    }
   ],
   "source": [
    "df_useful.shape"
   ]
  },
  {
   "cell_type": "code",
   "execution_count": 35,
   "id": "f92047e1",
   "metadata": {},
   "outputs": [
    {
     "data": {
      "text/html": [
       "<div>\n",
       "<style scoped>\n",
       "    .dataframe tbody tr th:only-of-type {\n",
       "        vertical-align: middle;\n",
       "    }\n",
       "\n",
       "    .dataframe tbody tr th {\n",
       "        vertical-align: top;\n",
       "    }\n",
       "\n",
       "    .dataframe thead th {\n",
       "        text-align: right;\n",
       "    }\n",
       "</style>\n",
       "<table border=\"1\" class=\"dataframe\">\n",
       "  <thead>\n",
       "    <tr style=\"text-align: right;\">\n",
       "      <th></th>\n",
       "      <th>date</th>\n",
       "      <th>built</th>\n",
       "      <th>price</th>\n",
       "      <th>postal_code</th>\n",
       "      <th>city</th>\n",
       "      <th>region</th>\n",
       "      <th>property_type</th>\n",
       "      <th>living_area</th>\n",
       "      <th>number_of_rooms</th>\n",
       "      <th>longitude</th>\n",
       "      <th>latitude</th>\n",
       "    </tr>\n",
       "  </thead>\n",
       "  <tbody>\n",
       "    <tr>\n",
       "      <th>56</th>\n",
       "      <td>2019-01-09</td>\n",
       "      <td>built</td>\n",
       "      <td>200000.0</td>\n",
       "      <td>93320.0</td>\n",
       "      <td>93057</td>\n",
       "      <td>93</td>\n",
       "      <td>Maison</td>\n",
       "      <td>47.0</td>\n",
       "      <td>2.0</td>\n",
       "      <td>2.512376</td>\n",
       "      <td>48.907392</td>\n",
       "    </tr>\n",
       "    <tr>\n",
       "      <th>58</th>\n",
       "      <td>2019-01-03</td>\n",
       "      <td>built</td>\n",
       "      <td>285000.0</td>\n",
       "      <td>93310.0</td>\n",
       "      <td>93061</td>\n",
       "      <td>93</td>\n",
       "      <td>Appartement</td>\n",
       "      <td>43.0</td>\n",
       "      <td>2.0</td>\n",
       "      <td>2.404440</td>\n",
       "      <td>48.888226</td>\n",
       "    </tr>\n",
       "    <tr>\n",
       "      <th>59</th>\n",
       "      <td>2019-01-03</td>\n",
       "      <td>built</td>\n",
       "      <td>285000.0</td>\n",
       "      <td>93310.0</td>\n",
       "      <td>93061</td>\n",
       "      <td>93</td>\n",
       "      <td>Appartement</td>\n",
       "      <td>47.0</td>\n",
       "      <td>3.0</td>\n",
       "      <td>2.404440</td>\n",
       "      <td>48.888226</td>\n",
       "    </tr>\n",
       "    <tr>\n",
       "      <th>64</th>\n",
       "      <td>2019-01-08</td>\n",
       "      <td>built</td>\n",
       "      <td>285000.0</td>\n",
       "      <td>93500.0</td>\n",
       "      <td>93055</td>\n",
       "      <td>93</td>\n",
       "      <td>Appartement</td>\n",
       "      <td>63.0</td>\n",
       "      <td>3.0</td>\n",
       "      <td>2.397210</td>\n",
       "      <td>48.904147</td>\n",
       "    </tr>\n",
       "    <tr>\n",
       "      <th>66</th>\n",
       "      <td>2019-01-04</td>\n",
       "      <td>built</td>\n",
       "      <td>62000.0</td>\n",
       "      <td>93140.0</td>\n",
       "      <td>93010</td>\n",
       "      <td>93</td>\n",
       "      <td>Appartement</td>\n",
       "      <td>15.0</td>\n",
       "      <td>1.0</td>\n",
       "      <td>2.479755</td>\n",
       "      <td>48.900072</td>\n",
       "    </tr>\n",
       "  </tbody>\n",
       "</table>\n",
       "</div>"
      ],
      "text/plain": [
       "         date  built     price  postal_code   city region property_type  \\\n",
       "56 2019-01-09  built  200000.0      93320.0  93057     93        Maison   \n",
       "58 2019-01-03  built  285000.0      93310.0  93061     93   Appartement   \n",
       "59 2019-01-03  built  285000.0      93310.0  93061     93   Appartement   \n",
       "64 2019-01-08  built  285000.0      93500.0  93055     93   Appartement   \n",
       "66 2019-01-04  built   62000.0      93140.0  93010     93   Appartement   \n",
       "\n",
       "    living_area  number_of_rooms  longitude   latitude  \n",
       "56         47.0              2.0   2.512376  48.907392  \n",
       "58         43.0              2.0   2.404440  48.888226  \n",
       "59         47.0              3.0   2.404440  48.888226  \n",
       "64         63.0              3.0   2.397210  48.904147  \n",
       "66         15.0              1.0   2.479755  48.900072  "
      ]
     },
     "execution_count": 35,
     "metadata": {},
     "output_type": "execute_result"
    }
   ],
   "source": [
    "df_useful.head()"
   ]
  },
  {
   "cell_type": "code",
   "execution_count": 36,
   "id": "a147c3dc",
   "metadata": {},
   "outputs": [
    {
     "data": {
      "text/plain": [
       "<AxesSubplot:xlabel='longitude', ylabel='latitude'>"
      ]
     },
     "execution_count": 36,
     "metadata": {},
     "output_type": "execute_result"
    },
    {
     "data": {
      "image/png": "[encoded data removed]",
      "text/plain": [
       "<Figure size 640x480 with 1 Axes>"
      ]
     },
     "metadata": {},
     "output_type": "display_data"
    }
   ],
   "source": [
    "# import folium\n",
    "# m = folium.Map(location = [-33.8, 151.2], tiles ='OpenStreetMap', zoom_start=11)\n",
    "import seaborn as sns\n",
    "sns.scatterplot(x = df_useful['longitude'], y = df_useful['latitude'])"
   ]
  },
  {
   "cell_type": "markdown",
   "id": "e6f80393",
   "metadata": {},
   "source": [
    "## ✨ data.py : clean_data + download_csv"
   ]
  },
  {
   "cell_type": "markdown",
   "id": "c7859595",
   "metadata": {},
   "source": [
    "# 🤓 Feature engineering"
   ]
  },
  {
   "cell_type": "code",
   "execution_count": null,
   "id": "b8e5f837",
   "metadata": {},
   "outputs": [],
   "source": []
  }
 ],
 "metadata": {
  "kernelspec": {
   "display_name": "Python 3 (ipykernel)",
   "language": "python",
   "name": "python3"
  },
  "language_info": {
   "codemirror_mode": {
    "name": "ipython",
    "version": 3
   },
   "file_extension": ".py",
   "mimetype": "text/x-python",
   "name": "python",
   "nbconvert_exporter": "python",
   "pygments_lexer": "ipython3",
   "version": "3.10.6"
  },
  "toc": {
   "base_numbering": 1,
   "nav_menu": {},
   "number_sections": true,
   "sideBar": true,
   "skip_h1_title": false,
   "title_cell": "Table of Contents",
   "title_sidebar": "Contents",
   "toc_cell": false,
   "toc_position": {},
   "toc_section_display": true,
   "toc_window_display": false
  }
 },
 "nbformat": 4,
 "nbformat_minor": 5
}
