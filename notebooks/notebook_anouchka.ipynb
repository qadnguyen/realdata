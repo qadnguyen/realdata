{
 "cells": [
  {
   "cell_type": "markdown",
   "id": "6f18eb81",
   "metadata": {},
   "source": [
    "# ⬇️ Imports"
   ]
  },
  {
   "cell_type": "code",
   "execution_count": 2,
   "id": "175df4e6",
   "metadata": {},
   "outputs": [
    {
     "name": "stdout",
     "output_type": "stream",
     "text": [
      "The autoreload extension is already loaded. To reload it, use:\n",
      "  %reload_ext autoreload\n"
     ]
    }
   ],
   "source": [
    "%load_ext autoreload\n",
    "\n",
    "%autoreload 2"
   ]
  },
  {
   "cell_type": "code",
   "execution_count": 3,
   "id": "e22b5836",
   "metadata": {},
   "outputs": [],
   "source": [
    "import pandas as pd\n",
    "import numpy as np\n",
    "import matplotlib as plt\n",
    "from pathlib import Path\n",
    "import seaborn as sns\n",
    "\n",
    "\n",
    "import warnings\n",
    "warnings.filterwarnings('ignore')\n"
   ]
  },
  {
   "cell_type": "code",
   "execution_count": null,
   "id": "a840023b",
   "metadata": {},
   "outputs": [],
   "source": [
    "# Get the data from the csv file\n",
    "df_cleaned = pd.read_csv('../raw_data/dvf_full_cleaned.csv')\n",
    "\n",
    "df_cleaned.shape"
   ]
  },
  {
   "cell_type": "markdown",
   "id": "35334902",
   "metadata": {},
   "source": [
    "# ✅ Downloading the data"
   ]
  },
  {
   "cell_type": "markdown",
   "id": "65a63758",
   "metadata": {},
   "source": [
    "region (department) exceptions :\n",
    "- 20 not existing ->2A and 2B\n",
    "- 57, 67, 68 -> no data\n",
    "- 69 -> 69D and 59M"
   ]
  },
  {
   "cell_type": "code",
   "execution_count": null,
   "id": "09c85fba",
   "metadata": {},
   "outputs": [],
   "source": [
    "## list all the number of regions we can download\n",
    "regions = list(np.arange(1,96))\n",
    "# regions = list(map(str, regions))\n",
    "regions = list(np.delete(regions, [20-1, 57-1, 67-1, 68-1]))\n",
    "regions = regions + ['2A', '2B']\n",
    "print(regions)"
   ]
  },
  {
   "cell_type": "code",
   "execution_count": null,
   "id": "06059182",
   "metadata": {},
   "outputs": [],
   "source": [
    "# download all csv files\n",
    "\n",
    "# from pathlib import Path\n",
    "\n",
    "for index, num in enumerate(regions):\n",
    "    if index < 9 :\n",
    "        url = f'https://dvf-api.data.gouv.fr/dvf/csv/?dep=0{num}'\n",
    "    else :\n",
    "        url = f'https://dvf-api.data.gouv.fr/dvf/csv/?dep={num}'\n",
    "\n",
    "    path = Path(f'../raw_data/dvf_{num}.csv')\n",
    "\n",
    "    if not path.is_file():\n",
    "        df = pd.read_csv(url)\n",
    "        df.to_csv(path)\n",
    "        print(f'Downloaded region n° {num} 💪')\n",
    "\n",
    "    else:\n",
    "        print(f'region n° {num} is already downloaded ! 🚀')\n"
   ]
  },
  {
   "cell_type": "code",
   "execution_count": null,
   "id": "4f9317bc",
   "metadata": {},
   "outputs": [],
   "source": [
    "df = pd.DataFrame()\n",
    "for num in regions[1:3]:\n",
    "    df = pd.concat([df, pd.read_csv(f'../raw_data/dvf_{num}.csv')])\n",
    "    print(f'Concatenated region n°{num} to the df 🌍')"
   ]
  },
  {
   "cell_type": "code",
   "execution_count": null,
   "id": "fd44cef9",
   "metadata": {},
   "outputs": [],
   "source": [
    "# # concat all csv files in 1 big dataframe --> too big for the kernel -> VertexAI\n",
    "# df = pd.DataFrame()\n",
    "# for num in regions:\n",
    "#     df = pd.concat([df, pd.read_csv(f'raw_data/dvf_{num}.csv')])\n",
    "#     print(f'Concatenated region n°{num} to the df 🌍')"
   ]
  },
  {
   "cell_type": "markdown",
   "id": "8599451b",
   "metadata": {},
   "source": [
    "> To concat everything without killing the kernel --> VertexAI"
   ]
  },
  {
   "cell_type": "code",
   "execution_count": null,
   "id": "06d07483",
   "metadata": {},
   "outputs": [],
   "source": [
    "# df.shape\n",
    "# # (19575540, 42)"
   ]
  },
  {
   "cell_type": "code",
   "execution_count": null,
   "id": "8d1faebf",
   "metadata": {},
   "outputs": [],
   "source": [
    "# ### save full df raw as 1 csv\n",
    "# df.to_csv(f'raw_data/dvf_full_raw.csv')"
   ]
  },
  {
   "cell_type": "code",
   "execution_count": null,
   "id": "d259819f",
   "metadata": {},
   "outputs": [],
   "source": [
    "# ## to clean all the data\n",
    "\n",
    "# from data import clean_data\n",
    "# df_cleaned = clean_data(df)\n",
    "# df_cleaned.shape #(1029674, 11)"
   ]
  },
  {
   "cell_type": "code",
   "execution_count": null,
   "id": "548525d0",
   "metadata": {},
   "outputs": [],
   "source": [
    "# df_cleaned.to_csv(f'raw_data/dvf_full_cleaned.csv')"
   ]
  },
  {
   "cell_type": "code",
   "execution_count": null,
   "id": "172c6531",
   "metadata": {},
   "outputs": [],
   "source": [
    "# Get the data from the csv file\n",
    "dvf_full_raw = pd.read_csv('../raw_data/dvf_full_raw.csv')\n",
    "\n",
    "dvf_full_raw.shape"
   ]
  },
  {
   "cell_type": "code",
   "execution_count": null,
   "id": "c25dd892",
   "metadata": {},
   "outputs": [],
   "source": [
    "# Get the data from the csv file\n",
    "df_cleaned = pd.read_csv('../raw_data/dvf_full_cleaned.csv')\n",
    "\n",
    "df_cleaned.shape"
   ]
  },
  {
   "cell_type": "code",
   "execution_count": null,
   "id": "634c5576",
   "metadata": {},
   "outputs": [],
   "source": [
    "df_cleaned.head()"
   ]
  },
  {
   "cell_type": "markdown",
   "id": "5aeb486a",
   "metadata": {},
   "source": [
    "# 🔎 Exploring cleaned data"
   ]
  },
  {
   "cell_type": "code",
   "execution_count": null,
   "id": "cc1bb7e3",
   "metadata": {},
   "outputs": [],
   "source": [
    "df_cleaned.shape"
   ]
  },
  {
   "cell_type": "code",
   "execution_count": null,
   "id": "cf608cd5",
   "metadata": {},
   "outputs": [],
   "source": [
    "mask_price = df_cleaned['price']<1000000 #smaller than 1 milion\n",
    "mask_area = df_cleaned['living_area']<500 # smaller than 500 sq meters\n",
    "df_without_outliers = df_cleaned[mask_price & mask_area]\n",
    "df_without_outliers.shape"
   ]
  },
  {
   "cell_type": "code",
   "execution_count": null,
   "id": "ab7f4b5b",
   "metadata": {},
   "outputs": [],
   "source": [
    "sns.scatterplot(df_without_outliers.longitude,\n",
    "                df_without_outliers.latitude,\n",
    "                alpha=0.01,\n",
    "                size=0.01,\n",
    "                hue = df_without_outliers.price)"
   ]
  },
  {
   "cell_type": "code",
   "execution_count": null,
   "id": "dd666bfb",
   "metadata": {},
   "outputs": [],
   "source": [
    "df_dvf = pd.read_csv('../raw_data/dvf_93.csv')\n",
    "\n",
    "df_dvf.shape"
   ]
  },
  {
   "cell_type": "markdown",
   "id": "42b16f51",
   "metadata": {},
   "source": [
    "# 🔎 Exploring 1 region"
   ]
  },
  {
   "cell_type": "code",
   "execution_count": null,
   "id": "63c484b7",
   "metadata": {},
   "outputs": [],
   "source": [
    "df_dvf.duplicated().sum()"
   ]
  },
  {
   "cell_type": "code",
   "execution_count": null,
   "id": "bf0ec430",
   "metadata": {},
   "outputs": [],
   "source": [
    "df_dvf['nature_mutation'].unique()"
   ]
  },
  {
   "cell_type": "code",
   "execution_count": null,
   "id": "3ab2b7eb",
   "metadata": {},
   "outputs": [],
   "source": [
    "df_dvf['nature_mutation'].value_counts()"
   ]
  },
  {
   "cell_type": "code",
   "execution_count": null,
   "id": "e11137c2",
   "metadata": {},
   "outputs": [],
   "source": [
    "df_dvf.dtypes"
   ]
  },
  {
   "cell_type": "code",
   "execution_count": null,
   "id": "6b988717",
   "metadata": {},
   "outputs": [],
   "source": [
    "df_dvf.columns"
   ]
  },
  {
   "cell_type": "code",
   "execution_count": null,
   "id": "2c5d707f",
   "metadata": {},
   "outputs": [],
   "source": [
    "df_dvf.isnull().sum()"
   ]
  },
  {
   "cell_type": "code",
   "execution_count": null,
   "id": "376f22f7",
   "metadata": {},
   "outputs": [],
   "source": [
    "df_dvf[['code_postal', 'code_commune', 'nom_commune']].isnull().sum()/len(df_dvf)"
   ]
  },
  {
   "cell_type": "code",
   "execution_count": null,
   "id": "7d6037f7",
   "metadata": {},
   "outputs": [],
   "source": [
    "df_dvf['nombre_lots'].astype('str').value_counts()"
   ]
  },
  {
   "cell_type": "code",
   "execution_count": null,
   "id": "eb3f129e",
   "metadata": {},
   "outputs": [],
   "source": [
    "df_dvf['type_local'].unique()"
   ]
  },
  {
   "cell_type": "markdown",
   "id": "a5c5bd8b",
   "metadata": {},
   "source": [
    "# 🔅 Preprocessing"
   ]
  },
  {
   "cell_type": "markdown",
   "id": "750ad2d5",
   "metadata": {},
   "source": [
    "## 🧹 Keep only useful columns and rows and translate"
   ]
  },
  {
   "cell_type": "markdown",
   "id": "cc0dd0d0",
   "metadata": {},
   "source": [
    "### Removing columns"
   ]
  },
  {
   "cell_type": "code",
   "execution_count": null,
   "id": "bc3be1f9",
   "metadata": {},
   "outputs": [],
   "source": [
    "keep_col =['date_mutation',\n",
    "            'nature_mutation',\n",
    "            'valeur_fonciere',\n",
    "            'code_postal',\n",
    "            'code_commune',\n",
    "            'code_departement',\n",
    "            'nombre_lots',\n",
    "            'type_local',\n",
    "            'surface_reelle_bati',\n",
    "            'nombre_pieces_principales',\n",
    "            'longitude',\n",
    "            'latitude']\n",
    "df_dvf = df_dvf[keep_col]\n",
    "\n",
    "df_dvf.info()"
   ]
  },
  {
   "cell_type": "markdown",
   "id": "09b4d480",
   "metadata": {},
   "source": [
    "### Translate column-names"
   ]
  },
  {
   "cell_type": "code",
   "execution_count": null,
   "id": "72763dbe",
   "metadata": {},
   "outputs": [],
   "source": [
    "df_dvf.columns = ['date', 'built', 'price', 'postal_code',\n",
    "                'city', 'region', 'number_of_units', 'property_type',\n",
    "                'living_area', 'number_of_rooms',\n",
    "                'longitude', 'latitude']"
   ]
  },
  {
   "cell_type": "markdown",
   "id": "d3895ad6",
   "metadata": {},
   "source": [
    "### Remove non-representative rows"
   ]
  },
  {
   "cell_type": "code",
   "execution_count": null,
   "id": "d05b4d1c",
   "metadata": {},
   "outputs": [],
   "source": [
    "df_dvf.shape"
   ]
  },
  {
   "cell_type": "code",
   "execution_count": null,
   "id": "f7a16c5d",
   "metadata": {},
   "outputs": [],
   "source": [
    "df_dvf['built'].unique()"
   ]
  },
  {
   "cell_type": "code",
   "execution_count": null,
   "id": "b104f5f3",
   "metadata": {},
   "outputs": [],
   "source": [
    "df_dvf.shape"
   ]
  },
  {
   "cell_type": "code",
   "execution_count": null,
   "id": "556b3534",
   "metadata": {},
   "outputs": [],
   "source": [
    "df_dvf['built'].unique()"
   ]
  },
  {
   "cell_type": "markdown",
   "id": "cb0dffb1",
   "metadata": {},
   "source": [
    "We want to keep only :\n",
    "- Houses and appartments\n",
    "- Normal sales and off-plan sales\n",
    "- Sales with only one unit"
   ]
  },
  {
   "cell_type": "code",
   "execution_count": null,
   "id": "3be55052",
   "metadata": {},
   "outputs": [],
   "source": [
    "df_dvf['built'].unique()"
   ]
  },
  {
   "cell_type": "code",
   "execution_count": null,
   "id": "f532651a",
   "metadata": {},
   "outputs": [],
   "source": [
    "print('Shape before the masks : ', df_dvf.shape)\n",
    "print('Shape only normal sales', df_dvf[((df_dvf['built'] == \"Vente\") | (df_dvf['built'] == \"Vente en l'état futur d'achèvement\"))].shape)\n",
    "print('Shape only 1 unit', df_dvf[((df_dvf['number_of_units'] == 1) | (df_dvf['number_of_units'] == '1'))].shape)\n",
    "print('Shape only house and appartments', df_dvf[((df_dvf['property_type'] == 'Appartement') | (df_dvf['property_type'] == 'Maison'))].shape)"
   ]
  },
  {
   "cell_type": "code",
   "execution_count": null,
   "id": "ed5e654b",
   "metadata": {},
   "outputs": [],
   "source": [
    "df_useful = df_dvf[((df_dvf['built'] == \"Vente\") | (df_dvf['built'] == \"Vente en l'état futur d'achèvement\")) &\n",
    "                    ((df_dvf['number_of_units'] == 1) | (df_dvf['number_of_units'] == '1')) &\n",
    "                    ((df_dvf['property_type'] == 'Appartement') | (df_dvf['property_type'] == 'Maison'))]\n",
    "df_useful.shape"
   ]
  },
  {
   "cell_type": "code",
   "execution_count": null,
   "id": "793a68b6",
   "metadata": {},
   "outputs": [],
   "source": [
    "## checking that the masks worked correctly\n",
    "print(df_useful['built'].unique())\n",
    "print(df_useful['number_of_units'].unique())\n",
    "print(df_useful['property_type'].unique())\n"
   ]
  },
  {
   "cell_type": "markdown",
   "id": "79e5d1e8",
   "metadata": {},
   "source": [
    "### Translating the values"
   ]
  },
  {
   "cell_type": "code",
   "execution_count": null,
   "id": "2a19961a",
   "metadata": {},
   "outputs": [],
   "source": [
    "trans_dict_built = {'Vente' : 'built',\n",
    "                    \"Vente en l'état futur d'achèvement\" : 'off-plan'}\n",
    "trans_dict_type = {'Appartement' : 'appartment',\n",
    "                   'Maison' : 'house'}\n",
    "df_useful= df_useful.replace({'built' : trans_dict_built,\n",
    "                             'property_type' : trans_dict_type})"
   ]
  },
  {
   "cell_type": "code",
   "execution_count": null,
   "id": "78572942",
   "metadata": {},
   "outputs": [],
   "source": [
    "## checking that the translation worked correctly\n",
    "print(df_useful['built'].unique())\n",
    "print(df_useful['property_type'].unique())"
   ]
  },
  {
   "cell_type": "code",
   "execution_count": null,
   "id": "b3ed1c0e",
   "metadata": {},
   "outputs": [],
   "source": [
    "trans_dict_built = {'Vente' : 'built',\n",
    "                    \"Vente en l'état futur d'achèvement\" : 'off-plan'}\n",
    "trans_dict_type = {'Appartement' : 'appartment',\n",
    "                   'Maison' : 'house'}\n",
    "\n",
    "df_useful['built'] = df_useful['built'].replace(trans_dict_built)\n",
    "df_useful['property_type'] = df_useful['property_type'].replace(trans_dict_type)"
   ]
  },
  {
   "cell_type": "markdown",
   "id": "9297acf7",
   "metadata": {},
   "source": []
  },
  {
   "cell_type": "code",
   "execution_count": null,
   "id": "24ae0e34",
   "metadata": {},
   "outputs": [],
   "source": [
    "# checking we didn't lose rows\n",
    "df_useful.shape"
   ]
  },
  {
   "cell_type": "markdown",
   "id": "5636c427",
   "metadata": {},
   "source": [
    "## 🚮 Dropping duplicates and NaNs"
   ]
  },
  {
   "cell_type": "code",
   "execution_count": null,
   "id": "09d98eed",
   "metadata": {},
   "outputs": [],
   "source": [
    "df_useful.columns"
   ]
  },
  {
   "cell_type": "code",
   "execution_count": null,
   "id": "2e3a45c7",
   "metadata": {},
   "outputs": [],
   "source": [
    "## dropping the column with number of units (only 1s)\n",
    "df_useful = df_useful.drop(columns='number_of_units')"
   ]
  },
  {
   "cell_type": "code",
   "execution_count": null,
   "id": "c7d6e3eb",
   "metadata": {},
   "outputs": [],
   "source": [
    "df_useful.columns"
   ]
  },
  {
   "cell_type": "code",
   "execution_count": null,
   "id": "73df1970",
   "metadata": {},
   "outputs": [],
   "source": [
    "## checking for NaN values\n",
    "df_useful.isna().sum()\n",
    "df_useful = df_useful.dropna()\n",
    "df_useful.shape\n",
    "df_useful = df_useful.drop_duplicates()\n",
    "df_useful.shape"
   ]
  },
  {
   "cell_type": "markdown",
   "id": "5529d134",
   "metadata": {},
   "source": [
    "## 🦖 Changing everything to the right type"
   ]
  },
  {
   "cell_type": "code",
   "execution_count": null,
   "id": "23829c8f",
   "metadata": {},
   "outputs": [],
   "source": [
    "col_float = ['price', 'longitude', 'latitude', 'postal_code', 'living_area', 'number_of_rooms']\n",
    "col_string = ['built','city', 'region','property_type']\n",
    "col_date = ['date']\n",
    "### Formating data types ####\n",
    "df_useful[col_float] = df_useful[col_float].apply(lambda x: pd.to_numeric(x, errors='coerce').astype('float64'))\n",
    "df_useful[col_date]= df_useful[col_date].apply(lambda x: pd.to_datetime(x, errors='coerce'))\n",
    "\n",
    "df_useful.info()"
   ]
  },
  {
   "cell_type": "code",
   "execution_count": null,
   "id": "174597fd",
   "metadata": {},
   "outputs": [],
   "source": [
    "df_useful.shape"
   ]
  },
  {
   "cell_type": "code",
   "execution_count": null,
   "id": "f92047e1",
   "metadata": {},
   "outputs": [],
   "source": [
    "df_useful.head()"
   ]
  },
  {
   "cell_type": "code",
   "execution_count": null,
   "id": "a147c3dc",
   "metadata": {},
   "outputs": [],
   "source": [
    "# import folium\n",
    "# m = folium.Map(location = [-33.8, 151.2], tiles ='OpenStreetMap', zoom_start=11)\n",
    "import seaborn as sns\n",
    "sns.scatterplot(x = df_useful['longitude'], y = df_useful['latitude'])"
   ]
  },
  {
   "cell_type": "markdown",
   "id": "e6f80393",
   "metadata": {},
   "source": [
    "## ✨ data.py : clean_data + download_csv"
   ]
  },
  {
   "cell_type": "markdown",
   "id": "c7859595",
   "metadata": {},
   "source": [
    "# 🤓 Feature engineering"
   ]
  },
  {
   "cell_type": "code",
   "execution_count": null,
   "id": "b8e5f837",
   "metadata": {},
   "outputs": [],
   "source": []
  },
  {
   "cell_type": "markdown",
   "id": "36445e3e",
   "metadata": {},
   "source": [
    "# 🐧 Modelling"
   ]
  },
  {
   "cell_type": "markdown",
   "id": "38bbf140",
   "metadata": {},
   "source": [
    "## 🔎 Exploring some more"
   ]
  },
  {
   "cell_type": "code",
   "execution_count": null,
   "id": "11c76621",
   "metadata": {},
   "outputs": [],
   "source": [
    "df_cleaned.columns"
   ]
  },
  {
   "cell_type": "code",
   "execution_count": null,
   "id": "62f070dd",
   "metadata": {},
   "outputs": [],
   "source": [
    "# df_cleaned.shape # (1029674, 12)"
   ]
  },
  {
   "cell_type": "code",
   "execution_count": null,
   "id": "2ce4c5be",
   "metadata": {},
   "outputs": [],
   "source": [
    "# df_cleaned[mask_price].shape # (1027158, 12)"
   ]
  },
  {
   "cell_type": "code",
   "execution_count": null,
   "id": "1bf498ae",
   "metadata": {},
   "outputs": [],
   "source": [
    "import matplotlib.pyplot as plt\n",
    "\n",
    "# fig, axs = plt.subplots(1, 2, figsize=(12, 5))  # 1 row, 2 columns\n",
    "mask_price = df_cleaned['price']<10000000 #smaller than 10 milion\n",
    "mask_area = df_cleaned['living_area']<500 # smaller than 500 sq meters\n",
    "df_without_outliers = df_cleaned[mask_price & mask_area]\n",
    "\n",
    "# Plot Living area vs Sale price\n",
    "plt.figure(figsize = (12,5))\n",
    "sns.scatterplot(df_without_outliers['living_area'], df_without_outliers['price'],hue = df_without_outliers['property_type'],alpha = 0.5)\n",
    "plt.show()"
   ]
  },
  {
   "cell_type": "code",
   "execution_count": null,
   "id": "395080a3",
   "metadata": {},
   "outputs": [],
   "source": [
    "df_without_outliers['property_type'].value_counts()"
   ]
  },
  {
   "cell_type": "code",
   "execution_count": null,
   "id": "e7cac19d",
   "metadata": {},
   "outputs": [],
   "source": [
    "sns.heatmap(df_without_outliers.corr(), cmap = 'vlag', annot = True)"
   ]
  },
  {
   "cell_type": "code",
   "execution_count": null,
   "id": "54ee94c8",
   "metadata": {},
   "outputs": [],
   "source": [
    "df_without_outliers.info()"
   ]
  },
  {
   "cell_type": "code",
   "execution_count": null,
   "id": "79d7af51",
   "metadata": {},
   "outputs": [],
   "source": [
    "##### we have to scale data first ######"
   ]
  },
  {
   "cell_type": "markdown",
   "id": "84878fc1",
   "metadata": {},
   "source": [
    "## 🐟 Naive baseline model"
   ]
  },
  {
   "cell_type": "code",
   "execution_count": null,
   "id": "31cdeb41",
   "metadata": {},
   "outputs": [],
   "source": [
    "X = df_without_outliers.drop(columns=['price'])\n",
    "y = df_without_outliers['price']\n",
    "\n",
    "X_train, X_test, y_train, y_test = train_test_split(X, y, test_size=0.2)"
   ]
  },
  {
   "cell_type": "code",
   "execution_count": null,
   "id": "913f0497",
   "metadata": {},
   "outputs": [],
   "source": [
    "mean_price = y_train.mean()\n",
    "print(f\"The mean price of {round(mean_price)}\")\n",
    "\n",
    "median_price = y_train.median()\n",
    "print(f\"The median price of {round(median_price)}\")"
   ]
  },
  {
   "cell_type": "code",
   "execution_count": null,
   "id": "af9ff835",
   "metadata": {},
   "outputs": [],
   "source": [
    "mean_error = y_test - mean_price\n",
    "rmse_mean = ((mean_error**2).mean())**(1/2)\n",
    "print(f'The rmse when always predicting the mean : {round(rmse_mean)} €.')"
   ]
  },
  {
   "cell_type": "code",
   "execution_count": null,
   "id": "5debc0ce",
   "metadata": {},
   "outputs": [],
   "source": [
    "median_error = y_test - median_price\n",
    "rmse_median = ((median_error**2).mean())**(1/2)\n",
    "print(f'The rmse when always predicting the median : {round(rmse_median)} €.')"
   ]
  },
  {
   "cell_type": "markdown",
   "id": "85dfa80f",
   "metadata": {},
   "source": [
    "## ⚖️ Importing the preprocessed files Andrea made : "
   ]
  },
  {
   "cell_type": "code",
   "execution_count": null,
   "id": "8097889b",
   "metadata": {},
   "outputs": [],
   "source": [
    "X_train_preproc = pd.read_pickle('../raw_data/X_train_preproc.pickle')\n",
    "X_test_preproc = pd.read_pickle('../raw_data/X_test_preproc.pickle')\n",
    "y_train = pd.read_pickle('../raw_data/y_train.pickle')\n",
    "y_test = pd.read_pickle('../raw_data/y_test.pickle')"
   ]
  },
  {
   "cell_type": "code",
   "execution_count": null,
   "id": "c34753d3",
   "metadata": {},
   "outputs": [],
   "source": [
    "print(X_train_preproc.shape, X_test_preproc.shape)\n",
    "print(y_train.shape, y_test.shape)"
   ]
  },
  {
   "cell_type": "markdown",
   "id": "7d6c29d0",
   "metadata": {},
   "source": [
    "## 🐸 Model"
   ]
  },
  {
   "cell_type": "code",
   "execution_count": null,
   "id": "9c0541f0",
   "metadata": {},
   "outputs": [],
   "source": [
    "from sklearn.model_selection import train_test_split\n",
    "from sklearn.preprocessing import StandardScaler\n",
    "from sklearn.metrics import mean_squared_error\n",
    "from sklearn.model_selection import validation_curve\n",
    "from sklearn.model_selection import GridSearchCV\n",
    "from sklearn.model_selection import KFold\n",
    "from sklearn.model_selection import cross_val_score\n"
   ]
  },
  {
   "cell_type": "code",
   "execution_count": null,
   "id": "f7fc8c8b",
   "metadata": {},
   "outputs": [],
   "source": [
    "from sklearn.ensemble import RandomForestRegressor\n",
    "model_rfr = RandomForestRegressor()\n",
    "\n",
    "model_rfr.fit(X_train_preproc, y_train)\n",
    "y_pred = model_rfr.predict(X_test_preproc)\n",
    "mse = mean_squared_error(y_test, y_pred)\n",
    "rmse = mse**(1/2)\n",
    "print(f'Root Mean Squared Error: {rmse}')\n",
    "print( 'Train score:', model_rfr.score(X_test_preproc, y_test))\n",
    "print('Cross val score mean', cross_val_score(model_rfr, X_train_preproc, y_train, cv = 5).mean())"
   ]
  },
  {
   "cell_type": "markdown",
   "id": "567d743c",
   "metadata": {},
   "source": [
    "# playing around"
   ]
  },
  {
   "cell_type": "code",
   "execution_count": null,
   "id": "eb43bfdd",
   "metadata": {},
   "outputs": [],
   "source": [
    "# pip install category_encoders\n"
   ]
  },
  {
   "cell_type": "code",
   "execution_count": null,
   "id": "e85c022d",
   "metadata": {},
   "outputs": [],
   "source": [
    "import sys\n",
    "\n",
    "sys.path.append('/home/anouchka/code/qadnguyen/realdata')\n",
    "from prop_value.ml_logic.preprocessor import clean_data, preprocess_data"
   ]
  },
  {
   "cell_type": "code",
   "execution_count": null,
   "id": "974f964c",
   "metadata": {},
   "outputs": [],
   "source": [
    "# url = 'https://dvf-api.data.gouv.fr/dvf/csv/?dep=93'\n",
    "# df93 = pd.read_csv(url)"
   ]
  },
  {
   "cell_type": "code",
   "execution_count": null,
   "id": "3ed939ee",
   "metadata": {},
   "outputs": [],
   "source": [
    "# df93.to_csv('../raw_data/dvf_93.csv')"
   ]
  },
  {
   "cell_type": "code",
   "execution_count": null,
   "id": "9142ea2f",
   "metadata": {},
   "outputs": [],
   "source": [
    "df93 = pd.read_csv('../raw_data/dvf_93.csv')"
   ]
  },
  {
   "cell_type": "code",
   "execution_count": null,
   "id": "34ad4761",
   "metadata": {},
   "outputs": [],
   "source": [
    "df93.head()"
   ]
  },
  {
   "cell_type": "code",
   "execution_count": null,
   "id": "053a2f85",
   "metadata": {},
   "outputs": [],
   "source": [
    "df93_cleaned = clean_data(df93)"
   ]
  },
  {
   "cell_type": "code",
   "execution_count": null,
   "id": "116dff3f",
   "metadata": {},
   "outputs": [],
   "source": [
    "df93_cleaned.built"
   ]
  },
  {
   "cell_type": "code",
   "execution_count": null,
   "id": "ca58740b",
   "metadata": {},
   "outputs": [],
   "source": [
    "X_train_preproc, X_test_preproc, y_train, y_test = preprocess_data(df93_cleaned)"
   ]
  },
  {
   "cell_type": "code",
   "execution_count": null,
   "id": "b9714bfe",
   "metadata": {},
   "outputs": [],
   "source": [
    "from sklearn.model_selection import train_test_split\n",
    "from sklearn.preprocessing import StandardScaler\n",
    "from sklearn.metrics import mean_squared_error\n",
    "from sklearn.model_selection import validation_curve\n",
    "from sklearn.model_selection import GridSearchCV\n",
    "from sklearn.model_selection import KFold\n",
    "from sklearn.model_selection import cross_val_score\n"
   ]
  },
  {
   "cell_type": "code",
   "execution_count": null,
   "id": "1a75359a",
   "metadata": {},
   "outputs": [],
   "source": [
    "from sklearn.ensemble import RandomForestRegressor\n",
    "model_rfr = RandomForestRegressor()\n",
    "\n",
    "model_rfr.fit(X_train_preproc, y_train)\n",
    "y_pred = model_rfr.predict(X_test_preproc)\n",
    "mse = mean_squared_error(y_test, y_pred)\n",
    "rmse = mse**(1/2)\n",
    "print(f'Root Mean Squared Error: {rmse}')\n",
    "print( 'Train score:', model_rfr.score(X_test_preproc, y_test))\n",
    "print('Cross val score mean', cross_val_score(model_rfr, X_train_preproc, y_train, cv = 5).mean())"
   ]
  },
  {
   "cell_type": "code",
   "execution_count": null,
   "id": "f1379dc9",
   "metadata": {},
   "outputs": [],
   "source": [
    "from xgboost import XGBRegressor\n",
    "from sklearn.metrics import mean_squared_error\n",
    "from sklearn.model_selection import cross_val_score\n",
    "model_xgb = XGBRegressor()\n",
    "\n",
    "model_xgb.fit(X_train_preproc, y_train)\n",
    "y_pred = model_xgb.predict(X_test_preproc)\n",
    "mse = mean_squared_error(y_pred, y_test)\n",
    "rmse = mse**(1/2)\n",
    "print(f'Mean Squared Error: {mse}')\n",
    "print( 'Train score:', model_xgb.score(X_train_preproc, y_train))\n",
    "print('Cross val score mean', cross_val_score(model_xgb, X_train_preproc, y_train, cv = 5).mean())"
   ]
  },
  {
   "cell_type": "code",
   "execution_count": null,
   "id": "252ad1b0",
   "metadata": {},
   "outputs": [],
   "source": []
  }
 ],
 "metadata": {
  "kernelspec": {
   "display_name": "Python 3 (ipykernel)",
   "language": "python",
   "name": "python3"
  },
  "language_info": {
   "codemirror_mode": {
    "name": "ipython",
    "version": 3
   },
   "file_extension": ".py",
   "mimetype": "text/x-python",
   "name": "python",
   "nbconvert_exporter": "python",
   "pygments_lexer": "ipython3",
   "version": "3.10.6"
  },
  "toc": {
   "base_numbering": 1,
   "nav_menu": {},
   "number_sections": true,
   "sideBar": true,
   "skip_h1_title": false,
   "title_cell": "Table of Contents",
   "title_sidebar": "Contents",
   "toc_cell": false,
   "toc_position": {},
   "toc_section_display": true,
   "toc_window_display": false
  }
 },
 "nbformat": 4,
 "nbformat_minor": 5
}
