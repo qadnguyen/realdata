{
 "cells": [
  {
   "cell_type": "markdown",
   "id": "6f18eb81",
   "metadata": {},
   "source": [
    "# ⬇️ Imports"
   ]
  },
  {
   "cell_type": "code",
   "execution_count": 1,
   "id": "175df4e6",
   "metadata": {},
   "outputs": [],
   "source": [
    "%load_ext autoreload\n",
    "\n",
    "%autoreload 2"
   ]
  },
  {
   "cell_type": "code",
   "execution_count": 2,
   "id": "e22b5836",
   "metadata": {},
   "outputs": [],
   "source": [
    "import pandas as pd\n",
    "import numpy as np\n",
    "import matplotlib as plt\n",
    "from pathlib import Path\n",
    "import seaborn as sns\n",
    "\n",
    "import sys\n",
    "sys.path.append('/home/anouchka/code/qadnguyen/realdata')\n",
    "from prop_value.ml_logic.preprocessor import preprocess_data, clean_data\n",
    "\n",
    "\n",
    "import warnings\n",
    "warnings.filterwarnings('ignore')\n"
   ]
  },
  {
   "cell_type": "markdown",
   "id": "35334902",
   "metadata": {},
   "source": [
    "# ✅ Downloading the data"
   ]
  },
  {
   "cell_type": "code",
   "execution_count": 3,
   "id": "172c6531",
   "metadata": {},
   "outputs": [],
   "source": [
    "# # Get the data from the csv file\n",
    "# dvf_full_raw = pd.read_csv('../raw_data/dvf_full_raw.csv')\n",
    "\n",
    "# dvf_full_raw.shape"
   ]
  },
  {
   "cell_type": "code",
   "execution_count": 3,
   "id": "c1f99e44",
   "metadata": {},
   "outputs": [],
   "source": [
    "df_93_raw = pd.read_csv('../raw_data/dvf_93.csv')"
   ]
  },
  {
   "cell_type": "code",
   "execution_count": 5,
   "id": "aac8e1d1",
   "metadata": {},
   "outputs": [],
   "source": [
    "df = pd.read_csv('../raw_data/dvf_full_raw.csv')"
   ]
  },
  {
   "cell_type": "markdown",
   "id": "42b16f51",
   "metadata": {},
   "source": [
    "# 🔎 Exploring 1 region"
   ]
  },
  {
   "cell_type": "code",
   "execution_count": 6,
   "id": "e5fd8db2",
   "metadata": {},
   "outputs": [
    {
     "data": {
      "text/plain": [
       "Index(['Unnamed: 0', 'id_mutation', 'date_mutation', 'numero_disposition',\n",
       "       'nature_mutation', 'valeur_fonciere', 'adresse_numero',\n",
       "       'adresse_suffixe', 'adresse_nom_voie', 'adresse_code_voie',\n",
       "       'code_postal', 'code_commune', 'nom_commune', 'code_departement',\n",
       "       'ancien_code_commune', 'ancien_nom_commune', 'id_parcelle',\n",
       "       'ancien_id_parcelle', 'numero_volume', 'lot1_numero',\n",
       "       'lot1_surface_carrez', 'lot2_numero', 'lot2_surface_carrez',\n",
       "       'lot3_numero', 'lot3_surface_carrez', 'lot4_numero',\n",
       "       'lot4_surface_carrez', 'lot5_numero', 'lot5_surface_carrez',\n",
       "       'nombre_lots', 'code_type_local', 'type_local', 'surface_reelle_bati',\n",
       "       'nombre_pieces_principales', 'code_nature_culture', 'nature_culture',\n",
       "       'code_nature_culture_speciale', 'nature_culture_speciale',\n",
       "       'surface_terrain', 'longitude', 'latitude', 'section_prefixe'],\n",
       "      dtype='object')"
      ]
     },
     "execution_count": 6,
     "metadata": {},
     "output_type": "execute_result"
    }
   ],
   "source": [
    "df_93_raw.columns"
   ]
  },
  {
   "cell_type": "markdown",
   "id": "a5c5bd8b",
   "metadata": {},
   "source": [
    "# 🔅 Preprocessing"
   ]
  },
  {
   "cell_type": "markdown",
   "id": "750ad2d5",
   "metadata": {},
   "source": [
    "## 🧹 Keep only useful columns and rows and translate"
   ]
  },
  {
   "cell_type": "markdown",
   "id": "cc0dd0d0",
   "metadata": {},
   "source": [
    "### Removing columns"
   ]
  },
  {
   "cell_type": "code",
   "execution_count": 7,
   "id": "bc3be1f9",
   "metadata": {},
   "outputs": [
    {
     "name": "stdout",
     "output_type": "stream",
     "text": [
      "<class 'pandas.core.frame.DataFrame'>\n",
      "RangeIndex: 271360 entries, 0 to 271359\n",
      "Data columns (total 13 columns):\n",
      " #   Column                     Non-Null Count   Dtype \n",
      "---  ------                     --------------   ----- \n",
      " 0   id_mutation                271360 non-null  object\n",
      " 1   date_mutation              271360 non-null  object\n",
      " 2   nature_mutation            271360 non-null  object\n",
      " 3   valeur_fonciere            260764 non-null  object\n",
      " 4   code_postal                260677 non-null  object\n",
      " 5   code_commune               271360 non-null  object\n",
      " 6   code_departement           271360 non-null  object\n",
      " 7   type_local                 216444 non-null  object\n",
      " 8   surface_reelle_bati        135227 non-null  object\n",
      " 9   nombre_pieces_principales  216216 non-null  object\n",
      " 10  surface_terrain            82186 non-null   object\n",
      " 11  longitude                  262485 non-null  object\n",
      " 12  latitude                   262485 non-null  object\n",
      "dtypes: object(13)\n",
      "memory usage: 26.9+ MB\n"
     ]
    }
   ],
   "source": [
    "keep_col =['id_mutation',\n",
    "            'date_mutation',\n",
    "            'nature_mutation',\n",
    "            'valeur_fonciere',\n",
    "            'code_postal',\n",
    "            'code_commune',\n",
    "            'code_departement',\n",
    "            'type_local',\n",
    "            'surface_reelle_bati',\n",
    "            'nombre_pieces_principales',\n",
    "            'surface_terrain',\n",
    "            'longitude',\n",
    "            'latitude']\n",
    "df_93 = df_93_raw[keep_col]\n",
    "\n",
    "df_93.info()"
   ]
  },
  {
   "cell_type": "markdown",
   "id": "09b4d480",
   "metadata": {},
   "source": [
    "### Translate column-names"
   ]
  },
  {
   "cell_type": "code",
   "execution_count": 8,
   "id": "72763dbe",
   "metadata": {},
   "outputs": [],
   "source": [
    "df_93.columns = ['id', 'date', 'built', 'price', 'postal_code',\n",
    "                'city', 'region', 'property_type',\n",
    "                'living_area', 'number_of_rooms', 'land_area',\n",
    "                'longitude', 'latitude']"
   ]
  },
  {
   "cell_type": "markdown",
   "id": "d3895ad6",
   "metadata": {},
   "source": [
    "### Remove non-representative rows"
   ]
  },
  {
   "cell_type": "code",
   "execution_count": 9,
   "id": "d05b4d1c",
   "metadata": {},
   "outputs": [
    {
     "data": {
      "text/plain": [
       "(271360, 13)"
      ]
     },
     "execution_count": 9,
     "metadata": {},
     "output_type": "execute_result"
    }
   ],
   "source": [
    "df_93.shape"
   ]
  },
  {
   "cell_type": "markdown",
   "id": "cb0dffb1",
   "metadata": {},
   "source": [
    "We want to keep only :\n",
    "- Houses and appartments + Dépendances\n",
    "- Normal sales and off-plan sales\n",
    "- Sales with only one unit XXX"
   ]
  },
  {
   "cell_type": "code",
   "execution_count": 10,
   "id": "3be55052",
   "metadata": {},
   "outputs": [
    {
     "data": {
      "text/plain": [
       "array([nan, 'Appartement', 'Dépendance',\n",
       "       'Local industriel. commercial ou assimilé', 'Maison', 'type_local'],\n",
       "      dtype=object)"
      ]
     },
     "execution_count": 10,
     "metadata": {},
     "output_type": "execute_result"
    }
   ],
   "source": [
    "df_93.property_type.unique()"
   ]
  },
  {
   "cell_type": "code",
   "execution_count": 11,
   "id": "f532651a",
   "metadata": {},
   "outputs": [
    {
     "name": "stdout",
     "output_type": "stream",
     "text": [
      "Shape before the masks :  (271360, 13)\n",
      "Shape only normal sales (268269, 13)\n",
      "Shape only house and appartments + dependencies (204042, 13)\n"
     ]
    }
   ],
   "source": [
    "print('Shape before the masks : ', df_93.shape)\n",
    "print('Shape only normal sales', df_93[((df_93['built'] == \"Vente\") | (df_93['built'] == \"Vente en l'état futur d'achèvement\"))].shape)\n",
    "print('Shape only house and appartments + dependencies', df_93[((df_93['property_type'] == 'Appartement') | (df_93['property_type'] == 'Maison')| (df_93['property_type'] == 'Dépendance'))].shape)"
   ]
  },
  {
   "cell_type": "code",
   "execution_count": 12,
   "id": "ed5e654b",
   "metadata": {},
   "outputs": [
    {
     "data": {
      "text/plain": [
       "(201418, 13)"
      ]
     },
     "execution_count": 12,
     "metadata": {},
     "output_type": "execute_result"
    }
   ],
   "source": [
    "df_useful = df_93[((df_93['built'] == \"Vente\") | (df_93['built'] == \"Vente en l'état futur d'achèvement\")) &\n",
    "                    ((df_93['property_type'] == 'Appartement') | (df_93['property_type'] == 'Maison')  | (df_93['property_type'] == 'Maison')| (df_93['property_type'] == 'Dépendance'))]\n",
    "df_useful.shape"
   ]
  },
  {
   "cell_type": "code",
   "execution_count": 13,
   "id": "793a68b6",
   "metadata": {},
   "outputs": [
    {
     "name": "stdout",
     "output_type": "stream",
     "text": [
      "['Vente' \"Vente en l'état futur d'achèvement\"]\n",
      "['Appartement' 'Dépendance' 'Maison']\n"
     ]
    }
   ],
   "source": [
    "## checking that the masks worked correctly\n",
    "print(df_useful['built'].unique())\n",
    "print(df_useful['property_type'].unique())\n"
   ]
  },
  {
   "cell_type": "markdown",
   "id": "79e5d1e8",
   "metadata": {},
   "source": [
    "### Translating the values"
   ]
  },
  {
   "cell_type": "code",
   "execution_count": 14,
   "id": "2a19961a",
   "metadata": {},
   "outputs": [],
   "source": [
    "trans_dict_built = {'Vente' : 'built',\n",
    "                    \"Vente en l'état futur d'achèvement\" : 'off-plan'}\n",
    "trans_dict_type = {'Appartement' : 'appartment',\n",
    "                   'Maison' : 'house',\n",
    "                   'Dépendance' : 'dep'}\n",
    "df_useful= df_useful.replace({'built' : trans_dict_built,\n",
    "                             'property_type' : trans_dict_type})"
   ]
  },
  {
   "cell_type": "code",
   "execution_count": 15,
   "id": "78572942",
   "metadata": {},
   "outputs": [
    {
     "name": "stdout",
     "output_type": "stream",
     "text": [
      "['built' 'off-plan']\n",
      "['appartment' 'dep' 'house']\n"
     ]
    }
   ],
   "source": [
    "## checking that the translation worked correctly\n",
    "print(df_useful['built'].unique())\n",
    "print(df_useful['property_type'].unique())"
   ]
  },
  {
   "cell_type": "code",
   "execution_count": 16,
   "id": "ed1230e9",
   "metadata": {},
   "outputs": [
    {
     "name": "stdout",
     "output_type": "stream",
     "text": [
      "Number of elements that have been sold : 201418\n"
     ]
    }
   ],
   "source": [
    "print(f'Number of elements that have been sold : {df_useful.shape[0]}')"
   ]
  },
  {
   "cell_type": "code",
   "execution_count": 17,
   "id": "0f2116a9",
   "metadata": {},
   "outputs": [
    {
     "name": "stdout",
     "output_type": "stream",
     "text": [
      "Number of unique sale ids : 62455.\n"
     ]
    }
   ],
   "source": [
    "print(f'Number of unique sale ids : {df_useful.id.nunique()}.')"
   ]
  },
  {
   "cell_type": "markdown",
   "id": "83aed963",
   "metadata": {},
   "source": [
    "# 🤓 Feature engineering"
   ]
  },
  {
   "cell_type": "markdown",
   "id": "2da6a82c",
   "metadata": {},
   "source": [
    "1. number of dependencies\n",
    "2. garden or not --> ???"
   ]
  },
  {
   "cell_type": "markdown",
   "id": "ffc330ae",
   "metadata": {},
   "source": [
    "## 🛖 number of dependencies"
   ]
  },
  {
   "cell_type": "code",
   "execution_count": 18,
   "id": "88dfe3d4",
   "metadata": {},
   "outputs": [],
   "source": [
    "mask_house = df_useful.property_type == 'house'\n",
    "mask_app = df_useful.property_type == 'appartment'\n",
    "mask_dep = df_useful.property_type == 'dep'"
   ]
  },
  {
   "cell_type": "code",
   "execution_count": 19,
   "id": "3384d30e",
   "metadata": {},
   "outputs": [
    {
     "data": {
      "text/html": [
       "<div>\n",
       "<style scoped>\n",
       "    .dataframe tbody tr th:only-of-type {\n",
       "        vertical-align: middle;\n",
       "    }\n",
       "\n",
       "    .dataframe tbody tr th {\n",
       "        vertical-align: top;\n",
       "    }\n",
       "\n",
       "    .dataframe thead th {\n",
       "        text-align: right;\n",
       "    }\n",
       "</style>\n",
       "<table border=\"1\" class=\"dataframe\">\n",
       "  <thead>\n",
       "    <tr style=\"text-align: right;\">\n",
       "      <th></th>\n",
       "      <th>id</th>\n",
       "      <th>nb_of_house</th>\n",
       "    </tr>\n",
       "  </thead>\n",
       "  <tbody>\n",
       "    <tr>\n",
       "      <th>0</th>\n",
       "      <td>2018-697286</td>\n",
       "      <td>3</td>\n",
       "    </tr>\n",
       "    <tr>\n",
       "      <th>1</th>\n",
       "      <td>2018-697295</td>\n",
       "      <td>2</td>\n",
       "    </tr>\n",
       "    <tr>\n",
       "      <th>2</th>\n",
       "      <td>2018-697297</td>\n",
       "      <td>2</td>\n",
       "    </tr>\n",
       "    <tr>\n",
       "      <th>3</th>\n",
       "      <td>2018-697301</td>\n",
       "      <td>2</td>\n",
       "    </tr>\n",
       "    <tr>\n",
       "      <th>4</th>\n",
       "      <td>2018-697310</td>\n",
       "      <td>2</td>\n",
       "    </tr>\n",
       "  </tbody>\n",
       "</table>\n",
       "</div>"
      ],
      "text/plain": [
       "            id  nb_of_house\n",
       "0  2018-697286            3\n",
       "1  2018-697295            2\n",
       "2  2018-697297            2\n",
       "3  2018-697301            2\n",
       "4  2018-697310            2"
      ]
     },
     "execution_count": 19,
     "metadata": {},
     "output_type": "execute_result"
    }
   ],
   "source": [
    "#find the number of houses per id\n",
    "num_of_houses_df = df_useful[['id','property_type']][mask_house].groupby(by = 'id', as_index = False).count()\n",
    "num_of_houses_df.value_counts()\n",
    "num_of_houses_df.columns = ['id', 'nb_of_house']\n",
    "num_of_houses_df.head()"
   ]
  },
  {
   "cell_type": "code",
   "execution_count": 20,
   "id": "50dd6b7d",
   "metadata": {},
   "outputs": [
    {
     "data": {
      "text/html": [
       "<div>\n",
       "<style scoped>\n",
       "    .dataframe tbody tr th:only-of-type {\n",
       "        vertical-align: middle;\n",
       "    }\n",
       "\n",
       "    .dataframe tbody tr th {\n",
       "        vertical-align: top;\n",
       "    }\n",
       "\n",
       "    .dataframe thead th {\n",
       "        text-align: right;\n",
       "    }\n",
       "</style>\n",
       "<table border=\"1\" class=\"dataframe\">\n",
       "  <thead>\n",
       "    <tr style=\"text-align: right;\">\n",
       "      <th></th>\n",
       "      <th>id</th>\n",
       "      <th>nb_of_app</th>\n",
       "    </tr>\n",
       "  </thead>\n",
       "  <tbody>\n",
       "    <tr>\n",
       "      <th>0</th>\n",
       "      <td>2018-697281</td>\n",
       "      <td>3</td>\n",
       "    </tr>\n",
       "    <tr>\n",
       "      <th>1</th>\n",
       "      <td>2018-697282</td>\n",
       "      <td>3</td>\n",
       "    </tr>\n",
       "    <tr>\n",
       "      <th>2</th>\n",
       "      <td>2018-697283</td>\n",
       "      <td>3</td>\n",
       "    </tr>\n",
       "    <tr>\n",
       "      <th>3</th>\n",
       "      <td>2018-697284</td>\n",
       "      <td>3</td>\n",
       "    </tr>\n",
       "    <tr>\n",
       "      <th>4</th>\n",
       "      <td>2018-697287</td>\n",
       "      <td>2</td>\n",
       "    </tr>\n",
       "  </tbody>\n",
       "</table>\n",
       "</div>"
      ],
      "text/plain": [
       "            id  nb_of_app\n",
       "0  2018-697281          3\n",
       "1  2018-697282          3\n",
       "2  2018-697283          3\n",
       "3  2018-697284          3\n",
       "4  2018-697287          2"
      ]
     },
     "execution_count": 20,
     "metadata": {},
     "output_type": "execute_result"
    }
   ],
   "source": [
    "#find the number of appartments per id\n",
    "num_of_app_df = df_useful[['id','property_type']][mask_app].groupby(by = 'id', as_index = False).count()\n",
    "num_of_app_df.value_counts()\n",
    "num_of_app_df.columns = ['id', 'nb_of_app']\n",
    "num_of_app_df.head()"
   ]
  },
  {
   "cell_type": "code",
   "execution_count": 21,
   "id": "907e909b",
   "metadata": {},
   "outputs": [
    {
     "data": {
      "text/html": [
       "<div>\n",
       "<style scoped>\n",
       "    .dataframe tbody tr th:only-of-type {\n",
       "        vertical-align: middle;\n",
       "    }\n",
       "\n",
       "    .dataframe tbody tr th {\n",
       "        vertical-align: top;\n",
       "    }\n",
       "\n",
       "    .dataframe thead th {\n",
       "        text-align: right;\n",
       "    }\n",
       "</style>\n",
       "<table border=\"1\" class=\"dataframe\">\n",
       "  <thead>\n",
       "    <tr style=\"text-align: right;\">\n",
       "      <th></th>\n",
       "      <th>id</th>\n",
       "      <th>nb_of_dep</th>\n",
       "    </tr>\n",
       "  </thead>\n",
       "  <tbody>\n",
       "    <tr>\n",
       "      <th>0</th>\n",
       "      <td>2018-697281</td>\n",
       "      <td>3</td>\n",
       "    </tr>\n",
       "    <tr>\n",
       "      <th>1</th>\n",
       "      <td>2018-697283</td>\n",
       "      <td>3</td>\n",
       "    </tr>\n",
       "    <tr>\n",
       "      <th>2</th>\n",
       "      <td>2018-697284</td>\n",
       "      <td>3</td>\n",
       "    </tr>\n",
       "    <tr>\n",
       "      <th>3</th>\n",
       "      <td>2018-697287</td>\n",
       "      <td>2</td>\n",
       "    </tr>\n",
       "    <tr>\n",
       "      <th>4</th>\n",
       "      <td>2018-697290</td>\n",
       "      <td>2</td>\n",
       "    </tr>\n",
       "  </tbody>\n",
       "</table>\n",
       "</div>"
      ],
      "text/plain": [
       "            id  nb_of_dep\n",
       "0  2018-697281          3\n",
       "1  2018-697283          3\n",
       "2  2018-697284          3\n",
       "3  2018-697287          2\n",
       "4  2018-697290          2"
      ]
     },
     "execution_count": 21,
     "metadata": {},
     "output_type": "execute_result"
    }
   ],
   "source": [
    "#find the number of dep per id\n",
    "num_of_dep_df = df_useful[['id','property_type']][mask_dep].groupby(by = 'id', as_index = False).count()\n",
    "num_of_dep_df.value_counts()\n",
    "num_of_dep_df.columns = ['id', 'nb_of_dep']\n",
    "num_of_dep_df.head()"
   ]
  },
  {
   "cell_type": "code",
   "execution_count": 22,
   "id": "a0160cbe",
   "metadata": {},
   "outputs": [
    {
     "data": {
      "text/plain": [
       "34073"
      ]
     },
     "execution_count": 22,
     "metadata": {},
     "output_type": "execute_result"
    }
   ],
   "source": [
    "num_of_dep_df.id.nunique()"
   ]
  },
  {
   "cell_type": "markdown",
   "id": "ef4c7527",
   "metadata": {},
   "source": [
    "➕ adding columns to df_useful"
   ]
  },
  {
   "cell_type": "code",
   "execution_count": 23,
   "id": "888984f2",
   "metadata": {},
   "outputs": [
    {
     "data": {
      "text/html": [
       "<div>\n",
       "<style scoped>\n",
       "    .dataframe tbody tr th:only-of-type {\n",
       "        vertical-align: middle;\n",
       "    }\n",
       "\n",
       "    .dataframe tbody tr th {\n",
       "        vertical-align: top;\n",
       "    }\n",
       "\n",
       "    .dataframe thead th {\n",
       "        text-align: right;\n",
       "    }\n",
       "</style>\n",
       "<table border=\"1\" class=\"dataframe\">\n",
       "  <thead>\n",
       "    <tr style=\"text-align: right;\">\n",
       "      <th></th>\n",
       "      <th>id</th>\n",
       "      <th>date</th>\n",
       "      <th>built</th>\n",
       "      <th>price</th>\n",
       "      <th>postal_code</th>\n",
       "      <th>city</th>\n",
       "      <th>region</th>\n",
       "      <th>property_type</th>\n",
       "      <th>living_area</th>\n",
       "      <th>number_of_rooms</th>\n",
       "      <th>land_area</th>\n",
       "      <th>longitude</th>\n",
       "      <th>latitude</th>\n",
       "      <th>nb_of_house</th>\n",
       "      <th>nb_of_app</th>\n",
       "      <th>nb_of_dep</th>\n",
       "    </tr>\n",
       "  </thead>\n",
       "  <tbody>\n",
       "    <tr>\n",
       "      <th>47645</th>\n",
       "      <td>2018-707584</td>\n",
       "      <td>2018-10-19</td>\n",
       "      <td>built</td>\n",
       "      <td>182000.0</td>\n",
       "      <td>93330.0</td>\n",
       "      <td>93050</td>\n",
       "      <td>93</td>\n",
       "      <td>appartment</td>\n",
       "      <td>105.0</td>\n",
       "      <td>7.0</td>\n",
       "      <td>NaN</td>\n",
       "      <td>2.530274</td>\n",
       "      <td>48.866094</td>\n",
       "      <td>NaN</td>\n",
       "      <td>3.0</td>\n",
       "      <td>3.0</td>\n",
       "    </tr>\n",
       "    <tr>\n",
       "      <th>54870</th>\n",
       "      <td>2018-709206</td>\n",
       "      <td>2018-08-29</td>\n",
       "      <td>built</td>\n",
       "      <td>243000.00</td>\n",
       "      <td>93110</td>\n",
       "      <td>93064</td>\n",
       "      <td>93</td>\n",
       "      <td>dep</td>\n",
       "      <td>NaN</td>\n",
       "      <td>0</td>\n",
       "      <td>NaN</td>\n",
       "      <td>2.4831510</td>\n",
       "      <td>48.8728020</td>\n",
       "      <td>NaN</td>\n",
       "      <td>3.0</td>\n",
       "      <td>3.0</td>\n",
       "    </tr>\n",
       "    <tr>\n",
       "      <th>2366</th>\n",
       "      <td>2018-697557</td>\n",
       "      <td>2018-07-17</td>\n",
       "      <td>built</td>\n",
       "      <td>NaN</td>\n",
       "      <td>93230.0</td>\n",
       "      <td>93063</td>\n",
       "      <td>93</td>\n",
       "      <td>appartment</td>\n",
       "      <td>80.0</td>\n",
       "      <td>5.0</td>\n",
       "      <td>3959.0</td>\n",
       "      <td>2.433741</td>\n",
       "      <td>48.89136</td>\n",
       "      <td>64.0</td>\n",
       "      <td>7452.0</td>\n",
       "      <td>1058.0</td>\n",
       "    </tr>\n",
       "    <tr>\n",
       "      <th>25807</th>\n",
       "      <td>2018-702903</td>\n",
       "      <td>2018-11-08</td>\n",
       "      <td>built</td>\n",
       "      <td>133000.0</td>\n",
       "      <td>93350.0</td>\n",
       "      <td>93013</td>\n",
       "      <td>93</td>\n",
       "      <td>appartment</td>\n",
       "      <td>32.0</td>\n",
       "      <td>2.0</td>\n",
       "      <td>NaN</td>\n",
       "      <td>2.424835</td>\n",
       "      <td>48.936826</td>\n",
       "      <td>NaN</td>\n",
       "      <td>3.0</td>\n",
       "      <td>NaN</td>\n",
       "    </tr>\n",
       "    <tr>\n",
       "      <th>36954</th>\n",
       "      <td>2018-705104</td>\n",
       "      <td>2018-10-11</td>\n",
       "      <td>built</td>\n",
       "      <td>550000.00</td>\n",
       "      <td>93290</td>\n",
       "      <td>93073</td>\n",
       "      <td>93</td>\n",
       "      <td>appartment</td>\n",
       "      <td>54.00</td>\n",
       "      <td>3</td>\n",
       "      <td>479.00</td>\n",
       "      <td>2.5610560</td>\n",
       "      <td>48.9624430</td>\n",
       "      <td>4.0</td>\n",
       "      <td>24.0</td>\n",
       "      <td>NaN</td>\n",
       "    </tr>\n",
       "  </tbody>\n",
       "</table>\n",
       "</div>"
      ],
      "text/plain": [
       "                id        date  built      price postal_code   city region  \\\n",
       "47645  2018-707584  2018-10-19  built   182000.0     93330.0  93050     93   \n",
       "54870  2018-709206  2018-08-29  built  243000.00       93110  93064     93   \n",
       "2366   2018-697557  2018-07-17  built        NaN     93230.0  93063     93   \n",
       "25807  2018-702903  2018-11-08  built   133000.0     93350.0  93013     93   \n",
       "36954  2018-705104  2018-10-11  built  550000.00       93290  93073     93   \n",
       "\n",
       "      property_type living_area number_of_rooms land_area  longitude  \\\n",
       "47645    appartment       105.0             7.0       NaN   2.530274   \n",
       "54870           dep         NaN               0       NaN  2.4831510   \n",
       "2366     appartment        80.0             5.0    3959.0   2.433741   \n",
       "25807    appartment        32.0             2.0       NaN   2.424835   \n",
       "36954    appartment       54.00               3    479.00  2.5610560   \n",
       "\n",
       "         latitude  nb_of_house  nb_of_app  nb_of_dep  \n",
       "47645   48.866094          NaN        3.0        3.0  \n",
       "54870  48.8728020          NaN        3.0        3.0  \n",
       "2366     48.89136         64.0     7452.0     1058.0  \n",
       "25807   48.936826          NaN        3.0        NaN  \n",
       "36954  48.9624430          4.0       24.0        NaN  "
      ]
     },
     "execution_count": 23,
     "metadata": {},
     "output_type": "execute_result"
    }
   ],
   "source": [
    "df_feat = df_useful.merge(num_of_houses_df, on = 'id', how = 'outer')\n",
    "df_feat = df_feat.merge(num_of_app_df, on = 'id', how = 'outer')\n",
    "df_feat = df_feat.merge(num_of_dep_df, on = 'id', how = 'outer')\n",
    "df_feat.sample(5)"
   ]
  },
  {
   "cell_type": "code",
   "execution_count": 24,
   "id": "e7d644cc",
   "metadata": {},
   "outputs": [],
   "source": [
    "df_feat.fillna({'nb_of_house' : 0, 'nb_of_app' : 0, 'nb_of_dep' : 0, 'land_area' : 0}, inplace=True)"
   ]
  },
  {
   "cell_type": "code",
   "execution_count": 25,
   "id": "1fb432c0",
   "metadata": {},
   "outputs": [
    {
     "data": {
      "text/plain": [
       "(60127, 17)"
      ]
     },
     "execution_count": 25,
     "metadata": {},
     "output_type": "execute_result"
    }
   ],
   "source": [
    "# remove lines with multiple houses or appartments in same sale_id\n",
    "df_feat['nb_of_units'] = df_feat.nb_of_app+df_feat.nb_of_house\n",
    "mask_units = (df_feat['nb_of_units'] == 1)\n",
    "df_filtered = df_feat[mask_units]\n",
    "df_filtered.shape"
   ]
  },
  {
   "cell_type": "code",
   "execution_count": 26,
   "id": "09fcfda0",
   "metadata": {},
   "outputs": [
    {
     "data": {
      "text/html": [
       "<div>\n",
       "<style scoped>\n",
       "    .dataframe tbody tr th:only-of-type {\n",
       "        vertical-align: middle;\n",
       "    }\n",
       "\n",
       "    .dataframe tbody tr th {\n",
       "        vertical-align: top;\n",
       "    }\n",
       "\n",
       "    .dataframe thead th {\n",
       "        text-align: right;\n",
       "    }\n",
       "</style>\n",
       "<table border=\"1\" class=\"dataframe\">\n",
       "  <thead>\n",
       "    <tr style=\"text-align: right;\">\n",
       "      <th></th>\n",
       "      <th>id</th>\n",
       "      <th>date</th>\n",
       "      <th>built</th>\n",
       "      <th>price</th>\n",
       "      <th>postal_code</th>\n",
       "      <th>city</th>\n",
       "      <th>region</th>\n",
       "      <th>property_type</th>\n",
       "      <th>living_area</th>\n",
       "      <th>number_of_rooms</th>\n",
       "      <th>land_area</th>\n",
       "      <th>longitude</th>\n",
       "      <th>latitude</th>\n",
       "      <th>nb_of_house</th>\n",
       "      <th>nb_of_app</th>\n",
       "      <th>nb_of_dep</th>\n",
       "      <th>nb_of_units</th>\n",
       "    </tr>\n",
       "  </thead>\n",
       "  <tbody>\n",
       "    <tr>\n",
       "      <th>135460</th>\n",
       "      <td>2022-1533051</td>\n",
       "      <td>2022-02-04</td>\n",
       "      <td>built</td>\n",
       "      <td>194000.00</td>\n",
       "      <td>93350</td>\n",
       "      <td>93013</td>\n",
       "      <td>93</td>\n",
       "      <td>appartment</td>\n",
       "      <td>77.00</td>\n",
       "      <td>3</td>\n",
       "      <td>0</td>\n",
       "      <td>2.4279430</td>\n",
       "      <td>48.9350400</td>\n",
       "      <td>0.0</td>\n",
       "      <td>1.0</td>\n",
       "      <td>1.0</td>\n",
       "      <td>1.0</td>\n",
       "    </tr>\n",
       "    <tr>\n",
       "      <th>129782</th>\n",
       "      <td>2021-1603965</td>\n",
       "      <td>2021-12-13</td>\n",
       "      <td>built</td>\n",
       "      <td>600000.0</td>\n",
       "      <td>93320.0</td>\n",
       "      <td>93057</td>\n",
       "      <td>93</td>\n",
       "      <td>house</td>\n",
       "      <td>120.0</td>\n",
       "      <td>4.0</td>\n",
       "      <td>443.0</td>\n",
       "      <td>2.504688</td>\n",
       "      <td>48.899923</td>\n",
       "      <td>1.0</td>\n",
       "      <td>0.0</td>\n",
       "      <td>0.0</td>\n",
       "      <td>1.0</td>\n",
       "    </tr>\n",
       "    <tr>\n",
       "      <th>158309</th>\n",
       "      <td>2019-1417854</td>\n",
       "      <td>2019-04-12</td>\n",
       "      <td>built</td>\n",
       "      <td>85000.00</td>\n",
       "      <td>93400</td>\n",
       "      <td>93070</td>\n",
       "      <td>93</td>\n",
       "      <td>appartment</td>\n",
       "      <td>18.00</td>\n",
       "      <td>1</td>\n",
       "      <td>0</td>\n",
       "      <td>2.3339050</td>\n",
       "      <td>48.9012090</td>\n",
       "      <td>0.0</td>\n",
       "      <td>1.0</td>\n",
       "      <td>0.0</td>\n",
       "      <td>1.0</td>\n",
       "    </tr>\n",
       "    <tr>\n",
       "      <th>194778</th>\n",
       "      <td>2019-1433386</td>\n",
       "      <td>2019-03-21</td>\n",
       "      <td>off-plan</td>\n",
       "      <td>267525.0</td>\n",
       "      <td>93110.0</td>\n",
       "      <td>93064</td>\n",
       "      <td>93</td>\n",
       "      <td>dep</td>\n",
       "      <td>NaN</td>\n",
       "      <td>0.0</td>\n",
       "      <td>0</td>\n",
       "      <td>2.487046</td>\n",
       "      <td>48.865703</td>\n",
       "      <td>0.0</td>\n",
       "      <td>1.0</td>\n",
       "      <td>1.0</td>\n",
       "      <td>1.0</td>\n",
       "    </tr>\n",
       "    <tr>\n",
       "      <th>128433</th>\n",
       "      <td>2021-1603059</td>\n",
       "      <td>2021-12-03</td>\n",
       "      <td>built</td>\n",
       "      <td>320000.0</td>\n",
       "      <td>93160.0</td>\n",
       "      <td>93051</td>\n",
       "      <td>93</td>\n",
       "      <td>dep</td>\n",
       "      <td>NaN</td>\n",
       "      <td>0.0</td>\n",
       "      <td>0</td>\n",
       "      <td>2.574205</td>\n",
       "      <td>48.831552</td>\n",
       "      <td>0.0</td>\n",
       "      <td>1.0</td>\n",
       "      <td>4.0</td>\n",
       "      <td>1.0</td>\n",
       "    </tr>\n",
       "    <tr>\n",
       "      <th>106930</th>\n",
       "      <td>2020-1355507</td>\n",
       "      <td>2020-06-23</td>\n",
       "      <td>built</td>\n",
       "      <td>171900.00</td>\n",
       "      <td>93270</td>\n",
       "      <td>93071</td>\n",
       "      <td>93</td>\n",
       "      <td>appartment</td>\n",
       "      <td>80.00</td>\n",
       "      <td>4</td>\n",
       "      <td>0</td>\n",
       "      <td>2.5509130</td>\n",
       "      <td>48.9431830</td>\n",
       "      <td>0.0</td>\n",
       "      <td>1.0</td>\n",
       "      <td>1.0</td>\n",
       "      <td>1.0</td>\n",
       "    </tr>\n",
       "    <tr>\n",
       "      <th>139804</th>\n",
       "      <td>2022-1548833</td>\n",
       "      <td>2022-09-27</td>\n",
       "      <td>built</td>\n",
       "      <td>285000.0</td>\n",
       "      <td>93220.0</td>\n",
       "      <td>93032</td>\n",
       "      <td>93</td>\n",
       "      <td>dep</td>\n",
       "      <td>NaN</td>\n",
       "      <td>0.0</td>\n",
       "      <td>509.0</td>\n",
       "      <td>2.545809</td>\n",
       "      <td>48.893874</td>\n",
       "      <td>1.0</td>\n",
       "      <td>0.0</td>\n",
       "      <td>2.0</td>\n",
       "      <td>1.0</td>\n",
       "    </tr>\n",
       "    <tr>\n",
       "      <th>191732</th>\n",
       "      <td>2019-1431207</td>\n",
       "      <td>2019-09-18</td>\n",
       "      <td>built</td>\n",
       "      <td>207068.97</td>\n",
       "      <td>93160.0</td>\n",
       "      <td>93051</td>\n",
       "      <td>93</td>\n",
       "      <td>dep</td>\n",
       "      <td>NaN</td>\n",
       "      <td>0.0</td>\n",
       "      <td>0</td>\n",
       "      <td>2.569599</td>\n",
       "      <td>48.842485</td>\n",
       "      <td>0.0</td>\n",
       "      <td>1.0</td>\n",
       "      <td>2.0</td>\n",
       "      <td>1.0</td>\n",
       "    </tr>\n",
       "    <tr>\n",
       "      <th>112613</th>\n",
       "      <td>2020-1359847</td>\n",
       "      <td>2020-04-21</td>\n",
       "      <td>built</td>\n",
       "      <td>145000.0</td>\n",
       "      <td>93160.0</td>\n",
       "      <td>93051</td>\n",
       "      <td>93</td>\n",
       "      <td>dep</td>\n",
       "      <td>NaN</td>\n",
       "      <td>0.0</td>\n",
       "      <td>0</td>\n",
       "      <td>2.5656</td>\n",
       "      <td>48.843514</td>\n",
       "      <td>0.0</td>\n",
       "      <td>1.0</td>\n",
       "      <td>1.0</td>\n",
       "      <td>1.0</td>\n",
       "    </tr>\n",
       "    <tr>\n",
       "      <th>156713</th>\n",
       "      <td>2019-1416601</td>\n",
       "      <td>2019-01-17</td>\n",
       "      <td>built</td>\n",
       "      <td>183000.00</td>\n",
       "      <td>93120</td>\n",
       "      <td>93027</td>\n",
       "      <td>93</td>\n",
       "      <td>dep</td>\n",
       "      <td>NaN</td>\n",
       "      <td>0</td>\n",
       "      <td>0</td>\n",
       "      <td>2.3800680</td>\n",
       "      <td>48.9306970</td>\n",
       "      <td>0.0</td>\n",
       "      <td>1.0</td>\n",
       "      <td>1.0</td>\n",
       "      <td>1.0</td>\n",
       "    </tr>\n",
       "  </tbody>\n",
       "</table>\n",
       "</div>"
      ],
      "text/plain": [
       "                  id        date     built      price postal_code   city  \\\n",
       "135460  2022-1533051  2022-02-04     built  194000.00       93350  93013   \n",
       "129782  2021-1603965  2021-12-13     built   600000.0     93320.0  93057   \n",
       "158309  2019-1417854  2019-04-12     built   85000.00       93400  93070   \n",
       "194778  2019-1433386  2019-03-21  off-plan   267525.0     93110.0  93064   \n",
       "128433  2021-1603059  2021-12-03     built   320000.0     93160.0  93051   \n",
       "106930  2020-1355507  2020-06-23     built  171900.00       93270  93071   \n",
       "139804  2022-1548833  2022-09-27     built   285000.0     93220.0  93032   \n",
       "191732  2019-1431207  2019-09-18     built  207068.97     93160.0  93051   \n",
       "112613  2020-1359847  2020-04-21     built   145000.0     93160.0  93051   \n",
       "156713  2019-1416601  2019-01-17     built  183000.00       93120  93027   \n",
       "\n",
       "       region property_type living_area number_of_rooms land_area  longitude  \\\n",
       "135460     93    appartment       77.00               3         0  2.4279430   \n",
       "129782     93         house       120.0             4.0     443.0   2.504688   \n",
       "158309     93    appartment       18.00               1         0  2.3339050   \n",
       "194778     93           dep         NaN             0.0         0   2.487046   \n",
       "128433     93           dep         NaN             0.0         0   2.574205   \n",
       "106930     93    appartment       80.00               4         0  2.5509130   \n",
       "139804     93           dep         NaN             0.0     509.0   2.545809   \n",
       "191732     93           dep         NaN             0.0         0   2.569599   \n",
       "112613     93           dep         NaN             0.0         0     2.5656   \n",
       "156713     93           dep         NaN               0         0  2.3800680   \n",
       "\n",
       "          latitude  nb_of_house  nb_of_app  nb_of_dep  nb_of_units  \n",
       "135460  48.9350400          0.0        1.0        1.0          1.0  \n",
       "129782   48.899923          1.0        0.0        0.0          1.0  \n",
       "158309  48.9012090          0.0        1.0        0.0          1.0  \n",
       "194778   48.865703          0.0        1.0        1.0          1.0  \n",
       "128433   48.831552          0.0        1.0        4.0          1.0  \n",
       "106930  48.9431830          0.0        1.0        1.0          1.0  \n",
       "139804   48.893874          1.0        0.0        2.0          1.0  \n",
       "191732   48.842485          0.0        1.0        2.0          1.0  \n",
       "112613   48.843514          0.0        1.0        1.0          1.0  \n",
       "156713  48.9306970          0.0        1.0        1.0          1.0  "
      ]
     },
     "execution_count": 26,
     "metadata": {},
     "output_type": "execute_result"
    }
   ],
   "source": [
    "df_filtered.sample(10)"
   ]
  },
  {
   "cell_type": "code",
   "execution_count": 27,
   "id": "c90938db",
   "metadata": {},
   "outputs": [
    {
     "data": {
      "text/plain": [
       "(36309, 17)"
      ]
     },
     "execution_count": 27,
     "metadata": {},
     "output_type": "execute_result"
    }
   ],
   "source": [
    "#filter out the dependencies\n",
    "filter_type = (df_filtered['property_type'] != 'dep')\n",
    "df_filtered = df_filtered[filter_type]\n",
    "df_filtered.shape"
   ]
  },
  {
   "cell_type": "code",
   "execution_count": 28,
   "id": "61341bbe",
   "metadata": {},
   "outputs": [
    {
     "data": {
      "text/html": [
       "<div>\n",
       "<style scoped>\n",
       "    .dataframe tbody tr th:only-of-type {\n",
       "        vertical-align: middle;\n",
       "    }\n",
       "\n",
       "    .dataframe tbody tr th {\n",
       "        vertical-align: top;\n",
       "    }\n",
       "\n",
       "    .dataframe thead th {\n",
       "        text-align: right;\n",
       "    }\n",
       "</style>\n",
       "<table border=\"1\" class=\"dataframe\">\n",
       "  <thead>\n",
       "    <tr style=\"text-align: right;\">\n",
       "      <th></th>\n",
       "      <th>id</th>\n",
       "      <th>date</th>\n",
       "      <th>built</th>\n",
       "      <th>price</th>\n",
       "      <th>postal_code</th>\n",
       "      <th>city</th>\n",
       "      <th>region</th>\n",
       "      <th>property_type</th>\n",
       "      <th>living_area</th>\n",
       "      <th>number_of_rooms</th>\n",
       "      <th>land_area</th>\n",
       "      <th>longitude</th>\n",
       "      <th>latitude</th>\n",
       "      <th>nb_of_dep</th>\n",
       "    </tr>\n",
       "  </thead>\n",
       "  <tbody>\n",
       "    <tr>\n",
       "      <th>158556</th>\n",
       "      <td>2019-1417996</td>\n",
       "      <td>2019-04-01</td>\n",
       "      <td>built</td>\n",
       "      <td>223000.00</td>\n",
       "      <td>93400</td>\n",
       "      <td>93070</td>\n",
       "      <td>93</td>\n",
       "      <td>appartment</td>\n",
       "      <td>45.00</td>\n",
       "      <td>2</td>\n",
       "      <td>0</td>\n",
       "      <td>2.3387470</td>\n",
       "      <td>48.9067160</td>\n",
       "      <td>1.0</td>\n",
       "    </tr>\n",
       "    <tr>\n",
       "      <th>152388</th>\n",
       "      <td>2023-516452</td>\n",
       "      <td>2023-03-13</td>\n",
       "      <td>built</td>\n",
       "      <td>150000.00</td>\n",
       "      <td>93260</td>\n",
       "      <td>93045</td>\n",
       "      <td>93</td>\n",
       "      <td>appartment</td>\n",
       "      <td>21.00</td>\n",
       "      <td>2</td>\n",
       "      <td>0</td>\n",
       "      <td>2.4132300</td>\n",
       "      <td>48.8808210</td>\n",
       "      <td>0.0</td>\n",
       "    </tr>\n",
       "    <tr>\n",
       "      <th>126522</th>\n",
       "      <td>2021-1601835</td>\n",
       "      <td>2021-10-26</td>\n",
       "      <td>built</td>\n",
       "      <td>325950.0</td>\n",
       "      <td>93110.0</td>\n",
       "      <td>93064</td>\n",
       "      <td>93</td>\n",
       "      <td>appartment</td>\n",
       "      <td>65.0</td>\n",
       "      <td>3.0</td>\n",
       "      <td>0</td>\n",
       "      <td>2.481825</td>\n",
       "      <td>48.876992</td>\n",
       "      <td>1.0</td>\n",
       "    </tr>\n",
       "    <tr>\n",
       "      <th>145637</th>\n",
       "      <td>2022-1552979</td>\n",
       "      <td>2022-11-18</td>\n",
       "      <td>built</td>\n",
       "      <td>234000.0</td>\n",
       "      <td>93250.0</td>\n",
       "      <td>93077</td>\n",
       "      <td>93</td>\n",
       "      <td>appartment</td>\n",
       "      <td>56.0</td>\n",
       "      <td>3.0</td>\n",
       "      <td>0</td>\n",
       "      <td>2.509527</td>\n",
       "      <td>48.888574</td>\n",
       "      <td>1.0</td>\n",
       "    </tr>\n",
       "    <tr>\n",
       "      <th>89053</th>\n",
       "      <td>2022-1538507</td>\n",
       "      <td>2022-04-15</td>\n",
       "      <td>built</td>\n",
       "      <td>202000.0</td>\n",
       "      <td>93240.0</td>\n",
       "      <td>93072</td>\n",
       "      <td>93</td>\n",
       "      <td>appartment</td>\n",
       "      <td>66.0</td>\n",
       "      <td>3.0</td>\n",
       "      <td>0</td>\n",
       "      <td>2.380785</td>\n",
       "      <td>48.958545</td>\n",
       "      <td>1.0</td>\n",
       "    </tr>\n",
       "  </tbody>\n",
       "</table>\n",
       "</div>"
      ],
      "text/plain": [
       "                  id        date  built      price postal_code   city region  \\\n",
       "158556  2019-1417996  2019-04-01  built  223000.00       93400  93070     93   \n",
       "152388   2023-516452  2023-03-13  built  150000.00       93260  93045     93   \n",
       "126522  2021-1601835  2021-10-26  built   325950.0     93110.0  93064     93   \n",
       "145637  2022-1552979  2022-11-18  built   234000.0     93250.0  93077     93   \n",
       "89053   2022-1538507  2022-04-15  built   202000.0     93240.0  93072     93   \n",
       "\n",
       "       property_type living_area number_of_rooms land_area  longitude  \\\n",
       "158556    appartment       45.00               2         0  2.3387470   \n",
       "152388    appartment       21.00               2         0  2.4132300   \n",
       "126522    appartment        65.0             3.0         0   2.481825   \n",
       "145637    appartment        56.0             3.0         0   2.509527   \n",
       "89053     appartment        66.0             3.0         0   2.380785   \n",
       "\n",
       "          latitude  nb_of_dep  \n",
       "158556  48.9067160        1.0  \n",
       "152388  48.8808210        0.0  \n",
       "126522   48.876992        1.0  \n",
       "145637   48.888574        1.0  \n",
       "89053    48.958545        1.0  "
      ]
     },
     "execution_count": 28,
     "metadata": {},
     "output_type": "execute_result"
    }
   ],
   "source": [
    "df_filtered_drop = df_filtered.drop(columns = ['nb_of_units', 'nb_of_app', 'nb_of_house'])\n",
    "df_filtered_drop.shape\n",
    "df_filtered_drop.sample(5)"
   ]
  },
  {
   "cell_type": "code",
   "execution_count": 29,
   "id": "af62ca39",
   "metadata": {},
   "outputs": [
    {
     "data": {
      "text/plain": [
       "0"
      ]
     },
     "execution_count": 29,
     "metadata": {},
     "output_type": "execute_result"
    }
   ],
   "source": [
    "df_filtered_drop.duplicated().sum()"
   ]
  },
  {
   "cell_type": "markdown",
   "id": "4bf67c92",
   "metadata": {},
   "source": [
    "## 🌼 Adding garden feature ? TODO : Nan = 0, other number = 1"
   ]
  },
  {
   "cell_type": "markdown",
   "id": "e0ecad89",
   "metadata": {},
   "source": [
    "❓❔❓ relation between land_area and living_area"
   ]
  },
  {
   "cell_type": "code",
   "execution_count": 30,
   "id": "7a528bf1",
   "metadata": {},
   "outputs": [
    {
     "data": {
      "text/plain": [
       "0"
      ]
     },
     "execution_count": 30,
     "metadata": {},
     "output_type": "execute_result"
    }
   ],
   "source": [
    "df_filtered_drop.duplicated().sum()"
   ]
  },
  {
   "cell_type": "code",
   "execution_count": 31,
   "id": "e8580789",
   "metadata": {},
   "outputs": [
    {
     "data": {
      "text/plain": [
       "id                 0.000000\n",
       "date               0.000000\n",
       "built              0.000000\n",
       "price              0.000441\n",
       "postal_code        0.000000\n",
       "city               0.000000\n",
       "region             0.000000\n",
       "property_type      0.000000\n",
       "living_area        0.000028\n",
       "number_of_rooms    0.000028\n",
       "land_area          0.000000\n",
       "longitude          0.006279\n",
       "latitude           0.006279\n",
       "nb_of_dep          0.000000\n",
       "dtype: float64"
      ]
     },
     "execution_count": 31,
     "metadata": {},
     "output_type": "execute_result"
    }
   ],
   "source": [
    "df_filtered_drop.isnull().sum()/len(df_filtered_drop) # 76 % of land_area is null"
   ]
  },
  {
   "cell_type": "code",
   "execution_count": 32,
   "id": "3270a3f0",
   "metadata": {},
   "outputs": [
    {
     "data": {
      "text/plain": [
       "id                 0.000000\n",
       "date               0.000000\n",
       "built              0.000000\n",
       "price              0.000407\n",
       "postal_code        0.000000\n",
       "city               0.000000\n",
       "region             0.000000\n",
       "property_type      0.000000\n",
       "living_area        0.000000\n",
       "number_of_rooms    0.000000\n",
       "land_area          0.000000\n",
       "longitude          0.009459\n",
       "latitude           0.009459\n",
       "nb_of_dep          0.000000\n",
       "dtype: float64"
      ]
     },
     "execution_count": 32,
     "metadata": {},
     "output_type": "execute_result"
    }
   ],
   "source": [
    "mask_house = df_filtered_drop.property_type == 'house'\n",
    "df_filtered_drop[mask_house].isnull().sum()/len(df_filtered_drop[mask_house]) # 13 % of land_area is null"
   ]
  },
  {
   "cell_type": "code",
   "execution_count": 33,
   "id": "f655b16e",
   "metadata": {},
   "outputs": [
    {
     "data": {
      "text/plain": [
       "id                 0.000000\n",
       "date               0.000000\n",
       "built              0.000000\n",
       "price              0.000453\n",
       "postal_code        0.000000\n",
       "city               0.000000\n",
       "region             0.000000\n",
       "property_type      0.000000\n",
       "living_area        0.000038\n",
       "number_of_rooms    0.000038\n",
       "land_area          0.000000\n",
       "longitude          0.005099\n",
       "latitude           0.005099\n",
       "nb_of_dep          0.000000\n",
       "dtype: float64"
      ]
     },
     "execution_count": 33,
     "metadata": {},
     "output_type": "execute_result"
    }
   ],
   "source": [
    "mask_appartments = df_filtered_drop.property_type == 'appartment'\n",
    "df_filtered_drop[mask_appartments].isnull().sum()/len(df_filtered_drop[mask_appartments]) # 99 % of land_area is null"
   ]
  },
  {
   "cell_type": "code",
   "execution_count": 34,
   "id": "37a1ed73",
   "metadata": {},
   "outputs": [],
   "source": [
    "########################################### TO DO : garden 1 or 0"
   ]
  },
  {
   "cell_type": "markdown",
   "id": "5636c427",
   "metadata": {},
   "source": [
    "## 🚮 Dropping duplicates and NaNs"
   ]
  },
  {
   "cell_type": "markdown",
   "id": "3cbd3457",
   "metadata": {},
   "source": [
    "➡️ 76% of the land_area is Null... --> drop the column land_area ?"
   ]
  },
  {
   "cell_type": "code",
   "execution_count": 35,
   "id": "f73dfdcb",
   "metadata": {},
   "outputs": [
    {
     "data": {
      "text/plain": [
       "(36064, 12)"
      ]
     },
     "execution_count": 35,
     "metadata": {},
     "output_type": "execute_result"
    }
   ],
   "source": [
    "df_final = df_filtered_drop.drop(columns = ['land_area', 'id'])\n",
    "df_clean = df_final.dropna()\n",
    "df_clean.shape"
   ]
  },
  {
   "cell_type": "markdown",
   "id": "907adfcc",
   "metadata": {},
   "source": [
    "## 🧮 Count summary"
   ]
  },
  {
   "cell_type": "code",
   "execution_count": 36,
   "id": "f4901a9f",
   "metadata": {},
   "outputs": [
    {
     "name": "stdout",
     "output_type": "stream",
     "text": [
      "Number of lines before the masks :  271360\n",
      "Number of lines of only normal sales :  268269\n",
      "Number of lines of only house and appartments + dependencies :  204042\n",
      "Number of unique sale ids : 36064\n"
     ]
    }
   ],
   "source": [
    "print('Number of lines before the masks : ', df_93.shape[0])\n",
    "print('Number of lines of only normal sales : ', df_93[((df_93['built'] == \"Vente\") | (df_93['built'] == \"Vente en l'état futur d'achèvement\"))].shape[0])\n",
    "print('Number of lines of only house and appartments + dependencies : ', df_93[((df_93['property_type'] == 'Appartement') | (df_93['property_type'] == 'Maison')| (df_93['property_type'] == 'Dépendance'))].shape[0])\n",
    "print(f'Number of unique sale ids : {df_clean.shape[0]}')"
   ]
  },
  {
   "cell_type": "markdown",
   "id": "e364699d",
   "metadata": {},
   "source": [
    "## 💰 Create € / sq m"
   ]
  },
  {
   "cell_type": "code",
   "execution_count": 37,
   "id": "500cf195",
   "metadata": {},
   "outputs": [],
   "source": [
    "df_clean[['price', 'living_area']] = df_clean[['price', 'living_area']].apply(lambda x: pd.to_numeric(x, errors='coerce').astype('float64'))\n",
    "\n",
    "df_clean['price_per_m2'] = df_clean.price / df_clean.living_area"
   ]
  },
  {
   "cell_type": "code",
   "execution_count": 38,
   "id": "1e7a37f5",
   "metadata": {},
   "outputs": [
    {
     "data": {
      "text/html": [
       "<div>\n",
       "<style scoped>\n",
       "    .dataframe tbody tr th:only-of-type {\n",
       "        vertical-align: middle;\n",
       "    }\n",
       "\n",
       "    .dataframe tbody tr th {\n",
       "        vertical-align: top;\n",
       "    }\n",
       "\n",
       "    .dataframe thead th {\n",
       "        text-align: right;\n",
       "    }\n",
       "</style>\n",
       "<table border=\"1\" class=\"dataframe\">\n",
       "  <thead>\n",
       "    <tr style=\"text-align: right;\">\n",
       "      <th></th>\n",
       "      <th>date</th>\n",
       "      <th>built</th>\n",
       "      <th>price</th>\n",
       "      <th>postal_code</th>\n",
       "      <th>city</th>\n",
       "      <th>region</th>\n",
       "      <th>property_type</th>\n",
       "      <th>living_area</th>\n",
       "      <th>number_of_rooms</th>\n",
       "      <th>longitude</th>\n",
       "      <th>latitude</th>\n",
       "      <th>nb_of_dep</th>\n",
       "      <th>price_per_m2</th>\n",
       "    </tr>\n",
       "  </thead>\n",
       "  <tbody>\n",
       "    <tr>\n",
       "      <th>150299</th>\n",
       "      <td>2022-06-02</td>\n",
       "      <td>built</td>\n",
       "      <td>149000.0</td>\n",
       "      <td>93430.0</td>\n",
       "      <td>93079</td>\n",
       "      <td>93</td>\n",
       "      <td>appartment</td>\n",
       "      <td>43.0</td>\n",
       "      <td>2.0</td>\n",
       "      <td>2.340242</td>\n",
       "      <td>48.952251</td>\n",
       "      <td>2.0</td>\n",
       "      <td>3465.116279</td>\n",
       "    </tr>\n",
       "    <tr>\n",
       "      <th>122926</th>\n",
       "      <td>2021-10-14</td>\n",
       "      <td>built</td>\n",
       "      <td>415110.0</td>\n",
       "      <td>93340.0</td>\n",
       "      <td>93062</td>\n",
       "      <td>93</td>\n",
       "      <td>appartment</td>\n",
       "      <td>100.0</td>\n",
       "      <td>4.0</td>\n",
       "      <td>2.525308</td>\n",
       "      <td>48.899451</td>\n",
       "      <td>3.0</td>\n",
       "      <td>4151.100000</td>\n",
       "    </tr>\n",
       "    <tr>\n",
       "      <th>150236</th>\n",
       "      <td>2022-06-20</td>\n",
       "      <td>built</td>\n",
       "      <td>234000.0</td>\n",
       "      <td>93120.0</td>\n",
       "      <td>93027</td>\n",
       "      <td>93</td>\n",
       "      <td>appartment</td>\n",
       "      <td>82.0</td>\n",
       "      <td>4.0</td>\n",
       "      <td>2.394098</td>\n",
       "      <td>48.931135</td>\n",
       "      <td>1.0</td>\n",
       "      <td>2853.658537</td>\n",
       "    </tr>\n",
       "    <tr>\n",
       "      <th>186250</th>\n",
       "      <td>2019-09-23</td>\n",
       "      <td>built</td>\n",
       "      <td>340000.0</td>\n",
       "      <td>93250</td>\n",
       "      <td>93077</td>\n",
       "      <td>93</td>\n",
       "      <td>house</td>\n",
       "      <td>77.0</td>\n",
       "      <td>4</td>\n",
       "      <td>2.5105360</td>\n",
       "      <td>48.8783110</td>\n",
       "      <td>0.0</td>\n",
       "      <td>4415.584416</td>\n",
       "    </tr>\n",
       "    <tr>\n",
       "      <th>119071</th>\n",
       "      <td>2020-04-17</td>\n",
       "      <td>built</td>\n",
       "      <td>245000.0</td>\n",
       "      <td>93110.0</td>\n",
       "      <td>93064</td>\n",
       "      <td>93</td>\n",
       "      <td>appartment</td>\n",
       "      <td>89.0</td>\n",
       "      <td>4.0</td>\n",
       "      <td>2.470823</td>\n",
       "      <td>48.877821</td>\n",
       "      <td>0.0</td>\n",
       "      <td>2752.808989</td>\n",
       "    </tr>\n",
       "  </tbody>\n",
       "</table>\n",
       "</div>"
      ],
      "text/plain": [
       "              date  built     price postal_code   city region property_type  \\\n",
       "150299  2022-06-02  built  149000.0     93430.0  93079     93    appartment   \n",
       "122926  2021-10-14  built  415110.0     93340.0  93062     93    appartment   \n",
       "150236  2022-06-20  built  234000.0     93120.0  93027     93    appartment   \n",
       "186250  2019-09-23  built  340000.0       93250  93077     93         house   \n",
       "119071  2020-04-17  built  245000.0     93110.0  93064     93    appartment   \n",
       "\n",
       "        living_area number_of_rooms  longitude    latitude  nb_of_dep  \\\n",
       "150299         43.0             2.0   2.340242   48.952251        2.0   \n",
       "122926        100.0             4.0   2.525308   48.899451        3.0   \n",
       "150236         82.0             4.0   2.394098   48.931135        1.0   \n",
       "186250         77.0               4  2.5105360  48.8783110        0.0   \n",
       "119071         89.0             4.0   2.470823   48.877821        0.0   \n",
       "\n",
       "        price_per_m2  \n",
       "150299   3465.116279  \n",
       "122926   4151.100000  \n",
       "150236   2853.658537  \n",
       "186250   4415.584416  \n",
       "119071   2752.808989  "
      ]
     },
     "execution_count": 38,
     "metadata": {},
     "output_type": "execute_result"
    }
   ],
   "source": [
    "df_clean.sample(5)"
   ]
  },
  {
   "cell_type": "markdown",
   "id": "5529d134",
   "metadata": {},
   "source": [
    "## 🦖 Changing everything to the right type"
   ]
  },
  {
   "cell_type": "code",
   "execution_count": 39,
   "id": "61891157",
   "metadata": {},
   "outputs": [
    {
     "data": {
      "text/plain": [
       "Index(['date', 'built', 'price', 'postal_code', 'city', 'region',\n",
       "       'property_type', 'living_area', 'number_of_rooms', 'longitude',\n",
       "       'latitude', 'nb_of_dep', 'price_per_m2'],\n",
       "      dtype='object')"
      ]
     },
     "execution_count": 39,
     "metadata": {},
     "output_type": "execute_result"
    }
   ],
   "source": [
    "df_clean.columns"
   ]
  },
  {
   "cell_type": "code",
   "execution_count": 40,
   "id": "23829c8f",
   "metadata": {},
   "outputs": [
    {
     "name": "stdout",
     "output_type": "stream",
     "text": [
      "<class 'pandas.core.frame.DataFrame'>\n",
      "Int64Index: 36064 entries, 378 to 201417\n",
      "Data columns (total 13 columns):\n",
      " #   Column           Non-Null Count  Dtype         \n",
      "---  ------           --------------  -----         \n",
      " 0   date             36064 non-null  datetime64[ns]\n",
      " 1   built            36064 non-null  object        \n",
      " 2   price            36064 non-null  float64       \n",
      " 3   postal_code      36064 non-null  int64         \n",
      " 4   city             36064 non-null  object        \n",
      " 5   region           36064 non-null  object        \n",
      " 6   property_type    36064 non-null  object        \n",
      " 7   living_area      36064 non-null  float64       \n",
      " 8   number_of_rooms  36064 non-null  int64         \n",
      " 9   longitude        36064 non-null  float64       \n",
      " 10  latitude         36064 non-null  float64       \n",
      " 11  nb_of_dep        36064 non-null  int64         \n",
      " 12  price_per_m2     36064 non-null  float64       \n",
      "dtypes: datetime64[ns](1), float64(5), int64(3), object(4)\n",
      "memory usage: 3.9+ MB\n"
     ]
    }
   ],
   "source": [
    "#changing evething to the right type --> TO DO:should this go to params?\n",
    "col_float = ['price', 'longitude', 'latitude', 'living_area', 'price_per_m2' ]\n",
    "col_string = ['built','city', 'region','property_type']\n",
    "col_date = ['date']\n",
    "col_int = ['postal_code', 'nb_of_dep', 'number_of_rooms']\n",
    "#formating data types\n",
    "df_clean[col_float] = df_clean[col_float].apply(lambda x: pd.to_numeric(x, errors='coerce').astype('float64'))\n",
    "df_clean[col_date]= df_clean[col_date].apply(lambda x: pd.to_datetime(x, errors='coerce'))\n",
    "df_clean[col_int]= df_clean[col_int].apply(lambda x: pd.to_numeric(x, errors='coerce').astype('int64'))\n",
    "\n",
    "df_clean.info()"
   ]
  },
  {
   "cell_type": "markdown",
   "id": "6d648a38",
   "metadata": {},
   "source": [
    "## drop outliers\n",
    "1. find price per sq m - DONE\n",
    "2. group by each postal code\n",
    "3. percentile 96 % of this new feature\n",
    "4. drop everything above it"
   ]
  },
  {
   "cell_type": "code",
   "execution_count": 41,
   "id": "a09410cc",
   "metadata": {},
   "outputs": [
    {
     "data": {
      "text/html": [
       "<div>\n",
       "<style scoped>\n",
       "    .dataframe tbody tr th:only-of-type {\n",
       "        vertical-align: middle;\n",
       "    }\n",
       "\n",
       "    .dataframe tbody tr th {\n",
       "        vertical-align: top;\n",
       "    }\n",
       "\n",
       "    .dataframe thead th {\n",
       "        text-align: right;\n",
       "    }\n",
       "</style>\n",
       "<table border=\"1\" class=\"dataframe\">\n",
       "  <thead>\n",
       "    <tr style=\"text-align: right;\">\n",
       "      <th></th>\n",
       "      <th>postal_code</th>\n",
       "      <th>p95</th>\n",
       "    </tr>\n",
       "  </thead>\n",
       "  <tbody>\n",
       "    <tr>\n",
       "      <th>0</th>\n",
       "      <td>93000.0</td>\n",
       "      <td>7913.684211</td>\n",
       "    </tr>\n",
       "    <tr>\n",
       "      <th>1</th>\n",
       "      <td>93100.0</td>\n",
       "      <td>10056.962025</td>\n",
       "    </tr>\n",
       "    <tr>\n",
       "      <th>2</th>\n",
       "      <td>93110.0</td>\n",
       "      <td>6209.340659</td>\n",
       "    </tr>\n",
       "    <tr>\n",
       "      <th>3</th>\n",
       "      <td>93120.0</td>\n",
       "      <td>5208.333333</td>\n",
       "    </tr>\n",
       "    <tr>\n",
       "      <th>4</th>\n",
       "      <td>93130.0</td>\n",
       "      <td>6171.212121</td>\n",
       "    </tr>\n",
       "  </tbody>\n",
       "</table>\n",
       "</div>"
      ],
      "text/plain": [
       "   postal_code           p95\n",
       "0      93000.0   7913.684211\n",
       "1      93100.0  10056.962025\n",
       "2      93110.0   6209.340659\n",
       "3      93120.0   5208.333333\n",
       "4      93130.0   6171.212121"
      ]
     },
     "execution_count": 41,
     "metadata": {},
     "output_type": "execute_result"
    }
   ],
   "source": [
    "df_quantile = df_clean[['postal_code', 'price_per_m2']].groupby(by = df_clean.postal_code, as_index=False).quantile(.95)\n",
    "df_quantile.columns = ['postal_code', 'p95']\n",
    "df_quantile.head()"
   ]
  },
  {
   "cell_type": "code",
   "execution_count": 42,
   "id": "9ff846e9",
   "metadata": {},
   "outputs": [
    {
     "data": {
      "text/html": [
       "<div>\n",
       "<style scoped>\n",
       "    .dataframe tbody tr th:only-of-type {\n",
       "        vertical-align: middle;\n",
       "    }\n",
       "\n",
       "    .dataframe tbody tr th {\n",
       "        vertical-align: top;\n",
       "    }\n",
       "\n",
       "    .dataframe thead th {\n",
       "        text-align: right;\n",
       "    }\n",
       "</style>\n",
       "<table border=\"1\" class=\"dataframe\">\n",
       "  <thead>\n",
       "    <tr style=\"text-align: right;\">\n",
       "      <th></th>\n",
       "      <th>postal_code</th>\n",
       "      <th>p95</th>\n",
       "      <th>date</th>\n",
       "      <th>built</th>\n",
       "      <th>price</th>\n",
       "      <th>city</th>\n",
       "      <th>region</th>\n",
       "      <th>property_type</th>\n",
       "      <th>living_area</th>\n",
       "      <th>number_of_rooms</th>\n",
       "      <th>longitude</th>\n",
       "      <th>latitude</th>\n",
       "      <th>nb_of_dep</th>\n",
       "      <th>price_per_m2</th>\n",
       "    </tr>\n",
       "  </thead>\n",
       "  <tbody>\n",
       "    <tr>\n",
       "      <th>0</th>\n",
       "      <td>93000.0</td>\n",
       "      <td>7913.684211</td>\n",
       "      <td>2018-07-09</td>\n",
       "      <td>off-plan</td>\n",
       "      <td>252760.4</td>\n",
       "      <td>93008</td>\n",
       "      <td>93</td>\n",
       "      <td>appartment</td>\n",
       "      <td>64.0</td>\n",
       "      <td>3</td>\n",
       "      <td>2.413402</td>\n",
       "      <td>48.919067</td>\n",
       "      <td>1</td>\n",
       "      <td>3949.381250</td>\n",
       "    </tr>\n",
       "    <tr>\n",
       "      <th>1</th>\n",
       "      <td>93000.0</td>\n",
       "      <td>7913.684211</td>\n",
       "      <td>2018-07-11</td>\n",
       "      <td>off-plan</td>\n",
       "      <td>138000.0</td>\n",
       "      <td>93008</td>\n",
       "      <td>93</td>\n",
       "      <td>appartment</td>\n",
       "      <td>25.0</td>\n",
       "      <td>1</td>\n",
       "      <td>2.413402</td>\n",
       "      <td>48.919067</td>\n",
       "      <td>0</td>\n",
       "      <td>5520.000000</td>\n",
       "    </tr>\n",
       "    <tr>\n",
       "      <th>2</th>\n",
       "      <td>93000.0</td>\n",
       "      <td>7913.684211</td>\n",
       "      <td>2018-07-12</td>\n",
       "      <td>off-plan</td>\n",
       "      <td>228370.0</td>\n",
       "      <td>93008</td>\n",
       "      <td>93</td>\n",
       "      <td>appartment</td>\n",
       "      <td>61.0</td>\n",
       "      <td>3</td>\n",
       "      <td>2.457606</td>\n",
       "      <td>48.902013</td>\n",
       "      <td>1</td>\n",
       "      <td>3743.770492</td>\n",
       "    </tr>\n",
       "    <tr>\n",
       "      <th>3</th>\n",
       "      <td>93000.0</td>\n",
       "      <td>7913.684211</td>\n",
       "      <td>2018-07-05</td>\n",
       "      <td>built</td>\n",
       "      <td>127000.0</td>\n",
       "      <td>93008</td>\n",
       "      <td>93</td>\n",
       "      <td>appartment</td>\n",
       "      <td>45.0</td>\n",
       "      <td>2</td>\n",
       "      <td>2.442712</td>\n",
       "      <td>48.908689</td>\n",
       "      <td>1</td>\n",
       "      <td>2822.222222</td>\n",
       "    </tr>\n",
       "    <tr>\n",
       "      <th>4</th>\n",
       "      <td>93000.0</td>\n",
       "      <td>7913.684211</td>\n",
       "      <td>2018-07-06</td>\n",
       "      <td>off-plan</td>\n",
       "      <td>277000.0</td>\n",
       "      <td>93008</td>\n",
       "      <td>93</td>\n",
       "      <td>appartment</td>\n",
       "      <td>84.0</td>\n",
       "      <td>4</td>\n",
       "      <td>2.412198</td>\n",
       "      <td>48.916855</td>\n",
       "      <td>1</td>\n",
       "      <td>3297.619048</td>\n",
       "    </tr>\n",
       "  </tbody>\n",
       "</table>\n",
       "</div>"
      ],
      "text/plain": [
       "   postal_code          p95       date     built     price   city region  \\\n",
       "0      93000.0  7913.684211 2018-07-09  off-plan  252760.4  93008     93   \n",
       "1      93000.0  7913.684211 2018-07-11  off-plan  138000.0  93008     93   \n",
       "2      93000.0  7913.684211 2018-07-12  off-plan  228370.0  93008     93   \n",
       "3      93000.0  7913.684211 2018-07-05     built  127000.0  93008     93   \n",
       "4      93000.0  7913.684211 2018-07-06  off-plan  277000.0  93008     93   \n",
       "\n",
       "  property_type  living_area  number_of_rooms  longitude   latitude  \\\n",
       "0    appartment         64.0                3   2.413402  48.919067   \n",
       "1    appartment         25.0                1   2.413402  48.919067   \n",
       "2    appartment         61.0                3   2.457606  48.902013   \n",
       "3    appartment         45.0                2   2.442712  48.908689   \n",
       "4    appartment         84.0                4   2.412198  48.916855   \n",
       "\n",
       "   nb_of_dep  price_per_m2  \n",
       "0          1   3949.381250  \n",
       "1          0   5520.000000  \n",
       "2          1   3743.770492  \n",
       "3          1   2822.222222  \n",
       "4          1   3297.619048  "
      ]
     },
     "execution_count": 42,
     "metadata": {},
     "output_type": "execute_result"
    }
   ],
   "source": [
    "df_clean_merged = df_quantile.merge(right = df_clean, on = 'postal_code')\n",
    "df_clean_merged.head()"
   ]
  },
  {
   "cell_type": "code",
   "execution_count": 43,
   "id": "b301b3df",
   "metadata": {},
   "outputs": [
    {
     "data": {
      "text/plain": [
       "(36064, 14)"
      ]
     },
     "execution_count": 43,
     "metadata": {},
     "output_type": "execute_result"
    }
   ],
   "source": [
    "df_clean_merged.shape"
   ]
  },
  {
   "cell_type": "code",
   "execution_count": 44,
   "id": "272ce048",
   "metadata": {},
   "outputs": [],
   "source": [
    "# drop the outliers\n",
    "mask_outliers = (df_clean_merged.price_per_m2 < df_clean_merged.p95)\n",
    "df_without_outliers = df_clean_merged[mask_outliers]"
   ]
  },
  {
   "cell_type": "code",
   "execution_count": 45,
   "id": "1b1e88c1",
   "metadata": {},
   "outputs": [
    {
     "data": {
      "text/plain": [
       "((36064, 14), (34241, 14))"
      ]
     },
     "execution_count": 45,
     "metadata": {},
     "output_type": "execute_result"
    }
   ],
   "source": [
    "df_clean_merged.shape, df_without_outliers.shape"
   ]
  },
  {
   "cell_type": "code",
   "execution_count": 46,
   "id": "ac2adeb7",
   "metadata": {},
   "outputs": [],
   "source": [
    "# def filter_top_4_percent(df, column_name):\n",
    "#     threshold = df[column_name].quantile(0.96)\n",
    "#     return df[df[column_name] <= threshold]\n",
    "\n",
    "# df_without_outliers_2 = filter_top_4_percent(df_clean_merged, '')"
   ]
  },
  {
   "cell_type": "code",
   "execution_count": 47,
   "id": "01d50600",
   "metadata": {},
   "outputs": [
    {
     "data": {
      "text/plain": [
       "0.949450976042591"
      ]
     },
     "execution_count": 47,
     "metadata": {},
     "output_type": "execute_result"
    }
   ],
   "source": [
    "df_without_outliers.shape[0]/df_clean_merged.shape[0]"
   ]
  },
  {
   "cell_type": "code",
   "execution_count": 48,
   "id": "19f552a2",
   "metadata": {},
   "outputs": [
    {
     "data": {
      "text/html": [
       "<div>\n",
       "<style scoped>\n",
       "    .dataframe tbody tr th:only-of-type {\n",
       "        vertical-align: middle;\n",
       "    }\n",
       "\n",
       "    .dataframe tbody tr th {\n",
       "        vertical-align: top;\n",
       "    }\n",
       "\n",
       "    .dataframe thead th {\n",
       "        text-align: right;\n",
       "    }\n",
       "</style>\n",
       "<table border=\"1\" class=\"dataframe\">\n",
       "  <thead>\n",
       "    <tr style=\"text-align: right;\">\n",
       "      <th></th>\n",
       "      <th>postal_code</th>\n",
       "      <th>p95</th>\n",
       "      <th>date</th>\n",
       "      <th>built</th>\n",
       "      <th>price</th>\n",
       "      <th>city</th>\n",
       "      <th>region</th>\n",
       "      <th>property_type</th>\n",
       "      <th>living_area</th>\n",
       "      <th>number_of_rooms</th>\n",
       "      <th>longitude</th>\n",
       "      <th>latitude</th>\n",
       "      <th>nb_of_dep</th>\n",
       "      <th>price_per_m2</th>\n",
       "    </tr>\n",
       "  </thead>\n",
       "  <tbody>\n",
       "    <tr>\n",
       "      <th>0</th>\n",
       "      <td>93000.0</td>\n",
       "      <td>7913.684211</td>\n",
       "      <td>2018-07-09</td>\n",
       "      <td>off-plan</td>\n",
       "      <td>252760.4</td>\n",
       "      <td>93008</td>\n",
       "      <td>93</td>\n",
       "      <td>appartment</td>\n",
       "      <td>64.0</td>\n",
       "      <td>3</td>\n",
       "      <td>2.413402</td>\n",
       "      <td>48.919067</td>\n",
       "      <td>1</td>\n",
       "      <td>3949.381250</td>\n",
       "    </tr>\n",
       "    <tr>\n",
       "      <th>1</th>\n",
       "      <td>93000.0</td>\n",
       "      <td>7913.684211</td>\n",
       "      <td>2018-07-11</td>\n",
       "      <td>off-plan</td>\n",
       "      <td>138000.0</td>\n",
       "      <td>93008</td>\n",
       "      <td>93</td>\n",
       "      <td>appartment</td>\n",
       "      <td>25.0</td>\n",
       "      <td>1</td>\n",
       "      <td>2.413402</td>\n",
       "      <td>48.919067</td>\n",
       "      <td>0</td>\n",
       "      <td>5520.000000</td>\n",
       "    </tr>\n",
       "    <tr>\n",
       "      <th>2</th>\n",
       "      <td>93000.0</td>\n",
       "      <td>7913.684211</td>\n",
       "      <td>2018-07-12</td>\n",
       "      <td>off-plan</td>\n",
       "      <td>228370.0</td>\n",
       "      <td>93008</td>\n",
       "      <td>93</td>\n",
       "      <td>appartment</td>\n",
       "      <td>61.0</td>\n",
       "      <td>3</td>\n",
       "      <td>2.457606</td>\n",
       "      <td>48.902013</td>\n",
       "      <td>1</td>\n",
       "      <td>3743.770492</td>\n",
       "    </tr>\n",
       "    <tr>\n",
       "      <th>3</th>\n",
       "      <td>93000.0</td>\n",
       "      <td>7913.684211</td>\n",
       "      <td>2018-07-05</td>\n",
       "      <td>built</td>\n",
       "      <td>127000.0</td>\n",
       "      <td>93008</td>\n",
       "      <td>93</td>\n",
       "      <td>appartment</td>\n",
       "      <td>45.0</td>\n",
       "      <td>2</td>\n",
       "      <td>2.442712</td>\n",
       "      <td>48.908689</td>\n",
       "      <td>1</td>\n",
       "      <td>2822.222222</td>\n",
       "    </tr>\n",
       "    <tr>\n",
       "      <th>4</th>\n",
       "      <td>93000.0</td>\n",
       "      <td>7913.684211</td>\n",
       "      <td>2018-07-06</td>\n",
       "      <td>off-plan</td>\n",
       "      <td>277000.0</td>\n",
       "      <td>93008</td>\n",
       "      <td>93</td>\n",
       "      <td>appartment</td>\n",
       "      <td>84.0</td>\n",
       "      <td>4</td>\n",
       "      <td>2.412198</td>\n",
       "      <td>48.916855</td>\n",
       "      <td>1</td>\n",
       "      <td>3297.619048</td>\n",
       "    </tr>\n",
       "  </tbody>\n",
       "</table>\n",
       "</div>"
      ],
      "text/plain": [
       "   postal_code          p95       date     built     price   city region  \\\n",
       "0      93000.0  7913.684211 2018-07-09  off-plan  252760.4  93008     93   \n",
       "1      93000.0  7913.684211 2018-07-11  off-plan  138000.0  93008     93   \n",
       "2      93000.0  7913.684211 2018-07-12  off-plan  228370.0  93008     93   \n",
       "3      93000.0  7913.684211 2018-07-05     built  127000.0  93008     93   \n",
       "4      93000.0  7913.684211 2018-07-06  off-plan  277000.0  93008     93   \n",
       "\n",
       "  property_type  living_area  number_of_rooms  longitude   latitude  \\\n",
       "0    appartment         64.0                3   2.413402  48.919067   \n",
       "1    appartment         25.0                1   2.413402  48.919067   \n",
       "2    appartment         61.0                3   2.457606  48.902013   \n",
       "3    appartment         45.0                2   2.442712  48.908689   \n",
       "4    appartment         84.0                4   2.412198  48.916855   \n",
       "\n",
       "   nb_of_dep  price_per_m2  \n",
       "0          1   3949.381250  \n",
       "1          0   5520.000000  \n",
       "2          1   3743.770492  \n",
       "3          1   2822.222222  \n",
       "4          1   3297.619048  "
      ]
     },
     "execution_count": 48,
     "metadata": {},
     "output_type": "execute_result"
    }
   ],
   "source": [
    "df_without_outliers.head()"
   ]
  },
  {
   "cell_type": "code",
   "execution_count": 49,
   "id": "530ed7d4",
   "metadata": {},
   "outputs": [
    {
     "data": {
      "text/html": [
       "<div>\n",
       "<style scoped>\n",
       "    .dataframe tbody tr th:only-of-type {\n",
       "        vertical-align: middle;\n",
       "    }\n",
       "\n",
       "    .dataframe tbody tr th {\n",
       "        vertical-align: top;\n",
       "    }\n",
       "\n",
       "    .dataframe thead th {\n",
       "        text-align: right;\n",
       "    }\n",
       "</style>\n",
       "<table border=\"1\" class=\"dataframe\">\n",
       "  <thead>\n",
       "    <tr style=\"text-align: right;\">\n",
       "      <th></th>\n",
       "      <th>postal_code</th>\n",
       "      <th>p95</th>\n",
       "      <th>date</th>\n",
       "      <th>built</th>\n",
       "      <th>price</th>\n",
       "      <th>city</th>\n",
       "      <th>region</th>\n",
       "      <th>property_type</th>\n",
       "      <th>living_area</th>\n",
       "      <th>number_of_rooms</th>\n",
       "      <th>longitude</th>\n",
       "      <th>latitude</th>\n",
       "      <th>nb_of_dep</th>\n",
       "      <th>price_per_m2</th>\n",
       "    </tr>\n",
       "  </thead>\n",
       "  <tbody>\n",
       "    <tr>\n",
       "      <th>0</th>\n",
       "      <td>93000.0</td>\n",
       "      <td>7913.684211</td>\n",
       "      <td>2018-07-09</td>\n",
       "      <td>off-plan</td>\n",
       "      <td>252760.4</td>\n",
       "      <td>93008</td>\n",
       "      <td>93</td>\n",
       "      <td>appartment</td>\n",
       "      <td>64.0</td>\n",
       "      <td>3</td>\n",
       "      <td>2.413402</td>\n",
       "      <td>48.919067</td>\n",
       "      <td>1</td>\n",
       "      <td>3949.381250</td>\n",
       "    </tr>\n",
       "    <tr>\n",
       "      <th>1</th>\n",
       "      <td>93000.0</td>\n",
       "      <td>7913.684211</td>\n",
       "      <td>2018-07-11</td>\n",
       "      <td>off-plan</td>\n",
       "      <td>138000.0</td>\n",
       "      <td>93008</td>\n",
       "      <td>93</td>\n",
       "      <td>appartment</td>\n",
       "      <td>25.0</td>\n",
       "      <td>1</td>\n",
       "      <td>2.413402</td>\n",
       "      <td>48.919067</td>\n",
       "      <td>0</td>\n",
       "      <td>5520.000000</td>\n",
       "    </tr>\n",
       "    <tr>\n",
       "      <th>2</th>\n",
       "      <td>93000.0</td>\n",
       "      <td>7913.684211</td>\n",
       "      <td>2018-07-12</td>\n",
       "      <td>off-plan</td>\n",
       "      <td>228370.0</td>\n",
       "      <td>93008</td>\n",
       "      <td>93</td>\n",
       "      <td>appartment</td>\n",
       "      <td>61.0</td>\n",
       "      <td>3</td>\n",
       "      <td>2.457606</td>\n",
       "      <td>48.902013</td>\n",
       "      <td>1</td>\n",
       "      <td>3743.770492</td>\n",
       "    </tr>\n",
       "    <tr>\n",
       "      <th>3</th>\n",
       "      <td>93000.0</td>\n",
       "      <td>7913.684211</td>\n",
       "      <td>2018-07-05</td>\n",
       "      <td>built</td>\n",
       "      <td>127000.0</td>\n",
       "      <td>93008</td>\n",
       "      <td>93</td>\n",
       "      <td>appartment</td>\n",
       "      <td>45.0</td>\n",
       "      <td>2</td>\n",
       "      <td>2.442712</td>\n",
       "      <td>48.908689</td>\n",
       "      <td>1</td>\n",
       "      <td>2822.222222</td>\n",
       "    </tr>\n",
       "    <tr>\n",
       "      <th>4</th>\n",
       "      <td>93000.0</td>\n",
       "      <td>7913.684211</td>\n",
       "      <td>2018-07-06</td>\n",
       "      <td>off-plan</td>\n",
       "      <td>277000.0</td>\n",
       "      <td>93008</td>\n",
       "      <td>93</td>\n",
       "      <td>appartment</td>\n",
       "      <td>84.0</td>\n",
       "      <td>4</td>\n",
       "      <td>2.412198</td>\n",
       "      <td>48.916855</td>\n",
       "      <td>1</td>\n",
       "      <td>3297.619048</td>\n",
       "    </tr>\n",
       "  </tbody>\n",
       "</table>\n",
       "</div>"
      ],
      "text/plain": [
       "   postal_code          p95       date     built     price   city region  \\\n",
       "0      93000.0  7913.684211 2018-07-09  off-plan  252760.4  93008     93   \n",
       "1      93000.0  7913.684211 2018-07-11  off-plan  138000.0  93008     93   \n",
       "2      93000.0  7913.684211 2018-07-12  off-plan  228370.0  93008     93   \n",
       "3      93000.0  7913.684211 2018-07-05     built  127000.0  93008     93   \n",
       "4      93000.0  7913.684211 2018-07-06  off-plan  277000.0  93008     93   \n",
       "\n",
       "  property_type  living_area  number_of_rooms  longitude   latitude  \\\n",
       "0    appartment         64.0                3   2.413402  48.919067   \n",
       "1    appartment         25.0                1   2.413402  48.919067   \n",
       "2    appartment         61.0                3   2.457606  48.902013   \n",
       "3    appartment         45.0                2   2.442712  48.908689   \n",
       "4    appartment         84.0                4   2.412198  48.916855   \n",
       "\n",
       "   nb_of_dep  price_per_m2  \n",
       "0          1   3949.381250  \n",
       "1          0   5520.000000  \n",
       "2          1   3743.770492  \n",
       "3          1   2822.222222  \n",
       "4          1   3297.619048  "
      ]
     },
     "execution_count": 49,
     "metadata": {},
     "output_type": "execute_result"
    }
   ],
   "source": [
    "df_clean_merged.head()"
   ]
  },
  {
   "cell_type": "code",
   "execution_count": 50,
   "id": "72a81084",
   "metadata": {},
   "outputs": [
    {
     "data": {
      "text/plain": [
       "28954    1.106875e+06\n",
       "29233    1.085340e+06\n",
       "8951     4.300000e+05\n",
       "21223    4.198361e+05\n",
       "13773    3.100000e+05\n",
       "29227    3.050948e+05\n",
       "28569    2.916667e+05\n",
       "2299     2.850000e+05\n",
       "195      2.739388e+05\n",
       "10349    2.452875e+05\n",
       "21381    1.800000e+05\n",
       "21942    1.714286e+05\n",
       "13711    1.687500e+05\n",
       "15080    1.674100e+05\n",
       "32487    1.587500e+05\n",
       "24240    1.472500e+05\n",
       "5558     1.217105e+05\n",
       "10452    1.154593e+05\n",
       "1643     1.065900e+05\n",
       "13778    9.588579e+04\n",
       "Name: price_per_m2, dtype: float64"
      ]
     },
     "execution_count": 50,
     "metadata": {},
     "output_type": "execute_result"
    }
   ],
   "source": [
    "df_clean_merged.price_per_m2.sort_values(ascending = False).head(20)"
   ]
  },
  {
   "cell_type": "code",
   "execution_count": 51,
   "id": "252e7359",
   "metadata": {},
   "outputs": [
    {
     "data": {
      "text/plain": [
       "938      10000.000000\n",
       "2285     10000.000000\n",
       "2119     10000.000000\n",
       "1187     10000.000000\n",
       "1182      9993.789474\n",
       "3188      9961.538462\n",
       "2306      9955.357143\n",
       "829       9944.444444\n",
       "2215      9925.373134\n",
       "1567      9903.846154\n",
       "1548      9895.833333\n",
       "2014      9894.736842\n",
       "1911      9890.625000\n",
       "19259     9887.640449\n",
       "2349      9873.333333\n",
       "3330      9852.941176\n",
       "1985      9838.709677\n",
       "882       9814.814815\n",
       "1691      9814.814815\n",
       "2638      9814.814815\n",
       "3010      9814.526316\n",
       "2089      9808.823529\n",
       "1065      9800.000000\n",
       "1717      9797.101449\n",
       "1610      9790.322581\n",
       "3199      9750.000000\n",
       "19228     9740.259740\n",
       "877       9716.346154\n",
       "2105      9704.347826\n",
       "2810      9701.492537\n",
       "Name: price_per_m2, dtype: float64"
      ]
     },
     "execution_count": 51,
     "metadata": {},
     "output_type": "execute_result"
    }
   ],
   "source": [
    "df_without_outliers.price_per_m2.sort_values(ascending = False).head(30)"
   ]
  },
  {
   "cell_type": "code",
   "execution_count": 52,
   "id": "7c720ec9",
   "metadata": {},
   "outputs": [],
   "source": [
    "# drop p95\n",
    "df_without_outliers = df_without_outliers.drop(columns=['p95', 'price_per_m2'])"
   ]
  },
  {
   "cell_type": "code",
   "execution_count": 53,
   "id": "4ee61dd8",
   "metadata": {},
   "outputs": [
    {
     "name": "stdout",
     "output_type": "stream",
     "text": [
      "<class 'pandas.core.frame.DataFrame'>\n",
      "Int64Index: 34241 entries, 0 to 36062\n",
      "Data columns (total 12 columns):\n",
      " #   Column           Non-Null Count  Dtype         \n",
      "---  ------           --------------  -----         \n",
      " 0   postal_code      34241 non-null  float64       \n",
      " 1   date             34241 non-null  datetime64[ns]\n",
      " 2   built            34241 non-null  object        \n",
      " 3   price            34241 non-null  float64       \n",
      " 4   city             34241 non-null  object        \n",
      " 5   region           34241 non-null  object        \n",
      " 6   property_type    34241 non-null  object        \n",
      " 7   living_area      34241 non-null  float64       \n",
      " 8   number_of_rooms  34241 non-null  int64         \n",
      " 9   longitude        34241 non-null  float64       \n",
      " 10  latitude         34241 non-null  float64       \n",
      " 11  nb_of_dep        34241 non-null  int64         \n",
      "dtypes: datetime64[ns](1), float64(5), int64(2), object(4)\n",
      "memory usage: 3.4+ MB\n"
     ]
    }
   ],
   "source": [
    "df_without_outliers.info()"
   ]
  },
  {
   "cell_type": "markdown",
   "id": "b7bef223",
   "metadata": {},
   "source": [
    "Dealing date_column"
   ]
  },
  {
   "cell_type": "code",
   "execution_count": 54,
   "id": "9cd82917",
   "metadata": {},
   "outputs": [
    {
     "data": {
      "text/plain": [
       "0   2018-07-09\n",
       "1   2018-07-11\n",
       "2   2018-07-12\n",
       "3   2018-07-05\n",
       "4   2018-07-06\n",
       "Name: date, dtype: datetime64[ns]"
      ]
     },
     "execution_count": 54,
     "metadata": {},
     "output_type": "execute_result"
    }
   ],
   "source": [
    "df_without_outliers.date.head()"
   ]
  },
  {
   "cell_type": "code",
   "execution_count": 55,
   "id": "dd48b4b0",
   "metadata": {},
   "outputs": [
    {
     "data": {
      "text/plain": [
       "0     9\n",
       "1    11\n",
       "2    12\n",
       "3     5\n",
       "4     6\n",
       "Name: date, dtype: int64"
      ]
     },
     "execution_count": 55,
     "metadata": {},
     "output_type": "execute_result"
    }
   ],
   "source": [
    "df_without_outliers.date.dt.day.head()"
   ]
  },
  {
   "cell_type": "code",
   "execution_count": 56,
   "id": "c6c5704b",
   "metadata": {},
   "outputs": [],
   "source": [
    "df_without_outliers['day'] = df_without_outliers.date.dt.day\n",
    "\n",
    "df_without_outliers['day_sin'] = np.sin(2 * np.pi * df_without_outliers['day']/31.0)\n",
    "df_without_outliers['day_cos'] = np.cos(2 * np.pi * df_without_outliers['day']/31.0)"
   ]
  },
  {
   "cell_type": "code",
   "execution_count": 57,
   "id": "7196de8a",
   "metadata": {},
   "outputs": [],
   "source": [
    "df_without_outliers['month'] = df_without_outliers.date.dt.month\n",
    "\n",
    "df_without_outliers['month_sin'] = np.sin(2 * np.pi * df_without_outliers['month']/24.0)\n",
    "df_without_outliers['month_cos'] = np.cos(2 * np.pi * df_without_outliers['month']/24.0)"
   ]
  },
  {
   "cell_type": "code",
   "execution_count": 58,
   "id": "07a4bbc9",
   "metadata": {},
   "outputs": [],
   "source": [
    "df_without_outliers['year'] = df_without_outliers.date.dt.year\n"
   ]
  },
  {
   "cell_type": "code",
   "execution_count": 63,
   "id": "c3fc4e08",
   "metadata": {},
   "outputs": [],
   "source": [
    "df_without_outliers = df_without_outliers.drop(columns = ['day', 'month'])"
   ]
  },
  {
   "cell_type": "code",
   "execution_count": 59,
   "id": "f16aa0d6",
   "metadata": {},
   "outputs": [
    {
     "data": {
      "text/plain": [
       "0        2018\n",
       "1        2018\n",
       "2        2018\n",
       "3        2018\n",
       "4        2018\n",
       "         ... \n",
       "36058    2019\n",
       "36059    2019\n",
       "36060    2019\n",
       "36061    2019\n",
       "36062    2019\n",
       "Name: year, Length: 34241, dtype: int64"
      ]
     },
     "execution_count": 59,
     "metadata": {},
     "output_type": "execute_result"
    }
   ],
   "source": [
    "df_without_outliers.year"
   ]
  },
  {
   "cell_type": "markdown",
   "id": "e6f80393",
   "metadata": {},
   "source": [
    "## ✨ Using the functions"
   ]
  },
  {
   "cell_type": "code",
   "execution_count": 29,
   "id": "b8e5f837",
   "metadata": {},
   "outputs": [
    {
     "ename": "AttributeError",
     "evalue": "'DataFrame' object has no attribute 'p04'",
     "output_type": "error",
     "traceback": [
      "\u001b[0;31m---------------------------------------------------------------------------\u001b[0m",
      "\u001b[0;31mAttributeError\u001b[0m                            Traceback (most recent call last)",
      "Cell \u001b[0;32mIn [29], line 6\u001b[0m\n\u001b[1;32m      3\u001b[0m sys\u001b[38;5;241m.\u001b[39mpath\u001b[38;5;241m.\u001b[39mappend(\u001b[38;5;124m'\u001b[39m\u001b[38;5;124m/home/anouchka/code/qadnguyen/realdata\u001b[39m\u001b[38;5;124m'\u001b[39m)\n\u001b[1;32m      4\u001b[0m \u001b[38;5;28;01mfrom\u001b[39;00m \u001b[38;5;21;01mprop_value\u001b[39;00m\u001b[38;5;21;01m.\u001b[39;00m\u001b[38;5;21;01mml_logic\u001b[39;00m\u001b[38;5;21;01m.\u001b[39;00m\u001b[38;5;21;01mpreprocessor\u001b[39;00m \u001b[38;5;28;01mimport\u001b[39;00m clean_data\n\u001b[0;32m----> 6\u001b[0m \u001b[43mclean_data\u001b[49m\u001b[43m(\u001b[49m\u001b[43mdf_93_raw\u001b[49m\u001b[43m,\u001b[49m\u001b[43m \u001b[49m\u001b[43mpercentile\u001b[49m\u001b[43m \u001b[49m\u001b[38;5;241;43m=\u001b[39;49m\u001b[43m \u001b[49m\u001b[38;5;241;43m0.95\u001b[39;49m\u001b[43m)\u001b[49m\u001b[38;5;241m.\u001b[39mshape, df_without_outliers\u001b[38;5;241m.\u001b[39mshape\n",
      "File \u001b[0;32m~/code/qadnguyen/realdata/prop_value/ml_logic/preprocessor.py:142\u001b[0m, in \u001b[0;36mclean_data\u001b[0;34m(df_dvf, percentile)\u001b[0m\n\u001b[1;32m    139\u001b[0m df_clean_merged \u001b[38;5;241m=\u001b[39m df_quantile\u001b[38;5;241m.\u001b[39mmerge(right \u001b[38;5;241m=\u001b[39m df_clean, on \u001b[38;5;241m=\u001b[39m \u001b[38;5;124m'\u001b[39m\u001b[38;5;124mpostal_code\u001b[39m\u001b[38;5;124m'\u001b[39m)\n\u001b[1;32m    141\u001b[0m \u001b[38;5;66;03m# drop the outliers\u001b[39;00m\n\u001b[0;32m--> 142\u001b[0m mask_outliers \u001b[38;5;241m=\u001b[39m (df_clean_merged\u001b[38;5;241m.\u001b[39mprice_per_m2 \u001b[38;5;241m<\u001b[39m df_clean_merged\u001b[38;5;241m.\u001b[39mp04)\n\u001b[1;32m    143\u001b[0m df_without_outliers \u001b[38;5;241m=\u001b[39m df_clean_merged[mask_outliers]\n\u001b[1;32m    145\u001b[0m \u001b[38;5;66;03m##### FILTER OUT OUTLIERS WITH PRICE PER M2 UNDER P04 (or other if mentioned)\u001b[39;00m\n\u001b[1;32m    146\u001b[0m \u001b[38;5;66;03m# finding the percentile 04 for each postcode\u001b[39;00m\n",
      "File \u001b[0;32m~/.pyenv/versions/3.10.6/envs/lewagon/lib/python3.10/site-packages/pandas/core/generic.py:5902\u001b[0m, in \u001b[0;36mNDFrame.__getattr__\u001b[0;34m(self, name)\u001b[0m\n\u001b[1;32m   5895\u001b[0m \u001b[38;5;28;01mif\u001b[39;00m (\n\u001b[1;32m   5896\u001b[0m     name \u001b[38;5;129;01mnot\u001b[39;00m \u001b[38;5;129;01min\u001b[39;00m \u001b[38;5;28mself\u001b[39m\u001b[38;5;241m.\u001b[39m_internal_names_set\n\u001b[1;32m   5897\u001b[0m     \u001b[38;5;129;01mand\u001b[39;00m name \u001b[38;5;129;01mnot\u001b[39;00m \u001b[38;5;129;01min\u001b[39;00m \u001b[38;5;28mself\u001b[39m\u001b[38;5;241m.\u001b[39m_metadata\n\u001b[1;32m   5898\u001b[0m     \u001b[38;5;129;01mand\u001b[39;00m name \u001b[38;5;129;01mnot\u001b[39;00m \u001b[38;5;129;01min\u001b[39;00m \u001b[38;5;28mself\u001b[39m\u001b[38;5;241m.\u001b[39m_accessors\n\u001b[1;32m   5899\u001b[0m     \u001b[38;5;129;01mand\u001b[39;00m \u001b[38;5;28mself\u001b[39m\u001b[38;5;241m.\u001b[39m_info_axis\u001b[38;5;241m.\u001b[39m_can_hold_identifiers_and_holds_name(name)\n\u001b[1;32m   5900\u001b[0m ):\n\u001b[1;32m   5901\u001b[0m     \u001b[38;5;28;01mreturn\u001b[39;00m \u001b[38;5;28mself\u001b[39m[name]\n\u001b[0;32m-> 5902\u001b[0m \u001b[38;5;28;01mreturn\u001b[39;00m \u001b[38;5;28;43mobject\u001b[39;49m\u001b[38;5;241;43m.\u001b[39;49m\u001b[38;5;21;43m__getattribute__\u001b[39;49m\u001b[43m(\u001b[49m\u001b[38;5;28;43mself\u001b[39;49m\u001b[43m,\u001b[49m\u001b[43m \u001b[49m\u001b[43mname\u001b[49m\u001b[43m)\u001b[49m\n",
      "\u001b[0;31mAttributeError\u001b[0m: 'DataFrame' object has no attribute 'p04'"
     ]
    }
   ],
   "source": [
    "# check if function is working :\n",
    "import sys\n",
    "sys.path.append('/home/anouchka/code/qadnguyen/realdata')\n",
    "from prop_value.ml_logic.preprocessor import clean_data\n",
    "\n",
    "clean_data(df_93_raw, percentile = 0.95).shape, df_without_outliers.shape"
   ]
  },
  {
   "cell_type": "code",
   "execution_count": 66,
   "id": "48e0722e",
   "metadata": {},
   "outputs": [
    {
     "name": "stdout",
     "output_type": "stream",
     "text": [
      "<class 'pandas.core.frame.DataFrame'>\n",
      "Int64Index: 34241 entries, 0 to 36062\n",
      "Data columns (total 17 columns):\n",
      " #   Column           Non-Null Count  Dtype         \n",
      "---  ------           --------------  -----         \n",
      " 0   postal_code      34241 non-null  float64       \n",
      " 1   date             34241 non-null  datetime64[ns]\n",
      " 2   built            34241 non-null  object        \n",
      " 3   price            34241 non-null  float64       \n",
      " 4   city             34241 non-null  object        \n",
      " 5   region           34241 non-null  object        \n",
      " 6   property_type    34241 non-null  object        \n",
      " 7   living_area      34241 non-null  float64       \n",
      " 8   number_of_rooms  34241 non-null  int64         \n",
      " 9   longitude        34241 non-null  float64       \n",
      " 10  latitude         34241 non-null  float64       \n",
      " 11  nb_of_dep        34241 non-null  int64         \n",
      " 12  day_sin          34241 non-null  float64       \n",
      " 13  day_cos          34241 non-null  float64       \n",
      " 14  month_sin        34241 non-null  float64       \n",
      " 15  month_cos        34241 non-null  float64       \n",
      " 16  year             34241 non-null  int64         \n",
      "dtypes: datetime64[ns](1), float64(9), int64(3), object(4)\n",
      "memory usage: 4.7+ MB\n"
     ]
    }
   ],
   "source": [
    "df_without_outliers.info()"
   ]
  },
  {
   "cell_type": "code",
   "execution_count": 74,
   "id": "7cfb3fa4",
   "metadata": {},
   "outputs": [
    {
     "name": "stdout",
     "output_type": "stream",
     "text": [
      "shape of the cleaned data : (34241, 17)\n",
      "<class 'pandas.core.frame.DataFrame'>\n",
      "Int64Index: 34241 entries, 0 to 36062\n",
      "Data columns (total 17 columns):\n",
      " #   Column           Non-Null Count  Dtype         \n",
      "---  ------           --------------  -----         \n",
      " 0   postal_code      34241 non-null  int64         \n",
      " 1   date             34241 non-null  datetime64[ns]\n",
      " 2   built            34241 non-null  object        \n",
      " 3   price            34241 non-null  float64       \n",
      " 4   city             34241 non-null  int64         \n",
      " 5   region           34241 non-null  object        \n",
      " 6   property_type    34241 non-null  object        \n",
      " 7   living_area      34241 non-null  float64       \n",
      " 8   number_of_rooms  34241 non-null  int64         \n",
      " 9   longitude        34241 non-null  float64       \n",
      " 10  latitude         34241 non-null  float64       \n",
      " 11  nb_of_dep        34241 non-null  int64         \n",
      " 12  day_sin          34241 non-null  float64       \n",
      " 13  day_cos          34241 non-null  float64       \n",
      " 14  month_sin        34241 non-null  float64       \n",
      " 15  month_cos        34241 non-null  float64       \n",
      " 16  year             34241 non-null  int64         \n",
      "dtypes: datetime64[ns](1), float64(8), int64(5), object(3)\n",
      "memory usage: 4.7+ MB\n",
      "None\n",
      "<class 'pandas.core.frame.DataFrame'>\n",
      "RangeIndex: 34241 entries, 0 to 34240\n",
      "Data columns (total 17 columns):\n",
      " #   Column                         Non-Null Count  Dtype  \n",
      "---  ------                         --------------  -----  \n",
      " 0   num__living_area               34241 non-null  float64\n",
      " 1   num__number_of_rooms           34241 non-null  float64\n",
      " 2   num__nb_of_dep                 34241 non-null  float64\n",
      " 3   num__longitude                 34241 non-null  float64\n",
      " 4   num__latitude                  34241 non-null  float64\n",
      " 5   num__day_sin                   34241 non-null  float64\n",
      " 6   num__day_cos                   34241 non-null  float64\n",
      " 7   num__month_sin                 34241 non-null  float64\n",
      " 8   num__month_cos                 34241 non-null  float64\n",
      " 9   num__year                      34241 non-null  float64\n",
      " 10  cat__property_type_appartment  34241 non-null  float64\n",
      " 11  cat__property_type_house       34241 non-null  float64\n",
      " 12  cat__built_built               34241 non-null  float64\n",
      " 13  cat__built_off-plan            34241 non-null  float64\n",
      " 14  tar__city                      34241 non-null  float64\n",
      " 15  tar__postal_code               34241 non-null  float64\n",
      " 16  tar__region                    34241 non-null  float64\n",
      "dtypes: float64(17)\n",
      "memory usage: 4.4 MB\n"
     ]
    }
   ],
   "source": [
    "# check if function is working :\n",
    "import sys\n",
    "sys.path.append('/home/anouchka/code/qadnguyen/realdata')\n",
    "from prop_value.ml_logic.preprocessor import preprocess_data\n",
    "\n",
    "data = clean_data(df_93_raw, percentile = 0.95)\n",
    "print(f'shape of the cleaned data : {data.shape}')\n",
    "print(data.info())\n",
    "\n",
    "X_train_preproc_TEST, X_test_preproc_TEST, y_train_TEST, y_test_TEST, X_all_TEST, y_all_TEST, df_full_TEST = preprocess_data(data)\n",
    "X_all_TEST.info()\n"
   ]
  },
  {
   "cell_type": "markdown",
   "id": "36445e3e",
   "metadata": {},
   "source": [
    "# 🐧 Modelling"
   ]
  },
  {
   "cell_type": "markdown",
   "id": "38bbf140",
   "metadata": {},
   "source": [
    "## 🔎 Exploring some more"
   ]
  },
  {
   "cell_type": "code",
   "execution_count": 58,
   "id": "11c76621",
   "metadata": {},
   "outputs": [
    {
     "data": {
      "text/plain": [
       "Index(['date', 'built', 'price', 'postal_code', 'city', 'region',\n",
       "       'property_type', 'living_area', 'number_of_rooms', 'longitude',\n",
       "       'latitude', 'nb_of_dep', 'price_per_m2'],\n",
       "      dtype='object')"
      ]
     },
     "execution_count": 58,
     "metadata": {},
     "output_type": "execute_result"
    }
   ],
   "source": [
    "df_clean.columns"
   ]
  },
  {
   "cell_type": "code",
   "execution_count": 59,
   "id": "62f070dd",
   "metadata": {},
   "outputs": [],
   "source": [
    "# df_cleaned.shape # (1029674, 12)"
   ]
  },
  {
   "cell_type": "code",
   "execution_count": 60,
   "id": "2ce4c5be",
   "metadata": {},
   "outputs": [],
   "source": [
    "# df_cleaned[mask_price].shape # (1027158, 12)"
   ]
  },
  {
   "cell_type": "code",
   "execution_count": 61,
   "id": "4f061297",
   "metadata": {},
   "outputs": [],
   "source": [
    "import matplotlib.pyplot as plt"
   ]
  },
  {
   "cell_type": "code",
   "execution_count": 62,
   "id": "c0bc5661",
   "metadata": {},
   "outputs": [
    {
     "data": {
      "image/png": "[encoded data removed]",
      "text/plain": [
       "<Figure size 1200x500 with 1 Axes>"
      ]
     },
     "metadata": {},
     "output_type": "display_data"
    }
   ],
   "source": [
    "plt.figure(figsize = (12,5))\n",
    "sns.scatterplot(df_clean['living_area'], df_clean['price'],hue = df_clean['property_type'],alpha = 0.5)\n",
    "plt.show()"
   ]
  },
  {
   "cell_type": "code",
   "execution_count": 63,
   "id": "700e8e3e",
   "metadata": {},
   "outputs": [
    {
     "data": {
      "text/plain": [
       "<AxesSubplot:xlabel='price'>"
      ]
     },
     "execution_count": 63,
     "metadata": {},
     "output_type": "execute_result"
    },
    {
     "data": {
      "image/png": "[encoded data removed]",
      "text/plain": [
       "<Figure size 1200x400 with 1 Axes>"
      ]
     },
     "metadata": {},
     "output_type": "display_data"
    }
   ],
   "source": [
    "plt.figure(figsize = (12,4))\n",
    "sns.boxplot(df_clean.price)"
   ]
  },
  {
   "cell_type": "code",
   "execution_count": 64,
   "id": "74f34752",
   "metadata": {},
   "outputs": [
    {
     "data": {
      "text/html": [
       "<div>\n",
       "<style scoped>\n",
       "    .dataframe tbody tr th:only-of-type {\n",
       "        vertical-align: middle;\n",
       "    }\n",
       "\n",
       "    .dataframe tbody tr th {\n",
       "        vertical-align: top;\n",
       "    }\n",
       "\n",
       "    .dataframe thead th {\n",
       "        text-align: right;\n",
       "    }\n",
       "</style>\n",
       "<table border=\"1\" class=\"dataframe\">\n",
       "  <thead>\n",
       "    <tr style=\"text-align: right;\">\n",
       "      <th></th>\n",
       "      <th>date</th>\n",
       "      <th>built</th>\n",
       "      <th>price</th>\n",
       "      <th>postal_code</th>\n",
       "      <th>city</th>\n",
       "      <th>region</th>\n",
       "      <th>property_type</th>\n",
       "      <th>living_area</th>\n",
       "      <th>number_of_rooms</th>\n",
       "      <th>longitude</th>\n",
       "      <th>latitude</th>\n",
       "      <th>nb_of_dep</th>\n",
       "      <th>price_per_m2</th>\n",
       "    </tr>\n",
       "  </thead>\n",
       "  <tbody>\n",
       "    <tr>\n",
       "      <th>378</th>\n",
       "      <td>2018-07-09</td>\n",
       "      <td>built</td>\n",
       "      <td>305000.00</td>\n",
       "      <td>93310</td>\n",
       "      <td>93061</td>\n",
       "      <td>93</td>\n",
       "      <td>appartment</td>\n",
       "      <td>81.0</td>\n",
       "      <td>4</td>\n",
       "      <td>2.406018</td>\n",
       "      <td>48.881710</td>\n",
       "      <td>1</td>\n",
       "      <td>3765.432099</td>\n",
       "    </tr>\n",
       "    <tr>\n",
       "      <th>385</th>\n",
       "      <td>2018-07-11</td>\n",
       "      <td>off-plan</td>\n",
       "      <td>272000.00</td>\n",
       "      <td>93170</td>\n",
       "      <td>93006</td>\n",
       "      <td>93</td>\n",
       "      <td>appartment</td>\n",
       "      <td>71.0</td>\n",
       "      <td>4</td>\n",
       "      <td>2.427005</td>\n",
       "      <td>48.873193</td>\n",
       "      <td>1</td>\n",
       "      <td>3830.985915</td>\n",
       "    </tr>\n",
       "    <tr>\n",
       "      <th>387</th>\n",
       "      <td>2018-07-03</td>\n",
       "      <td>off-plan</td>\n",
       "      <td>214000.00</td>\n",
       "      <td>93170</td>\n",
       "      <td>93006</td>\n",
       "      <td>93</td>\n",
       "      <td>appartment</td>\n",
       "      <td>58.0</td>\n",
       "      <td>3</td>\n",
       "      <td>2.434780</td>\n",
       "      <td>48.877092</td>\n",
       "      <td>1</td>\n",
       "      <td>3689.655172</td>\n",
       "    </tr>\n",
       "    <tr>\n",
       "      <th>388</th>\n",
       "      <td>2018-07-19</td>\n",
       "      <td>built</td>\n",
       "      <td>218285.28</td>\n",
       "      <td>93700</td>\n",
       "      <td>93029</td>\n",
       "      <td>93</td>\n",
       "      <td>house</td>\n",
       "      <td>77.0</td>\n",
       "      <td>6</td>\n",
       "      <td>2.452531</td>\n",
       "      <td>48.935019</td>\n",
       "      <td>0</td>\n",
       "      <td>2834.873766</td>\n",
       "    </tr>\n",
       "    <tr>\n",
       "      <th>389</th>\n",
       "      <td>2018-07-09</td>\n",
       "      <td>off-plan</td>\n",
       "      <td>252760.40</td>\n",
       "      <td>93000</td>\n",
       "      <td>93008</td>\n",
       "      <td>93</td>\n",
       "      <td>appartment</td>\n",
       "      <td>64.0</td>\n",
       "      <td>3</td>\n",
       "      <td>2.413402</td>\n",
       "      <td>48.919067</td>\n",
       "      <td>1</td>\n",
       "      <td>3949.381250</td>\n",
       "    </tr>\n",
       "  </tbody>\n",
       "</table>\n",
       "</div>"
      ],
      "text/plain": [
       "          date     built      price  postal_code   city region property_type  \\\n",
       "378 2018-07-09     built  305000.00        93310  93061     93    appartment   \n",
       "385 2018-07-11  off-plan  272000.00        93170  93006     93    appartment   \n",
       "387 2018-07-03  off-plan  214000.00        93170  93006     93    appartment   \n",
       "388 2018-07-19     built  218285.28        93700  93029     93         house   \n",
       "389 2018-07-09  off-plan  252760.40        93000  93008     93    appartment   \n",
       "\n",
       "     living_area  number_of_rooms  longitude   latitude  nb_of_dep  \\\n",
       "378         81.0                4   2.406018  48.881710          1   \n",
       "385         71.0                4   2.427005  48.873193          1   \n",
       "387         58.0                3   2.434780  48.877092          1   \n",
       "388         77.0                6   2.452531  48.935019          0   \n",
       "389         64.0                3   2.413402  48.919067          1   \n",
       "\n",
       "     price_per_m2  \n",
       "378   3765.432099  \n",
       "385   3830.985915  \n",
       "387   3689.655172  \n",
       "388   2834.873766  \n",
       "389   3949.381250  "
      ]
     },
     "execution_count": 64,
     "metadata": {},
     "output_type": "execute_result"
    }
   ],
   "source": [
    "df_clean.head()"
   ]
  },
  {
   "cell_type": "code",
   "execution_count": 65,
   "id": "1bf498ae",
   "metadata": {},
   "outputs": [
    {
     "data": {
      "image/png": "[encoded data removed]",
      "text/plain": [
       "<Figure size 1200x500 with 1 Axes>"
      ]
     },
     "metadata": {},
     "output_type": "display_data"
    }
   ],
   "source": [
    "# fig, axs = plt.subplots(1, 2, figsize=(12, 5))  # 1 row, 2 columns\n",
    "# mask_price = df_clean['price']<2000000 #smaller than 2 milion\n",
    "# mask_area = df_clean['living_area']<500 # smaller than 500 sq meters\n",
    "# df_without_outliers = df_clean[mask_price & mask_area]\n",
    "\n",
    "# Plot Living area vs Sale price\n",
    "plt.figure(figsize = (12,5))\n",
    "sns.scatterplot(df_without_outliers['living_area'], df_without_outliers['price'],hue = df_without_outliers['property_type'],alpha = 0.5)\n",
    "plt.show()"
   ]
  },
  {
   "cell_type": "code",
   "execution_count": 66,
   "id": "395080a3",
   "metadata": {},
   "outputs": [
    {
     "data": {
      "text/plain": [
       "appartment    25632\n",
       "house          8609\n",
       "Name: property_type, dtype: int64"
      ]
     },
     "execution_count": 66,
     "metadata": {},
     "output_type": "execute_result"
    }
   ],
   "source": [
    "df_without_outliers['property_type'].value_counts()"
   ]
  },
  {
   "cell_type": "code",
   "execution_count": 67,
   "id": "e7cac19d",
   "metadata": {},
   "outputs": [
    {
     "data": {
      "text/plain": [
       "<AxesSubplot:>"
      ]
     },
     "execution_count": 67,
     "metadata": {},
     "output_type": "execute_result"
    },
    {
     "data": {
      "image/png": "[encoded data removed]",
      "text/plain": [
       "<Figure size 640x480 with 2 Axes>"
      ]
     },
     "metadata": {},
     "output_type": "display_data"
    }
   ],
   "source": [
    "sns.heatmap(df_without_outliers.corr(), cmap = 'vlag', annot = True)"
   ]
  },
  {
   "cell_type": "code",
   "execution_count": 68,
   "id": "54ee94c8",
   "metadata": {},
   "outputs": [
    {
     "name": "stdout",
     "output_type": "stream",
     "text": [
      "<class 'pandas.core.frame.DataFrame'>\n",
      "Int64Index: 34241 entries, 0 to 36062\n",
      "Data columns (total 12 columns):\n",
      " #   Column           Non-Null Count  Dtype         \n",
      "---  ------           --------------  -----         \n",
      " 0   postal_code      34241 non-null  float64       \n",
      " 1   date             34241 non-null  datetime64[ns]\n",
      " 2   built            34241 non-null  object        \n",
      " 3   price            34241 non-null  float64       \n",
      " 4   city             34241 non-null  object        \n",
      " 5   region           34241 non-null  object        \n",
      " 6   property_type    34241 non-null  object        \n",
      " 7   living_area      34241 non-null  float64       \n",
      " 8   number_of_rooms  34241 non-null  int64         \n",
      " 9   longitude        34241 non-null  float64       \n",
      " 10  latitude         34241 non-null  float64       \n",
      " 11  nb_of_dep        34241 non-null  int64         \n",
      "dtypes: datetime64[ns](1), float64(5), int64(2), object(4)\n",
      "memory usage: 3.4+ MB\n"
     ]
    }
   ],
   "source": [
    "df_without_outliers.info()"
   ]
  },
  {
   "cell_type": "markdown",
   "id": "863b4937",
   "metadata": {},
   "source": [
    "## Take a look at the final data"
   ]
  },
  {
   "cell_type": "code",
   "execution_count": null,
   "id": "d1f7130f",
   "metadata": {},
   "outputs": [],
   "source": []
  },
  {
   "cell_type": "markdown",
   "id": "84878fc1",
   "metadata": {},
   "source": [
    "## 🐟 Naive baseline model"
   ]
  },
  {
   "cell_type": "code",
   "execution_count": 69,
   "id": "b5095002",
   "metadata": {},
   "outputs": [],
   "source": [
    "from sklearn.model_selection import train_test_split"
   ]
  },
  {
   "cell_type": "code",
   "execution_count": 70,
   "id": "5af0a18e",
   "metadata": {},
   "outputs": [],
   "source": [
    "mask_price = df_clean['price'] <2000000\n",
    "df_without_outliers = df_clean[mask_price]"
   ]
  },
  {
   "cell_type": "code",
   "execution_count": 71,
   "id": "31cdeb41",
   "metadata": {},
   "outputs": [],
   "source": [
    "X = df_without_outliers.drop(columns=['price'])\n",
    "y = df_without_outliers['price']\n",
    "\n",
    "X_train, X_test, y_train, y_test = train_test_split(X, y, test_size=0.2)"
   ]
  },
  {
   "cell_type": "code",
   "execution_count": 72,
   "id": "c4f99138",
   "metadata": {},
   "outputs": [],
   "source": [
    "# plt.figure(figsize=(12,4))\n",
    "# sns.boxplot(y)\n"
   ]
  },
  {
   "cell_type": "code",
   "execution_count": 73,
   "id": "913f0497",
   "metadata": {},
   "outputs": [
    {
     "name": "stdout",
     "output_type": "stream",
     "text": [
      "The mean price of 262241 €\n",
      "The median price of 230000 €\n"
     ]
    }
   ],
   "source": [
    "mean_price = y_train.mean()\n",
    "print(f\"The mean price of {round(mean_price)} €\")\n",
    "\n",
    "median_price = y_train.median()\n",
    "print(f\"The median price of {round(median_price)} €\")"
   ]
  },
  {
   "cell_type": "code",
   "execution_count": 74,
   "id": "af9ff835",
   "metadata": {},
   "outputs": [
    {
     "name": "stdout",
     "output_type": "stream",
     "text": [
      "The rmse when always predicting the mean : 155734 €.\n"
     ]
    }
   ],
   "source": [
    "mean_error = y_test - mean_price\n",
    "rmse_mean = ((mean_error**2).mean())**(1/2)\n",
    "print(f'The rmse when always predicting the mean : {round(rmse_mean)} €.')"
   ]
  },
  {
   "cell_type": "code",
   "execution_count": 75,
   "id": "5debc0ce",
   "metadata": {},
   "outputs": [
    {
     "name": "stdout",
     "output_type": "stream",
     "text": [
      "The rmse when always predicting the median : 159025 €.\n"
     ]
    }
   ],
   "source": [
    "median_error = y_test - median_price\n",
    "rmse_median = ((median_error**2).mean())**(1/2)\n",
    "print(f'The rmse when always predicting the median : {round(rmse_median)} €.')"
   ]
  },
  {
   "cell_type": "markdown",
   "id": "7d6c29d0",
   "metadata": {},
   "source": [
    "## 🐸 Model"
   ]
  },
  {
   "cell_type": "markdown",
   "id": "1adedbdb",
   "metadata": {},
   "source": [
    "## 💢 encode the data"
   ]
  },
  {
   "cell_type": "code",
   "execution_count": 76,
   "id": "384d06ea",
   "metadata": {},
   "outputs": [],
   "source": [
    "import sys\n",
    "sys.path.append('/home/anouchka/code/qadnguyen/realdata')\n",
    "from prop_value.ml_logic.preprocessor import preprocess_data\n",
    "X_train_preproc, X_test_preproc, y_train, y_test, X_all, y_all, df_full = preprocess_data(df_without_outliers)"
   ]
  },
  {
   "cell_type": "code",
   "execution_count": 77,
   "id": "9c0541f0",
   "metadata": {},
   "outputs": [],
   "source": [
    "# model-specific imports\n",
    "from sklearn.model_selection import train_test_split\n",
    "from sklearn.preprocessing import StandardScaler\n",
    "from sklearn.metrics import mean_squared_error\n",
    "from sklearn.model_selection import validation_curve\n",
    "from sklearn.model_selection import GridSearchCV\n",
    "from sklearn.model_selection import KFold\n",
    "from sklearn.model_selection import cross_val_score\n"
   ]
  },
  {
   "cell_type": "markdown",
   "id": "2d6477e3",
   "metadata": {},
   "source": [
    "## 🌳 RandomForest on data without outliers (df_without_ouliers)"
   ]
  },
  {
   "cell_type": "code",
   "execution_count": 78,
   "id": "f7fc8c8b",
   "metadata": {},
   "outputs": [
    {
     "name": "stdout",
     "output_type": "stream",
     "text": [
      "Root Mean Squared Error: 93205.09873159761\n",
      "Train score (R²): 0.6580768436832916\n",
      "Cross val score mean (R²) 0.6786656682681744\n"
     ]
    }
   ],
   "source": [
    "from sklearn.ensemble import RandomForestRegressor\n",
    "model_rfr = RandomForestRegressor()\n",
    "\n",
    "model_rfr.fit(X_train_preproc, y_train)\n",
    "y_pred = model_rfr.predict(X_test_preproc)\n",
    "mse = mean_squared_error(y_test, y_pred)\n",
    "rmse = mse**(1/2)\n",
    "print(f'Root Mean Squared Error: {rmse}')\n",
    "print( 'Train score (R²):', model_rfr.score(X_test_preproc, y_test))\n",
    "print('Cross val score mean (R²)', cross_val_score(model_rfr, X_all, y_all, cv = 5).mean())"
   ]
  },
  {
   "cell_type": "markdown",
   "id": "bb49a858",
   "metadata": {},
   "source": [
    "## 🪃 XGBoost on data without outliers (df_without_outliers)"
   ]
  },
  {
   "cell_type": "code",
   "execution_count": 79,
   "id": "f1379dc9",
   "metadata": {},
   "outputs": [
    {
     "name": "stdout",
     "output_type": "stream",
     "text": [
      "Root Mean Squared Error: 92894.27242477438\n",
      "Train score (R²) : 0.8432205619841009\n",
      "Cross val score mean (R²) : 0.6845849297194269\n"
     ]
    }
   ],
   "source": [
    "from xgboost import XGBRegressor\n",
    "from sklearn.metrics import mean_squared_error\n",
    "from sklearn.model_selection import cross_val_score\n",
    "model_xgb = XGBRegressor()\n",
    "\n",
    "model_xgb.fit(X_train_preproc, y_train)\n",
    "y_pred = model_xgb.predict(X_test_preproc)\n",
    "mse_b = mean_squared_error(y_pred, y_test)\n",
    "rmse_b = mse_b**(1/2)\n",
    "print(f'Root Mean Squared Error: {rmse_b}')\n",
    "print( 'Train score (R²) :', model_xgb.score(X_train_preproc, y_train))\n",
    "print('Cross val score mean (R²) :', cross_val_score(model_xgb, X_all, y_all, cv = 5, scoring = 'r2').mean())"
   ]
  },
  {
   "cell_type": "markdown",
   "id": "a5a9f8d0",
   "metadata": {},
   "source": [
    "## 📈 Linear Regression on data without outliers (df_without_outliers)"
   ]
  },
  {
   "cell_type": "code",
   "execution_count": 80,
   "id": "f87ceaed",
   "metadata": {},
   "outputs": [
    {
     "name": "stdout",
     "output_type": "stream",
     "text": [
      "Root Mean Squared Error: 106549.40586959607\n",
      "Train score (R²): 0.5737440603554238\n"
     ]
    },
    {
     "name": "stdout",
     "output_type": "stream",
     "text": [
      "Cross val score mean (R²) : 0.567642564406856\n"
     ]
    }
   ],
   "source": [
    "from sklearn.linear_model import LinearRegression\n",
    "model_lin = LinearRegression()\n",
    "\n",
    "model_lin.fit(X_train_preproc, y_train)\n",
    "y_pred = model_lin.predict(X_test_preproc)\n",
    "mse_b = mean_squared_error(y_pred, y_test)\n",
    "rmse_b = mse_b**(1/2)\n",
    "print(f'Root Mean Squared Error: {rmse_b}')\n",
    "print( 'Train score (R²):', model_lin.score(X_train_preproc, y_train))\n",
    "print('Cross val score mean (R²) :', cross_val_score(model_lin, X_all, y_all, cv = 5).mean())"
   ]
  },
  {
   "cell_type": "markdown",
   "id": "9bea5cbe",
   "metadata": {},
   "source": [
    "# No need anymore"
   ]
  },
  {
   "cell_type": "markdown",
   "id": "940a14fb",
   "metadata": {},
   "source": [
    "## 🌳 RandomForest on full data of 93 (df_clean)"
   ]
  },
  {
   "cell_type": "code",
   "execution_count": 81,
   "id": "f482f24d",
   "metadata": {},
   "outputs": [],
   "source": [
    "#preprocess data\n",
    "X_train_preproc_2, X_test_preproc_2, y_train_2, y_test_2, X_all_2, y_all_2, df_full_2 = preprocess_data(df_clean)"
   ]
  },
  {
   "cell_type": "code",
   "execution_count": 82,
   "id": "4b0f963c",
   "metadata": {},
   "outputs": [
    {
     "name": "stdout",
     "output_type": "stream",
     "text": [
      "Root Mean Squared Error: 403915.8565178672\n",
      "Train score: 0.03060401565035431\n"
     ]
    }
   ],
   "source": [
    "from sklearn.ensemble import RandomForestRegressor\n",
    "model_rfr_2 = RandomForestRegressor()\n",
    "\n",
    "model_rfr_2.fit(X_train_preproc_2, y_train_2)\n",
    "y_pred_2 = model_rfr_2.predict(X_test_preproc_2)\n",
    "mse_2a = mean_squared_error(y_test_2, y_pred_2)\n",
    "rmse_2a = mse_2a**(1/2)\n",
    "print(f'Root Mean Squared Error: {rmse_2a}')\n",
    "print( 'Train score:', model_rfr_2.score(X_test_preproc_2, y_test_2))\n",
    "print('Cross val score mean', cross_val_score(model_rfr_2, X_all_2, y_all_2, cv = 5).mean())"
   ]
  },
  {
   "cell_type": "markdown",
   "id": "054beaf2",
   "metadata": {},
   "source": [
    "## 🪃 XGBoost on full data (df_clean)"
   ]
  },
  {
   "cell_type": "code",
   "execution_count": null,
   "id": "92c0ce7f",
   "metadata": {},
   "outputs": [
    {
     "name": "stdout",
     "output_type": "stream",
     "text": [
      "Root Mean Squared Error: 469551.9651230555\n",
      "Train score: 0.9344138380463474\n",
      "Cross val score mean (r2) : -0.0726894111511023\n"
     ]
    }
   ],
   "source": [
    "model_xgb_2 = XGBRegressor()\n",
    "\n",
    "model_xgb_2.fit(X_train_preproc_2, y_train_2)\n",
    "y_pred_2 = model_xgb_2.predict(X_test_preproc_2)\n",
    "mse_2b = mean_squared_error(y_pred_2, y_test_2)\n",
    "rmse_2b = mse_2b**(1/2)\n",
    "print(f'Root Mean Squared Error: {rmse_2b}')\n",
    "print( 'Train score:', model_xgb_2.score(X_train_preproc_2, y_train_2))\n",
    "print('Cross val score mean (r2) :', cross_val_score(model_xgb_2, X_all_2, y_all_2, cv = 5, scoring = 'r2').mean())"
   ]
  },
  {
   "cell_type": "markdown",
   "id": "140212ee",
   "metadata": {},
   "source": [
    "## 📈 Linear Regression on full data (df_clean)"
   ]
  },
  {
   "cell_type": "code",
   "execution_count": null,
   "id": "adbc48b7",
   "metadata": {},
   "outputs": [
    {
     "name": "stdout",
     "output_type": "stream",
     "text": [
      "Mean Squared Error: 513551.2280835766\n",
      "Train score: 0.1093884854827537\n",
      "Cross val score mean 0.12753373904734266\n"
     ]
    }
   ],
   "source": [
    "from sklearn.linear_model import LinearRegression\n",
    "model_lin = LinearRegression()\n",
    "\n",
    "model_lin.fit(X_train_preproc_2, y_train_2)\n",
    "y_pred_2 = model_lin.predict(X_test_preproc_2)\n",
    "mse_2b = mean_squared_error(y_pred_2, y_test_2)\n",
    "rmse_2b = mse_2b**(1/2)\n",
    "print(f'Mean Squared Error: {rmse_2b}')\n",
    "print( 'Train score:', model_lin.score(X_train_preproc_2, y_train_2))\n",
    "print('Cross val score mean', cross_val_score(model_lin, X_all_2, y_all_2, cv = 5).mean())"
   ]
  },
  {
   "cell_type": "markdown",
   "id": "0ee7147d",
   "metadata": {},
   "source": [
    "## What model should we use ?"
   ]
  },
  {
   "cell_type": "code",
   "execution_count": null,
   "id": "c46d034d",
   "metadata": {},
   "outputs": [],
   "source": [
    "model_xgb_2 = XGBRegressor()\n",
    "\n",
    "model_xgb_2.fit(X_train_preproc_2, y_train_2)\n",
    "y_pred_2 = model_xgb_2.predict(X_test_preproc_2)\n",
    "mse_2b = mean_squared_error(y_pred_2, y_test_2)\n",
    "rmse_2b = mse_2b**(1/2)\n",
    "print(f'Root Mean Squared Error: {rmse_2b}')\n",
    "print( 'Train score:', model_xgb_2.score(X_train_preproc_2, y_train_2))\n",
    "print('Cross val score mean (r2) :', cross_val_score(model_xgb_2, X_all_2, y_all_2, cv = 5, scoring = 'r2').mean())"
   ]
  },
  {
   "cell_type": "markdown",
   "id": "819fbd48",
   "metadata": {},
   "source": [
    "# download file"
   ]
  },
  {
   "cell_type": "code",
   "execution_count": null,
   "id": "5d0cb6ab",
   "metadata": {},
   "outputs": [],
   "source": [
    "df_without_outliers.to_pickle('../raw_data/dvf_93_cleaned.pkl')"
   ]
  },
  {
   "cell_type": "markdown",
   "id": "c09477c6",
   "metadata": {},
   "source": [
    "# end of doc"
   ]
  },
  {
   "cell_type": "code",
   "execution_count": 15,
   "id": "d3dd513d",
   "metadata": {},
   "outputs": [],
   "source": [
    "df_full_clean = pd.read_pickle('../raw_data/dvf_full_cleaned.pkl')"
   ]
  },
  {
   "cell_type": "code",
   "execution_count": 16,
   "id": "557cac68",
   "metadata": {},
   "outputs": [
    {
     "data": {
      "text/plain": [
       "((1433810, 17),\n",
       " Index(['postal_code', 'date', 'built', 'price', 'city', 'region',\n",
       "        'property_type', 'living_area', 'number_of_rooms', 'longitude',\n",
       "        'latitude', 'nb_of_dep', 'day_sin', 'day_cos', 'month_sin', 'month_cos',\n",
       "        'year'],\n",
       "       dtype='object'))"
      ]
     },
     "execution_count": 16,
     "metadata": {},
     "output_type": "execute_result"
    }
   ],
   "source": [
    "df_full_clean.shape, df_full_clean.columns"
   ]
  },
  {
   "cell_type": "code",
   "execution_count": 17,
   "id": "b86c6470",
   "metadata": {},
   "outputs": [
    {
     "name": "stdout",
     "output_type": "stream",
     "text": [
      "Duplicate cities detected in the dictionary. All good.\n"
     ]
    }
   ],
   "source": [
    "import sys\n",
    "sys.path.append('/home/anouchka/code/qadnguyen/realdata')\n",
    "from prop_value.ml_logic.preprocessor import create_dict\n",
    "d = create_dict(df_full_clean)"
   ]
  },
  {
   "cell_type": "code",
   "execution_count": 21,
   "id": "c0fb7b2d",
   "metadata": {},
   "outputs": [
    {
     "data": {
      "text/plain": [
       "{10000: 10387,\n",
       " 10100: 10323,\n",
       " 10110: 10213,\n",
       " 10120: 10340,\n",
       " 10130: 10074,\n",
       " 10140: 10178,\n",
       " 10150: 10015,\n",
       " 10160: 10335,\n",
       " 10170: 10166,\n",
       " 10180: 10349,\n",
       " 10190: 10125,\n",
       " 10200: 10033,\n",
       " 10210: 10185,\n",
       " 10220: 10129,\n",
       " 10230: 10216,\n",
       " 10240: 10174,\n",
       " 10250: 10288,\n",
       " 10260: 10399,\n",
       " 10270: 10209,\n",
       " 10280: 10353,\n",
       " 10290: 10145,\n",
       " 10300: 10362,\n",
       " 10310: 10203,\n",
       " 10320: 10342,\n",
       " 10330: 10180,\n",
       " 10340: 10058,\n",
       " 10350: 10308,\n",
       " 10360: 10141,\n",
       " 10370: 10420,\n",
       " 10380: 10086,\n",
       " 10390: 10100,\n",
       " 10400: 10268,\n",
       " 10410: 10357,\n",
       " 10420: 10265,\n",
       " 10430: 10325,\n",
       " 10440: 10321,\n",
       " 10450: 10060,\n",
       " 10500: 10123,\n",
       " 10510: 10271,\n",
       " 10600: 10368,\n",
       " 10700: 10361,\n",
       " 10800: 10343,\n",
       " 10900: 1263,\n",
       " 11000: 11069,\n",
       " 11100: 11262,\n",
       " 11110: 11370,\n",
       " 11120: 11353,\n",
       " 11130: 11379,\n",
       " 11140: 11163,\n",
       " 11150: 11049,\n",
       " 11160: 11315,\n",
       " 11170: 11288,\n",
       " 11190: 11103,\n",
       " 11200: 11067,\n",
       " 11210: 11266,\n",
       " 11220: 11314,\n",
       " 11230: 11336,\n",
       " 11240: 11228,\n",
       " 11250: 11299,\n",
       " 11260: 11131,\n",
       " 11270: 11291,\n",
       " 11290: 11018,\n",
       " 11300: 11206,\n",
       " 11310: 11182,\n",
       " 11320: 11243,\n",
       " 11330: 11409,\n",
       " 11340: 11066,\n",
       " 11350: 11270,\n",
       " 11360: 11345,\n",
       " 11370: 11202,\n",
       " 11380: 11222,\n",
       " 11390: 11189,\n",
       " 11400: 11195,\n",
       " 11410: 11359,\n",
       " 11420: 11033,\n",
       " 11430: 11170,\n",
       " 11440: 11285,\n",
       " 11480: 11188,\n",
       " 11490: 11295,\n",
       " 11500: 11035,\n",
       " 11510: 11144,\n",
       " 11540: 11322,\n",
       " 11560: 11145,\n",
       " 11570: 11088,\n",
       " 11580: 11412,\n",
       " 11590: 11269,\n",
       " 11600: 11425,\n",
       " 11610: 11279,\n",
       " 11620: 11429,\n",
       " 11700: 11022,\n",
       " 11800: 11397,\n",
       " 11900: 1305,\n",
       " 12000: 74109,\n",
       " 12100: 12145,\n",
       " 12110: 12083,\n",
       " 12120: 12065,\n",
       " 12130: 12224,\n",
       " 12140: 12226,\n",
       " 12150: 12270,\n",
       " 12160: 12137,\n",
       " 12170: 12127,\n",
       " 12190: 12265,\n",
       " 12200: 12205,\n",
       " 12210: 12119,\n",
       " 12220: 12148,\n",
       " 12230: 12168,\n",
       " 12240: 12068,\n",
       " 12250: 12203,\n",
       " 12260: 12301,\n",
       " 12270: 12105,\n",
       " 12290: 12297,\n",
       " 12300: 12130,\n",
       " 12310: 12026,\n",
       " 12320: 12193,\n",
       " 12330: 12288,\n",
       " 12340: 12177,\n",
       " 12350: 12136,\n",
       " 12360: 12044,\n",
       " 12370: 12025,\n",
       " 12380: 12248,\n",
       " 12390: 12016,\n",
       " 12400: 12208,\n",
       " 12410: 12253,\n",
       " 12420: 12223,\n",
       " 12430: 12284,\n",
       " 12440: 12258,\n",
       " 12450: 12133,\n",
       " 12460: 12209,\n",
       " 12470: 12187,\n",
       " 12480: 12037,\n",
       " 12490: 12244,\n",
       " 12500: 12096,\n",
       " 12510: 12174,\n",
       " 12520: 12002,\n",
       " 12540: 12077,\n",
       " 12550: 12149,\n",
       " 12560: 12247,\n",
       " 12580: 12298,\n",
       " 12600: 12036,\n",
       " 12620: 12213,\n",
       " 12630: 12157,\n",
       " 12640: 12086,\n",
       " 12700: 12052,\n",
       " 12720: 12180,\n",
       " 12740: 12131,\n",
       " 12780: 12238,\n",
       " 12800: 12169,\n",
       " 12850: 12241,\n",
       " 12900: 1123,\n",
       " 13000: 1310,\n",
       " 13001: 13201,\n",
       " 13002: 13202,\n",
       " 13003: 13203,\n",
       " 13004: 13212,\n",
       " 13005: 13205,\n",
       " 13006: 13206,\n",
       " 13007: 13207,\n",
       " 13008: 13208,\n",
       " 13009: 13209,\n",
       " 13010: 13210,\n",
       " 13011: 13211,\n",
       " 13012: 13212,\n",
       " 13013: 13213,\n",
       " 13014: 13214,\n",
       " 13015: 13215,\n",
       " 13016: 13216,\n",
       " 13080: 13001,\n",
       " 13090: 13001,\n",
       " 13100: 13001,\n",
       " 13103: 13094,\n",
       " 13104: 13004,\n",
       " 13105: 13062,\n",
       " 13109: 13107,\n",
       " 13110: 13077,\n",
       " 13111: 13118,\n",
       " 13112: 13031,\n",
       " 13113: 13049,\n",
       " 13114: 13079,\n",
       " 13115: 13099,\n",
       " 13116: 13115,\n",
       " 13117: 13056,\n",
       " 13118: 13047,\n",
       " 13119: 13101,\n",
       " 13120: 13041,\n",
       " 13121: 13008,\n",
       " 13122: 13114,\n",
       " 13123: 13004,\n",
       " 13124: 13073,\n",
       " 13126: 13111,\n",
       " 13127: 13117,\n",
       " 13129: 13004,\n",
       " 13130: 13014,\n",
       " 13140: 13063,\n",
       " 13150: 13108,\n",
       " 13160: 13027,\n",
       " 13170: 13071,\n",
       " 13180: 13043,\n",
       " 13190: 13002,\n",
       " 13200: 13004,\n",
       " 13210: 13100,\n",
       " 13220: 13026,\n",
       " 13230: 13078,\n",
       " 13240: 13106,\n",
       " 13250: 13092,\n",
       " 13260: 13022,\n",
       " 13270: 13039,\n",
       " 13280: 13004,\n",
       " 13290: 13001,\n",
       " 13300: 13103,\n",
       " 13310: 13097,\n",
       " 13320: 13015,\n",
       " 13330: 13069,\n",
       " 13340: 13081,\n",
       " 13350: 13024,\n",
       " 13360: 13086,\n",
       " 13370: 13053,\n",
       " 13380: 13075,\n",
       " 13390: 13007,\n",
       " 13400: 13005,\n",
       " 13410: 13050,\n",
       " 13420: 13042,\n",
       " 13430: 13035,\n",
       " 13440: 13018,\n",
       " 13450: 13044,\n",
       " 13460: 13096,\n",
       " 13470: 13119,\n",
       " 13480: 13019,\n",
       " 13490: 13048,\n",
       " 13500: 13056,\n",
       " 13510: 13032,\n",
       " 13520: 13058,\n",
       " 13530: 13110,\n",
       " 13540: 13001,\n",
       " 13550: 13066,\n",
       " 13560: 13105,\n",
       " 13570: 13010,\n",
       " 13580: 13037,\n",
       " 13590: 13060,\n",
       " 13600: 13028,\n",
       " 13610: 13080,\n",
       " 13620: 13021,\n",
       " 13630: 13036,\n",
       " 13640: 13084,\n",
       " 13650: 13059,\n",
       " 13660: 13067,\n",
       " 13670: 13089,\n",
       " 13680: 13051,\n",
       " 13690: 13045,\n",
       " 13700: 13054,\n",
       " 13710: 13040,\n",
       " 13720: 13016,\n",
       " 13730: 13102,\n",
       " 13740: 13088,\n",
       " 13750: 13076,\n",
       " 13760: 13091,\n",
       " 13770: 13113,\n",
       " 13780: 83105,\n",
       " 13790: 13025,\n",
       " 13800: 13047,\n",
       " 13810: 13034,\n",
       " 13820: 13033,\n",
       " 13821: 13070,\n",
       " 13830: 13085,\n",
       " 13840: 13082,\n",
       " 13850: 13046,\n",
       " 13860: 13074,\n",
       " 13870: 13083,\n",
       " 13880: 13112,\n",
       " 13890: 13065,\n",
       " 13900: 1371,\n",
       " 13910: 13052,\n",
       " 13920: 13098,\n",
       " 13930: 13006,\n",
       " 13940: 13064,\n",
       " 13950: 13020,\n",
       " 13960: 13104,\n",
       " 13980: 13003,\n",
       " 13990: 13038,\n",
       " 14000: 14118,\n",
       " 14100: 14466,\n",
       " 14110: 14572,\n",
       " 14111: 14383,\n",
       " 14112: 14068,\n",
       " 14113: 14755,\n",
       " 14114: 14739,\n",
       " 14117: 14709,\n",
       " 14120: 14437,\n",
       " 14121: 14665,\n",
       " 14123: 14271,\n",
       " 14130: 14177,\n",
       " 14140: 14371,\n",
       " 14150: 14488,\n",
       " 14160: 14225,\n",
       " 14170: 14742,\n",
       " 14190: 14719,\n",
       " 14200: 14327,\n",
       " 14210: 14257,\n",
       " 14220: 14411,\n",
       " 14230: 14342,\n",
       " 14240: 14011,\n",
       " 14250: 14236,\n",
       " 14260: 14084,\n",
       " 14270: 14431,\n",
       " 14280: 14587,\n",
       " 14290: 14740,\n",
       " 14300: 1067,\n",
       " 14310: 14449,\n",
       " 14320: 14623,\n",
       " 14330: 14614,\n",
       " 14340: 14126,\n",
       " 14350: 14061,\n",
       " 14360: 14715,\n",
       " 14370: 14410,\n",
       " 14380: 14658,\n",
       " 14390: 14724,\n",
       " 14400: 14436,\n",
       " 14410: 14726,\n",
       " 14420: 14753,\n",
       " 14430: 14335,\n",
       " 14440: 14228,\n",
       " 14450: 14312,\n",
       " 14460: 14167,\n",
       " 14470: 14318,\n",
       " 14480: 14169,\n",
       " 14490: 14035,\n",
       " 14500: 14762,\n",
       " 14510: 14338,\n",
       " 14520: 14515,\n",
       " 14530: 14384,\n",
       " 14540: 14538,\n",
       " 14550: 14076,\n",
       " 14570: 14162,\n",
       " 14590: 14460,\n",
       " 14600: 14536,\n",
       " 14610: 14242,\n",
       " 14620: 14206,\n",
       " 14630: 14119,\n",
       " 14640: 14754,\n",
       " 14650: 14137,\n",
       " 14670: 14657,\n",
       " 14680: 14100,\n",
       " 14690: 14427,\n",
       " 14700: 14258,\n",
       " 14710: 14063,\n",
       " 14730: 14301,\n",
       " 14740: 14098,\n",
       " 14750: 14562,\n",
       " 14760: 14101,\n",
       " 14770: 14146,\n",
       " 14780: 14365,\n",
       " 14790: 14738,\n",
       " 14800: 14220,\n",
       " 14810: 14409,\n",
       " 14830: 14354,\n",
       " 14840: 14221,\n",
       " 14850: 14246,\n",
       " 14860: 14009,\n",
       " 14880: 14325,\n",
       " 14910: 14079,\n",
       " 14920: 14407,\n",
       " 14930: 14254,\n",
       " 14940: 14712,\n",
       " 14950: 14055,\n",
       " 14960: 14022,\n",
       " 14970: 14558,\n",
       " 14980: 14543,\n",
       " 14990: 14066,\n",
       " 15000: 15014,\n",
       " 15100: 15235,\n",
       " 15110: 15121,\n",
       " 15120: 15084,\n",
       " 15130: 15012,\n",
       " 15140: 15219,\n",
       " 15150: 15189,\n",
       " 15160: 15001,\n",
       " 15170: 15141,\n",
       " 15190: 15173,\n",
       " 15200: 15120,\n",
       " 15210: 15265,\n",
       " 15220: 15163,\n",
       " 15230: 15152,\n",
       " 15240: 15131,\n",
       " 15250: 15056,\n",
       " 15260: 15142,\n",
       " 15270: 15185,\n",
       " 15290: 15268,\n",
       " 15300: 15101,\n",
       " 15310: 15191,\n",
       " 15320: 15108,\n",
       " 15340: 15226,\n",
       " 15350: 15037,\n",
       " 15380: 15006,\n",
       " 15400: 15162,\n",
       " 15430: 15059,\n",
       " 15500: 15013,\n",
       " 15590: 15096,\n",
       " 15600: 15122,\n",
       " 15700: 15153,\n",
       " 15800: 15192,\n",
       " 15900: 39283,\n",
       " 16000: 16015,\n",
       " 16100: 16102,\n",
       " 16110: 16281,\n",
       " 16120: 16204,\n",
       " 16130: 16399,\n",
       " 16140: 16390,\n",
       " 16150: 16071,\n",
       " 16160: 16154,\n",
       " 16170: 16148,\n",
       " 16190: 16230,\n",
       " 16200: 16167,\n",
       " 16210: 16073,\n",
       " 16220: 16124,\n",
       " 16230: 16196,\n",
       " 16240: 16409,\n",
       " 16250: 16041,\n",
       " 16260: 16085,\n",
       " 16270: 16245,\n",
       " 16290: 16019,\n",
       " 16300: 16405,\n",
       " 16310: 16096,\n",
       " 16320: 16408,\n",
       " 16330: 16423,\n",
       " 16340: 16166,\n",
       " 16350: 16038,\n",
       " 16360: 16384,\n",
       " 16370: 16097,\n",
       " 16380: 16211,\n",
       " 16390: 16180,\n",
       " 16400: 16113,\n",
       " 16410: 16119,\n",
       " 16420: 16064,\n",
       " 16430: 16078,\n",
       " 16440: 16287,\n",
       " 16450: 16035,\n",
       " 16460: 16237,\n",
       " 16470: 16341,\n",
       " 16480: 16066,\n",
       " 16490: 16007,\n",
       " 16500: 16249,\n",
       " 16510: 16400,\n",
       " 16560: 16024,\n",
       " 16570: 16320,\n",
       " 16590: 16061,\n",
       " 16600: 16291,\n",
       " 16620: 16222,\n",
       " 16700: 16292,\n",
       " 16710: 16358,\n",
       " 16720: 16340,\n",
       " 16730: 16187,\n",
       " 16800: 16374,\n",
       " 17000: 17300,\n",
       " 17100: 17415,\n",
       " 17110: 17333,\n",
       " 17111: 17207,\n",
       " 17113: 17247,\n",
       " 17120: 17248,\n",
       " 17123: 17004,\n",
       " 17130: 17240,\n",
       " 17132: 17230,\n",
       " 17137: 17264,\n",
       " 17138: 17414,\n",
       " 17139: 17142,\n",
       " 17140: 17200,\n",
       " 17150: 17410,\n",
       " 17160: 17446,\n",
       " 17170: 17182,\n",
       " 17180: 17274,\n",
       " 17190: 17337,\n",
       " 17200: 17306,\n",
       " 17210: 17099,\n",
       " 17220: 17373,\n",
       " 17230: 17208,\n",
       " 17240: 17402,\n",
       " 17250: 17387,\n",
       " 17260: 17404,\n",
       " 17270: 17241,\n",
       " 17290: 17447,\n",
       " 17300: 17299,\n",
       " 17310: 17385,\n",
       " 17320: 17219,\n",
       " 17330: 17137,\n",
       " 17340: 17094,\n",
       " 17350: 17397,\n",
       " 17360: 17113,\n",
       " 17370: 17411,\n",
       " 17380: 17292,\n",
       " 17390: 17452,\n",
       " 17400: 17277,\n",
       " 17410: 17369,\n",
       " 17420: 17380,\n",
       " 17430: 17449,\n",
       " 17440: 17028,\n",
       " 17450: 17168,\n",
       " 17460: 17102,\n",
       " 17470: 17024,\n",
       " 17480: 17093,\n",
       " 17490: 17427,\n",
       " 17500: 17108,\n",
       " 17510: 17416,\n",
       " 17520: 17355,\n",
       " 17530: 17021,\n",
       " 17540: 17186,\n",
       " 17550: 17140,\n",
       " 17560: 17058,\n",
       " 17570: 17311,\n",
       " 17580: 17051,\n",
       " 17590: 17318,\n",
       " 17600: 17406,\n",
       " 17610: 17086,\n",
       " 17620: 17036,\n",
       " 17630: 17161,\n",
       " 17640: 17461,\n",
       " 17650: 17323,\n",
       " 17670: 17121,\n",
       " 17690: 17010,\n",
       " 17700: 17434,\n",
       " 17730: 17484,\n",
       " 17740: 17360,\n",
       " 17750: 17155,\n",
       " 17770: 17072,\n",
       " 17780: 17329,\n",
       " 17800: 17273,\n",
       " 17810: 17336,\n",
       " 17840: 17486,\n",
       " 17870: 17065,\n",
       " 17880: 17286,\n",
       " 17890: 17079,\n",
       " 17920: 17064,\n",
       " 17940: 17297,\n",
       " 18000: 18033,\n",
       " 18100: 18279,\n",
       " 18110: 18004,\n",
       " 18120: 18140,\n",
       " 18130: 18087,\n",
       " 18140: 18110,\n",
       " 18150: 18108,\n",
       " 18160: 18216,\n",
       " 18170: 18059,\n",
       " 18190: 18046,\n",
       " 18200: 18197,\n",
       " 18210: 18076,\n",
       " 18220: 18003,\n",
       " 18230: 18205,\n",
       " 18240: 18032,\n",
       " 18250: 18001,\n",
       " 18260: 18084,\n",
       " 18270: 18192,\n",
       " 18290: 18055,\n",
       " 18300: 18020,\n",
       " 18310: 18103,\n",
       " 18320: 18139,\n",
       " 18330: 18165,\n",
       " 18340: 18126,\n",
       " 18350: 18160,\n",
       " 18360: 18245,\n",
       " 18370: 18057,\n",
       " 18380: 18149,\n",
       " 18390: 18247,\n",
       " 18400: 18207,\n",
       " 18410: 18030,\n",
       " 18500: 18141,\n",
       " 18510: 18145,\n",
       " 18520: 18018,\n",
       " 18570: 18267,\n",
       " 18600: 18155,\n",
       " 18700: 18147,\n",
       " 18800: 18056,\n",
       " 19000: 19272,\n",
       " 19100: 19031,\n",
       " 19110: 19028,\n",
       " 19120: 19271,\n",
       " 19130: 19288,\n",
       " 19140: 19076,\n",
       " 19150: 19075,\n",
       " 19160: 19148,\n",
       " 19170: 19268,\n",
       " 19190: 19023,\n",
       " 19200: 19275,\n",
       " 19210: 19198,\n",
       " 19220: 19258,\n",
       " 19230: 19243,\n",
       " 19240: 19005,\n",
       " 19250: 19136,\n",
       " 19260: 19269,\n",
       " 19270: 19274,\n",
       " 19290: 19164,\n",
       " 19300: 19073,\n",
       " 19310: 19161,\n",
       " 19320: 19089,\n",
       " 19330: 19042,\n",
       " 19340: 19141,\n",
       " 19350: 19094,\n",
       " 19360: 19123,\n",
       " 19370: 19036,\n",
       " 19380: 19004,\n",
       " 19390: 19181,\n",
       " 19400: 19221,\n",
       " 19410: 19078,\n",
       " 19430: 19017,\n",
       " 19450: 19037,\n",
       " 19460: 19146,\n",
       " 19470: 19118,\n",
       " 19490: 19203,\n",
       " 19500: 19067,\n",
       " 19510: 19022,\n",
       " 19520: 19124,\n",
       " 19550: 19264,\n",
       " 19560: 19211,\n",
       " 19600: 19107,\n",
       " 19700: 19255,\n",
       " 19800: 19236,\n",
       " 19900: 1319,\n",
       " 20000: 20004,\n",
       " 20090: 20004,\n",
       " 20100: 20272,\n",
       " 20110: 20249,\n",
       " 20111: 20048,\n",
       " 20112: 20308,\n",
       " 20113: 20189,\n",
       " 20114: 20114,\n",
       " 20115: 20212,\n",
       " 20116: 20024,\n",
       " 20117: 20085,\n",
       " 20118: 20090,\n",
       " 20119: 20031,\n",
       " 20121: 20027,\n",
       " 20122: 20254,\n",
       " 20123: 20232,\n",
       " 20124: 20362,\n",
       " 20125: 20282,\n",
       " 20126: 20108,\n",
       " 20127: 20278,\n",
       " 20128: 20008,\n",
       " 20129: 20032,\n",
       " 20130: 20065,\n",
       " 20131: 20215,\n",
       " 20132: 20359,\n",
       " 20133: 20330,\n",
       " 20134: 20089,\n",
       " 20135: 20092,\n",
       " 20136: 20040,\n",
       " 20137: 20247,\n",
       " 20138: 20098,\n",
       " 20139: 20144,\n",
       " 20140: 20276,\n",
       " 20141: 20154,\n",
       " 20142: 20056,\n",
       " 20143: 20118,\n",
       " 20144: 20362,\n",
       " 20145: 20269,\n",
       " 20146: 20288,\n",
       " 20147: 20197,\n",
       " 20148: 20099,\n",
       " 20150: 20198,\n",
       " 20151: 20270,\n",
       " 20152: 20285,\n",
       " 20153: 20133,\n",
       " 20157: 20119,\n",
       " 20160: 20028,\n",
       " 20163: 20324,\n",
       " 20164: 20066,\n",
       " 20165: 20146,\n",
       " 20166: 20130,\n",
       " 20167: 20001,\n",
       " 20168: 20094,\n",
       " 20169: 20041,\n",
       " 20170: 20300,\n",
       " 20171: 20163,\n",
       " 20172: 20345,\n",
       " 20190: 20312,\n",
       " 20200: 20305,\n",
       " 20212: 20110,\n",
       " 20213: 20207,\n",
       " 20214: 20049,\n",
       " 20215: 20343,\n",
       " 20217: 20298,\n",
       " 20218: 20136,\n",
       " 20219: 20354,\n",
       " 20220: 20010,\n",
       " 20221: 20087,\n",
       " 20222: 20043,\n",
       " 20224: 20073,\n",
       " 20225: 20175,\n",
       " 20226: 20182,\n",
       " 20227: 20124,\n",
       " 20228: 20152,\n",
       " 20229: 20052,\n",
       " 20230: 20317,\n",
       " 20231: 20341,\n",
       " 20232: 20185,\n",
       " 20233: 20281,\n",
       " 20234: 20334,\n",
       " 20235: 20079,\n",
       " 20236: 20193,\n",
       " 20237: 20255,\n",
       " 20238: 20170,\n",
       " 20239: 20172,\n",
       " 20240: 20342,\n",
       " 20242: 20347,\n",
       " 20243: 20251,\n",
       " 20244: 20051,\n",
       " 20245: 20121,\n",
       " 20246: 20257,\n",
       " 20247: 20261,\n",
       " 20248: 20327,\n",
       " 20250: 20096,\n",
       " 20251: 20012,\n",
       " 20252: 20055,\n",
       " 20253: 20205,\n",
       " 20256: 20093,\n",
       " 20259: 20339,\n",
       " 20260: 20050,\n",
       " 20270: 20155,\n",
       " 20272: 20356,\n",
       " 20275: 20107,\n",
       " 20276: 20023,\n",
       " 20279: 20352,\n",
       " 20287: 20159,\n",
       " 20290: 20042,\n",
       " 20600: 20033,\n",
       " 20620: 20037,\n",
       " 21000: 21231,\n",
       " 21100: 2511,\n",
       " 21110: 21632,\n",
       " 21120: 21483,\n",
       " 21121: 21278,\n",
       " 21130: 21028,\n",
       " 21140: 21603,\n",
       " 21150: 21308,\n",
       " 21160: 21390,\n",
       " 21170: 21554,\n",
       " 21190: 21401,\n",
       " 21200: 21054,\n",
       " 21210: 21629,\n",
       " 21220: 21178,\n",
       " 21230: 21023,\n",
       " 21240: 21617,\n",
       " 21250: 21474,\n",
       " 21260: 21599,\n",
       " 21270: 21610,\n",
       " 21290: 21543,\n",
       " 21300: 21166,\n",
       " 21310: 21071,\n",
       " 21320: 21251,\n",
       " 21330: 21378,\n",
       " 21340: 71085,\n",
       " 21350: 21710,\n",
       " 21360: 21427,\n",
       " 21370: 21485,\n",
       " 21380: 21591,\n",
       " 21390: 21449,\n",
       " 21400: 21545,\n",
       " 21410: 21273,\n",
       " 21420: 21010,\n",
       " 21430: 21379,\n",
       " 21440: 21659,\n",
       " 21450: 21043,\n",
       " 21460: 21640,\n",
       " 21470: 21103,\n",
       " 21490: 21657,\n",
       " 21500: 21568,\n",
       " 21510: 21004,\n",
       " 21520: 21432,\n",
       " 21530: 21538,\n",
       " 21540: 21611,\n",
       " 21560: 21021,\n",
       " 21570: 21058,\n",
       " 21580: 21579,\n",
       " 21590: 21582,\n",
       " 21600: 21355,\n",
       " 21610: 21277,\n",
       " 21630: 21492,\n",
       " 21640: 21716,\n",
       " 21700: 21464,\n",
       " 21760: 21337,\n",
       " 21800: 21515,\n",
       " 21820: 21332,\n",
       " 21850: 21540,\n",
       " 21900: 2360,\n",
       " 21910: 21585,\n",
       " 22000: 22278,\n",
       " 22100: 22050,\n",
       " 22110: 22220,\n",
       " 22120: 22258,\n",
       " 22130: 22105,\n",
       " 22140: 22245,\n",
       " 22150: 22219,\n",
       " 22160: 22231,\n",
       " 22170: 22304,\n",
       " 22190: 22187,\n",
       " 22200: 22070,\n",
       " 22210: 22183,\n",
       " 22220: 22347,\n",
       " 22230: 22371,\n",
       " 22240: 22179,\n",
       " 22250: 22337,\n",
       " 22260: 22256,\n",
       " 22270: 22084,\n",
       " 22290: 22065,\n",
       " 22300: 22226,\n",
       " 22310: 22194,\n",
       " 22320: 22316,\n",
       " 22330: 22046,\n",
       " 22340: 22137,\n",
       " 22350: 22391,\n",
       " 22360: 22106,\n",
       " 22370: 22186,\n",
       " 22380: 22282,\n",
       " 22390: 22013,\n",
       " 22400: 22077,\n",
       " 22410: 22325,\n",
       " 22420: 22207,\n",
       " 22430: 22054,\n",
       " 22440: 22372,\n",
       " 22450: 22090,\n",
       " 22460: 22300,\n",
       " 22470: 22214,\n",
       " 22480: 22321,\n",
       " 22490: 22190,\n",
       " 22500: 22162,\n",
       " 22510: 22153,\n",
       " 22520: 22055,\n",
       " 22530: 22285,\n",
       " 22540: 22164,\n",
       " 22550: 22076,\n",
       " 22560: 22343,\n",
       " 22570: 22124,\n",
       " 22580: 22222,\n",
       " 22590: 22251,\n",
       " 22600: 22376,\n",
       " 22610: 22195,\n",
       " 22620: 22210,\n",
       " 22630: 22035,\n",
       " 22640: 22185,\n",
       " 22650: 22209,\n",
       " 22660: 22379,\n",
       " 22680: 22055,\n",
       " 22690: 22197,\n",
       " 22700: 22168,\n",
       " 22710: 22166,\n",
       " 22720: 22189,\n",
       " 22730: 22353,\n",
       " 22740: 22127,\n",
       " 22750: 22302,\n",
       " 22770: 22094,\n",
       " 22780: 22131,\n",
       " 22800: 22262,\n",
       " 22810: 22228,\n",
       " 22820: 22218,\n",
       " 22830: 22208,\n",
       " 22860: 22233,\n",
       " 22870: 22016,\n",
       " 22900: 2795,\n",
       " 22930: 22390,\n",
       " 22940: 22307,\n",
       " 22950: 22360,\n",
       " 22960: 22176,\n",
       " 22970: 22225,\n",
       " 22980: 22180,\n",
       " 23000: 23096,\n",
       " 23100: 23221,\n",
       " 23110: 23234,\n",
       " 23120: 23257,\n",
       " 23130: 23151,\n",
       " 23140: 23149,\n",
       " 23150: 23214,\n",
       " 23160: 23070,\n",
       " 23170: 23251,\n",
       " 23190: 23127,\n",
       " 23200: 23008,\n",
       " 23210: 23006,\n",
       " 23220: 23025,\n",
       " 23230: 23093,\n",
       " 23240: 23111,\n",
       " 23250: 23168,\n",
       " 23260: 23178,\n",
       " 23270: 23102,\n",
       " 23290: 23192,\n",
       " 23300: 23258,\n",
       " 23320: 23082,\n",
       " 23340: 23090,\n",
       " 23350: 23089,\n",
       " 23360: 23112,\n",
       " 23380: 23002,\n",
       " 23400: 23030,\n",
       " 23420: 23131,\n",
       " 23430: 23056,\n",
       " 23450: 23087,\n",
       " 23460: 23165,\n",
       " 23480: 23007,\n",
       " 23500: 23079,\n",
       " 23600: 23120,\n",
       " 23700: 23110,\n",
       " 23800: 23141,\n",
       " 23900: 2575,\n",
       " 24000: 24322,\n",
       " 24100: 24037,\n",
       " 24110: 24372,\n",
       " 24120: 24547,\n",
       " 24130: 24277,\n",
       " 24140: 24259,\n",
       " 24150: 24338,\n",
       " 24160: 24196,\n",
       " 24170: 24438,\n",
       " 24190: 24157,\n",
       " 24200: 24520,\n",
       " 24210: 24020,\n",
       " 24220: 24510,\n",
       " 24230: 24226,\n",
       " 24240: 24331,\n",
       " 24250: 24091,\n",
       " 24260: 24217,\n",
       " 24270: 24227,\n",
       " 24290: 24014,\n",
       " 24300: 24451,\n",
       " 24310: 24064,\n",
       " 24320: 24141,\n",
       " 24330: 24484,\n",
       " 24340: 24253,\n",
       " 24350: 24286,\n",
       " 24360: 24328,\n",
       " 24370: 24432,\n",
       " 24380: 24094,\n",
       " 24390: 24120,\n",
       " 24400: 24234,\n",
       " 24410: 24376,\n",
       " 24420: 24527,\n",
       " 24430: 24010,\n",
       " 24440: 24379,\n",
       " 24450: 24133,\n",
       " 24460: 24002,\n",
       " 24470: 24498,\n",
       " 24480: 24068,\n",
       " 24490: 24354,\n",
       " 24500: 24383,\n",
       " 24510: 24405,\n",
       " 24520: 24224,\n",
       " 24530: 24096,\n",
       " 24540: 24280,\n",
       " 24550: 24585,\n",
       " 24560: 24374,\n",
       " 24570: 24130,\n",
       " 24580: 24356,\n",
       " 24590: 24392,\n",
       " 24600: 24352,\n",
       " 24610: 24454,\n",
       " 24620: 24255,\n",
       " 24630: 24218,\n",
       " 24640: 24147,\n",
       " 24650: 24102,\n",
       " 24660: 24312,\n",
       " 24680: 24225,\n",
       " 24700: 24294,\n",
       " 24750: 24557,\n",
       " 24800: 24304,\n",
       " 24900: 2614,\n",
       " 25000: 25056,\n",
       " 25100: 2298,\n",
       " 25110: 25047,\n",
       " 25111: 25400,\n",
       " 25113: 25523,\n",
       " 25115: 25467,\n",
       " 25120: 25356,\n",
       " 25130: 25321,\n",
       " 25140: 25127,\n",
       " 25150: 25463,\n",
       " 25160: 25405,\n",
       " 25170: 25115,\n",
       " 25190: 25503,\n",
       " 25200: 25388,\n",
       " 25210: 25512,\n",
       " 25220: 25560,\n",
       " 25230: 25539,\n",
       " 25240: 25413,\n",
       " 25250: 25232,\n",
       " 25260: 25394,\n",
       " 25270: 25334,\n",
       " 25290: 25434,\n",
       " 25300: 25462,\n",
       " 25310: 25615,\n",
       " 25320: 25564,\n",
       " 25330: 25199,\n",
       " 25340: 25177,\n",
       " 25350: 25367,\n",
       " 25360: 25437,\n",
       " 25370: 25380,\n",
       " 25380: 25051,\n",
       " 25390: 25432,\n",
       " 25400: 25031,\n",
       " 25410: 25527,\n",
       " 25420: 25632,\n",
       " 25430: 25145,\n",
       " 25440: 25109,\n",
       " 25450: 25193,\n",
       " 25460: 25228,\n",
       " 25470: 25280,\n",
       " 25480: 25212,\n",
       " 25490: 25237,\n",
       " 25500: 25411,\n",
       " ...}"
      ]
     },
     "execution_count": 21,
     "metadata": {},
     "output_type": "execute_result"
    }
   ],
   "source": [
    "d"
   ]
  },
  {
   "cell_type": "code",
   "execution_count": 5,
   "id": "88234c26",
   "metadata": {},
   "outputs": [],
   "source": [
    "df93_clean = clean_data(df_93_raw)"
   ]
  },
  {
   "cell_type": "code",
   "execution_count": null,
   "id": "920cb9ba",
   "metadata": {},
   "outputs": [],
   "source": []
  }
 ],
 "metadata": {
  "kernelspec": {
   "display_name": "Python 3 (ipykernel)",
   "language": "python",
   "name": "python3"
  },
  "language_info": {
   "codemirror_mode": {
    "name": "ipython",
    "version": 3
   },
   "file_extension": ".py",
   "mimetype": "text/x-python",
   "name": "python",
   "nbconvert_exporter": "python",
   "pygments_lexer": "ipython3",
   "version": "3.10.6"
  },
  "toc": {
   "base_numbering": 1,
   "nav_menu": {},
   "number_sections": true,
   "sideBar": true,
   "skip_h1_title": false,
   "title_cell": "Table of Contents",
   "title_sidebar": "Contents",
   "toc_cell": false,
   "toc_position": {},
   "toc_section_display": true,
   "toc_window_display": false
  }
 },
 "nbformat": 4,
 "nbformat_minor": 5
}
