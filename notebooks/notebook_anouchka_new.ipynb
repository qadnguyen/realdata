{
 "cells": [
  {
   "cell_type": "markdown",
   "id": "6f18eb81",
   "metadata": {},
   "source": [
    "# ⬇️ Imports"
   ]
  },
  {
   "cell_type": "code",
   "execution_count": null,
   "id": "c664a0b4",
   "metadata": {},
   "outputs": [],
   "source": [
    "##adding something"
   ]
  },
  {
   "cell_type": "code",
   "execution_count": null,
   "id": "175df4e6",
   "metadata": {},
   "outputs": [],
   "source": [
    "%load_ext autoreload\n",
    "\n",
    "%autoreload 2"
   ]
  },
  {
   "cell_type": "code",
   "execution_count": null,
   "id": "e22b5836",
   "metadata": {},
   "outputs": [],
   "source": [
    "import pandas as pd\n",
    "import numpy as np\n",
    "import matplotlib.pyplot as plt\n",
    "from pathlib import Path\n",
    "import seaborn as sns\n",
    "\n",
    "import sys\n",
    "sys.path.append('/home/anouchka/code/qadnguyen/realdata')\n",
    "from prop_value.ml_logic.preprocessor import preprocess_data, clean_data\n",
    "\n",
    "\n",
    "import warnings\n",
    "warnings.filterwarnings('ignore')\n"
   ]
  },
  {
   "cell_type": "markdown",
   "id": "35334902",
   "metadata": {},
   "source": [
    "# ✅ Downloading the data"
   ]
  },
  {
   "cell_type": "code",
   "execution_count": null,
   "id": "172c6531",
   "metadata": {},
   "outputs": [],
   "source": [
    "# # Get the data from the csv file\n",
    "# dvf_full_raw = pd.read_csv('../raw_data/dvf_full_raw.csv')\n",
    "\n",
    "# dvf_full_raw.shape"
   ]
  },
  {
   "cell_type": "code",
   "execution_count": null,
   "id": "c1f99e44",
   "metadata": {},
   "outputs": [],
   "source": [
    "df_93_raw = pd.read_csv('../raw_data/dvf_93.csv')"
   ]
  },
  {
   "cell_type": "code",
   "execution_count": null,
   "id": "aac8e1d1",
   "metadata": {},
   "outputs": [],
   "source": [
    "# df = pd.read_csv('../raw_data/dvf_full_raw.csv')"
   ]
  },
  {
   "cell_type": "markdown",
   "id": "42b16f51",
   "metadata": {},
   "source": [
    "# 🔎 Exploring 1 region"
   ]
  },
  {
   "cell_type": "code",
   "execution_count": null,
   "id": "e5fd8db2",
   "metadata": {},
   "outputs": [],
   "source": [
    "df_93_raw.columns"
   ]
  },
  {
   "cell_type": "markdown",
   "id": "a5c5bd8b",
   "metadata": {},
   "source": [
    "# 🔅 Preprocessing"
   ]
  },
  {
   "cell_type": "markdown",
   "id": "750ad2d5",
   "metadata": {},
   "source": [
    "## 🧹 Keep only useful columns and rows and translate"
   ]
  },
  {
   "cell_type": "markdown",
   "id": "cc0dd0d0",
   "metadata": {},
   "source": [
    "### Removing columns"
   ]
  },
  {
   "cell_type": "code",
   "execution_count": null,
   "id": "bc3be1f9",
   "metadata": {},
   "outputs": [],
   "source": [
    "keep_col =['id_mutation',\n",
    "            'date_mutation',\n",
    "            'nature_mutation',\n",
    "            'valeur_fonciere',\n",
    "            'code_postal',\n",
    "            'code_commune',\n",
    "            'code_departement',\n",
    "            'type_local',\n",
    "            'surface_reelle_bati',\n",
    "            'nombre_pieces_principales',\n",
    "            'surface_terrain',\n",
    "            'longitude',\n",
    "            'latitude']\n",
    "df_93 = df_93_raw[keep_col]\n",
    "\n",
    "df_93.info()"
   ]
  },
  {
   "cell_type": "markdown",
   "id": "09b4d480",
   "metadata": {},
   "source": [
    "### Translate column-names"
   ]
  },
  {
   "cell_type": "code",
   "execution_count": null,
   "id": "72763dbe",
   "metadata": {},
   "outputs": [],
   "source": [
    "df_93.columns = ['id', 'date', 'built', 'price', 'postal_code',\n",
    "                'city', 'region', 'property_type',\n",
    "                'living_area', 'number_of_rooms', 'land_area',\n",
    "                'longitude', 'latitude']"
   ]
  },
  {
   "cell_type": "markdown",
   "id": "d3895ad6",
   "metadata": {},
   "source": [
    "### Remove non-representative rows"
   ]
  },
  {
   "cell_type": "code",
   "execution_count": null,
   "id": "d05b4d1c",
   "metadata": {},
   "outputs": [],
   "source": [
    "df_93.shape"
   ]
  },
  {
   "cell_type": "markdown",
   "id": "cb0dffb1",
   "metadata": {},
   "source": [
    "We want to keep only :\n",
    "- Houses and appartments + Dépendances\n",
    "- Normal sales and off-plan sales\n",
    "- Sales with only one unit XXX"
   ]
  },
  {
   "cell_type": "code",
   "execution_count": null,
   "id": "3be55052",
   "metadata": {},
   "outputs": [],
   "source": [
    "df_93.property_type.unique()"
   ]
  },
  {
   "cell_type": "code",
   "execution_count": null,
   "id": "f532651a",
   "metadata": {},
   "outputs": [],
   "source": [
    "print('Shape before the masks : ', df_93.shape)\n",
    "print('Shape only normal sales', df_93[((df_93['built'] == \"Vente\") | (df_93['built'] == \"Vente en l'état futur d'achèvement\"))].shape)\n",
    "print('Shape only house and appartments + dependencies', df_93[((df_93['property_type'] == 'Appartement') | (df_93['property_type'] == 'Maison')| (df_93['property_type'] == 'Dépendance'))].shape)"
   ]
  },
  {
   "cell_type": "code",
   "execution_count": null,
   "id": "ed5e654b",
   "metadata": {},
   "outputs": [],
   "source": [
    "df_useful = df_93[((df_93['built'] == \"Vente\") | (df_93['built'] == \"Vente en l'état futur d'achèvement\")) &\n",
    "                    ((df_93['property_type'] == 'Appartement') | (df_93['property_type'] == 'Maison')  | (df_93['property_type'] == 'Maison')| (df_93['property_type'] == 'Dépendance'))]\n",
    "df_useful.shape"
   ]
  },
  {
   "cell_type": "code",
   "execution_count": null,
   "id": "793a68b6",
   "metadata": {},
   "outputs": [],
   "source": [
    "## checking that the masks worked correctly\n",
    "print(df_useful['built'].unique())\n",
    "print(df_useful['property_type'].unique())\n"
   ]
  },
  {
   "cell_type": "markdown",
   "id": "79e5d1e8",
   "metadata": {},
   "source": [
    "### Translating the values"
   ]
  },
  {
   "cell_type": "code",
   "execution_count": null,
   "id": "2a19961a",
   "metadata": {},
   "outputs": [],
   "source": [
    "trans_dict_built = {'Vente' : 'built',\n",
    "                    \"Vente en l'état futur d'achèvement\" : 'off-plan'}\n",
    "trans_dict_type = {'Appartement' : 'appartment',\n",
    "                   'Maison' : 'house',\n",
    "                   'Dépendance' : 'dep'}\n",
    "df_useful= df_useful.replace({'built' : trans_dict_built,\n",
    "                             'property_type' : trans_dict_type})"
   ]
  },
  {
   "cell_type": "code",
   "execution_count": null,
   "id": "78572942",
   "metadata": {},
   "outputs": [],
   "source": [
    "## checking that the translation worked correctly\n",
    "print(df_useful['built'].unique())\n",
    "print(df_useful['property_type'].unique())"
   ]
  },
  {
   "cell_type": "code",
   "execution_count": null,
   "id": "ed1230e9",
   "metadata": {},
   "outputs": [],
   "source": [
    "print(f'Number of elements that have been sold : {df_useful.shape[0]}')"
   ]
  },
  {
   "cell_type": "code",
   "execution_count": null,
   "id": "0f2116a9",
   "metadata": {},
   "outputs": [],
   "source": [
    "print(f'Number of unique sale ids : {df_useful.id.nunique()}.')"
   ]
  },
  {
   "cell_type": "markdown",
   "id": "83aed963",
   "metadata": {},
   "source": [
    "# 🤓 Feature engineering"
   ]
  },
  {
   "cell_type": "markdown",
   "id": "2da6a82c",
   "metadata": {},
   "source": [
    "1. number of dependencies\n",
    "2. garden or not --> ???"
   ]
  },
  {
   "cell_type": "markdown",
   "id": "ffc330ae",
   "metadata": {},
   "source": [
    "## 🛖 number of dependencies"
   ]
  },
  {
   "cell_type": "code",
   "execution_count": null,
   "id": "88dfe3d4",
   "metadata": {},
   "outputs": [],
   "source": [
    "mask_house = df_useful.property_type == 'house'\n",
    "mask_app = df_useful.property_type == 'appartment'\n",
    "mask_dep = df_useful.property_type == 'dep'"
   ]
  },
  {
   "cell_type": "code",
   "execution_count": null,
   "id": "3384d30e",
   "metadata": {},
   "outputs": [],
   "source": [
    "#find the number of houses per id\n",
    "num_of_houses_df = df_useful[['id','property_type']][mask_house].groupby(by = 'id', as_index = False).count()\n",
    "num_of_houses_df.value_counts()\n",
    "num_of_houses_df.columns = ['id', 'nb_of_house']\n",
    "num_of_houses_df.head()"
   ]
  },
  {
   "cell_type": "code",
   "execution_count": null,
   "id": "50dd6b7d",
   "metadata": {},
   "outputs": [],
   "source": [
    "#find the number of appartments per id\n",
    "num_of_app_df = df_useful[['id','property_type']][mask_app].groupby(by = 'id', as_index = False).count()\n",
    "num_of_app_df.value_counts()\n",
    "num_of_app_df.columns = ['id', 'nb_of_app']\n",
    "num_of_app_df.head()"
   ]
  },
  {
   "cell_type": "code",
   "execution_count": null,
   "id": "907e909b",
   "metadata": {},
   "outputs": [],
   "source": [
    "#find the number of dep per id\n",
    "num_of_dep_df = df_useful[['id','property_type']][mask_dep].groupby(by = 'id', as_index = False).count()\n",
    "num_of_dep_df.value_counts()\n",
    "num_of_dep_df.columns = ['id', 'nb_of_dep']\n",
    "num_of_dep_df.head()"
   ]
  },
  {
   "cell_type": "code",
   "execution_count": null,
   "id": "a0160cbe",
   "metadata": {},
   "outputs": [],
   "source": [
    "num_of_dep_df.id.nunique()"
   ]
  },
  {
   "cell_type": "markdown",
   "id": "ef4c7527",
   "metadata": {},
   "source": [
    "➕ adding columns to df_useful"
   ]
  },
  {
   "cell_type": "code",
   "execution_count": null,
   "id": "888984f2",
   "metadata": {},
   "outputs": [],
   "source": [
    "df_feat = df_useful.merge(num_of_houses_df, on = 'id', how = 'outer')\n",
    "df_feat = df_feat.merge(num_of_app_df, on = 'id', how = 'outer')\n",
    "df_feat = df_feat.merge(num_of_dep_df, on = 'id', how = 'outer')\n",
    "df_feat.sample(5)"
   ]
  },
  {
   "cell_type": "code",
   "execution_count": null,
   "id": "e7d644cc",
   "metadata": {},
   "outputs": [],
   "source": [
    "df_feat.fillna({'nb_of_house' : 0, 'nb_of_app' : 0, 'nb_of_dep' : 0, 'land_area' : 0}, inplace=True)"
   ]
  },
  {
   "cell_type": "code",
   "execution_count": null,
   "id": "1fb432c0",
   "metadata": {},
   "outputs": [],
   "source": [
    "# remove lines with multiple houses or appartments in same sale_id\n",
    "df_feat['nb_of_units'] = df_feat.nb_of_app+df_feat.nb_of_house\n",
    "mask_units = (df_feat['nb_of_units'] == 1)\n",
    "df_filtered = df_feat[mask_units]\n",
    "df_filtered.shape"
   ]
  },
  {
   "cell_type": "code",
   "execution_count": null,
   "id": "09fcfda0",
   "metadata": {},
   "outputs": [],
   "source": [
    "df_filtered.sample(10)"
   ]
  },
  {
   "cell_type": "code",
   "execution_count": null,
   "id": "c90938db",
   "metadata": {},
   "outputs": [],
   "source": [
    "#filter out the dependencies\n",
    "filter_type = (df_filtered['property_type'] != 'dep')\n",
    "df_filtered = df_filtered[filter_type]\n",
    "df_filtered.shape"
   ]
  },
  {
   "cell_type": "code",
   "execution_count": null,
   "id": "61341bbe",
   "metadata": {},
   "outputs": [],
   "source": [
    "df_filtered_drop = df_filtered.drop(columns = ['nb_of_units', 'nb_of_app', 'nb_of_house'])\n",
    "df_filtered_drop.shape\n",
    "df_filtered_drop.sample(5)"
   ]
  },
  {
   "cell_type": "code",
   "execution_count": null,
   "id": "af62ca39",
   "metadata": {},
   "outputs": [],
   "source": [
    "df_filtered_drop.duplicated().sum()"
   ]
  },
  {
   "cell_type": "markdown",
   "id": "4bf67c92",
   "metadata": {},
   "source": [
    "## 🌼 Adding garden feature ? TODO : Nan = 0, other number = 1"
   ]
  },
  {
   "cell_type": "markdown",
   "id": "e0ecad89",
   "metadata": {},
   "source": [
    "❓❔❓ relation between land_area and living_area"
   ]
  },
  {
   "cell_type": "code",
   "execution_count": null,
   "id": "7a528bf1",
   "metadata": {},
   "outputs": [],
   "source": [
    "df_filtered_drop.duplicated().sum()"
   ]
  },
  {
   "cell_type": "code",
   "execution_count": null,
   "id": "e8580789",
   "metadata": {},
   "outputs": [],
   "source": [
    "df_filtered_drop.isnull().sum()/len(df_filtered_drop) # 76 % of land_area is null"
   ]
  },
  {
   "cell_type": "code",
   "execution_count": null,
   "id": "3270a3f0",
   "metadata": {},
   "outputs": [],
   "source": [
    "mask_house = df_filtered_drop.property_type == 'house'\n",
    "df_filtered_drop[mask_house].isnull().sum()/len(df_filtered_drop[mask_house]) # 13 % of land_area is null"
   ]
  },
  {
   "cell_type": "code",
   "execution_count": null,
   "id": "f655b16e",
   "metadata": {},
   "outputs": [],
   "source": [
    "mask_appartments = df_filtered_drop.property_type == 'appartment'\n",
    "df_filtered_drop[mask_appartments].isnull().sum()/len(df_filtered_drop[mask_appartments]) # 99 % of land_area is null"
   ]
  },
  {
   "cell_type": "code",
   "execution_count": null,
   "id": "37a1ed73",
   "metadata": {},
   "outputs": [],
   "source": [
    "########################################### TO DO : garden 1 or 0"
   ]
  },
  {
   "cell_type": "markdown",
   "id": "5636c427",
   "metadata": {},
   "source": [
    "## 🚮 Dropping duplicates and NaNs"
   ]
  },
  {
   "cell_type": "markdown",
   "id": "3cbd3457",
   "metadata": {},
   "source": [
    "➡️ 76% of the land_area is Null... --> drop the column land_area ?"
   ]
  },
  {
   "cell_type": "code",
   "execution_count": null,
   "id": "f73dfdcb",
   "metadata": {},
   "outputs": [],
   "source": [
    "df_final = df_filtered_drop.drop(columns = ['land_area', 'id'])\n",
    "df_clean = df_final.dropna()\n",
    "df_clean.shape"
   ]
  },
  {
   "cell_type": "markdown",
   "id": "907adfcc",
   "metadata": {},
   "source": [
    "## 🧮 Count summary"
   ]
  },
  {
   "cell_type": "code",
   "execution_count": null,
   "id": "f4901a9f",
   "metadata": {},
   "outputs": [],
   "source": [
    "print('Number of lines before the masks : ', df_93.shape[0])\n",
    "print('Number of lines of only normal sales : ', df_93[((df_93['built'] == \"Vente\") | (df_93['built'] == \"Vente en l'état futur d'achèvement\"))].shape[0])\n",
    "print('Number of lines of only house and appartments + dependencies : ', df_93[((df_93['property_type'] == 'Appartement') | (df_93['property_type'] == 'Maison')| (df_93['property_type'] == 'Dépendance'))].shape[0])\n",
    "print(f'Number of unique sale ids : {df_clean.shape[0]}')"
   ]
  },
  {
   "cell_type": "markdown",
   "id": "e364699d",
   "metadata": {},
   "source": [
    "## 💰 Create € / sq m"
   ]
  },
  {
   "cell_type": "code",
   "execution_count": null,
   "id": "500cf195",
   "metadata": {},
   "outputs": [],
   "source": [
    "df_clean[['price', 'living_area']] = df_clean[['price', 'living_area']].apply(lambda x: pd.to_numeric(x, errors='coerce').astype('float64'))\n",
    "\n",
    "df_clean['price_per_m2'] = df_clean.price / df_clean.living_area"
   ]
  },
  {
   "cell_type": "code",
   "execution_count": null,
   "id": "1e7a37f5",
   "metadata": {},
   "outputs": [],
   "source": [
    "df_clean.sample(5)"
   ]
  },
  {
   "cell_type": "markdown",
   "id": "5529d134",
   "metadata": {},
   "source": [
    "## 🦖 Changing everything to the right type"
   ]
  },
  {
   "cell_type": "code",
   "execution_count": null,
   "id": "61891157",
   "metadata": {},
   "outputs": [],
   "source": [
    "df_clean.columns"
   ]
  },
  {
   "cell_type": "code",
   "execution_count": null,
   "id": "23829c8f",
   "metadata": {},
   "outputs": [],
   "source": [
    "#changing evething to the right type --> TO DO:should this go to params?\n",
    "col_float = ['price', 'longitude', 'latitude', 'living_area', 'price_per_m2' ]\n",
    "col_string = ['built','city', 'region','property_type']\n",
    "col_date = ['date']\n",
    "col_int = ['postal_code', 'nb_of_dep', 'number_of_rooms']\n",
    "#formating data types\n",
    "df_clean[col_float] = df_clean[col_float].apply(lambda x: pd.to_numeric(x, errors='coerce').astype('float64'))\n",
    "df_clean[col_date]= df_clean[col_date].apply(lambda x: pd.to_datetime(x, errors='coerce'))\n",
    "df_clean[col_int]= df_clean[col_int].apply(lambda x: pd.to_numeric(x, errors='coerce').astype('int64'))\n",
    "\n",
    "df_clean.info()"
   ]
  },
  {
   "cell_type": "markdown",
   "id": "6d648a38",
   "metadata": {},
   "source": [
    "## drop outliers\n",
    "1. find price per sq m - DONE\n",
    "2. group by each postal code\n",
    "3. percentile 96 % of this new feature\n",
    "4. drop everything above it"
   ]
  },
  {
   "cell_type": "code",
   "execution_count": null,
   "id": "a09410cc",
   "metadata": {},
   "outputs": [],
   "source": [
    "df_quantile = df_clean[['postal_code', 'price_per_m2']].groupby(by = df_clean.postal_code, as_index=False).quantile(.95)\n",
    "df_quantile.columns = ['postal_code', 'p95']\n",
    "df_quantile.head()"
   ]
  },
  {
   "cell_type": "code",
   "execution_count": null,
   "id": "9ff846e9",
   "metadata": {},
   "outputs": [],
   "source": [
    "df_clean_merged = df_quantile.merge(right = df_clean, on = 'postal_code')\n",
    "df_clean_merged.head()"
   ]
  },
  {
   "cell_type": "code",
   "execution_count": null,
   "id": "b301b3df",
   "metadata": {},
   "outputs": [],
   "source": [
    "df_clean_merged.shape"
   ]
  },
  {
   "cell_type": "code",
   "execution_count": null,
   "id": "272ce048",
   "metadata": {},
   "outputs": [],
   "source": [
    "# drop the outliers\n",
    "mask_outliers = (df_clean_merged.price_per_m2 < df_clean_merged.p95)\n",
    "df_without_outliers = df_clean_merged[mask_outliers]"
   ]
  },
  {
   "cell_type": "code",
   "execution_count": null,
   "id": "1b1e88c1",
   "metadata": {},
   "outputs": [],
   "source": [
    "df_clean_merged.shape, df_without_outliers.shape"
   ]
  },
  {
   "cell_type": "code",
   "execution_count": null,
   "id": "ac2adeb7",
   "metadata": {},
   "outputs": [],
   "source": [
    "# def filter_top_4_percent(df, column_name):\n",
    "#     threshold = df[column_name].quantile(0.96)\n",
    "#     return df[df[column_name] <= threshold]\n",
    "\n",
    "# df_without_outliers_2 = filter_top_4_percent(df_clean_merged, '')"
   ]
  },
  {
   "cell_type": "code",
   "execution_count": null,
   "id": "01d50600",
   "metadata": {},
   "outputs": [],
   "source": [
    "df_without_outliers.shape[0]/df_clean_merged.shape[0]"
   ]
  },
  {
   "cell_type": "code",
   "execution_count": null,
   "id": "19f552a2",
   "metadata": {},
   "outputs": [],
   "source": [
    "df_without_outliers.head()"
   ]
  },
  {
   "cell_type": "code",
   "execution_count": null,
   "id": "530ed7d4",
   "metadata": {},
   "outputs": [],
   "source": [
    "df_clean_merged.head()"
   ]
  },
  {
   "cell_type": "code",
   "execution_count": null,
   "id": "72a81084",
   "metadata": {},
   "outputs": [],
   "source": [
    "df_clean_merged.price_per_m2.sort_values(ascending = False).head(20)"
   ]
  },
  {
   "cell_type": "code",
   "execution_count": null,
   "id": "252e7359",
   "metadata": {},
   "outputs": [],
   "source": [
    "df_without_outliers.price_per_m2.sort_values(ascending = False).head(30)"
   ]
  },
  {
   "cell_type": "code",
   "execution_count": null,
   "id": "7c720ec9",
   "metadata": {},
   "outputs": [],
   "source": [
    "# drop p95\n",
    "df_without_outliers = df_without_outliers.drop(columns=['p95', 'price_per_m2'])"
   ]
  },
  {
   "cell_type": "code",
   "execution_count": null,
   "id": "4ee61dd8",
   "metadata": {},
   "outputs": [],
   "source": [
    "df_without_outliers.info()"
   ]
  },
  {
   "cell_type": "markdown",
   "id": "b7bef223",
   "metadata": {},
   "source": [
    "Dealing date_column"
   ]
  },
  {
   "cell_type": "code",
   "execution_count": null,
   "id": "9cd82917",
   "metadata": {},
   "outputs": [],
   "source": [
    "df_without_outliers.date.head()"
   ]
  },
  {
   "cell_type": "code",
   "execution_count": null,
   "id": "dd48b4b0",
   "metadata": {},
   "outputs": [],
   "source": [
    "df_without_outliers.date.dt.day.head()"
   ]
  },
  {
   "cell_type": "code",
   "execution_count": null,
   "id": "c6c5704b",
   "metadata": {},
   "outputs": [],
   "source": [
    "df_without_outliers['day'] = df_without_outliers.date.dt.day\n",
    "\n",
    "df_without_outliers['day_sin'] = np.sin(2 * np.pi * df_without_outliers['day']/31.0)\n",
    "df_without_outliers['day_cos'] = np.cos(2 * np.pi * df_without_outliers['day']/31.0)"
   ]
  },
  {
   "cell_type": "code",
   "execution_count": null,
   "id": "7196de8a",
   "metadata": {},
   "outputs": [],
   "source": [
    "df_without_outliers['month'] = df_without_outliers.date.dt.month\n",
    "\n",
    "df_without_outliers['month_sin'] = np.sin(2 * np.pi * df_without_outliers['month']/24.0)\n",
    "df_without_outliers['month_cos'] = np.cos(2 * np.pi * df_without_outliers['month']/24.0)"
   ]
  },
  {
   "cell_type": "code",
   "execution_count": null,
   "id": "07a4bbc9",
   "metadata": {},
   "outputs": [],
   "source": [
    "df_without_outliers['year'] = df_without_outliers.date.dt.year\n"
   ]
  },
  {
   "cell_type": "code",
   "execution_count": null,
   "id": "c3fc4e08",
   "metadata": {},
   "outputs": [],
   "source": [
    "df_without_outliers = df_without_outliers.drop(columns = ['day', 'month'])"
   ]
  },
  {
   "cell_type": "code",
   "execution_count": null,
   "id": "f16aa0d6",
   "metadata": {},
   "outputs": [],
   "source": [
    "df_without_outliers.year"
   ]
  },
  {
   "cell_type": "markdown",
   "id": "e6f80393",
   "metadata": {},
   "source": [
    "## ✨ Using the functions"
   ]
  },
  {
   "cell_type": "code",
   "execution_count": null,
   "id": "b8e5f837",
   "metadata": {},
   "outputs": [],
   "source": [
    "# check if function is working :\n",
    "import sys\n",
    "sys.path.append('/home/anouchka/code/qadnguyen/realdata')\n",
    "from prop_value.ml_logic.preprocessor import clean_data\n",
    "\n",
    "clean_data(df_93_raw, percentile = 0.95).shape, df_without_outliers.shape"
   ]
  },
  {
   "cell_type": "code",
   "execution_count": null,
   "id": "48e0722e",
   "metadata": {},
   "outputs": [],
   "source": [
    "df_without_outliers.info()"
   ]
  },
  {
   "cell_type": "code",
   "execution_count": null,
   "id": "7cfb3fa4",
   "metadata": {},
   "outputs": [],
   "source": [
    "# check if function is working :\n",
    "import sys\n",
    "sys.path.append('/home/anouchka/code/qadnguyen/realdata')\n",
    "from prop_value.ml_logic.preprocessor import preprocess_data\n",
    "\n",
    "data = clean_data(df_93_raw, percentile = 0.95)\n",
    "print(f'shape of the cleaned data : {data.shape}')\n",
    "print(data.info())\n",
    "\n",
    "X_train_preproc_TEST, X_test_preproc_TEST, y_train_TEST, y_test_TEST, X_all_TEST, y_all_TEST, df_full_TEST = preprocess_data(data)\n",
    "X_all_TEST.info()\n"
   ]
  },
  {
   "cell_type": "markdown",
   "id": "36445e3e",
   "metadata": {},
   "source": [
    "# 🐧 Modelling"
   ]
  },
  {
   "cell_type": "markdown",
   "id": "38bbf140",
   "metadata": {},
   "source": [
    "## 🔎 Exploring some more"
   ]
  },
  {
   "cell_type": "code",
   "execution_count": null,
   "id": "11c76621",
   "metadata": {},
   "outputs": [],
   "source": [
    "df_clean.columns"
   ]
  },
  {
   "cell_type": "code",
   "execution_count": null,
   "id": "62f070dd",
   "metadata": {},
   "outputs": [],
   "source": [
    "# df_cleaned.shape # (1029674, 12)"
   ]
  },
  {
   "cell_type": "code",
   "execution_count": null,
   "id": "2ce4c5be",
   "metadata": {},
   "outputs": [],
   "source": [
    "# df_cleaned[mask_price].shape # (1027158, 12)"
   ]
  },
  {
   "cell_type": "code",
   "execution_count": null,
   "id": "4f061297",
   "metadata": {},
   "outputs": [],
   "source": [
    "import matplotlib.pyplot as plt"
   ]
  },
  {
   "cell_type": "code",
   "execution_count": null,
   "id": "c0bc5661",
   "metadata": {},
   "outputs": [],
   "source": [
    "plt.figure(figsize = (12,5))\n",
    "sns.scatterplot(df_clean['living_area'], df_clean['price'],hue = df_clean['property_type'],alpha = 0.5)\n",
    "plt.show()"
   ]
  },
  {
   "cell_type": "code",
   "execution_count": null,
   "id": "700e8e3e",
   "metadata": {},
   "outputs": [],
   "source": [
    "plt.figure(figsize = (12,4))\n",
    "sns.boxplot(df_clean.price)"
   ]
  },
  {
   "cell_type": "code",
   "execution_count": null,
   "id": "74f34752",
   "metadata": {},
   "outputs": [],
   "source": [
    "df_clean.head()"
   ]
  },
  {
   "cell_type": "code",
   "execution_count": null,
   "id": "1bf498ae",
   "metadata": {},
   "outputs": [],
   "source": [
    "# fig, axs = plt.subplots(1, 2, figsize=(12, 5))  # 1 row, 2 columns\n",
    "# mask_price = df_clean['price']<2000000 #smaller than 2 milion\n",
    "# mask_area = df_clean['living_area']<500 # smaller than 500 sq meters\n",
    "# df_without_outliers = df_clean[mask_price & mask_area]\n",
    "\n",
    "# Plot Living area vs Sale price\n",
    "plt.figure(figsize = (12,5))\n",
    "sns.scatterplot(df_without_outliers['living_area'], df_without_outliers['price'],hue = df_without_outliers['property_type'],alpha = 0.5)\n",
    "plt.show()"
   ]
  },
  {
   "cell_type": "code",
   "execution_count": null,
   "id": "395080a3",
   "metadata": {},
   "outputs": [],
   "source": [
    "df_without_outliers['property_type'].value_counts()"
   ]
  },
  {
   "cell_type": "code",
   "execution_count": null,
   "id": "e7cac19d",
   "metadata": {},
   "outputs": [],
   "source": [
    "sns.heatmap(df_without_outliers.corr(), cmap = 'vlag', annot = True)"
   ]
  },
  {
   "cell_type": "code",
   "execution_count": null,
   "id": "54ee94c8",
   "metadata": {},
   "outputs": [],
   "source": [
    "df_without_outliers.info()"
   ]
  },
  {
   "cell_type": "markdown",
   "id": "863b4937",
   "metadata": {},
   "source": [
    "## Take a look at the final data"
   ]
  },
  {
   "cell_type": "code",
   "execution_count": null,
   "id": "d1f7130f",
   "metadata": {},
   "outputs": [],
   "source": []
  },
  {
   "cell_type": "markdown",
   "id": "84878fc1",
   "metadata": {},
   "source": [
    "## 🐟 Naive baseline model"
   ]
  },
  {
   "cell_type": "code",
   "execution_count": null,
   "id": "b5095002",
   "metadata": {},
   "outputs": [],
   "source": [
    "from sklearn.model_selection import train_test_split"
   ]
  },
  {
   "cell_type": "code",
   "execution_count": null,
   "id": "5af0a18e",
   "metadata": {},
   "outputs": [],
   "source": [
    "mask_price = df_clean['price'] <2000000\n",
    "df_without_outliers = df_clean[mask_price]"
   ]
  },
  {
   "cell_type": "code",
   "execution_count": null,
   "id": "31cdeb41",
   "metadata": {},
   "outputs": [],
   "source": [
    "X = df_without_outliers.drop(columns=['price'])\n",
    "y = df_without_outliers['price']\n",
    "\n",
    "X_train, X_test, y_train, y_test = train_test_split(X, y, test_size=0.2)"
   ]
  },
  {
   "cell_type": "code",
   "execution_count": null,
   "id": "c4f99138",
   "metadata": {},
   "outputs": [],
   "source": [
    "# plt.figure(figsize=(12,4))\n",
    "# sns.boxplot(y)\n"
   ]
  },
  {
   "cell_type": "code",
   "execution_count": null,
   "id": "913f0497",
   "metadata": {},
   "outputs": [],
   "source": [
    "mean_price = y_train.mean()\n",
    "print(f\"The mean price of {round(mean_price)} €\")\n",
    "\n",
    "median_price = y_train.median()\n",
    "print(f\"The median price of {round(median_price)} €\")"
   ]
  },
  {
   "cell_type": "code",
   "execution_count": null,
   "id": "af9ff835",
   "metadata": {},
   "outputs": [],
   "source": [
    "mean_error = y_test - mean_price\n",
    "rmse_mean = ((mean_error**2).mean())**(1/2)\n",
    "print(f'The rmse when always predicting the mean : {round(rmse_mean)} €.')"
   ]
  },
  {
   "cell_type": "code",
   "execution_count": null,
   "id": "5debc0ce",
   "metadata": {},
   "outputs": [],
   "source": [
    "median_error = y_test - median_price\n",
    "rmse_median = ((median_error**2).mean())**(1/2)\n",
    "print(f'The rmse when always predicting the median : {round(rmse_median)} €.')"
   ]
  },
  {
   "cell_type": "markdown",
   "id": "7d6c29d0",
   "metadata": {},
   "source": [
    "## 🐸 Model"
   ]
  },
  {
   "cell_type": "code",
   "execution_count": null,
   "id": "063d7d55",
   "metadata": {},
   "outputs": [],
   "source": [
    "df_full_clean = pd.read_pickle('../raw_data/dvf_full_cleaned.pkl')\n"
   ]
  },
  {
   "cell_type": "code",
   "execution_count": null,
   "id": "77ce0216",
   "metadata": {},
   "outputs": [],
   "source": [
    "df_full_clean.price.mean()"
   ]
  },
  {
   "cell_type": "markdown",
   "id": "1adedbdb",
   "metadata": {},
   "source": [
    "## 💢 encode the data"
   ]
  },
  {
   "cell_type": "code",
   "execution_count": null,
   "id": "e61a8ab1",
   "metadata": {},
   "outputs": [],
   "source": [
    "# df_93_clean = clean_data(df_93_raw)"
   ]
  },
  {
   "cell_type": "code",
   "execution_count": null,
   "id": "f7de9d80",
   "metadata": {},
   "outputs": [],
   "source": [
    "X_train_preproc, X_test_preproc, y_train, y_test, X_all, y_all, df_full = preprocess_data(df_full_clean)"
   ]
  },
  {
   "cell_type": "code",
   "execution_count": null,
   "id": "8524db86",
   "metadata": {},
   "outputs": [],
   "source": [
    "df_full.shape"
   ]
  },
  {
   "cell_type": "code",
   "execution_count": null,
   "id": "384d06ea",
   "metadata": {},
   "outputs": [],
   "source": [
    "import sys\n",
    "sys.path.append('/home/anouchka/code/qadnguyen/realdata')\n",
    "from prop_value.ml_logic.preprocessor import preprocess_data\n",
    "X_train_preproc, X_test_preproc, y_train, y_test, X_all, y_all, df_full = preprocess_data(df_full_clean)"
   ]
  },
  {
   "cell_type": "code",
   "execution_count": null,
   "id": "9c0541f0",
   "metadata": {},
   "outputs": [],
   "source": [
    "# model-specific imports\n",
    "from sklearn.model_selection import train_test_split\n",
    "from sklearn.metrics import mean_squared_error\n",
    "from sklearn.model_selection import validation_curve\n",
    "from sklearn.model_selection import cross_val_score\n"
   ]
  },
  {
   "cell_type": "markdown",
   "id": "2d6477e3",
   "metadata": {},
   "source": [
    "## 🌳 RandomForest on data without outliers (df_without_ouliers)"
   ]
  },
  {
   "cell_type": "code",
   "execution_count": null,
   "id": "f7fc8c8b",
   "metadata": {},
   "outputs": [],
   "source": [
    "from sklearn.ensemble import RandomForestRegressor\n",
    "model_rfr = RandomForestRegressor()\n",
    "\n",
    "model_rfr.fit(X_train_preproc, y_train)\n",
    "y_pred = model_rfr.predict(X_test_preproc)\n",
    "mse = mean_squared_error(y_test, y_pred)\n",
    "rmse = mse**(1/2)\n",
    "print(f'Root Mean Squared Error: {rmse}')\n",
    "print( 'Train score (R²):', model_rfr.score(X_test_preproc, y_test))\n",
    "print('Cross val score mean (R²)', cross_val_score(model_rfr, X_all, y_all, cv = 5).mean())"
   ]
  },
  {
   "cell_type": "markdown",
   "id": "bb49a858",
   "metadata": {},
   "source": [
    "## 🪃 XGBoost on data without outliers"
   ]
  },
  {
   "cell_type": "code",
   "execution_count": null,
   "id": "f1379dc9",
   "metadata": {},
   "outputs": [],
   "source": [
    "from xgboost import XGBRegressor\n",
    "from sklearn.metrics import mean_squared_error\n",
    "from sklearn.model_selection import cross_val_score\n",
    "model_xgb = XGBRegressor()\n",
    "\n",
    "model_xgb.fit(X_train_preproc, y_train)\n",
    "y_pred = model_xgb.predict(X_test_preproc)\n",
    "mse_b = mean_squared_error(y_pred, y_test)\n",
    "rmse_b = mse_b**(1/2)\n",
    "print(f'Root Mean Squared Error: {rmse_b} €')\n",
    "print( 'Train score (R²) : ', model_xgb.score(X_train_preproc, y_train))\n",
    "print( 'Test score (R²) : ', model_xgb.score(X_test_preproc, y_test))"
   ]
  },
  {
   "cell_type": "code",
   "execution_count": null,
   "id": "4aa1f12a",
   "metadata": {},
   "outputs": [],
   "source": [
    "(((y_test.price-y_pred)**2).mean())**(1/2)"
   ]
  },
  {
   "cell_type": "code",
   "execution_count": null,
   "id": "d279750c",
   "metadata": {},
   "outputs": [],
   "source": [
    "df_y_pred = pd.DataFrame(y_pred)\n",
    "df_y_test = pd.DataFrame(y_test).reset_index().drop(columns = 'index')\n",
    "df_y_pred.columns = ['price_pred']\n",
    "df_y_pred['upper'] = df_y_pred.price_pred + 30000\n",
    "df_y_pred['lower'] = df_y_pred.price_pred - 30000\n",
    "df_prediction = pd.concat([df_y_pred, df_y_test], axis = 1)\n",
    "df_prediction['in_range'] = (df_prediction.price < df_prediction.upper) & (df_prediction.price > df_prediction.lower)\n",
    "\n",
    "df_prediction"
   ]
  },
  {
   "cell_type": "code",
   "execution_count": null,
   "id": "06cac50a",
   "metadata": {},
   "outputs": [],
   "source": [
    "df_prediction.in_range.sum() / len(df_prediction)"
   ]
  },
  {
   "cell_type": "code",
   "execution_count": null,
   "id": "b5fb6dfd",
   "metadata": {},
   "outputs": [],
   "source": [
    "df_prediction.columns"
   ]
  },
  {
   "cell_type": "code",
   "execution_count": null,
   "id": "4f6482d0",
   "metadata": {},
   "outputs": [],
   "source": [
    "plt.figure(figsize = (25,5))\n",
    "df_prediction[['price_pred', 'price', 'upper', 'lower']].sample(5).sort_index().plot()"
   ]
  },
  {
   "cell_type": "code",
   "execution_count": null,
   "id": "4f16264e",
   "metadata": {},
   "outputs": [],
   "source": [
    "diff = (y_pred - y_test.price)/y_test.price\n",
    "sns.histplot(diff[(diff<2) & (diff >-2)])"
   ]
  },
  {
   "cell_type": "code",
   "execution_count": null,
   "id": "9422912e",
   "metadata": {},
   "outputs": [],
   "source": [
    "diff = (y_pred - y_test.price)/y_test.price\n",
    "sns.histplot(diff)"
   ]
  },
  {
   "cell_type": "markdown",
   "id": "79ca2db8",
   "metadata": {},
   "source": [
    "## Another try"
   ]
  },
  {
   "cell_type": "code",
   "execution_count": null,
   "id": "b5c0f89d",
   "metadata": {},
   "outputs": [],
   "source": [
    "df_y_pred = pd.DataFrame(y_pred)\n",
    "df_y_test = pd.DataFrame(y_test).reset_index().drop(columns = 'index')\n",
    "df_y_pred.columns = ['price_pred']\n",
    "df_y_pred['upper'] = df_y_pred.price_pred*1.3\n",
    "df_y_pred['lower'] = df_y_pred.price_pred*0.7\n",
    "df_prediction = pd.concat([df_y_pred, df_y_test], axis = 1)\n",
    "df_prediction['in_range'] = (df_prediction.price < df_prediction.upper) & (df_prediction.price > df_prediction.lower)\n",
    "\n",
    "df_prediction.head()"
   ]
  },
  {
   "cell_type": "code",
   "execution_count": null,
   "id": "acdab2cb",
   "metadata": {},
   "outputs": [],
   "source": [
    "plt.figure(figsize = (25,5))\n",
    "df_prediction[['price_pred', 'price', 'upper', 'lower']].sample(5).sort_index().plot()"
   ]
  },
  {
   "cell_type": "code",
   "execution_count": null,
   "id": "120534ad",
   "metadata": {},
   "outputs": [],
   "source": [
    "df_prediction.in_range.sum() / len(df_prediction)"
   ]
  },
  {
   "cell_type": "code",
   "execution_count": null,
   "id": "77f32398",
   "metadata": {},
   "outputs": [],
   "source": [
    "sns.scatterplot(y = df_prediction.price-df_prediction.price_pred, x = df_prediction.index, hue = df_prediction.in_range, alpha = 0.5)"
   ]
  },
  {
   "cell_type": "code",
   "execution_count": null,
   "id": "c22cea41",
   "metadata": {},
   "outputs": [],
   "source": [
    "sns.scatterplot(df_prediction.price, df_prediction.price_pred, hue = df_prediction.in_range,alpha = 0.5)"
   ]
  },
  {
   "cell_type": "code",
   "execution_count": null,
   "id": "053bfc29",
   "metadata": {},
   "outputs": [],
   "source": []
  },
  {
   "cell_type": "markdown",
   "id": "a5a9f8d0",
   "metadata": {},
   "source": [
    "## 📈 Linear Regression on data without outliers (df_without_outliers)"
   ]
  },
  {
   "cell_type": "code",
   "execution_count": null,
   "id": "f87ceaed",
   "metadata": {},
   "outputs": [],
   "source": [
    "from sklearn.linear_model import LinearRegression\n",
    "model_lin = LinearRegression()\n",
    "\n",
    "model_lin.fit(X_train_preproc, y_train)\n",
    "y_pred = model_lin.predict(X_test_preproc)\n",
    "mse_b = mean_squared_error(y_pred, y_test)\n",
    "rmse_b = mse_b**(1/2)\n",
    "print(f'Root Mean Squared Error: {rmse_b}')\n",
    "print( 'Train score (R²):', model_lin.score(X_train_preproc, y_train))\n",
    "print('Cross val score mean (R²) :', cross_val_score(model_lin, X_all, y_all, cv = 5).mean())"
   ]
  },
  {
   "cell_type": "markdown",
   "id": "9bea5cbe",
   "metadata": {},
   "source": [
    "# No need anymore"
   ]
  },
  {
   "cell_type": "markdown",
   "id": "940a14fb",
   "metadata": {},
   "source": [
    "## 🌳 RandomForest on full data of 93 (df_clean)"
   ]
  },
  {
   "cell_type": "code",
   "execution_count": null,
   "id": "f482f24d",
   "metadata": {},
   "outputs": [],
   "source": [
    "#preprocess data\n",
    "X_train_preproc_2, X_test_preproc_2, y_train_2, y_test_2, X_all_2, y_all_2, df_full_2 = preprocess_data(df_clean)"
   ]
  },
  {
   "cell_type": "code",
   "execution_count": null,
   "id": "4b0f963c",
   "metadata": {},
   "outputs": [],
   "source": [
    "from sklearn.ensemble import RandomForestRegressor\n",
    "model_rfr_2 = RandomForestRegressor()\n",
    "\n",
    "model_rfr_2.fit(X_train_preproc_2, y_train_2)\n",
    "y_pred_2 = model_rfr_2.predict(X_test_preproc_2)\n",
    "mse_2a = mean_squared_error(y_test_2, y_pred_2)\n",
    "rmse_2a = mse_2a**(1/2)\n",
    "print(f'Root Mean Squared Error: {rmse_2a}')\n",
    "print( 'Train score:', model_rfr_2.score(X_test_preproc_2, y_test_2))\n",
    "print('Cross val score mean', cross_val_score(model_rfr_2, X_all_2, y_all_2, cv = 5).mean())"
   ]
  },
  {
   "cell_type": "markdown",
   "id": "054beaf2",
   "metadata": {},
   "source": [
    "## 🪃 XGBoost on full data (df_clean)"
   ]
  },
  {
   "cell_type": "code",
   "execution_count": null,
   "id": "92c0ce7f",
   "metadata": {},
   "outputs": [],
   "source": [
    "model_xgb_2 = XGBRegressor()\n",
    "\n",
    "model_xgb_2.fit(X_train_preproc_2, y_train_2)\n",
    "y_pred_2 = model_xgb_2.predict(X_test_preproc_2)\n",
    "mse_2b = mean_squared_error(y_pred_2, y_test_2)\n",
    "rmse_2b = mse_2b**(1/2)\n",
    "print(f'Root Mean Squared Error: {rmse_2b}')\n",
    "print( 'Train score:', model_xgb_2.score(X_train_preproc_2, y_train_2))\n",
    "print('Cross val score mean (r2) :', cross_val_score(model_xgb_2, X_all_2, y_all_2, cv = 5, scoring = 'r2').mean())"
   ]
  },
  {
   "cell_type": "markdown",
   "id": "140212ee",
   "metadata": {},
   "source": [
    "## 📈 Linear Regression on full data (df_clean)"
   ]
  },
  {
   "cell_type": "code",
   "execution_count": null,
   "id": "adbc48b7",
   "metadata": {},
   "outputs": [],
   "source": [
    "from sklearn.linear_model import LinearRegression\n",
    "model_lin = LinearRegression()\n",
    "\n",
    "model_lin.fit(X_train_preproc_2, y_train_2)\n",
    "y_pred_2 = model_lin.predict(X_test_preproc_2)\n",
    "mse_2b = mean_squared_error(y_pred_2, y_test_2)\n",
    "rmse_2b = mse_2b**(1/2)\n",
    "print(f'Mean Squared Error: {rmse_2b}')\n",
    "print( 'Train score:', model_lin.score(X_train_preproc_2, y_train_2))\n",
    "print('Cross val score mean', cross_val_score(model_lin, X_all_2, y_all_2, cv = 5).mean())"
   ]
  },
  {
   "cell_type": "markdown",
   "id": "0ee7147d",
   "metadata": {},
   "source": [
    "## What model should we use ?"
   ]
  },
  {
   "cell_type": "code",
   "execution_count": null,
   "id": "c46d034d",
   "metadata": {},
   "outputs": [],
   "source": [
    "model_xgb_2 = XGBRegressor()\n",
    "\n",
    "model_xgb_2.fit(X_train_preproc_2, y_train_2)\n",
    "y_pred_2 = model_xgb_2.predict(X_test_preproc_2)\n",
    "mse_2b = mean_squared_error(y_pred_2, y_test_2)\n",
    "rmse_2b = mse_2b**(1/2)\n",
    "print(f'Root Mean Squared Error: {rmse_2b}')\n",
    "print( 'Train score:', model_xgb_2.score(X_train_preproc_2, y_train_2))\n",
    "print('Cross val score mean (r2) :', cross_val_score(model_xgb_2, X_all_2, y_all_2, cv = 5, scoring = 'r2').mean())"
   ]
  },
  {
   "cell_type": "markdown",
   "id": "819fbd48",
   "metadata": {},
   "source": [
    "# download file"
   ]
  },
  {
   "cell_type": "code",
   "execution_count": null,
   "id": "5d0cb6ab",
   "metadata": {},
   "outputs": [],
   "source": [
    "df_without_outliers.to_pickle('../raw_data/dvf_93_cleaned.pkl')"
   ]
  },
  {
   "cell_type": "markdown",
   "id": "c09477c6",
   "metadata": {},
   "source": [
    "# end of doc"
   ]
  },
  {
   "cell_type": "markdown",
   "id": "b999ee93",
   "metadata": {},
   "source": []
  },
  {
   "cell_type": "code",
   "execution_count": null,
   "id": "d3dd513d",
   "metadata": {},
   "outputs": [],
   "source": [
    "df_full_clean = pd.read_pickle('../raw_data/dvf_full_cleaned.pkl')"
   ]
  },
  {
   "cell_type": "code",
   "execution_count": null,
   "id": "557cac68",
   "metadata": {},
   "outputs": [],
   "source": [
    "df_full_clean.shape, df_full_clean.columns"
   ]
  },
  {
   "cell_type": "code",
   "execution_count": null,
   "id": "b86c6470",
   "metadata": {},
   "outputs": [],
   "source": [
    "import sys\n",
    "sys.path.append('/home/anouchka/code/qadnguyen/realdata')\n",
    "from prop_value.ml_logic.preprocessor import preprocess_input\n",
    "preprocess_input(df_full_clean)"
   ]
  },
  {
   "cell_type": "code",
   "execution_count": null,
   "id": "88234c26",
   "metadata": {},
   "outputs": [],
   "source": [
    "df93_clean = clean_data(df_93_raw)"
   ]
  },
  {
   "cell_type": "code",
   "execution_count": null,
   "id": "077fd6d8",
   "metadata": {},
   "outputs": [],
   "source": [
    "from xgboost import XGBRegressor\n",
    "xgb_model_loaded = XGBRegressor()\n",
    "xgb_model_loaded.load_model('../raw_data/xgb_model_2.bin')"
   ]
  },
  {
   "cell_type": "code",
   "execution_count": null,
   "id": "d588a3d7",
   "metadata": {},
   "outputs": [],
   "source": [
    "xgb_model_loaded"
   ]
  },
  {
   "cell_type": "code",
   "execution_count": null,
   "id": "811aa407",
   "metadata": {},
   "outputs": [],
   "source": [
    "pip install shap"
   ]
  },
  {
   "cell_type": "code",
   "execution_count": null,
   "id": "545dd4e6",
   "metadata": {},
   "outputs": [],
   "source": [
    "import shap\n",
    "shap.initjs()"
   ]
  },
  {
   "cell_type": "code",
   "execution_count": null,
   "id": "08d35b61",
   "metadata": {},
   "outputs": [],
   "source": [
    "X_test_preproc = pd.read_pickle('../raw_data/X_test_preproc')"
   ]
  },
  {
   "cell_type": "code",
   "execution_count": null,
   "id": "2642e311",
   "metadata": {},
   "outputs": [],
   "source": [
    "explainer = shap.Explainer(xgb_model_loaded)\n",
    "shap_values = explainer(X_test_preproc)\n",
    "shap.plots.beeswarm(shap_values)"
   ]
  },
  {
   "cell_type": "code",
   "execution_count": null,
   "id": "c9b0ef79",
   "metadata": {},
   "outputs": [],
   "source": [
    "df_full_clean.shape"
   ]
  },
  {
   "cell_type": "code",
   "execution_count": null,
   "id": "f71ecb15",
   "metadata": {},
   "outputs": [],
   "source": []
  }
 ],
 "metadata": {
  "kernelspec": {
   "display_name": "Python 3 (ipykernel)",
   "language": "python",
   "name": "python3"
  },
  "language_info": {
   "codemirror_mode": {
    "name": "ipython",
    "version": 3
   },
   "file_extension": ".py",
   "mimetype": "text/x-python",
   "name": "python",
   "nbconvert_exporter": "python",
   "pygments_lexer": "ipython3",
   "version": "3.10.6"
  },
  "toc": {
   "base_numbering": 1,
   "nav_menu": {},
   "number_sections": true,
   "sideBar": true,
   "skip_h1_title": false,
   "title_cell": "Table of Contents",
   "title_sidebar": "Contents",
   "toc_cell": false,
   "toc_position": {},
   "toc_section_display": true,
   "toc_window_display": false
  }
 },
 "nbformat": 4,
 "nbformat_minor": 5
}
