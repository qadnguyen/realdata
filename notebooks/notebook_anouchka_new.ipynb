{
 "cells": [
  {
   "cell_type": "markdown",
   "id": "6f18eb81",
   "metadata": {},
   "source": [
    "# ⬇️ Imports"
   ]
  },
  {
   "cell_type": "code",
   "execution_count": 1,
   "id": "175df4e6",
   "metadata": {},
   "outputs": [],
   "source": [
    "%load_ext autoreload\n",
    "\n",
    "%autoreload 2"
   ]
  },
  {
   "cell_type": "code",
   "execution_count": 2,
   "id": "e22b5836",
   "metadata": {},
   "outputs": [],
   "source": [
    "import pandas as pd\n",
    "import numpy as np\n",
    "import matplotlib as plt\n",
    "from pathlib import Path\n",
    "import seaborn as sns\n",
    "\n",
    "\n",
    "import warnings\n",
    "warnings.filterwarnings('ignore')\n"
   ]
  },
  {
   "cell_type": "markdown",
   "id": "35334902",
   "metadata": {},
   "source": [
    "# ✅ Downloading the data"
   ]
  },
  {
   "cell_type": "code",
   "execution_count": 3,
   "id": "172c6531",
   "metadata": {},
   "outputs": [],
   "source": [
    "# # Get the data from the csv file\n",
    "# dvf_full_raw = pd.read_csv('../raw_data/dvf_full_raw.csv')\n",
    "\n",
    "# dvf_full_raw.shape"
   ]
  },
  {
   "cell_type": "code",
   "execution_count": 270,
   "id": "c1f99e44",
   "metadata": {},
   "outputs": [],
   "source": [
    "df_93_raw = pd.read_csv('../raw_data/dvf_93.csv')"
   ]
  },
  {
   "cell_type": "code",
   "execution_count": 104,
   "id": "aac8e1d1",
   "metadata": {},
   "outputs": [],
   "source": [
    "df_93 = pd.read_csv('../raw_data/dvf_93.csv')"
   ]
  },
  {
   "cell_type": "markdown",
   "id": "42b16f51",
   "metadata": {},
   "source": [
    "# 🔎 Exploring 1 region"
   ]
  },
  {
   "cell_type": "code",
   "execution_count": 105,
   "id": "e5fd8db2",
   "metadata": {},
   "outputs": [
    {
     "data": {
      "text/plain": [
       "Index(['Unnamed: 0', 'id_mutation', 'date_mutation', 'numero_disposition',\n",
       "       'nature_mutation', 'valeur_fonciere', 'adresse_numero',\n",
       "       'adresse_suffixe', 'adresse_nom_voie', 'adresse_code_voie',\n",
       "       'code_postal', 'code_commune', 'nom_commune', 'code_departement',\n",
       "       'ancien_code_commune', 'ancien_nom_commune', 'id_parcelle',\n",
       "       'ancien_id_parcelle', 'numero_volume', 'lot1_numero',\n",
       "       'lot1_surface_carrez', 'lot2_numero', 'lot2_surface_carrez',\n",
       "       'lot3_numero', 'lot3_surface_carrez', 'lot4_numero',\n",
       "       'lot4_surface_carrez', 'lot5_numero', 'lot5_surface_carrez',\n",
       "       'nombre_lots', 'code_type_local', 'type_local', 'surface_reelle_bati',\n",
       "       'nombre_pieces_principales', 'code_nature_culture', 'nature_culture',\n",
       "       'code_nature_culture_speciale', 'nature_culture_speciale',\n",
       "       'surface_terrain', 'longitude', 'latitude', 'section_prefixe'],\n",
       "      dtype='object')"
      ]
     },
     "execution_count": 105,
     "metadata": {},
     "output_type": "execute_result"
    }
   ],
   "source": [
    "df_93.columns"
   ]
  },
  {
   "cell_type": "markdown",
   "id": "a5c5bd8b",
   "metadata": {},
   "source": [
    "# 🔅 Preprocessing"
   ]
  },
  {
   "cell_type": "markdown",
   "id": "750ad2d5",
   "metadata": {},
   "source": [
    "## 🧹 Keep only useful columns and rows and translate"
   ]
  },
  {
   "cell_type": "markdown",
   "id": "cc0dd0d0",
   "metadata": {},
   "source": [
    "### Removing columns"
   ]
  },
  {
   "cell_type": "code",
   "execution_count": 106,
   "id": "bc3be1f9",
   "metadata": {},
   "outputs": [
    {
     "name": "stdout",
     "output_type": "stream",
     "text": [
      "<class 'pandas.core.frame.DataFrame'>\n",
      "RangeIndex: 271360 entries, 0 to 271359\n",
      "Data columns (total 13 columns):\n",
      " #   Column                     Non-Null Count   Dtype \n",
      "---  ------                     --------------   ----- \n",
      " 0   id_mutation                271360 non-null  object\n",
      " 1   date_mutation              271360 non-null  object\n",
      " 2   nature_mutation            271360 non-null  object\n",
      " 3   valeur_fonciere            260764 non-null  object\n",
      " 4   code_postal                260677 non-null  object\n",
      " 5   code_commune               271360 non-null  object\n",
      " 6   code_departement           271360 non-null  object\n",
      " 7   type_local                 216444 non-null  object\n",
      " 8   surface_reelle_bati        135227 non-null  object\n",
      " 9   nombre_pieces_principales  216216 non-null  object\n",
      " 10  surface_terrain            82186 non-null   object\n",
      " 11  longitude                  262485 non-null  object\n",
      " 12  latitude                   262485 non-null  object\n",
      "dtypes: object(13)\n",
      "memory usage: 26.9+ MB\n"
     ]
    }
   ],
   "source": [
    "keep_col =['id_mutation',\n",
    "            'date_mutation',\n",
    "            'nature_mutation',\n",
    "            'valeur_fonciere',\n",
    "            'code_postal',\n",
    "            'code_commune',\n",
    "            'code_departement',\n",
    "            'type_local',\n",
    "            'surface_reelle_bati',\n",
    "            'nombre_pieces_principales',\n",
    "            'surface_terrain',\n",
    "            'longitude',\n",
    "            'latitude']\n",
    "df_93 = df_93[keep_col]\n",
    "\n",
    "df_93.info()"
   ]
  },
  {
   "cell_type": "markdown",
   "id": "09b4d480",
   "metadata": {},
   "source": [
    "### Translate column-names"
   ]
  },
  {
   "cell_type": "code",
   "execution_count": 107,
   "id": "72763dbe",
   "metadata": {},
   "outputs": [],
   "source": [
    "df_93.columns = ['id', 'date', 'built', 'price', 'postal_code',\n",
    "                'city', 'region', 'property_type',\n",
    "                'living_area', 'number_of_rooms', 'land_area',\n",
    "                'longitude', 'latitude']"
   ]
  },
  {
   "cell_type": "markdown",
   "id": "d3895ad6",
   "metadata": {},
   "source": [
    "### Remove non-representative rows"
   ]
  },
  {
   "cell_type": "code",
   "execution_count": 109,
   "id": "d05b4d1c",
   "metadata": {},
   "outputs": [
    {
     "data": {
      "text/plain": [
       "(271360, 13)"
      ]
     },
     "execution_count": 109,
     "metadata": {},
     "output_type": "execute_result"
    }
   ],
   "source": [
    "df_93.shape"
   ]
  },
  {
   "cell_type": "markdown",
   "id": "cb0dffb1",
   "metadata": {},
   "source": [
    "We want to keep only :\n",
    "- Houses and appartments + Dépendances\n",
    "- Normal sales and off-plan sales\n",
    "- Sales with only one unit XXX"
   ]
  },
  {
   "cell_type": "code",
   "execution_count": 110,
   "id": "3be55052",
   "metadata": {},
   "outputs": [
    {
     "data": {
      "text/plain": [
       "array([nan, 'Appartement', 'Dépendance',\n",
       "       'Local industriel. commercial ou assimilé', 'Maison', 'type_local'],\n",
       "      dtype=object)"
      ]
     },
     "execution_count": 110,
     "metadata": {},
     "output_type": "execute_result"
    }
   ],
   "source": [
    "df_93.property_type.unique()"
   ]
  },
  {
   "cell_type": "code",
   "execution_count": 111,
   "id": "f532651a",
   "metadata": {},
   "outputs": [
    {
     "name": "stdout",
     "output_type": "stream",
     "text": [
      "Shape before the masks :  (271360, 13)\n",
      "Shape only normal sales (268269, 13)\n",
      "Shape only house and appartments + dependencies (204042, 13)\n"
     ]
    }
   ],
   "source": [
    "print('Shape before the masks : ', df_93.shape)\n",
    "print('Shape only normal sales', df_93[((df_93['built'] == \"Vente\") | (df_93['built'] == \"Vente en l'état futur d'achèvement\"))].shape)\n",
    "print('Shape only house and appartments + dependencies', df_93[((df_93['property_type'] == 'Appartement') | (df_93['property_type'] == 'Maison')| (df_93['property_type'] == 'Dépendance'))].shape)"
   ]
  },
  {
   "cell_type": "code",
   "execution_count": 112,
   "id": "ed5e654b",
   "metadata": {},
   "outputs": [
    {
     "data": {
      "text/plain": [
       "(201418, 13)"
      ]
     },
     "execution_count": 112,
     "metadata": {},
     "output_type": "execute_result"
    }
   ],
   "source": [
    "df_useful = df_93[((df_93['built'] == \"Vente\") | (df_93['built'] == \"Vente en l'état futur d'achèvement\")) &\n",
    "                    ((df_93['property_type'] == 'Appartement') | (df_93['property_type'] == 'Maison')  | (df_93['property_type'] == 'Maison')| (df_93['property_type'] == 'Dépendance'))]\n",
    "df_useful.shape"
   ]
  },
  {
   "cell_type": "code",
   "execution_count": 113,
   "id": "793a68b6",
   "metadata": {},
   "outputs": [
    {
     "name": "stdout",
     "output_type": "stream",
     "text": [
      "['Vente' \"Vente en l'état futur d'achèvement\"]\n",
      "['Appartement' 'Dépendance' 'Maison']\n"
     ]
    }
   ],
   "source": [
    "## checking that the masks worked correctly\n",
    "print(df_useful['built'].unique())\n",
    "print(df_useful['property_type'].unique())\n"
   ]
  },
  {
   "cell_type": "markdown",
   "id": "79e5d1e8",
   "metadata": {},
   "source": [
    "### Translating the values"
   ]
  },
  {
   "cell_type": "code",
   "execution_count": 114,
   "id": "2a19961a",
   "metadata": {},
   "outputs": [],
   "source": [
    "trans_dict_built = {'Vente' : 'built',\n",
    "                    \"Vente en l'état futur d'achèvement\" : 'off-plan'}\n",
    "trans_dict_type = {'Appartement' : 'appartment',\n",
    "                   'Maison' : 'house',\n",
    "                   'Dépendance' : 'dep'}\n",
    "df_useful= df_useful.replace({'built' : trans_dict_built,\n",
    "                             'property_type' : trans_dict_type})"
   ]
  },
  {
   "cell_type": "code",
   "execution_count": 115,
   "id": "78572942",
   "metadata": {},
   "outputs": [
    {
     "name": "stdout",
     "output_type": "stream",
     "text": [
      "['built' 'off-plan']\n",
      "['appartment' 'dep' 'house']\n"
     ]
    }
   ],
   "source": [
    "## checking that the translation worked correctly\n",
    "print(df_useful['built'].unique())\n",
    "print(df_useful['property_type'].unique())"
   ]
  },
  {
   "cell_type": "code",
   "execution_count": 116,
   "id": "ed1230e9",
   "metadata": {},
   "outputs": [
    {
     "name": "stdout",
     "output_type": "stream",
     "text": [
      "Number of elements that have been sold : 201418\n"
     ]
    }
   ],
   "source": [
    "print(f'Number of elements that have been sold : {df_useful.shape[0]}')"
   ]
  },
  {
   "cell_type": "code",
   "execution_count": 117,
   "id": "0f2116a9",
   "metadata": {},
   "outputs": [
    {
     "name": "stdout",
     "output_type": "stream",
     "text": [
      "Number of unique sale ids : 62455.\n"
     ]
    }
   ],
   "source": [
    "print(f'Number of unique sale ids : {df_useful.id.nunique()}.')"
   ]
  },
  {
   "cell_type": "markdown",
   "id": "83aed963",
   "metadata": {},
   "source": [
    "# 🤓 Feature engineering"
   ]
  },
  {
   "cell_type": "markdown",
   "id": "2da6a82c",
   "metadata": {},
   "source": [
    "1. number of dependencies\n",
    "2. garden or not --> ???"
   ]
  },
  {
   "cell_type": "markdown",
   "id": "ffc330ae",
   "metadata": {},
   "source": [
    "## 🛖 number of dependencies"
   ]
  },
  {
   "cell_type": "code",
   "execution_count": 118,
   "id": "88dfe3d4",
   "metadata": {},
   "outputs": [],
   "source": [
    "mask_house = df_useful.property_type == 'house'\n",
    "mask_app = df_useful.property_type == 'appartment'\n",
    "mask_dep = df_useful.property_type == 'dep'"
   ]
  },
  {
   "cell_type": "code",
   "execution_count": 119,
   "id": "3384d30e",
   "metadata": {},
   "outputs": [
    {
     "data": {
      "text/html": [
       "<div>\n",
       "<style scoped>\n",
       "    .dataframe tbody tr th:only-of-type {\n",
       "        vertical-align: middle;\n",
       "    }\n",
       "\n",
       "    .dataframe tbody tr th {\n",
       "        vertical-align: top;\n",
       "    }\n",
       "\n",
       "    .dataframe thead th {\n",
       "        text-align: right;\n",
       "    }\n",
       "</style>\n",
       "<table border=\"1\" class=\"dataframe\">\n",
       "  <thead>\n",
       "    <tr style=\"text-align: right;\">\n",
       "      <th></th>\n",
       "      <th>id</th>\n",
       "      <th>nb_of_house</th>\n",
       "    </tr>\n",
       "  </thead>\n",
       "  <tbody>\n",
       "    <tr>\n",
       "      <th>0</th>\n",
       "      <td>2018-697286</td>\n",
       "      <td>3</td>\n",
       "    </tr>\n",
       "    <tr>\n",
       "      <th>1</th>\n",
       "      <td>2018-697295</td>\n",
       "      <td>2</td>\n",
       "    </tr>\n",
       "    <tr>\n",
       "      <th>2</th>\n",
       "      <td>2018-697297</td>\n",
       "      <td>2</td>\n",
       "    </tr>\n",
       "    <tr>\n",
       "      <th>3</th>\n",
       "      <td>2018-697301</td>\n",
       "      <td>2</td>\n",
       "    </tr>\n",
       "    <tr>\n",
       "      <th>4</th>\n",
       "      <td>2018-697310</td>\n",
       "      <td>2</td>\n",
       "    </tr>\n",
       "  </tbody>\n",
       "</table>\n",
       "</div>"
      ],
      "text/plain": [
       "            id  nb_of_house\n",
       "0  2018-697286            3\n",
       "1  2018-697295            2\n",
       "2  2018-697297            2\n",
       "3  2018-697301            2\n",
       "4  2018-697310            2"
      ]
     },
     "execution_count": 119,
     "metadata": {},
     "output_type": "execute_result"
    }
   ],
   "source": [
    "#find the number of houses per id\n",
    "num_of_houses_df = df_useful[['id','property_type']][mask_house].groupby(by = 'id', as_index = False).count()\n",
    "num_of_houses_df.value_counts()\n",
    "num_of_houses_df.columns = ['id', 'nb_of_house']\n",
    "num_of_houses_df.head()"
   ]
  },
  {
   "cell_type": "code",
   "execution_count": 120,
   "id": "50dd6b7d",
   "metadata": {},
   "outputs": [
    {
     "data": {
      "text/html": [
       "<div>\n",
       "<style scoped>\n",
       "    .dataframe tbody tr th:only-of-type {\n",
       "        vertical-align: middle;\n",
       "    }\n",
       "\n",
       "    .dataframe tbody tr th {\n",
       "        vertical-align: top;\n",
       "    }\n",
       "\n",
       "    .dataframe thead th {\n",
       "        text-align: right;\n",
       "    }\n",
       "</style>\n",
       "<table border=\"1\" class=\"dataframe\">\n",
       "  <thead>\n",
       "    <tr style=\"text-align: right;\">\n",
       "      <th></th>\n",
       "      <th>id</th>\n",
       "      <th>nb_of_app</th>\n",
       "    </tr>\n",
       "  </thead>\n",
       "  <tbody>\n",
       "    <tr>\n",
       "      <th>0</th>\n",
       "      <td>2018-697281</td>\n",
       "      <td>3</td>\n",
       "    </tr>\n",
       "    <tr>\n",
       "      <th>1</th>\n",
       "      <td>2018-697282</td>\n",
       "      <td>3</td>\n",
       "    </tr>\n",
       "    <tr>\n",
       "      <th>2</th>\n",
       "      <td>2018-697283</td>\n",
       "      <td>3</td>\n",
       "    </tr>\n",
       "    <tr>\n",
       "      <th>3</th>\n",
       "      <td>2018-697284</td>\n",
       "      <td>3</td>\n",
       "    </tr>\n",
       "    <tr>\n",
       "      <th>4</th>\n",
       "      <td>2018-697287</td>\n",
       "      <td>2</td>\n",
       "    </tr>\n",
       "  </tbody>\n",
       "</table>\n",
       "</div>"
      ],
      "text/plain": [
       "            id  nb_of_app\n",
       "0  2018-697281          3\n",
       "1  2018-697282          3\n",
       "2  2018-697283          3\n",
       "3  2018-697284          3\n",
       "4  2018-697287          2"
      ]
     },
     "execution_count": 120,
     "metadata": {},
     "output_type": "execute_result"
    }
   ],
   "source": [
    "#find the number of appartments per id\n",
    "num_of_app_df = df_useful[['id','property_type']][mask_app].groupby(by = 'id', as_index = False).count()\n",
    "num_of_app_df.value_counts()\n",
    "num_of_app_df.columns = ['id', 'nb_of_app']\n",
    "num_of_app_df.head()"
   ]
  },
  {
   "cell_type": "code",
   "execution_count": 121,
   "id": "907e909b",
   "metadata": {},
   "outputs": [
    {
     "data": {
      "text/html": [
       "<div>\n",
       "<style scoped>\n",
       "    .dataframe tbody tr th:only-of-type {\n",
       "        vertical-align: middle;\n",
       "    }\n",
       "\n",
       "    .dataframe tbody tr th {\n",
       "        vertical-align: top;\n",
       "    }\n",
       "\n",
       "    .dataframe thead th {\n",
       "        text-align: right;\n",
       "    }\n",
       "</style>\n",
       "<table border=\"1\" class=\"dataframe\">\n",
       "  <thead>\n",
       "    <tr style=\"text-align: right;\">\n",
       "      <th></th>\n",
       "      <th>id</th>\n",
       "      <th>nb_of_dep</th>\n",
       "    </tr>\n",
       "  </thead>\n",
       "  <tbody>\n",
       "    <tr>\n",
       "      <th>0</th>\n",
       "      <td>2018-697281</td>\n",
       "      <td>3</td>\n",
       "    </tr>\n",
       "    <tr>\n",
       "      <th>1</th>\n",
       "      <td>2018-697283</td>\n",
       "      <td>3</td>\n",
       "    </tr>\n",
       "    <tr>\n",
       "      <th>2</th>\n",
       "      <td>2018-697284</td>\n",
       "      <td>3</td>\n",
       "    </tr>\n",
       "    <tr>\n",
       "      <th>3</th>\n",
       "      <td>2018-697287</td>\n",
       "      <td>2</td>\n",
       "    </tr>\n",
       "    <tr>\n",
       "      <th>4</th>\n",
       "      <td>2018-697290</td>\n",
       "      <td>2</td>\n",
       "    </tr>\n",
       "  </tbody>\n",
       "</table>\n",
       "</div>"
      ],
      "text/plain": [
       "            id  nb_of_dep\n",
       "0  2018-697281          3\n",
       "1  2018-697283          3\n",
       "2  2018-697284          3\n",
       "3  2018-697287          2\n",
       "4  2018-697290          2"
      ]
     },
     "execution_count": 121,
     "metadata": {},
     "output_type": "execute_result"
    }
   ],
   "source": [
    "#find the number of dep per id\n",
    "num_of_dep_df = df_useful[['id','property_type']][mask_dep].groupby(by = 'id', as_index = False).count()\n",
    "num_of_dep_df.value_counts()\n",
    "num_of_dep_df.columns = ['id', 'nb_of_dep']\n",
    "num_of_dep_df.head()"
   ]
  },
  {
   "cell_type": "code",
   "execution_count": 122,
   "id": "a0160cbe",
   "metadata": {},
   "outputs": [
    {
     "data": {
      "text/plain": [
       "34073"
      ]
     },
     "execution_count": 122,
     "metadata": {},
     "output_type": "execute_result"
    }
   ],
   "source": [
    "num_of_dep_df.id.nunique()"
   ]
  },
  {
   "cell_type": "markdown",
   "id": "ef4c7527",
   "metadata": {},
   "source": [
    "➕ adding columns to df_useful"
   ]
  },
  {
   "cell_type": "code",
   "execution_count": 123,
   "id": "888984f2",
   "metadata": {},
   "outputs": [
    {
     "data": {
      "text/html": [
       "<div>\n",
       "<style scoped>\n",
       "    .dataframe tbody tr th:only-of-type {\n",
       "        vertical-align: middle;\n",
       "    }\n",
       "\n",
       "    .dataframe tbody tr th {\n",
       "        vertical-align: top;\n",
       "    }\n",
       "\n",
       "    .dataframe thead th {\n",
       "        text-align: right;\n",
       "    }\n",
       "</style>\n",
       "<table border=\"1\" class=\"dataframe\">\n",
       "  <thead>\n",
       "    <tr style=\"text-align: right;\">\n",
       "      <th></th>\n",
       "      <th>id</th>\n",
       "      <th>date</th>\n",
       "      <th>built</th>\n",
       "      <th>price</th>\n",
       "      <th>postal_code</th>\n",
       "      <th>city</th>\n",
       "      <th>region</th>\n",
       "      <th>property_type</th>\n",
       "      <th>living_area</th>\n",
       "      <th>number_of_rooms</th>\n",
       "      <th>land_area</th>\n",
       "      <th>longitude</th>\n",
       "      <th>latitude</th>\n",
       "      <th>nb_of_house</th>\n",
       "      <th>nb_of_app</th>\n",
       "      <th>nb_of_dep</th>\n",
       "    </tr>\n",
       "  </thead>\n",
       "  <tbody>\n",
       "    <tr>\n",
       "      <th>166950</th>\n",
       "      <td>2019-1423224</td>\n",
       "      <td>2019-03-01</td>\n",
       "      <td>built</td>\n",
       "      <td>330000.00</td>\n",
       "      <td>93600</td>\n",
       "      <td>93005</td>\n",
       "      <td>93</td>\n",
       "      <td>dep</td>\n",
       "      <td>NaN</td>\n",
       "      <td>0</td>\n",
       "      <td>NaN</td>\n",
       "      <td>2.5136440</td>\n",
       "      <td>48.9498120</td>\n",
       "      <td>NaN</td>\n",
       "      <td>NaN</td>\n",
       "      <td>106.0</td>\n",
       "    </tr>\n",
       "    <tr>\n",
       "      <th>118137</th>\n",
       "      <td>2020-1363281</td>\n",
       "      <td>2020-01-22</td>\n",
       "      <td>built</td>\n",
       "      <td>162000.0</td>\n",
       "      <td>93250.0</td>\n",
       "      <td>93077</td>\n",
       "      <td>93</td>\n",
       "      <td>appartment</td>\n",
       "      <td>35.0</td>\n",
       "      <td>1.0</td>\n",
       "      <td>NaN</td>\n",
       "      <td>2.508424</td>\n",
       "      <td>48.885554</td>\n",
       "      <td>NaN</td>\n",
       "      <td>1.0</td>\n",
       "      <td>NaN</td>\n",
       "    </tr>\n",
       "    <tr>\n",
       "      <th>152443</th>\n",
       "      <td>2023-516492</td>\n",
       "      <td>2023-02-28</td>\n",
       "      <td>built</td>\n",
       "      <td>172000.00</td>\n",
       "      <td>93190</td>\n",
       "      <td>93046</td>\n",
       "      <td>93</td>\n",
       "      <td>dep</td>\n",
       "      <td>NaN</td>\n",
       "      <td>0</td>\n",
       "      <td>NaN</td>\n",
       "      <td>2.5234050</td>\n",
       "      <td>48.9123050</td>\n",
       "      <td>NaN</td>\n",
       "      <td>1.0</td>\n",
       "      <td>1.0</td>\n",
       "    </tr>\n",
       "    <tr>\n",
       "      <th>186957</th>\n",
       "      <td>2019-1428121</td>\n",
       "      <td>2019-02-06</td>\n",
       "      <td>built</td>\n",
       "      <td>242000.0</td>\n",
       "      <td>93370.0</td>\n",
       "      <td>93047</td>\n",
       "      <td>93</td>\n",
       "      <td>house</td>\n",
       "      <td>70.0</td>\n",
       "      <td>3.0</td>\n",
       "      <td>500.0</td>\n",
       "      <td>2.56983</td>\n",
       "      <td>48.893979</td>\n",
       "      <td>1.0</td>\n",
       "      <td>NaN</td>\n",
       "      <td>NaN</td>\n",
       "    </tr>\n",
       "    <tr>\n",
       "      <th>60051</th>\n",
       "      <td>2018-710376</td>\n",
       "      <td>2018-12-17</td>\n",
       "      <td>built</td>\n",
       "      <td>3112870.2</td>\n",
       "      <td>93100.0</td>\n",
       "      <td>93048</td>\n",
       "      <td>93</td>\n",
       "      <td>appartment</td>\n",
       "      <td>37.0</td>\n",
       "      <td>2.0</td>\n",
       "      <td>NaN</td>\n",
       "      <td>2.451178</td>\n",
       "      <td>48.863634</td>\n",
       "      <td>NaN</td>\n",
       "      <td>57.0</td>\n",
       "      <td>30.0</td>\n",
       "    </tr>\n",
       "  </tbody>\n",
       "</table>\n",
       "</div>"
      ],
      "text/plain": [
       "                  id        date  built      price postal_code   city region  \\\n",
       "166950  2019-1423224  2019-03-01  built  330000.00       93600  93005     93   \n",
       "118137  2020-1363281  2020-01-22  built   162000.0     93250.0  93077     93   \n",
       "152443   2023-516492  2023-02-28  built  172000.00       93190  93046     93   \n",
       "186957  2019-1428121  2019-02-06  built   242000.0     93370.0  93047     93   \n",
       "60051    2018-710376  2018-12-17  built  3112870.2     93100.0  93048     93   \n",
       "\n",
       "       property_type living_area number_of_rooms land_area  longitude  \\\n",
       "166950           dep         NaN               0       NaN  2.5136440   \n",
       "118137    appartment        35.0             1.0       NaN   2.508424   \n",
       "152443           dep         NaN               0       NaN  2.5234050   \n",
       "186957         house        70.0             3.0     500.0    2.56983   \n",
       "60051     appartment        37.0             2.0       NaN   2.451178   \n",
       "\n",
       "          latitude  nb_of_house  nb_of_app  nb_of_dep  \n",
       "166950  48.9498120          NaN        NaN      106.0  \n",
       "118137   48.885554          NaN        1.0        NaN  \n",
       "152443  48.9123050          NaN        1.0        1.0  \n",
       "186957   48.893979          1.0        NaN        NaN  \n",
       "60051    48.863634          NaN       57.0       30.0  "
      ]
     },
     "execution_count": 123,
     "metadata": {},
     "output_type": "execute_result"
    }
   ],
   "source": [
    "df_feat = df_useful.merge(num_of_houses_df, on = 'id', how = 'outer')\n",
    "df_feat = df_feat.merge(num_of_app_df, on = 'id', how = 'outer')\n",
    "df_feat = df_feat.merge(num_of_dep_df, on = 'id', how = 'outer')\n",
    "df_feat.sample(5)"
   ]
  },
  {
   "cell_type": "code",
   "execution_count": 124,
   "id": "e7d644cc",
   "metadata": {},
   "outputs": [],
   "source": [
    "df_feat.fillna({'nb_of_house' : 0, 'nb_of_app' : 0, 'nb_of_dep' : 0, 'land_area' : 0}, inplace=True)"
   ]
  },
  {
   "cell_type": "code",
   "execution_count": 125,
   "id": "1fb432c0",
   "metadata": {},
   "outputs": [
    {
     "data": {
      "text/plain": [
       "(60127, 17)"
      ]
     },
     "execution_count": 125,
     "metadata": {},
     "output_type": "execute_result"
    }
   ],
   "source": [
    "# remove lines with multiple houses or appartments in same sale_id\n",
    "df_feat['nb_of_units'] = df_feat.nb_of_app+df_feat.nb_of_house\n",
    "mask_units = (df_feat['nb_of_units'] == 1)\n",
    "df_filtered = df_feat[mask_units]\n",
    "df_filtered.shape"
   ]
  },
  {
   "cell_type": "code",
   "execution_count": 126,
   "id": "09fcfda0",
   "metadata": {},
   "outputs": [
    {
     "data": {
      "text/html": [
       "<div>\n",
       "<style scoped>\n",
       "    .dataframe tbody tr th:only-of-type {\n",
       "        vertical-align: middle;\n",
       "    }\n",
       "\n",
       "    .dataframe tbody tr th {\n",
       "        vertical-align: top;\n",
       "    }\n",
       "\n",
       "    .dataframe thead th {\n",
       "        text-align: right;\n",
       "    }\n",
       "</style>\n",
       "<table border=\"1\" class=\"dataframe\">\n",
       "  <thead>\n",
       "    <tr style=\"text-align: right;\">\n",
       "      <th></th>\n",
       "      <th>id</th>\n",
       "      <th>date</th>\n",
       "      <th>built</th>\n",
       "      <th>price</th>\n",
       "      <th>postal_code</th>\n",
       "      <th>city</th>\n",
       "      <th>region</th>\n",
       "      <th>property_type</th>\n",
       "      <th>living_area</th>\n",
       "      <th>number_of_rooms</th>\n",
       "      <th>land_area</th>\n",
       "      <th>longitude</th>\n",
       "      <th>latitude</th>\n",
       "      <th>nb_of_house</th>\n",
       "      <th>nb_of_app</th>\n",
       "      <th>nb_of_dep</th>\n",
       "      <th>nb_of_units</th>\n",
       "    </tr>\n",
       "  </thead>\n",
       "  <tbody>\n",
       "    <tr>\n",
       "      <th>184425</th>\n",
       "      <td>2019-1434001</td>\n",
       "      <td>2019-05-13</td>\n",
       "      <td>off-plan</td>\n",
       "      <td>250000.00</td>\n",
       "      <td>93110</td>\n",
       "      <td>93064</td>\n",
       "      <td>93</td>\n",
       "      <td>dep</td>\n",
       "      <td>NaN</td>\n",
       "      <td>0</td>\n",
       "      <td>0</td>\n",
       "      <td>2.4819210</td>\n",
       "      <td>48.8753400</td>\n",
       "      <td>0.0</td>\n",
       "      <td>1.0</td>\n",
       "      <td>1.0</td>\n",
       "      <td>1.0</td>\n",
       "    </tr>\n",
       "    <tr>\n",
       "      <th>157233</th>\n",
       "      <td>2019-1417006</td>\n",
       "      <td>2019-02-21</td>\n",
       "      <td>off-plan</td>\n",
       "      <td>312000.00</td>\n",
       "      <td>93300</td>\n",
       "      <td>93001</td>\n",
       "      <td>93</td>\n",
       "      <td>appartment</td>\n",
       "      <td>86.00</td>\n",
       "      <td>4</td>\n",
       "      <td>0</td>\n",
       "      <td>2.3876320</td>\n",
       "      <td>48.9040650</td>\n",
       "      <td>0.0</td>\n",
       "      <td>1.0</td>\n",
       "      <td>2.0</td>\n",
       "      <td>1.0</td>\n",
       "    </tr>\n",
       "    <tr>\n",
       "      <th>144028</th>\n",
       "      <td>2022-1552030</td>\n",
       "      <td>2022-11-22</td>\n",
       "      <td>built</td>\n",
       "      <td>200000.0</td>\n",
       "      <td>93100.0</td>\n",
       "      <td>93048</td>\n",
       "      <td>93</td>\n",
       "      <td>appartment</td>\n",
       "      <td>34.0</td>\n",
       "      <td>2.0</td>\n",
       "      <td>0</td>\n",
       "      <td>2.467015</td>\n",
       "      <td>48.86052</td>\n",
       "      <td>0.0</td>\n",
       "      <td>1.0</td>\n",
       "      <td>1.0</td>\n",
       "      <td>1.0</td>\n",
       "    </tr>\n",
       "    <tr>\n",
       "      <th>200378</th>\n",
       "      <td>2019-1414787</td>\n",
       "      <td>2019-10-17</td>\n",
       "      <td>off-plan</td>\n",
       "      <td>213000.0</td>\n",
       "      <td>93320.0</td>\n",
       "      <td>93057</td>\n",
       "      <td>93</td>\n",
       "      <td>dep</td>\n",
       "      <td>NaN</td>\n",
       "      <td>0.0</td>\n",
       "      <td>0</td>\n",
       "      <td>2.505543</td>\n",
       "      <td>48.909095</td>\n",
       "      <td>0.0</td>\n",
       "      <td>1.0</td>\n",
       "      <td>1.0</td>\n",
       "      <td>1.0</td>\n",
       "    </tr>\n",
       "    <tr>\n",
       "      <th>157462</th>\n",
       "      <td>2019-1417181</td>\n",
       "      <td>2019-02-28</td>\n",
       "      <td>built</td>\n",
       "      <td>125000.00</td>\n",
       "      <td>93210</td>\n",
       "      <td>93066</td>\n",
       "      <td>93</td>\n",
       "      <td>appartment</td>\n",
       "      <td>68.00</td>\n",
       "      <td>3</td>\n",
       "      <td>0</td>\n",
       "      <td>2.3585120</td>\n",
       "      <td>48.9130080</td>\n",
       "      <td>0.0</td>\n",
       "      <td>1.0</td>\n",
       "      <td>1.0</td>\n",
       "      <td>1.0</td>\n",
       "    </tr>\n",
       "    <tr>\n",
       "      <th>112053</th>\n",
       "      <td>2020-1359504</td>\n",
       "      <td>2020-02-20</td>\n",
       "      <td>off-plan</td>\n",
       "      <td>198000.0</td>\n",
       "      <td>93160.0</td>\n",
       "      <td>93051</td>\n",
       "      <td>93</td>\n",
       "      <td>appartment</td>\n",
       "      <td>45.0</td>\n",
       "      <td>2.0</td>\n",
       "      <td>0</td>\n",
       "      <td>2.556759</td>\n",
       "      <td>48.847645</td>\n",
       "      <td>0.0</td>\n",
       "      <td>1.0</td>\n",
       "      <td>0.0</td>\n",
       "      <td>1.0</td>\n",
       "    </tr>\n",
       "    <tr>\n",
       "      <th>142788</th>\n",
       "      <td>2022-1551155</td>\n",
       "      <td>2022-10-31</td>\n",
       "      <td>built</td>\n",
       "      <td>685000.0</td>\n",
       "      <td>93100.0</td>\n",
       "      <td>93048</td>\n",
       "      <td>93</td>\n",
       "      <td>dep</td>\n",
       "      <td>NaN</td>\n",
       "      <td>0.0</td>\n",
       "      <td>0</td>\n",
       "      <td>2.436988</td>\n",
       "      <td>48.855122</td>\n",
       "      <td>0.0</td>\n",
       "      <td>1.0</td>\n",
       "      <td>3.0</td>\n",
       "      <td>1.0</td>\n",
       "    </tr>\n",
       "    <tr>\n",
       "      <th>150273</th>\n",
       "      <td>2022-1541394</td>\n",
       "      <td>2022-06-09</td>\n",
       "      <td>built</td>\n",
       "      <td>241500.0</td>\n",
       "      <td>93160.0</td>\n",
       "      <td>93051</td>\n",
       "      <td>93</td>\n",
       "      <td>dep</td>\n",
       "      <td>NaN</td>\n",
       "      <td>0.0</td>\n",
       "      <td>0</td>\n",
       "      <td>2.57694</td>\n",
       "      <td>48.84476</td>\n",
       "      <td>0.0</td>\n",
       "      <td>1.0</td>\n",
       "      <td>1.0</td>\n",
       "      <td>1.0</td>\n",
       "    </tr>\n",
       "    <tr>\n",
       "      <th>125978</th>\n",
       "      <td>2021-1601460</td>\n",
       "      <td>2021-11-04</td>\n",
       "      <td>built</td>\n",
       "      <td>243000.0</td>\n",
       "      <td>93160.0</td>\n",
       "      <td>93051</td>\n",
       "      <td>93</td>\n",
       "      <td>appartment</td>\n",
       "      <td>54.0</td>\n",
       "      <td>2.0</td>\n",
       "      <td>0</td>\n",
       "      <td>2.550626</td>\n",
       "      <td>48.844331</td>\n",
       "      <td>0.0</td>\n",
       "      <td>1.0</td>\n",
       "      <td>1.0</td>\n",
       "      <td>1.0</td>\n",
       "    </tr>\n",
       "    <tr>\n",
       "      <th>192771</th>\n",
       "      <td>2019-1431892</td>\n",
       "      <td>2019-11-07</td>\n",
       "      <td>built</td>\n",
       "      <td>135000.0</td>\n",
       "      <td>93160.0</td>\n",
       "      <td>93051</td>\n",
       "      <td>93</td>\n",
       "      <td>dep</td>\n",
       "      <td>NaN</td>\n",
       "      <td>0.0</td>\n",
       "      <td>0</td>\n",
       "      <td>2.567249</td>\n",
       "      <td>48.850296</td>\n",
       "      <td>0.0</td>\n",
       "      <td>1.0</td>\n",
       "      <td>1.0</td>\n",
       "      <td>1.0</td>\n",
       "    </tr>\n",
       "  </tbody>\n",
       "</table>\n",
       "</div>"
      ],
      "text/plain": [
       "                  id        date     built      price postal_code   city  \\\n",
       "184425  2019-1434001  2019-05-13  off-plan  250000.00       93110  93064   \n",
       "157233  2019-1417006  2019-02-21  off-plan  312000.00       93300  93001   \n",
       "144028  2022-1552030  2022-11-22     built   200000.0     93100.0  93048   \n",
       "200378  2019-1414787  2019-10-17  off-plan   213000.0     93320.0  93057   \n",
       "157462  2019-1417181  2019-02-28     built  125000.00       93210  93066   \n",
       "112053  2020-1359504  2020-02-20  off-plan   198000.0     93160.0  93051   \n",
       "142788  2022-1551155  2022-10-31     built   685000.0     93100.0  93048   \n",
       "150273  2022-1541394  2022-06-09     built   241500.0     93160.0  93051   \n",
       "125978  2021-1601460  2021-11-04     built   243000.0     93160.0  93051   \n",
       "192771  2019-1431892  2019-11-07     built   135000.0     93160.0  93051   \n",
       "\n",
       "       region property_type living_area number_of_rooms land_area  longitude  \\\n",
       "184425     93           dep         NaN               0         0  2.4819210   \n",
       "157233     93    appartment       86.00               4         0  2.3876320   \n",
       "144028     93    appartment        34.0             2.0         0   2.467015   \n",
       "200378     93           dep         NaN             0.0         0   2.505543   \n",
       "157462     93    appartment       68.00               3         0  2.3585120   \n",
       "112053     93    appartment        45.0             2.0         0   2.556759   \n",
       "142788     93           dep         NaN             0.0         0   2.436988   \n",
       "150273     93           dep         NaN             0.0         0    2.57694   \n",
       "125978     93    appartment        54.0             2.0         0   2.550626   \n",
       "192771     93           dep         NaN             0.0         0   2.567249   \n",
       "\n",
       "          latitude  nb_of_house  nb_of_app  nb_of_dep  nb_of_units  \n",
       "184425  48.8753400          0.0        1.0        1.0          1.0  \n",
       "157233  48.9040650          0.0        1.0        2.0          1.0  \n",
       "144028    48.86052          0.0        1.0        1.0          1.0  \n",
       "200378   48.909095          0.0        1.0        1.0          1.0  \n",
       "157462  48.9130080          0.0        1.0        1.0          1.0  \n",
       "112053   48.847645          0.0        1.0        0.0          1.0  \n",
       "142788   48.855122          0.0        1.0        3.0          1.0  \n",
       "150273    48.84476          0.0        1.0        1.0          1.0  \n",
       "125978   48.844331          0.0        1.0        1.0          1.0  \n",
       "192771   48.850296          0.0        1.0        1.0          1.0  "
      ]
     },
     "execution_count": 126,
     "metadata": {},
     "output_type": "execute_result"
    }
   ],
   "source": [
    "df_filtered.sample(10)"
   ]
  },
  {
   "cell_type": "code",
   "execution_count": 127,
   "id": "c90938db",
   "metadata": {},
   "outputs": [
    {
     "data": {
      "text/plain": [
       "(36309, 17)"
      ]
     },
     "execution_count": 127,
     "metadata": {},
     "output_type": "execute_result"
    }
   ],
   "source": [
    "#filter out the dependencies\n",
    "filter_type = (df_filtered['property_type'] != 'dep')\n",
    "df_filtered = df_filtered[filter_type]\n",
    "df_filtered.shape"
   ]
  },
  {
   "cell_type": "code",
   "execution_count": 128,
   "id": "61341bbe",
   "metadata": {},
   "outputs": [
    {
     "data": {
      "text/html": [
       "<div>\n",
       "<style scoped>\n",
       "    .dataframe tbody tr th:only-of-type {\n",
       "        vertical-align: middle;\n",
       "    }\n",
       "\n",
       "    .dataframe tbody tr th {\n",
       "        vertical-align: top;\n",
       "    }\n",
       "\n",
       "    .dataframe thead th {\n",
       "        text-align: right;\n",
       "    }\n",
       "</style>\n",
       "<table border=\"1\" class=\"dataframe\">\n",
       "  <thead>\n",
       "    <tr style=\"text-align: right;\">\n",
       "      <th></th>\n",
       "      <th>id</th>\n",
       "      <th>date</th>\n",
       "      <th>built</th>\n",
       "      <th>price</th>\n",
       "      <th>postal_code</th>\n",
       "      <th>city</th>\n",
       "      <th>region</th>\n",
       "      <th>property_type</th>\n",
       "      <th>living_area</th>\n",
       "      <th>number_of_rooms</th>\n",
       "      <th>land_area</th>\n",
       "      <th>longitude</th>\n",
       "      <th>latitude</th>\n",
       "      <th>nb_of_dep</th>\n",
       "    </tr>\n",
       "  </thead>\n",
       "  <tbody>\n",
       "    <tr>\n",
       "      <th>127454</th>\n",
       "      <td>2021-1602413</td>\n",
       "      <td>2021-11-08</td>\n",
       "      <td>built</td>\n",
       "      <td>240000.0</td>\n",
       "      <td>93270.0</td>\n",
       "      <td>93071</td>\n",
       "      <td>93</td>\n",
       "      <td>house</td>\n",
       "      <td>70.0</td>\n",
       "      <td>4.0</td>\n",
       "      <td>266.0</td>\n",
       "      <td>2.533624</td>\n",
       "      <td>48.929114</td>\n",
       "      <td>1.0</td>\n",
       "    </tr>\n",
       "    <tr>\n",
       "      <th>105962</th>\n",
       "      <td>2020-1354702</td>\n",
       "      <td>2020-03-06</td>\n",
       "      <td>built</td>\n",
       "      <td>294000.00</td>\n",
       "      <td>93150</td>\n",
       "      <td>93007</td>\n",
       "      <td>93</td>\n",
       "      <td>house</td>\n",
       "      <td>60.00</td>\n",
       "      <td>3</td>\n",
       "      <td>390.00</td>\n",
       "      <td>2.4659310</td>\n",
       "      <td>48.9292230</td>\n",
       "      <td>0.0</td>\n",
       "    </tr>\n",
       "    <tr>\n",
       "      <th>114517</th>\n",
       "      <td>2020-1361086</td>\n",
       "      <td>2020-07-29</td>\n",
       "      <td>off-plan</td>\n",
       "      <td>139000.0</td>\n",
       "      <td>93220.0</td>\n",
       "      <td>93032</td>\n",
       "      <td>93</td>\n",
       "      <td>appartment</td>\n",
       "      <td>30.0</td>\n",
       "      <td>1.0</td>\n",
       "      <td>0</td>\n",
       "      <td>2.533988</td>\n",
       "      <td>48.882234</td>\n",
       "      <td>0.0</td>\n",
       "    </tr>\n",
       "    <tr>\n",
       "      <th>522</th>\n",
       "      <td>2018-697504</td>\n",
       "      <td>2018-07-19</td>\n",
       "      <td>off-plan</td>\n",
       "      <td>265508.3</td>\n",
       "      <td>93000.0</td>\n",
       "      <td>93008</td>\n",
       "      <td>93</td>\n",
       "      <td>appartment</td>\n",
       "      <td>79.0</td>\n",
       "      <td>4.0</td>\n",
       "      <td>0</td>\n",
       "      <td>2.413402</td>\n",
       "      <td>48.919067</td>\n",
       "      <td>1.0</td>\n",
       "    </tr>\n",
       "    <tr>\n",
       "      <th>115035</th>\n",
       "      <td>2020-1361503</td>\n",
       "      <td>2020-08-20</td>\n",
       "      <td>built</td>\n",
       "      <td>413000.0</td>\n",
       "      <td>93460.0</td>\n",
       "      <td>93033</td>\n",
       "      <td>93</td>\n",
       "      <td>house</td>\n",
       "      <td>91.0</td>\n",
       "      <td>4.0</td>\n",
       "      <td>439.0</td>\n",
       "      <td>2.56829</td>\n",
       "      <td>48.859637</td>\n",
       "      <td>0.0</td>\n",
       "    </tr>\n",
       "  </tbody>\n",
       "</table>\n",
       "</div>"
      ],
      "text/plain": [
       "                  id        date     built      price postal_code   city  \\\n",
       "127454  2021-1602413  2021-11-08     built   240000.0     93270.0  93071   \n",
       "105962  2020-1354702  2020-03-06     built  294000.00       93150  93007   \n",
       "114517  2020-1361086  2020-07-29  off-plan   139000.0     93220.0  93032   \n",
       "522      2018-697504  2018-07-19  off-plan   265508.3     93000.0  93008   \n",
       "115035  2020-1361503  2020-08-20     built   413000.0     93460.0  93033   \n",
       "\n",
       "       region property_type living_area number_of_rooms land_area  longitude  \\\n",
       "127454     93         house        70.0             4.0     266.0   2.533624   \n",
       "105962     93         house       60.00               3    390.00  2.4659310   \n",
       "114517     93    appartment        30.0             1.0         0   2.533988   \n",
       "522        93    appartment        79.0             4.0         0   2.413402   \n",
       "115035     93         house        91.0             4.0     439.0    2.56829   \n",
       "\n",
       "          latitude  nb_of_dep  \n",
       "127454   48.929114        1.0  \n",
       "105962  48.9292230        0.0  \n",
       "114517   48.882234        0.0  \n",
       "522      48.919067        1.0  \n",
       "115035   48.859637        0.0  "
      ]
     },
     "execution_count": 128,
     "metadata": {},
     "output_type": "execute_result"
    }
   ],
   "source": [
    "df_filtered_drop = df_filtered.drop(columns = ['nb_of_units', 'nb_of_app', 'nb_of_house'])\n",
    "df_filtered_drop.shape\n",
    "df_filtered_drop.sample(5)"
   ]
  },
  {
   "cell_type": "code",
   "execution_count": 129,
   "id": "af62ca39",
   "metadata": {},
   "outputs": [
    {
     "data": {
      "text/plain": [
       "0"
      ]
     },
     "execution_count": 129,
     "metadata": {},
     "output_type": "execute_result"
    }
   ],
   "source": [
    "df_filtered_drop.duplicated().sum()"
   ]
  },
  {
   "cell_type": "markdown",
   "id": "4bf67c92",
   "metadata": {},
   "source": [
    "## 🌼 Adding garden feature ? TODO : Nan = 0, other number = 1"
   ]
  },
  {
   "cell_type": "markdown",
   "id": "e0ecad89",
   "metadata": {},
   "source": [
    "❓❔❓ relation between land_area and living_area"
   ]
  },
  {
   "cell_type": "code",
   "execution_count": 130,
   "id": "7a528bf1",
   "metadata": {},
   "outputs": [
    {
     "data": {
      "text/plain": [
       "0"
      ]
     },
     "execution_count": 130,
     "metadata": {},
     "output_type": "execute_result"
    }
   ],
   "source": [
    "df_filtered_drop.duplicated().sum()"
   ]
  },
  {
   "cell_type": "code",
   "execution_count": 131,
   "id": "e8580789",
   "metadata": {},
   "outputs": [
    {
     "data": {
      "text/plain": [
       "id                 0.000000\n",
       "date               0.000000\n",
       "built              0.000000\n",
       "price              0.000441\n",
       "postal_code        0.000000\n",
       "city               0.000000\n",
       "region             0.000000\n",
       "property_type      0.000000\n",
       "living_area        0.000028\n",
       "number_of_rooms    0.000028\n",
       "land_area          0.000000\n",
       "longitude          0.006279\n",
       "latitude           0.006279\n",
       "nb_of_dep          0.000000\n",
       "dtype: float64"
      ]
     },
     "execution_count": 131,
     "metadata": {},
     "output_type": "execute_result"
    }
   ],
   "source": [
    "df_filtered_drop.isnull().sum()/len(df_filtered_drop) # 76 % of land_area is null"
   ]
  },
  {
   "cell_type": "code",
   "execution_count": 132,
   "id": "3270a3f0",
   "metadata": {},
   "outputs": [
    {
     "data": {
      "text/plain": [
       "id                 0.000000\n",
       "date               0.000000\n",
       "built              0.000000\n",
       "price              0.000407\n",
       "postal_code        0.000000\n",
       "city               0.000000\n",
       "region             0.000000\n",
       "property_type      0.000000\n",
       "living_area        0.000000\n",
       "number_of_rooms    0.000000\n",
       "land_area          0.000000\n",
       "longitude          0.009459\n",
       "latitude           0.009459\n",
       "nb_of_dep          0.000000\n",
       "dtype: float64"
      ]
     },
     "execution_count": 132,
     "metadata": {},
     "output_type": "execute_result"
    }
   ],
   "source": [
    "mask_house = df_filtered_drop.property_type == 'house'\n",
    "df_filtered_drop[mask_house].isnull().sum()/len(df_filtered_drop[mask_house]) # 13 % of land_area is null"
   ]
  },
  {
   "cell_type": "code",
   "execution_count": 133,
   "id": "f655b16e",
   "metadata": {},
   "outputs": [
    {
     "data": {
      "text/plain": [
       "id                 0.000000\n",
       "date               0.000000\n",
       "built              0.000000\n",
       "price              0.000453\n",
       "postal_code        0.000000\n",
       "city               0.000000\n",
       "region             0.000000\n",
       "property_type      0.000000\n",
       "living_area        0.000038\n",
       "number_of_rooms    0.000038\n",
       "land_area          0.000000\n",
       "longitude          0.005099\n",
       "latitude           0.005099\n",
       "nb_of_dep          0.000000\n",
       "dtype: float64"
      ]
     },
     "execution_count": 133,
     "metadata": {},
     "output_type": "execute_result"
    }
   ],
   "source": [
    "mask_appartments = df_filtered_drop.property_type == 'appartment'\n",
    "df_filtered_drop[mask_appartments].isnull().sum()/len(df_filtered_drop[mask_appartments]) # 99 % of land_area is null"
   ]
  },
  {
   "cell_type": "code",
   "execution_count": 134,
   "id": "37a1ed73",
   "metadata": {},
   "outputs": [],
   "source": [
    "########################################### TO DO : garden 1 or 0"
   ]
  },
  {
   "cell_type": "markdown",
   "id": "5636c427",
   "metadata": {},
   "source": [
    "## 🚮 Dropping duplicates and NaNs"
   ]
  },
  {
   "cell_type": "markdown",
   "id": "3cbd3457",
   "metadata": {},
   "source": [
    "➡️ 76% of the land_area is Null... --> drop the column land_area ?"
   ]
  },
  {
   "cell_type": "code",
   "execution_count": 135,
   "id": "f73dfdcb",
   "metadata": {},
   "outputs": [
    {
     "data": {
      "text/plain": [
       "(36064, 12)"
      ]
     },
     "execution_count": 135,
     "metadata": {},
     "output_type": "execute_result"
    }
   ],
   "source": [
    "df_final = df_filtered_drop.drop(columns = ['land_area', 'id'])\n",
    "df_clean = df_final.dropna()\n",
    "df_clean.shape"
   ]
  },
  {
   "cell_type": "markdown",
   "id": "907adfcc",
   "metadata": {},
   "source": [
    "## 🧮 Count summary"
   ]
  },
  {
   "cell_type": "code",
   "execution_count": 136,
   "id": "f4901a9f",
   "metadata": {},
   "outputs": [
    {
     "name": "stdout",
     "output_type": "stream",
     "text": [
      "Number of lines before the masks :  271360\n",
      "Number of lines of only normal sales :  268269\n",
      "Number of lines of only house and appartments + dependencies :  204042\n",
      "Number of unique sale ids : 36064\n"
     ]
    }
   ],
   "source": [
    "print('Number of lines before the masks : ', df_93.shape[0])\n",
    "print('Number of lines of only normal sales : ', df_93[((df_93['built'] == \"Vente\") | (df_93['built'] == \"Vente en l'état futur d'achèvement\"))].shape[0])\n",
    "print('Number of lines of only house and appartments + dependencies : ', df_93[((df_93['property_type'] == 'Appartement') | (df_93['property_type'] == 'Maison')| (df_93['property_type'] == 'Dépendance'))].shape[0])\n",
    "print(f'Number of unique sale ids : {df_clean.shape[0]}')"
   ]
  },
  {
   "cell_type": "markdown",
   "id": "e364699d",
   "metadata": {},
   "source": [
    "## Create € / sq m"
   ]
  },
  {
   "cell_type": "code",
   "execution_count": 184,
   "id": "500cf195",
   "metadata": {},
   "outputs": [],
   "source": [
    "df_clean['price_per_m2'] = df_clean.price / df_clean.living_area"
   ]
  },
  {
   "cell_type": "code",
   "execution_count": 186,
   "id": "1e7a37f5",
   "metadata": {},
   "outputs": [
    {
     "data": {
      "text/html": [
       "<div>\n",
       "<style scoped>\n",
       "    .dataframe tbody tr th:only-of-type {\n",
       "        vertical-align: middle;\n",
       "    }\n",
       "\n",
       "    .dataframe tbody tr th {\n",
       "        vertical-align: top;\n",
       "    }\n",
       "\n",
       "    .dataframe thead th {\n",
       "        text-align: right;\n",
       "    }\n",
       "</style>\n",
       "<table border=\"1\" class=\"dataframe\">\n",
       "  <thead>\n",
       "    <tr style=\"text-align: right;\">\n",
       "      <th></th>\n",
       "      <th>date</th>\n",
       "      <th>built</th>\n",
       "      <th>price</th>\n",
       "      <th>postal_code</th>\n",
       "      <th>city</th>\n",
       "      <th>region</th>\n",
       "      <th>property_type</th>\n",
       "      <th>living_area</th>\n",
       "      <th>number_of_rooms</th>\n",
       "      <th>longitude</th>\n",
       "      <th>latitude</th>\n",
       "      <th>nb_of_dep</th>\n",
       "      <th>price_per_m2</th>\n",
       "    </tr>\n",
       "  </thead>\n",
       "  <tbody>\n",
       "    <tr>\n",
       "      <th>159798</th>\n",
       "      <td>2019-06-17</td>\n",
       "      <td>built</td>\n",
       "      <td>140000.0</td>\n",
       "      <td>93800</td>\n",
       "      <td>93031</td>\n",
       "      <td>93</td>\n",
       "      <td>appartment</td>\n",
       "      <td>71.0</td>\n",
       "      <td>4</td>\n",
       "      <td>2.322865</td>\n",
       "      <td>48.955771</td>\n",
       "      <td>1</td>\n",
       "      <td>1971.830986</td>\n",
       "    </tr>\n",
       "    <tr>\n",
       "      <th>200310</th>\n",
       "      <td>2019-10-18</td>\n",
       "      <td>built</td>\n",
       "      <td>430000.0</td>\n",
       "      <td>93260</td>\n",
       "      <td>93045</td>\n",
       "      <td>93</td>\n",
       "      <td>appartment</td>\n",
       "      <td>81.0</td>\n",
       "      <td>5</td>\n",
       "      <td>2.422089</td>\n",
       "      <td>48.881247</td>\n",
       "      <td>1</td>\n",
       "      <td>5308.641975</td>\n",
       "    </tr>\n",
       "    <tr>\n",
       "      <th>572</th>\n",
       "      <td>2018-07-09</td>\n",
       "      <td>built</td>\n",
       "      <td>97000.0</td>\n",
       "      <td>93500</td>\n",
       "      <td>93055</td>\n",
       "      <td>93</td>\n",
       "      <td>appartment</td>\n",
       "      <td>23.0</td>\n",
       "      <td>2</td>\n",
       "      <td>2.396746</td>\n",
       "      <td>48.901901</td>\n",
       "      <td>0</td>\n",
       "      <td>4217.391304</td>\n",
       "    </tr>\n",
       "    <tr>\n",
       "      <th>132270</th>\n",
       "      <td>2021-12-22</td>\n",
       "      <td>built</td>\n",
       "      <td>260000.0</td>\n",
       "      <td>93370</td>\n",
       "      <td>93047</td>\n",
       "      <td>93</td>\n",
       "      <td>house</td>\n",
       "      <td>75.0</td>\n",
       "      <td>3</td>\n",
       "      <td>2.582850</td>\n",
       "      <td>48.906687</td>\n",
       "      <td>3</td>\n",
       "      <td>3466.666667</td>\n",
       "    </tr>\n",
       "    <tr>\n",
       "      <th>199656</th>\n",
       "      <td>2019-09-26</td>\n",
       "      <td>built</td>\n",
       "      <td>455000.0</td>\n",
       "      <td>93310</td>\n",
       "      <td>93061</td>\n",
       "      <td>93</td>\n",
       "      <td>appartment</td>\n",
       "      <td>88.0</td>\n",
       "      <td>4</td>\n",
       "      <td>2.410918</td>\n",
       "      <td>48.879511</td>\n",
       "      <td>1</td>\n",
       "      <td>5170.454545</td>\n",
       "    </tr>\n",
       "  </tbody>\n",
       "</table>\n",
       "</div>"
      ],
      "text/plain": [
       "             date  built     price  postal_code   city region property_type  \\\n",
       "159798 2019-06-17  built  140000.0        93800  93031     93    appartment   \n",
       "200310 2019-10-18  built  430000.0        93260  93045     93    appartment   \n",
       "572    2018-07-09  built   97000.0        93500  93055     93    appartment   \n",
       "132270 2021-12-22  built  260000.0        93370  93047     93         house   \n",
       "199656 2019-09-26  built  455000.0        93310  93061     93    appartment   \n",
       "\n",
       "        living_area  number_of_rooms  longitude   latitude  nb_of_dep  \\\n",
       "159798         71.0                4   2.322865  48.955771          1   \n",
       "200310         81.0                5   2.422089  48.881247          1   \n",
       "572            23.0                2   2.396746  48.901901          0   \n",
       "132270         75.0                3   2.582850  48.906687          3   \n",
       "199656         88.0                4   2.410918  48.879511          1   \n",
       "\n",
       "        price_per_m2  \n",
       "159798   1971.830986  \n",
       "200310   5308.641975  \n",
       "572      4217.391304  \n",
       "132270   3466.666667  \n",
       "199656   5170.454545  "
      ]
     },
     "execution_count": 186,
     "metadata": {},
     "output_type": "execute_result"
    }
   ],
   "source": [
    "df_clean.sample(5)"
   ]
  },
  {
   "cell_type": "markdown",
   "id": "5529d134",
   "metadata": {},
   "source": [
    "## 🦖 Changing everything to the right type"
   ]
  },
  {
   "cell_type": "code",
   "execution_count": 137,
   "id": "61891157",
   "metadata": {},
   "outputs": [
    {
     "data": {
      "text/plain": [
       "Index(['date', 'built', 'price', 'postal_code', 'city', 'region',\n",
       "       'property_type', 'living_area', 'number_of_rooms', 'longitude',\n",
       "       'latitude', 'nb_of_dep'],\n",
       "      dtype='object')"
      ]
     },
     "execution_count": 137,
     "metadata": {},
     "output_type": "execute_result"
    }
   ],
   "source": [
    "df_clean.columns"
   ]
  },
  {
   "cell_type": "code",
   "execution_count": 226,
   "id": "23829c8f",
   "metadata": {},
   "outputs": [
    {
     "name": "stdout",
     "output_type": "stream",
     "text": [
      "<class 'pandas.core.frame.DataFrame'>\n",
      "Int64Index: 36064 entries, 378 to 201417\n",
      "Data columns (total 13 columns):\n",
      " #   Column           Non-Null Count  Dtype         \n",
      "---  ------           --------------  -----         \n",
      " 0   date             36064 non-null  datetime64[ns]\n",
      " 1   built            36064 non-null  object        \n",
      " 2   price            36064 non-null  float64       \n",
      " 3   postal_code      36064 non-null  int64         \n",
      " 4   city             36064 non-null  object        \n",
      " 5   region           36064 non-null  object        \n",
      " 6   property_type    36064 non-null  object        \n",
      " 7   living_area      36064 non-null  float64       \n",
      " 8   number_of_rooms  36064 non-null  int64         \n",
      " 9   longitude        36064 non-null  float64       \n",
      " 10  latitude         36064 non-null  float64       \n",
      " 11  nb_of_dep        36064 non-null  int64         \n",
      " 12  price_per_m2     36064 non-null  float64       \n",
      "dtypes: datetime64[ns](1), float64(5), int64(3), object(4)\n",
      "memory usage: 3.9+ MB\n"
     ]
    }
   ],
   "source": [
    "#changing evething to the right type --> TO DO:should this go to params?\n",
    "col_float = ['price', 'longitude', 'latitude', 'living_area', 'price_per_m2' ]\n",
    "col_string = ['built','city', 'region','property_type']\n",
    "col_date = ['date']\n",
    "col_int = ['postal_code', 'nb_of_dep', 'number_of_rooms']\n",
    "#formating data types\n",
    "df_clean[col_float] = df_clean[col_float].apply(lambda x: pd.to_numeric(x, errors='coerce').astype('float64'))\n",
    "df_clean[col_date]= df_clean[col_date].apply(lambda x: pd.to_datetime(x, errors='coerce'))\n",
    "df_clean[col_int]= df_clean[col_int].apply(lambda x: pd.to_numeric(x, errors='coerce').astype('int64'))\n",
    "\n",
    "df_clean.info()"
   ]
  },
  {
   "cell_type": "markdown",
   "id": "6d648a38",
   "metadata": {},
   "source": [
    "## drop outliers\n",
    "1. find price per sq m - DONE\n",
    "2. group by each postal code\n",
    "3. percentile 96 % of this new feature\n",
    "4. drop everything above it"
   ]
  },
  {
   "cell_type": "code",
   "execution_count": 238,
   "id": "a09410cc",
   "metadata": {},
   "outputs": [
    {
     "data": {
      "text/html": [
       "<div>\n",
       "<style scoped>\n",
       "    .dataframe tbody tr th:only-of-type {\n",
       "        vertical-align: middle;\n",
       "    }\n",
       "\n",
       "    .dataframe tbody tr th {\n",
       "        vertical-align: top;\n",
       "    }\n",
       "\n",
       "    .dataframe thead th {\n",
       "        text-align: right;\n",
       "    }\n",
       "</style>\n",
       "<table border=\"1\" class=\"dataframe\">\n",
       "  <thead>\n",
       "    <tr style=\"text-align: right;\">\n",
       "      <th></th>\n",
       "      <th>postal_code</th>\n",
       "      <th>p95</th>\n",
       "    </tr>\n",
       "  </thead>\n",
       "  <tbody>\n",
       "    <tr>\n",
       "      <th>0</th>\n",
       "      <td>93000.0</td>\n",
       "      <td>7913.684211</td>\n",
       "    </tr>\n",
       "    <tr>\n",
       "      <th>1</th>\n",
       "      <td>93100.0</td>\n",
       "      <td>10056.962025</td>\n",
       "    </tr>\n",
       "    <tr>\n",
       "      <th>2</th>\n",
       "      <td>93110.0</td>\n",
       "      <td>6209.340659</td>\n",
       "    </tr>\n",
       "    <tr>\n",
       "      <th>3</th>\n",
       "      <td>93120.0</td>\n",
       "      <td>5208.333333</td>\n",
       "    </tr>\n",
       "    <tr>\n",
       "      <th>4</th>\n",
       "      <td>93130.0</td>\n",
       "      <td>6171.212121</td>\n",
       "    </tr>\n",
       "  </tbody>\n",
       "</table>\n",
       "</div>"
      ],
      "text/plain": [
       "   postal_code           p95\n",
       "0      93000.0   7913.684211\n",
       "1      93100.0  10056.962025\n",
       "2      93110.0   6209.340659\n",
       "3      93120.0   5208.333333\n",
       "4      93130.0   6171.212121"
      ]
     },
     "execution_count": 238,
     "metadata": {},
     "output_type": "execute_result"
    }
   ],
   "source": [
    "df_quantile = df_clean[['postal_code', 'price_per_m2']].groupby(by = df_clean.postal_code, as_index=False).quantile(.95)\n",
    "df_quantile.columns = ['postal_code', 'p95']\n",
    "df_quantile.head()"
   ]
  },
  {
   "cell_type": "code",
   "execution_count": 239,
   "id": "9ff846e9",
   "metadata": {},
   "outputs": [
    {
     "data": {
      "text/html": [
       "<div>\n",
       "<style scoped>\n",
       "    .dataframe tbody tr th:only-of-type {\n",
       "        vertical-align: middle;\n",
       "    }\n",
       "\n",
       "    .dataframe tbody tr th {\n",
       "        vertical-align: top;\n",
       "    }\n",
       "\n",
       "    .dataframe thead th {\n",
       "        text-align: right;\n",
       "    }\n",
       "</style>\n",
       "<table border=\"1\" class=\"dataframe\">\n",
       "  <thead>\n",
       "    <tr style=\"text-align: right;\">\n",
       "      <th></th>\n",
       "      <th>postal_code</th>\n",
       "      <th>p95</th>\n",
       "      <th>date</th>\n",
       "      <th>built</th>\n",
       "      <th>price</th>\n",
       "      <th>city</th>\n",
       "      <th>region</th>\n",
       "      <th>property_type</th>\n",
       "      <th>living_area</th>\n",
       "      <th>number_of_rooms</th>\n",
       "      <th>longitude</th>\n",
       "      <th>latitude</th>\n",
       "      <th>nb_of_dep</th>\n",
       "      <th>price_per_m2</th>\n",
       "    </tr>\n",
       "  </thead>\n",
       "  <tbody>\n",
       "    <tr>\n",
       "      <th>0</th>\n",
       "      <td>93000.0</td>\n",
       "      <td>7913.684211</td>\n",
       "      <td>2018-07-09</td>\n",
       "      <td>off-plan</td>\n",
       "      <td>252760.4</td>\n",
       "      <td>93008</td>\n",
       "      <td>93</td>\n",
       "      <td>appartment</td>\n",
       "      <td>64.0</td>\n",
       "      <td>3</td>\n",
       "      <td>2.413402</td>\n",
       "      <td>48.919067</td>\n",
       "      <td>1</td>\n",
       "      <td>3949.381250</td>\n",
       "    </tr>\n",
       "    <tr>\n",
       "      <th>1</th>\n",
       "      <td>93000.0</td>\n",
       "      <td>7913.684211</td>\n",
       "      <td>2018-07-11</td>\n",
       "      <td>off-plan</td>\n",
       "      <td>138000.0</td>\n",
       "      <td>93008</td>\n",
       "      <td>93</td>\n",
       "      <td>appartment</td>\n",
       "      <td>25.0</td>\n",
       "      <td>1</td>\n",
       "      <td>2.413402</td>\n",
       "      <td>48.919067</td>\n",
       "      <td>0</td>\n",
       "      <td>5520.000000</td>\n",
       "    </tr>\n",
       "    <tr>\n",
       "      <th>2</th>\n",
       "      <td>93000.0</td>\n",
       "      <td>7913.684211</td>\n",
       "      <td>2018-07-12</td>\n",
       "      <td>off-plan</td>\n",
       "      <td>228370.0</td>\n",
       "      <td>93008</td>\n",
       "      <td>93</td>\n",
       "      <td>appartment</td>\n",
       "      <td>61.0</td>\n",
       "      <td>3</td>\n",
       "      <td>2.457606</td>\n",
       "      <td>48.902013</td>\n",
       "      <td>1</td>\n",
       "      <td>3743.770492</td>\n",
       "    </tr>\n",
       "    <tr>\n",
       "      <th>3</th>\n",
       "      <td>93000.0</td>\n",
       "      <td>7913.684211</td>\n",
       "      <td>2018-07-05</td>\n",
       "      <td>built</td>\n",
       "      <td>127000.0</td>\n",
       "      <td>93008</td>\n",
       "      <td>93</td>\n",
       "      <td>appartment</td>\n",
       "      <td>45.0</td>\n",
       "      <td>2</td>\n",
       "      <td>2.442712</td>\n",
       "      <td>48.908689</td>\n",
       "      <td>1</td>\n",
       "      <td>2822.222222</td>\n",
       "    </tr>\n",
       "    <tr>\n",
       "      <th>4</th>\n",
       "      <td>93000.0</td>\n",
       "      <td>7913.684211</td>\n",
       "      <td>2018-07-06</td>\n",
       "      <td>off-plan</td>\n",
       "      <td>277000.0</td>\n",
       "      <td>93008</td>\n",
       "      <td>93</td>\n",
       "      <td>appartment</td>\n",
       "      <td>84.0</td>\n",
       "      <td>4</td>\n",
       "      <td>2.412198</td>\n",
       "      <td>48.916855</td>\n",
       "      <td>1</td>\n",
       "      <td>3297.619048</td>\n",
       "    </tr>\n",
       "  </tbody>\n",
       "</table>\n",
       "</div>"
      ],
      "text/plain": [
       "   postal_code          p95       date     built     price   city region  \\\n",
       "0      93000.0  7913.684211 2018-07-09  off-plan  252760.4  93008     93   \n",
       "1      93000.0  7913.684211 2018-07-11  off-plan  138000.0  93008     93   \n",
       "2      93000.0  7913.684211 2018-07-12  off-plan  228370.0  93008     93   \n",
       "3      93000.0  7913.684211 2018-07-05     built  127000.0  93008     93   \n",
       "4      93000.0  7913.684211 2018-07-06  off-plan  277000.0  93008     93   \n",
       "\n",
       "  property_type  living_area  number_of_rooms  longitude   latitude  \\\n",
       "0    appartment         64.0                3   2.413402  48.919067   \n",
       "1    appartment         25.0                1   2.413402  48.919067   \n",
       "2    appartment         61.0                3   2.457606  48.902013   \n",
       "3    appartment         45.0                2   2.442712  48.908689   \n",
       "4    appartment         84.0                4   2.412198  48.916855   \n",
       "\n",
       "   nb_of_dep  price_per_m2  \n",
       "0          1   3949.381250  \n",
       "1          0   5520.000000  \n",
       "2          1   3743.770492  \n",
       "3          1   2822.222222  \n",
       "4          1   3297.619048  "
      ]
     },
     "execution_count": 239,
     "metadata": {},
     "output_type": "execute_result"
    }
   ],
   "source": [
    "df_clean_merged = df_quantile.merge(right = df_clean, on = 'postal_code')\n",
    "df_clean_merged.head()"
   ]
  },
  {
   "cell_type": "code",
   "execution_count": 240,
   "id": "b301b3df",
   "metadata": {},
   "outputs": [
    {
     "data": {
      "text/plain": [
       "(36064, 14)"
      ]
     },
     "execution_count": 240,
     "metadata": {},
     "output_type": "execute_result"
    }
   ],
   "source": [
    "df_clean_merged.shape"
   ]
  },
  {
   "cell_type": "code",
   "execution_count": 250,
   "id": "272ce048",
   "metadata": {},
   "outputs": [],
   "source": [
    "# drop the outliers\n",
    "mask_outliers = (df_clean_merged.price_per_m2 < df_clean_merged.p95)\n",
    "df_without_outliers = df_clean_merged[mask_outliers]"
   ]
  },
  {
   "cell_type": "code",
   "execution_count": 251,
   "id": "1b1e88c1",
   "metadata": {},
   "outputs": [
    {
     "data": {
      "text/plain": [
       "((36064, 14), (34241, 14))"
      ]
     },
     "execution_count": 251,
     "metadata": {},
     "output_type": "execute_result"
    }
   ],
   "source": [
    "df_clean_merged.shape, df_without_outliers.shape"
   ]
  },
  {
   "cell_type": "code",
   "execution_count": 243,
   "id": "ac2adeb7",
   "metadata": {},
   "outputs": [],
   "source": [
    "# def filter_top_4_percent(df, column_name):\n",
    "#     threshold = df[column_name].quantile(0.96)\n",
    "#     return df[df[column_name] <= threshold]\n",
    "\n",
    "# df_without_outliers_2 = filter_top_4_percent(df_clean_merged, '')"
   ]
  },
  {
   "cell_type": "code",
   "execution_count": 252,
   "id": "01d50600",
   "metadata": {},
   "outputs": [
    {
     "data": {
      "text/plain": [
       "0.949450976042591"
      ]
     },
     "execution_count": 252,
     "metadata": {},
     "output_type": "execute_result"
    }
   ],
   "source": [
    "df_without_outliers.shape[0]/df_clean_merged.shape[0]"
   ]
  },
  {
   "cell_type": "code",
   "execution_count": 245,
   "id": "19f552a2",
   "metadata": {},
   "outputs": [
    {
     "data": {
      "text/html": [
       "<div>\n",
       "<style scoped>\n",
       "    .dataframe tbody tr th:only-of-type {\n",
       "        vertical-align: middle;\n",
       "    }\n",
       "\n",
       "    .dataframe tbody tr th {\n",
       "        vertical-align: top;\n",
       "    }\n",
       "\n",
       "    .dataframe thead th {\n",
       "        text-align: right;\n",
       "    }\n",
       "</style>\n",
       "<table border=\"1\" class=\"dataframe\">\n",
       "  <thead>\n",
       "    <tr style=\"text-align: right;\">\n",
       "      <th></th>\n",
       "      <th>postal_code</th>\n",
       "      <th>p95</th>\n",
       "      <th>date</th>\n",
       "      <th>built</th>\n",
       "      <th>price</th>\n",
       "      <th>city</th>\n",
       "      <th>region</th>\n",
       "      <th>property_type</th>\n",
       "      <th>living_area</th>\n",
       "      <th>number_of_rooms</th>\n",
       "      <th>longitude</th>\n",
       "      <th>latitude</th>\n",
       "      <th>nb_of_dep</th>\n",
       "      <th>price_per_m2</th>\n",
       "    </tr>\n",
       "  </thead>\n",
       "  <tbody>\n",
       "    <tr>\n",
       "      <th>0</th>\n",
       "      <td>93000.0</td>\n",
       "      <td>7913.684211</td>\n",
       "      <td>2018-07-09</td>\n",
       "      <td>off-plan</td>\n",
       "      <td>252760.4</td>\n",
       "      <td>93008</td>\n",
       "      <td>93</td>\n",
       "      <td>appartment</td>\n",
       "      <td>64.0</td>\n",
       "      <td>3</td>\n",
       "      <td>2.413402</td>\n",
       "      <td>48.919067</td>\n",
       "      <td>1</td>\n",
       "      <td>3949.381250</td>\n",
       "    </tr>\n",
       "    <tr>\n",
       "      <th>1</th>\n",
       "      <td>93000.0</td>\n",
       "      <td>7913.684211</td>\n",
       "      <td>2018-07-11</td>\n",
       "      <td>off-plan</td>\n",
       "      <td>138000.0</td>\n",
       "      <td>93008</td>\n",
       "      <td>93</td>\n",
       "      <td>appartment</td>\n",
       "      <td>25.0</td>\n",
       "      <td>1</td>\n",
       "      <td>2.413402</td>\n",
       "      <td>48.919067</td>\n",
       "      <td>0</td>\n",
       "      <td>5520.000000</td>\n",
       "    </tr>\n",
       "    <tr>\n",
       "      <th>2</th>\n",
       "      <td>93000.0</td>\n",
       "      <td>7913.684211</td>\n",
       "      <td>2018-07-12</td>\n",
       "      <td>off-plan</td>\n",
       "      <td>228370.0</td>\n",
       "      <td>93008</td>\n",
       "      <td>93</td>\n",
       "      <td>appartment</td>\n",
       "      <td>61.0</td>\n",
       "      <td>3</td>\n",
       "      <td>2.457606</td>\n",
       "      <td>48.902013</td>\n",
       "      <td>1</td>\n",
       "      <td>3743.770492</td>\n",
       "    </tr>\n",
       "    <tr>\n",
       "      <th>3</th>\n",
       "      <td>93000.0</td>\n",
       "      <td>7913.684211</td>\n",
       "      <td>2018-07-05</td>\n",
       "      <td>built</td>\n",
       "      <td>127000.0</td>\n",
       "      <td>93008</td>\n",
       "      <td>93</td>\n",
       "      <td>appartment</td>\n",
       "      <td>45.0</td>\n",
       "      <td>2</td>\n",
       "      <td>2.442712</td>\n",
       "      <td>48.908689</td>\n",
       "      <td>1</td>\n",
       "      <td>2822.222222</td>\n",
       "    </tr>\n",
       "    <tr>\n",
       "      <th>4</th>\n",
       "      <td>93000.0</td>\n",
       "      <td>7913.684211</td>\n",
       "      <td>2018-07-06</td>\n",
       "      <td>off-plan</td>\n",
       "      <td>277000.0</td>\n",
       "      <td>93008</td>\n",
       "      <td>93</td>\n",
       "      <td>appartment</td>\n",
       "      <td>84.0</td>\n",
       "      <td>4</td>\n",
       "      <td>2.412198</td>\n",
       "      <td>48.916855</td>\n",
       "      <td>1</td>\n",
       "      <td>3297.619048</td>\n",
       "    </tr>\n",
       "  </tbody>\n",
       "</table>\n",
       "</div>"
      ],
      "text/plain": [
       "   postal_code          p95       date     built     price   city region  \\\n",
       "0      93000.0  7913.684211 2018-07-09  off-plan  252760.4  93008     93   \n",
       "1      93000.0  7913.684211 2018-07-11  off-plan  138000.0  93008     93   \n",
       "2      93000.0  7913.684211 2018-07-12  off-plan  228370.0  93008     93   \n",
       "3      93000.0  7913.684211 2018-07-05     built  127000.0  93008     93   \n",
       "4      93000.0  7913.684211 2018-07-06  off-plan  277000.0  93008     93   \n",
       "\n",
       "  property_type  living_area  number_of_rooms  longitude   latitude  \\\n",
       "0    appartment         64.0                3   2.413402  48.919067   \n",
       "1    appartment         25.0                1   2.413402  48.919067   \n",
       "2    appartment         61.0                3   2.457606  48.902013   \n",
       "3    appartment         45.0                2   2.442712  48.908689   \n",
       "4    appartment         84.0                4   2.412198  48.916855   \n",
       "\n",
       "   nb_of_dep  price_per_m2  \n",
       "0          1   3949.381250  \n",
       "1          0   5520.000000  \n",
       "2          1   3743.770492  \n",
       "3          1   2822.222222  \n",
       "4          1   3297.619048  "
      ]
     },
     "execution_count": 245,
     "metadata": {},
     "output_type": "execute_result"
    }
   ],
   "source": [
    "df_without_outliers.head()"
   ]
  },
  {
   "cell_type": "code",
   "execution_count": 246,
   "id": "530ed7d4",
   "metadata": {},
   "outputs": [
    {
     "data": {
      "text/html": [
       "<div>\n",
       "<style scoped>\n",
       "    .dataframe tbody tr th:only-of-type {\n",
       "        vertical-align: middle;\n",
       "    }\n",
       "\n",
       "    .dataframe tbody tr th {\n",
       "        vertical-align: top;\n",
       "    }\n",
       "\n",
       "    .dataframe thead th {\n",
       "        text-align: right;\n",
       "    }\n",
       "</style>\n",
       "<table border=\"1\" class=\"dataframe\">\n",
       "  <thead>\n",
       "    <tr style=\"text-align: right;\">\n",
       "      <th></th>\n",
       "      <th>postal_code</th>\n",
       "      <th>p95</th>\n",
       "      <th>date</th>\n",
       "      <th>built</th>\n",
       "      <th>price</th>\n",
       "      <th>city</th>\n",
       "      <th>region</th>\n",
       "      <th>property_type</th>\n",
       "      <th>living_area</th>\n",
       "      <th>number_of_rooms</th>\n",
       "      <th>longitude</th>\n",
       "      <th>latitude</th>\n",
       "      <th>nb_of_dep</th>\n",
       "      <th>price_per_m2</th>\n",
       "    </tr>\n",
       "  </thead>\n",
       "  <tbody>\n",
       "    <tr>\n",
       "      <th>0</th>\n",
       "      <td>93000.0</td>\n",
       "      <td>7913.684211</td>\n",
       "      <td>2018-07-09</td>\n",
       "      <td>off-plan</td>\n",
       "      <td>252760.4</td>\n",
       "      <td>93008</td>\n",
       "      <td>93</td>\n",
       "      <td>appartment</td>\n",
       "      <td>64.0</td>\n",
       "      <td>3</td>\n",
       "      <td>2.413402</td>\n",
       "      <td>48.919067</td>\n",
       "      <td>1</td>\n",
       "      <td>3949.381250</td>\n",
       "    </tr>\n",
       "    <tr>\n",
       "      <th>1</th>\n",
       "      <td>93000.0</td>\n",
       "      <td>7913.684211</td>\n",
       "      <td>2018-07-11</td>\n",
       "      <td>off-plan</td>\n",
       "      <td>138000.0</td>\n",
       "      <td>93008</td>\n",
       "      <td>93</td>\n",
       "      <td>appartment</td>\n",
       "      <td>25.0</td>\n",
       "      <td>1</td>\n",
       "      <td>2.413402</td>\n",
       "      <td>48.919067</td>\n",
       "      <td>0</td>\n",
       "      <td>5520.000000</td>\n",
       "    </tr>\n",
       "    <tr>\n",
       "      <th>2</th>\n",
       "      <td>93000.0</td>\n",
       "      <td>7913.684211</td>\n",
       "      <td>2018-07-12</td>\n",
       "      <td>off-plan</td>\n",
       "      <td>228370.0</td>\n",
       "      <td>93008</td>\n",
       "      <td>93</td>\n",
       "      <td>appartment</td>\n",
       "      <td>61.0</td>\n",
       "      <td>3</td>\n",
       "      <td>2.457606</td>\n",
       "      <td>48.902013</td>\n",
       "      <td>1</td>\n",
       "      <td>3743.770492</td>\n",
       "    </tr>\n",
       "    <tr>\n",
       "      <th>3</th>\n",
       "      <td>93000.0</td>\n",
       "      <td>7913.684211</td>\n",
       "      <td>2018-07-05</td>\n",
       "      <td>built</td>\n",
       "      <td>127000.0</td>\n",
       "      <td>93008</td>\n",
       "      <td>93</td>\n",
       "      <td>appartment</td>\n",
       "      <td>45.0</td>\n",
       "      <td>2</td>\n",
       "      <td>2.442712</td>\n",
       "      <td>48.908689</td>\n",
       "      <td>1</td>\n",
       "      <td>2822.222222</td>\n",
       "    </tr>\n",
       "    <tr>\n",
       "      <th>4</th>\n",
       "      <td>93000.0</td>\n",
       "      <td>7913.684211</td>\n",
       "      <td>2018-07-06</td>\n",
       "      <td>off-plan</td>\n",
       "      <td>277000.0</td>\n",
       "      <td>93008</td>\n",
       "      <td>93</td>\n",
       "      <td>appartment</td>\n",
       "      <td>84.0</td>\n",
       "      <td>4</td>\n",
       "      <td>2.412198</td>\n",
       "      <td>48.916855</td>\n",
       "      <td>1</td>\n",
       "      <td>3297.619048</td>\n",
       "    </tr>\n",
       "  </tbody>\n",
       "</table>\n",
       "</div>"
      ],
      "text/plain": [
       "   postal_code          p95       date     built     price   city region  \\\n",
       "0      93000.0  7913.684211 2018-07-09  off-plan  252760.4  93008     93   \n",
       "1      93000.0  7913.684211 2018-07-11  off-plan  138000.0  93008     93   \n",
       "2      93000.0  7913.684211 2018-07-12  off-plan  228370.0  93008     93   \n",
       "3      93000.0  7913.684211 2018-07-05     built  127000.0  93008     93   \n",
       "4      93000.0  7913.684211 2018-07-06  off-plan  277000.0  93008     93   \n",
       "\n",
       "  property_type  living_area  number_of_rooms  longitude   latitude  \\\n",
       "0    appartment         64.0                3   2.413402  48.919067   \n",
       "1    appartment         25.0                1   2.413402  48.919067   \n",
       "2    appartment         61.0                3   2.457606  48.902013   \n",
       "3    appartment         45.0                2   2.442712  48.908689   \n",
       "4    appartment         84.0                4   2.412198  48.916855   \n",
       "\n",
       "   nb_of_dep  price_per_m2  \n",
       "0          1   3949.381250  \n",
       "1          0   5520.000000  \n",
       "2          1   3743.770492  \n",
       "3          1   2822.222222  \n",
       "4          1   3297.619048  "
      ]
     },
     "execution_count": 246,
     "metadata": {},
     "output_type": "execute_result"
    }
   ],
   "source": [
    "df_clean_merged.head()"
   ]
  },
  {
   "cell_type": "code",
   "execution_count": 247,
   "id": "72a81084",
   "metadata": {},
   "outputs": [
    {
     "data": {
      "text/plain": [
       "28954    1.106875e+06\n",
       "29233    1.085340e+06\n",
       "8951     4.300000e+05\n",
       "21223    4.198361e+05\n",
       "13773    3.100000e+05\n",
       "29227    3.050948e+05\n",
       "28569    2.916667e+05\n",
       "2299     2.850000e+05\n",
       "195      2.739388e+05\n",
       "10349    2.452875e+05\n",
       "21381    1.800000e+05\n",
       "21942    1.714286e+05\n",
       "13711    1.687500e+05\n",
       "15080    1.674100e+05\n",
       "32487    1.587500e+05\n",
       "24240    1.472500e+05\n",
       "5558     1.217105e+05\n",
       "10452    1.154593e+05\n",
       "1643     1.065900e+05\n",
       "13778    9.588579e+04\n",
       "Name: price_per_m2, dtype: float64"
      ]
     },
     "execution_count": 247,
     "metadata": {},
     "output_type": "execute_result"
    }
   ],
   "source": [
    "df_clean_merged.price_per_m2.sort_values(ascending = False).head(20)"
   ]
  },
  {
   "cell_type": "code",
   "execution_count": 248,
   "id": "252e7359",
   "metadata": {},
   "outputs": [
    {
     "data": {
      "text/plain": [
       "938      10000.000000\n",
       "2285     10000.000000\n",
       "2119     10000.000000\n",
       "1187     10000.000000\n",
       "1182      9993.789474\n",
       "3188      9961.538462\n",
       "2306      9955.357143\n",
       "829       9944.444444\n",
       "2215      9925.373134\n",
       "1567      9903.846154\n",
       "1548      9895.833333\n",
       "2014      9894.736842\n",
       "1911      9890.625000\n",
       "19259     9887.640449\n",
       "2349      9873.333333\n",
       "3330      9852.941176\n",
       "1985      9838.709677\n",
       "882       9814.814815\n",
       "1691      9814.814815\n",
       "2638      9814.814815\n",
       "3010      9814.526316\n",
       "2089      9808.823529\n",
       "1065      9800.000000\n",
       "1717      9797.101449\n",
       "1610      9790.322581\n",
       "3199      9750.000000\n",
       "19228     9740.259740\n",
       "877       9716.346154\n",
       "2105      9704.347826\n",
       "2810      9701.492537\n",
       "Name: price_per_m2, dtype: float64"
      ]
     },
     "execution_count": 248,
     "metadata": {},
     "output_type": "execute_result"
    }
   ],
   "source": [
    "df_without_outliers.price_per_m2.sort_values(ascending = False).head(30)"
   ]
  },
  {
   "cell_type": "code",
   "execution_count": 259,
   "id": "7c720ec9",
   "metadata": {},
   "outputs": [],
   "source": [
    "# drop p95\n",
    "df_without_outliers = df_without_outliers.drop(columns=['p95', 'price_per_m2'])"
   ]
  },
  {
   "cell_type": "code",
   "execution_count": 260,
   "id": "4ee61dd8",
   "metadata": {},
   "outputs": [
    {
     "name": "stdout",
     "output_type": "stream",
     "text": [
      "<class 'pandas.core.frame.DataFrame'>\n",
      "Int64Index: 34241 entries, 0 to 36062\n",
      "Data columns (total 12 columns):\n",
      " #   Column           Non-Null Count  Dtype         \n",
      "---  ------           --------------  -----         \n",
      " 0   postal_code      34241 non-null  float64       \n",
      " 1   date             34241 non-null  datetime64[ns]\n",
      " 2   built            34241 non-null  object        \n",
      " 3   price            34241 non-null  float64       \n",
      " 4   city             34241 non-null  object        \n",
      " 5   region           34241 non-null  object        \n",
      " 6   property_type    34241 non-null  object        \n",
      " 7   living_area      34241 non-null  float64       \n",
      " 8   number_of_rooms  34241 non-null  int64         \n",
      " 9   longitude        34241 non-null  float64       \n",
      " 10  latitude         34241 non-null  float64       \n",
      " 11  nb_of_dep        34241 non-null  int64         \n",
      "dtypes: datetime64[ns](1), float64(5), int64(2), object(4)\n",
      "memory usage: 3.4+ MB\n"
     ]
    }
   ],
   "source": [
    "df_without_outliers.info()"
   ]
  },
  {
   "cell_type": "code",
   "execution_count": 275,
   "id": "589948a0",
   "metadata": {},
   "outputs": [
    {
     "data": {
      "text/plain": [
       "((35682, 12), (34241, 12))"
      ]
     },
     "execution_count": 275,
     "metadata": {},
     "output_type": "execute_result"
    }
   ],
   "source": [
    "# check if function is working :\n",
    "import sys\n",
    "sys.path.append('/home/anouchka/code/qadnguyen/realdata')\n",
    "from prop_value.ml_logic.preprocessor import clean_data\n",
    "\n",
    "clean_data(df_93_raw, percentile = 0.99).shape, df_without_outliers.shape"
   ]
  },
  {
   "cell_type": "markdown",
   "id": "e6f80393",
   "metadata": {},
   "source": [
    "## ✨ data.py : clean_data + download_csv"
   ]
  },
  {
   "cell_type": "code",
   "execution_count": null,
   "id": "b8e5f837",
   "metadata": {},
   "outputs": [],
   "source": []
  },
  {
   "cell_type": "markdown",
   "id": "36445e3e",
   "metadata": {},
   "source": [
    "# 🐧 Modelling"
   ]
  },
  {
   "cell_type": "markdown",
   "id": "38bbf140",
   "metadata": {},
   "source": [
    "## 🔎 Exploring some more"
   ]
  },
  {
   "cell_type": "code",
   "execution_count": 139,
   "id": "11c76621",
   "metadata": {},
   "outputs": [
    {
     "data": {
      "text/plain": [
       "Index(['date', 'built', 'price', 'postal_code', 'city', 'region',\n",
       "       'property_type', 'living_area', 'number_of_rooms', 'longitude',\n",
       "       'latitude', 'nb_of_dep'],\n",
       "      dtype='object')"
      ]
     },
     "execution_count": 139,
     "metadata": {},
     "output_type": "execute_result"
    }
   ],
   "source": [
    "df_clean.columns"
   ]
  },
  {
   "cell_type": "code",
   "execution_count": 140,
   "id": "62f070dd",
   "metadata": {},
   "outputs": [],
   "source": [
    "# df_cleaned.shape # (1029674, 12)"
   ]
  },
  {
   "cell_type": "code",
   "execution_count": 141,
   "id": "2ce4c5be",
   "metadata": {},
   "outputs": [],
   "source": [
    "# df_cleaned[mask_price].shape # (1027158, 12)"
   ]
  },
  {
   "cell_type": "code",
   "execution_count": 142,
   "id": "4f061297",
   "metadata": {},
   "outputs": [],
   "source": [
    "import matplotlib.pyplot as plt"
   ]
  },
  {
   "cell_type": "code",
   "execution_count": 143,
   "id": "c0bc5661",
   "metadata": {},
   "outputs": [
    {
     "data": {
      "image/png": "[encoded data removed]",
      "text/plain": [
       "<Figure size 1200x500 with 1 Axes>"
      ]
     },
     "metadata": {},
     "output_type": "display_data"
    }
   ],
   "source": [
    "plt.figure(figsize = (12,5))\n",
    "sns.scatterplot(df_clean['living_area'], df_clean['price'],hue = df_clean['property_type'],alpha = 0.5)\n",
    "plt.show()"
   ]
  },
  {
   "cell_type": "code",
   "execution_count": 183,
   "id": "700e8e3e",
   "metadata": {},
   "outputs": [
    {
     "data": {
      "text/plain": [
       "<AxesSubplot:xlabel='price'>"
      ]
     },
     "execution_count": 183,
     "metadata": {},
     "output_type": "execute_result"
    },
    {
     "data": {
      "image/png": "[encoded data removed]",
      "text/plain": [
       "<Figure size 1200x400 with 1 Axes>"
      ]
     },
     "metadata": {},
     "output_type": "display_data"
    }
   ],
   "source": [
    "plt.figure(figsize = (12,4))\n",
    "sns.boxplot(df_clean.price)"
   ]
  },
  {
   "cell_type": "code",
   "execution_count": 144,
   "id": "74f34752",
   "metadata": {},
   "outputs": [
    {
     "data": {
      "text/html": [
       "<div>\n",
       "<style scoped>\n",
       "    .dataframe tbody tr th:only-of-type {\n",
       "        vertical-align: middle;\n",
       "    }\n",
       "\n",
       "    .dataframe tbody tr th {\n",
       "        vertical-align: top;\n",
       "    }\n",
       "\n",
       "    .dataframe thead th {\n",
       "        text-align: right;\n",
       "    }\n",
       "</style>\n",
       "<table border=\"1\" class=\"dataframe\">\n",
       "  <thead>\n",
       "    <tr style=\"text-align: right;\">\n",
       "      <th></th>\n",
       "      <th>date</th>\n",
       "      <th>built</th>\n",
       "      <th>price</th>\n",
       "      <th>postal_code</th>\n",
       "      <th>city</th>\n",
       "      <th>region</th>\n",
       "      <th>property_type</th>\n",
       "      <th>living_area</th>\n",
       "      <th>number_of_rooms</th>\n",
       "      <th>longitude</th>\n",
       "      <th>latitude</th>\n",
       "      <th>nb_of_dep</th>\n",
       "    </tr>\n",
       "  </thead>\n",
       "  <tbody>\n",
       "    <tr>\n",
       "      <th>378</th>\n",
       "      <td>2018-07-09</td>\n",
       "      <td>built</td>\n",
       "      <td>305000.00</td>\n",
       "      <td>93310</td>\n",
       "      <td>93061</td>\n",
       "      <td>93</td>\n",
       "      <td>appartment</td>\n",
       "      <td>81.0</td>\n",
       "      <td>4</td>\n",
       "      <td>2.406018</td>\n",
       "      <td>48.881710</td>\n",
       "      <td>1</td>\n",
       "    </tr>\n",
       "    <tr>\n",
       "      <th>385</th>\n",
       "      <td>2018-07-11</td>\n",
       "      <td>off-plan</td>\n",
       "      <td>272000.00</td>\n",
       "      <td>93170</td>\n",
       "      <td>93006</td>\n",
       "      <td>93</td>\n",
       "      <td>appartment</td>\n",
       "      <td>71.0</td>\n",
       "      <td>4</td>\n",
       "      <td>2.427005</td>\n",
       "      <td>48.873193</td>\n",
       "      <td>1</td>\n",
       "    </tr>\n",
       "    <tr>\n",
       "      <th>387</th>\n",
       "      <td>2018-07-03</td>\n",
       "      <td>off-plan</td>\n",
       "      <td>214000.00</td>\n",
       "      <td>93170</td>\n",
       "      <td>93006</td>\n",
       "      <td>93</td>\n",
       "      <td>appartment</td>\n",
       "      <td>58.0</td>\n",
       "      <td>3</td>\n",
       "      <td>2.434780</td>\n",
       "      <td>48.877092</td>\n",
       "      <td>1</td>\n",
       "    </tr>\n",
       "    <tr>\n",
       "      <th>388</th>\n",
       "      <td>2018-07-19</td>\n",
       "      <td>built</td>\n",
       "      <td>218285.28</td>\n",
       "      <td>93700</td>\n",
       "      <td>93029</td>\n",
       "      <td>93</td>\n",
       "      <td>house</td>\n",
       "      <td>77.0</td>\n",
       "      <td>6</td>\n",
       "      <td>2.452531</td>\n",
       "      <td>48.935019</td>\n",
       "      <td>0</td>\n",
       "    </tr>\n",
       "    <tr>\n",
       "      <th>389</th>\n",
       "      <td>2018-07-09</td>\n",
       "      <td>off-plan</td>\n",
       "      <td>252760.40</td>\n",
       "      <td>93000</td>\n",
       "      <td>93008</td>\n",
       "      <td>93</td>\n",
       "      <td>appartment</td>\n",
       "      <td>64.0</td>\n",
       "      <td>3</td>\n",
       "      <td>2.413402</td>\n",
       "      <td>48.919067</td>\n",
       "      <td>1</td>\n",
       "    </tr>\n",
       "  </tbody>\n",
       "</table>\n",
       "</div>"
      ],
      "text/plain": [
       "          date     built      price  postal_code   city region property_type  \\\n",
       "378 2018-07-09     built  305000.00        93310  93061     93    appartment   \n",
       "385 2018-07-11  off-plan  272000.00        93170  93006     93    appartment   \n",
       "387 2018-07-03  off-plan  214000.00        93170  93006     93    appartment   \n",
       "388 2018-07-19     built  218285.28        93700  93029     93         house   \n",
       "389 2018-07-09  off-plan  252760.40        93000  93008     93    appartment   \n",
       "\n",
       "     living_area  number_of_rooms  longitude   latitude  nb_of_dep  \n",
       "378         81.0                4   2.406018  48.881710          1  \n",
       "385         71.0                4   2.427005  48.873193          1  \n",
       "387         58.0                3   2.434780  48.877092          1  \n",
       "388         77.0                6   2.452531  48.935019          0  \n",
       "389         64.0                3   2.413402  48.919067          1  "
      ]
     },
     "execution_count": 144,
     "metadata": {},
     "output_type": "execute_result"
    }
   ],
   "source": [
    "df_clean.head()"
   ]
  },
  {
   "cell_type": "code",
   "execution_count": 253,
   "id": "1bf498ae",
   "metadata": {},
   "outputs": [
    {
     "data": {
      "image/png": "[encoded data removed]",
      "text/plain": [
       "<Figure size 1200x500 with 1 Axes>"
      ]
     },
     "metadata": {},
     "output_type": "display_data"
    }
   ],
   "source": [
    "# fig, axs = plt.subplots(1, 2, figsize=(12, 5))  # 1 row, 2 columns\n",
    "# mask_price = df_clean['price']<2000000 #smaller than 2 milion\n",
    "# mask_area = df_clean['living_area']<500 # smaller than 500 sq meters\n",
    "# df_without_outliers = df_clean[mask_price & mask_area]\n",
    "\n",
    "# Plot Living area vs Sale price\n",
    "plt.figure(figsize = (12,5))\n",
    "sns.scatterplot(df_without_outliers['living_area'], df_without_outliers['price'],hue = df_without_outliers['property_type'],alpha = 0.5)\n",
    "plt.show()"
   ]
  },
  {
   "cell_type": "code",
   "execution_count": 254,
   "id": "395080a3",
   "metadata": {},
   "outputs": [
    {
     "data": {
      "text/plain": [
       "appartment    25632\n",
       "house          8609\n",
       "Name: property_type, dtype: int64"
      ]
     },
     "execution_count": 254,
     "metadata": {},
     "output_type": "execute_result"
    }
   ],
   "source": [
    "df_without_outliers['property_type'].value_counts()"
   ]
  },
  {
   "cell_type": "code",
   "execution_count": 255,
   "id": "e7cac19d",
   "metadata": {},
   "outputs": [
    {
     "data": {
      "text/plain": [
       "<AxesSubplot:>"
      ]
     },
     "execution_count": 255,
     "metadata": {},
     "output_type": "execute_result"
    },
    {
     "data": {
      "image/png": "[encoded data removed]",
      "text/plain": [
       "<Figure size 640x480 with 2 Axes>"
      ]
     },
     "metadata": {},
     "output_type": "display_data"
    }
   ],
   "source": [
    "sns.heatmap(df_without_outliers.corr(), cmap = 'vlag', annot = True)"
   ]
  },
  {
   "cell_type": "code",
   "execution_count": 148,
   "id": "54ee94c8",
   "metadata": {},
   "outputs": [
    {
     "name": "stdout",
     "output_type": "stream",
     "text": [
      "<class 'pandas.core.frame.DataFrame'>\n",
      "Int64Index: 36018 entries, 378 to 201417\n",
      "Data columns (total 12 columns):\n",
      " #   Column           Non-Null Count  Dtype         \n",
      "---  ------           --------------  -----         \n",
      " 0   date             36018 non-null  datetime64[ns]\n",
      " 1   built            36018 non-null  object        \n",
      " 2   price            36018 non-null  float64       \n",
      " 3   postal_code      36018 non-null  int64         \n",
      " 4   city             36018 non-null  object        \n",
      " 5   region           36018 non-null  object        \n",
      " 6   property_type    36018 non-null  object        \n",
      " 7   living_area      36018 non-null  float64       \n",
      " 8   number_of_rooms  36018 non-null  int64         \n",
      " 9   longitude        36018 non-null  float64       \n",
      " 10  latitude         36018 non-null  float64       \n",
      " 11  nb_of_dep        36018 non-null  int64         \n",
      "dtypes: datetime64[ns](1), float64(4), int64(3), object(4)\n",
      "memory usage: 3.6+ MB\n"
     ]
    }
   ],
   "source": [
    "df_without_outliers.info()"
   ]
  },
  {
   "cell_type": "markdown",
   "id": "863b4937",
   "metadata": {},
   "source": [
    "## Take a look at the final data"
   ]
  },
  {
   "cell_type": "code",
   "execution_count": null,
   "id": "d1f7130f",
   "metadata": {},
   "outputs": [],
   "source": []
  },
  {
   "cell_type": "markdown",
   "id": "84878fc1",
   "metadata": {},
   "source": [
    "## 🐟 Naive baseline model"
   ]
  },
  {
   "cell_type": "code",
   "execution_count": 150,
   "id": "b5095002",
   "metadata": {},
   "outputs": [],
   "source": [
    "from sklearn.model_selection import train_test_split"
   ]
  },
  {
   "cell_type": "code",
   "execution_count": 151,
   "id": "5af0a18e",
   "metadata": {},
   "outputs": [],
   "source": [
    "mask_price = df_clean['price'] <2000000\n",
    "df_without_outliers = df_clean[mask_price]"
   ]
  },
  {
   "cell_type": "code",
   "execution_count": 152,
   "id": "31cdeb41",
   "metadata": {},
   "outputs": [],
   "source": [
    "X = df_without_outliers.drop(columns=['price'])\n",
    "y = df_without_outliers['price']\n",
    "\n",
    "X_train, X_test, y_train, y_test = train_test_split(X, y, test_size=0.2)"
   ]
  },
  {
   "cell_type": "code",
   "execution_count": 153,
   "id": "c4f99138",
   "metadata": {},
   "outputs": [],
   "source": [
    "# plt.figure(figsize=(12,4))\n",
    "# sns.boxplot(y)\n"
   ]
  },
  {
   "cell_type": "code",
   "execution_count": 154,
   "id": "913f0497",
   "metadata": {},
   "outputs": [
    {
     "name": "stdout",
     "output_type": "stream",
     "text": [
      "The mean price of 262314 €\n",
      "The median price of 230000 €\n"
     ]
    }
   ],
   "source": [
    "mean_price = y_train.mean()\n",
    "print(f\"The mean price of {round(mean_price)} €\")\n",
    "\n",
    "median_price = y_train.median()\n",
    "print(f\"The median price of {round(median_price)} €\")"
   ]
  },
  {
   "cell_type": "code",
   "execution_count": 155,
   "id": "af9ff835",
   "metadata": {},
   "outputs": [
    {
     "name": "stdout",
     "output_type": "stream",
     "text": [
      "The rmse when always predicting the mean : 159387 €.\n"
     ]
    }
   ],
   "source": [
    "mean_error = y_test - mean_price\n",
    "rmse_mean = ((mean_error**2).mean())**(1/2)\n",
    "print(f'The rmse when always predicting the mean : {round(rmse_mean)} €.')"
   ]
  },
  {
   "cell_type": "code",
   "execution_count": 156,
   "id": "5debc0ce",
   "metadata": {},
   "outputs": [
    {
     "name": "stdout",
     "output_type": "stream",
     "text": [
      "The rmse when always predicting the median : 162545 €.\n"
     ]
    }
   ],
   "source": [
    "median_error = y_test - median_price\n",
    "rmse_median = ((median_error**2).mean())**(1/2)\n",
    "print(f'The rmse when always predicting the median : {round(rmse_median)} €.')"
   ]
  },
  {
   "cell_type": "markdown",
   "id": "7d6c29d0",
   "metadata": {},
   "source": [
    "## 🐸 Model"
   ]
  },
  {
   "cell_type": "markdown",
   "id": "1adedbdb",
   "metadata": {},
   "source": [
    "## 💢 encode the data"
   ]
  },
  {
   "cell_type": "code",
   "execution_count": 261,
   "id": "384d06ea",
   "metadata": {},
   "outputs": [],
   "source": [
    "import sys\n",
    "sys.path.append('/home/anouchka/code/qadnguyen/realdata')\n",
    "from prop_value.ml_logic.preprocessor import preprocess_data\n",
    "X_train_preproc, X_test_preproc, y_train, y_test, X_all, y_all, df_full = preprocess_data(df_without_outliers)"
   ]
  },
  {
   "cell_type": "code",
   "execution_count": 158,
   "id": "9c0541f0",
   "metadata": {},
   "outputs": [],
   "source": [
    "# model-specific imports\n",
    "from sklearn.model_selection import train_test_split\n",
    "from sklearn.preprocessing import StandardScaler\n",
    "from sklearn.metrics import mean_squared_error\n",
    "from sklearn.model_selection import validation_curve\n",
    "from sklearn.model_selection import GridSearchCV\n",
    "from sklearn.model_selection import KFold\n",
    "from sklearn.model_selection import cross_val_score\n"
   ]
  },
  {
   "cell_type": "markdown",
   "id": "2d6477e3",
   "metadata": {},
   "source": [
    "## 🌳 RandomForest on data without outliers (df_without_ouliers)"
   ]
  },
  {
   "cell_type": "code",
   "execution_count": 262,
   "id": "f7fc8c8b",
   "metadata": {},
   "outputs": [
    {
     "name": "stdout",
     "output_type": "stream",
     "text": [
      "Root Mean Squared Error: 67489.45806188209\n",
      "Train score (R²): 0.7688372081705639\n",
      "Cross val score mean (R²) 0.7767432504419273\n"
     ]
    }
   ],
   "source": [
    "from sklearn.ensemble import RandomForestRegressor\n",
    "model_rfr = RandomForestRegressor()\n",
    "\n",
    "model_rfr.fit(X_train_preproc, y_train)\n",
    "y_pred = model_rfr.predict(X_test_preproc)\n",
    "mse = mean_squared_error(y_test, y_pred)\n",
    "rmse = mse**(1/2)\n",
    "print(f'Root Mean Squared Error: {rmse}')\n",
    "print( 'Train score (R²):', model_rfr.score(X_test_preproc, y_test))\n",
    "print('Cross val score mean (R²)', cross_val_score(model_rfr, X_all, y_all, cv = 5).mean())"
   ]
  },
  {
   "cell_type": "markdown",
   "id": "bb49a858",
   "metadata": {},
   "source": [
    "## 🪃 XGBoost on data without outliers (df_without_outliers)"
   ]
  },
  {
   "cell_type": "code",
   "execution_count": 263,
   "id": "f1379dc9",
   "metadata": {},
   "outputs": [
    {
     "name": "stdout",
     "output_type": "stream",
     "text": [
      "Root Mean Squared Error: 67952.75486440065\n",
      "Train score (R²) : 0.8826460011812143\n",
      "Cross val score mean (R²) : 0.7798320736111806\n"
     ]
    }
   ],
   "source": [
    "from xgboost import XGBRegressor\n",
    "from sklearn.metrics import mean_squared_error\n",
    "from sklearn.model_selection import cross_val_score\n",
    "model_xgb = XGBRegressor()\n",
    "\n",
    "model_xgb.fit(X_train_preproc, y_train)\n",
    "y_pred = model_xgb.predict(X_test_preproc)\n",
    "mse_b = mean_squared_error(y_pred, y_test)\n",
    "rmse_b = mse_b**(1/2)\n",
    "print(f'Root Mean Squared Error: {rmse_b}')\n",
    "print( 'Train score (R²) :', model_xgb.score(X_train_preproc, y_train))\n",
    "print('Cross val score mean (R²) :', cross_val_score(model_xgb, X_all, y_all, cv = 5, scoring = 'r2').mean())"
   ]
  },
  {
   "cell_type": "markdown",
   "id": "a5a9f8d0",
   "metadata": {},
   "source": [
    "## 📈 Linear Regression on data without outliers (df_without_outliers)"
   ]
  },
  {
   "cell_type": "code",
   "execution_count": 264,
   "id": "f87ceaed",
   "metadata": {},
   "outputs": [
    {
     "name": "stdout",
     "output_type": "stream",
     "text": [
      "Root Mean Squared Error: 83113.24564109449\n",
      "Train score (R²): 0.6498481029928773\n"
     ]
    },
    {
     "name": "stdout",
     "output_type": "stream",
     "text": [
      "Cross val score mean (R²) : 0.6493438576129791\n"
     ]
    }
   ],
   "source": [
    "from sklearn.linear_model import LinearRegression\n",
    "model_lin = LinearRegression()\n",
    "\n",
    "model_lin.fit(X_train_preproc, y_train)\n",
    "y_pred = model_lin.predict(X_test_preproc)\n",
    "mse_b = mean_squared_error(y_pred, y_test)\n",
    "rmse_b = mse_b**(1/2)\n",
    "print(f'Root Mean Squared Error: {rmse_b}')\n",
    "print( 'Train score (R²):', model_lin.score(X_train_preproc, y_train))\n",
    "print('Cross val score mean (R²) :', cross_val_score(model_lin, X_all, y_all, cv = 5).mean())"
   ]
  },
  {
   "cell_type": "markdown",
   "id": "9bea5cbe",
   "metadata": {},
   "source": [
    "# No need anymore"
   ]
  },
  {
   "cell_type": "markdown",
   "id": "940a14fb",
   "metadata": {},
   "source": [
    "## 🌳 RandomForest on full data of 93 (df_clean)"
   ]
  },
  {
   "cell_type": "code",
   "execution_count": 161,
   "id": "f482f24d",
   "metadata": {},
   "outputs": [],
   "source": [
    "#preprocess data\n",
    "X_train_preproc_2, X_test_preproc_2, y_train_2, y_test_2, X_all_2, y_all_2, df_full_2 = preprocess_data(df_clean)"
   ]
  },
  {
   "cell_type": "code",
   "execution_count": 167,
   "id": "4b0f963c",
   "metadata": {},
   "outputs": [
    {
     "name": "stdout",
     "output_type": "stream",
     "text": [
      "Root Mean Squared Error: 483234.86936004425\n",
      "Train score: 0.16340796157629867\n",
      "Cross val score mean -0.007769417805248114\n"
     ]
    }
   ],
   "source": [
    "from sklearn.ensemble import RandomForestRegressor\n",
    "model_rfr_2 = RandomForestRegressor()\n",
    "\n",
    "model_rfr_2.fit(X_train_preproc_2, y_train_2)\n",
    "y_pred_2 = model_rfr_2.predict(X_test_preproc_2)\n",
    "mse_2a = mean_squared_error(y_test_2, y_pred_2)\n",
    "rmse_2a = mse_2a**(1/2)\n",
    "print(f'Root Mean Squared Error: {rmse_2a}')\n",
    "print( 'Train score:', model_rfr_2.score(X_test_preproc_2, y_test_2))\n",
    "print('Cross val score mean', cross_val_score(model_rfr_2, X_all_2, y_all_2, cv = 5).mean())"
   ]
  },
  {
   "cell_type": "markdown",
   "id": "054beaf2",
   "metadata": {},
   "source": [
    "## 🪃 XGBoost on full data (df_clean)"
   ]
  },
  {
   "cell_type": "code",
   "execution_count": 180,
   "id": "92c0ce7f",
   "metadata": {},
   "outputs": [
    {
     "name": "stdout",
     "output_type": "stream",
     "text": [
      "Root Mean Squared Error: 469551.9651230555\n",
      "Train score: 0.9344138380463474\n",
      "Cross val score mean (r2) : -0.0726894111511023\n"
     ]
    }
   ],
   "source": [
    "model_xgb_2 = XGBRegressor()\n",
    "\n",
    "model_xgb_2.fit(X_train_preproc_2, y_train_2)\n",
    "y_pred_2 = model_xgb_2.predict(X_test_preproc_2)\n",
    "mse_2b = mean_squared_error(y_pred_2, y_test_2)\n",
    "rmse_2b = mse_2b**(1/2)\n",
    "print(f'Root Mean Squared Error: {rmse_2b}')\n",
    "print( 'Train score:', model_xgb_2.score(X_train_preproc_2, y_train_2))\n",
    "print('Cross val score mean (r2) :', cross_val_score(model_xgb_2, X_all_2, y_all_2, cv = 5, scoring = 'r2').mean())"
   ]
  },
  {
   "cell_type": "markdown",
   "id": "140212ee",
   "metadata": {},
   "source": [
    "## 📈 Linear Regression on full data (df_clean)"
   ]
  },
  {
   "cell_type": "code",
   "execution_count": 171,
   "id": "adbc48b7",
   "metadata": {},
   "outputs": [
    {
     "name": "stdout",
     "output_type": "stream",
     "text": [
      "Mean Squared Error: 513551.2280835766\n",
      "Train score: 0.1093884854827537\n",
      "Cross val score mean 0.12753373904734266\n"
     ]
    }
   ],
   "source": [
    "from sklearn.linear_model import LinearRegression\n",
    "model_lin = LinearRegression()\n",
    "\n",
    "model_lin.fit(X_train_preproc_2, y_train_2)\n",
    "y_pred_2 = model_lin.predict(X_test_preproc_2)\n",
    "mse_2b = mean_squared_error(y_pred_2, y_test_2)\n",
    "rmse_2b = mse_2b**(1/2)\n",
    "print(f'Mean Squared Error: {rmse_2b}')\n",
    "print( 'Train score:', model_lin.score(X_train_preproc_2, y_train_2))\n",
    "print('Cross val score mean', cross_val_score(model_lin, X_all_2, y_all_2, cv = 5).mean())"
   ]
  },
  {
   "cell_type": "markdown",
   "id": "0ee7147d",
   "metadata": {},
   "source": [
    "## What model should we use ?"
   ]
  },
  {
   "cell_type": "code",
   "execution_count": null,
   "id": "c46d034d",
   "metadata": {},
   "outputs": [],
   "source": [
    "model_xgb_2 = XGBRegressor()\n",
    "\n",
    "model_xgb_2.fit(X_train_preproc_2, y_train_2)\n",
    "y_pred_2 = model_xgb_2.predict(X_test_preproc_2)\n",
    "mse_2b = mean_squared_error(y_pred_2, y_test_2)\n",
    "rmse_2b = mse_2b**(1/2)\n",
    "print(f'Root Mean Squared Error: {rmse_2b}')\n",
    "print( 'Train score:', model_xgb_2.score(X_train_preproc_2, y_train_2))\n",
    "print('Cross val score mean (r2) :', cross_val_score(model_xgb_2, X_all_2, y_all_2, cv = 5, scoring = 'r2').mean())"
   ]
  },
  {
   "cell_type": "markdown",
   "id": "819fbd48",
   "metadata": {},
   "source": [
    "# download file"
   ]
  },
  {
   "cell_type": "code",
   "execution_count": 265,
   "id": "5d0cb6ab",
   "metadata": {},
   "outputs": [],
   "source": [
    "df_without_outliers.to_pickle('../raw_data/dvf_93_cleaned.pkl')"
   ]
  },
  {
   "cell_type": "markdown",
   "id": "c09477c6",
   "metadata": {},
   "source": []
  }
 ],
 "metadata": {
  "kernelspec": {
   "display_name": "Python 3 (ipykernel)",
   "language": "python",
   "name": "python3"
  },
  "language_info": {
   "codemirror_mode": {
    "name": "ipython",
    "version": 3
   },
   "file_extension": ".py",
   "mimetype": "text/x-python",
   "name": "python",
   "nbconvert_exporter": "python",
   "pygments_lexer": "ipython3",
   "version": "3.10.6"
  },
  "toc": {
   "base_numbering": 1,
   "nav_menu": {},
   "number_sections": true,
   "sideBar": true,
   "skip_h1_title": false,
   "title_cell": "Table of Contents",
   "title_sidebar": "Contents",
   "toc_cell": false,
   "toc_position": {},
   "toc_section_display": true,
   "toc_window_display": false
  }
 },
 "nbformat": 4,
 "nbformat_minor": 5
}
