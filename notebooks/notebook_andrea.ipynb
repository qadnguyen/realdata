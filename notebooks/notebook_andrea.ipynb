{
 "cells": [
  {
   "cell_type": "code",
   "execution_count": 38,
   "id": "e22b5836",
   "metadata": {},
   "outputs": [],
   "source": [
    "import pandas as pd\n",
    "import numpy as np\n",
    "import matplotlib as plt"
   ]
  },
  {
   "cell_type": "markdown",
   "id": "42b16f51",
   "metadata": {},
   "source": [
    "# Exploring"
   ]
  },
  {
   "cell_type": "code",
   "execution_count": 39,
   "id": "dd666bfb",
   "metadata": {},
   "outputs": [
    {
     "name": "stderr",
     "output_type": "stream",
     "text": [
      "/tmp/ipykernel_115776/1097798189.py:1: DtypeWarning: Columns (2,4,5,9,10,12,13,14,16,17,18,19,20,21,22,23,24,25,26,27,28,29,31,32,37,38,39) have mixed types. Specify dtype option on import or set low_memory=False.\n",
      "  df_dvf = pd.read_csv('../raw_data/dvf.csv')\n"
     ]
    },
    {
     "data": {
      "text/plain": [
       "(271360, 41)"
      ]
     },
     "execution_count": 39,
     "metadata": {},
     "output_type": "execute_result"
    }
   ],
   "source": [
    "df_dvf = pd.read_csv('../raw_data/dvf.csv')\n",
    "\n",
    "df_dvf.shape"
   ]
  },
  {
   "cell_type": "code",
   "execution_count": 40,
   "id": "9e07aaad",
   "metadata": {},
   "outputs": [
    {
     "data": {
      "text/plain": [
       "0         93\n",
       "1         93\n",
       "2         93\n",
       "3         93\n",
       "4         93\n",
       "          ..\n",
       "271355    93\n",
       "271356    93\n",
       "271357    93\n",
       "271358    93\n",
       "271359    93\n",
       "Name: code_departement, Length: 271360, dtype: object"
      ]
     },
     "execution_count": 40,
     "metadata": {},
     "output_type": "execute_result"
    }
   ],
   "source": [
    "df_dvf['code_departement']"
   ]
  },
  {
   "cell_type": "code",
   "execution_count": 41,
   "id": "dbab62d9",
   "metadata": {},
   "outputs": [
    {
     "data": {
      "text/plain": [
       "77094"
      ]
     },
     "execution_count": 41,
     "metadata": {},
     "output_type": "execute_result"
    }
   ],
   "source": [
    "df_dvf.duplicated().sum()"
   ]
  },
  {
   "cell_type": "code",
   "execution_count": 42,
   "id": "bf0ec430",
   "metadata": {},
   "outputs": [
    {
     "data": {
      "text/plain": [
       "array([\"Vente en l'état futur d'achèvement\", 'Vente', 'Expropriation',\n",
       "       'Echange', 'Vente terrain à bâtir', 'Adjudication',\n",
       "       'nature_mutation'], dtype=object)"
      ]
     },
     "execution_count": 42,
     "metadata": {},
     "output_type": "execute_result"
    }
   ],
   "source": [
    "df_dvf['nature_mutation'].unique()"
   ]
  },
  {
   "cell_type": "code",
   "execution_count": 43,
   "id": "3ab2b7eb",
   "metadata": {},
   "outputs": [
    {
     "data": {
      "text/plain": [
       "Vente                                 188594\n",
       "Vente en l'état futur d'achèvement     78211\n",
       "Adjudication                            2066\n",
       "Expropriation                           1556\n",
       "Echange                                  739\n",
       "Vente terrain à bâtir                    189\n",
       "nature_mutation                            5\n",
       "Name: nature_mutation, dtype: int64"
      ]
     },
     "execution_count": 43,
     "metadata": {},
     "output_type": "execute_result"
    }
   ],
   "source": [
    "df_dvf['nature_mutation'].value_counts()"
   ]
  },
  {
   "cell_type": "code",
   "execution_count": 44,
   "id": "e11137c2",
   "metadata": {},
   "outputs": [
    {
     "data": {
      "text/plain": [
       "id_mutation                     object\n",
       "date_mutation                   object\n",
       "numero_disposition              object\n",
       "nature_mutation                 object\n",
       "valeur_fonciere                 object\n",
       "adresse_numero                  object\n",
       "adresse_suffixe                 object\n",
       "adresse_nom_voie                object\n",
       "adresse_code_voie               object\n",
       "code_postal                     object\n",
       "code_commune                    object\n",
       "nom_commune                     object\n",
       "code_departement                object\n",
       "ancien_code_commune             object\n",
       "ancien_nom_commune              object\n",
       "id_parcelle                     object\n",
       "ancien_id_parcelle              object\n",
       "numero_volume                   object\n",
       "lot1_numero                     object\n",
       "lot1_surface_carrez             object\n",
       "lot2_numero                     object\n",
       "lot2_surface_carrez             object\n",
       "lot3_numero                     object\n",
       "lot3_surface_carrez             object\n",
       "lot4_numero                     object\n",
       "lot4_surface_carrez             object\n",
       "lot5_numero                     object\n",
       "lot5_surface_carrez             object\n",
       "nombre_lots                     object\n",
       "code_type_local                 object\n",
       "type_local                      object\n",
       "surface_reelle_bati             object\n",
       "nombre_pieces_principales       object\n",
       "code_nature_culture             object\n",
       "nature_culture                  object\n",
       "code_nature_culture_speciale    object\n",
       "nature_culture_speciale         object\n",
       "surface_terrain                 object\n",
       "longitude                       object\n",
       "latitude                        object\n",
       "section_prefixe                 object\n",
       "dtype: object"
      ]
     },
     "execution_count": 44,
     "metadata": {},
     "output_type": "execute_result"
    }
   ],
   "source": [
    "df_dvf.dtypes"
   ]
  },
  {
   "cell_type": "code",
   "execution_count": 45,
   "id": "6b988717",
   "metadata": {},
   "outputs": [
    {
     "data": {
      "text/plain": [
       "Index(['id_mutation', 'date_mutation', 'numero_disposition', 'nature_mutation',\n",
       "       'valeur_fonciere', 'adresse_numero', 'adresse_suffixe',\n",
       "       'adresse_nom_voie', 'adresse_code_voie', 'code_postal', 'code_commune',\n",
       "       'nom_commune', 'code_departement', 'ancien_code_commune',\n",
       "       'ancien_nom_commune', 'id_parcelle', 'ancien_id_parcelle',\n",
       "       'numero_volume', 'lot1_numero', 'lot1_surface_carrez', 'lot2_numero',\n",
       "       'lot2_surface_carrez', 'lot3_numero', 'lot3_surface_carrez',\n",
       "       'lot4_numero', 'lot4_surface_carrez', 'lot5_numero',\n",
       "       'lot5_surface_carrez', 'nombre_lots', 'code_type_local', 'type_local',\n",
       "       'surface_reelle_bati', 'nombre_pieces_principales',\n",
       "       'code_nature_culture', 'nature_culture', 'code_nature_culture_speciale',\n",
       "       'nature_culture_speciale', 'surface_terrain', 'longitude', 'latitude',\n",
       "       'section_prefixe'],\n",
       "      dtype='object')"
      ]
     },
     "execution_count": 45,
     "metadata": {},
     "output_type": "execute_result"
    }
   ],
   "source": [
    "df_dvf.columns"
   ]
  },
  {
   "cell_type": "code",
   "execution_count": 46,
   "id": "2c5d707f",
   "metadata": {},
   "outputs": [
    {
     "data": {
      "text/plain": [
       "id_mutation                          0\n",
       "date_mutation                        0\n",
       "numero_disposition                   0\n",
       "nature_mutation                      0\n",
       "valeur_fonciere                   2591\n",
       "adresse_numero                   29402\n",
       "adresse_suffixe                 259219\n",
       "adresse_nom_voie                 10195\n",
       "adresse_code_voie                10195\n",
       "code_postal                      10195\n",
       "code_commune                         0\n",
       "nom_commune                          0\n",
       "code_departement                     0\n",
       "ancien_code_commune             270288\n",
       "ancien_nom_commune              270288\n",
       "id_parcelle                          0\n",
       "ancien_id_parcelle              271355\n",
       "numero_volume                   269411\n",
       "lot1_numero                      68751\n",
       "lot1_surface_carrez             226795\n",
       "lot2_numero                     224988\n",
       "lot2_surface_carrez             259418\n",
       "lot3_numero                     265455\n",
       "lot3_surface_carrez             270341\n",
       "lot4_numero                     269360\n",
       "lot4_surface_carrez             271082\n",
       "lot5_numero                     270469\n",
       "lot5_surface_carrez             271277\n",
       "nombre_lots                          0\n",
       "code_type_local                  63029\n",
       "type_local                       63029\n",
       "surface_reelle_bati             150276\n",
       "nombre_pieces_principales        63214\n",
       "code_nature_culture             203939\n",
       "nature_culture                  203939\n",
       "code_nature_culture_speciale    269982\n",
       "nature_culture_speciale         269982\n",
       "surface_terrain                 203939\n",
       "longitude                         3988\n",
       "latitude                          3988\n",
       "section_prefixe                      0\n",
       "dtype: int64"
      ]
     },
     "execution_count": 46,
     "metadata": {},
     "output_type": "execute_result"
    }
   ],
   "source": [
    "df_dvf.isnull().sum()"
   ]
  },
  {
   "cell_type": "code",
   "execution_count": 47,
   "id": "376f22f7",
   "metadata": {},
   "outputs": [
    {
     "data": {
      "text/plain": [
       "code_postal     0.03757\n",
       "code_commune    0.00000\n",
       "nom_commune     0.00000\n",
       "dtype: float64"
      ]
     },
     "execution_count": 47,
     "metadata": {},
     "output_type": "execute_result"
    }
   ],
   "source": [
    "df_dvf[['code_postal', 'code_commune', 'nom_commune']].isnull().sum()/len(df_dvf)"
   ]
  },
  {
   "cell_type": "code",
   "execution_count": 48,
   "id": "7d6037f7",
   "metadata": {},
   "outputs": [
    {
     "data": {
      "text/plain": [
       "1              156237\n",
       "0               68751\n",
       "2               40467\n",
       "3                3905\n",
       "4                1109\n",
       "5                 432\n",
       "6                 185\n",
       "7                 114\n",
       "9                  40\n",
       "8                  38\n",
       "10                 18\n",
       "12                  8\n",
       "11                  6\n",
       "13                  6\n",
       "15                  5\n",
       "nombre_lots         5\n",
       "28                  4\n",
       "27                  4\n",
       "20                  3\n",
       "19                  3\n",
       "45                  3\n",
       "16                  2\n",
       "34                  2\n",
       "31                  2\n",
       "22                  2\n",
       "14                  2\n",
       "198                 1\n",
       "120                 1\n",
       "95                  1\n",
       "18                  1\n",
       "21                  1\n",
       "61                  1\n",
       "17                  1\n",
       "Name: nombre_lots, dtype: int64"
      ]
     },
     "execution_count": 48,
     "metadata": {},
     "output_type": "execute_result"
    }
   ],
   "source": [
    "df_dvf['nombre_lots'].astype('str').value_counts()"
   ]
  },
  {
   "cell_type": "code",
   "execution_count": 49,
   "id": "eb3f129e",
   "metadata": {},
   "outputs": [
    {
     "data": {
      "text/plain": [
       "array([nan, 'Appartement', 'Dépendance',\n",
       "       'Local industriel. commercial ou assimilé', 'Maison', 'type_local'],\n",
       "      dtype=object)"
      ]
     },
     "execution_count": 49,
     "metadata": {},
     "output_type": "execute_result"
    }
   ],
   "source": [
    "df_dvf['type_local'].unique()"
   ]
  },
  {
   "cell_type": "markdown",
   "id": "a5c5bd8b",
   "metadata": {},
   "source": [
    "# 🔅 Preprocessings"
   ]
  },
  {
   "cell_type": "markdown",
   "id": "750ad2d5",
   "metadata": {},
   "source": [
    "## 🧹 Keep only useful columns and translate"
   ]
  },
  {
   "cell_type": "markdown",
   "id": "cc0dd0d0",
   "metadata": {},
   "source": [
    "### Removing columns"
   ]
  },
  {
   "cell_type": "code",
   "execution_count": 50,
   "id": "bc3be1f9",
   "metadata": {},
   "outputs": [
    {
     "name": "stdout",
     "output_type": "stream",
     "text": [
      "<class 'pandas.core.frame.DataFrame'>\n",
      "RangeIndex: 271360 entries, 0 to 271359\n",
      "Data columns (total 12 columns):\n",
      " #   Column                     Non-Null Count   Dtype \n",
      "---  ------                     --------------   ----- \n",
      " 0   date_mutation              271360 non-null  object\n",
      " 1   nature_mutation            271360 non-null  object\n",
      " 2   valeur_fonciere            268769 non-null  object\n",
      " 3   code_postal                261165 non-null  object\n",
      " 4   code_commune               271360 non-null  object\n",
      " 5   code_departement           271360 non-null  object\n",
      " 6   nombre_lots                271360 non-null  object\n",
      " 7   type_local                 208331 non-null  object\n",
      " 8   surface_reelle_bati        121084 non-null  object\n",
      " 9   nombre_pieces_principales  208146 non-null  object\n",
      " 10  longitude                  267372 non-null  object\n",
      " 11  latitude                   267372 non-null  object\n",
      "dtypes: object(12)\n",
      "memory usage: 24.8+ MB\n"
     ]
    }
   ],
   "source": [
    "keep_col =['date_mutation',\n",
    "            'nature_mutation',\n",
    "            'valeur_fonciere',\n",
    "            'code_postal',\n",
    "            'code_commune',\n",
    "            'code_departement',\n",
    "            'nombre_lots',\n",
    "            'type_local',\n",
    "            'surface_reelle_bati',\n",
    "            'nombre_pieces_principales',\n",
    "            'longitude',\n",
    "            'latitude']\n",
    "df_dvf = df_dvf[keep_col]\n",
    "\n",
    "df_dvf.info()"
   ]
  },
  {
   "cell_type": "markdown",
   "id": "09b4d480",
   "metadata": {},
   "source": [
    "### Translate column-names"
   ]
  },
  {
   "cell_type": "code",
   "execution_count": 51,
   "id": "72763dbe",
   "metadata": {},
   "outputs": [],
   "source": [
    "df_dvf.columns = ['date', 'built', 'price', 'postal_code',\n",
    "                'city', 'region', 'number_of_units', 'property_type',\n",
    "                'living_area', 'number_of_rooms',\n",
    "                'longitude', 'latitude']"
   ]
  },
  {
   "cell_type": "markdown",
   "id": "d3895ad6",
   "metadata": {},
   "source": [
    "### Remove non-representative rows"
   ]
  },
  {
   "cell_type": "code",
   "execution_count": 52,
   "id": "d05b4d1c",
   "metadata": {},
   "outputs": [
    {
     "data": {
      "text/plain": [
       "(271360, 12)"
      ]
     },
     "execution_count": 52,
     "metadata": {},
     "output_type": "execute_result"
    }
   ],
   "source": [
    "df_dvf.shape"
   ]
  },
  {
   "cell_type": "code",
   "execution_count": 53,
   "id": "f7a16c5d",
   "metadata": {},
   "outputs": [
    {
     "data": {
      "text/plain": [
       "array([\"Vente en l'état futur d'achèvement\", 'Vente', 'Expropriation',\n",
       "       'Echange', 'Vente terrain à bâtir', 'Adjudication',\n",
       "       'nature_mutation'], dtype=object)"
      ]
     },
     "execution_count": 53,
     "metadata": {},
     "output_type": "execute_result"
    }
   ],
   "source": [
    "df_dvf['built'].unique()"
   ]
  },
  {
   "cell_type": "markdown",
   "id": "cb0dffb1",
   "metadata": {},
   "source": [
    "We want to keep only :\n",
    "- Houses and appartments\n",
    "- Normal sales and off-plan sales\n",
    "- Sales with only one unit"
   ]
  },
  {
   "cell_type": "code",
   "execution_count": 54,
   "id": "fc100819",
   "metadata": {},
   "outputs": [
    {
     "name": "stdout",
     "output_type": "stream",
     "text": [
      "Shape before the masks :  (271360, 12)\n",
      "Shape only normal sales (266805, 12)\n",
      "Shape only 1 unit (156237, 12)\n",
      "Shape only house and appartments (110400, 12)\n"
     ]
    }
   ],
   "source": [
    "print('Shape before the masks : ', df_dvf.shape)\n",
    "print('Shape only normal sales', df_dvf[((df_dvf['built'] == \"Vente\") | (df_dvf['built'] == \"Vente en l'état futur d'achèvement\"))].shape)\n",
    "print('Shape only 1 unit', df_dvf[((df_dvf['number_of_units'] == 1) | (df_dvf['number_of_units'] == '1'))].shape)\n",
    "print('Shape only house and appartments', df_dvf[((df_dvf['property_type'] == 'Appartement') | (df_dvf['property_type'] == 'Maison'))].shape)"
   ]
  },
  {
   "cell_type": "code",
   "execution_count": 55,
   "id": "ed5e654b",
   "metadata": {},
   "outputs": [
    {
     "data": {
      "text/plain": [
       "(42354, 12)"
      ]
     },
     "execution_count": 55,
     "metadata": {},
     "output_type": "execute_result"
    }
   ],
   "source": [
    "df_useful = df_dvf[((df_dvf['built'] == \"Vente\") | (df_dvf['built'] == \"Vente en l'état futur d'achèvement\")) &\n",
    "                    ((df_dvf['number_of_units'] == 1) | (df_dvf['number_of_units'] == '1')) &\n",
    "                    ((df_dvf['property_type'] == 'Appartement') | (df_dvf['property_type'] == 'Maison'))]\n",
    "df_useful.shape"
   ]
  },
  {
   "cell_type": "code",
   "execution_count": null,
   "id": "2d0ad554",
   "metadata": {},
   "outputs": [
    {
     "name": "stdout",
     "output_type": "stream",
     "text": [
      "['Vente' \"Vente en l'état futur d'achèvement\"]\n",
      "[1 '1']\n",
      "['Appartement' 'Maison']\n"
     ]
    }
   ],
   "source": [
    "## checking that the masks worked correctly\n",
    "print(df_useful['built'].unique())\n",
    "print(df_useful['number_of_units'].unique())\n",
    "print(df_useful['property_type'].unique())\n"
   ]
  },
  {
   "cell_type": "markdown",
   "id": "50bd314c",
   "metadata": {},
   "source": [
    "### Translating the values"
   ]
  },
  {
   "cell_type": "code",
   "execution_count": null,
   "id": "83e64017",
   "metadata": {},
   "outputs": [],
   "source": [
    "trans_dict_built = {'Vente' : 'built',\n",
    "                    'Vente en l’état futur d’achèvement' : 'off-plan'}\n",
    "trans_dict_type = {'Appartement' : 'appartment',\n",
    "                   'Maison' : 'house'}\n",
    "df_useful= df_useful.replace({'built' : trans_dict_built,\n",
    "                             'property type' : trans_dict_type})"
   ]
  },
  {
   "cell_type": "code",
   "execution_count": null,
   "id": "2f48172a",
   "metadata": {},
   "outputs": [
    {
     "data": {
      "text/plain": [
       "(42354, 12)"
      ]
     },
     "execution_count": 355,
     "metadata": {},
     "output_type": "execute_result"
    }
   ],
   "source": [
    "# checking we didn't lose rows\n",
    "df_useful.shape"
   ]
  },
  {
   "cell_type": "markdown",
   "id": "c36ea6b0",
   "metadata": {},
   "source": [
    "## Dropping duplicates and NaNs"
   ]
  },
  {
   "cell_type": "code",
   "execution_count": null,
   "id": "ccc57340",
   "metadata": {},
   "outputs": [
    {
     "data": {
      "text/plain": [
       "Index(['date', 'built', 'price', 'postal_code', 'city', 'region',\n",
       "       'number_of_units', 'property_type', 'living_area', 'number_of_rooms',\n",
       "       'longitude', 'latitude'],\n",
       "      dtype='object')"
      ]
     },
     "execution_count": 356,
     "metadata": {},
     "output_type": "execute_result"
    }
   ],
   "source": [
    "df_useful.columns"
   ]
  },
  {
   "cell_type": "code",
   "execution_count": null,
   "id": "65bde5be",
   "metadata": {},
   "outputs": [],
   "source": [
    "## dropping the column with number of units (only 1s)\n",
    "df_useful = df_useful.drop(columns='number_of_units')"
   ]
  },
  {
   "cell_type": "code",
   "execution_count": null,
   "id": "d263df2f",
   "metadata": {},
   "outputs": [
    {
     "data": {
      "text/plain": [
       "Index(['date', 'built', 'price', 'postal_code', 'city', 'region',\n",
       "       'property_type', 'living_area', 'number_of_rooms', 'longitude',\n",
       "       'latitude'],\n",
       "      dtype='object')"
      ]
     },
     "execution_count": 358,
     "metadata": {},
     "output_type": "execute_result"
    }
   ],
   "source": [
    "df_useful.columns"
   ]
  },
  {
   "cell_type": "code",
   "execution_count": null,
   "id": "3914db16",
   "metadata": {},
   "outputs": [
    {
     "data": {
      "text/plain": [
       "(30655, 11)"
      ]
     },
     "execution_count": 359,
     "metadata": {},
     "output_type": "execute_result"
    }
   ],
   "source": [
    "## checking for NaN values\n",
    "df_useful.isna().sum()\n",
    "df_useful = df_useful.dropna()\n",
    "df_useful.shape\n",
    "df_useful = df_useful.drop_duplicates()\n",
    "df_useful.shape"
   ]
  },
  {
   "cell_type": "markdown",
   "id": "50cdaa65",
   "metadata": {},
   "source": [
    "## Changing everything to the right type"
   ]
  },
  {
   "cell_type": "code",
   "execution_count": null,
   "id": "bedf222e",
   "metadata": {},
   "outputs": [
    {
     "name": "stdout",
     "output_type": "stream",
     "text": [
      "<class 'pandas.core.frame.DataFrame'>\n",
      "Index: 30655 entries, 61 to 262139\n",
      "Data columns (total 11 columns):\n",
      " #   Column           Non-Null Count  Dtype         \n",
      "---  ------           --------------  -----         \n",
      " 0   date             30655 non-null  datetime64[ns]\n",
      " 1   built            30655 non-null  object        \n",
      " 2   price            30655 non-null  float64       \n",
      " 3   postal_code      30655 non-null  float64       \n",
      " 4   city             30655 non-null  object        \n",
      " 5   region           30655 non-null  object        \n",
      " 6   property_type    30655 non-null  object        \n",
      " 7   living_area      30655 non-null  float64       \n",
      " 8   number_of_rooms  30655 non-null  float64       \n",
      " 9   longitude        30655 non-null  float64       \n",
      " 10  latitude         30655 non-null  float64       \n",
      "dtypes: datetime64[ns](1), float64(6), object(4)\n",
      "memory usage: 2.8+ MB\n"
     ]
    }
   ],
   "source": [
    "col_float = ['price', 'longitude', 'latitude', 'postal_code', 'living_area', 'number_of_rooms']\n",
    "col_string = ['built','city', 'region','property_type']\n",
    "col_date = ['date']\n",
    "### Formating data types ####\n",
    "df_useful[col_float] = df_useful[col_float].apply(lambda x: pd.to_numeric(x, errors='coerce').astype('float64'))\n",
    "df_useful[col_date]= df_useful[col_date].apply(lambda x: pd.to_datetime(x, errors='coerce'))\n",
    "\n",
    "df_useful.info()"
   ]
  },
  {
   "cell_type": "code",
   "execution_count": null,
   "id": "b7687f5b",
   "metadata": {},
   "outputs": [
    {
     "data": {
      "text/plain": [
       "(30655, 11)"
      ]
     },
     "execution_count": 361,
     "metadata": {},
     "output_type": "execute_result"
    }
   ],
   "source": [
    "df_useful.shape"
   ]
  },
  {
   "cell_type": "code",
   "execution_count": null,
   "id": "92a0c928",
   "metadata": {},
   "outputs": [
    {
     "data": {
      "text/html": [
       "<div>\n",
       "<style scoped>\n",
       "    .dataframe tbody tr th:only-of-type {\n",
       "        vertical-align: middle;\n",
       "    }\n",
       "\n",
       "    .dataframe tbody tr th {\n",
       "        vertical-align: top;\n",
       "    }\n",
       "\n",
       "    .dataframe thead th {\n",
       "        text-align: right;\n",
       "    }\n",
       "</style>\n",
       "<table border=\"1\" class=\"dataframe\">\n",
       "  <thead>\n",
       "    <tr style=\"text-align: right;\">\n",
       "      <th></th>\n",
       "      <th>date</th>\n",
       "      <th>built</th>\n",
       "      <th>price</th>\n",
       "      <th>postal_code</th>\n",
       "      <th>city</th>\n",
       "      <th>region</th>\n",
       "      <th>property_type</th>\n",
       "      <th>living_area</th>\n",
       "      <th>number_of_rooms</th>\n",
       "      <th>longitude</th>\n",
       "      <th>latitude</th>\n",
       "    </tr>\n",
       "  </thead>\n",
       "  <tbody>\n",
       "    <tr>\n",
       "      <th>61</th>\n",
       "      <td>2021-01-04</td>\n",
       "      <td>built</td>\n",
       "      <td>483400.0</td>\n",
       "      <td>93170.0</td>\n",
       "      <td>93006</td>\n",
       "      <td>93</td>\n",
       "      <td>Appartement</td>\n",
       "      <td>74.0</td>\n",
       "      <td>3.0</td>\n",
       "      <td>2.423187</td>\n",
       "      <td>48.858609</td>\n",
       "    </tr>\n",
       "    <tr>\n",
       "      <th>62</th>\n",
       "      <td>2021-01-07</td>\n",
       "      <td>built</td>\n",
       "      <td>170000.0</td>\n",
       "      <td>93130.0</td>\n",
       "      <td>93053</td>\n",
       "      <td>93</td>\n",
       "      <td>Appartement</td>\n",
       "      <td>42.0</td>\n",
       "      <td>2.0</td>\n",
       "      <td>2.465074</td>\n",
       "      <td>48.887137</td>\n",
       "    </tr>\n",
       "    <tr>\n",
       "      <th>65</th>\n",
       "      <td>2021-01-06</td>\n",
       "      <td>built</td>\n",
       "      <td>55000.0</td>\n",
       "      <td>93700.0</td>\n",
       "      <td>93029</td>\n",
       "      <td>93</td>\n",
       "      <td>Appartement</td>\n",
       "      <td>26.0</td>\n",
       "      <td>1.0</td>\n",
       "      <td>2.455386</td>\n",
       "      <td>48.914226</td>\n",
       "    </tr>\n",
       "    <tr>\n",
       "      <th>83</th>\n",
       "      <td>2021-01-11</td>\n",
       "      <td>built</td>\n",
       "      <td>252000.0</td>\n",
       "      <td>93230.0</td>\n",
       "      <td>93063</td>\n",
       "      <td>93</td>\n",
       "      <td>Appartement</td>\n",
       "      <td>50.0</td>\n",
       "      <td>2.0</td>\n",
       "      <td>2.440520</td>\n",
       "      <td>48.882042</td>\n",
       "    </tr>\n",
       "    <tr>\n",
       "      <th>85</th>\n",
       "      <td>2021-01-11</td>\n",
       "      <td>built</td>\n",
       "      <td>151190.0</td>\n",
       "      <td>93700.0</td>\n",
       "      <td>93029</td>\n",
       "      <td>93</td>\n",
       "      <td>Appartement</td>\n",
       "      <td>53.0</td>\n",
       "      <td>2.0</td>\n",
       "      <td>2.463303</td>\n",
       "      <td>48.913323</td>\n",
       "    </tr>\n",
       "  </tbody>\n",
       "</table>\n",
       "</div>"
      ],
      "text/plain": [
       "         date  built     price  postal_code   city region property_type  \\\n",
       "61 2021-01-04  built  483400.0      93170.0  93006     93   Appartement   \n",
       "62 2021-01-07  built  170000.0      93130.0  93053     93   Appartement   \n",
       "65 2021-01-06  built   55000.0      93700.0  93029     93   Appartement   \n",
       "83 2021-01-11  built  252000.0      93230.0  93063     93   Appartement   \n",
       "85 2021-01-11  built  151190.0      93700.0  93029     93   Appartement   \n",
       "\n",
       "    living_area  number_of_rooms  longitude   latitude  \n",
       "61         74.0              3.0   2.423187  48.858609  \n",
       "62         42.0              2.0   2.465074  48.887137  \n",
       "65         26.0              1.0   2.455386  48.914226  \n",
       "83         50.0              2.0   2.440520  48.882042  \n",
       "85         53.0              2.0   2.463303  48.913323  "
      ]
     },
     "execution_count": 362,
     "metadata": {},
     "output_type": "execute_result"
    }
   ],
   "source": [
    "df_useful.head()"
   ]
  },
  {
   "cell_type": "markdown",
   "id": "9a674b90",
   "metadata": {},
   "source": [
    "### Visualization of the department"
   ]
  },
  {
   "cell_type": "code",
   "execution_count": null,
   "id": "8c204b4c",
   "metadata": {},
   "outputs": [
    {
     "data": {
      "text/plain": [
       "<Axes: xlabel='longitude', ylabel='latitude'>"
      ]
     },
     "execution_count": 363,
     "metadata": {},
     "output_type": "execute_result"
    },
    {
     "data": {
      "image/png": "[encoded data removed]",
      "text/plain": [
       "<Figure size 640x480 with 1 Axes>"
      ]
     },
     "metadata": {},
     "output_type": "display_data"
    }
   ],
   "source": [
    "# import folium\n",
    "# m = folium.Map(location = [-33.8, 151.2], tiles ='OpenStreetMap', zoom_start=11)\n",
    "import seaborn as sns\n",
    "sns.scatterplot(x = df_useful['longitude'], y = df_useful['latitude'])"
   ]
  },
  {
   "cell_type": "markdown",
   "id": "fd3d6246",
   "metadata": {},
   "source": [
    "# 🤓 Feature engineering"
   ]
  },
  {
   "cell_type": "code",
   "execution_count": null,
   "id": "69485e49",
   "metadata": {},
   "outputs": [],
   "source": [
    "import pandas as pd\n",
    "import matplotlib.pyplot as plt\n",
    "import seaborn as sns"
   ]
  },
  {
   "cell_type": "markdown",
   "id": "f720a4dd",
   "metadata": {},
   "source": [
    "### Drop Region"
   ]
  },
  {
   "cell_type": "code",
   "execution_count": null,
   "id": "1b844e24",
   "metadata": {},
   "outputs": [],
   "source": [
    "#Region information is contained in postal code\n",
    "df_useful = df_useful.drop(columns='region')"
   ]
  },
  {
   "cell_type": "markdown",
   "id": "15c8dc9c",
   "metadata": {},
   "source": [
    "### Living area data has to be preprocessed because living area < 9qm does not make sense"
   ]
  },
  {
   "cell_type": "markdown",
   "id": "635d579b",
   "metadata": {},
   "source": [
    "This has to go into the preprocessing steps"
   ]
  },
  {
   "cell_type": "code",
   "execution_count": null,
   "id": "f6b2812b",
   "metadata": {},
   "outputs": [],
   "source": [
    "'''To legally rent an apartment in France, it must have a minimum ceiling height of 2.2m,\n",
    "a minimum area of 9m² with a window, a separate bathroom, heating, a water system, and working\n",
    "drains and gutters. In addition, the building and the apartment must not threaten a tenant's health and safety.'''\n",
    "\n",
    "#Drop everything below 9qm\n",
    "df_useful = df_useful[df_useful['living_area'] >= 9]"
   ]
  },
  {
   "cell_type": "code",
   "execution_count": null,
   "id": "e57666fc",
   "metadata": {},
   "outputs": [
    {
     "data": {
      "image/png": "[encoded data removed]",
      "text/plain": [
       "<Figure size 640x480 with 1 Axes>"
      ]
     },
     "metadata": {},
     "output_type": "display_data"
    }
   ],
   "source": [
    "#Check for outliers\n",
    "sns.histplot(x='living_area', data=df_useful)\n",
    "plt.show()"
   ]
  },
  {
   "cell_type": "code",
   "execution_count": null,
   "id": "9ac77ac0",
   "metadata": {},
   "outputs": [
    {
     "data": {
      "text/html": [
       "<div>\n",
       "<style scoped>\n",
       "    .dataframe tbody tr th:only-of-type {\n",
       "        vertical-align: middle;\n",
       "    }\n",
       "\n",
       "    .dataframe tbody tr th {\n",
       "        vertical-align: top;\n",
       "    }\n",
       "\n",
       "    .dataframe thead th {\n",
       "        text-align: right;\n",
       "    }\n",
       "</style>\n",
       "<table border=\"1\" class=\"dataframe\">\n",
       "  <thead>\n",
       "    <tr style=\"text-align: right;\">\n",
       "      <th></th>\n",
       "      <th>date</th>\n",
       "      <th>built</th>\n",
       "      <th>price</th>\n",
       "      <th>postal_code</th>\n",
       "      <th>city</th>\n",
       "      <th>property_type</th>\n",
       "      <th>living_area</th>\n",
       "      <th>number_of_rooms</th>\n",
       "      <th>longitude</th>\n",
       "      <th>latitude</th>\n",
       "    </tr>\n",
       "  </thead>\n",
       "  <tbody>\n",
       "    <tr>\n",
       "      <th>145891</th>\n",
       "      <td>2019-02-28</td>\n",
       "      <td>built</td>\n",
       "      <td>140000.0</td>\n",
       "      <td>93400.0</td>\n",
       "      <td>93070</td>\n",
       "      <td>Appartement</td>\n",
       "      <td>9.0</td>\n",
       "      <td>1.0</td>\n",
       "      <td>2.329897</td>\n",
       "      <td>48.902324</td>\n",
       "    </tr>\n",
       "    <tr>\n",
       "      <th>144796</th>\n",
       "      <td>2019-02-01</td>\n",
       "      <td>built</td>\n",
       "      <td>38000.0</td>\n",
       "      <td>93210.0</td>\n",
       "      <td>93066</td>\n",
       "      <td>Appartement</td>\n",
       "      <td>9.0</td>\n",
       "      <td>1.0</td>\n",
       "      <td>2.361568</td>\n",
       "      <td>48.907253</td>\n",
       "    </tr>\n",
       "    <tr>\n",
       "      <th>17220</th>\n",
       "      <td>2021-11-26</td>\n",
       "      <td>built</td>\n",
       "      <td>164020.0</td>\n",
       "      <td>93300.0</td>\n",
       "      <td>93001</td>\n",
       "      <td>Appartement</td>\n",
       "      <td>9.0</td>\n",
       "      <td>1.0</td>\n",
       "      <td>2.381434</td>\n",
       "      <td>48.913828</td>\n",
       "    </tr>\n",
       "    <tr>\n",
       "      <th>34196</th>\n",
       "      <td>2021-05-12</td>\n",
       "      <td>built</td>\n",
       "      <td>15000.0</td>\n",
       "      <td>93600.0</td>\n",
       "      <td>93005</td>\n",
       "      <td>Appartement</td>\n",
       "      <td>9.0</td>\n",
       "      <td>1.0</td>\n",
       "      <td>2.494689</td>\n",
       "      <td>48.931105</td>\n",
       "    </tr>\n",
       "    <tr>\n",
       "      <th>245801</th>\n",
       "      <td>2021-05-12</td>\n",
       "      <td>built</td>\n",
       "      <td>15000.0</td>\n",
       "      <td>93600.0</td>\n",
       "      <td>93005</td>\n",
       "      <td>Appartement</td>\n",
       "      <td>9.0</td>\n",
       "      <td>1.0</td>\n",
       "      <td>2.494689</td>\n",
       "      <td>48.931105</td>\n",
       "    </tr>\n",
       "  </tbody>\n",
       "</table>\n",
       "</div>"
      ],
      "text/plain": [
       "             date  built     price  postal_code   city property_type  \\\n",
       "145891 2019-02-28  built  140000.0      93400.0  93070   Appartement   \n",
       "144796 2019-02-01  built   38000.0      93210.0  93066   Appartement   \n",
       "17220  2021-11-26  built  164020.0      93300.0  93001   Appartement   \n",
       "34196  2021-05-12  built   15000.0      93600.0  93005   Appartement   \n",
       "245801 2021-05-12  built   15000.0      93600.0  93005   Appartement   \n",
       "\n",
       "        living_area  number_of_rooms  longitude   latitude  \n",
       "145891          9.0              1.0   2.329897  48.902324  \n",
       "144796          9.0              1.0   2.361568  48.907253  \n",
       "17220           9.0              1.0   2.381434  48.913828  \n",
       "34196           9.0              1.0   2.494689  48.931105  \n",
       "245801          9.0              1.0   2.494689  48.931105  "
      ]
     },
     "execution_count": 368,
     "metadata": {},
     "output_type": "execute_result"
    }
   ],
   "source": [
    "df_useful.sort_values(by='living_area', ascending=True).head()"
   ]
  },
  {
   "cell_type": "code",
   "execution_count": null,
   "id": "c77245c7",
   "metadata": {},
   "outputs": [
    {
     "data": {
      "text/plain": [
       "(30624, 10)"
      ]
     },
     "execution_count": 369,
     "metadata": {},
     "output_type": "execute_result"
    }
   ],
   "source": [
    "df_useful.shape"
   ]
  },
  {
   "cell_type": "markdown",
   "id": "19d00148",
   "metadata": {},
   "source": [
    "### All columns"
   ]
  },
  {
   "cell_type": "code",
   "execution_count": null,
   "id": "1725cfca",
   "metadata": {},
   "outputs": [
    {
     "data": {
      "text/plain": [
       "Index(['date', 'built', 'price', 'postal_code', 'city', 'property_type',\n",
       "       'living_area', 'number_of_rooms', 'longitude', 'latitude'],\n",
       "      dtype='object')"
      ]
     },
     "execution_count": 370,
     "metadata": {},
     "output_type": "execute_result"
    }
   ],
   "source": [
    "df_useful.columns"
   ]
  },
  {
   "cell_type": "code",
   "execution_count": null,
   "id": "a40d3094",
   "metadata": {},
   "outputs": [
    {
     "name": "stdout",
     "output_type": "stream",
     "text": [
      "<class 'pandas.core.frame.DataFrame'>\n",
      "Index: 30624 entries, 61 to 262139\n",
      "Data columns (total 10 columns):\n",
      " #   Column           Non-Null Count  Dtype         \n",
      "---  ------           --------------  -----         \n",
      " 0   date             30624 non-null  datetime64[ns]\n",
      " 1   built            30624 non-null  object        \n",
      " 2   price            30624 non-null  float64       \n",
      " 3   postal_code      30624 non-null  float64       \n",
      " 4   city             30624 non-null  object        \n",
      " 5   property_type    30624 non-null  object        \n",
      " 6   living_area      30624 non-null  float64       \n",
      " 7   number_of_rooms  30624 non-null  float64       \n",
      " 8   longitude        30624 non-null  float64       \n",
      " 9   latitude         30624 non-null  float64       \n",
      "dtypes: datetime64[ns](1), float64(6), object(3)\n",
      "memory usage: 2.6+ MB\n"
     ]
    }
   ],
   "source": [
    "df_useful.info()"
   ]
  },
  {
   "cell_type": "markdown",
   "id": "c1a2cbc1",
   "metadata": {},
   "source": [
    "### 'Date' to datetime and 'Year'"
   ]
  },
  {
   "cell_type": "code",
   "execution_count": null,
   "id": "85e8d48c",
   "metadata": {},
   "outputs": [
    {
     "data": {
      "text/plain": [
       "array([2021, 2018, 2022, 2019, 2020], dtype=int32)"
      ]
     },
     "execution_count": 372,
     "metadata": {},
     "output_type": "execute_result"
    }
   ],
   "source": [
    "#Change to datetime and create a 'year' column\n",
    "\n",
    "df_useful['date'] = pd.to_datetime(df_useful['date'])\n",
    "df_useful['year'] = df_useful['date'].dt.year\n",
    "df_useful['year'].unique()"
   ]
  },
  {
   "cell_type": "markdown",
   "id": "91514501",
   "metadata": {},
   "source": [
    "### 'Built' - Encoding"
   ]
  },
  {
   "cell_type": "code",
   "execution_count": null,
   "id": "1844ac3d",
   "metadata": {},
   "outputs": [
    {
     "data": {
      "text/plain": [
       "array([1, 0])"
      ]
     },
     "execution_count": 373,
     "metadata": {},
     "output_type": "execute_result"
    }
   ],
   "source": [
    "#Needs to be encoded in numbers\n",
    "df_useful['built'] = df_useful['built'].map({'built': 1, 'Vente en l\\'état futur d\\'achèvement': 0})\n",
    "df_useful['built'].unique()"
   ]
  },
  {
   "cell_type": "code",
   "execution_count": null,
   "id": "00c48ea5",
   "metadata": {},
   "outputs": [],
   "source": []
  },
  {
   "cell_type": "markdown",
   "id": "15fefe92",
   "metadata": {},
   "source": [
    "### 'Price' Viz"
   ]
  },
  {
   "cell_type": "code",
   "execution_count": null,
   "id": "be97d279",
   "metadata": {},
   "outputs": [
    {
     "data": {
      "image/png": "[encoded data removed]",
      "text/plain": [
       "<Figure size 640x480 with 1 Axes>"
      ]
     },
     "metadata": {},
     "output_type": "display_data"
    }
   ],
   "source": [
    "#Check for outliers, 'price' column remains unchanged\n",
    "sns.boxplot(x='price', data=df_useful)\n",
    "plt.show()"
   ]
  },
  {
   "cell_type": "markdown",
   "id": "a1b645da",
   "metadata": {},
   "source": [
    "### Postal Code, City and Region + Property Type"
   ]
  },
  {
   "cell_type": "code",
   "execution_count": null,
   "id": "c34c0200",
   "metadata": {},
   "outputs": [],
   "source": [
    "from sklearn.compose import ColumnTransformer\n",
    "from sklearn.preprocessing import OneHotEncoder\n",
    "from sklearn.preprocessing import TargetEncoder"
   ]
  },
  {
   "cell_type": "code",
   "execution_count": null,
   "id": "1817f36b",
   "metadata": {},
   "outputs": [
    {
     "name": "stdout",
     "output_type": "stream",
     "text": [
      "postal_code\n",
      "93160.0    3292\n",
      "93100.0    2411\n",
      "93400.0    1859\n",
      "93200.0    1503\n",
      "93300.0    1341\n",
      "93420.0    1193\n",
      "93500.0    1118\n",
      "93330.0    1106\n",
      "93110.0    1076\n",
      "93220.0    1031\n",
      "93190.0    1012\n",
      "93150.0     987\n",
      "93000.0     844\n",
      "93130.0     840\n",
      "93230.0     809\n",
      "93700.0     714\n",
      "93600.0     683\n",
      "93270.0     653\n",
      "93800.0     636\n",
      "93140.0     597\n",
      "93170.0     570\n",
      "93250.0     527\n",
      "93210.0     515\n",
      "93370.0     501\n",
      "93360.0     490\n",
      "93120.0     463\n",
      "93290.0     420\n",
      "93320.0     408\n",
      "93380.0     397\n",
      "93340.0     335\n",
      "93260.0     321\n",
      "93350.0     290\n",
      "93240.0     277\n",
      "93460.0     273\n",
      "93310.0     272\n",
      "93410.0     209\n",
      "93440.0     204\n",
      "93450.0     152\n",
      "93390.0     142\n",
      "93470.0      82\n",
      "93430.0      71\n",
      "Name: count, dtype: int64\n"
     ]
    }
   ],
   "source": [
    "#Postal Code\n",
    "print(df_useful['postal_code'].value_counts())\n",
    "df_useful['postal_code'] = df_useful['postal_code'].astype(int) #changed from floats to integers"
   ]
  },
  {
   "cell_type": "code",
   "execution_count": null,
   "id": "745e6126",
   "metadata": {},
   "outputs": [
    {
     "name": "stdout",
     "output_type": "stream",
     "text": [
      "city\n",
      "93051    1986\n",
      "93048    1542\n",
      "93051    1306\n",
      "93066    1043\n",
      "93066     975\n",
      "         ... \n",
      "93014      56\n",
      "93015      55\n",
      "93079      40\n",
      "93079      31\n",
      "93015      27\n",
      "Name: count, Length: 80, dtype: int64\n"
     ]
    }
   ],
   "source": [
    "#City\n",
    "print(df_useful['city'].value_counts()) #all good\n",
    "df_useful['city'] = df_useful['city'].astype(int)"
   ]
  },
  {
   "cell_type": "code",
   "execution_count": null,
   "id": "bbfefa1b",
   "metadata": {},
   "outputs": [],
   "source": [
    "#Property type\n",
    "df_useful['property_type'].unique()\n",
    "df_useful['property_type'] = df_useful['property_type'].astype(str)"
   ]
  },
  {
   "cell_type": "code",
   "execution_count": null,
   "id": "677e61de",
   "metadata": {},
   "outputs": [],
   "source": [
    "column_transformer = ColumnTransformer(\n",
    "    transformers=[\n",
    "        ('ohe', OneHotEncoder(sparse_output=False), ['postal_code', 'property_type']),\n",
    "        ('tar', TargetEncoder(), ['city']) #targetencode to keep the number of columns low\n",
    "    ],\n",
    "    remainder='passthrough'  # keep non-transformed columns\n",
    ")"
   ]
  },
  {
   "cell_type": "code",
   "execution_count": null,
   "id": "207a26ea",
   "metadata": {},
   "outputs": [],
   "source": [
    "y = df_useful['price']\n",
    "X = df_useful.drop(columns = 'price')"
   ]
  },
  {
   "cell_type": "code",
   "execution_count": null,
   "id": "77eed4fb",
   "metadata": {},
   "outputs": [
    {
     "name": "stdout",
     "output_type": "stream",
     "text": [
      "<class 'pandas.core.frame.DataFrame'>\n",
      "Index: 30624 entries, 61 to 262139\n",
      "Data columns (total 11 columns):\n",
      " #   Column           Non-Null Count  Dtype         \n",
      "---  ------           --------------  -----         \n",
      " 0   date             30624 non-null  datetime64[ns]\n",
      " 1   built            30624 non-null  int64         \n",
      " 2   price            30624 non-null  float64       \n",
      " 3   postal_code      30624 non-null  int64         \n",
      " 4   city             30624 non-null  int64         \n",
      " 5   property_type    30624 non-null  object        \n",
      " 6   living_area      30624 non-null  float64       \n",
      " 7   number_of_rooms  30624 non-null  float64       \n",
      " 8   longitude        30624 non-null  float64       \n",
      " 9   latitude         30624 non-null  float64       \n",
      " 10  year             30624 non-null  int32         \n",
      "dtypes: datetime64[ns](1), float64(5), int32(1), int64(3), object(1)\n",
      "memory usage: 2.7+ MB\n"
     ]
    }
   ],
   "source": [
    "df_useful.info()"
   ]
  },
  {
   "cell_type": "code",
   "execution_count": null,
   "id": "d4adf07b",
   "metadata": {},
   "outputs": [],
   "source": [
    "df_encoded = pd.DataFrame(column_transformer.fit_transform(X, y), columns=column_transformer.get_feature_names_out())\n",
    "df_encoded.columns = df_encoded.columns.str.replace('remainder__', '')"
   ]
  },
  {
   "cell_type": "code",
   "execution_count": null,
   "id": "64b682ad",
   "metadata": {},
   "outputs": [
    {
     "data": {
      "text/html": [
       "<div>\n",
       "<style scoped>\n",
       "    .dataframe tbody tr th:only-of-type {\n",
       "        vertical-align: middle;\n",
       "    }\n",
       "\n",
       "    .dataframe tbody tr th {\n",
       "        vertical-align: top;\n",
       "    }\n",
       "\n",
       "    .dataframe thead th {\n",
       "        text-align: right;\n",
       "    }\n",
       "</style>\n",
       "<table border=\"1\" class=\"dataframe\">\n",
       "  <thead>\n",
       "    <tr style=\"text-align: right;\">\n",
       "      <th></th>\n",
       "      <th>ohe__postal_code_93000</th>\n",
       "      <th>ohe__postal_code_93100</th>\n",
       "      <th>ohe__postal_code_93110</th>\n",
       "      <th>ohe__postal_code_93120</th>\n",
       "      <th>ohe__postal_code_93130</th>\n",
       "      <th>ohe__postal_code_93140</th>\n",
       "      <th>ohe__postal_code_93150</th>\n",
       "      <th>ohe__postal_code_93160</th>\n",
       "      <th>ohe__postal_code_93170</th>\n",
       "      <th>ohe__postal_code_93190</th>\n",
       "      <th>...</th>\n",
       "      <th>ohe__property_type_Appartement</th>\n",
       "      <th>ohe__property_type_Maison</th>\n",
       "      <th>tar__city</th>\n",
       "      <th>date</th>\n",
       "      <th>built</th>\n",
       "      <th>living_area</th>\n",
       "      <th>number_of_rooms</th>\n",
       "      <th>longitude</th>\n",
       "      <th>latitude</th>\n",
       "      <th>year</th>\n",
       "    </tr>\n",
       "  </thead>\n",
       "  <tbody>\n",
       "    <tr>\n",
       "      <th>0</th>\n",
       "      <td>0.0</td>\n",
       "      <td>0.0</td>\n",
       "      <td>0.0</td>\n",
       "      <td>0.0</td>\n",
       "      <td>0.0</td>\n",
       "      <td>0.0</td>\n",
       "      <td>0.0</td>\n",
       "      <td>0.0</td>\n",
       "      <td>1.0</td>\n",
       "      <td>0.0</td>\n",
       "      <td>...</td>\n",
       "      <td>1.0</td>\n",
       "      <td>0.0</td>\n",
       "      <td>323824.938028</td>\n",
       "      <td>2021-01-04</td>\n",
       "      <td>1</td>\n",
       "      <td>74.0</td>\n",
       "      <td>3.0</td>\n",
       "      <td>2.423187</td>\n",
       "      <td>48.858609</td>\n",
       "      <td>2021</td>\n",
       "    </tr>\n",
       "    <tr>\n",
       "      <th>1</th>\n",
       "      <td>0.0</td>\n",
       "      <td>0.0</td>\n",
       "      <td>0.0</td>\n",
       "      <td>0.0</td>\n",
       "      <td>1.0</td>\n",
       "      <td>0.0</td>\n",
       "      <td>0.0</td>\n",
       "      <td>0.0</td>\n",
       "      <td>0.0</td>\n",
       "      <td>0.0</td>\n",
       "      <td>...</td>\n",
       "      <td>1.0</td>\n",
       "      <td>0.0</td>\n",
       "      <td>347197.748397</td>\n",
       "      <td>2021-01-07</td>\n",
       "      <td>1</td>\n",
       "      <td>42.0</td>\n",
       "      <td>2.0</td>\n",
       "      <td>2.465074</td>\n",
       "      <td>48.887137</td>\n",
       "      <td>2021</td>\n",
       "    </tr>\n",
       "    <tr>\n",
       "      <th>2</th>\n",
       "      <td>0.0</td>\n",
       "      <td>0.0</td>\n",
       "      <td>0.0</td>\n",
       "      <td>0.0</td>\n",
       "      <td>0.0</td>\n",
       "      <td>0.0</td>\n",
       "      <td>0.0</td>\n",
       "      <td>0.0</td>\n",
       "      <td>0.0</td>\n",
       "      <td>0.0</td>\n",
       "      <td>...</td>\n",
       "      <td>1.0</td>\n",
       "      <td>0.0</td>\n",
       "      <td>263543.913417</td>\n",
       "      <td>2021-01-06</td>\n",
       "      <td>1</td>\n",
       "      <td>26.0</td>\n",
       "      <td>1.0</td>\n",
       "      <td>2.455386</td>\n",
       "      <td>48.914226</td>\n",
       "      <td>2021</td>\n",
       "    </tr>\n",
       "    <tr>\n",
       "      <th>3</th>\n",
       "      <td>0.0</td>\n",
       "      <td>0.0</td>\n",
       "      <td>0.0</td>\n",
       "      <td>0.0</td>\n",
       "      <td>0.0</td>\n",
       "      <td>0.0</td>\n",
       "      <td>0.0</td>\n",
       "      <td>0.0</td>\n",
       "      <td>0.0</td>\n",
       "      <td>0.0</td>\n",
       "      <td>...</td>\n",
       "      <td>1.0</td>\n",
       "      <td>0.0</td>\n",
       "      <td>330637.299183</td>\n",
       "      <td>2021-01-11</td>\n",
       "      <td>1</td>\n",
       "      <td>50.0</td>\n",
       "      <td>2.0</td>\n",
       "      <td>2.44052</td>\n",
       "      <td>48.882042</td>\n",
       "      <td>2021</td>\n",
       "    </tr>\n",
       "    <tr>\n",
       "      <th>4</th>\n",
       "      <td>0.0</td>\n",
       "      <td>0.0</td>\n",
       "      <td>0.0</td>\n",
       "      <td>0.0</td>\n",
       "      <td>0.0</td>\n",
       "      <td>0.0</td>\n",
       "      <td>0.0</td>\n",
       "      <td>0.0</td>\n",
       "      <td>0.0</td>\n",
       "      <td>0.0</td>\n",
       "      <td>...</td>\n",
       "      <td>1.0</td>\n",
       "      <td>0.0</td>\n",
       "      <td>263543.913417</td>\n",
       "      <td>2021-01-11</td>\n",
       "      <td>1</td>\n",
       "      <td>53.0</td>\n",
       "      <td>2.0</td>\n",
       "      <td>2.463303</td>\n",
       "      <td>48.913323</td>\n",
       "      <td>2021</td>\n",
       "    </tr>\n",
       "  </tbody>\n",
       "</table>\n",
       "<p>5 rows × 51 columns</p>\n",
       "</div>"
      ],
      "text/plain": [
       "  ohe__postal_code_93000 ohe__postal_code_93100 ohe__postal_code_93110  \\\n",
       "0                    0.0                    0.0                    0.0   \n",
       "1                    0.0                    0.0                    0.0   \n",
       "2                    0.0                    0.0                    0.0   \n",
       "3                    0.0                    0.0                    0.0   \n",
       "4                    0.0                    0.0                    0.0   \n",
       "\n",
       "  ohe__postal_code_93120 ohe__postal_code_93130 ohe__postal_code_93140  \\\n",
       "0                    0.0                    0.0                    0.0   \n",
       "1                    0.0                    1.0                    0.0   \n",
       "2                    0.0                    0.0                    0.0   \n",
       "3                    0.0                    0.0                    0.0   \n",
       "4                    0.0                    0.0                    0.0   \n",
       "\n",
       "  ohe__postal_code_93150 ohe__postal_code_93160 ohe__postal_code_93170  \\\n",
       "0                    0.0                    0.0                    1.0   \n",
       "1                    0.0                    0.0                    0.0   \n",
       "2                    0.0                    0.0                    0.0   \n",
       "3                    0.0                    0.0                    0.0   \n",
       "4                    0.0                    0.0                    0.0   \n",
       "\n",
       "  ohe__postal_code_93190  ... ohe__property_type_Appartement  \\\n",
       "0                    0.0  ...                            1.0   \n",
       "1                    0.0  ...                            1.0   \n",
       "2                    0.0  ...                            1.0   \n",
       "3                    0.0  ...                            1.0   \n",
       "4                    0.0  ...                            1.0   \n",
       "\n",
       "  ohe__property_type_Maison      tar__city       date built living_area  \\\n",
       "0                       0.0  323824.938028 2021-01-04     1        74.0   \n",
       "1                       0.0  347197.748397 2021-01-07     1        42.0   \n",
       "2                       0.0  263543.913417 2021-01-06     1        26.0   \n",
       "3                       0.0  330637.299183 2021-01-11     1        50.0   \n",
       "4                       0.0  263543.913417 2021-01-11     1        53.0   \n",
       "\n",
       "  number_of_rooms longitude   latitude  year  \n",
       "0             3.0  2.423187  48.858609  2021  \n",
       "1             2.0  2.465074  48.887137  2021  \n",
       "2             1.0  2.455386  48.914226  2021  \n",
       "3             2.0   2.44052  48.882042  2021  \n",
       "4             2.0  2.463303  48.913323  2021  \n",
       "\n",
       "[5 rows x 51 columns]"
      ]
     },
     "execution_count": 383,
     "metadata": {},
     "output_type": "execute_result"
    }
   ],
   "source": [
    "df_encoded.head()"
   ]
  },
  {
   "cell_type": "markdown",
   "id": "384c12ab",
   "metadata": {},
   "source": [
    "### Living Area"
   ]
  },
  {
   "cell_type": "code",
   "execution_count": null,
   "id": "9cc0fa50",
   "metadata": {},
   "outputs": [],
   "source": [
    "from sklearn.preprocessing import MinMaxScaler\n",
    "\n",
    "mm_scaler = MinMaxScaler()\n",
    "df_encoded['living_area_scaled'] = mm_scaler.fit_transform(df_useful[['living_area']])"
   ]
  },
  {
   "cell_type": "code",
   "execution_count": null,
   "id": "0a6f92fd",
   "metadata": {},
   "outputs": [
    {
     "data": {
      "text/plain": [
       "<Axes: xlabel='living_area_scaled', ylabel='Count'>"
      ]
     },
     "execution_count": 385,
     "metadata": {},
     "output_type": "execute_result"
    },
    {
     "data": {
      "image/png": "[encoded data removed]",
      "text/plain": [
       "<Figure size 640x480 with 1 Axes>"
      ]
     },
     "metadata": {},
     "output_type": "display_data"
    }
   ],
   "source": [
    "df_encoded.head()\n",
    "sns.histplot(x='living_area_scaled', data=df_encoded)"
   ]
  },
  {
   "cell_type": "code",
   "execution_count": null,
   "id": "68cf52fe",
   "metadata": {},
   "outputs": [
    {
     "data": {
      "text/html": [
       "<div>\n",
       "<style scoped>\n",
       "    .dataframe tbody tr th:only-of-type {\n",
       "        vertical-align: middle;\n",
       "    }\n",
       "\n",
       "    .dataframe tbody tr th {\n",
       "        vertical-align: top;\n",
       "    }\n",
       "\n",
       "    .dataframe thead th {\n",
       "        text-align: right;\n",
       "    }\n",
       "</style>\n",
       "<table border=\"1\" class=\"dataframe\">\n",
       "  <thead>\n",
       "    <tr style=\"text-align: right;\">\n",
       "      <th></th>\n",
       "      <th>ohe__postal_code_93000</th>\n",
       "      <th>ohe__postal_code_93100</th>\n",
       "      <th>ohe__postal_code_93110</th>\n",
       "      <th>ohe__postal_code_93120</th>\n",
       "      <th>ohe__postal_code_93130</th>\n",
       "      <th>ohe__postal_code_93140</th>\n",
       "      <th>ohe__postal_code_93150</th>\n",
       "      <th>ohe__postal_code_93160</th>\n",
       "      <th>ohe__postal_code_93170</th>\n",
       "      <th>ohe__postal_code_93190</th>\n",
       "      <th>...</th>\n",
       "      <th>ohe__property_type_Appartement</th>\n",
       "      <th>ohe__property_type_Maison</th>\n",
       "      <th>tar__city</th>\n",
       "      <th>date</th>\n",
       "      <th>built</th>\n",
       "      <th>number_of_rooms</th>\n",
       "      <th>longitude</th>\n",
       "      <th>latitude</th>\n",
       "      <th>year</th>\n",
       "      <th>living_area_scaled</th>\n",
       "    </tr>\n",
       "  </thead>\n",
       "  <tbody>\n",
       "    <tr>\n",
       "      <th>0</th>\n",
       "      <td>0.0</td>\n",
       "      <td>0.0</td>\n",
       "      <td>0.0</td>\n",
       "      <td>0.0</td>\n",
       "      <td>0.0</td>\n",
       "      <td>0.0</td>\n",
       "      <td>0.0</td>\n",
       "      <td>0.0</td>\n",
       "      <td>1.0</td>\n",
       "      <td>0.0</td>\n",
       "      <td>...</td>\n",
       "      <td>1.0</td>\n",
       "      <td>0.0</td>\n",
       "      <td>323824.938028</td>\n",
       "      <td>2021-01-04</td>\n",
       "      <td>1</td>\n",
       "      <td>3.0</td>\n",
       "      <td>2.423187</td>\n",
       "      <td>48.858609</td>\n",
       "      <td>2021</td>\n",
       "      <td>0.157385</td>\n",
       "    </tr>\n",
       "    <tr>\n",
       "      <th>1</th>\n",
       "      <td>0.0</td>\n",
       "      <td>0.0</td>\n",
       "      <td>0.0</td>\n",
       "      <td>0.0</td>\n",
       "      <td>1.0</td>\n",
       "      <td>0.0</td>\n",
       "      <td>0.0</td>\n",
       "      <td>0.0</td>\n",
       "      <td>0.0</td>\n",
       "      <td>0.0</td>\n",
       "      <td>...</td>\n",
       "      <td>1.0</td>\n",
       "      <td>0.0</td>\n",
       "      <td>347197.748397</td>\n",
       "      <td>2021-01-07</td>\n",
       "      <td>1</td>\n",
       "      <td>2.0</td>\n",
       "      <td>2.465074</td>\n",
       "      <td>48.887137</td>\n",
       "      <td>2021</td>\n",
       "      <td>0.079903</td>\n",
       "    </tr>\n",
       "    <tr>\n",
       "      <th>2</th>\n",
       "      <td>0.0</td>\n",
       "      <td>0.0</td>\n",
       "      <td>0.0</td>\n",
       "      <td>0.0</td>\n",
       "      <td>0.0</td>\n",
       "      <td>0.0</td>\n",
       "      <td>0.0</td>\n",
       "      <td>0.0</td>\n",
       "      <td>0.0</td>\n",
       "      <td>0.0</td>\n",
       "      <td>...</td>\n",
       "      <td>1.0</td>\n",
       "      <td>0.0</td>\n",
       "      <td>263543.913417</td>\n",
       "      <td>2021-01-06</td>\n",
       "      <td>1</td>\n",
       "      <td>1.0</td>\n",
       "      <td>2.455386</td>\n",
       "      <td>48.914226</td>\n",
       "      <td>2021</td>\n",
       "      <td>0.041162</td>\n",
       "    </tr>\n",
       "    <tr>\n",
       "      <th>3</th>\n",
       "      <td>0.0</td>\n",
       "      <td>0.0</td>\n",
       "      <td>0.0</td>\n",
       "      <td>0.0</td>\n",
       "      <td>0.0</td>\n",
       "      <td>0.0</td>\n",
       "      <td>0.0</td>\n",
       "      <td>0.0</td>\n",
       "      <td>0.0</td>\n",
       "      <td>0.0</td>\n",
       "      <td>...</td>\n",
       "      <td>1.0</td>\n",
       "      <td>0.0</td>\n",
       "      <td>330637.299183</td>\n",
       "      <td>2021-01-11</td>\n",
       "      <td>1</td>\n",
       "      <td>2.0</td>\n",
       "      <td>2.44052</td>\n",
       "      <td>48.882042</td>\n",
       "      <td>2021</td>\n",
       "      <td>0.099274</td>\n",
       "    </tr>\n",
       "    <tr>\n",
       "      <th>4</th>\n",
       "      <td>0.0</td>\n",
       "      <td>0.0</td>\n",
       "      <td>0.0</td>\n",
       "      <td>0.0</td>\n",
       "      <td>0.0</td>\n",
       "      <td>0.0</td>\n",
       "      <td>0.0</td>\n",
       "      <td>0.0</td>\n",
       "      <td>0.0</td>\n",
       "      <td>0.0</td>\n",
       "      <td>...</td>\n",
       "      <td>1.0</td>\n",
       "      <td>0.0</td>\n",
       "      <td>263543.913417</td>\n",
       "      <td>2021-01-11</td>\n",
       "      <td>1</td>\n",
       "      <td>2.0</td>\n",
       "      <td>2.463303</td>\n",
       "      <td>48.913323</td>\n",
       "      <td>2021</td>\n",
       "      <td>0.106538</td>\n",
       "    </tr>\n",
       "    <tr>\n",
       "      <th>...</th>\n",
       "      <td>...</td>\n",
       "      <td>...</td>\n",
       "      <td>...</td>\n",
       "      <td>...</td>\n",
       "      <td>...</td>\n",
       "      <td>...</td>\n",
       "      <td>...</td>\n",
       "      <td>...</td>\n",
       "      <td>...</td>\n",
       "      <td>...</td>\n",
       "      <td>...</td>\n",
       "      <td>...</td>\n",
       "      <td>...</td>\n",
       "      <td>...</td>\n",
       "      <td>...</td>\n",
       "      <td>...</td>\n",
       "      <td>...</td>\n",
       "      <td>...</td>\n",
       "      <td>...</td>\n",
       "      <td>...</td>\n",
       "      <td>...</td>\n",
       "    </tr>\n",
       "    <tr>\n",
       "      <th>30619</th>\n",
       "      <td>0.0</td>\n",
       "      <td>0.0</td>\n",
       "      <td>0.0</td>\n",
       "      <td>0.0</td>\n",
       "      <td>0.0</td>\n",
       "      <td>0.0</td>\n",
       "      <td>0.0</td>\n",
       "      <td>0.0</td>\n",
       "      <td>0.0</td>\n",
       "      <td>0.0</td>\n",
       "      <td>...</td>\n",
       "      <td>1.0</td>\n",
       "      <td>0.0</td>\n",
       "      <td>467970.319168</td>\n",
       "      <td>2021-05-07</td>\n",
       "      <td>0</td>\n",
       "      <td>3.0</td>\n",
       "      <td>2.344616</td>\n",
       "      <td>48.90748</td>\n",
       "      <td>2021</td>\n",
       "      <td>0.140436</td>\n",
       "    </tr>\n",
       "    <tr>\n",
       "      <th>30620</th>\n",
       "      <td>0.0</td>\n",
       "      <td>0.0</td>\n",
       "      <td>0.0</td>\n",
       "      <td>0.0</td>\n",
       "      <td>0.0</td>\n",
       "      <td>0.0</td>\n",
       "      <td>0.0</td>\n",
       "      <td>0.0</td>\n",
       "      <td>0.0</td>\n",
       "      <td>0.0</td>\n",
       "      <td>...</td>\n",
       "      <td>1.0</td>\n",
       "      <td>0.0</td>\n",
       "      <td>350726.825612</td>\n",
       "      <td>2021-05-11</td>\n",
       "      <td>1</td>\n",
       "      <td>2.0</td>\n",
       "      <td>2.347329</td>\n",
       "      <td>48.937029</td>\n",
       "      <td>2021</td>\n",
       "      <td>0.171913</td>\n",
       "    </tr>\n",
       "    <tr>\n",
       "      <th>30621</th>\n",
       "      <td>0.0</td>\n",
       "      <td>0.0</td>\n",
       "      <td>0.0</td>\n",
       "      <td>0.0</td>\n",
       "      <td>0.0</td>\n",
       "      <td>0.0</td>\n",
       "      <td>0.0</td>\n",
       "      <td>0.0</td>\n",
       "      <td>0.0</td>\n",
       "      <td>0.0</td>\n",
       "      <td>...</td>\n",
       "      <td>1.0</td>\n",
       "      <td>0.0</td>\n",
       "      <td>174727.226385</td>\n",
       "      <td>2021-05-07</td>\n",
       "      <td>1</td>\n",
       "      <td>4.0</td>\n",
       "      <td>2.379998</td>\n",
       "      <td>48.958582</td>\n",
       "      <td>2021</td>\n",
       "      <td>0.171913</td>\n",
       "    </tr>\n",
       "    <tr>\n",
       "      <th>30622</th>\n",
       "      <td>0.0</td>\n",
       "      <td>0.0</td>\n",
       "      <td>0.0</td>\n",
       "      <td>0.0</td>\n",
       "      <td>0.0</td>\n",
       "      <td>0.0</td>\n",
       "      <td>0.0</td>\n",
       "      <td>0.0</td>\n",
       "      <td>0.0</td>\n",
       "      <td>0.0</td>\n",
       "      <td>...</td>\n",
       "      <td>1.0</td>\n",
       "      <td>0.0</td>\n",
       "      <td>353638.734077</td>\n",
       "      <td>2021-04-29</td>\n",
       "      <td>1</td>\n",
       "      <td>4.0</td>\n",
       "      <td>2.348916</td>\n",
       "      <td>48.939137</td>\n",
       "      <td>2021</td>\n",
       "      <td>0.186441</td>\n",
       "    </tr>\n",
       "    <tr>\n",
       "      <th>30623</th>\n",
       "      <td>0.0</td>\n",
       "      <td>0.0</td>\n",
       "      <td>0.0</td>\n",
       "      <td>0.0</td>\n",
       "      <td>0.0</td>\n",
       "      <td>0.0</td>\n",
       "      <td>0.0</td>\n",
       "      <td>0.0</td>\n",
       "      <td>0.0</td>\n",
       "      <td>0.0</td>\n",
       "      <td>...</td>\n",
       "      <td>1.0</td>\n",
       "      <td>0.0</td>\n",
       "      <td>347665.534677</td>\n",
       "      <td>2021-05-06</td>\n",
       "      <td>1</td>\n",
       "      <td>3.0</td>\n",
       "      <td>2.386661</td>\n",
       "      <td>48.918338</td>\n",
       "      <td>2021</td>\n",
       "      <td>0.113801</td>\n",
       "    </tr>\n",
       "  </tbody>\n",
       "</table>\n",
       "<p>30624 rows × 51 columns</p>\n",
       "</div>"
      ],
      "text/plain": [
       "      ohe__postal_code_93000 ohe__postal_code_93100 ohe__postal_code_93110  \\\n",
       "0                        0.0                    0.0                    0.0   \n",
       "1                        0.0                    0.0                    0.0   \n",
       "2                        0.0                    0.0                    0.0   \n",
       "3                        0.0                    0.0                    0.0   \n",
       "4                        0.0                    0.0                    0.0   \n",
       "...                      ...                    ...                    ...   \n",
       "30619                    0.0                    0.0                    0.0   \n",
       "30620                    0.0                    0.0                    0.0   \n",
       "30621                    0.0                    0.0                    0.0   \n",
       "30622                    0.0                    0.0                    0.0   \n",
       "30623                    0.0                    0.0                    0.0   \n",
       "\n",
       "      ohe__postal_code_93120 ohe__postal_code_93130 ohe__postal_code_93140  \\\n",
       "0                        0.0                    0.0                    0.0   \n",
       "1                        0.0                    1.0                    0.0   \n",
       "2                        0.0                    0.0                    0.0   \n",
       "3                        0.0                    0.0                    0.0   \n",
       "4                        0.0                    0.0                    0.0   \n",
       "...                      ...                    ...                    ...   \n",
       "30619                    0.0                    0.0                    0.0   \n",
       "30620                    0.0                    0.0                    0.0   \n",
       "30621                    0.0                    0.0                    0.0   \n",
       "30622                    0.0                    0.0                    0.0   \n",
       "30623                    0.0                    0.0                    0.0   \n",
       "\n",
       "      ohe__postal_code_93150 ohe__postal_code_93160 ohe__postal_code_93170  \\\n",
       "0                        0.0                    0.0                    1.0   \n",
       "1                        0.0                    0.0                    0.0   \n",
       "2                        0.0                    0.0                    0.0   \n",
       "3                        0.0                    0.0                    0.0   \n",
       "4                        0.0                    0.0                    0.0   \n",
       "...                      ...                    ...                    ...   \n",
       "30619                    0.0                    0.0                    0.0   \n",
       "30620                    0.0                    0.0                    0.0   \n",
       "30621                    0.0                    0.0                    0.0   \n",
       "30622                    0.0                    0.0                    0.0   \n",
       "30623                    0.0                    0.0                    0.0   \n",
       "\n",
       "      ohe__postal_code_93190  ... ohe__property_type_Appartement  \\\n",
       "0                        0.0  ...                            1.0   \n",
       "1                        0.0  ...                            1.0   \n",
       "2                        0.0  ...                            1.0   \n",
       "3                        0.0  ...                            1.0   \n",
       "4                        0.0  ...                            1.0   \n",
       "...                      ...  ...                            ...   \n",
       "30619                    0.0  ...                            1.0   \n",
       "30620                    0.0  ...                            1.0   \n",
       "30621                    0.0  ...                            1.0   \n",
       "30622                    0.0  ...                            1.0   \n",
       "30623                    0.0  ...                            1.0   \n",
       "\n",
       "      ohe__property_type_Maison      tar__city       date built  \\\n",
       "0                           0.0  323824.938028 2021-01-04     1   \n",
       "1                           0.0  347197.748397 2021-01-07     1   \n",
       "2                           0.0  263543.913417 2021-01-06     1   \n",
       "3                           0.0  330637.299183 2021-01-11     1   \n",
       "4                           0.0  263543.913417 2021-01-11     1   \n",
       "...                         ...            ...        ...   ...   \n",
       "30619                       0.0  467970.319168 2021-05-07     0   \n",
       "30620                       0.0  350726.825612 2021-05-11     1   \n",
       "30621                       0.0  174727.226385 2021-05-07     1   \n",
       "30622                       0.0  353638.734077 2021-04-29     1   \n",
       "30623                       0.0  347665.534677 2021-05-06     1   \n",
       "\n",
       "      number_of_rooms longitude   latitude  year living_area_scaled  \n",
       "0                 3.0  2.423187  48.858609  2021           0.157385  \n",
       "1                 2.0  2.465074  48.887137  2021           0.079903  \n",
       "2                 1.0  2.455386  48.914226  2021           0.041162  \n",
       "3                 2.0   2.44052  48.882042  2021           0.099274  \n",
       "4                 2.0  2.463303  48.913323  2021           0.106538  \n",
       "...               ...       ...        ...   ...                ...  \n",
       "30619             3.0  2.344616   48.90748  2021           0.140436  \n",
       "30620             2.0  2.347329  48.937029  2021           0.171913  \n",
       "30621             4.0  2.379998  48.958582  2021           0.171913  \n",
       "30622             4.0  2.348916  48.939137  2021           0.186441  \n",
       "30623             3.0  2.386661  48.918338  2021           0.113801  \n",
       "\n",
       "[30624 rows x 51 columns]"
      ]
     },
     "execution_count": 386,
     "metadata": {},
     "output_type": "execute_result"
    }
   ],
   "source": [
    "# Drop cells\n",
    "df_encoded = df_encoded.drop(columns='living_area')\n",
    "df_encoded"
   ]
  },
  {
   "cell_type": "markdown",
   "id": "9c2b160b",
   "metadata": {},
   "source": [
    "### Number of rooms"
   ]
  },
  {
   "cell_type": "code",
   "execution_count": null,
   "id": "e4b72a83",
   "metadata": {},
   "outputs": [
    {
     "data": {
      "image/png": "[encoded data removed]",
      "text/plain": [
       "<Figure size 640x480 with 1 Axes>"
      ]
     },
     "metadata": {},
     "output_type": "display_data"
    }
   ],
   "source": [
    "sns.histplot(x='number_of_rooms', data=df_encoded);\n",
    "plt.show()"
   ]
  },
  {
   "cell_type": "code",
   "execution_count": null,
   "id": "081034ff",
   "metadata": {},
   "outputs": [],
   "source": [
    "from sklearn.preprocessing import MinMaxScaler\n",
    "\n",
    "scaler = MinMaxScaler()\n",
    "df_encoded['number_of_rooms_scaled'] = scaler.fit_transform(df_encoded[['number_of_rooms']])"
   ]
  },
  {
   "cell_type": "code",
   "execution_count": null,
   "id": "67a6ca66",
   "metadata": {},
   "outputs": [
    {
     "data": {
      "text/html": [
       "<div>\n",
       "<style scoped>\n",
       "    .dataframe tbody tr th:only-of-type {\n",
       "        vertical-align: middle;\n",
       "    }\n",
       "\n",
       "    .dataframe tbody tr th {\n",
       "        vertical-align: top;\n",
       "    }\n",
       "\n",
       "    .dataframe thead th {\n",
       "        text-align: right;\n",
       "    }\n",
       "</style>\n",
       "<table border=\"1\" class=\"dataframe\">\n",
       "  <thead>\n",
       "    <tr style=\"text-align: right;\">\n",
       "      <th></th>\n",
       "      <th>ohe__postal_code_93000</th>\n",
       "      <th>ohe__postal_code_93100</th>\n",
       "      <th>ohe__postal_code_93110</th>\n",
       "      <th>ohe__postal_code_93120</th>\n",
       "      <th>ohe__postal_code_93130</th>\n",
       "      <th>ohe__postal_code_93140</th>\n",
       "      <th>ohe__postal_code_93150</th>\n",
       "      <th>ohe__postal_code_93160</th>\n",
       "      <th>ohe__postal_code_93170</th>\n",
       "      <th>ohe__postal_code_93190</th>\n",
       "      <th>...</th>\n",
       "      <th>ohe__property_type_Appartement</th>\n",
       "      <th>ohe__property_type_Maison</th>\n",
       "      <th>tar__city</th>\n",
       "      <th>date</th>\n",
       "      <th>built</th>\n",
       "      <th>longitude</th>\n",
       "      <th>latitude</th>\n",
       "      <th>year</th>\n",
       "      <th>living_area_scaled</th>\n",
       "      <th>number_of_rooms_scaled</th>\n",
       "    </tr>\n",
       "  </thead>\n",
       "  <tbody>\n",
       "    <tr>\n",
       "      <th>0</th>\n",
       "      <td>0.0</td>\n",
       "      <td>0.0</td>\n",
       "      <td>0.0</td>\n",
       "      <td>0.0</td>\n",
       "      <td>0.0</td>\n",
       "      <td>0.0</td>\n",
       "      <td>0.0</td>\n",
       "      <td>0.0</td>\n",
       "      <td>1.0</td>\n",
       "      <td>0.0</td>\n",
       "      <td>...</td>\n",
       "      <td>1.0</td>\n",
       "      <td>0.0</td>\n",
       "      <td>323824.938028</td>\n",
       "      <td>2021-01-04</td>\n",
       "      <td>1</td>\n",
       "      <td>2.423187</td>\n",
       "      <td>48.858609</td>\n",
       "      <td>2021</td>\n",
       "      <td>0.157385</td>\n",
       "      <td>0.250000</td>\n",
       "    </tr>\n",
       "    <tr>\n",
       "      <th>1</th>\n",
       "      <td>0.0</td>\n",
       "      <td>0.0</td>\n",
       "      <td>0.0</td>\n",
       "      <td>0.0</td>\n",
       "      <td>1.0</td>\n",
       "      <td>0.0</td>\n",
       "      <td>0.0</td>\n",
       "      <td>0.0</td>\n",
       "      <td>0.0</td>\n",
       "      <td>0.0</td>\n",
       "      <td>...</td>\n",
       "      <td>1.0</td>\n",
       "      <td>0.0</td>\n",
       "      <td>347197.748397</td>\n",
       "      <td>2021-01-07</td>\n",
       "      <td>1</td>\n",
       "      <td>2.465074</td>\n",
       "      <td>48.887137</td>\n",
       "      <td>2021</td>\n",
       "      <td>0.079903</td>\n",
       "      <td>0.166667</td>\n",
       "    </tr>\n",
       "    <tr>\n",
       "      <th>2</th>\n",
       "      <td>0.0</td>\n",
       "      <td>0.0</td>\n",
       "      <td>0.0</td>\n",
       "      <td>0.0</td>\n",
       "      <td>0.0</td>\n",
       "      <td>0.0</td>\n",
       "      <td>0.0</td>\n",
       "      <td>0.0</td>\n",
       "      <td>0.0</td>\n",
       "      <td>0.0</td>\n",
       "      <td>...</td>\n",
       "      <td>1.0</td>\n",
       "      <td>0.0</td>\n",
       "      <td>263543.913417</td>\n",
       "      <td>2021-01-06</td>\n",
       "      <td>1</td>\n",
       "      <td>2.455386</td>\n",
       "      <td>48.914226</td>\n",
       "      <td>2021</td>\n",
       "      <td>0.041162</td>\n",
       "      <td>0.083333</td>\n",
       "    </tr>\n",
       "    <tr>\n",
       "      <th>3</th>\n",
       "      <td>0.0</td>\n",
       "      <td>0.0</td>\n",
       "      <td>0.0</td>\n",
       "      <td>0.0</td>\n",
       "      <td>0.0</td>\n",
       "      <td>0.0</td>\n",
       "      <td>0.0</td>\n",
       "      <td>0.0</td>\n",
       "      <td>0.0</td>\n",
       "      <td>0.0</td>\n",
       "      <td>...</td>\n",
       "      <td>1.0</td>\n",
       "      <td>0.0</td>\n",
       "      <td>330637.299183</td>\n",
       "      <td>2021-01-11</td>\n",
       "      <td>1</td>\n",
       "      <td>2.44052</td>\n",
       "      <td>48.882042</td>\n",
       "      <td>2021</td>\n",
       "      <td>0.099274</td>\n",
       "      <td>0.166667</td>\n",
       "    </tr>\n",
       "    <tr>\n",
       "      <th>4</th>\n",
       "      <td>0.0</td>\n",
       "      <td>0.0</td>\n",
       "      <td>0.0</td>\n",
       "      <td>0.0</td>\n",
       "      <td>0.0</td>\n",
       "      <td>0.0</td>\n",
       "      <td>0.0</td>\n",
       "      <td>0.0</td>\n",
       "      <td>0.0</td>\n",
       "      <td>0.0</td>\n",
       "      <td>...</td>\n",
       "      <td>1.0</td>\n",
       "      <td>0.0</td>\n",
       "      <td>263543.913417</td>\n",
       "      <td>2021-01-11</td>\n",
       "      <td>1</td>\n",
       "      <td>2.463303</td>\n",
       "      <td>48.913323</td>\n",
       "      <td>2021</td>\n",
       "      <td>0.106538</td>\n",
       "      <td>0.166667</td>\n",
       "    </tr>\n",
       "    <tr>\n",
       "      <th>...</th>\n",
       "      <td>...</td>\n",
       "      <td>...</td>\n",
       "      <td>...</td>\n",
       "      <td>...</td>\n",
       "      <td>...</td>\n",
       "      <td>...</td>\n",
       "      <td>...</td>\n",
       "      <td>...</td>\n",
       "      <td>...</td>\n",
       "      <td>...</td>\n",
       "      <td>...</td>\n",
       "      <td>...</td>\n",
       "      <td>...</td>\n",
       "      <td>...</td>\n",
       "      <td>...</td>\n",
       "      <td>...</td>\n",
       "      <td>...</td>\n",
       "      <td>...</td>\n",
       "      <td>...</td>\n",
       "      <td>...</td>\n",
       "      <td>...</td>\n",
       "    </tr>\n",
       "    <tr>\n",
       "      <th>30619</th>\n",
       "      <td>0.0</td>\n",
       "      <td>0.0</td>\n",
       "      <td>0.0</td>\n",
       "      <td>0.0</td>\n",
       "      <td>0.0</td>\n",
       "      <td>0.0</td>\n",
       "      <td>0.0</td>\n",
       "      <td>0.0</td>\n",
       "      <td>0.0</td>\n",
       "      <td>0.0</td>\n",
       "      <td>...</td>\n",
       "      <td>1.0</td>\n",
       "      <td>0.0</td>\n",
       "      <td>467970.319168</td>\n",
       "      <td>2021-05-07</td>\n",
       "      <td>0</td>\n",
       "      <td>2.344616</td>\n",
       "      <td>48.90748</td>\n",
       "      <td>2021</td>\n",
       "      <td>0.140436</td>\n",
       "      <td>0.250000</td>\n",
       "    </tr>\n",
       "    <tr>\n",
       "      <th>30620</th>\n",
       "      <td>0.0</td>\n",
       "      <td>0.0</td>\n",
       "      <td>0.0</td>\n",
       "      <td>0.0</td>\n",
       "      <td>0.0</td>\n",
       "      <td>0.0</td>\n",
       "      <td>0.0</td>\n",
       "      <td>0.0</td>\n",
       "      <td>0.0</td>\n",
       "      <td>0.0</td>\n",
       "      <td>...</td>\n",
       "      <td>1.0</td>\n",
       "      <td>0.0</td>\n",
       "      <td>350726.825612</td>\n",
       "      <td>2021-05-11</td>\n",
       "      <td>1</td>\n",
       "      <td>2.347329</td>\n",
       "      <td>48.937029</td>\n",
       "      <td>2021</td>\n",
       "      <td>0.171913</td>\n",
       "      <td>0.166667</td>\n",
       "    </tr>\n",
       "    <tr>\n",
       "      <th>30621</th>\n",
       "      <td>0.0</td>\n",
       "      <td>0.0</td>\n",
       "      <td>0.0</td>\n",
       "      <td>0.0</td>\n",
       "      <td>0.0</td>\n",
       "      <td>0.0</td>\n",
       "      <td>0.0</td>\n",
       "      <td>0.0</td>\n",
       "      <td>0.0</td>\n",
       "      <td>0.0</td>\n",
       "      <td>...</td>\n",
       "      <td>1.0</td>\n",
       "      <td>0.0</td>\n",
       "      <td>174727.226385</td>\n",
       "      <td>2021-05-07</td>\n",
       "      <td>1</td>\n",
       "      <td>2.379998</td>\n",
       "      <td>48.958582</td>\n",
       "      <td>2021</td>\n",
       "      <td>0.171913</td>\n",
       "      <td>0.333333</td>\n",
       "    </tr>\n",
       "    <tr>\n",
       "      <th>30622</th>\n",
       "      <td>0.0</td>\n",
       "      <td>0.0</td>\n",
       "      <td>0.0</td>\n",
       "      <td>0.0</td>\n",
       "      <td>0.0</td>\n",
       "      <td>0.0</td>\n",
       "      <td>0.0</td>\n",
       "      <td>0.0</td>\n",
       "      <td>0.0</td>\n",
       "      <td>0.0</td>\n",
       "      <td>...</td>\n",
       "      <td>1.0</td>\n",
       "      <td>0.0</td>\n",
       "      <td>353638.734077</td>\n",
       "      <td>2021-04-29</td>\n",
       "      <td>1</td>\n",
       "      <td>2.348916</td>\n",
       "      <td>48.939137</td>\n",
       "      <td>2021</td>\n",
       "      <td>0.186441</td>\n",
       "      <td>0.333333</td>\n",
       "    </tr>\n",
       "    <tr>\n",
       "      <th>30623</th>\n",
       "      <td>0.0</td>\n",
       "      <td>0.0</td>\n",
       "      <td>0.0</td>\n",
       "      <td>0.0</td>\n",
       "      <td>0.0</td>\n",
       "      <td>0.0</td>\n",
       "      <td>0.0</td>\n",
       "      <td>0.0</td>\n",
       "      <td>0.0</td>\n",
       "      <td>0.0</td>\n",
       "      <td>...</td>\n",
       "      <td>1.0</td>\n",
       "      <td>0.0</td>\n",
       "      <td>347665.534677</td>\n",
       "      <td>2021-05-06</td>\n",
       "      <td>1</td>\n",
       "      <td>2.386661</td>\n",
       "      <td>48.918338</td>\n",
       "      <td>2021</td>\n",
       "      <td>0.113801</td>\n",
       "      <td>0.250000</td>\n",
       "    </tr>\n",
       "  </tbody>\n",
       "</table>\n",
       "<p>30624 rows × 51 columns</p>\n",
       "</div>"
      ],
      "text/plain": [
       "      ohe__postal_code_93000 ohe__postal_code_93100 ohe__postal_code_93110  \\\n",
       "0                        0.0                    0.0                    0.0   \n",
       "1                        0.0                    0.0                    0.0   \n",
       "2                        0.0                    0.0                    0.0   \n",
       "3                        0.0                    0.0                    0.0   \n",
       "4                        0.0                    0.0                    0.0   \n",
       "...                      ...                    ...                    ...   \n",
       "30619                    0.0                    0.0                    0.0   \n",
       "30620                    0.0                    0.0                    0.0   \n",
       "30621                    0.0                    0.0                    0.0   \n",
       "30622                    0.0                    0.0                    0.0   \n",
       "30623                    0.0                    0.0                    0.0   \n",
       "\n",
       "      ohe__postal_code_93120 ohe__postal_code_93130 ohe__postal_code_93140  \\\n",
       "0                        0.0                    0.0                    0.0   \n",
       "1                        0.0                    1.0                    0.0   \n",
       "2                        0.0                    0.0                    0.0   \n",
       "3                        0.0                    0.0                    0.0   \n",
       "4                        0.0                    0.0                    0.0   \n",
       "...                      ...                    ...                    ...   \n",
       "30619                    0.0                    0.0                    0.0   \n",
       "30620                    0.0                    0.0                    0.0   \n",
       "30621                    0.0                    0.0                    0.0   \n",
       "30622                    0.0                    0.0                    0.0   \n",
       "30623                    0.0                    0.0                    0.0   \n",
       "\n",
       "      ohe__postal_code_93150 ohe__postal_code_93160 ohe__postal_code_93170  \\\n",
       "0                        0.0                    0.0                    1.0   \n",
       "1                        0.0                    0.0                    0.0   \n",
       "2                        0.0                    0.0                    0.0   \n",
       "3                        0.0                    0.0                    0.0   \n",
       "4                        0.0                    0.0                    0.0   \n",
       "...                      ...                    ...                    ...   \n",
       "30619                    0.0                    0.0                    0.0   \n",
       "30620                    0.0                    0.0                    0.0   \n",
       "30621                    0.0                    0.0                    0.0   \n",
       "30622                    0.0                    0.0                    0.0   \n",
       "30623                    0.0                    0.0                    0.0   \n",
       "\n",
       "      ohe__postal_code_93190  ... ohe__property_type_Appartement  \\\n",
       "0                        0.0  ...                            1.0   \n",
       "1                        0.0  ...                            1.0   \n",
       "2                        0.0  ...                            1.0   \n",
       "3                        0.0  ...                            1.0   \n",
       "4                        0.0  ...                            1.0   \n",
       "...                      ...  ...                            ...   \n",
       "30619                    0.0  ...                            1.0   \n",
       "30620                    0.0  ...                            1.0   \n",
       "30621                    0.0  ...                            1.0   \n",
       "30622                    0.0  ...                            1.0   \n",
       "30623                    0.0  ...                            1.0   \n",
       "\n",
       "      ohe__property_type_Maison      tar__city       date built longitude  \\\n",
       "0                           0.0  323824.938028 2021-01-04     1  2.423187   \n",
       "1                           0.0  347197.748397 2021-01-07     1  2.465074   \n",
       "2                           0.0  263543.913417 2021-01-06     1  2.455386   \n",
       "3                           0.0  330637.299183 2021-01-11     1   2.44052   \n",
       "4                           0.0  263543.913417 2021-01-11     1  2.463303   \n",
       "...                         ...            ...        ...   ...       ...   \n",
       "30619                       0.0  467970.319168 2021-05-07     0  2.344616   \n",
       "30620                       0.0  350726.825612 2021-05-11     1  2.347329   \n",
       "30621                       0.0  174727.226385 2021-05-07     1  2.379998   \n",
       "30622                       0.0  353638.734077 2021-04-29     1  2.348916   \n",
       "30623                       0.0  347665.534677 2021-05-06     1  2.386661   \n",
       "\n",
       "        latitude  year living_area_scaled number_of_rooms_scaled  \n",
       "0      48.858609  2021           0.157385               0.250000  \n",
       "1      48.887137  2021           0.079903               0.166667  \n",
       "2      48.914226  2021           0.041162               0.083333  \n",
       "3      48.882042  2021           0.099274               0.166667  \n",
       "4      48.913323  2021           0.106538               0.166667  \n",
       "...          ...   ...                ...                    ...  \n",
       "30619   48.90748  2021           0.140436               0.250000  \n",
       "30620  48.937029  2021           0.171913               0.166667  \n",
       "30621  48.958582  2021           0.171913               0.333333  \n",
       "30622  48.939137  2021           0.186441               0.333333  \n",
       "30623  48.918338  2021           0.113801               0.250000  \n",
       "\n",
       "[30624 rows x 51 columns]"
      ]
     },
     "execution_count": 389,
     "metadata": {},
     "output_type": "execute_result"
    }
   ],
   "source": [
    "# Drop cells\n",
    "df_encoded = df_encoded.drop(columns='number_of_rooms')\n",
    "df_encoded"
   ]
  },
  {
   "cell_type": "code",
   "execution_count": null,
   "id": "52923b58",
   "metadata": {},
   "outputs": [],
   "source": [
    "df_encoded['longitude_scaled'] = mm_scaler.fit_transform(df_encoded[['longitude']])\n",
    "df_encoded['latitude_scaled'] = mm_scaler.fit_transform(df_encoded[['latitude']])"
   ]
  },
  {
   "cell_type": "code",
   "execution_count": null,
   "id": "4004db1c",
   "metadata": {},
   "outputs": [
    {
     "data": {
      "text/html": [
       "<div>\n",
       "<style scoped>\n",
       "    .dataframe tbody tr th:only-of-type {\n",
       "        vertical-align: middle;\n",
       "    }\n",
       "\n",
       "    .dataframe tbody tr th {\n",
       "        vertical-align: top;\n",
       "    }\n",
       "\n",
       "    .dataframe thead th {\n",
       "        text-align: right;\n",
       "    }\n",
       "</style>\n",
       "<table border=\"1\" class=\"dataframe\">\n",
       "  <thead>\n",
       "    <tr style=\"text-align: right;\">\n",
       "      <th></th>\n",
       "      <th>ohe__postal_code_93000</th>\n",
       "      <th>ohe__postal_code_93100</th>\n",
       "      <th>ohe__postal_code_93110</th>\n",
       "      <th>ohe__postal_code_93120</th>\n",
       "      <th>ohe__postal_code_93130</th>\n",
       "      <th>ohe__postal_code_93140</th>\n",
       "      <th>ohe__postal_code_93150</th>\n",
       "      <th>ohe__postal_code_93160</th>\n",
       "      <th>ohe__postal_code_93170</th>\n",
       "      <th>ohe__postal_code_93190</th>\n",
       "      <th>...</th>\n",
       "      <th>ohe__property_type_Appartement</th>\n",
       "      <th>ohe__property_type_Maison</th>\n",
       "      <th>tar__city</th>\n",
       "      <th>date</th>\n",
       "      <th>built</th>\n",
       "      <th>year</th>\n",
       "      <th>living_area_scaled</th>\n",
       "      <th>number_of_rooms_scaled</th>\n",
       "      <th>longitude_scaled</th>\n",
       "      <th>latitude_scaled</th>\n",
       "    </tr>\n",
       "  </thead>\n",
       "  <tbody>\n",
       "    <tr>\n",
       "      <th>0</th>\n",
       "      <td>0.0</td>\n",
       "      <td>0.0</td>\n",
       "      <td>0.0</td>\n",
       "      <td>0.0</td>\n",
       "      <td>0.0</td>\n",
       "      <td>0.0</td>\n",
       "      <td>0.0</td>\n",
       "      <td>0.0</td>\n",
       "      <td>1.0</td>\n",
       "      <td>0.0</td>\n",
       "      <td>...</td>\n",
       "      <td>1.0</td>\n",
       "      <td>0.0</td>\n",
       "      <td>323824.938028</td>\n",
       "      <td>2021-01-04</td>\n",
       "      <td>1</td>\n",
       "      <td>2021</td>\n",
       "      <td>0.157385</td>\n",
       "      <td>0.250000</td>\n",
       "      <td>0.435820</td>\n",
       "      <td>0.220272</td>\n",
       "    </tr>\n",
       "    <tr>\n",
       "      <th>1</th>\n",
       "      <td>0.0</td>\n",
       "      <td>0.0</td>\n",
       "      <td>0.0</td>\n",
       "      <td>0.0</td>\n",
       "      <td>1.0</td>\n",
       "      <td>0.0</td>\n",
       "      <td>0.0</td>\n",
       "      <td>0.0</td>\n",
       "      <td>0.0</td>\n",
       "      <td>0.0</td>\n",
       "      <td>...</td>\n",
       "      <td>1.0</td>\n",
       "      <td>0.0</td>\n",
       "      <td>347197.748397</td>\n",
       "      <td>2021-01-07</td>\n",
       "      <td>1</td>\n",
       "      <td>2021</td>\n",
       "      <td>0.079903</td>\n",
       "      <td>0.166667</td>\n",
       "      <td>0.573234</td>\n",
       "      <td>0.398423</td>\n",
       "    </tr>\n",
       "    <tr>\n",
       "      <th>2</th>\n",
       "      <td>0.0</td>\n",
       "      <td>0.0</td>\n",
       "      <td>0.0</td>\n",
       "      <td>0.0</td>\n",
       "      <td>0.0</td>\n",
       "      <td>0.0</td>\n",
       "      <td>0.0</td>\n",
       "      <td>0.0</td>\n",
       "      <td>0.0</td>\n",
       "      <td>0.0</td>\n",
       "      <td>...</td>\n",
       "      <td>1.0</td>\n",
       "      <td>0.0</td>\n",
       "      <td>263543.913417</td>\n",
       "      <td>2021-01-06</td>\n",
       "      <td>1</td>\n",
       "      <td>2021</td>\n",
       "      <td>0.041162</td>\n",
       "      <td>0.083333</td>\n",
       "      <td>0.541452</td>\n",
       "      <td>0.567587</td>\n",
       "    </tr>\n",
       "    <tr>\n",
       "      <th>3</th>\n",
       "      <td>0.0</td>\n",
       "      <td>0.0</td>\n",
       "      <td>0.0</td>\n",
       "      <td>0.0</td>\n",
       "      <td>0.0</td>\n",
       "      <td>0.0</td>\n",
       "      <td>0.0</td>\n",
       "      <td>0.0</td>\n",
       "      <td>0.0</td>\n",
       "      <td>0.0</td>\n",
       "      <td>...</td>\n",
       "      <td>1.0</td>\n",
       "      <td>0.0</td>\n",
       "      <td>330637.299183</td>\n",
       "      <td>2021-01-11</td>\n",
       "      <td>1</td>\n",
       "      <td>2021</td>\n",
       "      <td>0.099274</td>\n",
       "      <td>0.166667</td>\n",
       "      <td>0.492683</td>\n",
       "      <td>0.366605</td>\n",
       "    </tr>\n",
       "    <tr>\n",
       "      <th>4</th>\n",
       "      <td>0.0</td>\n",
       "      <td>0.0</td>\n",
       "      <td>0.0</td>\n",
       "      <td>0.0</td>\n",
       "      <td>0.0</td>\n",
       "      <td>0.0</td>\n",
       "      <td>0.0</td>\n",
       "      <td>0.0</td>\n",
       "      <td>0.0</td>\n",
       "      <td>0.0</td>\n",
       "      <td>...</td>\n",
       "      <td>1.0</td>\n",
       "      <td>0.0</td>\n",
       "      <td>263543.913417</td>\n",
       "      <td>2021-01-11</td>\n",
       "      <td>1</td>\n",
       "      <td>2021</td>\n",
       "      <td>0.106538</td>\n",
       "      <td>0.166667</td>\n",
       "      <td>0.567424</td>\n",
       "      <td>0.561948</td>\n",
       "    </tr>\n",
       "    <tr>\n",
       "      <th>...</th>\n",
       "      <td>...</td>\n",
       "      <td>...</td>\n",
       "      <td>...</td>\n",
       "      <td>...</td>\n",
       "      <td>...</td>\n",
       "      <td>...</td>\n",
       "      <td>...</td>\n",
       "      <td>...</td>\n",
       "      <td>...</td>\n",
       "      <td>...</td>\n",
       "      <td>...</td>\n",
       "      <td>...</td>\n",
       "      <td>...</td>\n",
       "      <td>...</td>\n",
       "      <td>...</td>\n",
       "      <td>...</td>\n",
       "      <td>...</td>\n",
       "      <td>...</td>\n",
       "      <td>...</td>\n",
       "      <td>...</td>\n",
       "      <td>...</td>\n",
       "    </tr>\n",
       "    <tr>\n",
       "      <th>30619</th>\n",
       "      <td>0.0</td>\n",
       "      <td>0.0</td>\n",
       "      <td>0.0</td>\n",
       "      <td>0.0</td>\n",
       "      <td>0.0</td>\n",
       "      <td>0.0</td>\n",
       "      <td>0.0</td>\n",
       "      <td>0.0</td>\n",
       "      <td>0.0</td>\n",
       "      <td>0.0</td>\n",
       "      <td>...</td>\n",
       "      <td>1.0</td>\n",
       "      <td>0.0</td>\n",
       "      <td>467970.319168</td>\n",
       "      <td>2021-05-07</td>\n",
       "      <td>0</td>\n",
       "      <td>2021</td>\n",
       "      <td>0.140436</td>\n",
       "      <td>0.250000</td>\n",
       "      <td>0.178061</td>\n",
       "      <td>0.525460</td>\n",
       "    </tr>\n",
       "    <tr>\n",
       "      <th>30620</th>\n",
       "      <td>0.0</td>\n",
       "      <td>0.0</td>\n",
       "      <td>0.0</td>\n",
       "      <td>0.0</td>\n",
       "      <td>0.0</td>\n",
       "      <td>0.0</td>\n",
       "      <td>0.0</td>\n",
       "      <td>0.0</td>\n",
       "      <td>0.0</td>\n",
       "      <td>0.0</td>\n",
       "      <td>...</td>\n",
       "      <td>1.0</td>\n",
       "      <td>0.0</td>\n",
       "      <td>350726.825612</td>\n",
       "      <td>2021-05-11</td>\n",
       "      <td>1</td>\n",
       "      <td>2021</td>\n",
       "      <td>0.171913</td>\n",
       "      <td>0.166667</td>\n",
       "      <td>0.186961</td>\n",
       "      <td>0.709987</td>\n",
       "    </tr>\n",
       "    <tr>\n",
       "      <th>30621</th>\n",
       "      <td>0.0</td>\n",
       "      <td>0.0</td>\n",
       "      <td>0.0</td>\n",
       "      <td>0.0</td>\n",
       "      <td>0.0</td>\n",
       "      <td>0.0</td>\n",
       "      <td>0.0</td>\n",
       "      <td>0.0</td>\n",
       "      <td>0.0</td>\n",
       "      <td>0.0</td>\n",
       "      <td>...</td>\n",
       "      <td>1.0</td>\n",
       "      <td>0.0</td>\n",
       "      <td>174727.226385</td>\n",
       "      <td>2021-05-07</td>\n",
       "      <td>1</td>\n",
       "      <td>2021</td>\n",
       "      <td>0.171913</td>\n",
       "      <td>0.333333</td>\n",
       "      <td>0.294135</td>\n",
       "      <td>0.844580</td>\n",
       "    </tr>\n",
       "    <tr>\n",
       "      <th>30622</th>\n",
       "      <td>0.0</td>\n",
       "      <td>0.0</td>\n",
       "      <td>0.0</td>\n",
       "      <td>0.0</td>\n",
       "      <td>0.0</td>\n",
       "      <td>0.0</td>\n",
       "      <td>0.0</td>\n",
       "      <td>0.0</td>\n",
       "      <td>0.0</td>\n",
       "      <td>0.0</td>\n",
       "      <td>...</td>\n",
       "      <td>1.0</td>\n",
       "      <td>0.0</td>\n",
       "      <td>353638.734077</td>\n",
       "      <td>2021-04-29</td>\n",
       "      <td>1</td>\n",
       "      <td>2021</td>\n",
       "      <td>0.186441</td>\n",
       "      <td>0.333333</td>\n",
       "      <td>0.192167</td>\n",
       "      <td>0.723151</td>\n",
       "    </tr>\n",
       "    <tr>\n",
       "      <th>30623</th>\n",
       "      <td>0.0</td>\n",
       "      <td>0.0</td>\n",
       "      <td>0.0</td>\n",
       "      <td>0.0</td>\n",
       "      <td>0.0</td>\n",
       "      <td>0.0</td>\n",
       "      <td>0.0</td>\n",
       "      <td>0.0</td>\n",
       "      <td>0.0</td>\n",
       "      <td>0.0</td>\n",
       "      <td>...</td>\n",
       "      <td>1.0</td>\n",
       "      <td>0.0</td>\n",
       "      <td>347665.534677</td>\n",
       "      <td>2021-05-06</td>\n",
       "      <td>1</td>\n",
       "      <td>2021</td>\n",
       "      <td>0.113801</td>\n",
       "      <td>0.250000</td>\n",
       "      <td>0.315993</td>\n",
       "      <td>0.593266</td>\n",
       "    </tr>\n",
       "  </tbody>\n",
       "</table>\n",
       "<p>30624 rows × 51 columns</p>\n",
       "</div>"
      ],
      "text/plain": [
       "      ohe__postal_code_93000 ohe__postal_code_93100 ohe__postal_code_93110  \\\n",
       "0                        0.0                    0.0                    0.0   \n",
       "1                        0.0                    0.0                    0.0   \n",
       "2                        0.0                    0.0                    0.0   \n",
       "3                        0.0                    0.0                    0.0   \n",
       "4                        0.0                    0.0                    0.0   \n",
       "...                      ...                    ...                    ...   \n",
       "30619                    0.0                    0.0                    0.0   \n",
       "30620                    0.0                    0.0                    0.0   \n",
       "30621                    0.0                    0.0                    0.0   \n",
       "30622                    0.0                    0.0                    0.0   \n",
       "30623                    0.0                    0.0                    0.0   \n",
       "\n",
       "      ohe__postal_code_93120 ohe__postal_code_93130 ohe__postal_code_93140  \\\n",
       "0                        0.0                    0.0                    0.0   \n",
       "1                        0.0                    1.0                    0.0   \n",
       "2                        0.0                    0.0                    0.0   \n",
       "3                        0.0                    0.0                    0.0   \n",
       "4                        0.0                    0.0                    0.0   \n",
       "...                      ...                    ...                    ...   \n",
       "30619                    0.0                    0.0                    0.0   \n",
       "30620                    0.0                    0.0                    0.0   \n",
       "30621                    0.0                    0.0                    0.0   \n",
       "30622                    0.0                    0.0                    0.0   \n",
       "30623                    0.0                    0.0                    0.0   \n",
       "\n",
       "      ohe__postal_code_93150 ohe__postal_code_93160 ohe__postal_code_93170  \\\n",
       "0                        0.0                    0.0                    1.0   \n",
       "1                        0.0                    0.0                    0.0   \n",
       "2                        0.0                    0.0                    0.0   \n",
       "3                        0.0                    0.0                    0.0   \n",
       "4                        0.0                    0.0                    0.0   \n",
       "...                      ...                    ...                    ...   \n",
       "30619                    0.0                    0.0                    0.0   \n",
       "30620                    0.0                    0.0                    0.0   \n",
       "30621                    0.0                    0.0                    0.0   \n",
       "30622                    0.0                    0.0                    0.0   \n",
       "30623                    0.0                    0.0                    0.0   \n",
       "\n",
       "      ohe__postal_code_93190  ... ohe__property_type_Appartement  \\\n",
       "0                        0.0  ...                            1.0   \n",
       "1                        0.0  ...                            1.0   \n",
       "2                        0.0  ...                            1.0   \n",
       "3                        0.0  ...                            1.0   \n",
       "4                        0.0  ...                            1.0   \n",
       "...                      ...  ...                            ...   \n",
       "30619                    0.0  ...                            1.0   \n",
       "30620                    0.0  ...                            1.0   \n",
       "30621                    0.0  ...                            1.0   \n",
       "30622                    0.0  ...                            1.0   \n",
       "30623                    0.0  ...                            1.0   \n",
       "\n",
       "      ohe__property_type_Maison      tar__city       date built  year  \\\n",
       "0                           0.0  323824.938028 2021-01-04     1  2021   \n",
       "1                           0.0  347197.748397 2021-01-07     1  2021   \n",
       "2                           0.0  263543.913417 2021-01-06     1  2021   \n",
       "3                           0.0  330637.299183 2021-01-11     1  2021   \n",
       "4                           0.0  263543.913417 2021-01-11     1  2021   \n",
       "...                         ...            ...        ...   ...   ...   \n",
       "30619                       0.0  467970.319168 2021-05-07     0  2021   \n",
       "30620                       0.0  350726.825612 2021-05-11     1  2021   \n",
       "30621                       0.0  174727.226385 2021-05-07     1  2021   \n",
       "30622                       0.0  353638.734077 2021-04-29     1  2021   \n",
       "30623                       0.0  347665.534677 2021-05-06     1  2021   \n",
       "\n",
       "      living_area_scaled number_of_rooms_scaled longitude_scaled  \\\n",
       "0               0.157385               0.250000         0.435820   \n",
       "1               0.079903               0.166667         0.573234   \n",
       "2               0.041162               0.083333         0.541452   \n",
       "3               0.099274               0.166667         0.492683   \n",
       "4               0.106538               0.166667         0.567424   \n",
       "...                  ...                    ...              ...   \n",
       "30619           0.140436               0.250000         0.178061   \n",
       "30620           0.171913               0.166667         0.186961   \n",
       "30621           0.171913               0.333333         0.294135   \n",
       "30622           0.186441               0.333333         0.192167   \n",
       "30623           0.113801               0.250000         0.315993   \n",
       "\n",
       "      latitude_scaled  \n",
       "0            0.220272  \n",
       "1            0.398423  \n",
       "2            0.567587  \n",
       "3            0.366605  \n",
       "4            0.561948  \n",
       "...               ...  \n",
       "30619        0.525460  \n",
       "30620        0.709987  \n",
       "30621        0.844580  \n",
       "30622        0.723151  \n",
       "30623        0.593266  \n",
       "\n",
       "[30624 rows x 51 columns]"
      ]
     },
     "execution_count": 391,
     "metadata": {},
     "output_type": "execute_result"
    }
   ],
   "source": [
    "df_encoded.drop(columns=['longitude', 'latitude'])"
   ]
  },
  {
   "cell_type": "markdown",
   "id": "8053522f",
   "metadata": {},
   "source": [
    "##  🏗️ Making pipeline"
   ]
  },
  {
   "cell_type": "code",
   "execution_count": 3,
   "id": "2f1c67b2",
   "metadata": {},
   "outputs": [
    {
     "name": "stdout",
     "output_type": "stream",
     "text": [
      "Collecting category_encoders\n",
      "  Downloading category_encoders-2.6.3-py2.py3-none-any.whl.metadata (8.0 kB)\n",
      "Requirement already satisfied: numpy>=1.14.0 in /home/andre/.pyenv/versions/3.10.6/envs/lewagon/lib/python3.10/site-packages (from category_encoders) (1.23.4)\n",
      "Requirement already satisfied: scikit-learn>=0.20.0 in /home/andre/.pyenv/versions/3.10.6/envs/lewagon/lib/python3.10/site-packages (from category_encoders) (1.3.2)\n",
      "Requirement already satisfied: scipy>=1.0.0 in /home/andre/.pyenv/versions/3.10.6/envs/lewagon/lib/python3.10/site-packages (from category_encoders) (1.8.1)\n",
      "Requirement already satisfied: statsmodels>=0.9.0 in /home/andre/.pyenv/versions/3.10.6/envs/lewagon/lib/python3.10/site-packages (from category_encoders) (0.13.2)\n",
      "Requirement already satisfied: pandas>=1.0.5 in /home/andre/.pyenv/versions/3.10.6/envs/lewagon/lib/python3.10/site-packages (from category_encoders) (1.4.4)\n",
      "Requirement already satisfied: patsy>=0.5.1 in /home/andre/.pyenv/versions/3.10.6/envs/lewagon/lib/python3.10/site-packages (from category_encoders) (0.5.3)\n",
      "Requirement already satisfied: python-dateutil>=2.8.1 in /home/andre/.pyenv/versions/3.10.6/envs/lewagon/lib/python3.10/site-packages (from pandas>=1.0.5->category_encoders) (2.8.2)\n",
      "Requirement already satisfied: pytz>=2020.1 in /home/andre/.pyenv/versions/3.10.6/envs/lewagon/lib/python3.10/site-packages (from pandas>=1.0.5->category_encoders) (2022.1)\n",
      "Requirement already satisfied: six in /home/andre/.pyenv/versions/3.10.6/envs/lewagon/lib/python3.10/site-packages (from patsy>=0.5.1->category_encoders) (1.16.0)\n",
      "Requirement already satisfied: joblib>=1.1.1 in /home/andre/.pyenv/versions/3.10.6/envs/lewagon/lib/python3.10/site-packages (from scikit-learn>=0.20.0->category_encoders) (1.1.1)\n",
      "Requirement already satisfied: threadpoolctl>=2.0.0 in /home/andre/.pyenv/versions/3.10.6/envs/lewagon/lib/python3.10/site-packages (from scikit-learn>=0.20.0->category_encoders) (3.1.0)\n",
      "Requirement already satisfied: packaging>=21.3 in /home/andre/.pyenv/versions/3.10.6/envs/lewagon/lib/python3.10/site-packages (from statsmodels>=0.9.0->category_encoders) (21.3)\n",
      "Requirement already satisfied: pyparsing!=3.0.5,>=2.0.2 in /home/andre/.pyenv/versions/3.10.6/envs/lewagon/lib/python3.10/site-packages (from packaging>=21.3->statsmodels>=0.9.0->category_encoders) (3.0.9)\n",
      "Downloading category_encoders-2.6.3-py2.py3-none-any.whl (81 kB)\n",
      "\u001b[2K   \u001b[90m━━━━━━━━━━━━━━━━━━━━━━━━━━━━━━━━━━━━━━━━\u001b[0m \u001b[32m81.9/81.9 kB\u001b[0m \u001b[31m872.5 kB/s\u001b[0m eta \u001b[36m0:00:00\u001b[0ma \u001b[36m0:00:01\u001b[0m\n",
      "\u001b[?25hInstalling collected packages: category_encoders\n",
      "Successfully installed category_encoders-2.6.3\n",
      "Note: you may need to restart the kernel to use updated packages.\n"
     ]
    }
   ],
   "source": [
    "pip install category_encoders"
   ]
  },
  {
   "cell_type": "code",
   "execution_count": 15,
   "id": "d04691cc",
   "metadata": {},
   "outputs": [],
   "source": [
    "import pandas as pd"
   ]
  },
  {
   "cell_type": "code",
   "execution_count": 16,
   "id": "7c9f5f83",
   "metadata": {},
   "outputs": [
    {
     "name": "stderr",
     "output_type": "stream",
     "text": [
      "/tmp/ipykernel_115776/1009660784.py:1: DtypeWarning: Columns (5,6) have mixed types. Specify dtype option on import or set low_memory=False.\n",
      "  df_clean= pd.read_csv('../raw_data/dvf_full_cleaned.csv')\n"
     ]
    },
    {
     "data": {
      "text/html": [
       "<div>\n",
       "<style scoped>\n",
       "    .dataframe tbody tr th:only-of-type {\n",
       "        vertical-align: middle;\n",
       "    }\n",
       "\n",
       "    .dataframe tbody tr th {\n",
       "        vertical-align: top;\n",
       "    }\n",
       "\n",
       "    .dataframe thead th {\n",
       "        text-align: right;\n",
       "    }\n",
       "</style>\n",
       "<table border=\"1\" class=\"dataframe\">\n",
       "  <thead>\n",
       "    <tr style=\"text-align: right;\">\n",
       "      <th></th>\n",
       "      <th>Unnamed: 0</th>\n",
       "      <th>date</th>\n",
       "      <th>built</th>\n",
       "      <th>price</th>\n",
       "      <th>postal_code</th>\n",
       "      <th>city</th>\n",
       "      <th>region</th>\n",
       "      <th>property_type</th>\n",
       "      <th>living_area</th>\n",
       "      <th>number_of_rooms</th>\n",
       "      <th>longitude</th>\n",
       "      <th>latitude</th>\n",
       "    </tr>\n",
       "  </thead>\n",
       "  <tbody>\n",
       "    <tr>\n",
       "      <th>0</th>\n",
       "      <td>35</td>\n",
       "      <td>2022-06-30</td>\n",
       "      <td>built</td>\n",
       "      <td>200000.0</td>\n",
       "      <td>1000</td>\n",
       "      <td>1053</td>\n",
       "      <td>1</td>\n",
       "      <td>Appartement</td>\n",
       "      <td>155.0</td>\n",
       "      <td>4.0</td>\n",
       "      <td>5.224279</td>\n",
       "      <td>46.205820</td>\n",
       "    </tr>\n",
       "    <tr>\n",
       "      <th>1</th>\n",
       "      <td>45</td>\n",
       "      <td>2022-06-10</td>\n",
       "      <td>built</td>\n",
       "      <td>252500.0</td>\n",
       "      <td>1630</td>\n",
       "      <td>1401</td>\n",
       "      <td>1</td>\n",
       "      <td>Appartement</td>\n",
       "      <td>49.0</td>\n",
       "      <td>2.0</td>\n",
       "      <td>5.997840</td>\n",
       "      <td>46.253728</td>\n",
       "    </tr>\n",
       "    <tr>\n",
       "      <th>2</th>\n",
       "      <td>59</td>\n",
       "      <td>2022-06-21</td>\n",
       "      <td>built</td>\n",
       "      <td>122500.0</td>\n",
       "      <td>1000</td>\n",
       "      <td>1053</td>\n",
       "      <td>1</td>\n",
       "      <td>Appartement</td>\n",
       "      <td>51.0</td>\n",
       "      <td>1.0</td>\n",
       "      <td>5.226737</td>\n",
       "      <td>46.205375</td>\n",
       "    </tr>\n",
       "    <tr>\n",
       "      <th>3</th>\n",
       "      <td>71</td>\n",
       "      <td>2022-06-20</td>\n",
       "      <td>built</td>\n",
       "      <td>188600.0</td>\n",
       "      <td>1000</td>\n",
       "      <td>1053</td>\n",
       "      <td>1</td>\n",
       "      <td>Appartement</td>\n",
       "      <td>75.0</td>\n",
       "      <td>3.0</td>\n",
       "      <td>5.229836</td>\n",
       "      <td>46.204833</td>\n",
       "    </tr>\n",
       "    <tr>\n",
       "      <th>4</th>\n",
       "      <td>77</td>\n",
       "      <td>2022-06-20</td>\n",
       "      <td>built</td>\n",
       "      <td>188600.0</td>\n",
       "      <td>1000</td>\n",
       "      <td>1053</td>\n",
       "      <td>1</td>\n",
       "      <td>Appartement</td>\n",
       "      <td>109.0</td>\n",
       "      <td>5.0</td>\n",
       "      <td>5.229836</td>\n",
       "      <td>46.204833</td>\n",
       "    </tr>\n",
       "  </tbody>\n",
       "</table>\n",
       "</div>"
      ],
      "text/plain": [
       "   Unnamed: 0        date  built     price  postal_code  city region  \\\n",
       "0          35  2022-06-30  built  200000.0         1000  1053      1   \n",
       "1          45  2022-06-10  built  252500.0         1630  1401      1   \n",
       "2          59  2022-06-21  built  122500.0         1000  1053      1   \n",
       "3          71  2022-06-20  built  188600.0         1000  1053      1   \n",
       "4          77  2022-06-20  built  188600.0         1000  1053      1   \n",
       "\n",
       "  property_type  living_area  number_of_rooms  longitude   latitude  \n",
       "0   Appartement        155.0              4.0   5.224279  46.205820  \n",
       "1   Appartement         49.0              2.0   5.997840  46.253728  \n",
       "2   Appartement         51.0              1.0   5.226737  46.205375  \n",
       "3   Appartement         75.0              3.0   5.229836  46.204833  \n",
       "4   Appartement        109.0              5.0   5.229836  46.204833  "
      ]
     },
     "execution_count": 16,
     "metadata": {},
     "output_type": "execute_result"
    }
   ],
   "source": [
    "df_clean= pd.read_csv('../raw_data/dvf_full_cleaned.csv')\n",
    "df_clean.head(5)"
   ]
  },
  {
   "cell_type": "code",
   "execution_count": 77,
   "metadata": {},
   "outputs": [],
   "source": [
    "from sklearn.pipeline import Pipeline\n",
    "from sklearn.impute import SimpleImputer\n",
    "from sklearn.preprocessing import MinMaxScaler, OneHotEncoder\n",
    "from sklearn.compose import ColumnTransformer\n",
    "from sklearn.ensemble import RandomForestRegressor\n",
    "from category_encoders import TargetEncoder\n",
    "from sklearn.pipeline import FeatureUnion\n",
    "from sklearn.model_selection import train_test_split"
   ]
  },
  {
   "cell_type": "code",
   "execution_count": 68,
   "id": "1350c1f9",
   "metadata": {},
   "outputs": [],
   "source": [
    "# define X and y\n",
    "X= df_clean.drop(columns=['price'])\n",
    "y= df_clean['price']"
   ]
  },
  {
   "cell_type": "code",
   "execution_count": 78,
   "id": "61879623",
   "metadata": {},
   "outputs": [],
   "source": [
    "# train test split\n",
    "X_train, X_test, y_train, y_test = train_test_split(X,y, test_size= 0.3)"
   ]
  },
  {
   "cell_type": "code",
   "execution_count": 70,
   "metadata": {},
   "outputs": [],
   "source": [
    "# Preprocessing numerical data\n",
    "numeric_transformer = Pipeline([\n",
    "    #('imputer', SimpleImputer(strategy='mean'),\n",
    "    ('minmax', MinMaxScaler())\n",
    "    ])\n",
    "\n",
    "# Preprocessing categorical data\n",
    "categorical_transformer = Pipeline([\n",
    "    #('imputer', SimpleImputer(strategy='most_frequent'),\n",
    "    ('onehot', OneHotEncoder(sparse_output=False, dtype=int))\n",
    "])\n",
    "\n",
    "# Preprocesing target encoder\n",
    "targetencoder_transformer = Pipeline([\n",
    "    #('imputer', SimpleImputer(strategy='most_frequent')\n",
    "    ('target_enc', TargetEncoder())\n",
    "])\n",
    "\n",
    "# Parallelize \"num_transformer\" and \"cat_transfomer\"\n",
    "preprocessor = ColumnTransformer([\n",
    "        ('num', numeric_transformer, ['living_area', 'number_of_rooms', 'longitude', 'latitude']),\n",
    "        ('cat', categorical_transformer, ['property_type']),\n",
    "        ('tar', targetencoder_transformer, ['city', 'postal_code'])\n",
    "    ])\n",
    "\n",
    "# preprocessing pipeline\n",
    "preprocessing_pipeline = Pipeline([('preprocessor', preprocessor)])\n",
    "preprocessing_pipeline\n",
    "\n",
    "# Apply  pipeline to  dataset\n",
    "processed_data = preprocessing_pipeline.fit_transform(X_train, y_train)\n",
    "\n",
    "\n",
    "# Final pipeline with preprocessing and model\n",
    "#pipeline = Pipeline([('preprocessor', preprocessor),\n",
    "                     #('regressor', RandomForestRegressor())])"
   ]
  },
  {
   "cell_type": "code",
   "execution_count": 75,
   "metadata": {},
   "outputs": [
    {
     "data": {
      "text/html": [
       "<div>\n",
       "<style scoped>\n",
       "    .dataframe tbody tr th:only-of-type {\n",
       "        vertical-align: middle;\n",
       "    }\n",
       "\n",
       "    .dataframe tbody tr th {\n",
       "        vertical-align: top;\n",
       "    }\n",
       "\n",
       "    .dataframe thead th {\n",
       "        text-align: right;\n",
       "    }\n",
       "</style>\n",
       "<table border=\"1\" class=\"dataframe\">\n",
       "  <thead>\n",
       "    <tr style=\"text-align: right;\">\n",
       "      <th></th>\n",
       "      <th>num__living_area</th>\n",
       "      <th>num__number_of_rooms</th>\n",
       "      <th>num__longitude</th>\n",
       "      <th>num__latitude</th>\n",
       "      <th>cat__property_type_Appartement</th>\n",
       "      <th>cat__property_type_Maison</th>\n",
       "      <th>tar__city</th>\n",
       "      <th>tar__postal_code</th>\n",
       "    </tr>\n",
       "  </thead>\n",
       "  <tbody>\n",
       "    <tr>\n",
       "      <th>0</th>\n",
       "      <td>0.025979</td>\n",
       "      <td>0.056604</td>\n",
       "      <td>0.669080</td>\n",
       "      <td>0.559128</td>\n",
       "      <td>1.0</td>\n",
       "      <td>0.0</td>\n",
       "      <td>4.081577e+05</td>\n",
       "      <td>71880.0</td>\n",
       "    </tr>\n",
       "    <tr>\n",
       "      <th>1</th>\n",
       "      <td>0.027216</td>\n",
       "      <td>0.056604</td>\n",
       "      <td>0.229520</td>\n",
       "      <td>0.678733</td>\n",
       "      <td>1.0</td>\n",
       "      <td>0.0</td>\n",
       "      <td>1.199446e+05</td>\n",
       "      <td>35150.0</td>\n",
       "    </tr>\n",
       "    <tr>\n",
       "      <th>2</th>\n",
       "      <td>0.007010</td>\n",
       "      <td>0.018868</td>\n",
       "      <td>0.496447</td>\n",
       "      <td>0.767643</td>\n",
       "      <td>1.0</td>\n",
       "      <td>0.0</td>\n",
       "      <td>5.476695e+05</td>\n",
       "      <td>75014.0</td>\n",
       "    </tr>\n",
       "    <tr>\n",
       "      <th>3</th>\n",
       "      <td>0.023093</td>\n",
       "      <td>0.056604</td>\n",
       "      <td>0.267429</td>\n",
       "      <td>0.431461</td>\n",
       "      <td>0.0</td>\n",
       "      <td>1.0</td>\n",
       "      <td>1.841653e+05</td>\n",
       "      <td>17132.0</td>\n",
       "    </tr>\n",
       "    <tr>\n",
       "      <th>4</th>\n",
       "      <td>0.025155</td>\n",
       "      <td>0.056604</td>\n",
       "      <td>0.289631</td>\n",
       "      <td>0.358342</td>\n",
       "      <td>1.0</td>\n",
       "      <td>0.0</td>\n",
       "      <td>2.917207e+05</td>\n",
       "      <td>33200.0</td>\n",
       "    </tr>\n",
       "    <tr>\n",
       "      <th>...</th>\n",
       "      <td>...</td>\n",
       "      <td>...</td>\n",
       "      <td>...</td>\n",
       "      <td>...</td>\n",
       "      <td>...</td>\n",
       "      <td>...</td>\n",
       "      <td>...</td>\n",
       "      <td>...</td>\n",
       "    </tr>\n",
       "    <tr>\n",
       "      <th>720766</th>\n",
       "      <td>0.017320</td>\n",
       "      <td>0.037736</td>\n",
       "      <td>0.558659</td>\n",
       "      <td>0.203810</td>\n",
       "      <td>1.0</td>\n",
       "      <td>0.0</td>\n",
       "      <td>1.881821e+05</td>\n",
       "      <td>34500.0</td>\n",
       "    </tr>\n",
       "    <tr>\n",
       "      <th>720767</th>\n",
       "      <td>0.020619</td>\n",
       "      <td>0.037736</td>\n",
       "      <td>0.489545</td>\n",
       "      <td>0.770365</td>\n",
       "      <td>1.0</td>\n",
       "      <td>0.0</td>\n",
       "      <td>2.487649e+06</td>\n",
       "      <td>92100.0</td>\n",
       "    </tr>\n",
       "    <tr>\n",
       "      <th>720768</th>\n",
       "      <td>0.024742</td>\n",
       "      <td>0.056604</td>\n",
       "      <td>0.817596</td>\n",
       "      <td>0.225379</td>\n",
       "      <td>1.0</td>\n",
       "      <td>0.0</td>\n",
       "      <td>3.180952e+05</td>\n",
       "      <td>6210.0</td>\n",
       "    </tr>\n",
       "    <tr>\n",
       "      <th>720769</th>\n",
       "      <td>0.009485</td>\n",
       "      <td>0.018868</td>\n",
       "      <td>0.338694</td>\n",
       "      <td>0.823308</td>\n",
       "      <td>1.0</td>\n",
       "      <td>0.0</td>\n",
       "      <td>3.031130e+05</td>\n",
       "      <td>14800.0</td>\n",
       "    </tr>\n",
       "    <tr>\n",
       "      <th>720770</th>\n",
       "      <td>0.025567</td>\n",
       "      <td>0.056604</td>\n",
       "      <td>0.615444</td>\n",
       "      <td>0.712478</td>\n",
       "      <td>1.0</td>\n",
       "      <td>0.0</td>\n",
       "      <td>1.041867e+05</td>\n",
       "      <td>10120.0</td>\n",
       "    </tr>\n",
       "  </tbody>\n",
       "</table>\n",
       "<p>720771 rows × 8 columns</p>\n",
       "</div>"
      ],
      "text/plain": [
       "        num__living_area  num__number_of_rooms  num__longitude  num__latitude  \\\n",
       "0               0.025979              0.056604        0.669080       0.559128   \n",
       "1               0.027216              0.056604        0.229520       0.678733   \n",
       "2               0.007010              0.018868        0.496447       0.767643   \n",
       "3               0.023093              0.056604        0.267429       0.431461   \n",
       "4               0.025155              0.056604        0.289631       0.358342   \n",
       "...                  ...                   ...             ...            ...   \n",
       "720766          0.017320              0.037736        0.558659       0.203810   \n",
       "720767          0.020619              0.037736        0.489545       0.770365   \n",
       "720768          0.024742              0.056604        0.817596       0.225379   \n",
       "720769          0.009485              0.018868        0.338694       0.823308   \n",
       "720770          0.025567              0.056604        0.615444       0.712478   \n",
       "\n",
       "        cat__property_type_Appartement  cat__property_type_Maison  \\\n",
       "0                                  1.0                        0.0   \n",
       "1                                  1.0                        0.0   \n",
       "2                                  1.0                        0.0   \n",
       "3                                  0.0                        1.0   \n",
       "4                                  1.0                        0.0   \n",
       "...                                ...                        ...   \n",
       "720766                             1.0                        0.0   \n",
       "720767                             1.0                        0.0   \n",
       "720768                             1.0                        0.0   \n",
       "720769                             1.0                        0.0   \n",
       "720770                             1.0                        0.0   \n",
       "\n",
       "           tar__city  tar__postal_code  \n",
       "0       4.081577e+05           71880.0  \n",
       "1       1.199446e+05           35150.0  \n",
       "2       5.476695e+05           75014.0  \n",
       "3       1.841653e+05           17132.0  \n",
       "4       2.917207e+05           33200.0  \n",
       "...              ...               ...  \n",
       "720766  1.881821e+05           34500.0  \n",
       "720767  2.487649e+06           92100.0  \n",
       "720768  3.180952e+05            6210.0  \n",
       "720769  3.031130e+05           14800.0  \n",
       "720770  1.041867e+05           10120.0  \n",
       "\n",
       "[720771 rows x 8 columns]"
      ]
     },
     "execution_count": 75,
     "metadata": {},
     "output_type": "execute_result"
    }
   ],
   "source": [
    "pd.read_pickle('../raw_data/train_preproc.pickle')"
   ]
  },
  {
   "cell_type": "code",
   "execution_count": null,
   "id": "00a446f8",
   "metadata": {},
   "outputs": [],
   "source": []
  },
  {
   "cell_type": "markdown",
   "id": "4a339590",
   "metadata": {},
   "source": [
    "# 🐝 Model"
   ]
  },
  {
   "cell_type": "code",
   "execution_count": null,
   "id": "68d266e1",
   "metadata": {},
   "outputs": [
    {
     "name": "stdout",
     "output_type": "stream",
     "text": [
      "The autoreload extension is already loaded. To reload it, use:\n",
      "  %reload_ext autoreload\n"
     ]
    }
   ],
   "source": [
    "%load_ext autoreload\n",
    "%autoreload 2"
   ]
  },
  {
   "cell_type": "code",
   "execution_count": null,
   "id": "0d574ee1",
   "metadata": {},
   "outputs": [],
   "source": [
    "# Import modules\n",
    "import pandas as pd\n",
    "import numpy as np\n",
    "import seaborn as sns\n",
    "import matplotlib.pyplot as plt"
   ]
  },
  {
   "cell_type": "markdown",
   "id": "340e04c4",
   "metadata": {},
   "source": [
    "## 🔍 KNN "
   ]
  },
  {
   "cell_type": "markdown",
   "id": "5fa6f529",
   "metadata": {},
   "source": [
    "## Import dataset\n"
   ]
  },
  {
   "cell_type": "code",
   "execution_count": 2,
   "id": "a9ea0c6f",
   "metadata": {},
   "outputs": [],
   "source": [
    "import pandas as pd"
   ]
  },
  {
   "cell_type": "code",
   "execution_count": 3,
   "id": "f3b0e75e",
   "metadata": {},
   "outputs": [],
   "source": [
    "df_dvf_93_cleaned=pd.read_pickle('../raw_data/dvf_93_cleaned.pkl')"
   ]
  },
  {
   "cell_type": "code",
   "execution_count": 4,
   "id": "27410bf8",
   "metadata": {},
   "outputs": [
    {
     "data": {
      "text/html": [
       "<div>\n",
       "<style scoped>\n",
       "    .dataframe tbody tr th:only-of-type {\n",
       "        vertical-align: middle;\n",
       "    }\n",
       "\n",
       "    .dataframe tbody tr th {\n",
       "        vertical-align: top;\n",
       "    }\n",
       "\n",
       "    .dataframe thead th {\n",
       "        text-align: right;\n",
       "    }\n",
       "</style>\n",
       "<table border=\"1\" class=\"dataframe\">\n",
       "  <thead>\n",
       "    <tr style=\"text-align: right;\">\n",
       "      <th></th>\n",
       "      <th>postal_code</th>\n",
       "      <th>date</th>\n",
       "      <th>built</th>\n",
       "      <th>price</th>\n",
       "      <th>city</th>\n",
       "      <th>region</th>\n",
       "      <th>property_type</th>\n",
       "      <th>living_area</th>\n",
       "      <th>number_of_rooms</th>\n",
       "      <th>longitude</th>\n",
       "      <th>latitude</th>\n",
       "      <th>nb_of_dep</th>\n",
       "    </tr>\n",
       "  </thead>\n",
       "  <tbody>\n",
       "    <tr>\n",
       "      <th>0</th>\n",
       "      <td>93000.0</td>\n",
       "      <td>2018-07-09</td>\n",
       "      <td>off-plan</td>\n",
       "      <td>252760.4</td>\n",
       "      <td>93008</td>\n",
       "      <td>93</td>\n",
       "      <td>appartment</td>\n",
       "      <td>64.0</td>\n",
       "      <td>3</td>\n",
       "      <td>2.413402</td>\n",
       "      <td>48.919067</td>\n",
       "      <td>1</td>\n",
       "    </tr>\n",
       "    <tr>\n",
       "      <th>1</th>\n",
       "      <td>93000.0</td>\n",
       "      <td>2018-07-11</td>\n",
       "      <td>off-plan</td>\n",
       "      <td>138000.0</td>\n",
       "      <td>93008</td>\n",
       "      <td>93</td>\n",
       "      <td>appartment</td>\n",
       "      <td>25.0</td>\n",
       "      <td>1</td>\n",
       "      <td>2.413402</td>\n",
       "      <td>48.919067</td>\n",
       "      <td>0</td>\n",
       "    </tr>\n",
       "    <tr>\n",
       "      <th>2</th>\n",
       "      <td>93000.0</td>\n",
       "      <td>2018-07-12</td>\n",
       "      <td>off-plan</td>\n",
       "      <td>228370.0</td>\n",
       "      <td>93008</td>\n",
       "      <td>93</td>\n",
       "      <td>appartment</td>\n",
       "      <td>61.0</td>\n",
       "      <td>3</td>\n",
       "      <td>2.457606</td>\n",
       "      <td>48.902013</td>\n",
       "      <td>1</td>\n",
       "    </tr>\n",
       "    <tr>\n",
       "      <th>3</th>\n",
       "      <td>93000.0</td>\n",
       "      <td>2018-07-05</td>\n",
       "      <td>built</td>\n",
       "      <td>127000.0</td>\n",
       "      <td>93008</td>\n",
       "      <td>93</td>\n",
       "      <td>appartment</td>\n",
       "      <td>45.0</td>\n",
       "      <td>2</td>\n",
       "      <td>2.442712</td>\n",
       "      <td>48.908689</td>\n",
       "      <td>1</td>\n",
       "    </tr>\n",
       "    <tr>\n",
       "      <th>4</th>\n",
       "      <td>93000.0</td>\n",
       "      <td>2018-07-06</td>\n",
       "      <td>off-plan</td>\n",
       "      <td>277000.0</td>\n",
       "      <td>93008</td>\n",
       "      <td>93</td>\n",
       "      <td>appartment</td>\n",
       "      <td>84.0</td>\n",
       "      <td>4</td>\n",
       "      <td>2.412198</td>\n",
       "      <td>48.916855</td>\n",
       "      <td>1</td>\n",
       "    </tr>\n",
       "  </tbody>\n",
       "</table>\n",
       "</div>"
      ],
      "text/plain": [
       "   postal_code       date     built     price   city region property_type  \\\n",
       "0      93000.0 2018-07-09  off-plan  252760.4  93008     93    appartment   \n",
       "1      93000.0 2018-07-11  off-plan  138000.0  93008     93    appartment   \n",
       "2      93000.0 2018-07-12  off-plan  228370.0  93008     93    appartment   \n",
       "3      93000.0 2018-07-05     built  127000.0  93008     93    appartment   \n",
       "4      93000.0 2018-07-06  off-plan  277000.0  93008     93    appartment   \n",
       "\n",
       "   living_area  number_of_rooms  longitude   latitude  nb_of_dep  \n",
       "0         64.0                3   2.413402  48.919067          1  \n",
       "1         25.0                1   2.413402  48.919067          0  \n",
       "2         61.0                3   2.457606  48.902013          1  \n",
       "3         45.0                2   2.442712  48.908689          1  \n",
       "4         84.0                4   2.412198  48.916855          1  "
      ]
     },
     "execution_count": 4,
     "metadata": {},
     "output_type": "execute_result"
    }
   ],
   "source": [
    "df_dvf_93_cleaned.head()"
   ]
  },
  {
   "cell_type": "code",
   "execution_count": 5,
   "id": "281acc3e",
   "metadata": {},
   "outputs": [],
   "source": [
    "import sys\n",
    "\n",
    "sys.path.append('/home/andre/code/qadnguyen/realdata/prop_value')\n",
    "from ml_logic.preprocessor import clean_data"
   ]
  },
  {
   "cell_type": "code",
   "execution_count": 6,
   "id": "e1148856",
   "metadata": {},
   "outputs": [],
   "source": [
    "sys.path.append('/home/andre/code/qadnguyen/realdata/prop_value')\n",
    "from ml_logic.preprocessor import preprocess_data"
   ]
  },
  {
   "cell_type": "code",
   "execution_count": 8,
   "id": "b2e828f2",
   "metadata": {},
   "outputs": [],
   "source": [
    "#cleaned_df = clean_data(df)"
   ]
  },
  {
   "cell_type": "code",
   "execution_count": 9,
   "id": "c1b133ee",
   "metadata": {},
   "outputs": [],
   "source": [
    "processed_df= preprocess_data(df_dvf_93_cleaned)"
   ]
  },
  {
   "cell_type": "code",
   "execution_count": 40,
   "id": "f70c8b8a",
   "metadata": {},
   "outputs": [],
   "source": [
    "X_train_preproc, X_test_preproc, y_train, y_test= preprocess_data(cleaned_df)"
   ]
  },
  {
   "cell_type": "code",
   "execution_count": 41,
   "id": "9f373b6f",
   "metadata": {},
   "outputs": [
    {
     "data": {
      "text/plain": [
       "0.05071315649626766"
      ]
     },
     "execution_count": 41,
     "metadata": {},
     "output_type": "execute_result"
    }
   ],
   "source": [
    "from sklearn.neighbors import KNeighborsRegressor\n",
    "from sklearn.model_selection import cross_validate\n",
    "\n",
    "# Instanciate the model\n",
    "knn_model = KNeighborsRegressor()\n",
    "\n",
    "# Train the model on the scaled Training data\n",
    "cv_results = cross_validate(knn_model, X_train_preproc,y_train)\n",
    "\n",
    "base_knn_score = cv_results['test_score'].mean()\n",
    "\n",
    "base_knn_score"
   ]
  },
  {
   "cell_type": "markdown",
   "id": "9b63fa35",
   "metadata": {},
   "source": [
    "## 🔍 XGBoost "
   ]
  },
  {
   "cell_type": "code",
   "execution_count": 52,
   "id": "ef9ede8f",
   "metadata": {},
   "outputs": [
    {
     "name": "stdout",
     "output_type": "stream",
     "text": [
      "Mean Squared Error: 291800098936.5065\n",
      "Train score: 0.8824818396194195\n",
      "Cross val score mean 0.5376086204858919\n"
     ]
    }
   ],
   "source": [
    "from xgboost import XGBRegressor\n",
    "from sklearn.metrics import mean_squared_error\n",
    "from sklearn.model_selection import cross_val_score\n",
    "model_xgb = XGBRegressor()\n",
    "\n",
    "model_xgb.fit(X_train_preproc, y_train)\n",
    "#scaler = StandardScaler()\n",
    "#X_train_scaled = scaler.fit_transform(X_train)\n",
    "#X_test_scaled = scaler.transform(X_test)\n",
    "y_pred = model_xgb.predict(X_test_preproc)\n",
    "mse = mean_squared_error(y_pred, y_test)\n",
    "rmse = mse**(1/2)\n",
    "print(f'Mean Squared Error: {mse}')\n",
    "print( 'Train score:', model_xgb.score(X_train_preproc, y_train))\n",
    "print('Cross val score mean', cross_val_score(model_xgb, X_train_preproc, y_train, cv = 5).mean())"
   ]
  },
  {
   "cell_type": "code",
   "execution_count": 53,
   "id": "60f38aba",
   "metadata": {},
   "outputs": [
    {
     "name": "stdout",
     "output_type": "stream",
     "text": [
      "Root Squared Error: 540185.2450192494\n",
      "Train score: 0.8824818396194195\n",
      "Test score: 0.746619782299339\n"
     ]
    },
    {
     "name": "stdout",
     "output_type": "stream",
     "text": [
      "Cross val score mean 0.5376086204858919\n"
     ]
    }
   ],
   "source": [
    "print(f'Root Squared Error: {rmse}')\n",
    "print( 'Train score:', model_xgb.score(X_train_preproc, y_train))\n",
    "print( 'Test score:', model_xgb.score(X_test_preproc, y_test))\n",
    "print('Cross val score mean', cross_val_score(model_xgb, X_train_preproc, y_train, cv = 5).mean())"
   ]
  },
  {
   "cell_type": "code",
   "execution_count": null,
   "id": "e34fe44d",
   "metadata": {},
   "outputs": [],
   "source": []
  },
  {
   "cell_type": "markdown",
   "id": "b1ab036a",
   "metadata": {},
   "source": [
    "## Data"
   ]
  },
  {
   "cell_type": "code",
   "execution_count": null,
   "id": "52c2e6ea",
   "metadata": {},
   "outputs": [],
   "source": [
    "#Data is called df_dvf, to be renamed into data\n",
    "data = df_dvf\n",
    "\n",
    "X = data.drop(columns=['price'])\n",
    "y = data['price']"
   ]
  },
  {
   "cell_type": "code",
   "execution_count": null,
   "id": "23b9cecb",
   "metadata": {},
   "outputs": [],
   "source": [
    "col_names = ['date', 'built', 'price', 'postal code',\n",
    "                'city', 'region', 'number of units', 'property type',\n",
    "                'built area', 'number of rooms', 'land area',\n",
    "                'longitude', 'latitude']\n",
    "\n",
    "col_names = ['date', 'built', 'price', 'postal_code',\n",
    "                'city', 'region', 'number_of_units', 'property_type',\n",
    "                'living_area', 'number_of_rooms',\n",
    "                'longitude', 'latitude']"
   ]
  },
  {
   "cell_type": "markdown",
   "id": "c8e02d52",
   "metadata": {},
   "source": [
    "## Scaling"
   ]
  },
  {
   "cell_type": "code",
   "execution_count": null,
   "id": "52309168",
   "metadata": {},
   "outputs": [
    {
     "ename": "SyntaxError",
     "evalue": "invalid syntax (2538177552.py, line 4)",
     "output_type": "error",
     "traceback": [
      "\u001b[0;36m  Cell \u001b[0;32mIn[396], line 4\u001b[0;36m\u001b[0m\n\u001b[0;31m    X =\u001b[0m\n\u001b[0m       ^\u001b[0m\n\u001b[0;31mSyntaxError\u001b[0m\u001b[0;31m:\u001b[0m invalid syntax\n"
     ]
    }
   ],
   "source": [
    "from sklearn.preprocessing import StandardScaler\n",
    "scaler = StandardScaler()\n",
    "\n",
    "X =\n",
    "y =\n",
    "X_scaled = scaler.fit_transform(X)\n",
    "\n",
    "# Convert X_scaled (np array) back to a DataFrame with column names\n",
    "X_scaled = pd.DataFrame(X_scaled, columns=X.columns)\n",
    "\n",
    "# Concatenate into one dataframe with review_score\n",
    "scaled_orders = pd.concat([X_scaled, y], axis=1)\n"
   ]
  },
  {
   "cell_type": "markdown",
   "id": "2209612c",
   "metadata": {},
   "source": [
    "## Correlation"
   ]
  },
  {
   "cell_type": "code",
   "execution_count": null,
   "id": "a2255d73",
   "metadata": {},
   "outputs": [],
   "source": [
    "plt.figure(figsize = (10,10))\n",
    "\n",
    "sns.heatmap(\n",
    "    data.corr(),\n",
    "    cmap = 'coolwarm',\n",
    "    annot = True,\n",
    "    annot_kws = {\"size\": 10}\n",
    ")"
   ]
  },
  {
   "cell_type": "markdown",
   "id": "e23d2784",
   "metadata": {},
   "source": [
    "## 🐧 Linear Regression"
   ]
  },
  {
   "cell_type": "markdown",
   "id": "360c410a",
   "metadata": {},
   "source": [
    "### Univariate Regression"
   ]
  },
  {
   "cell_type": "code",
   "execution_count": null,
   "id": "3a44f49c",
   "metadata": {},
   "outputs": [],
   "source": [
    "import statsmodels.formula.api as smf\n",
    "\n",
    "model_uni = smf.ols(formula='price ~ land_area', data=data).fit()\n",
    "model_uni.rsquared\n",
    "\n",
    "model_uni.summary()"
   ]
  },
  {
   "cell_type": "markdown",
   "id": "26cf0728",
   "metadata": {},
   "source": [
    "### Multivariate Regression"
   ]
  },
  {
   "cell_type": "code",
   "execution_count": null,
   "id": "9d5cab6e",
   "metadata": {},
   "outputs": [],
   "source": [
    "import statsmodels.formula.api as smf\n",
    "\n",
    "model_mul = smf.ols(formula='price ~ land_area + number_of_units', data=data).fit()\n",
    "model_mul.rsquared\n",
    "\n",
    "model_mul.summary()"
   ]
  },
  {
   "cell_type": "markdown",
   "id": "ade66be6",
   "metadata": {},
   "source": [
    "#### Important feature identification"
   ]
  },
  {
   "cell_type": "code",
   "execution_count": null,
   "id": "03b3ab07",
   "metadata": {},
   "outputs": [],
   "source": [
    "model_mul.params.drop('Intercept')\n",
    "\n",
    "coefficients = model_mul.params\n",
    "coefficients = coefficients.drop('Intercept')\n",
    "plt.bar(coefficients.index, coefficients)\n",
    "plt.title('Important features correlating with review_score, p = 0.04')"
   ]
  },
  {
   "cell_type": "markdown",
   "id": "ec1ab685",
   "metadata": {},
   "source": [
    "#### Model Performance"
   ]
  },
  {
   "cell_type": "code",
   "execution_count": null,
   "id": "3229b273",
   "metadata": {},
   "outputs": [],
   "source": [
    "#Residual computation (should be close to 0)\n",
    "n = len(X_std)\n",
    "predicted_values = model_mul.predict()\n",
    "residuals = X_std['price'] - predicted_values\n",
    "residuals.std() / X_std.wait_time.std() / (n-2)**0.5\n",
    "\n",
    "#Root Mean Squared Error\n",
    "rmse = np.sqrt(np.mean(residuals**2))\n",
    "rmse\n",
    "\n",
    "#Plot residuals\n",
    "sns.histplot(residuals, kde=True, edgecolor='w')\n",
    "plt.title('Residuals')"
   ]
  },
  {
   "cell_type": "markdown",
   "id": "5d59ce17",
   "metadata": {},
   "source": [
    "### Linear Regression with ML"
   ]
  },
  {
   "cell_type": "code",
   "execution_count": null,
   "id": "d89aa21c",
   "metadata": {},
   "outputs": [],
   "source": [
    "import pandas as pd\n",
    "import matplotlib.pyplot as plt\n",
    "import seaborn as sns\n",
    "\n",
    "from sklearn.linear_model import LinearRegression\n",
    "from sklearn.model_selection import cross_validate, cross_val_score"
   ]
  },
  {
   "cell_type": "code",
   "execution_count": null,
   "id": "a6dca519",
   "metadata": {},
   "outputs": [],
   "source": []
  },
  {
   "cell_type": "markdown",
   "id": "99a5aaee",
   "metadata": {},
   "source": [
    "## 🐓 KNN Regression"
   ]
  },
  {
   "cell_type": "markdown",
   "id": "e4b63477",
   "metadata": {},
   "source": [
    "## Decision Tree"
   ]
  },
  {
   "cell_type": "code",
   "execution_count": null,
   "id": "90d4134d",
   "metadata": {},
   "outputs": [],
   "source": [
    "from sklearn.model_selection import train_test_split\n",
    "from sklearn.preprocessing import StandardScaler\n",
    "from sklearn.metrics import mean_squared_error\n",
    "from sklearn.model_selection import validation_curve\n",
    "from sklearn.model_selection import GridSearchCV\n",
    "from sklearn.model_selection import KFold\n",
    "from sklearn.model_selection import cross_val_score\n",
    "\n",
    "X = df.drop(columns=['price'])\n",
    "y = df['price']\n",
    "\n",
    "X_train, X_test, y_train, y_test = train_test_split(X, y, test_size=0.2)"
   ]
  },
  {
   "cell_type": "code",
   "execution_count": null,
   "id": "9b740f26",
   "metadata": {},
   "outputs": [],
   "source": [
    "from sklearn.tree import DecisionTreeRegressor\n",
    "model = DecisionTreeRegressor()\n",
    "\n",
    "model.fit(X_train, y_train)\n",
    "scaler = StandardScaler()\n",
    "X_train_scaled = scaler.fit_transform(X_train)\n",
    "X_test_scaled = scaler.transform(X_test)\n",
    "y_pred = model.predict(X_test)\n",
    "mse = mean_squared_error(y_test, y_pred)\n",
    "print(f'Mean Squared Error: {mse}')\n",
    "print('Train score:', model.score(X_test, y_test))\n",
    "print('Cross val score mean', cross_val_score(model, X_train, y_train, cv = 5).mean())"
   ]
  },
  {
   "cell_type": "markdown",
   "id": "aebf7482",
   "metadata": {},
   "source": [
    "## 🐬 Ensemble Model: (XGBoost recomm)"
   ]
  },
  {
   "cell_type": "code",
   "execution_count": null,
   "id": "a6f6f35c",
   "metadata": {},
   "outputs": [],
   "source": [
    "from sklearn.ensemble import RandomForestRegressor\n",
    "model = RandomForestRegressor()\n",
    "\n",
    "model.fit(X_train, y_train)\n",
    "scaler = StandardScaler()\n",
    "X_train_scaled = scaler.fit_transform(X_train)\n",
    "X_test_scaled = scaler.transform(X_test)\n",
    "y_pred = model.predict(X_test)\n",
    "mse = mean_squared_error(y_test, y_pred)\n",
    "print(f'Mean Squared Error: {mse}')\n",
    "print( 'Train score:', model.score(X_test, y_test))\n",
    "print('Cross val score mean', cross_val_score(model, X_train, y_train, cv = 5).mean())"
   ]
  },
  {
   "cell_type": "code",
   "execution_count": null,
   "id": "be4f3c8e",
   "metadata": {},
   "outputs": [],
   "source": [
    "from sklearn.ensemble import GradientBoostingRegressor\n",
    "model = GradientBoostingRegressor()\n",
    "\n",
    "model.fit(X_train, y_train)\n",
    "scaler = StandardScaler()\n",
    "X_train_scaled = scaler.fit_transform(X_train)\n",
    "X_test_scaled = scaler.transform(X_test)\n",
    "y_pred = model.predict(X_test)\n",
    "mse = mean_squared_error(y_test, y_pred)\n",
    "print(f'Mean Squared Error: {mse}')\n",
    "print( 'Train score:', model.score(X_test, y_test))\n",
    "print('Cross val score mean', cross_val_score(model, X_train, y_train, cv = 5).mean())"
   ]
  },
  {
   "cell_type": "markdown",
   "id": "2097a841",
   "metadata": {},
   "source": [
    "## 🐇 Optional: Deep Learning"
   ]
  },
  {
   "cell_type": "markdown",
   "id": "68b5fa45",
   "metadata": {},
   "source": []
  }
 ],
 "metadata": {
  "kernelspec": {
   "display_name": "Python 3 (ipykernel)",
   "language": "python",
   "name": "python3"
  },
  "language_info": {
   "codemirror_mode": {
    "name": "ipython",
    "version": 3
   },
   "file_extension": ".py",
   "mimetype": "text/x-python",
   "name": "python",
   "nbconvert_exporter": "python",
   "pygments_lexer": "ipython3",
   "version": "3.10.6"
  },
  "toc": {
   "base_numbering": 1,
   "nav_menu": {},
   "number_sections": true,
   "sideBar": true,
   "skip_h1_title": false,
   "title_cell": "Table of Contents",
   "title_sidebar": "Contents",
   "toc_cell": false,
   "toc_position": {},
   "toc_section_display": true,
   "toc_window_display": false
  }
 },
 "nbformat": 4,
 "nbformat_minor": 5
}
