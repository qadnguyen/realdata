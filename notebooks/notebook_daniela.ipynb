{
 "cells": [
  {
   "cell_type": "code",
   "execution_count": 1,
   "id": "e22b5836",
   "metadata": {},
   "outputs": [
    {
     "name": "stderr",
     "output_type": "stream",
     "text": [
      "/tmp/ipykernel_98815/3198430283.py:1: DeprecationWarning: \n",
      "Pyarrow will become a required dependency of pandas in the next major release of pandas (pandas 3.0),\n",
      "(to allow more performant data types, such as the Arrow string type, and better interoperability with other libraries)\n",
      "but was not found to be installed on your system.\n",
      "If this would cause problems for you,\n",
      "please provide us feedback at https://github.com/pandas-dev/pandas/issues/54466\n",
      "        \n",
      "  import pandas as pd\n"
     ]
    }
   ],
   "source": [
    "import pandas as pd\n",
    "import numpy as np\n",
    "import matplotlib as plt"
   ]
  },
  {
   "cell_type": "markdown",
   "id": "42b16f51",
   "metadata": {},
   "source": [
    "# Exploring"
   ]
  },
  {
   "cell_type": "code",
   "execution_count": 28,
   "id": "dd666bfb",
   "metadata": {},
   "outputs": [
    {
     "name": "stderr",
     "output_type": "stream",
     "text": [
      "/tmp/ipykernel_98815/1097798189.py:1: DtypeWarning: Columns (2,4,5,9,10,12,13,14,16,17,18,19,20,21,22,23,24,25,26,27,28,29,31,32,37,38,39) have mixed types. Specify dtype option on import or set low_memory=False.\n",
      "  df_dvf = pd.read_csv('../raw_data/dvf.csv')\n"
     ]
    },
    {
     "data": {
      "text/plain": [
       "(271360, 41)"
      ]
     },
     "execution_count": 28,
     "metadata": {},
     "output_type": "execute_result"
    }
   ],
   "source": [
    "df_dvf = pd.read_csv('../raw_data/dvf.csv')\n",
    "\n",
    "df_dvf.shape"
   ]
  },
  {
   "cell_type": "code",
   "execution_count": 29,
   "id": "bf0ec430",
   "metadata": {},
   "outputs": [
    {
     "data": {
      "text/plain": [
       "array([\"Vente en l'état futur d'achèvement\", 'Vente', 'Expropriation',\n",
       "       'Echange', 'Vente terrain à bâtir', 'Adjudication',\n",
       "       'nature_mutation'], dtype=object)"
      ]
     },
     "execution_count": 29,
     "metadata": {},
     "output_type": "execute_result"
    }
   ],
   "source": [
    "df_dvf['nature_mutation'].unique()"
   ]
  },
  {
   "cell_type": "code",
   "execution_count": 30,
   "id": "3ab2b7eb",
   "metadata": {},
   "outputs": [
    {
     "data": {
      "text/plain": [
       "nature_mutation\n",
       "Vente                                 188594\n",
       "Vente en l'état futur d'achèvement     78211\n",
       "Adjudication                            2066\n",
       "Expropriation                           1556\n",
       "Echange                                  739\n",
       "Vente terrain à bâtir                    189\n",
       "nature_mutation                            5\n",
       "Name: count, dtype: int64"
      ]
     },
     "execution_count": 30,
     "metadata": {},
     "output_type": "execute_result"
    }
   ],
   "source": [
    "df_dvf['nature_mutation'].value_counts()"
   ]
  },
  {
   "cell_type": "code",
   "execution_count": 31,
   "id": "e11137c2",
   "metadata": {},
   "outputs": [
    {
     "data": {
      "text/plain": [
       "id_mutation                     object\n",
       "date_mutation                   object\n",
       "numero_disposition              object\n",
       "nature_mutation                 object\n",
       "valeur_fonciere                 object\n",
       "adresse_numero                  object\n",
       "adresse_suffixe                 object\n",
       "adresse_nom_voie                object\n",
       "adresse_code_voie               object\n",
       "code_postal                     object\n",
       "code_commune                    object\n",
       "nom_commune                     object\n",
       "code_departement                object\n",
       "ancien_code_commune             object\n",
       "ancien_nom_commune              object\n",
       "id_parcelle                     object\n",
       "ancien_id_parcelle              object\n",
       "numero_volume                   object\n",
       "lot1_numero                     object\n",
       "lot1_surface_carrez             object\n",
       "lot2_numero                     object\n",
       "lot2_surface_carrez             object\n",
       "lot3_numero                     object\n",
       "lot3_surface_carrez             object\n",
       "lot4_numero                     object\n",
       "lot4_surface_carrez             object\n",
       "lot5_numero                     object\n",
       "lot5_surface_carrez             object\n",
       "nombre_lots                     object\n",
       "code_type_local                 object\n",
       "type_local                      object\n",
       "surface_reelle_bati             object\n",
       "nombre_pieces_principales       object\n",
       "code_nature_culture             object\n",
       "nature_culture                  object\n",
       "code_nature_culture_speciale    object\n",
       "nature_culture_speciale         object\n",
       "surface_terrain                 object\n",
       "longitude                       object\n",
       "latitude                        object\n",
       "section_prefixe                 object\n",
       "dtype: object"
      ]
     },
     "execution_count": 31,
     "metadata": {},
     "output_type": "execute_result"
    }
   ],
   "source": [
    "df_dvf.dtypes"
   ]
  },
  {
   "cell_type": "code",
   "execution_count": 32,
   "id": "6b988717",
   "metadata": {},
   "outputs": [
    {
     "data": {
      "text/plain": [
       "Index(['id_mutation', 'date_mutation', 'numero_disposition', 'nature_mutation',\n",
       "       'valeur_fonciere', 'adresse_numero', 'adresse_suffixe',\n",
       "       'adresse_nom_voie', 'adresse_code_voie', 'code_postal', 'code_commune',\n",
       "       'nom_commune', 'code_departement', 'ancien_code_commune',\n",
       "       'ancien_nom_commune', 'id_parcelle', 'ancien_id_parcelle',\n",
       "       'numero_volume', 'lot1_numero', 'lot1_surface_carrez', 'lot2_numero',\n",
       "       'lot2_surface_carrez', 'lot3_numero', 'lot3_surface_carrez',\n",
       "       'lot4_numero', 'lot4_surface_carrez', 'lot5_numero',\n",
       "       'lot5_surface_carrez', 'nombre_lots', 'code_type_local', 'type_local',\n",
       "       'surface_reelle_bati', 'nombre_pieces_principales',\n",
       "       'code_nature_culture', 'nature_culture', 'code_nature_culture_speciale',\n",
       "       'nature_culture_speciale', 'surface_terrain', 'longitude', 'latitude',\n",
       "       'section_prefixe'],\n",
       "      dtype='object')"
      ]
     },
     "execution_count": 32,
     "metadata": {},
     "output_type": "execute_result"
    }
   ],
   "source": [
    "df_dvf.columns"
   ]
  },
  {
   "cell_type": "code",
   "execution_count": 33,
   "id": "2c5d707f",
   "metadata": {},
   "outputs": [
    {
     "data": {
      "text/plain": [
       "id_mutation                          0\n",
       "date_mutation                        0\n",
       "numero_disposition                   0\n",
       "nature_mutation                      0\n",
       "valeur_fonciere                   2591\n",
       "adresse_numero                   29402\n",
       "adresse_suffixe                 259219\n",
       "adresse_nom_voie                 10195\n",
       "adresse_code_voie                10195\n",
       "code_postal                      10195\n",
       "code_commune                         0\n",
       "nom_commune                          0\n",
       "code_departement                     0\n",
       "ancien_code_commune             270288\n",
       "ancien_nom_commune              270288\n",
       "id_parcelle                          0\n",
       "ancien_id_parcelle              271355\n",
       "numero_volume                   269411\n",
       "lot1_numero                      68751\n",
       "lot1_surface_carrez             226795\n",
       "lot2_numero                     224988\n",
       "lot2_surface_carrez             259418\n",
       "lot3_numero                     265455\n",
       "lot3_surface_carrez             270341\n",
       "lot4_numero                     269360\n",
       "lot4_surface_carrez             271082\n",
       "lot5_numero                     270469\n",
       "lot5_surface_carrez             271277\n",
       "nombre_lots                          0\n",
       "code_type_local                  63029\n",
       "type_local                       63029\n",
       "surface_reelle_bati             150276\n",
       "nombre_pieces_principales        63214\n",
       "code_nature_culture             203939\n",
       "nature_culture                  203939\n",
       "code_nature_culture_speciale    269982\n",
       "nature_culture_speciale         269982\n",
       "surface_terrain                 203939\n",
       "longitude                         3988\n",
       "latitude                          3988\n",
       "section_prefixe                      0\n",
       "dtype: int64"
      ]
     },
     "execution_count": 33,
     "metadata": {},
     "output_type": "execute_result"
    }
   ],
   "source": [
    "df_dvf.isnull().sum()"
   ]
  },
  {
   "cell_type": "code",
   "execution_count": 34,
   "id": "376f22f7",
   "metadata": {},
   "outputs": [
    {
     "data": {
      "text/plain": [
       "code_postal     0.03757\n",
       "code_commune    0.00000\n",
       "nom_commune     0.00000\n",
       "dtype: float64"
      ]
     },
     "execution_count": 34,
     "metadata": {},
     "output_type": "execute_result"
    }
   ],
   "source": [
    "df_dvf[['code_postal', 'code_commune', 'nom_commune']].isnull().sum()/len(df_dvf)"
   ]
  },
  {
   "cell_type": "code",
   "execution_count": 35,
   "id": "7d6037f7",
   "metadata": {},
   "outputs": [
    {
     "data": {
      "text/plain": [
       "nombre_lots\n",
       "1              156237\n",
       "0               68751\n",
       "2               40467\n",
       "3                3905\n",
       "4                1109\n",
       "5                 432\n",
       "6                 185\n",
       "7                 114\n",
       "9                  40\n",
       "8                  38\n",
       "10                 18\n",
       "12                  8\n",
       "11                  6\n",
       "13                  6\n",
       "15                  5\n",
       "nombre_lots         5\n",
       "28                  4\n",
       "27                  4\n",
       "20                  3\n",
       "19                  3\n",
       "45                  3\n",
       "16                  2\n",
       "34                  2\n",
       "31                  2\n",
       "22                  2\n",
       "14                  2\n",
       "198                 1\n",
       "120                 1\n",
       "95                  1\n",
       "18                  1\n",
       "21                  1\n",
       "61                  1\n",
       "17                  1\n",
       "Name: count, dtype: int64"
      ]
     },
     "execution_count": 35,
     "metadata": {},
     "output_type": "execute_result"
    }
   ],
   "source": [
    "df_dvf['nombre_lots'].astype('str').value_counts()"
   ]
  },
  {
   "cell_type": "code",
   "execution_count": 36,
   "id": "eb3f129e",
   "metadata": {},
   "outputs": [
    {
     "data": {
      "text/plain": [
       "array([nan, 'Appartement', 'Dépendance',\n",
       "       'Local industriel. commercial ou assimilé', 'Maison', 'type_local'],\n",
       "      dtype=object)"
      ]
     },
     "execution_count": 36,
     "metadata": {},
     "output_type": "execute_result"
    }
   ],
   "source": [
    "df_dvf['type_local'].unique()"
   ]
  },
  {
   "cell_type": "markdown",
   "id": "a5c5bd8b",
   "metadata": {},
   "source": [
    "# 🔅 Preprocessings"
   ]
  },
  {
   "cell_type": "markdown",
   "id": "750ad2d5",
   "metadata": {},
   "source": [
    "## 🧹 Keep only useful columns and translate"
   ]
  },
  {
   "cell_type": "markdown",
   "id": "cc0dd0d0",
   "metadata": {},
   "source": [
    "### Removing columns"
   ]
  },
  {
   "cell_type": "code",
   "execution_count": 37,
   "id": "bc3be1f9",
   "metadata": {},
   "outputs": [
    {
     "name": "stdout",
     "output_type": "stream",
     "text": [
      "<class 'pandas.core.frame.DataFrame'>\n",
      "RangeIndex: 271360 entries, 0 to 271359\n",
      "Data columns (total 13 columns):\n",
      " #   Column                     Non-Null Count   Dtype \n",
      "---  ------                     --------------   ----- \n",
      " 0   date_mutation              271360 non-null  object\n",
      " 1   nature_mutation            271360 non-null  object\n",
      " 2   valeur_fonciere            268769 non-null  object\n",
      " 3   code_postal                261165 non-null  object\n",
      " 4   code_commune               271360 non-null  object\n",
      " 5   code_departement           271360 non-null  object\n",
      " 6   nombre_lots                271360 non-null  object\n",
      " 7   type_local                 208331 non-null  object\n",
      " 8   surface_reelle_bati        121084 non-null  object\n",
      " 9   nombre_pieces_principales  208146 non-null  object\n",
      " 10  surface_terrain            67421 non-null   object\n",
      " 11  longitude                  267372 non-null  object\n",
      " 12  latitude                   267372 non-null  object\n",
      "dtypes: object(13)\n",
      "memory usage: 26.9+ MB\n"
     ]
    }
   ],
   "source": [
    "keep_col =['date_mutation',\n",
    "            'nature_mutation',\n",
    "            'valeur_fonciere',\n",
    "            'code_postal',\n",
    "            'code_commune',\n",
    "            'code_departement',\n",
    "            'nombre_lots',\n",
    "            'type_local',\n",
    "            'surface_reelle_bati',\n",
    "            'nombre_pieces_principales',\n",
    "            'surface_terrain',\n",
    "            'longitude',\n",
    "            'latitude']\n",
    "df_dvf = df_dvf[keep_col]\n",
    "\n",
    "df_dvf.info()"
   ]
  },
  {
   "cell_type": "markdown",
   "id": "09b4d480",
   "metadata": {},
   "source": [
    "### Translate column-names"
   ]
  },
  {
   "cell_type": "code",
   "execution_count": 38,
   "id": "72763dbe",
   "metadata": {},
   "outputs": [],
   "source": [
    "df_dvf.columns = ['date', 'built', 'price', 'postal code',\n",
    "                'city', 'region', 'number of units', 'property type',\n",
    "                'built area', 'number of rooms', 'land area',\n",
    "                'longitude', 'latitude']"
   ]
  },
  {
   "cell_type": "markdown",
   "id": "d3895ad6",
   "metadata": {},
   "source": [
    "### Remove non-representative rows"
   ]
  },
  {
   "cell_type": "code",
   "execution_count": 39,
   "id": "d05b4d1c",
   "metadata": {},
   "outputs": [
    {
     "data": {
      "text/plain": [
       "(271360, 13)"
      ]
     },
     "execution_count": 39,
     "metadata": {},
     "output_type": "execute_result"
    }
   ],
   "source": [
    "df_dvf.shape"
   ]
  },
  {
   "cell_type": "code",
   "execution_count": 40,
   "id": "f7a16c5d",
   "metadata": {},
   "outputs": [
    {
     "data": {
      "text/plain": [
       "array([\"Vente en l'état futur d'achèvement\", 'Vente', 'Expropriation',\n",
       "       'Echange', 'Vente terrain à bâtir', 'Adjudication',\n",
       "       'nature_mutation'], dtype=object)"
      ]
     },
     "execution_count": 40,
     "metadata": {},
     "output_type": "execute_result"
    }
   ],
   "source": [
    "df_dvf['built'].unique()"
   ]
  },
  {
   "cell_type": "markdown",
   "id": "cb0dffb1",
   "metadata": {},
   "source": [
    "We want to keep only :\n",
    "- Houses and appartments\n",
    "- Normal sales and off-plan sales\n",
    "- Sales with only one unit"
   ]
  },
  {
   "cell_type": "code",
   "execution_count": 41,
   "id": "ed5e654b",
   "metadata": {},
   "outputs": [
    {
     "data": {
      "text/plain": [
       "(219246, 13)"
      ]
     },
     "execution_count": 41,
     "metadata": {},
     "output_type": "execute_result"
    }
   ],
   "source": [
    "df_useful = df_dvf[((df_dvf['built'] == \"Vente\") | (df_dvf['built'] == \"Vente en l'état futur d'achèvement\")) &\n",
    "                    df_dvf['number of units'] == (1 or '1')]\n",
    "df_useful.shape"
   ]
  },
  {
   "cell_type": "code",
   "execution_count": 42,
   "id": "83e64017",
   "metadata": {},
   "outputs": [
    {
     "data": {
      "text/plain": [
       "array([nan, 'Appartement', 'Dépendance',\n",
       "       'Local industriel. commercial ou assimilé', 'Maison', 'type_local'],\n",
       "      dtype=object)"
      ]
     },
     "execution_count": 42,
     "metadata": {},
     "output_type": "execute_result"
    }
   ],
   "source": [
    "df_dvf['property type'].unique()"
   ]
  },
  {
   "cell_type": "code",
   "execution_count": null,
   "id": "18e35901",
   "metadata": {},
   "outputs": [],
   "source": [
    "### Removing rows and columns###\n",
    "df_dvf = df_dvf.dropna(subset=['valeur_fonciere', 'surface_reelle_bati', 'longitude'])\n",
    "del_col =['adresse_suffixe', 'code_commune', 'nom_commune', 'code_departement',\n",
    "          'ancien_code_commune', 'ancien_nom_commune', 'ancien_id_parcelle', 'numero_volume',\n",
    "          'lot1_numero', 'lot1_surface_carrez', 'lot2_numero', 'lot2_surface_carrez', 'lot3_numero',\n",
    "          'lot3_surface_carrez', 'lot4_numero', 'lot4_surface_carrez', 'lot5_numero', 'lot5_surface_carrez',\n",
    "          'code_nature_culture', 'nature_culture', 'code_nature_culture_speciale', 'nature_culture_speciale',\n",
    "          'section_prefixe']\n",
    "df_dvf = df_dvf.drop(columns = del_col)\n",
    "\n",
    "df_dvf.info()"
   ]
  },
  {
   "cell_type": "code",
   "execution_count": null,
   "id": "23829c8f",
   "metadata": {},
   "outputs": [
    {
     "name": "stdout",
     "output_type": "stream",
     "text": [
      "<class 'pandas.core.frame.DataFrame'>\n",
      "Int64Index: 55499 entries, 17 to 107198\n",
      "Data columns (total 18 columns):\n",
      " #   Column                     Non-Null Count  Dtype  \n",
      "---  ------                     --------------  -----  \n",
      " 0   id_mutation                55499 non-null  object \n",
      " 1   date_mutation              55499 non-null  object \n",
      " 2   numero_disposition         55499 non-null  object \n",
      " 3   nature_mutation            55499 non-null  object \n",
      " 4   valeur_fonciere            55497 non-null  float64\n",
      " 5   adresse_numero             55149 non-null  object \n",
      " 6   adresse_nom_voie           55499 non-null  object \n",
      " 7   adresse_code_voie          55499 non-null  object \n",
      " 8   code_postal                55497 non-null  float64\n",
      " 9   id_parcelle                55499 non-null  object \n",
      " 10  nombre_lots                55497 non-null  float64\n",
      " 11  code_type_local            55499 non-null  object \n",
      " 12  type_local                 55499 non-null  object \n",
      " 13  surface_reelle_bati        55497 non-null  float64\n",
      " 14  nombre_pieces_principales  55497 non-null  float64\n",
      " 15  surface_terrain            5245 non-null   float64\n",
      " 16  longitude                  55497 non-null  float64\n",
      " 17  latitude                   55497 non-null  float64\n",
      "dtypes: float64(8), object(10)\n",
      "memory usage: 8.0+ MB\n"
     ]
    }
   ],
   "source": [
    "### Formating data ####\n",
    "df_dvf[['valeur_fonciere', 'surface_reelle_bati', 'nombre_pieces_principales', 'surface_terrain', 'longitude', 'latitude', 'code_postal', 'nombre_lots']] = df_dvf[['valeur_fonciere', 'surface_reelle_bati', 'nombre_pieces_principales', 'surface_terrain', 'longitude', 'latitude', 'code_postal', 'nombre_lots']].apply(lambda x: pd.to_numeric(x, errors='coerce').astype('float64'))\n",
    "\n",
    "df_dvf.info()"
   ]
  },
  {
   "cell_type": "code",
   "execution_count": null,
   "id": "5dcb29fd",
   "metadata": {},
   "outputs": [
    {
     "data": {
      "text/html": [
       "<div>\n",
       "<style scoped>\n",
       "    .dataframe tbody tr th:only-of-type {\n",
       "        vertical-align: middle;\n",
       "    }\n",
       "\n",
       "    .dataframe tbody tr th {\n",
       "        vertical-align: top;\n",
       "    }\n",
       "\n",
       "    .dataframe thead th {\n",
       "        text-align: right;\n",
       "    }\n",
       "</style>\n",
       "<table border=\"1\" class=\"dataframe\">\n",
       "  <thead>\n",
       "    <tr style=\"text-align: right;\">\n",
       "      <th></th>\n",
       "      <th>id_mutation</th>\n",
       "      <th>date_mutation</th>\n",
       "      <th>numero_disposition</th>\n",
       "      <th>nature_mutation</th>\n",
       "      <th>valeur_fonciere</th>\n",
       "      <th>adresse_numero</th>\n",
       "      <th>adresse_nom_voie</th>\n",
       "      <th>adresse_code_voie</th>\n",
       "      <th>code_postal</th>\n",
       "      <th>id_parcelle</th>\n",
       "      <th>nombre_lots</th>\n",
       "      <th>code_type_local</th>\n",
       "      <th>type_local</th>\n",
       "      <th>surface_reelle_bati</th>\n",
       "      <th>nombre_pieces_principales</th>\n",
       "      <th>surface_terrain</th>\n",
       "      <th>longitude</th>\n",
       "      <th>latitude</th>\n",
       "      <th>prix_m_2</th>\n",
       "    </tr>\n",
       "  </thead>\n",
       "  <tbody>\n",
       "    <tr>\n",
       "      <th>17</th>\n",
       "      <td>2022-60863</td>\n",
       "      <td>2022-06-21</td>\n",
       "      <td>1</td>\n",
       "      <td>Vente</td>\n",
       "      <td>630000.0</td>\n",
       "      <td>209.0</td>\n",
       "      <td>RTE DE BELLET</td>\n",
       "      <td>0745</td>\n",
       "      <td>6200.0</td>\n",
       "      <td>06088000MV0142</td>\n",
       "      <td>1.0</td>\n",
       "      <td>1.0</td>\n",
       "      <td>Maison</td>\n",
       "      <td>123.0</td>\n",
       "      <td>5.0</td>\n",
       "      <td>NaN</td>\n",
       "      <td>7.222367</td>\n",
       "      <td>43.703745</td>\n",
       "      <td>5121.951220</td>\n",
       "    </tr>\n",
       "    <tr>\n",
       "      <th>61</th>\n",
       "      <td>2021-53129</td>\n",
       "      <td>2021-01-07</td>\n",
       "      <td>1</td>\n",
       "      <td>Vente</td>\n",
       "      <td>175000.0</td>\n",
       "      <td>119.0</td>\n",
       "      <td>BD GAMBETTA</td>\n",
       "      <td>2755</td>\n",
       "      <td>6000.0</td>\n",
       "      <td>06088000MH0122</td>\n",
       "      <td>2.0</td>\n",
       "      <td>2.0</td>\n",
       "      <td>Appartement</td>\n",
       "      <td>44.0</td>\n",
       "      <td>2.0</td>\n",
       "      <td>NaN</td>\n",
       "      <td>7.255831</td>\n",
       "      <td>43.707262</td>\n",
       "      <td>3977.272727</td>\n",
       "    </tr>\n",
       "    <tr>\n",
       "      <th>62</th>\n",
       "      <td>2021-53130</td>\n",
       "      <td>2021-01-05</td>\n",
       "      <td>1</td>\n",
       "      <td>Vente</td>\n",
       "      <td>143600.0</td>\n",
       "      <td>166.0</td>\n",
       "      <td>BD DE LA MADELEINE</td>\n",
       "      <td>3820</td>\n",
       "      <td>6000.0</td>\n",
       "      <td>06088000ML0059</td>\n",
       "      <td>1.0</td>\n",
       "      <td>2.0</td>\n",
       "      <td>Appartement</td>\n",
       "      <td>50.0</td>\n",
       "      <td>2.0</td>\n",
       "      <td>NaN</td>\n",
       "      <td>7.236937</td>\n",
       "      <td>43.701856</td>\n",
       "      <td>2872.000000</td>\n",
       "    </tr>\n",
       "    <tr>\n",
       "      <th>63</th>\n",
       "      <td>2021-53132</td>\n",
       "      <td>2021-01-06</td>\n",
       "      <td>1</td>\n",
       "      <td>Vente</td>\n",
       "      <td>373500.0</td>\n",
       "      <td>144.0</td>\n",
       "      <td>RTE ST PIERRE FERIC</td>\n",
       "      <td>5910</td>\n",
       "      <td>6000.0</td>\n",
       "      <td>06088000LY0389</td>\n",
       "      <td>1.0</td>\n",
       "      <td>2.0</td>\n",
       "      <td>Appartement</td>\n",
       "      <td>66.0</td>\n",
       "      <td>3.0</td>\n",
       "      <td>NaN</td>\n",
       "      <td>7.240552</td>\n",
       "      <td>43.714549</td>\n",
       "      <td>5659.090909</td>\n",
       "    </tr>\n",
       "    <tr>\n",
       "      <th>64</th>\n",
       "      <td>2021-53133</td>\n",
       "      <td>2021-01-06</td>\n",
       "      <td>1</td>\n",
       "      <td>Vente</td>\n",
       "      <td>80450.0</td>\n",
       "      <td>5.0</td>\n",
       "      <td>RUE ABBE SALVETTI</td>\n",
       "      <td>0027</td>\n",
       "      <td>6300.0</td>\n",
       "      <td>06088000IY0079</td>\n",
       "      <td>1.0</td>\n",
       "      <td>2.0</td>\n",
       "      <td>Appartement</td>\n",
       "      <td>20.0</td>\n",
       "      <td>1.0</td>\n",
       "      <td>NaN</td>\n",
       "      <td>7.292555</td>\n",
       "      <td>43.703503</td>\n",
       "      <td>4022.500000</td>\n",
       "    </tr>\n",
       "  </tbody>\n",
       "</table>\n",
       "</div>"
      ],
      "text/plain": [
       "   id_mutation date_mutation numero_disposition nature_mutation  \\\n",
       "17  2022-60863    2022-06-21                  1           Vente   \n",
       "61  2021-53129    2021-01-07                  1           Vente   \n",
       "62  2021-53130    2021-01-05                  1           Vente   \n",
       "63  2021-53132    2021-01-06                  1           Vente   \n",
       "64  2021-53133    2021-01-06                  1           Vente   \n",
       "\n",
       "    valeur_fonciere adresse_numero     adresse_nom_voie adresse_code_voie  \\\n",
       "17         630000.0          209.0        RTE DE BELLET              0745   \n",
       "61         175000.0          119.0          BD GAMBETTA              2755   \n",
       "62         143600.0          166.0   BD DE LA MADELEINE              3820   \n",
       "63         373500.0          144.0  RTE ST PIERRE FERIC              5910   \n",
       "64          80450.0            5.0    RUE ABBE SALVETTI              0027   \n",
       "\n",
       "    code_postal     id_parcelle  nombre_lots code_type_local   type_local  \\\n",
       "17       6200.0  06088000MV0142          1.0             1.0       Maison   \n",
       "61       6000.0  06088000MH0122          2.0             2.0  Appartement   \n",
       "62       6000.0  06088000ML0059          1.0             2.0  Appartement   \n",
       "63       6000.0  06088000LY0389          1.0             2.0  Appartement   \n",
       "64       6300.0  06088000IY0079          1.0             2.0  Appartement   \n",
       "\n",
       "    surface_reelle_bati  nombre_pieces_principales  surface_terrain  \\\n",
       "17                123.0                        5.0              NaN   \n",
       "61                 44.0                        2.0              NaN   \n",
       "62                 50.0                        2.0              NaN   \n",
       "63                 66.0                        3.0              NaN   \n",
       "64                 20.0                        1.0              NaN   \n",
       "\n",
       "    longitude   latitude     prix_m_2  \n",
       "17   7.222367  43.703745  5121.951220  \n",
       "61   7.255831  43.707262  3977.272727  \n",
       "62   7.236937  43.701856  2872.000000  \n",
       "63   7.240552  43.714549  5659.090909  \n",
       "64   7.292555  43.703503  4022.500000  "
      ]
     },
     "execution_count": 108,
     "metadata": {},
     "output_type": "execute_result"
    }
   ],
   "source": [
    "df_dvf['prix_m_2'] = df_dvf['valeur_fonciere']/ df_dvf['surface_reelle_bati']\n",
    "\n",
    "\n",
    "\n",
    "df_dvf.head(5)"
   ]
  },
  {
   "cell_type": "code",
   "execution_count": null,
   "id": "46a64ba2",
   "metadata": {},
   "outputs": [
    {
     "data": {
      "text/html": [
       "<div>\n",
       "<style scoped>\n",
       "    .dataframe tbody tr th:only-of-type {\n",
       "        vertical-align: middle;\n",
       "    }\n",
       "\n",
       "    .dataframe tbody tr th {\n",
       "        vertical-align: top;\n",
       "    }\n",
       "\n",
       "    .dataframe thead th {\n",
       "        text-align: right;\n",
       "    }\n",
       "</style>\n",
       "<table border=\"1\" class=\"dataframe\">\n",
       "  <thead>\n",
       "    <tr style=\"text-align: right;\">\n",
       "      <th></th>\n",
       "      <th>id_mutation</th>\n",
       "      <th>date_mutation</th>\n",
       "      <th>numero_disposition</th>\n",
       "      <th>nature_mutation</th>\n",
       "      <th>valeur_fonciere</th>\n",
       "      <th>adresse_numero</th>\n",
       "      <th>adresse_nom_voie</th>\n",
       "      <th>adresse_code_voie</th>\n",
       "      <th>code_postal</th>\n",
       "      <th>id_parcelle</th>\n",
       "      <th>nombre_lots</th>\n",
       "      <th>code_type_local</th>\n",
       "      <th>type_local</th>\n",
       "      <th>surface_reelle_bati</th>\n",
       "      <th>nombre_pieces_principales</th>\n",
       "      <th>surface_terrain</th>\n",
       "      <th>longitude</th>\n",
       "      <th>latitude</th>\n",
       "      <th>prix_m_2</th>\n",
       "    </tr>\n",
       "  </thead>\n",
       "  <tbody>\n",
       "    <tr>\n",
       "      <th>17</th>\n",
       "      <td>2022-60863</td>\n",
       "      <td>2022-06-21</td>\n",
       "      <td>1</td>\n",
       "      <td>Vente</td>\n",
       "      <td>630000.0</td>\n",
       "      <td>209.0</td>\n",
       "      <td>RTE DE BELLET</td>\n",
       "      <td>0745</td>\n",
       "      <td>6200.0</td>\n",
       "      <td>06088000MV0142</td>\n",
       "      <td>1.0</td>\n",
       "      <td>1.0</td>\n",
       "      <td>Maison</td>\n",
       "      <td>123.0</td>\n",
       "      <td>5.0</td>\n",
       "      <td>0.0</td>\n",
       "      <td>7.222367</td>\n",
       "      <td>43.703745</td>\n",
       "      <td>5121.951220</td>\n",
       "    </tr>\n",
       "    <tr>\n",
       "      <th>61</th>\n",
       "      <td>2021-53129</td>\n",
       "      <td>2021-01-07</td>\n",
       "      <td>1</td>\n",
       "      <td>Vente</td>\n",
       "      <td>175000.0</td>\n",
       "      <td>119.0</td>\n",
       "      <td>BD GAMBETTA</td>\n",
       "      <td>2755</td>\n",
       "      <td>6000.0</td>\n",
       "      <td>06088000MH0122</td>\n",
       "      <td>2.0</td>\n",
       "      <td>2.0</td>\n",
       "      <td>Appartement</td>\n",
       "      <td>44.0</td>\n",
       "      <td>2.0</td>\n",
       "      <td>0.0</td>\n",
       "      <td>7.255831</td>\n",
       "      <td>43.707262</td>\n",
       "      <td>3977.272727</td>\n",
       "    </tr>\n",
       "    <tr>\n",
       "      <th>62</th>\n",
       "      <td>2021-53130</td>\n",
       "      <td>2021-01-05</td>\n",
       "      <td>1</td>\n",
       "      <td>Vente</td>\n",
       "      <td>143600.0</td>\n",
       "      <td>166.0</td>\n",
       "      <td>BD DE LA MADELEINE</td>\n",
       "      <td>3820</td>\n",
       "      <td>6000.0</td>\n",
       "      <td>06088000ML0059</td>\n",
       "      <td>1.0</td>\n",
       "      <td>2.0</td>\n",
       "      <td>Appartement</td>\n",
       "      <td>50.0</td>\n",
       "      <td>2.0</td>\n",
       "      <td>0.0</td>\n",
       "      <td>7.236937</td>\n",
       "      <td>43.701856</td>\n",
       "      <td>2872.000000</td>\n",
       "    </tr>\n",
       "    <tr>\n",
       "      <th>63</th>\n",
       "      <td>2021-53132</td>\n",
       "      <td>2021-01-06</td>\n",
       "      <td>1</td>\n",
       "      <td>Vente</td>\n",
       "      <td>373500.0</td>\n",
       "      <td>144.0</td>\n",
       "      <td>RTE ST PIERRE FERIC</td>\n",
       "      <td>5910</td>\n",
       "      <td>6000.0</td>\n",
       "      <td>06088000LY0389</td>\n",
       "      <td>1.0</td>\n",
       "      <td>2.0</td>\n",
       "      <td>Appartement</td>\n",
       "      <td>66.0</td>\n",
       "      <td>3.0</td>\n",
       "      <td>0.0</td>\n",
       "      <td>7.240552</td>\n",
       "      <td>43.714549</td>\n",
       "      <td>5659.090909</td>\n",
       "    </tr>\n",
       "    <tr>\n",
       "      <th>64</th>\n",
       "      <td>2021-53133</td>\n",
       "      <td>2021-01-06</td>\n",
       "      <td>1</td>\n",
       "      <td>Vente</td>\n",
       "      <td>80450.0</td>\n",
       "      <td>5.0</td>\n",
       "      <td>RUE ABBE SALVETTI</td>\n",
       "      <td>0027</td>\n",
       "      <td>6300.0</td>\n",
       "      <td>06088000IY0079</td>\n",
       "      <td>1.0</td>\n",
       "      <td>2.0</td>\n",
       "      <td>Appartement</td>\n",
       "      <td>20.0</td>\n",
       "      <td>1.0</td>\n",
       "      <td>0.0</td>\n",
       "      <td>7.292555</td>\n",
       "      <td>43.703503</td>\n",
       "      <td>4022.500000</td>\n",
       "    </tr>\n",
       "  </tbody>\n",
       "</table>\n",
       "</div>"
      ],
      "text/plain": [
       "   id_mutation date_mutation numero_disposition nature_mutation  \\\n",
       "17  2022-60863    2022-06-21                  1           Vente   \n",
       "61  2021-53129    2021-01-07                  1           Vente   \n",
       "62  2021-53130    2021-01-05                  1           Vente   \n",
       "63  2021-53132    2021-01-06                  1           Vente   \n",
       "64  2021-53133    2021-01-06                  1           Vente   \n",
       "\n",
       "    valeur_fonciere adresse_numero     adresse_nom_voie adresse_code_voie  \\\n",
       "17         630000.0          209.0        RTE DE BELLET              0745   \n",
       "61         175000.0          119.0          BD GAMBETTA              2755   \n",
       "62         143600.0          166.0   BD DE LA MADELEINE              3820   \n",
       "63         373500.0          144.0  RTE ST PIERRE FERIC              5910   \n",
       "64          80450.0            5.0    RUE ABBE SALVETTI              0027   \n",
       "\n",
       "    code_postal     id_parcelle  nombre_lots code_type_local   type_local  \\\n",
       "17       6200.0  06088000MV0142          1.0             1.0       Maison   \n",
       "61       6000.0  06088000MH0122          2.0             2.0  Appartement   \n",
       "62       6000.0  06088000ML0059          1.0             2.0  Appartement   \n",
       "63       6000.0  06088000LY0389          1.0             2.0  Appartement   \n",
       "64       6300.0  06088000IY0079          1.0             2.0  Appartement   \n",
       "\n",
       "    surface_reelle_bati  nombre_pieces_principales  surface_terrain  \\\n",
       "17                123.0                        5.0              0.0   \n",
       "61                 44.0                        2.0              0.0   \n",
       "62                 50.0                        2.0              0.0   \n",
       "63                 66.0                        3.0              0.0   \n",
       "64                 20.0                        1.0              0.0   \n",
       "\n",
       "    longitude   latitude     prix_m_2  \n",
       "17   7.222367  43.703745  5121.951220  \n",
       "61   7.255831  43.707262  3977.272727  \n",
       "62   7.236937  43.701856  2872.000000  \n",
       "63   7.240552  43.714549  5659.090909  \n",
       "64   7.292555  43.703503  4022.500000  "
      ]
     },
     "execution_count": 110,
     "metadata": {},
     "output_type": "execute_result"
    }
   ],
   "source": [
    "df_dvf['surface_terrain'].fillna(value=0, inplace=True)\n",
    "\n",
    "df_dvf.head(5)"
   ]
  },
  {
   "cell_type": "code",
   "execution_count": null,
   "id": "4e6591de",
   "metadata": {},
   "outputs": [
    {
     "name": "stdout",
     "output_type": "stream",
     "text": [
      "<class 'pandas.core.frame.DataFrame'>\n",
      "Int64Index: 55499 entries, 17 to 107198\n",
      "Data columns (total 19 columns):\n",
      " #   Column                     Non-Null Count  Dtype  \n",
      "---  ------                     --------------  -----  \n",
      " 0   id_mutation                55499 non-null  object \n",
      " 1   date_mutation              55499 non-null  object \n",
      " 2   numero_disposition         55499 non-null  object \n",
      " 3   nature_mutation            55499 non-null  object \n",
      " 4   valeur_fonciere            55497 non-null  float64\n",
      " 5   adresse_numero             55149 non-null  object \n",
      " 6   adresse_nom_voie           55499 non-null  object \n",
      " 7   adresse_code_voie          55499 non-null  object \n",
      " 8   code_postal                55497 non-null  float64\n",
      " 9   id_parcelle                55499 non-null  object \n",
      " 10  nombre_lots                55497 non-null  float64\n",
      " 11  code_type_local            55499 non-null  object \n",
      " 12  type_local                 55499 non-null  object \n",
      " 13  surface_reelle_bati        55497 non-null  float64\n",
      " 14  nombre_pieces_principales  55497 non-null  float64\n",
      " 15  surface_terrain            55499 non-null  float64\n",
      " 16  longitude                  55497 non-null  float64\n",
      " 17  latitude                   55497 non-null  float64\n",
      " 18  prix_m_2                   55497 non-null  float64\n",
      "dtypes: float64(9), object(10)\n",
      "memory usage: 8.5+ MB\n"
     ]
    }
   ],
   "source": [
    "df_dvf.info()"
   ]
  },
  {
   "cell_type": "code",
   "execution_count": null,
   "id": "d0a6cf95",
   "metadata": {},
   "outputs": [
    {
     "data": {
      "text/html": [
       "<div>\n",
       "<style scoped>\n",
       "    .dataframe tbody tr th:only-of-type {\n",
       "        vertical-align: middle;\n",
       "    }\n",
       "\n",
       "    .dataframe tbody tr th {\n",
       "        vertical-align: top;\n",
       "    }\n",
       "\n",
       "    .dataframe thead th {\n",
       "        text-align: right;\n",
       "    }\n",
       "</style>\n",
       "<table border=\"1\" class=\"dataframe\">\n",
       "  <thead>\n",
       "    <tr style=\"text-align: right;\">\n",
       "      <th></th>\n",
       "      <th>id_mutation</th>\n",
       "      <th>date_mutation</th>\n",
       "      <th>numero_disposition</th>\n",
       "      <th>nature_mutation</th>\n",
       "      <th>valeur_fonciere</th>\n",
       "      <th>adresse_numero</th>\n",
       "      <th>adresse_nom_voie</th>\n",
       "      <th>adresse_code_voie</th>\n",
       "      <th>code_postal</th>\n",
       "      <th>id_parcelle</th>\n",
       "      <th>nombre_lots</th>\n",
       "      <th>code_type_local</th>\n",
       "      <th>type_local</th>\n",
       "      <th>surface_reelle_bati</th>\n",
       "      <th>nombre_pieces_principales</th>\n",
       "      <th>surface_terrain</th>\n",
       "      <th>longitude</th>\n",
       "      <th>latitude</th>\n",
       "      <th>prix_m_2</th>\n",
       "    </tr>\n",
       "  </thead>\n",
       "  <tbody>\n",
       "    <tr>\n",
       "      <th>17</th>\n",
       "      <td>2022-60863</td>\n",
       "      <td>2022-06-21</td>\n",
       "      <td>1</td>\n",
       "      <td>Vente</td>\n",
       "      <td>630000.0</td>\n",
       "      <td>209.0</td>\n",
       "      <td>RTE DE BELLET</td>\n",
       "      <td>0745</td>\n",
       "      <td>6200.0</td>\n",
       "      <td>06088000MV0142</td>\n",
       "      <td>1.0</td>\n",
       "      <td>1.0</td>\n",
       "      <td>Maison</td>\n",
       "      <td>123.0</td>\n",
       "      <td>5.0</td>\n",
       "      <td>0.0</td>\n",
       "      <td>7.222367</td>\n",
       "      <td>43.703745</td>\n",
       "      <td>5121.951220</td>\n",
       "    </tr>\n",
       "    <tr>\n",
       "      <th>61</th>\n",
       "      <td>2021-53129</td>\n",
       "      <td>2021-01-07</td>\n",
       "      <td>1</td>\n",
       "      <td>Vente</td>\n",
       "      <td>175000.0</td>\n",
       "      <td>119.0</td>\n",
       "      <td>BD GAMBETTA</td>\n",
       "      <td>2755</td>\n",
       "      <td>6000.0</td>\n",
       "      <td>06088000MH0122</td>\n",
       "      <td>2.0</td>\n",
       "      <td>2.0</td>\n",
       "      <td>Appartement</td>\n",
       "      <td>44.0</td>\n",
       "      <td>2.0</td>\n",
       "      <td>0.0</td>\n",
       "      <td>7.255831</td>\n",
       "      <td>43.707262</td>\n",
       "      <td>3977.272727</td>\n",
       "    </tr>\n",
       "    <tr>\n",
       "      <th>62</th>\n",
       "      <td>2021-53130</td>\n",
       "      <td>2021-01-05</td>\n",
       "      <td>1</td>\n",
       "      <td>Vente</td>\n",
       "      <td>143600.0</td>\n",
       "      <td>166.0</td>\n",
       "      <td>BD DE LA MADELEINE</td>\n",
       "      <td>3820</td>\n",
       "      <td>6000.0</td>\n",
       "      <td>06088000ML0059</td>\n",
       "      <td>1.0</td>\n",
       "      <td>2.0</td>\n",
       "      <td>Appartement</td>\n",
       "      <td>50.0</td>\n",
       "      <td>2.0</td>\n",
       "      <td>0.0</td>\n",
       "      <td>7.236937</td>\n",
       "      <td>43.701856</td>\n",
       "      <td>2872.000000</td>\n",
       "    </tr>\n",
       "    <tr>\n",
       "      <th>63</th>\n",
       "      <td>2021-53132</td>\n",
       "      <td>2021-01-06</td>\n",
       "      <td>1</td>\n",
       "      <td>Vente</td>\n",
       "      <td>373500.0</td>\n",
       "      <td>144.0</td>\n",
       "      <td>RTE ST PIERRE FERIC</td>\n",
       "      <td>5910</td>\n",
       "      <td>6000.0</td>\n",
       "      <td>06088000LY0389</td>\n",
       "      <td>1.0</td>\n",
       "      <td>2.0</td>\n",
       "      <td>Appartement</td>\n",
       "      <td>66.0</td>\n",
       "      <td>3.0</td>\n",
       "      <td>0.0</td>\n",
       "      <td>7.240552</td>\n",
       "      <td>43.714549</td>\n",
       "      <td>5659.090909</td>\n",
       "    </tr>\n",
       "    <tr>\n",
       "      <th>64</th>\n",
       "      <td>2021-53133</td>\n",
       "      <td>2021-01-06</td>\n",
       "      <td>1</td>\n",
       "      <td>Vente</td>\n",
       "      <td>80450.0</td>\n",
       "      <td>5.0</td>\n",
       "      <td>RUE ABBE SALVETTI</td>\n",
       "      <td>0027</td>\n",
       "      <td>6300.0</td>\n",
       "      <td>06088000IY0079</td>\n",
       "      <td>1.0</td>\n",
       "      <td>2.0</td>\n",
       "      <td>Appartement</td>\n",
       "      <td>20.0</td>\n",
       "      <td>1.0</td>\n",
       "      <td>0.0</td>\n",
       "      <td>7.292555</td>\n",
       "      <td>43.703503</td>\n",
       "      <td>4022.500000</td>\n",
       "    </tr>\n",
       "  </tbody>\n",
       "</table>\n",
       "</div>"
      ],
      "text/plain": [
       "   id_mutation date_mutation numero_disposition nature_mutation  \\\n",
       "17  2022-60863    2022-06-21                  1           Vente   \n",
       "61  2021-53129    2021-01-07                  1           Vente   \n",
       "62  2021-53130    2021-01-05                  1           Vente   \n",
       "63  2021-53132    2021-01-06                  1           Vente   \n",
       "64  2021-53133    2021-01-06                  1           Vente   \n",
       "\n",
       "    valeur_fonciere adresse_numero     adresse_nom_voie adresse_code_voie  \\\n",
       "17         630000.0          209.0        RTE DE BELLET              0745   \n",
       "61         175000.0          119.0          BD GAMBETTA              2755   \n",
       "62         143600.0          166.0   BD DE LA MADELEINE              3820   \n",
       "63         373500.0          144.0  RTE ST PIERRE FERIC              5910   \n",
       "64          80450.0            5.0    RUE ABBE SALVETTI              0027   \n",
       "\n",
       "    code_postal     id_parcelle  nombre_lots code_type_local   type_local  \\\n",
       "17       6200.0  06088000MV0142          1.0             1.0       Maison   \n",
       "61       6000.0  06088000MH0122          2.0             2.0  Appartement   \n",
       "62       6000.0  06088000ML0059          1.0             2.0  Appartement   \n",
       "63       6000.0  06088000LY0389          1.0             2.0  Appartement   \n",
       "64       6300.0  06088000IY0079          1.0             2.0  Appartement   \n",
       "\n",
       "    surface_reelle_bati  nombre_pieces_principales  surface_terrain  \\\n",
       "17                123.0                        5.0              0.0   \n",
       "61                 44.0                        2.0              0.0   \n",
       "62                 50.0                        2.0              0.0   \n",
       "63                 66.0                        3.0              0.0   \n",
       "64                 20.0                        1.0              0.0   \n",
       "\n",
       "    longitude   latitude     prix_m_2  \n",
       "17   7.222367  43.703745  5121.951220  \n",
       "61   7.255831  43.707262  3977.272727  \n",
       "62   7.236937  43.701856  2872.000000  \n",
       "63   7.240552  43.714549  5659.090909  \n",
       "64   7.292555  43.703503  4022.500000  "
      ]
     },
     "execution_count": 112,
     "metadata": {},
     "output_type": "execute_result"
    }
   ],
   "source": [
    "df_dvf.head(5)"
   ]
  },
  {
   "cell_type": "code",
   "execution_count": null,
   "id": "a7926f26",
   "metadata": {},
   "outputs": [
    {
     "name": "stderr",
     "output_type": "stream",
     "text": [
      "/Users/timotheehattemberg/Desktop/Projet_le_wagon/project.py:6: DtypeWarning: Columns (2,4,5,9,10,12,13,14,16,17,19,21,22,23,24,25,26,27,28,29,31,32,37,38,39) have mixed types. Specify dtype option on import or set low_memory=False.\n",
      "  df_dvf = pd.read_csv('dvf.csv')\n"
     ]
    }
   ],
   "source": [
    "import project"
   ]
  },
  {
   "cell_type": "code",
   "execution_count": null,
   "id": "33e400ac",
   "metadata": {},
   "outputs": [
    {
     "data": {
      "text/html": [
       "<div>\n",
       "<style scoped>\n",
       "    .dataframe tbody tr th:only-of-type {\n",
       "        vertical-align: middle;\n",
       "    }\n",
       "\n",
       "    .dataframe tbody tr th {\n",
       "        vertical-align: top;\n",
       "    }\n",
       "\n",
       "    .dataframe thead th {\n",
       "        text-align: right;\n",
       "    }\n",
       "</style>\n",
       "<table border=\"1\" class=\"dataframe\">\n",
       "  <thead>\n",
       "    <tr style=\"text-align: right;\">\n",
       "      <th></th>\n",
       "      <th>id_mutation</th>\n",
       "      <th>date_mutation</th>\n",
       "      <th>numero_disposition</th>\n",
       "      <th>nature_mutation</th>\n",
       "      <th>valeur_fonciere</th>\n",
       "      <th>adresse_numero</th>\n",
       "      <th>adresse_nom_voie</th>\n",
       "      <th>adresse_code_voie</th>\n",
       "      <th>code_postal</th>\n",
       "      <th>id_parcelle</th>\n",
       "      <th>nombre_lots</th>\n",
       "      <th>code_type_local</th>\n",
       "      <th>type_local</th>\n",
       "      <th>surface_reelle_bati</th>\n",
       "      <th>nombre_pieces_principales</th>\n",
       "      <th>surface_terrain</th>\n",
       "      <th>longitude</th>\n",
       "      <th>latitude</th>\n",
       "      <th>prix_m_2</th>\n",
       "    </tr>\n",
       "  </thead>\n",
       "  <tbody>\n",
       "    <tr>\n",
       "      <th>17</th>\n",
       "      <td>2022-60863</td>\n",
       "      <td>2022-06-21</td>\n",
       "      <td>1</td>\n",
       "      <td>Vente</td>\n",
       "      <td>630000.0</td>\n",
       "      <td>209.0</td>\n",
       "      <td>RTE DE BELLET</td>\n",
       "      <td>0745</td>\n",
       "      <td>6200.0</td>\n",
       "      <td>06088000MV0142</td>\n",
       "      <td>1.0</td>\n",
       "      <td>1.0</td>\n",
       "      <td>Maison</td>\n",
       "      <td>123.0</td>\n",
       "      <td>5.0</td>\n",
       "      <td>0.0</td>\n",
       "      <td>7.222367</td>\n",
       "      <td>43.703745</td>\n",
       "      <td>5121.951220</td>\n",
       "    </tr>\n",
       "    <tr>\n",
       "      <th>61</th>\n",
       "      <td>2021-53129</td>\n",
       "      <td>2021-01-07</td>\n",
       "      <td>1</td>\n",
       "      <td>Vente</td>\n",
       "      <td>175000.0</td>\n",
       "      <td>119.0</td>\n",
       "      <td>BD GAMBETTA</td>\n",
       "      <td>2755</td>\n",
       "      <td>6000.0</td>\n",
       "      <td>06088000MH0122</td>\n",
       "      <td>2.0</td>\n",
       "      <td>2.0</td>\n",
       "      <td>Appartement</td>\n",
       "      <td>44.0</td>\n",
       "      <td>2.0</td>\n",
       "      <td>0.0</td>\n",
       "      <td>7.255831</td>\n",
       "      <td>43.707262</td>\n",
       "      <td>3977.272727</td>\n",
       "    </tr>\n",
       "    <tr>\n",
       "      <th>62</th>\n",
       "      <td>2021-53130</td>\n",
       "      <td>2021-01-05</td>\n",
       "      <td>1</td>\n",
       "      <td>Vente</td>\n",
       "      <td>143600.0</td>\n",
       "      <td>166.0</td>\n",
       "      <td>BD DE LA MADELEINE</td>\n",
       "      <td>3820</td>\n",
       "      <td>6000.0</td>\n",
       "      <td>06088000ML0059</td>\n",
       "      <td>1.0</td>\n",
       "      <td>2.0</td>\n",
       "      <td>Appartement</td>\n",
       "      <td>50.0</td>\n",
       "      <td>2.0</td>\n",
       "      <td>0.0</td>\n",
       "      <td>7.236937</td>\n",
       "      <td>43.701856</td>\n",
       "      <td>2872.000000</td>\n",
       "    </tr>\n",
       "    <tr>\n",
       "      <th>63</th>\n",
       "      <td>2021-53132</td>\n",
       "      <td>2021-01-06</td>\n",
       "      <td>1</td>\n",
       "      <td>Vente</td>\n",
       "      <td>373500.0</td>\n",
       "      <td>144.0</td>\n",
       "      <td>RTE ST PIERRE FERIC</td>\n",
       "      <td>5910</td>\n",
       "      <td>6000.0</td>\n",
       "      <td>06088000LY0389</td>\n",
       "      <td>1.0</td>\n",
       "      <td>2.0</td>\n",
       "      <td>Appartement</td>\n",
       "      <td>66.0</td>\n",
       "      <td>3.0</td>\n",
       "      <td>0.0</td>\n",
       "      <td>7.240552</td>\n",
       "      <td>43.714549</td>\n",
       "      <td>5659.090909</td>\n",
       "    </tr>\n",
       "    <tr>\n",
       "      <th>64</th>\n",
       "      <td>2021-53133</td>\n",
       "      <td>2021-01-06</td>\n",
       "      <td>1</td>\n",
       "      <td>Vente</td>\n",
       "      <td>80450.0</td>\n",
       "      <td>5.0</td>\n",
       "      <td>RUE ABBE SALVETTI</td>\n",
       "      <td>0027</td>\n",
       "      <td>6300.0</td>\n",
       "      <td>06088000IY0079</td>\n",
       "      <td>1.0</td>\n",
       "      <td>2.0</td>\n",
       "      <td>Appartement</td>\n",
       "      <td>20.0</td>\n",
       "      <td>1.0</td>\n",
       "      <td>0.0</td>\n",
       "      <td>7.292555</td>\n",
       "      <td>43.703503</td>\n",
       "      <td>4022.500000</td>\n",
       "    </tr>\n",
       "    <tr>\n",
       "      <th>...</th>\n",
       "      <td>...</td>\n",
       "      <td>...</td>\n",
       "      <td>...</td>\n",
       "      <td>...</td>\n",
       "      <td>...</td>\n",
       "      <td>...</td>\n",
       "      <td>...</td>\n",
       "      <td>...</td>\n",
       "      <td>...</td>\n",
       "      <td>...</td>\n",
       "      <td>...</td>\n",
       "      <td>...</td>\n",
       "      <td>...</td>\n",
       "      <td>...</td>\n",
       "      <td>...</td>\n",
       "      <td>...</td>\n",
       "      <td>...</td>\n",
       "      <td>...</td>\n",
       "      <td>...</td>\n",
       "    </tr>\n",
       "    <tr>\n",
       "      <th>107189</th>\n",
       "      <td>2020-55959</td>\n",
       "      <td>2020-11-04</td>\n",
       "      <td>1</td>\n",
       "      <td>Vente</td>\n",
       "      <td>280000.0</td>\n",
       "      <td>83</td>\n",
       "      <td>BD MANTEGA RIGHI</td>\n",
       "      <td>3943</td>\n",
       "      <td>6100.0</td>\n",
       "      <td>06088000LW0407</td>\n",
       "      <td>2.0</td>\n",
       "      <td>2</td>\n",
       "      <td>Appartement</td>\n",
       "      <td>66.0</td>\n",
       "      <td>3.0</td>\n",
       "      <td>0.0</td>\n",
       "      <td>7.248990</td>\n",
       "      <td>43.712026</td>\n",
       "      <td>4242.424242</td>\n",
       "    </tr>\n",
       "    <tr>\n",
       "      <th>107193</th>\n",
       "      <td>2020-55961</td>\n",
       "      <td>2020-10-29</td>\n",
       "      <td>1</td>\n",
       "      <td>Vente</td>\n",
       "      <td>238000.0</td>\n",
       "      <td>23</td>\n",
       "      <td>AV LOUIS CAPPATTI</td>\n",
       "      <td>3734</td>\n",
       "      <td>6200.0</td>\n",
       "      <td>06088000OI0362</td>\n",
       "      <td>1.0</td>\n",
       "      <td>2</td>\n",
       "      <td>Appartement</td>\n",
       "      <td>48.0</td>\n",
       "      <td>2.0</td>\n",
       "      <td>0.0</td>\n",
       "      <td>7.207005</td>\n",
       "      <td>43.683574</td>\n",
       "      <td>4958.333333</td>\n",
       "    </tr>\n",
       "    <tr>\n",
       "      <th>107195</th>\n",
       "      <td>2020-55963</td>\n",
       "      <td>2020-10-26</td>\n",
       "      <td>1</td>\n",
       "      <td>Vente</td>\n",
       "      <td>500000.0</td>\n",
       "      <td>276</td>\n",
       "      <td>AV SAINTE MARGUERITE</td>\n",
       "      <td>6035</td>\n",
       "      <td>6200.0</td>\n",
       "      <td>06088000OL0212</td>\n",
       "      <td>1.0</td>\n",
       "      <td>1</td>\n",
       "      <td>Maison</td>\n",
       "      <td>61.0</td>\n",
       "      <td>4.0</td>\n",
       "      <td>0.0</td>\n",
       "      <td>7.202353</td>\n",
       "      <td>43.689002</td>\n",
       "      <td>8196.721311</td>\n",
       "    </tr>\n",
       "    <tr>\n",
       "      <th>107197</th>\n",
       "      <td>2020-55965</td>\n",
       "      <td>2020-10-13</td>\n",
       "      <td>1</td>\n",
       "      <td>Vente</td>\n",
       "      <td>140000.0</td>\n",
       "      <td>24</td>\n",
       "      <td>AV SAINT SYLVESTRE</td>\n",
       "      <td>5960</td>\n",
       "      <td>6100.0</td>\n",
       "      <td>06088000EH0271</td>\n",
       "      <td>1.0</td>\n",
       "      <td>2</td>\n",
       "      <td>Appartement</td>\n",
       "      <td>33.0</td>\n",
       "      <td>1.0</td>\n",
       "      <td>0.0</td>\n",
       "      <td>7.249229</td>\n",
       "      <td>43.725592</td>\n",
       "      <td>4242.424242</td>\n",
       "    </tr>\n",
       "    <tr>\n",
       "      <th>107198</th>\n",
       "      <td>2020-55966</td>\n",
       "      <td>2020-10-27</td>\n",
       "      <td>1</td>\n",
       "      <td>Vente</td>\n",
       "      <td>166000.0</td>\n",
       "      <td>143</td>\n",
       "      <td>BD DE CESSOLE</td>\n",
       "      <td>1265</td>\n",
       "      <td>6100.0</td>\n",
       "      <td>06088000EA0039</td>\n",
       "      <td>2.0</td>\n",
       "      <td>2</td>\n",
       "      <td>Appartement</td>\n",
       "      <td>53.0</td>\n",
       "      <td>2.0</td>\n",
       "      <td>0.0</td>\n",
       "      <td>7.249582</td>\n",
       "      <td>43.723532</td>\n",
       "      <td>3132.075472</td>\n",
       "    </tr>\n",
       "  </tbody>\n",
       "</table>\n",
       "<p>55499 rows × 19 columns</p>\n",
       "</div>"
      ],
      "text/plain": [
       "       id_mutation date_mutation numero_disposition nature_mutation  \\\n",
       "17      2022-60863    2022-06-21                  1           Vente   \n",
       "61      2021-53129    2021-01-07                  1           Vente   \n",
       "62      2021-53130    2021-01-05                  1           Vente   \n",
       "63      2021-53132    2021-01-06                  1           Vente   \n",
       "64      2021-53133    2021-01-06                  1           Vente   \n",
       "...            ...           ...                ...             ...   \n",
       "107189  2020-55959    2020-11-04                  1           Vente   \n",
       "107193  2020-55961    2020-10-29                  1           Vente   \n",
       "107195  2020-55963    2020-10-26                  1           Vente   \n",
       "107197  2020-55965    2020-10-13                  1           Vente   \n",
       "107198  2020-55966    2020-10-27                  1           Vente   \n",
       "\n",
       "        valeur_fonciere adresse_numero      adresse_nom_voie  \\\n",
       "17             630000.0          209.0         RTE DE BELLET   \n",
       "61             175000.0          119.0           BD GAMBETTA   \n",
       "62             143600.0          166.0    BD DE LA MADELEINE   \n",
       "63             373500.0          144.0   RTE ST PIERRE FERIC   \n",
       "64              80450.0            5.0     RUE ABBE SALVETTI   \n",
       "...                 ...            ...                   ...   \n",
       "107189         280000.0             83      BD MANTEGA RIGHI   \n",
       "107193         238000.0             23     AV LOUIS CAPPATTI   \n",
       "107195         500000.0            276  AV SAINTE MARGUERITE   \n",
       "107197         140000.0             24    AV SAINT SYLVESTRE   \n",
       "107198         166000.0            143         BD DE CESSOLE   \n",
       "\n",
       "       adresse_code_voie  code_postal     id_parcelle  nombre_lots  \\\n",
       "17                  0745       6200.0  06088000MV0142          1.0   \n",
       "61                  2755       6000.0  06088000MH0122          2.0   \n",
       "62                  3820       6000.0  06088000ML0059          1.0   \n",
       "63                  5910       6000.0  06088000LY0389          1.0   \n",
       "64                  0027       6300.0  06088000IY0079          1.0   \n",
       "...                  ...          ...             ...          ...   \n",
       "107189              3943       6100.0  06088000LW0407          2.0   \n",
       "107193              3734       6200.0  06088000OI0362          1.0   \n",
       "107195              6035       6200.0  06088000OL0212          1.0   \n",
       "107197              5960       6100.0  06088000EH0271          1.0   \n",
       "107198              1265       6100.0  06088000EA0039          2.0   \n",
       "\n",
       "       code_type_local   type_local  surface_reelle_bati  \\\n",
       "17                 1.0       Maison                123.0   \n",
       "61                 2.0  Appartement                 44.0   \n",
       "62                 2.0  Appartement                 50.0   \n",
       "63                 2.0  Appartement                 66.0   \n",
       "64                 2.0  Appartement                 20.0   \n",
       "...                ...          ...                  ...   \n",
       "107189               2  Appartement                 66.0   \n",
       "107193               2  Appartement                 48.0   \n",
       "107195               1       Maison                 61.0   \n",
       "107197               2  Appartement                 33.0   \n",
       "107198               2  Appartement                 53.0   \n",
       "\n",
       "        nombre_pieces_principales  surface_terrain  longitude   latitude  \\\n",
       "17                            5.0              0.0   7.222367  43.703745   \n",
       "61                            2.0              0.0   7.255831  43.707262   \n",
       "62                            2.0              0.0   7.236937  43.701856   \n",
       "63                            3.0              0.0   7.240552  43.714549   \n",
       "64                            1.0              0.0   7.292555  43.703503   \n",
       "...                           ...              ...        ...        ...   \n",
       "107189                        3.0              0.0   7.248990  43.712026   \n",
       "107193                        2.0              0.0   7.207005  43.683574   \n",
       "107195                        4.0              0.0   7.202353  43.689002   \n",
       "107197                        1.0              0.0   7.249229  43.725592   \n",
       "107198                        2.0              0.0   7.249582  43.723532   \n",
       "\n",
       "           prix_m_2  \n",
       "17      5121.951220  \n",
       "61      3977.272727  \n",
       "62      2872.000000  \n",
       "63      5659.090909  \n",
       "64      4022.500000  \n",
       "...             ...  \n",
       "107189  4242.424242  \n",
       "107193  4958.333333  \n",
       "107195  8196.721311  \n",
       "107197  4242.424242  \n",
       "107198  3132.075472  \n",
       "\n",
       "[55499 rows x 19 columns]"
      ]
     },
     "execution_count": 114,
     "metadata": {},
     "output_type": "execute_result"
    }
   ],
   "source": [
    "df_dvf"
   ]
  },
  {
   "cell_type": "code",
   "execution_count": null,
   "id": "c791822e",
   "metadata": {},
   "outputs": [],
   "source": []
  },
  {
   "cell_type": "code",
   "execution_count": null,
   "id": "6dd71749",
   "metadata": {},
   "outputs": [],
   "source": []
  },
  {
   "cell_type": "code",
   "execution_count": null,
   "id": "53213e0a",
   "metadata": {},
   "outputs": [],
   "source": []
  },
  {
   "cell_type": "code",
   "execution_count": null,
   "id": "0bc5d34d",
   "metadata": {},
   "outputs": [],
   "source": []
  },
  {
   "cell_type": "markdown",
   "id": "4a339590",
   "metadata": {},
   "source": [
    "# 🐝 Model"
   ]
  },
  {
   "cell_type": "code",
   "execution_count": 44,
   "id": "68d266e1",
   "metadata": {},
   "outputs": [],
   "source": [
    "%load_ext autoreload\n",
    "%autoreload 2"
   ]
  },
  {
   "cell_type": "code",
   "execution_count": 45,
   "id": "0d574ee1",
   "metadata": {},
   "outputs": [],
   "source": [
    "# Import modules\n",
    "import pandas as pd\n",
    "import numpy as np\n",
    "import seaborn as sns\n",
    "import matplotlib.pyplot as plt"
   ]
  },
  {
   "cell_type": "markdown",
   "id": "b1ab036a",
   "metadata": {},
   "source": [
    "## Data"
   ]
  },
  {
   "cell_type": "code",
   "execution_count": 46,
   "id": "52c2e6ea",
   "metadata": {},
   "outputs": [],
   "source": [
    "#Data is called df_dvf, to be renamed into data\n",
    "data = df_dvf\n",
    "\n",
    "X = data.drop(columns=['price'])\n",
    "y = data['price']"
   ]
  },
  {
   "cell_type": "code",
   "execution_count": 43,
   "id": "23b9cecb",
   "metadata": {},
   "outputs": [],
   "source": [
    "col_names = ['date', 'built', 'price', 'postal code',\n",
    "                'city', 'region', 'number of units', 'property type',\n",
    "                'built area', 'number of rooms', 'land area',\n",
    "                'longitude', 'latitude']\n",
    "\n",
    "col_names = ['date', 'built', 'price', 'postal_code',\n",
    "                'city', 'region', 'number_of_units', 'property_type',\n",
    "                'living_area', 'number_of_rooms',\n",
    "                'longitude', 'latitude']"
   ]
  },
  {
   "cell_type": "markdown",
   "id": "c8e02d52",
   "metadata": {},
   "source": [
    "## Scaling"
   ]
  },
  {
   "cell_type": "code",
   "execution_count": null,
   "id": "52309168",
   "metadata": {},
   "outputs": [],
   "source": [
    "from sklearn.preprocessing import StandardScaler\n",
    "scaler = StandardScaler()\n",
    "\n",
    "X =\n",
    "y =\n",
    "X_scaled = scaler.fit_transform(X)\n",
    "\n",
    "# Convert X_scaled (np array) back to a DataFrame with column names\n",
    "X_scaled = pd.DataFrame(X_scaled, columns=X.columns)\n",
    "\n",
    "# Concatenate into one dataframe with review_score\n",
    "scaled_orders = pd.concat([X_scaled, y], axis=1)\n"
   ]
  },
  {
   "cell_type": "markdown",
   "id": "2209612c",
   "metadata": {},
   "source": [
    "## Correlation"
   ]
  },
  {
   "cell_type": "code",
   "execution_count": null,
   "id": "a2255d73",
   "metadata": {},
   "outputs": [],
   "source": [
    "plt.figure(figsize = (10,10))\n",
    "\n",
    "sns.heatmap(\n",
    "    data.corr(),\n",
    "    cmap = 'coolwarm',\n",
    "    annot = True,\n",
    "    annot_kws = {\"size\": 10}\n",
    ")"
   ]
  },
  {
   "cell_type": "markdown",
   "id": "e23d2784",
   "metadata": {},
   "source": [
    "## 🐧 Linear Regression"
   ]
  },
  {
   "cell_type": "markdown",
   "id": "360c410a",
   "metadata": {},
   "source": [
    "### Univariate Regression"
   ]
  },
  {
   "cell_type": "code",
   "execution_count": null,
   "id": "3a44f49c",
   "metadata": {},
   "outputs": [],
   "source": [
    "import statsmodels.formula.api as smf\n",
    "\n",
    "model_uni = smf.ols(formula='price ~ land_area', data=data).fit()\n",
    "model_uni.rsquared\n",
    "\n",
    "model_uni.summary()"
   ]
  },
  {
   "cell_type": "markdown",
   "id": "26cf0728",
   "metadata": {},
   "source": [
    "### Multivariate Regression"
   ]
  },
  {
   "cell_type": "code",
   "execution_count": null,
   "id": "9d5cab6e",
   "metadata": {},
   "outputs": [],
   "source": [
    "import statsmodels.formula.api as smf\n",
    "\n",
    "model_mul = smf.ols(formula='price ~ land_area + number_of_units', data=data).fit()\n",
    "model_mul.rsquared\n",
    "\n",
    "model_mul.summary()"
   ]
  },
  {
   "cell_type": "markdown",
   "id": "ade66be6",
   "metadata": {},
   "source": [
    "#### Important feature identification"
   ]
  },
  {
   "cell_type": "code",
   "execution_count": null,
   "id": "03b3ab07",
   "metadata": {},
   "outputs": [],
   "source": [
    "model_mul.params.drop('Intercept')\n",
    "\n",
    "coefficients = model_mul.params\n",
    "coefficients = coefficients.drop('Intercept')\n",
    "plt.bar(coefficients.index, coefficients)\n",
    "plt.title('Important features correlating with review_score, p = 0.04')"
   ]
  },
  {
   "cell_type": "markdown",
   "id": "ec1ab685",
   "metadata": {},
   "source": [
    "#### Model Performance"
   ]
  },
  {
   "cell_type": "code",
   "execution_count": null,
   "id": "3229b273",
   "metadata": {},
   "outputs": [],
   "source": [
    "#Residual computation (should be close to 0)\n",
    "n = len(X_std)\n",
    "predicted_values = model_mul.predict()\n",
    "residuals = X_std['price'] - predicted_values\n",
    "residuals.std() / X_std.wait_time.std() / (n-2)**0.5\n",
    "\n",
    "#Root Mean Squared Error\n",
    "rmse = np.sqrt(np.mean(residuals**2))\n",
    "rmse\n",
    "\n",
    "#Plot residuals\n",
    "sns.histplot(residuals, kde=True, edgecolor='w')\n",
    "plt.title('Residuals')"
   ]
  },
  {
   "cell_type": "markdown",
   "id": "5d59ce17",
   "metadata": {},
   "source": [
    "### Linear Regression with ML"
   ]
  },
  {
   "cell_type": "code",
   "execution_count": 48,
   "id": "d89aa21c",
   "metadata": {},
   "outputs": [],
   "source": [
    "import pandas as pd\n",
    "import matplotlib.pyplot as plt\n",
    "import seaborn as sns\n",
    "\n",
    "from sklearn.linear_model import LinearRegression\n",
    "from sklearn.model_selection import cross_validate, cross_val_score"
   ]
  },
  {
   "cell_type": "code",
   "execution_count": null,
   "id": "a6dca519",
   "metadata": {},
   "outputs": [],
   "source": []
  },
  {
   "cell_type": "markdown",
   "id": "99a5aaee",
   "metadata": {},
   "source": [
    "## 🐓 KNN Regression"
   ]
  },
  {
   "cell_type": "markdown",
   "id": "e4b63477",
   "metadata": {},
   "source": [
    "## Decision Tree"
   ]
  },
  {
   "cell_type": "code",
   "execution_count": null,
   "id": "90d4134d",
   "metadata": {},
   "outputs": [],
   "source": [
    "from sklearn.model_selection import train_test_split\n",
    "from sklearn.preprocessing import StandardScaler\n",
    "from sklearn.metrics import mean_squared_error\n",
    "from sklearn.model_selection import validation_curve\n",
    "from sklearn.model_selection import GridSearchCV\n",
    "from sklearn.model_selection import KFold\n",
    "from sklearn.model_selection import cross_val_score\n",
    "\n",
    "X = df.drop(columns=['price'])\n",
    "y = df['price']\n",
    "\n",
    "X_train, X_test, y_train, y_test = train_test_split(X, y, test_size=0.2)"
   ]
  },
  {
   "cell_type": "code",
   "execution_count": null,
   "id": "9b740f26",
   "metadata": {},
   "outputs": [],
   "source": [
    "from sklearn.tree import DecisionTreeRegressor\n",
    "model = DecisionTreeRegressor()\n",
    "\n",
    "model.fit(X_train, y_train)\n",
    "scaler = StandardScaler()\n",
    "X_train_scaled = scaler.fit_transform(X_train)\n",
    "X_test_scaled = scaler.transform(X_test)\n",
    "y_pred = model.predict(X_test)\n",
    "mse = mean_squared_error(y_test, y_pred)\n",
    "print(f'Mean Squared Error: {mse}')\n",
    "print('Train score:', model.score(X_test, y_test))\n",
    "print('Cross val score mean', cross_val_score(model, X_train, y_train, cv = 5).mean())"
   ]
  },
  {
   "cell_type": "markdown",
   "id": "aebf7482",
   "metadata": {},
   "source": [
    "## 🐬 Ensemble Model: (XGBoost recomm)"
   ]
  },
  {
   "cell_type": "code",
   "execution_count": null,
   "id": "a6f6f35c",
   "metadata": {},
   "outputs": [],
   "source": [
    "from sklearn.ensemble import RandomForestRegressor\n",
    "model = RandomForestRegressor()\n",
    "\n",
    "model.fit(X_train, y_train)\n",
    "scaler = StandardScaler()\n",
    "X_train_scaled = scaler.fit_transform(X_train)\n",
    "X_test_scaled = scaler.transform(X_test)\n",
    "y_pred = model.predict(X_test)\n",
    "mse = mean_squared_error(y_test, y_pred)\n",
    "print(f'Mean Squared Error: {mse}')\n",
    "print( 'Train score:', model.score(X_test, y_test))\n",
    "print('Cross val score mean', cross_val_score(model, X_train, y_train, cv = 5).mean())"
   ]
  },
  {
   "cell_type": "code",
   "execution_count": null,
   "id": "be4f3c8e",
   "metadata": {},
   "outputs": [],
   "source": [
    "from sklearn.ensemble import GradientBoostingRegressor\n",
    "model = GradientBoostingRegressor()\n",
    "\n",
    "model.fit(X_train, y_train)\n",
    "scaler = StandardScaler()\n",
    "X_train_scaled = scaler.fit_transform(X_train)\n",
    "X_test_scaled = scaler.transform(X_test)\n",
    "y_pred = model.predict(X_test)\n",
    "mse = mean_squared_error(y_test, y_pred)\n",
    "print(f'Mean Squared Error: {mse}')\n",
    "print( 'Train score:', model.score(X_test, y_test))\n",
    "print('Cross val score mean', cross_val_score(model, X_train, y_train, cv = 5).mean())"
   ]
  },
  {
   "cell_type": "markdown",
   "id": "2097a841",
   "metadata": {},
   "source": [
    "## 🐇 Optional: Deep Learning"
   ]
  },
  {
   "cell_type": "markdown",
   "id": "68b5fa45",
   "metadata": {},
   "source": []
  }
 ],
 "metadata": {
  "kernelspec": {
   "display_name": "Python 3 (ipykernel)",
   "language": "python",
   "name": "python3"
  },
  "language_info": {
   "codemirror_mode": {
    "name": "ipython",
    "version": 3
   },
   "file_extension": ".py",
   "mimetype": "text/x-python",
   "name": "python",
   "nbconvert_exporter": "python",
   "pygments_lexer": "ipython3",
   "version": "3.10.6"
  },
  "toc": {
   "base_numbering": 1,
   "nav_menu": {},
   "number_sections": true,
   "sideBar": true,
   "skip_h1_title": false,
   "title_cell": "Table of Contents",
   "title_sidebar": "Contents",
   "toc_cell": false,
   "toc_position": {},
   "toc_section_display": true,
   "toc_window_display": false
  }
 },
 "nbformat": 4,
 "nbformat_minor": 5
}
