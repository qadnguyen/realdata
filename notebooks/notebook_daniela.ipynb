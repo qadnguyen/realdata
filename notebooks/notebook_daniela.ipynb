{
 "cells": [
  {
   "cell_type": "code",
   "execution_count": 1,
   "id": "e22b5836",
   "metadata": {},
   "outputs": [],
   "source": [
    "import pandas as pd\n",
    "import numpy as np\n",
    "import matplotlib as plt\n",
    "\n",
    "import warnings\n",
    "warnings.filterwarnings('ignore')"
   ]
  },
  {
   "cell_type": "markdown",
   "id": "42b16f51",
   "metadata": {},
   "source": [
    "# Exploring"
   ]
  },
  {
   "cell_type": "code",
   "execution_count": 2,
   "id": "dd666bfb",
   "metadata": {},
   "outputs": [
    {
     "data": {
      "text/plain": [
       "(271360, 41)"
      ]
     },
     "execution_count": 2,
     "metadata": {},
     "output_type": "execute_result"
    }
   ],
   "source": [
    "df_dvf = pd.read_csv('../raw_data/dvf_93.csv')\n",
    "\n",
    "df_dvf.shape"
   ]
  },
  {
   "cell_type": "code",
   "execution_count": 3,
   "id": "9e07aaad",
   "metadata": {},
   "outputs": [
    {
     "data": {
      "text/plain": [
       "0         93\n",
       "1         93\n",
       "2         93\n",
       "3         93\n",
       "4         93\n",
       "          ..\n",
       "271355    93\n",
       "271356    93\n",
       "271357    93\n",
       "271358    93\n",
       "271359    93\n",
       "Name: code_departement, Length: 271360, dtype: object"
      ]
     },
     "execution_count": 3,
     "metadata": {},
     "output_type": "execute_result"
    }
   ],
   "source": [
    "df_dvf['code_departement']"
   ]
  },
  {
   "cell_type": "code",
   "execution_count": 4,
   "id": "dbab62d9",
   "metadata": {},
   "outputs": [
    {
     "data": {
      "text/plain": [
       "77094"
      ]
     },
     "execution_count": 4,
     "metadata": {},
     "output_type": "execute_result"
    }
   ],
   "source": [
    "df_dvf.duplicated().sum()"
   ]
  },
  {
   "cell_type": "code",
   "execution_count": 5,
   "id": "bf0ec430",
   "metadata": {},
   "outputs": [
    {
     "data": {
      "text/plain": [
       "array([\"Vente en l'état futur d'achèvement\", 'Vente', 'Expropriation',\n",
       "       'Echange', 'Vente terrain à bâtir', 'Adjudication',\n",
       "       'nature_mutation'], dtype=object)"
      ]
     },
     "execution_count": 5,
     "metadata": {},
     "output_type": "execute_result"
    }
   ],
   "source": [
    "df_dvf['nature_mutation'].unique()"
   ]
  },
  {
   "cell_type": "code",
   "execution_count": 6,
   "id": "3ab2b7eb",
   "metadata": {},
   "outputs": [
    {
     "data": {
      "text/plain": [
       "nature_mutation\n",
       "Vente                                 188594\n",
       "Vente en l'état futur d'achèvement     78211\n",
       "Adjudication                            2066\n",
       "Expropriation                           1556\n",
       "Echange                                  739\n",
       "Vente terrain à bâtir                    189\n",
       "nature_mutation                            5\n",
       "Name: count, dtype: int64"
      ]
     },
     "execution_count": 6,
     "metadata": {},
     "output_type": "execute_result"
    }
   ],
   "source": [
    "df_dvf['nature_mutation'].value_counts()"
   ]
  },
  {
   "cell_type": "code",
   "execution_count": 7,
   "id": "e11137c2",
   "metadata": {},
   "outputs": [
    {
     "data": {
      "text/plain": [
       "id_mutation                     object\n",
       "date_mutation                   object\n",
       "numero_disposition              object\n",
       "nature_mutation                 object\n",
       "valeur_fonciere                 object\n",
       "adresse_numero                  object\n",
       "adresse_suffixe                 object\n",
       "adresse_nom_voie                object\n",
       "adresse_code_voie               object\n",
       "code_postal                     object\n",
       "code_commune                    object\n",
       "nom_commune                     object\n",
       "code_departement                object\n",
       "ancien_code_commune             object\n",
       "ancien_nom_commune              object\n",
       "id_parcelle                     object\n",
       "ancien_id_parcelle              object\n",
       "numero_volume                   object\n",
       "lot1_numero                     object\n",
       "lot1_surface_carrez             object\n",
       "lot2_numero                     object\n",
       "lot2_surface_carrez             object\n",
       "lot3_numero                     object\n",
       "lot3_surface_carrez             object\n",
       "lot4_numero                     object\n",
       "lot4_surface_carrez             object\n",
       "lot5_numero                     object\n",
       "lot5_surface_carrez             object\n",
       "nombre_lots                     object\n",
       "code_type_local                 object\n",
       "type_local                      object\n",
       "surface_reelle_bati             object\n",
       "nombre_pieces_principales       object\n",
       "code_nature_culture             object\n",
       "nature_culture                  object\n",
       "code_nature_culture_speciale    object\n",
       "nature_culture_speciale         object\n",
       "surface_terrain                 object\n",
       "longitude                       object\n",
       "latitude                        object\n",
       "section_prefixe                 object\n",
       "dtype: object"
      ]
     },
     "execution_count": 7,
     "metadata": {},
     "output_type": "execute_result"
    }
   ],
   "source": [
    "df_dvf.dtypes"
   ]
  },
  {
   "cell_type": "code",
   "execution_count": 8,
   "id": "6b988717",
   "metadata": {},
   "outputs": [
    {
     "data": {
      "text/plain": [
       "Index(['id_mutation', 'date_mutation', 'numero_disposition', 'nature_mutation',\n",
       "       'valeur_fonciere', 'adresse_numero', 'adresse_suffixe',\n",
       "       'adresse_nom_voie', 'adresse_code_voie', 'code_postal', 'code_commune',\n",
       "       'nom_commune', 'code_departement', 'ancien_code_commune',\n",
       "       'ancien_nom_commune', 'id_parcelle', 'ancien_id_parcelle',\n",
       "       'numero_volume', 'lot1_numero', 'lot1_surface_carrez', 'lot2_numero',\n",
       "       'lot2_surface_carrez', 'lot3_numero', 'lot3_surface_carrez',\n",
       "       'lot4_numero', 'lot4_surface_carrez', 'lot5_numero',\n",
       "       'lot5_surface_carrez', 'nombre_lots', 'code_type_local', 'type_local',\n",
       "       'surface_reelle_bati', 'nombre_pieces_principales',\n",
       "       'code_nature_culture', 'nature_culture', 'code_nature_culture_speciale',\n",
       "       'nature_culture_speciale', 'surface_terrain', 'longitude', 'latitude',\n",
       "       'section_prefixe'],\n",
       "      dtype='object')"
      ]
     },
     "execution_count": 8,
     "metadata": {},
     "output_type": "execute_result"
    }
   ],
   "source": [
    "df_dvf.columns"
   ]
  },
  {
   "cell_type": "code",
   "execution_count": 9,
   "id": "2c5d707f",
   "metadata": {},
   "outputs": [
    {
     "data": {
      "text/plain": [
       "id_mutation                          0\n",
       "date_mutation                        0\n",
       "numero_disposition                   0\n",
       "nature_mutation                      0\n",
       "valeur_fonciere                   2591\n",
       "adresse_numero                   29402\n",
       "adresse_suffixe                 259219\n",
       "adresse_nom_voie                 10195\n",
       "adresse_code_voie                10195\n",
       "code_postal                      10195\n",
       "code_commune                         0\n",
       "nom_commune                          0\n",
       "code_departement                     0\n",
       "ancien_code_commune             270288\n",
       "ancien_nom_commune              270288\n",
       "id_parcelle                          0\n",
       "ancien_id_parcelle              271355\n",
       "numero_volume                   269411\n",
       "lot1_numero                      68751\n",
       "lot1_surface_carrez             226795\n",
       "lot2_numero                     224988\n",
       "lot2_surface_carrez             259418\n",
       "lot3_numero                     265455\n",
       "lot3_surface_carrez             270341\n",
       "lot4_numero                     269360\n",
       "lot4_surface_carrez             271082\n",
       "lot5_numero                     270469\n",
       "lot5_surface_carrez             271277\n",
       "nombre_lots                          0\n",
       "code_type_local                  63029\n",
       "type_local                       63029\n",
       "surface_reelle_bati             150276\n",
       "nombre_pieces_principales        63214\n",
       "code_nature_culture             203939\n",
       "nature_culture                  203939\n",
       "code_nature_culture_speciale    269982\n",
       "nature_culture_speciale         269982\n",
       "surface_terrain                 203939\n",
       "longitude                         3988\n",
       "latitude                          3988\n",
       "section_prefixe                      0\n",
       "dtype: int64"
      ]
     },
     "execution_count": 9,
     "metadata": {},
     "output_type": "execute_result"
    }
   ],
   "source": [
    "df_dvf.isnull().sum()"
   ]
  },
  {
   "cell_type": "code",
   "execution_count": 10,
   "id": "376f22f7",
   "metadata": {},
   "outputs": [
    {
     "data": {
      "text/plain": [
       "code_postal     0.03757\n",
       "code_commune    0.00000\n",
       "nom_commune     0.00000\n",
       "dtype: float64"
      ]
     },
     "execution_count": 10,
     "metadata": {},
     "output_type": "execute_result"
    }
   ],
   "source": [
    "df_dvf[['code_postal', 'code_commune', 'nom_commune']].isnull().sum()/len(df_dvf)"
   ]
  },
  {
   "cell_type": "code",
   "execution_count": 11,
   "id": "7d6037f7",
   "metadata": {},
   "outputs": [
    {
     "data": {
      "text/plain": [
       "nombre_lots\n",
       "1              156237\n",
       "0               68751\n",
       "2               40467\n",
       "3                3905\n",
       "4                1109\n",
       "5                 432\n",
       "6                 185\n",
       "7                 114\n",
       "9                  40\n",
       "8                  38\n",
       "10                 18\n",
       "12                  8\n",
       "11                  6\n",
       "13                  6\n",
       "15                  5\n",
       "nombre_lots         5\n",
       "28                  4\n",
       "27                  4\n",
       "20                  3\n",
       "19                  3\n",
       "45                  3\n",
       "16                  2\n",
       "34                  2\n",
       "31                  2\n",
       "22                  2\n",
       "14                  2\n",
       "198                 1\n",
       "120                 1\n",
       "95                  1\n",
       "18                  1\n",
       "21                  1\n",
       "61                  1\n",
       "17                  1\n",
       "Name: count, dtype: int64"
      ]
     },
     "execution_count": 11,
     "metadata": {},
     "output_type": "execute_result"
    }
   ],
   "source": [
    "df_dvf['nombre_lots'].astype('str').value_counts()"
   ]
  },
  {
   "cell_type": "code",
   "execution_count": 12,
   "id": "eb3f129e",
   "metadata": {},
   "outputs": [
    {
     "data": {
      "text/plain": [
       "array([nan, 'Appartement', 'Dépendance',\n",
       "       'Local industriel. commercial ou assimilé', 'Maison', 'type_local'],\n",
       "      dtype=object)"
      ]
     },
     "execution_count": 12,
     "metadata": {},
     "output_type": "execute_result"
    }
   ],
   "source": [
    "df_dvf['type_local'].unique()"
   ]
  },
  {
   "cell_type": "markdown",
   "id": "a5c5bd8b",
   "metadata": {},
   "source": [
    "# 🔅 Preprocessings"
   ]
  },
  {
   "cell_type": "markdown",
   "id": "750ad2d5",
   "metadata": {},
   "source": [
    "## 🧹 Keep only useful columns and translate"
   ]
  },
  {
   "cell_type": "markdown",
   "id": "cc0dd0d0",
   "metadata": {},
   "source": [
    "### Removing columns"
   ]
  },
  {
   "cell_type": "code",
   "execution_count": 13,
   "id": "bc3be1f9",
   "metadata": {},
   "outputs": [
    {
     "name": "stdout",
     "output_type": "stream",
     "text": [
      "<class 'pandas.core.frame.DataFrame'>\n",
      "RangeIndex: 271360 entries, 0 to 271359\n",
      "Data columns (total 12 columns):\n",
      " #   Column                     Non-Null Count   Dtype \n",
      "---  ------                     --------------   ----- \n",
      " 0   date_mutation              271360 non-null  object\n",
      " 1   nature_mutation            271360 non-null  object\n",
      " 2   valeur_fonciere            268769 non-null  object\n",
      " 3   code_postal                261165 non-null  object\n",
      " 4   code_commune               271360 non-null  object\n",
      " 5   code_departement           271360 non-null  object\n",
      " 6   nombre_lots                271360 non-null  object\n",
      " 7   type_local                 208331 non-null  object\n",
      " 8   surface_reelle_bati        121084 non-null  object\n",
      " 9   nombre_pieces_principales  208146 non-null  object\n",
      " 10  longitude                  267372 non-null  object\n",
      " 11  latitude                   267372 non-null  object\n",
      "dtypes: object(12)\n",
      "memory usage: 24.8+ MB\n"
     ]
    }
   ],
   "source": [
    "keep_col =['date_mutation',\n",
    "            'nature_mutation',\n",
    "            'valeur_fonciere',\n",
    "            'code_postal',\n",
    "            'code_commune',\n",
    "            'code_departement',\n",
    "            'nombre_lots',\n",
    "            'type_local',\n",
    "            'surface_reelle_bati',\n",
    "            'nombre_pieces_principales',\n",
    "            'longitude',\n",
    "            'latitude']\n",
    "df_dvf = df_dvf[keep_col]\n",
    "\n",
    "df_dvf.info()"
   ]
  },
  {
   "cell_type": "markdown",
   "id": "09b4d480",
   "metadata": {},
   "source": [
    "### Translate column-names"
   ]
  },
  {
   "cell_type": "code",
   "execution_count": 14,
   "id": "72763dbe",
   "metadata": {},
   "outputs": [],
   "source": [
    "df_dvf.columns = ['date', 'built', 'price', 'postal_code',\n",
    "                'city', 'region', 'number_of_units', 'property_type',\n",
    "                'living_area', 'number_of_rooms',\n",
    "                'longitude', 'latitude']"
   ]
  },
  {
   "cell_type": "markdown",
   "id": "d3895ad6",
   "metadata": {},
   "source": [
    "### Remove non-representative rows"
   ]
  },
  {
   "cell_type": "code",
   "execution_count": 15,
   "id": "d05b4d1c",
   "metadata": {},
   "outputs": [
    {
     "data": {
      "text/plain": [
       "(271360, 12)"
      ]
     },
     "execution_count": 15,
     "metadata": {},
     "output_type": "execute_result"
    }
   ],
   "source": [
    "df_dvf.shape"
   ]
  },
  {
   "cell_type": "code",
   "execution_count": 16,
   "id": "f7a16c5d",
   "metadata": {},
   "outputs": [
    {
     "data": {
      "text/plain": [
       "array([\"Vente en l'état futur d'achèvement\", 'Vente', 'Expropriation',\n",
       "       'Echange', 'Vente terrain à bâtir', 'Adjudication',\n",
       "       'nature_mutation'], dtype=object)"
      ]
     },
     "execution_count": 16,
     "metadata": {},
     "output_type": "execute_result"
    }
   ],
   "source": [
    "df_dvf['built'].unique()"
   ]
  },
  {
   "cell_type": "markdown",
   "id": "cb0dffb1",
   "metadata": {},
   "source": [
    "We want to keep only :\n",
    "- Houses and appartments\n",
    "- Normal sales and off-plan sales\n",
    "- Sales with only one unit"
   ]
  },
  {
   "cell_type": "code",
   "execution_count": 17,
   "id": "fc100819",
   "metadata": {},
   "outputs": [
    {
     "name": "stdout",
     "output_type": "stream",
     "text": [
      "Shape before the masks :  (271360, 12)\n",
      "Shape only normal sales (266805, 12)\n",
      "Shape only 1 unit (156237, 12)\n",
      "Shape only house and appartments (110400, 12)\n"
     ]
    }
   ],
   "source": [
    "print('Shape before the masks : ', df_dvf.shape)\n",
    "print('Shape only normal sales', df_dvf[((df_dvf['built'] == \"Vente\") | (df_dvf['built'] == \"Vente en l'état futur d'achèvement\"))].shape)\n",
    "print('Shape only 1 unit', df_dvf[((df_dvf['number_of_units'] == 1) | (df_dvf['number_of_units'] == '1'))].shape)\n",
    "print('Shape only house and appartments', df_dvf[((df_dvf['property_type'] == 'Appartement') | (df_dvf['property_type'] == 'Maison'))].shape)"
   ]
  },
  {
   "cell_type": "code",
   "execution_count": 18,
   "id": "ed5e654b",
   "metadata": {},
   "outputs": [
    {
     "data": {
      "text/plain": [
       "(42354, 12)"
      ]
     },
     "execution_count": 18,
     "metadata": {},
     "output_type": "execute_result"
    }
   ],
   "source": [
    "df_useful = df_dvf[((df_dvf['built'] == \"Vente\") | (df_dvf['built'] == \"Vente en l'état futur d'achèvement\")) &\n",
    "                    ((df_dvf['number_of_units'] == 1) | (df_dvf['number_of_units'] == '1')) &\n",
    "                    ((df_dvf['property_type'] == 'Appartement') | (df_dvf['property_type'] == 'Maison'))]\n",
    "df_useful.shape"
   ]
  },
  {
   "cell_type": "code",
   "execution_count": 19,
   "id": "2d0ad554",
   "metadata": {},
   "outputs": [
    {
     "name": "stdout",
     "output_type": "stream",
     "text": [
      "['Vente' \"Vente en l'état futur d'achèvement\"]\n",
      "[1 '1']\n",
      "['Appartement' 'Maison']\n"
     ]
    }
   ],
   "source": [
    "## checking that the masks worked correctly\n",
    "print(df_useful['built'].unique())\n",
    "print(df_useful['number_of_units'].unique())\n",
    "print(df_useful['property_type'].unique())\n"
   ]
  },
  {
   "cell_type": "markdown",
   "id": "50bd314c",
   "metadata": {},
   "source": [
    "### Translating the values"
   ]
  },
  {
   "cell_type": "code",
   "execution_count": 20,
   "id": "83e64017",
   "metadata": {},
   "outputs": [],
   "source": [
    "trans_dict_built = {'Vente' : 'built',\n",
    "                    'Vente en l’état futur d’achèvement' : 'off-plan'}\n",
    "trans_dict_type = {'Appartement' : 'appartment',\n",
    "                   'Maison' : 'house'}\n",
    "df_useful= df_useful.replace({'built' : trans_dict_built,\n",
    "                             'property type' : trans_dict_type})"
   ]
  },
  {
   "cell_type": "code",
   "execution_count": 21,
   "id": "2f48172a",
   "metadata": {},
   "outputs": [
    {
     "data": {
      "text/plain": [
       "(42354, 12)"
      ]
     },
     "execution_count": 21,
     "metadata": {},
     "output_type": "execute_result"
    }
   ],
   "source": [
    "# checking we didn't lose rows\n",
    "df_useful.shape"
   ]
  },
  {
   "cell_type": "markdown",
   "id": "c36ea6b0",
   "metadata": {},
   "source": [
    "## Dropping duplicates and NaNs"
   ]
  },
  {
   "cell_type": "code",
   "execution_count": 22,
   "id": "ccc57340",
   "metadata": {},
   "outputs": [
    {
     "data": {
      "text/plain": [
       "Index(['date', 'built', 'price', 'postal_code', 'city', 'region',\n",
       "       'number_of_units', 'property_type', 'living_area', 'number_of_rooms',\n",
       "       'longitude', 'latitude'],\n",
       "      dtype='object')"
      ]
     },
     "execution_count": 22,
     "metadata": {},
     "output_type": "execute_result"
    }
   ],
   "source": [
    "df_useful.columns"
   ]
  },
  {
   "cell_type": "code",
   "execution_count": 23,
   "id": "65bde5be",
   "metadata": {},
   "outputs": [],
   "source": [
    "## dropping the column with number of units (only 1s)\n",
    "df_useful = df_useful.drop(columns='number_of_units')"
   ]
  },
  {
   "cell_type": "code",
   "execution_count": 24,
   "id": "d263df2f",
   "metadata": {},
   "outputs": [
    {
     "data": {
      "text/plain": [
       "Index(['date', 'built', 'price', 'postal_code', 'city', 'region',\n",
       "       'property_type', 'living_area', 'number_of_rooms', 'longitude',\n",
       "       'latitude'],\n",
       "      dtype='object')"
      ]
     },
     "execution_count": 24,
     "metadata": {},
     "output_type": "execute_result"
    }
   ],
   "source": [
    "df_useful.columns"
   ]
  },
  {
   "cell_type": "code",
   "execution_count": 25,
   "id": "3914db16",
   "metadata": {},
   "outputs": [
    {
     "data": {
      "text/plain": [
       "(30655, 11)"
      ]
     },
     "execution_count": 25,
     "metadata": {},
     "output_type": "execute_result"
    }
   ],
   "source": [
    "## checking for NaN values\n",
    "df_useful.isna().sum()\n",
    "df_useful = df_useful.dropna()\n",
    "df_useful.shape\n",
    "df_useful = df_useful.drop_duplicates()\n",
    "df_useful.shape"
   ]
  },
  {
   "cell_type": "markdown",
   "id": "50cdaa65",
   "metadata": {},
   "source": [
    "## Changing everything to the right type"
   ]
  },
  {
   "cell_type": "code",
   "execution_count": 26,
   "id": "bedf222e",
   "metadata": {},
   "outputs": [
    {
     "name": "stdout",
     "output_type": "stream",
     "text": [
      "<class 'pandas.core.frame.DataFrame'>\n",
      "Index: 30655 entries, 61 to 262139\n",
      "Data columns (total 11 columns):\n",
      " #   Column           Non-Null Count  Dtype         \n",
      "---  ------           --------------  -----         \n",
      " 0   date             30655 non-null  datetime64[ns]\n",
      " 1   built            30655 non-null  object        \n",
      " 2   price            30655 non-null  float64       \n",
      " 3   postal_code      30655 non-null  float64       \n",
      " 4   city             30655 non-null  object        \n",
      " 5   region           30655 non-null  object        \n",
      " 6   property_type    30655 non-null  object        \n",
      " 7   living_area      30655 non-null  float64       \n",
      " 8   number_of_rooms  30655 non-null  float64       \n",
      " 9   longitude        30655 non-null  float64       \n",
      " 10  latitude         30655 non-null  float64       \n",
      "dtypes: datetime64[ns](1), float64(6), object(4)\n",
      "memory usage: 2.8+ MB\n"
     ]
    }
   ],
   "source": [
    "col_float = ['price', 'longitude', 'latitude', 'postal_code', 'living_area', 'number_of_rooms']\n",
    "col_string = ['built','city', 'region','property_type']\n",
    "col_date = ['date']\n",
    "### Formating data types ####\n",
    "df_useful[col_float] = df_useful[col_float].apply(lambda x: pd.to_numeric(x, errors='coerce').astype('float64'))\n",
    "df_useful[col_date]= df_useful[col_date].apply(lambda x: pd.to_datetime(x, errors='coerce'))\n",
    "\n",
    "df_useful.info()"
   ]
  },
  {
   "cell_type": "code",
   "execution_count": 27,
   "id": "b7687f5b",
   "metadata": {},
   "outputs": [
    {
     "data": {
      "text/plain": [
       "(30655, 11)"
      ]
     },
     "execution_count": 27,
     "metadata": {},
     "output_type": "execute_result"
    }
   ],
   "source": [
    "df_useful.shape"
   ]
  },
  {
   "cell_type": "code",
   "execution_count": 28,
   "id": "92a0c928",
   "metadata": {},
   "outputs": [
    {
     "data": {
      "text/html": [
       "<div>\n",
       "<style scoped>\n",
       "    .dataframe tbody tr th:only-of-type {\n",
       "        vertical-align: middle;\n",
       "    }\n",
       "\n",
       "    .dataframe tbody tr th {\n",
       "        vertical-align: top;\n",
       "    }\n",
       "\n",
       "    .dataframe thead th {\n",
       "        text-align: right;\n",
       "    }\n",
       "</style>\n",
       "<table border=\"1\" class=\"dataframe\">\n",
       "  <thead>\n",
       "    <tr style=\"text-align: right;\">\n",
       "      <th></th>\n",
       "      <th>date</th>\n",
       "      <th>built</th>\n",
       "      <th>price</th>\n",
       "      <th>postal_code</th>\n",
       "      <th>city</th>\n",
       "      <th>region</th>\n",
       "      <th>property_type</th>\n",
       "      <th>living_area</th>\n",
       "      <th>number_of_rooms</th>\n",
       "      <th>longitude</th>\n",
       "      <th>latitude</th>\n",
       "    </tr>\n",
       "  </thead>\n",
       "  <tbody>\n",
       "    <tr>\n",
       "      <th>61</th>\n",
       "      <td>2021-01-04</td>\n",
       "      <td>built</td>\n",
       "      <td>483400.0</td>\n",
       "      <td>93170.0</td>\n",
       "      <td>93006</td>\n",
       "      <td>93</td>\n",
       "      <td>Appartement</td>\n",
       "      <td>74.0</td>\n",
       "      <td>3.0</td>\n",
       "      <td>2.423187</td>\n",
       "      <td>48.858609</td>\n",
       "    </tr>\n",
       "    <tr>\n",
       "      <th>62</th>\n",
       "      <td>2021-01-07</td>\n",
       "      <td>built</td>\n",
       "      <td>170000.0</td>\n",
       "      <td>93130.0</td>\n",
       "      <td>93053</td>\n",
       "      <td>93</td>\n",
       "      <td>Appartement</td>\n",
       "      <td>42.0</td>\n",
       "      <td>2.0</td>\n",
       "      <td>2.465074</td>\n",
       "      <td>48.887137</td>\n",
       "    </tr>\n",
       "    <tr>\n",
       "      <th>65</th>\n",
       "      <td>2021-01-06</td>\n",
       "      <td>built</td>\n",
       "      <td>55000.0</td>\n",
       "      <td>93700.0</td>\n",
       "      <td>93029</td>\n",
       "      <td>93</td>\n",
       "      <td>Appartement</td>\n",
       "      <td>26.0</td>\n",
       "      <td>1.0</td>\n",
       "      <td>2.455386</td>\n",
       "      <td>48.914226</td>\n",
       "    </tr>\n",
       "    <tr>\n",
       "      <th>83</th>\n",
       "      <td>2021-01-11</td>\n",
       "      <td>built</td>\n",
       "      <td>252000.0</td>\n",
       "      <td>93230.0</td>\n",
       "      <td>93063</td>\n",
       "      <td>93</td>\n",
       "      <td>Appartement</td>\n",
       "      <td>50.0</td>\n",
       "      <td>2.0</td>\n",
       "      <td>2.440520</td>\n",
       "      <td>48.882042</td>\n",
       "    </tr>\n",
       "    <tr>\n",
       "      <th>85</th>\n",
       "      <td>2021-01-11</td>\n",
       "      <td>built</td>\n",
       "      <td>151190.0</td>\n",
       "      <td>93700.0</td>\n",
       "      <td>93029</td>\n",
       "      <td>93</td>\n",
       "      <td>Appartement</td>\n",
       "      <td>53.0</td>\n",
       "      <td>2.0</td>\n",
       "      <td>2.463303</td>\n",
       "      <td>48.913323</td>\n",
       "    </tr>\n",
       "  </tbody>\n",
       "</table>\n",
       "</div>"
      ],
      "text/plain": [
       "         date  built     price  postal_code   city region property_type  \\\n",
       "61 2021-01-04  built  483400.0      93170.0  93006     93   Appartement   \n",
       "62 2021-01-07  built  170000.0      93130.0  93053     93   Appartement   \n",
       "65 2021-01-06  built   55000.0      93700.0  93029     93   Appartement   \n",
       "83 2021-01-11  built  252000.0      93230.0  93063     93   Appartement   \n",
       "85 2021-01-11  built  151190.0      93700.0  93029     93   Appartement   \n",
       "\n",
       "    living_area  number_of_rooms  longitude   latitude  \n",
       "61         74.0              3.0   2.423187  48.858609  \n",
       "62         42.0              2.0   2.465074  48.887137  \n",
       "65         26.0              1.0   2.455386  48.914226  \n",
       "83         50.0              2.0   2.440520  48.882042  \n",
       "85         53.0              2.0   2.463303  48.913323  "
      ]
     },
     "execution_count": 28,
     "metadata": {},
     "output_type": "execute_result"
    }
   ],
   "source": [
    "df_useful.head()"
   ]
  },
  {
   "cell_type": "markdown",
   "id": "9a674b90",
   "metadata": {},
   "source": [
    "### Visualization of the department"
   ]
  },
  {
   "cell_type": "code",
   "execution_count": 29,
   "id": "8c204b4c",
   "metadata": {},
   "outputs": [
    {
     "data": {
      "text/plain": [
       "<Axes: xlabel='longitude', ylabel='latitude'>"
      ]
     },
     "execution_count": 29,
     "metadata": {},
     "output_type": "execute_result"
    },
    {
     "data": {
      "image/png": "[encoded data removed]",
      "text/plain": [
       "<Figure size 640x480 with 1 Axes>"
      ]
     },
     "metadata": {},
     "output_type": "display_data"
    }
   ],
   "source": [
    "# import folium\n",
    "# m = folium.Map(location = [-33.8, 151.2], tiles ='OpenStreetMap', zoom_start=11)\n",
    "import seaborn as sns\n",
    "sns.scatterplot(x = df_useful['longitude'], y = df_useful['latitude'])"
   ]
  },
  {
   "cell_type": "markdown",
   "id": "fd3d6246",
   "metadata": {},
   "source": [
    "# 🤓 Feature engineering"
   ]
  },
  {
   "cell_type": "code",
   "execution_count": 30,
   "id": "69485e49",
   "metadata": {},
   "outputs": [],
   "source": [
    "import pandas as pd\n",
    "import matplotlib.pyplot as plt\n",
    "import seaborn as sns"
   ]
  },
  {
   "cell_type": "markdown",
   "id": "d123b633",
   "metadata": {},
   "source": [
    "### Drop duplicates"
   ]
  },
  {
   "cell_type": "code",
   "execution_count": 31,
   "id": "d38287e1",
   "metadata": {},
   "outputs": [],
   "source": [
    "df_useful = df_useful.drop_duplicates()"
   ]
  },
  {
   "cell_type": "code",
   "execution_count": 32,
   "id": "99bfd679",
   "metadata": {},
   "outputs": [
    {
     "name": "stdout",
     "output_type": "stream",
     "text": [
      "<class 'pandas.core.frame.DataFrame'>\n",
      "Index: 30655 entries, 61 to 262139\n",
      "Data columns (total 11 columns):\n",
      " #   Column           Non-Null Count  Dtype         \n",
      "---  ------           --------------  -----         \n",
      " 0   date             30655 non-null  datetime64[ns]\n",
      " 1   built            30655 non-null  object        \n",
      " 2   price            30655 non-null  float64       \n",
      " 3   postal_code      30655 non-null  float64       \n",
      " 4   city             30655 non-null  object        \n",
      " 5   region           30655 non-null  object        \n",
      " 6   property_type    30655 non-null  object        \n",
      " 7   living_area      30655 non-null  float64       \n",
      " 8   number_of_rooms  30655 non-null  float64       \n",
      " 9   longitude        30655 non-null  float64       \n",
      " 10  latitude         30655 non-null  float64       \n",
      "dtypes: datetime64[ns](1), float64(6), object(4)\n",
      "memory usage: 2.8+ MB\n"
     ]
    }
   ],
   "source": [
    "df_useful.info()"
   ]
  },
  {
   "cell_type": "markdown",
   "id": "f720a4dd",
   "metadata": {},
   "source": [
    "### Drop Region"
   ]
  },
  {
   "cell_type": "code",
   "execution_count": 33,
   "id": "1b844e24",
   "metadata": {},
   "outputs": [],
   "source": [
    "#Region information is contained in postal code\n",
    "df_useful = df_useful.drop(columns='region')"
   ]
  },
  {
   "cell_type": "markdown",
   "id": "15c8dc9c",
   "metadata": {},
   "source": [
    "### Living area data has to be preprocessed because living area < 9qm does not make sense"
   ]
  },
  {
   "cell_type": "markdown",
   "id": "635d579b",
   "metadata": {},
   "source": [
    "This has to go into the preprocessing steps"
   ]
  },
  {
   "cell_type": "code",
   "execution_count": 34,
   "id": "f6b2812b",
   "metadata": {},
   "outputs": [],
   "source": [
    "'''To legally rent an apartment in France, it must have a minimum ceiling height of 2.2m,\n",
    "a minimum area of 9m² with a window, a separate bathroom, heating, a water system, and working\n",
    "drains and gutters. In addition, the building and the apartment must not threaten a tenant's health and safety.'''\n",
    "\n",
    "#Drop everything below 9qm\n",
    "df_useful = df_useful[df_useful['living_area'] >= 9]"
   ]
  },
  {
   "cell_type": "code",
   "execution_count": 35,
   "id": "e57666fc",
   "metadata": {},
   "outputs": [
    {
     "data": {
      "image/png": "[encoded data removed]",
      "text/plain": [
       "<Figure size 640x480 with 1 Axes>"
      ]
     },
     "metadata": {},
     "output_type": "display_data"
    }
   ],
   "source": [
    "#Check for outliers\n",
    "sns.histplot(x='living_area', data=df_useful)\n",
    "plt.show()"
   ]
  },
  {
   "cell_type": "code",
   "execution_count": 36,
   "id": "9ac77ac0",
   "metadata": {},
   "outputs": [
    {
     "data": {
      "text/html": [
       "<div>\n",
       "<style scoped>\n",
       "    .dataframe tbody tr th:only-of-type {\n",
       "        vertical-align: middle;\n",
       "    }\n",
       "\n",
       "    .dataframe tbody tr th {\n",
       "        vertical-align: top;\n",
       "    }\n",
       "\n",
       "    .dataframe thead th {\n",
       "        text-align: right;\n",
       "    }\n",
       "</style>\n",
       "<table border=\"1\" class=\"dataframe\">\n",
       "  <thead>\n",
       "    <tr style=\"text-align: right;\">\n",
       "      <th></th>\n",
       "      <th>date</th>\n",
       "      <th>built</th>\n",
       "      <th>price</th>\n",
       "      <th>postal_code</th>\n",
       "      <th>city</th>\n",
       "      <th>property_type</th>\n",
       "      <th>living_area</th>\n",
       "      <th>number_of_rooms</th>\n",
       "      <th>longitude</th>\n",
       "      <th>latitude</th>\n",
       "    </tr>\n",
       "  </thead>\n",
       "  <tbody>\n",
       "    <tr>\n",
       "      <th>145891</th>\n",
       "      <td>2019-02-28</td>\n",
       "      <td>built</td>\n",
       "      <td>140000.0</td>\n",
       "      <td>93400.0</td>\n",
       "      <td>93070</td>\n",
       "      <td>Appartement</td>\n",
       "      <td>9.0</td>\n",
       "      <td>1.0</td>\n",
       "      <td>2.329897</td>\n",
       "      <td>48.902324</td>\n",
       "    </tr>\n",
       "    <tr>\n",
       "      <th>144796</th>\n",
       "      <td>2019-02-01</td>\n",
       "      <td>built</td>\n",
       "      <td>38000.0</td>\n",
       "      <td>93210.0</td>\n",
       "      <td>93066</td>\n",
       "      <td>Appartement</td>\n",
       "      <td>9.0</td>\n",
       "      <td>1.0</td>\n",
       "      <td>2.361568</td>\n",
       "      <td>48.907253</td>\n",
       "    </tr>\n",
       "    <tr>\n",
       "      <th>17220</th>\n",
       "      <td>2021-11-26</td>\n",
       "      <td>built</td>\n",
       "      <td>164020.0</td>\n",
       "      <td>93300.0</td>\n",
       "      <td>93001</td>\n",
       "      <td>Appartement</td>\n",
       "      <td>9.0</td>\n",
       "      <td>1.0</td>\n",
       "      <td>2.381434</td>\n",
       "      <td>48.913828</td>\n",
       "    </tr>\n",
       "    <tr>\n",
       "      <th>34196</th>\n",
       "      <td>2021-05-12</td>\n",
       "      <td>built</td>\n",
       "      <td>15000.0</td>\n",
       "      <td>93600.0</td>\n",
       "      <td>93005</td>\n",
       "      <td>Appartement</td>\n",
       "      <td>9.0</td>\n",
       "      <td>1.0</td>\n",
       "      <td>2.494689</td>\n",
       "      <td>48.931105</td>\n",
       "    </tr>\n",
       "    <tr>\n",
       "      <th>245801</th>\n",
       "      <td>2021-05-12</td>\n",
       "      <td>built</td>\n",
       "      <td>15000.0</td>\n",
       "      <td>93600.0</td>\n",
       "      <td>93005</td>\n",
       "      <td>Appartement</td>\n",
       "      <td>9.0</td>\n",
       "      <td>1.0</td>\n",
       "      <td>2.494689</td>\n",
       "      <td>48.931105</td>\n",
       "    </tr>\n",
       "  </tbody>\n",
       "</table>\n",
       "</div>"
      ],
      "text/plain": [
       "             date  built     price  postal_code   city property_type  \\\n",
       "145891 2019-02-28  built  140000.0      93400.0  93070   Appartement   \n",
       "144796 2019-02-01  built   38000.0      93210.0  93066   Appartement   \n",
       "17220  2021-11-26  built  164020.0      93300.0  93001   Appartement   \n",
       "34196  2021-05-12  built   15000.0      93600.0  93005   Appartement   \n",
       "245801 2021-05-12  built   15000.0      93600.0  93005   Appartement   \n",
       "\n",
       "        living_area  number_of_rooms  longitude   latitude  \n",
       "145891          9.0              1.0   2.329897  48.902324  \n",
       "144796          9.0              1.0   2.361568  48.907253  \n",
       "17220           9.0              1.0   2.381434  48.913828  \n",
       "34196           9.0              1.0   2.494689  48.931105  \n",
       "245801          9.0              1.0   2.494689  48.931105  "
      ]
     },
     "execution_count": 36,
     "metadata": {},
     "output_type": "execute_result"
    }
   ],
   "source": [
    "df_useful.sort_values(by='living_area', ascending=True).head()"
   ]
  },
  {
   "cell_type": "code",
   "execution_count": 37,
   "id": "c77245c7",
   "metadata": {},
   "outputs": [
    {
     "data": {
      "text/plain": [
       "(30624, 10)"
      ]
     },
     "execution_count": 37,
     "metadata": {},
     "output_type": "execute_result"
    }
   ],
   "source": [
    "df_useful.shape"
   ]
  },
  {
   "cell_type": "markdown",
   "id": "19d00148",
   "metadata": {},
   "source": [
    "### All columns"
   ]
  },
  {
   "cell_type": "code",
   "execution_count": 38,
   "id": "1725cfca",
   "metadata": {},
   "outputs": [
    {
     "data": {
      "text/plain": [
       "Index(['date', 'built', 'price', 'postal_code', 'city', 'property_type',\n",
       "       'living_area', 'number_of_rooms', 'longitude', 'latitude'],\n",
       "      dtype='object')"
      ]
     },
     "execution_count": 38,
     "metadata": {},
     "output_type": "execute_result"
    }
   ],
   "source": [
    "df_useful.columns"
   ]
  },
  {
   "cell_type": "code",
   "execution_count": 39,
   "id": "a40d3094",
   "metadata": {},
   "outputs": [
    {
     "name": "stdout",
     "output_type": "stream",
     "text": [
      "<class 'pandas.core.frame.DataFrame'>\n",
      "Index: 30624 entries, 61 to 262139\n",
      "Data columns (total 10 columns):\n",
      " #   Column           Non-Null Count  Dtype         \n",
      "---  ------           --------------  -----         \n",
      " 0   date             30624 non-null  datetime64[ns]\n",
      " 1   built            30624 non-null  object        \n",
      " 2   price            30624 non-null  float64       \n",
      " 3   postal_code      30624 non-null  float64       \n",
      " 4   city             30624 non-null  object        \n",
      " 5   property_type    30624 non-null  object        \n",
      " 6   living_area      30624 non-null  float64       \n",
      " 7   number_of_rooms  30624 non-null  float64       \n",
      " 8   longitude        30624 non-null  float64       \n",
      " 9   latitude         30624 non-null  float64       \n",
      "dtypes: datetime64[ns](1), float64(6), object(3)\n",
      "memory usage: 2.6+ MB\n"
     ]
    }
   ],
   "source": [
    "df_useful.info()"
   ]
  },
  {
   "cell_type": "markdown",
   "id": "c1a2cbc1",
   "metadata": {},
   "source": [
    "### 'Date' to datetime and 'Year'"
   ]
  },
  {
   "cell_type": "code",
   "execution_count": 40,
   "id": "85e8d48c",
   "metadata": {},
   "outputs": [
    {
     "data": {
      "text/plain": [
       "array([2021, 2018, 2022, 2019, 2020], dtype=int32)"
      ]
     },
     "execution_count": 40,
     "metadata": {},
     "output_type": "execute_result"
    }
   ],
   "source": [
    "#Change to datetime and create a 'year' column\n",
    "\n",
    "df_useful['date'] = pd.to_datetime(df_useful['date'])\n",
    "df_useful['year'] = df_useful['date'].dt.year\n",
    "df_useful['year'].unique()"
   ]
  },
  {
   "cell_type": "markdown",
   "id": "91514501",
   "metadata": {},
   "source": [
    "### 'Built' - Encoding"
   ]
  },
  {
   "cell_type": "code",
   "execution_count": 41,
   "id": "1844ac3d",
   "metadata": {},
   "outputs": [
    {
     "data": {
      "text/plain": [
       "array([1, 0])"
      ]
     },
     "execution_count": 41,
     "metadata": {},
     "output_type": "execute_result"
    }
   ],
   "source": [
    "#Needs to be encoded in numbers\n",
    "df_useful['built'] = df_useful['built'].map({'built': 1, 'Vente en l\\'état futur d\\'achèvement': 0})\n",
    "df_useful['built'].unique()"
   ]
  },
  {
   "cell_type": "code",
   "execution_count": null,
   "id": "00c48ea5",
   "metadata": {},
   "outputs": [],
   "source": []
  },
  {
   "cell_type": "markdown",
   "id": "15fefe92",
   "metadata": {},
   "source": [
    "### 'Price' Viz"
   ]
  },
  {
   "cell_type": "code",
   "execution_count": 42,
   "id": "be97d279",
   "metadata": {},
   "outputs": [
    {
     "data": {
      "image/png": "[encoded data removed]",
      "text/plain": [
       "<Figure size 640x480 with 1 Axes>"
      ]
     },
     "metadata": {},
     "output_type": "display_data"
    }
   ],
   "source": [
    "#Check for outliers, 'price' column remains unchanged\n",
    "sns.boxplot(x='price', data=df_useful)\n",
    "plt.show()"
   ]
  },
  {
   "cell_type": "markdown",
   "id": "a1b645da",
   "metadata": {},
   "source": [
    "### Postal Code, City and Region + Property Type"
   ]
  },
  {
   "cell_type": "code",
   "execution_count": 43,
   "id": "c34c0200",
   "metadata": {},
   "outputs": [],
   "source": [
    "from sklearn.compose import ColumnTransformer\n",
    "from sklearn.preprocessing import OneHotEncoder\n",
    "from sklearn.preprocessing import TargetEncoder"
   ]
  },
  {
   "cell_type": "code",
   "execution_count": 44,
   "id": "1817f36b",
   "metadata": {},
   "outputs": [
    {
     "name": "stdout",
     "output_type": "stream",
     "text": [
      "postal_code\n",
      "93160.0    3292\n",
      "93100.0    2411\n",
      "93400.0    1859\n",
      "93200.0    1503\n",
      "93300.0    1341\n",
      "93420.0    1193\n",
      "93500.0    1118\n",
      "93330.0    1106\n",
      "93110.0    1076\n",
      "93220.0    1031\n",
      "93190.0    1012\n",
      "93150.0     987\n",
      "93000.0     844\n",
      "93130.0     840\n",
      "93230.0     809\n",
      "93700.0     714\n",
      "93600.0     683\n",
      "93270.0     653\n",
      "93800.0     636\n",
      "93140.0     597\n",
      "93170.0     570\n",
      "93250.0     527\n",
      "93210.0     515\n",
      "93370.0     501\n",
      "93360.0     490\n",
      "93120.0     463\n",
      "93290.0     420\n",
      "93320.0     408\n",
      "93380.0     397\n",
      "93340.0     335\n",
      "93260.0     321\n",
      "93350.0     290\n",
      "93240.0     277\n",
      "93460.0     273\n",
      "93310.0     272\n",
      "93410.0     209\n",
      "93440.0     204\n",
      "93450.0     152\n",
      "93390.0     142\n",
      "93470.0      82\n",
      "93430.0      71\n",
      "Name: count, dtype: int64\n"
     ]
    }
   ],
   "source": [
    "#Postal Code\n",
    "print(df_useful['postal_code'].value_counts())\n",
    "df_useful['postal_code'] = df_useful['postal_code'].astype(int) #changed from floats to integers"
   ]
  },
  {
   "cell_type": "code",
   "execution_count": 45,
   "id": "745e6126",
   "metadata": {},
   "outputs": [
    {
     "name": "stdout",
     "output_type": "stream",
     "text": [
      "city\n",
      "93051    1986\n",
      "93048    1542\n",
      "93051    1306\n",
      "93066    1043\n",
      "93066     975\n",
      "         ... \n",
      "93014      56\n",
      "93015      55\n",
      "93079      40\n",
      "93079      31\n",
      "93015      27\n",
      "Name: count, Length: 80, dtype: int64\n"
     ]
    }
   ],
   "source": [
    "#City\n",
    "print(df_useful['city'].value_counts()) #all good\n",
    "df_useful['city'] = df_useful['city'].astype(int)"
   ]
  },
  {
   "cell_type": "code",
   "execution_count": 46,
   "id": "bbfefa1b",
   "metadata": {},
   "outputs": [],
   "source": [
    "#Property type\n",
    "df_useful['property_type'].unique()\n",
    "df_useful['property_type'] = df_useful['property_type'].astype(str)"
   ]
  },
  {
   "cell_type": "code",
   "execution_count": 47,
   "id": "677e61de",
   "metadata": {},
   "outputs": [],
   "source": [
    "column_transformer = ColumnTransformer(\n",
    "    transformers=[\n",
    "        ('ohe', OneHotEncoder(sparse_output=False, dtype=int), ['postal_code', 'property_type']),\n",
    "        ('tar', TargetEncoder(), ['city']) #targetencode to keep the number of columns low\n",
    "    ],\n",
    "    remainder='passthrough'  # keep non-transformed columns\n",
    ")"
   ]
  },
  {
   "cell_type": "code",
   "execution_count": 48,
   "id": "207a26ea",
   "metadata": {},
   "outputs": [],
   "source": [
    "y = df_useful['price']\n",
    "X = df_useful"
   ]
  },
  {
   "cell_type": "code",
   "execution_count": 49,
   "id": "77eed4fb",
   "metadata": {},
   "outputs": [
    {
     "name": "stdout",
     "output_type": "stream",
     "text": [
      "<class 'pandas.core.frame.DataFrame'>\n",
      "Index: 30624 entries, 61 to 262139\n",
      "Data columns (total 11 columns):\n",
      " #   Column           Non-Null Count  Dtype         \n",
      "---  ------           --------------  -----         \n",
      " 0   date             30624 non-null  datetime64[ns]\n",
      " 1   built            30624 non-null  int64         \n",
      " 2   price            30624 non-null  float64       \n",
      " 3   postal_code      30624 non-null  int64         \n",
      " 4   city             30624 non-null  int64         \n",
      " 5   property_type    30624 non-null  object        \n",
      " 6   living_area      30624 non-null  float64       \n",
      " 7   number_of_rooms  30624 non-null  float64       \n",
      " 8   longitude        30624 non-null  float64       \n",
      " 9   latitude         30624 non-null  float64       \n",
      " 10  year             30624 non-null  int32         \n",
      "dtypes: datetime64[ns](1), float64(5), int32(1), int64(3), object(1)\n",
      "memory usage: 2.7+ MB\n"
     ]
    }
   ],
   "source": [
    "df_useful.info()"
   ]
  },
  {
   "cell_type": "code",
   "execution_count": 50,
   "id": "d4adf07b",
   "metadata": {},
   "outputs": [],
   "source": [
    "df_encoded = pd.DataFrame(column_transformer.fit_transform(X, y), columns=column_transformer.get_feature_names_out())\n",
    "df_encoded.columns = df_encoded.columns.str.replace('remainder__', '')"
   ]
  },
  {
   "cell_type": "code",
   "execution_count": 51,
   "id": "64b682ad",
   "metadata": {},
   "outputs": [
    {
     "data": {
      "text/html": [
       "<div>\n",
       "<style scoped>\n",
       "    .dataframe tbody tr th:only-of-type {\n",
       "        vertical-align: middle;\n",
       "    }\n",
       "\n",
       "    .dataframe tbody tr th {\n",
       "        vertical-align: top;\n",
       "    }\n",
       "\n",
       "    .dataframe thead th {\n",
       "        text-align: right;\n",
       "    }\n",
       "</style>\n",
       "<table border=\"1\" class=\"dataframe\">\n",
       "  <thead>\n",
       "    <tr style=\"text-align: right;\">\n",
       "      <th></th>\n",
       "      <th>ohe__postal_code_93000</th>\n",
       "      <th>ohe__postal_code_93100</th>\n",
       "      <th>ohe__postal_code_93110</th>\n",
       "      <th>ohe__postal_code_93120</th>\n",
       "      <th>ohe__postal_code_93130</th>\n",
       "      <th>ohe__postal_code_93140</th>\n",
       "      <th>ohe__postal_code_93150</th>\n",
       "      <th>ohe__postal_code_93160</th>\n",
       "      <th>ohe__postal_code_93170</th>\n",
       "      <th>ohe__postal_code_93190</th>\n",
       "      <th>...</th>\n",
       "      <th>ohe__property_type_Maison</th>\n",
       "      <th>tar__city</th>\n",
       "      <th>date</th>\n",
       "      <th>built</th>\n",
       "      <th>price</th>\n",
       "      <th>living_area</th>\n",
       "      <th>number_of_rooms</th>\n",
       "      <th>longitude</th>\n",
       "      <th>latitude</th>\n",
       "      <th>year</th>\n",
       "    </tr>\n",
       "  </thead>\n",
       "  <tbody>\n",
       "    <tr>\n",
       "      <th>0</th>\n",
       "      <td>0</td>\n",
       "      <td>0</td>\n",
       "      <td>0</td>\n",
       "      <td>0</td>\n",
       "      <td>0</td>\n",
       "      <td>0</td>\n",
       "      <td>0</td>\n",
       "      <td>0</td>\n",
       "      <td>1</td>\n",
       "      <td>0</td>\n",
       "      <td>...</td>\n",
       "      <td>0</td>\n",
       "      <td>324330.150761</td>\n",
       "      <td>2021-01-04</td>\n",
       "      <td>1</td>\n",
       "      <td>483400.0</td>\n",
       "      <td>74.0</td>\n",
       "      <td>3.0</td>\n",
       "      <td>2.423187</td>\n",
       "      <td>48.858609</td>\n",
       "      <td>2021</td>\n",
       "    </tr>\n",
       "    <tr>\n",
       "      <th>1</th>\n",
       "      <td>0</td>\n",
       "      <td>0</td>\n",
       "      <td>0</td>\n",
       "      <td>0</td>\n",
       "      <td>1</td>\n",
       "      <td>0</td>\n",
       "      <td>0</td>\n",
       "      <td>0</td>\n",
       "      <td>0</td>\n",
       "      <td>0</td>\n",
       "      <td>...</td>\n",
       "      <td>0</td>\n",
       "      <td>337644.229377</td>\n",
       "      <td>2021-01-07</td>\n",
       "      <td>1</td>\n",
       "      <td>170000.0</td>\n",
       "      <td>42.0</td>\n",
       "      <td>2.0</td>\n",
       "      <td>2.465074</td>\n",
       "      <td>48.887137</td>\n",
       "      <td>2021</td>\n",
       "    </tr>\n",
       "    <tr>\n",
       "      <th>2</th>\n",
       "      <td>0</td>\n",
       "      <td>0</td>\n",
       "      <td>0</td>\n",
       "      <td>0</td>\n",
       "      <td>0</td>\n",
       "      <td>0</td>\n",
       "      <td>0</td>\n",
       "      <td>0</td>\n",
       "      <td>0</td>\n",
       "      <td>0</td>\n",
       "      <td>...</td>\n",
       "      <td>0</td>\n",
       "      <td>256913.694693</td>\n",
       "      <td>2021-01-06</td>\n",
       "      <td>1</td>\n",
       "      <td>55000.0</td>\n",
       "      <td>26.0</td>\n",
       "      <td>1.0</td>\n",
       "      <td>2.455386</td>\n",
       "      <td>48.914226</td>\n",
       "      <td>2021</td>\n",
       "    </tr>\n",
       "    <tr>\n",
       "      <th>3</th>\n",
       "      <td>0</td>\n",
       "      <td>0</td>\n",
       "      <td>0</td>\n",
       "      <td>0</td>\n",
       "      <td>0</td>\n",
       "      <td>0</td>\n",
       "      <td>0</td>\n",
       "      <td>0</td>\n",
       "      <td>0</td>\n",
       "      <td>0</td>\n",
       "      <td>...</td>\n",
       "      <td>0</td>\n",
       "      <td>328344.108852</td>\n",
       "      <td>2021-01-11</td>\n",
       "      <td>1</td>\n",
       "      <td>252000.0</td>\n",
       "      <td>50.0</td>\n",
       "      <td>2.0</td>\n",
       "      <td>2.44052</td>\n",
       "      <td>48.882042</td>\n",
       "      <td>2021</td>\n",
       "    </tr>\n",
       "    <tr>\n",
       "      <th>4</th>\n",
       "      <td>0</td>\n",
       "      <td>0</td>\n",
       "      <td>0</td>\n",
       "      <td>0</td>\n",
       "      <td>0</td>\n",
       "      <td>0</td>\n",
       "      <td>0</td>\n",
       "      <td>0</td>\n",
       "      <td>0</td>\n",
       "      <td>0</td>\n",
       "      <td>...</td>\n",
       "      <td>0</td>\n",
       "      <td>237236.544863</td>\n",
       "      <td>2021-01-11</td>\n",
       "      <td>1</td>\n",
       "      <td>151190.0</td>\n",
       "      <td>53.0</td>\n",
       "      <td>2.0</td>\n",
       "      <td>2.463303</td>\n",
       "      <td>48.913323</td>\n",
       "      <td>2021</td>\n",
       "    </tr>\n",
       "  </tbody>\n",
       "</table>\n",
       "<p>5 rows × 52 columns</p>\n",
       "</div>"
      ],
      "text/plain": [
       "  ohe__postal_code_93000 ohe__postal_code_93100 ohe__postal_code_93110  \\\n",
       "0                      0                      0                      0   \n",
       "1                      0                      0                      0   \n",
       "2                      0                      0                      0   \n",
       "3                      0                      0                      0   \n",
       "4                      0                      0                      0   \n",
       "\n",
       "  ohe__postal_code_93120 ohe__postal_code_93130 ohe__postal_code_93140  \\\n",
       "0                      0                      0                      0   \n",
       "1                      0                      1                      0   \n",
       "2                      0                      0                      0   \n",
       "3                      0                      0                      0   \n",
       "4                      0                      0                      0   \n",
       "\n",
       "  ohe__postal_code_93150 ohe__postal_code_93160 ohe__postal_code_93170  \\\n",
       "0                      0                      0                      1   \n",
       "1                      0                      0                      0   \n",
       "2                      0                      0                      0   \n",
       "3                      0                      0                      0   \n",
       "4                      0                      0                      0   \n",
       "\n",
       "  ohe__postal_code_93190  ... ohe__property_type_Maison      tar__city  \\\n",
       "0                      0  ...                         0  324330.150761   \n",
       "1                      0  ...                         0  337644.229377   \n",
       "2                      0  ...                         0  256913.694693   \n",
       "3                      0  ...                         0  328344.108852   \n",
       "4                      0  ...                         0  237236.544863   \n",
       "\n",
       "        date built     price living_area number_of_rooms longitude   latitude  \\\n",
       "0 2021-01-04     1  483400.0        74.0             3.0  2.423187  48.858609   \n",
       "1 2021-01-07     1  170000.0        42.0             2.0  2.465074  48.887137   \n",
       "2 2021-01-06     1   55000.0        26.0             1.0  2.455386  48.914226   \n",
       "3 2021-01-11     1  252000.0        50.0             2.0   2.44052  48.882042   \n",
       "4 2021-01-11     1  151190.0        53.0             2.0  2.463303  48.913323   \n",
       "\n",
       "   year  \n",
       "0  2021  \n",
       "1  2021  \n",
       "2  2021  \n",
       "3  2021  \n",
       "4  2021  \n",
       "\n",
       "[5 rows x 52 columns]"
      ]
     },
     "execution_count": 51,
     "metadata": {},
     "output_type": "execute_result"
    }
   ],
   "source": [
    "df_encoded.head()"
   ]
  },
  {
   "cell_type": "markdown",
   "id": "384c12ab",
   "metadata": {},
   "source": [
    "### Living Area"
   ]
  },
  {
   "cell_type": "code",
   "execution_count": 52,
   "id": "9cc0fa50",
   "metadata": {},
   "outputs": [],
   "source": [
    "from sklearn.preprocessing import MinMaxScaler\n",
    "\n",
    "mm_scaler = MinMaxScaler()\n",
    "df_encoded['living_area_scaled'] = mm_scaler.fit_transform(df_useful[['living_area']])"
   ]
  },
  {
   "cell_type": "code",
   "execution_count": 53,
   "id": "0a6f92fd",
   "metadata": {},
   "outputs": [
    {
     "data": {
      "text/plain": [
       "<Axes: xlabel='living_area_scaled', ylabel='Count'>"
      ]
     },
     "execution_count": 53,
     "metadata": {},
     "output_type": "execute_result"
    },
    {
     "data": {
      "image/png": "[encoded data removed]",
      "text/plain": [
       "<Figure size 640x480 with 1 Axes>"
      ]
     },
     "metadata": {},
     "output_type": "display_data"
    }
   ],
   "source": [
    "df_encoded.head()\n",
    "sns.histplot(x='living_area_scaled', data=df_encoded)"
   ]
  },
  {
   "cell_type": "code",
   "execution_count": 54,
   "id": "68cf52fe",
   "metadata": {},
   "outputs": [
    {
     "data": {
      "text/html": [
       "<div>\n",
       "<style scoped>\n",
       "    .dataframe tbody tr th:only-of-type {\n",
       "        vertical-align: middle;\n",
       "    }\n",
       "\n",
       "    .dataframe tbody tr th {\n",
       "        vertical-align: top;\n",
       "    }\n",
       "\n",
       "    .dataframe thead th {\n",
       "        text-align: right;\n",
       "    }\n",
       "</style>\n",
       "<table border=\"1\" class=\"dataframe\">\n",
       "  <thead>\n",
       "    <tr style=\"text-align: right;\">\n",
       "      <th></th>\n",
       "      <th>ohe__postal_code_93000</th>\n",
       "      <th>ohe__postal_code_93100</th>\n",
       "      <th>ohe__postal_code_93110</th>\n",
       "      <th>ohe__postal_code_93120</th>\n",
       "      <th>ohe__postal_code_93130</th>\n",
       "      <th>ohe__postal_code_93140</th>\n",
       "      <th>ohe__postal_code_93150</th>\n",
       "      <th>ohe__postal_code_93160</th>\n",
       "      <th>ohe__postal_code_93170</th>\n",
       "      <th>ohe__postal_code_93190</th>\n",
       "      <th>...</th>\n",
       "      <th>ohe__property_type_Maison</th>\n",
       "      <th>tar__city</th>\n",
       "      <th>date</th>\n",
       "      <th>built</th>\n",
       "      <th>price</th>\n",
       "      <th>number_of_rooms</th>\n",
       "      <th>longitude</th>\n",
       "      <th>latitude</th>\n",
       "      <th>year</th>\n",
       "      <th>living_area_scaled</th>\n",
       "    </tr>\n",
       "  </thead>\n",
       "  <tbody>\n",
       "    <tr>\n",
       "      <th>0</th>\n",
       "      <td>0</td>\n",
       "      <td>0</td>\n",
       "      <td>0</td>\n",
       "      <td>0</td>\n",
       "      <td>0</td>\n",
       "      <td>0</td>\n",
       "      <td>0</td>\n",
       "      <td>0</td>\n",
       "      <td>1</td>\n",
       "      <td>0</td>\n",
       "      <td>...</td>\n",
       "      <td>0</td>\n",
       "      <td>324330.150761</td>\n",
       "      <td>2021-01-04</td>\n",
       "      <td>1</td>\n",
       "      <td>483400.0</td>\n",
       "      <td>3.0</td>\n",
       "      <td>2.423187</td>\n",
       "      <td>48.858609</td>\n",
       "      <td>2021</td>\n",
       "      <td>0.157385</td>\n",
       "    </tr>\n",
       "    <tr>\n",
       "      <th>1</th>\n",
       "      <td>0</td>\n",
       "      <td>0</td>\n",
       "      <td>0</td>\n",
       "      <td>0</td>\n",
       "      <td>1</td>\n",
       "      <td>0</td>\n",
       "      <td>0</td>\n",
       "      <td>0</td>\n",
       "      <td>0</td>\n",
       "      <td>0</td>\n",
       "      <td>...</td>\n",
       "      <td>0</td>\n",
       "      <td>337644.229377</td>\n",
       "      <td>2021-01-07</td>\n",
       "      <td>1</td>\n",
       "      <td>170000.0</td>\n",
       "      <td>2.0</td>\n",
       "      <td>2.465074</td>\n",
       "      <td>48.887137</td>\n",
       "      <td>2021</td>\n",
       "      <td>0.079903</td>\n",
       "    </tr>\n",
       "    <tr>\n",
       "      <th>2</th>\n",
       "      <td>0</td>\n",
       "      <td>0</td>\n",
       "      <td>0</td>\n",
       "      <td>0</td>\n",
       "      <td>0</td>\n",
       "      <td>0</td>\n",
       "      <td>0</td>\n",
       "      <td>0</td>\n",
       "      <td>0</td>\n",
       "      <td>0</td>\n",
       "      <td>...</td>\n",
       "      <td>0</td>\n",
       "      <td>256913.694693</td>\n",
       "      <td>2021-01-06</td>\n",
       "      <td>1</td>\n",
       "      <td>55000.0</td>\n",
       "      <td>1.0</td>\n",
       "      <td>2.455386</td>\n",
       "      <td>48.914226</td>\n",
       "      <td>2021</td>\n",
       "      <td>0.041162</td>\n",
       "    </tr>\n",
       "    <tr>\n",
       "      <th>3</th>\n",
       "      <td>0</td>\n",
       "      <td>0</td>\n",
       "      <td>0</td>\n",
       "      <td>0</td>\n",
       "      <td>0</td>\n",
       "      <td>0</td>\n",
       "      <td>0</td>\n",
       "      <td>0</td>\n",
       "      <td>0</td>\n",
       "      <td>0</td>\n",
       "      <td>...</td>\n",
       "      <td>0</td>\n",
       "      <td>328344.108852</td>\n",
       "      <td>2021-01-11</td>\n",
       "      <td>1</td>\n",
       "      <td>252000.0</td>\n",
       "      <td>2.0</td>\n",
       "      <td>2.44052</td>\n",
       "      <td>48.882042</td>\n",
       "      <td>2021</td>\n",
       "      <td>0.099274</td>\n",
       "    </tr>\n",
       "    <tr>\n",
       "      <th>4</th>\n",
       "      <td>0</td>\n",
       "      <td>0</td>\n",
       "      <td>0</td>\n",
       "      <td>0</td>\n",
       "      <td>0</td>\n",
       "      <td>0</td>\n",
       "      <td>0</td>\n",
       "      <td>0</td>\n",
       "      <td>0</td>\n",
       "      <td>0</td>\n",
       "      <td>...</td>\n",
       "      <td>0</td>\n",
       "      <td>237236.544863</td>\n",
       "      <td>2021-01-11</td>\n",
       "      <td>1</td>\n",
       "      <td>151190.0</td>\n",
       "      <td>2.0</td>\n",
       "      <td>2.463303</td>\n",
       "      <td>48.913323</td>\n",
       "      <td>2021</td>\n",
       "      <td>0.106538</td>\n",
       "    </tr>\n",
       "    <tr>\n",
       "      <th>...</th>\n",
       "      <td>...</td>\n",
       "      <td>...</td>\n",
       "      <td>...</td>\n",
       "      <td>...</td>\n",
       "      <td>...</td>\n",
       "      <td>...</td>\n",
       "      <td>...</td>\n",
       "      <td>...</td>\n",
       "      <td>...</td>\n",
       "      <td>...</td>\n",
       "      <td>...</td>\n",
       "      <td>...</td>\n",
       "      <td>...</td>\n",
       "      <td>...</td>\n",
       "      <td>...</td>\n",
       "      <td>...</td>\n",
       "      <td>...</td>\n",
       "      <td>...</td>\n",
       "      <td>...</td>\n",
       "      <td>...</td>\n",
       "      <td>...</td>\n",
       "    </tr>\n",
       "    <tr>\n",
       "      <th>30619</th>\n",
       "      <td>0</td>\n",
       "      <td>0</td>\n",
       "      <td>0</td>\n",
       "      <td>0</td>\n",
       "      <td>0</td>\n",
       "      <td>0</td>\n",
       "      <td>0</td>\n",
       "      <td>0</td>\n",
       "      <td>0</td>\n",
       "      <td>0</td>\n",
       "      <td>...</td>\n",
       "      <td>0</td>\n",
       "      <td>446217.08363</td>\n",
       "      <td>2021-05-07</td>\n",
       "      <td>0</td>\n",
       "      <td>370000.0</td>\n",
       "      <td>3.0</td>\n",
       "      <td>2.344616</td>\n",
       "      <td>48.90748</td>\n",
       "      <td>2021</td>\n",
       "      <td>0.140436</td>\n",
       "    </tr>\n",
       "    <tr>\n",
       "      <th>30620</th>\n",
       "      <td>0</td>\n",
       "      <td>0</td>\n",
       "      <td>0</td>\n",
       "      <td>0</td>\n",
       "      <td>0</td>\n",
       "      <td>0</td>\n",
       "      <td>0</td>\n",
       "      <td>0</td>\n",
       "      <td>0</td>\n",
       "      <td>0</td>\n",
       "      <td>...</td>\n",
       "      <td>0</td>\n",
       "      <td>361586.943956</td>\n",
       "      <td>2021-05-11</td>\n",
       "      <td>1</td>\n",
       "      <td>257500.0</td>\n",
       "      <td>2.0</td>\n",
       "      <td>2.347329</td>\n",
       "      <td>48.937029</td>\n",
       "      <td>2021</td>\n",
       "      <td>0.171913</td>\n",
       "    </tr>\n",
       "    <tr>\n",
       "      <th>30621</th>\n",
       "      <td>0</td>\n",
       "      <td>0</td>\n",
       "      <td>0</td>\n",
       "      <td>0</td>\n",
       "      <td>0</td>\n",
       "      <td>0</td>\n",
       "      <td>0</td>\n",
       "      <td>0</td>\n",
       "      <td>0</td>\n",
       "      <td>0</td>\n",
       "      <td>...</td>\n",
       "      <td>0</td>\n",
       "      <td>175536.89171</td>\n",
       "      <td>2021-05-07</td>\n",
       "      <td>1</td>\n",
       "      <td>223000.0</td>\n",
       "      <td>4.0</td>\n",
       "      <td>2.379998</td>\n",
       "      <td>48.958582</td>\n",
       "      <td>2021</td>\n",
       "      <td>0.171913</td>\n",
       "    </tr>\n",
       "    <tr>\n",
       "      <th>30622</th>\n",
       "      <td>0</td>\n",
       "      <td>0</td>\n",
       "      <td>0</td>\n",
       "      <td>0</td>\n",
       "      <td>0</td>\n",
       "      <td>0</td>\n",
       "      <td>0</td>\n",
       "      <td>0</td>\n",
       "      <td>0</td>\n",
       "      <td>0</td>\n",
       "      <td>...</td>\n",
       "      <td>0</td>\n",
       "      <td>349586.117972</td>\n",
       "      <td>2021-04-29</td>\n",
       "      <td>1</td>\n",
       "      <td>405000.0</td>\n",
       "      <td>4.0</td>\n",
       "      <td>2.348916</td>\n",
       "      <td>48.939137</td>\n",
       "      <td>2021</td>\n",
       "      <td>0.186441</td>\n",
       "    </tr>\n",
       "    <tr>\n",
       "      <th>30623</th>\n",
       "      <td>0</td>\n",
       "      <td>0</td>\n",
       "      <td>0</td>\n",
       "      <td>0</td>\n",
       "      <td>0</td>\n",
       "      <td>0</td>\n",
       "      <td>0</td>\n",
       "      <td>0</td>\n",
       "      <td>0</td>\n",
       "      <td>0</td>\n",
       "      <td>...</td>\n",
       "      <td>0</td>\n",
       "      <td>322294.488135</td>\n",
       "      <td>2021-05-06</td>\n",
       "      <td>1</td>\n",
       "      <td>200000.0</td>\n",
       "      <td>3.0</td>\n",
       "      <td>2.386661</td>\n",
       "      <td>48.918338</td>\n",
       "      <td>2021</td>\n",
       "      <td>0.113801</td>\n",
       "    </tr>\n",
       "  </tbody>\n",
       "</table>\n",
       "<p>30624 rows × 52 columns</p>\n",
       "</div>"
      ],
      "text/plain": [
       "      ohe__postal_code_93000 ohe__postal_code_93100 ohe__postal_code_93110  \\\n",
       "0                          0                      0                      0   \n",
       "1                          0                      0                      0   \n",
       "2                          0                      0                      0   \n",
       "3                          0                      0                      0   \n",
       "4                          0                      0                      0   \n",
       "...                      ...                    ...                    ...   \n",
       "30619                      0                      0                      0   \n",
       "30620                      0                      0                      0   \n",
       "30621                      0                      0                      0   \n",
       "30622                      0                      0                      0   \n",
       "30623                      0                      0                      0   \n",
       "\n",
       "      ohe__postal_code_93120 ohe__postal_code_93130 ohe__postal_code_93140  \\\n",
       "0                          0                      0                      0   \n",
       "1                          0                      1                      0   \n",
       "2                          0                      0                      0   \n",
       "3                          0                      0                      0   \n",
       "4                          0                      0                      0   \n",
       "...                      ...                    ...                    ...   \n",
       "30619                      0                      0                      0   \n",
       "30620                      0                      0                      0   \n",
       "30621                      0                      0                      0   \n",
       "30622                      0                      0                      0   \n",
       "30623                      0                      0                      0   \n",
       "\n",
       "      ohe__postal_code_93150 ohe__postal_code_93160 ohe__postal_code_93170  \\\n",
       "0                          0                      0                      1   \n",
       "1                          0                      0                      0   \n",
       "2                          0                      0                      0   \n",
       "3                          0                      0                      0   \n",
       "4                          0                      0                      0   \n",
       "...                      ...                    ...                    ...   \n",
       "30619                      0                      0                      0   \n",
       "30620                      0                      0                      0   \n",
       "30621                      0                      0                      0   \n",
       "30622                      0                      0                      0   \n",
       "30623                      0                      0                      0   \n",
       "\n",
       "      ohe__postal_code_93190  ... ohe__property_type_Maison      tar__city  \\\n",
       "0                          0  ...                         0  324330.150761   \n",
       "1                          0  ...                         0  337644.229377   \n",
       "2                          0  ...                         0  256913.694693   \n",
       "3                          0  ...                         0  328344.108852   \n",
       "4                          0  ...                         0  237236.544863   \n",
       "...                      ...  ...                       ...            ...   \n",
       "30619                      0  ...                         0   446217.08363   \n",
       "30620                      0  ...                         0  361586.943956   \n",
       "30621                      0  ...                         0   175536.89171   \n",
       "30622                      0  ...                         0  349586.117972   \n",
       "30623                      0  ...                         0  322294.488135   \n",
       "\n",
       "            date built     price number_of_rooms longitude   latitude  year  \\\n",
       "0     2021-01-04     1  483400.0             3.0  2.423187  48.858609  2021   \n",
       "1     2021-01-07     1  170000.0             2.0  2.465074  48.887137  2021   \n",
       "2     2021-01-06     1   55000.0             1.0  2.455386  48.914226  2021   \n",
       "3     2021-01-11     1  252000.0             2.0   2.44052  48.882042  2021   \n",
       "4     2021-01-11     1  151190.0             2.0  2.463303  48.913323  2021   \n",
       "...          ...   ...       ...             ...       ...        ...   ...   \n",
       "30619 2021-05-07     0  370000.0             3.0  2.344616   48.90748  2021   \n",
       "30620 2021-05-11     1  257500.0             2.0  2.347329  48.937029  2021   \n",
       "30621 2021-05-07     1  223000.0             4.0  2.379998  48.958582  2021   \n",
       "30622 2021-04-29     1  405000.0             4.0  2.348916  48.939137  2021   \n",
       "30623 2021-05-06     1  200000.0             3.0  2.386661  48.918338  2021   \n",
       "\n",
       "      living_area_scaled  \n",
       "0               0.157385  \n",
       "1               0.079903  \n",
       "2               0.041162  \n",
       "3               0.099274  \n",
       "4               0.106538  \n",
       "...                  ...  \n",
       "30619           0.140436  \n",
       "30620           0.171913  \n",
       "30621           0.171913  \n",
       "30622           0.186441  \n",
       "30623           0.113801  \n",
       "\n",
       "[30624 rows x 52 columns]"
      ]
     },
     "execution_count": 54,
     "metadata": {},
     "output_type": "execute_result"
    }
   ],
   "source": [
    "# Drop cells\n",
    "df_encoded = df_encoded.drop(columns='living_area')\n",
    "df_encoded"
   ]
  },
  {
   "cell_type": "markdown",
   "id": "9c2b160b",
   "metadata": {},
   "source": [
    "### Number of rooms"
   ]
  },
  {
   "cell_type": "code",
   "execution_count": 55,
   "id": "e4b72a83",
   "metadata": {},
   "outputs": [
    {
     "data": {
      "image/png": "[encoded data removed]",
      "text/plain": [
       "<Figure size 640x480 with 1 Axes>"
      ]
     },
     "metadata": {},
     "output_type": "display_data"
    }
   ],
   "source": [
    "sns.histplot(x='number_of_rooms', data=df_encoded);\n",
    "plt.show()"
   ]
  },
  {
   "cell_type": "code",
   "execution_count": 56,
   "id": "081034ff",
   "metadata": {},
   "outputs": [],
   "source": [
    "from sklearn.preprocessing import MinMaxScaler\n",
    "\n",
    "scaler = MinMaxScaler()\n",
    "df_encoded['number_of_rooms_scaled'] = scaler.fit_transform(df_encoded[['number_of_rooms']])"
   ]
  },
  {
   "cell_type": "code",
   "execution_count": 57,
   "id": "67a6ca66",
   "metadata": {},
   "outputs": [
    {
     "data": {
      "text/html": [
       "<div>\n",
       "<style scoped>\n",
       "    .dataframe tbody tr th:only-of-type {\n",
       "        vertical-align: middle;\n",
       "    }\n",
       "\n",
       "    .dataframe tbody tr th {\n",
       "        vertical-align: top;\n",
       "    }\n",
       "\n",
       "    .dataframe thead th {\n",
       "        text-align: right;\n",
       "    }\n",
       "</style>\n",
       "<table border=\"1\" class=\"dataframe\">\n",
       "  <thead>\n",
       "    <tr style=\"text-align: right;\">\n",
       "      <th></th>\n",
       "      <th>ohe__postal_code_93000</th>\n",
       "      <th>ohe__postal_code_93100</th>\n",
       "      <th>ohe__postal_code_93110</th>\n",
       "      <th>ohe__postal_code_93120</th>\n",
       "      <th>ohe__postal_code_93130</th>\n",
       "      <th>ohe__postal_code_93140</th>\n",
       "      <th>ohe__postal_code_93150</th>\n",
       "      <th>ohe__postal_code_93160</th>\n",
       "      <th>ohe__postal_code_93170</th>\n",
       "      <th>ohe__postal_code_93190</th>\n",
       "      <th>...</th>\n",
       "      <th>ohe__property_type_Maison</th>\n",
       "      <th>tar__city</th>\n",
       "      <th>date</th>\n",
       "      <th>built</th>\n",
       "      <th>price</th>\n",
       "      <th>longitude</th>\n",
       "      <th>latitude</th>\n",
       "      <th>year</th>\n",
       "      <th>living_area_scaled</th>\n",
       "      <th>number_of_rooms_scaled</th>\n",
       "    </tr>\n",
       "  </thead>\n",
       "  <tbody>\n",
       "    <tr>\n",
       "      <th>0</th>\n",
       "      <td>0</td>\n",
       "      <td>0</td>\n",
       "      <td>0</td>\n",
       "      <td>0</td>\n",
       "      <td>0</td>\n",
       "      <td>0</td>\n",
       "      <td>0</td>\n",
       "      <td>0</td>\n",
       "      <td>1</td>\n",
       "      <td>0</td>\n",
       "      <td>...</td>\n",
       "      <td>0</td>\n",
       "      <td>324330.150761</td>\n",
       "      <td>2021-01-04</td>\n",
       "      <td>1</td>\n",
       "      <td>483400.0</td>\n",
       "      <td>2.423187</td>\n",
       "      <td>48.858609</td>\n",
       "      <td>2021</td>\n",
       "      <td>0.157385</td>\n",
       "      <td>0.250000</td>\n",
       "    </tr>\n",
       "    <tr>\n",
       "      <th>1</th>\n",
       "      <td>0</td>\n",
       "      <td>0</td>\n",
       "      <td>0</td>\n",
       "      <td>0</td>\n",
       "      <td>1</td>\n",
       "      <td>0</td>\n",
       "      <td>0</td>\n",
       "      <td>0</td>\n",
       "      <td>0</td>\n",
       "      <td>0</td>\n",
       "      <td>...</td>\n",
       "      <td>0</td>\n",
       "      <td>337644.229377</td>\n",
       "      <td>2021-01-07</td>\n",
       "      <td>1</td>\n",
       "      <td>170000.0</td>\n",
       "      <td>2.465074</td>\n",
       "      <td>48.887137</td>\n",
       "      <td>2021</td>\n",
       "      <td>0.079903</td>\n",
       "      <td>0.166667</td>\n",
       "    </tr>\n",
       "    <tr>\n",
       "      <th>2</th>\n",
       "      <td>0</td>\n",
       "      <td>0</td>\n",
       "      <td>0</td>\n",
       "      <td>0</td>\n",
       "      <td>0</td>\n",
       "      <td>0</td>\n",
       "      <td>0</td>\n",
       "      <td>0</td>\n",
       "      <td>0</td>\n",
       "      <td>0</td>\n",
       "      <td>...</td>\n",
       "      <td>0</td>\n",
       "      <td>256913.694693</td>\n",
       "      <td>2021-01-06</td>\n",
       "      <td>1</td>\n",
       "      <td>55000.0</td>\n",
       "      <td>2.455386</td>\n",
       "      <td>48.914226</td>\n",
       "      <td>2021</td>\n",
       "      <td>0.041162</td>\n",
       "      <td>0.083333</td>\n",
       "    </tr>\n",
       "    <tr>\n",
       "      <th>3</th>\n",
       "      <td>0</td>\n",
       "      <td>0</td>\n",
       "      <td>0</td>\n",
       "      <td>0</td>\n",
       "      <td>0</td>\n",
       "      <td>0</td>\n",
       "      <td>0</td>\n",
       "      <td>0</td>\n",
       "      <td>0</td>\n",
       "      <td>0</td>\n",
       "      <td>...</td>\n",
       "      <td>0</td>\n",
       "      <td>328344.108852</td>\n",
       "      <td>2021-01-11</td>\n",
       "      <td>1</td>\n",
       "      <td>252000.0</td>\n",
       "      <td>2.44052</td>\n",
       "      <td>48.882042</td>\n",
       "      <td>2021</td>\n",
       "      <td>0.099274</td>\n",
       "      <td>0.166667</td>\n",
       "    </tr>\n",
       "    <tr>\n",
       "      <th>4</th>\n",
       "      <td>0</td>\n",
       "      <td>0</td>\n",
       "      <td>0</td>\n",
       "      <td>0</td>\n",
       "      <td>0</td>\n",
       "      <td>0</td>\n",
       "      <td>0</td>\n",
       "      <td>0</td>\n",
       "      <td>0</td>\n",
       "      <td>0</td>\n",
       "      <td>...</td>\n",
       "      <td>0</td>\n",
       "      <td>237236.544863</td>\n",
       "      <td>2021-01-11</td>\n",
       "      <td>1</td>\n",
       "      <td>151190.0</td>\n",
       "      <td>2.463303</td>\n",
       "      <td>48.913323</td>\n",
       "      <td>2021</td>\n",
       "      <td>0.106538</td>\n",
       "      <td>0.166667</td>\n",
       "    </tr>\n",
       "    <tr>\n",
       "      <th>...</th>\n",
       "      <td>...</td>\n",
       "      <td>...</td>\n",
       "      <td>...</td>\n",
       "      <td>...</td>\n",
       "      <td>...</td>\n",
       "      <td>...</td>\n",
       "      <td>...</td>\n",
       "      <td>...</td>\n",
       "      <td>...</td>\n",
       "      <td>...</td>\n",
       "      <td>...</td>\n",
       "      <td>...</td>\n",
       "      <td>...</td>\n",
       "      <td>...</td>\n",
       "      <td>...</td>\n",
       "      <td>...</td>\n",
       "      <td>...</td>\n",
       "      <td>...</td>\n",
       "      <td>...</td>\n",
       "      <td>...</td>\n",
       "      <td>...</td>\n",
       "    </tr>\n",
       "    <tr>\n",
       "      <th>30619</th>\n",
       "      <td>0</td>\n",
       "      <td>0</td>\n",
       "      <td>0</td>\n",
       "      <td>0</td>\n",
       "      <td>0</td>\n",
       "      <td>0</td>\n",
       "      <td>0</td>\n",
       "      <td>0</td>\n",
       "      <td>0</td>\n",
       "      <td>0</td>\n",
       "      <td>...</td>\n",
       "      <td>0</td>\n",
       "      <td>446217.08363</td>\n",
       "      <td>2021-05-07</td>\n",
       "      <td>0</td>\n",
       "      <td>370000.0</td>\n",
       "      <td>2.344616</td>\n",
       "      <td>48.90748</td>\n",
       "      <td>2021</td>\n",
       "      <td>0.140436</td>\n",
       "      <td>0.250000</td>\n",
       "    </tr>\n",
       "    <tr>\n",
       "      <th>30620</th>\n",
       "      <td>0</td>\n",
       "      <td>0</td>\n",
       "      <td>0</td>\n",
       "      <td>0</td>\n",
       "      <td>0</td>\n",
       "      <td>0</td>\n",
       "      <td>0</td>\n",
       "      <td>0</td>\n",
       "      <td>0</td>\n",
       "      <td>0</td>\n",
       "      <td>...</td>\n",
       "      <td>0</td>\n",
       "      <td>361586.943956</td>\n",
       "      <td>2021-05-11</td>\n",
       "      <td>1</td>\n",
       "      <td>257500.0</td>\n",
       "      <td>2.347329</td>\n",
       "      <td>48.937029</td>\n",
       "      <td>2021</td>\n",
       "      <td>0.171913</td>\n",
       "      <td>0.166667</td>\n",
       "    </tr>\n",
       "    <tr>\n",
       "      <th>30621</th>\n",
       "      <td>0</td>\n",
       "      <td>0</td>\n",
       "      <td>0</td>\n",
       "      <td>0</td>\n",
       "      <td>0</td>\n",
       "      <td>0</td>\n",
       "      <td>0</td>\n",
       "      <td>0</td>\n",
       "      <td>0</td>\n",
       "      <td>0</td>\n",
       "      <td>...</td>\n",
       "      <td>0</td>\n",
       "      <td>175536.89171</td>\n",
       "      <td>2021-05-07</td>\n",
       "      <td>1</td>\n",
       "      <td>223000.0</td>\n",
       "      <td>2.379998</td>\n",
       "      <td>48.958582</td>\n",
       "      <td>2021</td>\n",
       "      <td>0.171913</td>\n",
       "      <td>0.333333</td>\n",
       "    </tr>\n",
       "    <tr>\n",
       "      <th>30622</th>\n",
       "      <td>0</td>\n",
       "      <td>0</td>\n",
       "      <td>0</td>\n",
       "      <td>0</td>\n",
       "      <td>0</td>\n",
       "      <td>0</td>\n",
       "      <td>0</td>\n",
       "      <td>0</td>\n",
       "      <td>0</td>\n",
       "      <td>0</td>\n",
       "      <td>...</td>\n",
       "      <td>0</td>\n",
       "      <td>349586.117972</td>\n",
       "      <td>2021-04-29</td>\n",
       "      <td>1</td>\n",
       "      <td>405000.0</td>\n",
       "      <td>2.348916</td>\n",
       "      <td>48.939137</td>\n",
       "      <td>2021</td>\n",
       "      <td>0.186441</td>\n",
       "      <td>0.333333</td>\n",
       "    </tr>\n",
       "    <tr>\n",
       "      <th>30623</th>\n",
       "      <td>0</td>\n",
       "      <td>0</td>\n",
       "      <td>0</td>\n",
       "      <td>0</td>\n",
       "      <td>0</td>\n",
       "      <td>0</td>\n",
       "      <td>0</td>\n",
       "      <td>0</td>\n",
       "      <td>0</td>\n",
       "      <td>0</td>\n",
       "      <td>...</td>\n",
       "      <td>0</td>\n",
       "      <td>322294.488135</td>\n",
       "      <td>2021-05-06</td>\n",
       "      <td>1</td>\n",
       "      <td>200000.0</td>\n",
       "      <td>2.386661</td>\n",
       "      <td>48.918338</td>\n",
       "      <td>2021</td>\n",
       "      <td>0.113801</td>\n",
       "      <td>0.250000</td>\n",
       "    </tr>\n",
       "  </tbody>\n",
       "</table>\n",
       "<p>30624 rows × 52 columns</p>\n",
       "</div>"
      ],
      "text/plain": [
       "      ohe__postal_code_93000 ohe__postal_code_93100 ohe__postal_code_93110  \\\n",
       "0                          0                      0                      0   \n",
       "1                          0                      0                      0   \n",
       "2                          0                      0                      0   \n",
       "3                          0                      0                      0   \n",
       "4                          0                      0                      0   \n",
       "...                      ...                    ...                    ...   \n",
       "30619                      0                      0                      0   \n",
       "30620                      0                      0                      0   \n",
       "30621                      0                      0                      0   \n",
       "30622                      0                      0                      0   \n",
       "30623                      0                      0                      0   \n",
       "\n",
       "      ohe__postal_code_93120 ohe__postal_code_93130 ohe__postal_code_93140  \\\n",
       "0                          0                      0                      0   \n",
       "1                          0                      1                      0   \n",
       "2                          0                      0                      0   \n",
       "3                          0                      0                      0   \n",
       "4                          0                      0                      0   \n",
       "...                      ...                    ...                    ...   \n",
       "30619                      0                      0                      0   \n",
       "30620                      0                      0                      0   \n",
       "30621                      0                      0                      0   \n",
       "30622                      0                      0                      0   \n",
       "30623                      0                      0                      0   \n",
       "\n",
       "      ohe__postal_code_93150 ohe__postal_code_93160 ohe__postal_code_93170  \\\n",
       "0                          0                      0                      1   \n",
       "1                          0                      0                      0   \n",
       "2                          0                      0                      0   \n",
       "3                          0                      0                      0   \n",
       "4                          0                      0                      0   \n",
       "...                      ...                    ...                    ...   \n",
       "30619                      0                      0                      0   \n",
       "30620                      0                      0                      0   \n",
       "30621                      0                      0                      0   \n",
       "30622                      0                      0                      0   \n",
       "30623                      0                      0                      0   \n",
       "\n",
       "      ohe__postal_code_93190  ... ohe__property_type_Maison      tar__city  \\\n",
       "0                          0  ...                         0  324330.150761   \n",
       "1                          0  ...                         0  337644.229377   \n",
       "2                          0  ...                         0  256913.694693   \n",
       "3                          0  ...                         0  328344.108852   \n",
       "4                          0  ...                         0  237236.544863   \n",
       "...                      ...  ...                       ...            ...   \n",
       "30619                      0  ...                         0   446217.08363   \n",
       "30620                      0  ...                         0  361586.943956   \n",
       "30621                      0  ...                         0   175536.89171   \n",
       "30622                      0  ...                         0  349586.117972   \n",
       "30623                      0  ...                         0  322294.488135   \n",
       "\n",
       "            date built     price longitude   latitude  year  \\\n",
       "0     2021-01-04     1  483400.0  2.423187  48.858609  2021   \n",
       "1     2021-01-07     1  170000.0  2.465074  48.887137  2021   \n",
       "2     2021-01-06     1   55000.0  2.455386  48.914226  2021   \n",
       "3     2021-01-11     1  252000.0   2.44052  48.882042  2021   \n",
       "4     2021-01-11     1  151190.0  2.463303  48.913323  2021   \n",
       "...          ...   ...       ...       ...        ...   ...   \n",
       "30619 2021-05-07     0  370000.0  2.344616   48.90748  2021   \n",
       "30620 2021-05-11     1  257500.0  2.347329  48.937029  2021   \n",
       "30621 2021-05-07     1  223000.0  2.379998  48.958582  2021   \n",
       "30622 2021-04-29     1  405000.0  2.348916  48.939137  2021   \n",
       "30623 2021-05-06     1  200000.0  2.386661  48.918338  2021   \n",
       "\n",
       "      living_area_scaled number_of_rooms_scaled  \n",
       "0               0.157385               0.250000  \n",
       "1               0.079903               0.166667  \n",
       "2               0.041162               0.083333  \n",
       "3               0.099274               0.166667  \n",
       "4               0.106538               0.166667  \n",
       "...                  ...                    ...  \n",
       "30619           0.140436               0.250000  \n",
       "30620           0.171913               0.166667  \n",
       "30621           0.171913               0.333333  \n",
       "30622           0.186441               0.333333  \n",
       "30623           0.113801               0.250000  \n",
       "\n",
       "[30624 rows x 52 columns]"
      ]
     },
     "execution_count": 57,
     "metadata": {},
     "output_type": "execute_result"
    }
   ],
   "source": [
    "# Drop cells\n",
    "df_encoded = df_encoded.drop(columns='number_of_rooms')\n",
    "df_encoded"
   ]
  },
  {
   "cell_type": "code",
   "execution_count": 58,
   "id": "52923b58",
   "metadata": {},
   "outputs": [],
   "source": [
    "df_encoded['longitude_scaled'] = mm_scaler.fit_transform(df_encoded[['longitude']])\n",
    "df_encoded['latitude_scaled'] = mm_scaler.fit_transform(df_encoded[['latitude']])"
   ]
  },
  {
   "cell_type": "code",
   "execution_count": 59,
   "id": "4004db1c",
   "metadata": {},
   "outputs": [
    {
     "data": {
      "text/html": [
       "<div>\n",
       "<style scoped>\n",
       "    .dataframe tbody tr th:only-of-type {\n",
       "        vertical-align: middle;\n",
       "    }\n",
       "\n",
       "    .dataframe tbody tr th {\n",
       "        vertical-align: top;\n",
       "    }\n",
       "\n",
       "    .dataframe thead th {\n",
       "        text-align: right;\n",
       "    }\n",
       "</style>\n",
       "<table border=\"1\" class=\"dataframe\">\n",
       "  <thead>\n",
       "    <tr style=\"text-align: right;\">\n",
       "      <th></th>\n",
       "      <th>ohe__postal_code_93000</th>\n",
       "      <th>ohe__postal_code_93100</th>\n",
       "      <th>ohe__postal_code_93110</th>\n",
       "      <th>ohe__postal_code_93120</th>\n",
       "      <th>ohe__postal_code_93130</th>\n",
       "      <th>ohe__postal_code_93140</th>\n",
       "      <th>ohe__postal_code_93150</th>\n",
       "      <th>ohe__postal_code_93160</th>\n",
       "      <th>ohe__postal_code_93170</th>\n",
       "      <th>ohe__postal_code_93190</th>\n",
       "      <th>...</th>\n",
       "      <th>ohe__property_type_Maison</th>\n",
       "      <th>tar__city</th>\n",
       "      <th>date</th>\n",
       "      <th>built</th>\n",
       "      <th>price</th>\n",
       "      <th>year</th>\n",
       "      <th>living_area_scaled</th>\n",
       "      <th>number_of_rooms_scaled</th>\n",
       "      <th>longitude_scaled</th>\n",
       "      <th>latitude_scaled</th>\n",
       "    </tr>\n",
       "  </thead>\n",
       "  <tbody>\n",
       "    <tr>\n",
       "      <th>0</th>\n",
       "      <td>0</td>\n",
       "      <td>0</td>\n",
       "      <td>0</td>\n",
       "      <td>0</td>\n",
       "      <td>0</td>\n",
       "      <td>0</td>\n",
       "      <td>0</td>\n",
       "      <td>0</td>\n",
       "      <td>1</td>\n",
       "      <td>0</td>\n",
       "      <td>...</td>\n",
       "      <td>0</td>\n",
       "      <td>324330.150761</td>\n",
       "      <td>2021-01-04</td>\n",
       "      <td>1</td>\n",
       "      <td>483400.0</td>\n",
       "      <td>2021</td>\n",
       "      <td>0.157385</td>\n",
       "      <td>0.250000</td>\n",
       "      <td>0.435820</td>\n",
       "      <td>0.220272</td>\n",
       "    </tr>\n",
       "    <tr>\n",
       "      <th>1</th>\n",
       "      <td>0</td>\n",
       "      <td>0</td>\n",
       "      <td>0</td>\n",
       "      <td>0</td>\n",
       "      <td>1</td>\n",
       "      <td>0</td>\n",
       "      <td>0</td>\n",
       "      <td>0</td>\n",
       "      <td>0</td>\n",
       "      <td>0</td>\n",
       "      <td>...</td>\n",
       "      <td>0</td>\n",
       "      <td>337644.229377</td>\n",
       "      <td>2021-01-07</td>\n",
       "      <td>1</td>\n",
       "      <td>170000.0</td>\n",
       "      <td>2021</td>\n",
       "      <td>0.079903</td>\n",
       "      <td>0.166667</td>\n",
       "      <td>0.573234</td>\n",
       "      <td>0.398423</td>\n",
       "    </tr>\n",
       "    <tr>\n",
       "      <th>2</th>\n",
       "      <td>0</td>\n",
       "      <td>0</td>\n",
       "      <td>0</td>\n",
       "      <td>0</td>\n",
       "      <td>0</td>\n",
       "      <td>0</td>\n",
       "      <td>0</td>\n",
       "      <td>0</td>\n",
       "      <td>0</td>\n",
       "      <td>0</td>\n",
       "      <td>...</td>\n",
       "      <td>0</td>\n",
       "      <td>256913.694693</td>\n",
       "      <td>2021-01-06</td>\n",
       "      <td>1</td>\n",
       "      <td>55000.0</td>\n",
       "      <td>2021</td>\n",
       "      <td>0.041162</td>\n",
       "      <td>0.083333</td>\n",
       "      <td>0.541452</td>\n",
       "      <td>0.567587</td>\n",
       "    </tr>\n",
       "    <tr>\n",
       "      <th>3</th>\n",
       "      <td>0</td>\n",
       "      <td>0</td>\n",
       "      <td>0</td>\n",
       "      <td>0</td>\n",
       "      <td>0</td>\n",
       "      <td>0</td>\n",
       "      <td>0</td>\n",
       "      <td>0</td>\n",
       "      <td>0</td>\n",
       "      <td>0</td>\n",
       "      <td>...</td>\n",
       "      <td>0</td>\n",
       "      <td>328344.108852</td>\n",
       "      <td>2021-01-11</td>\n",
       "      <td>1</td>\n",
       "      <td>252000.0</td>\n",
       "      <td>2021</td>\n",
       "      <td>0.099274</td>\n",
       "      <td>0.166667</td>\n",
       "      <td>0.492683</td>\n",
       "      <td>0.366605</td>\n",
       "    </tr>\n",
       "    <tr>\n",
       "      <th>4</th>\n",
       "      <td>0</td>\n",
       "      <td>0</td>\n",
       "      <td>0</td>\n",
       "      <td>0</td>\n",
       "      <td>0</td>\n",
       "      <td>0</td>\n",
       "      <td>0</td>\n",
       "      <td>0</td>\n",
       "      <td>0</td>\n",
       "      <td>0</td>\n",
       "      <td>...</td>\n",
       "      <td>0</td>\n",
       "      <td>237236.544863</td>\n",
       "      <td>2021-01-11</td>\n",
       "      <td>1</td>\n",
       "      <td>151190.0</td>\n",
       "      <td>2021</td>\n",
       "      <td>0.106538</td>\n",
       "      <td>0.166667</td>\n",
       "      <td>0.567424</td>\n",
       "      <td>0.561948</td>\n",
       "    </tr>\n",
       "    <tr>\n",
       "      <th>...</th>\n",
       "      <td>...</td>\n",
       "      <td>...</td>\n",
       "      <td>...</td>\n",
       "      <td>...</td>\n",
       "      <td>...</td>\n",
       "      <td>...</td>\n",
       "      <td>...</td>\n",
       "      <td>...</td>\n",
       "      <td>...</td>\n",
       "      <td>...</td>\n",
       "      <td>...</td>\n",
       "      <td>...</td>\n",
       "      <td>...</td>\n",
       "      <td>...</td>\n",
       "      <td>...</td>\n",
       "      <td>...</td>\n",
       "      <td>...</td>\n",
       "      <td>...</td>\n",
       "      <td>...</td>\n",
       "      <td>...</td>\n",
       "      <td>...</td>\n",
       "    </tr>\n",
       "    <tr>\n",
       "      <th>30619</th>\n",
       "      <td>0</td>\n",
       "      <td>0</td>\n",
       "      <td>0</td>\n",
       "      <td>0</td>\n",
       "      <td>0</td>\n",
       "      <td>0</td>\n",
       "      <td>0</td>\n",
       "      <td>0</td>\n",
       "      <td>0</td>\n",
       "      <td>0</td>\n",
       "      <td>...</td>\n",
       "      <td>0</td>\n",
       "      <td>446217.08363</td>\n",
       "      <td>2021-05-07</td>\n",
       "      <td>0</td>\n",
       "      <td>370000.0</td>\n",
       "      <td>2021</td>\n",
       "      <td>0.140436</td>\n",
       "      <td>0.250000</td>\n",
       "      <td>0.178061</td>\n",
       "      <td>0.525460</td>\n",
       "    </tr>\n",
       "    <tr>\n",
       "      <th>30620</th>\n",
       "      <td>0</td>\n",
       "      <td>0</td>\n",
       "      <td>0</td>\n",
       "      <td>0</td>\n",
       "      <td>0</td>\n",
       "      <td>0</td>\n",
       "      <td>0</td>\n",
       "      <td>0</td>\n",
       "      <td>0</td>\n",
       "      <td>0</td>\n",
       "      <td>...</td>\n",
       "      <td>0</td>\n",
       "      <td>361586.943956</td>\n",
       "      <td>2021-05-11</td>\n",
       "      <td>1</td>\n",
       "      <td>257500.0</td>\n",
       "      <td>2021</td>\n",
       "      <td>0.171913</td>\n",
       "      <td>0.166667</td>\n",
       "      <td>0.186961</td>\n",
       "      <td>0.709987</td>\n",
       "    </tr>\n",
       "    <tr>\n",
       "      <th>30621</th>\n",
       "      <td>0</td>\n",
       "      <td>0</td>\n",
       "      <td>0</td>\n",
       "      <td>0</td>\n",
       "      <td>0</td>\n",
       "      <td>0</td>\n",
       "      <td>0</td>\n",
       "      <td>0</td>\n",
       "      <td>0</td>\n",
       "      <td>0</td>\n",
       "      <td>...</td>\n",
       "      <td>0</td>\n",
       "      <td>175536.89171</td>\n",
       "      <td>2021-05-07</td>\n",
       "      <td>1</td>\n",
       "      <td>223000.0</td>\n",
       "      <td>2021</td>\n",
       "      <td>0.171913</td>\n",
       "      <td>0.333333</td>\n",
       "      <td>0.294135</td>\n",
       "      <td>0.844580</td>\n",
       "    </tr>\n",
       "    <tr>\n",
       "      <th>30622</th>\n",
       "      <td>0</td>\n",
       "      <td>0</td>\n",
       "      <td>0</td>\n",
       "      <td>0</td>\n",
       "      <td>0</td>\n",
       "      <td>0</td>\n",
       "      <td>0</td>\n",
       "      <td>0</td>\n",
       "      <td>0</td>\n",
       "      <td>0</td>\n",
       "      <td>...</td>\n",
       "      <td>0</td>\n",
       "      <td>349586.117972</td>\n",
       "      <td>2021-04-29</td>\n",
       "      <td>1</td>\n",
       "      <td>405000.0</td>\n",
       "      <td>2021</td>\n",
       "      <td>0.186441</td>\n",
       "      <td>0.333333</td>\n",
       "      <td>0.192167</td>\n",
       "      <td>0.723151</td>\n",
       "    </tr>\n",
       "    <tr>\n",
       "      <th>30623</th>\n",
       "      <td>0</td>\n",
       "      <td>0</td>\n",
       "      <td>0</td>\n",
       "      <td>0</td>\n",
       "      <td>0</td>\n",
       "      <td>0</td>\n",
       "      <td>0</td>\n",
       "      <td>0</td>\n",
       "      <td>0</td>\n",
       "      <td>0</td>\n",
       "      <td>...</td>\n",
       "      <td>0</td>\n",
       "      <td>322294.488135</td>\n",
       "      <td>2021-05-06</td>\n",
       "      <td>1</td>\n",
       "      <td>200000.0</td>\n",
       "      <td>2021</td>\n",
       "      <td>0.113801</td>\n",
       "      <td>0.250000</td>\n",
       "      <td>0.315993</td>\n",
       "      <td>0.593266</td>\n",
       "    </tr>\n",
       "  </tbody>\n",
       "</table>\n",
       "<p>30624 rows × 52 columns</p>\n",
       "</div>"
      ],
      "text/plain": [
       "      ohe__postal_code_93000 ohe__postal_code_93100 ohe__postal_code_93110  \\\n",
       "0                          0                      0                      0   \n",
       "1                          0                      0                      0   \n",
       "2                          0                      0                      0   \n",
       "3                          0                      0                      0   \n",
       "4                          0                      0                      0   \n",
       "...                      ...                    ...                    ...   \n",
       "30619                      0                      0                      0   \n",
       "30620                      0                      0                      0   \n",
       "30621                      0                      0                      0   \n",
       "30622                      0                      0                      0   \n",
       "30623                      0                      0                      0   \n",
       "\n",
       "      ohe__postal_code_93120 ohe__postal_code_93130 ohe__postal_code_93140  \\\n",
       "0                          0                      0                      0   \n",
       "1                          0                      1                      0   \n",
       "2                          0                      0                      0   \n",
       "3                          0                      0                      0   \n",
       "4                          0                      0                      0   \n",
       "...                      ...                    ...                    ...   \n",
       "30619                      0                      0                      0   \n",
       "30620                      0                      0                      0   \n",
       "30621                      0                      0                      0   \n",
       "30622                      0                      0                      0   \n",
       "30623                      0                      0                      0   \n",
       "\n",
       "      ohe__postal_code_93150 ohe__postal_code_93160 ohe__postal_code_93170  \\\n",
       "0                          0                      0                      1   \n",
       "1                          0                      0                      0   \n",
       "2                          0                      0                      0   \n",
       "3                          0                      0                      0   \n",
       "4                          0                      0                      0   \n",
       "...                      ...                    ...                    ...   \n",
       "30619                      0                      0                      0   \n",
       "30620                      0                      0                      0   \n",
       "30621                      0                      0                      0   \n",
       "30622                      0                      0                      0   \n",
       "30623                      0                      0                      0   \n",
       "\n",
       "      ohe__postal_code_93190  ... ohe__property_type_Maison      tar__city  \\\n",
       "0                          0  ...                         0  324330.150761   \n",
       "1                          0  ...                         0  337644.229377   \n",
       "2                          0  ...                         0  256913.694693   \n",
       "3                          0  ...                         0  328344.108852   \n",
       "4                          0  ...                         0  237236.544863   \n",
       "...                      ...  ...                       ...            ...   \n",
       "30619                      0  ...                         0   446217.08363   \n",
       "30620                      0  ...                         0  361586.943956   \n",
       "30621                      0  ...                         0   175536.89171   \n",
       "30622                      0  ...                         0  349586.117972   \n",
       "30623                      0  ...                         0  322294.488135   \n",
       "\n",
       "            date built     price  year living_area_scaled  \\\n",
       "0     2021-01-04     1  483400.0  2021           0.157385   \n",
       "1     2021-01-07     1  170000.0  2021           0.079903   \n",
       "2     2021-01-06     1   55000.0  2021           0.041162   \n",
       "3     2021-01-11     1  252000.0  2021           0.099274   \n",
       "4     2021-01-11     1  151190.0  2021           0.106538   \n",
       "...          ...   ...       ...   ...                ...   \n",
       "30619 2021-05-07     0  370000.0  2021           0.140436   \n",
       "30620 2021-05-11     1  257500.0  2021           0.171913   \n",
       "30621 2021-05-07     1  223000.0  2021           0.171913   \n",
       "30622 2021-04-29     1  405000.0  2021           0.186441   \n",
       "30623 2021-05-06     1  200000.0  2021           0.113801   \n",
       "\n",
       "      number_of_rooms_scaled longitude_scaled latitude_scaled  \n",
       "0                   0.250000         0.435820        0.220272  \n",
       "1                   0.166667         0.573234        0.398423  \n",
       "2                   0.083333         0.541452        0.567587  \n",
       "3                   0.166667         0.492683        0.366605  \n",
       "4                   0.166667         0.567424        0.561948  \n",
       "...                      ...              ...             ...  \n",
       "30619               0.250000         0.178061        0.525460  \n",
       "30620               0.166667         0.186961        0.709987  \n",
       "30621               0.333333         0.294135        0.844580  \n",
       "30622               0.333333         0.192167        0.723151  \n",
       "30623               0.250000         0.315993        0.593266  \n",
       "\n",
       "[30624 rows x 52 columns]"
      ]
     },
     "execution_count": 59,
     "metadata": {},
     "output_type": "execute_result"
    }
   ],
   "source": [
    "df_encoded.drop(columns=['longitude', 'latitude'])"
   ]
  },
  {
   "cell_type": "code",
   "execution_count": 60,
   "id": "83de7ac0",
   "metadata": {},
   "outputs": [
    {
     "data": {
      "text/plain": [
       "date               0\n",
       "built              0\n",
       "price              0\n",
       "postal_code        0\n",
       "city               0\n",
       "property_type      0\n",
       "living_area        0\n",
       "number_of_rooms    0\n",
       "longitude          0\n",
       "latitude           0\n",
       "year               0\n",
       "dtype: int64"
      ]
     },
     "execution_count": 60,
     "metadata": {},
     "output_type": "execute_result"
    }
   ],
   "source": [
    "#Check for NaNs after encoding\n",
    "df_useful.isna().sum()"
   ]
  },
  {
   "cell_type": "code",
   "execution_count": 61,
   "id": "7d1241ef",
   "metadata": {},
   "outputs": [
    {
     "name": "stdout",
     "output_type": "stream",
     "text": [
      "<class 'pandas.core.frame.DataFrame'>\n",
      "RangeIndex: 30624 entries, 0 to 30623\n",
      "Data columns (total 54 columns):\n",
      " #   Column                          Non-Null Count  Dtype         \n",
      "---  ------                          --------------  -----         \n",
      " 0   ohe__postal_code_93000          30624 non-null  object        \n",
      " 1   ohe__postal_code_93100          30624 non-null  object        \n",
      " 2   ohe__postal_code_93110          30624 non-null  object        \n",
      " 3   ohe__postal_code_93120          30624 non-null  object        \n",
      " 4   ohe__postal_code_93130          30624 non-null  object        \n",
      " 5   ohe__postal_code_93140          30624 non-null  object        \n",
      " 6   ohe__postal_code_93150          30624 non-null  object        \n",
      " 7   ohe__postal_code_93160          30624 non-null  object        \n",
      " 8   ohe__postal_code_93170          30624 non-null  object        \n",
      " 9   ohe__postal_code_93190          30624 non-null  object        \n",
      " 10  ohe__postal_code_93200          30624 non-null  object        \n",
      " 11  ohe__postal_code_93210          30624 non-null  object        \n",
      " 12  ohe__postal_code_93220          30624 non-null  object        \n",
      " 13  ohe__postal_code_93230          30624 non-null  object        \n",
      " 14  ohe__postal_code_93240          30624 non-null  object        \n",
      " 15  ohe__postal_code_93250          30624 non-null  object        \n",
      " 16  ohe__postal_code_93260          30624 non-null  object        \n",
      " 17  ohe__postal_code_93270          30624 non-null  object        \n",
      " 18  ohe__postal_code_93290          30624 non-null  object        \n",
      " 19  ohe__postal_code_93300          30624 non-null  object        \n",
      " 20  ohe__postal_code_93310          30624 non-null  object        \n",
      " 21  ohe__postal_code_93320          30624 non-null  object        \n",
      " 22  ohe__postal_code_93330          30624 non-null  object        \n",
      " 23  ohe__postal_code_93340          30624 non-null  object        \n",
      " 24  ohe__postal_code_93350          30624 non-null  object        \n",
      " 25  ohe__postal_code_93360          30624 non-null  object        \n",
      " 26  ohe__postal_code_93370          30624 non-null  object        \n",
      " 27  ohe__postal_code_93380          30624 non-null  object        \n",
      " 28  ohe__postal_code_93390          30624 non-null  object        \n",
      " 29  ohe__postal_code_93400          30624 non-null  object        \n",
      " 30  ohe__postal_code_93410          30624 non-null  object        \n",
      " 31  ohe__postal_code_93420          30624 non-null  object        \n",
      " 32  ohe__postal_code_93430          30624 non-null  object        \n",
      " 33  ohe__postal_code_93440          30624 non-null  object        \n",
      " 34  ohe__postal_code_93450          30624 non-null  object        \n",
      " 35  ohe__postal_code_93460          30624 non-null  object        \n",
      " 36  ohe__postal_code_93470          30624 non-null  object        \n",
      " 37  ohe__postal_code_93500          30624 non-null  object        \n",
      " 38  ohe__postal_code_93600          30624 non-null  object        \n",
      " 39  ohe__postal_code_93700          30624 non-null  object        \n",
      " 40  ohe__postal_code_93800          30624 non-null  object        \n",
      " 41  ohe__property_type_Appartement  30624 non-null  object        \n",
      " 42  ohe__property_type_Maison       30624 non-null  object        \n",
      " 43  tar__city                       30624 non-null  object        \n",
      " 44  date                            30624 non-null  datetime64[ns]\n",
      " 45  built                           30624 non-null  object        \n",
      " 46  price                           30624 non-null  object        \n",
      " 47  longitude                       30624 non-null  object        \n",
      " 48  latitude                        30624 non-null  object        \n",
      " 49  year                            30624 non-null  object        \n",
      " 50  living_area_scaled              30624 non-null  float64       \n",
      " 51  number_of_rooms_scaled          30624 non-null  float64       \n",
      " 52  longitude_scaled                30624 non-null  float64       \n",
      " 53  latitude_scaled                 30624 non-null  float64       \n",
      "dtypes: datetime64[ns](1), float64(4), object(49)\n",
      "memory usage: 12.6+ MB\n"
     ]
    }
   ],
   "source": [
    "df_encoded.info()"
   ]
  },
  {
   "cell_type": "markdown",
   "id": "4a339590",
   "metadata": {},
   "source": [
    "# 🐝 Model"
   ]
  },
  {
   "cell_type": "code",
   "execution_count": 62,
   "id": "68d266e1",
   "metadata": {},
   "outputs": [],
   "source": [
    "%load_ext autoreload\n",
    "%autoreload 2"
   ]
  },
  {
   "cell_type": "code",
   "execution_count": 63,
   "id": "0d574ee1",
   "metadata": {},
   "outputs": [],
   "source": [
    "# Import modules\n",
    "import pandas as pd\n",
    "import numpy as np\n",
    "import seaborn as sns\n",
    "import matplotlib.pyplot as plt"
   ]
  },
  {
   "cell_type": "markdown",
   "id": "b1ab036a",
   "metadata": {},
   "source": [
    "## Data"
   ]
  },
  {
   "cell_type": "code",
   "execution_count": 1,
   "id": "d9238d25",
   "metadata": {},
   "outputs": [],
   "source": [
    "%load_ext autoreload\n",
    "%autoreload 2"
   ]
  },
  {
   "cell_type": "code",
   "execution_count": 2,
   "id": "912bd9e4",
   "metadata": {},
   "outputs": [],
   "source": [
    "import sys\n",
    "\n",
    "#pass the data through clean data function\n",
    "sys.path.append('/home/daniela/code/qadnguyen/realdata/prop_value')\n",
    "from ml_logic.preprocessor import clean_data, preprocess_data"
   ]
  },
  {
   "cell_type": "code",
   "execution_count": 3,
   "id": "92068f51",
   "metadata": {},
   "outputs": [
    {
     "ename": "NameError",
     "evalue": "name 'pd' is not defined",
     "output_type": "error",
     "traceback": [
      "\u001b[0;31m---------------------------------------------------------------------------\u001b[0m",
      "\u001b[0;31mNameError\u001b[0m                                 Traceback (most recent call last)",
      "Cell \u001b[0;32mIn[3], line 1\u001b[0m\n\u001b[0;32m----> 1\u001b[0m df\u001b[38;5;241m=\u001b[39m\u001b[43mpd\u001b[49m\u001b[38;5;241m.\u001b[39mread_csv(\u001b[38;5;124m'\u001b[39m\u001b[38;5;124m../raw_data/dvf_93.csv\u001b[39m\u001b[38;5;124m'\u001b[39m)\n",
      "\u001b[0;31mNameError\u001b[0m: name 'pd' is not defined"
     ]
    }
   ],
   "source": [
    "df=pd.read_csv('../raw_data/dvf_93.csv')"
   ]
  },
  {
   "cell_type": "code",
   "execution_count": 10,
   "id": "5414b98d",
   "metadata": {},
   "outputs": [],
   "source": [
    "sorted_df = df['code_postal'].astype('str')"
   ]
  },
  {
   "cell_type": "code",
   "execution_count": 11,
   "id": "793d7d23",
   "metadata": {},
   "outputs": [
    {
     "data": {
      "text/plain": [
       "110715    93000\n",
       "57897     93000\n",
       "57898     93000\n",
       "57899     93000\n",
       "57900     93000\n",
       "          ...  \n",
       "139189      nan\n",
       "139188      nan\n",
       "139187      nan\n",
       "139373      nan\n",
       "0           nan\n",
       "Name: code_postal, Length: 271360, dtype: object"
      ]
     },
     "execution_count": 11,
     "metadata": {},
     "output_type": "execute_result"
    }
   ],
   "source": [
    "sorted_df.sort_values()"
   ]
  },
  {
   "cell_type": "code",
   "execution_count": 27,
   "id": "687c53d9",
   "metadata": {},
   "outputs": [
    {
     "name": "stdout",
     "output_type": "stream",
     "text": [
      "Before transforming to integers\n",
      "After transforming to integers\n",
      "Warning: No categorical columns found. Calling 'transform' will only return input data.\n"
     ]
    }
   ],
   "source": [
    "import pandas as pd\n",
    "df=pd.read_csv('../raw_data/dvf_93.csv')\n",
    "cleaned_df = clean_data(df)\n",
    "processed_df= preprocess_data(cleaned_df)"
   ]
  },
  {
   "cell_type": "code",
   "execution_count": 28,
   "id": "3bfc4702",
   "metadata": {},
   "outputs": [
    {
     "data": {
      "text/plain": [
       "0        93000\n",
       "1        93000\n",
       "2        93000\n",
       "3        93000\n",
       "5        93000\n",
       "         ...  \n",
       "41405    93800\n",
       "41406    93800\n",
       "41407    93800\n",
       "41408    93800\n",
       "41409    93800\n",
       "Name: postal_code, Length: 39318, dtype: int64"
      ]
     },
     "execution_count": 28,
     "metadata": {},
     "output_type": "execute_result"
    }
   ],
   "source": [
    "cleaned_df['postal_code']"
   ]
  },
  {
   "cell_type": "code",
   "execution_count": 29,
   "id": "02309ad1",
   "metadata": {},
   "outputs": [
    {
     "data": {
      "text/plain": [
       "array([93008, 93048, 93064, 93027, 93053, 93010, 93007, 93051, 93006,\n",
       "       93046, 93066, 93032, 93063, 93072, 93077, 93045, 93071, 93073,\n",
       "       93001, 93061, 93057, 93050, 93062, 93013, 93049, 93047, 93059,\n",
       "       93014, 93070, 93074, 93078, 93079, 93030, 93039, 93033, 93015,\n",
       "       93055, 93005, 93029, 93031])"
      ]
     },
     "execution_count": 29,
     "metadata": {},
     "output_type": "execute_result"
    }
   ],
   "source": [
    "cleaned_df['city'].unique()"
   ]
  },
  {
   "cell_type": "code",
   "execution_count": 92,
   "id": "bd404e4b",
   "metadata": {},
   "outputs": [
    {
     "name": "stdout",
     "output_type": "stream",
     "text": [
      "Duplicate cities detected in the dictionary.\n"
     ]
    }
   ],
   "source": [
    "cleaned_df.sample(5)\n",
    "\n",
    "codes_df = cleaned_df[['postal_code', 'city']]\n",
    "\n",
    "# Create dictionary\n",
    "codes_dict = dict(zip(cleaned_df['postal_code'], cleaned_df['city']))\n",
    "\n",
    "# Convert values to a list\n",
    "city_values = list(codes_dict.values())\n",
    "pc_values = list(codes_dict.keys())\n",
    "\n",
    "# Check for duplicate cities\n",
    "duplicate_cities = any(city_values.count(city) > 1 for city in set(city_values))\n",
    "duplicate_pc = any(pc_values.count(postcode) > 1 for postcode in set(pc_values))\n",
    "\n",
    "# Print warning if duplicates are found\n",
    "if duplicate_cities:\n",
    "    print(\"Duplicate cities detected in the dictionary.\")\n",
    "\n",
    "if duplicate_pc:\n",
    "    print(\"Duplicate post codes detected in the dictionary.\")\n",
    "\n",
    "# Check if each postal code corresponds to only one city\n",
    "unique_postal_codes = codes_df['postal_code'].unique()\n",
    "\n",
    "for postal_code in unique_postal_codes:\n",
    "    cities_for_postal_code = codes_df[codes_df['postal_code'] == postal_code]['city'].unique()\n",
    "\n",
    "    if len(cities_for_postal_code) > 1:\n",
    "        print(f\"Postal code {postal_code} corresponds to multiple cities: {cities_for_postal_code}\")"
   ]
  },
  {
   "cell_type": "code",
   "execution_count": 93,
   "id": "83c64fa6",
   "metadata": {},
   "outputs": [],
   "source": [
    "import pickle\n",
    "# Write dictionary to pickle\n",
    "with open('codes_dict.pkl', 'wb') as file:\n",
    "    pickle.dump(codes_dict, file)"
   ]
  },
  {
   "cell_type": "code",
   "execution_count": 94,
   "id": "841e53aa",
   "metadata": {},
   "outputs": [],
   "source": [
    "with open('codes_dict.pkl', 'rb') as file:\n",
    "    loaded_dict = pickle.load(file)"
   ]
  },
  {
   "cell_type": "code",
   "execution_count": 71,
   "id": "71ae1489",
   "metadata": {},
   "outputs": [
    {
     "data": {
      "text/plain": [
       "{93000.0: 93008,\n",
       " 93100.0: 93048,\n",
       " 93110.0: 93064,\n",
       " 93120.0: 93027,\n",
       " 93130.0: 93053,\n",
       " 93140.0: 93010,\n",
       " 93150.0: 93007,\n",
       " 93160.0: 93051,\n",
       " 93170.0: 93006,\n",
       " 93190.0: 93046,\n",
       " 93200.0: 93066,\n",
       " 93210.0: 93066,\n",
       " 93220.0: 93032,\n",
       " 93230.0: 93063,\n",
       " 93240.0: 93072,\n",
       " 93250.0: 93077,\n",
       " 93260.0: 93045,\n",
       " 93270.0: 93071,\n",
       " 93290.0: 93073,\n",
       " 93300.0: 93001,\n",
       " 93310.0: 93061,\n",
       " 93320.0: 93057,\n",
       " 93330.0: 93050,\n",
       " 93340.0: 93062,\n",
       " 93350.0: 93013,\n",
       " 93360.0: 93049,\n",
       " 93370.0: 93047,\n",
       " 93380.0: 93059,\n",
       " 93390.0: 93014,\n",
       " 93400.0: 93070,\n",
       " 93410.0: 93074,\n",
       " 93420.0: 93078,\n",
       " 93430.0: 93079,\n",
       " 93440.0: 93030,\n",
       " 93450.0: 93039,\n",
       " 93460.0: 93033,\n",
       " 93470.0: 93015,\n",
       " 93500.0: 93055,\n",
       " 93600.0: 93005,\n",
       " 93700.0: 93029,\n",
       " 93800.0: 93031}"
      ]
     },
     "execution_count": 71,
     "metadata": {},
     "output_type": "execute_result"
    }
   ],
   "source": [
    "loaded_dict"
   ]
  },
  {
   "cell_type": "code",
   "execution_count": 72,
   "id": "c7957754",
   "metadata": {},
   "outputs": [
    {
     "data": {
      "text/plain": [
       "{93000.0: 93008,\n",
       " 93100.0: 93048,\n",
       " 93110.0: 93064,\n",
       " 93120.0: 93027,\n",
       " 93130.0: 93053,\n",
       " 93140.0: 93010,\n",
       " 93150.0: 93007,\n",
       " 93160.0: 93051,\n",
       " 93170.0: 93006,\n",
       " 93190.0: 93046,\n",
       " 93200.0: 93066,\n",
       " 93210.0: 93066,\n",
       " 93220.0: 93032,\n",
       " 93230.0: 93063,\n",
       " 93240.0: 93072,\n",
       " 93250.0: 93077,\n",
       " 93260.0: 93045,\n",
       " 93270.0: 93071,\n",
       " 93290.0: 93073,\n",
       " 93300.0: 93001,\n",
       " 93310.0: 93061,\n",
       " 93320.0: 93057,\n",
       " 93330.0: 93050,\n",
       " 93340.0: 93062,\n",
       " 93350.0: 93013,\n",
       " 93360.0: 93049,\n",
       " 93370.0: 93047,\n",
       " 93380.0: 93059,\n",
       " 93390.0: 93014,\n",
       " 93400.0: 93070,\n",
       " 93410.0: 93074,\n",
       " 93420.0: 93078,\n",
       " 93430.0: 93079,\n",
       " 93440.0: 93030,\n",
       " 93450.0: 93039,\n",
       " 93460.0: 93033,\n",
       " 93470.0: 93015,\n",
       " 93500.0: 93055,\n",
       " 93600.0: 93005,\n",
       " 93700.0: 93029,\n",
       " 93800.0: 93031}"
      ]
     },
     "execution_count": 72,
     "metadata": {},
     "output_type": "execute_result"
    }
   ],
   "source": [
    "codes_dict"
   ]
  },
  {
   "cell_type": "code",
   "execution_count": 73,
   "id": "acc28783",
   "metadata": {},
   "outputs": [
    {
     "name": "stdout",
     "output_type": "stream",
     "text": [
      "Warning: No categorical columns found. Calling 'transform' will only return input data.\n"
     ]
    }
   ],
   "source": [
    "X_train_preproc, X_test_preproc, y_train, y_test, X_all, y_all, df_full = preprocess_data(cleaned_df)"
   ]
  },
  {
   "cell_type": "markdown",
   "id": "0da9c53c",
   "metadata": {},
   "source": [
    "### Remove Year, Date as long time stamp is not encoded and tar__city due to dependency"
   ]
  },
  {
   "cell_type": "code",
   "execution_count": 74,
   "id": "9a2a3541",
   "metadata": {},
   "outputs": [],
   "source": [
    "data = df_encoded\n",
    "data = data.drop(columns=['date', 'year', 'tar__city'])"
   ]
  },
  {
   "cell_type": "markdown",
   "id": "39b333d9",
   "metadata": {},
   "source": [
    "### Chnage postal code columns from object to integer"
   ]
  },
  {
   "cell_type": "code",
   "execution_count": 75,
   "id": "987b09ba",
   "metadata": {},
   "outputs": [],
   "source": [
    "# Identify columns with the specified prefix\n",
    "columns_to_change = [col for col in data.columns if col.startswith('ohe__postal_code_')]\n",
    "\n",
    "# Change dtype for the selected columns\n",
    "data[columns_to_change] = data[columns_to_change].astype(int)"
   ]
  },
  {
   "cell_type": "markdown",
   "id": "7cf058af",
   "metadata": {},
   "source": [
    "### Split data into X and y"
   ]
  },
  {
   "cell_type": "code",
   "execution_count": 76,
   "id": "52c2e6ea",
   "metadata": {},
   "outputs": [],
   "source": [
    "#Data is called df_dvf, to be renamed into data\n",
    "data['price'] = data['price'].astype(int)\n",
    "\n",
    "X = data.drop(columns='price')\n",
    "y = data['price']"
   ]
  },
  {
   "cell_type": "code",
   "execution_count": 77,
   "id": "a050ea9f",
   "metadata": {},
   "outputs": [
    {
     "data": {
      "text/plain": [
       "Index(['ohe__postal_code_93000', 'ohe__postal_code_93100',\n",
       "       'ohe__postal_code_93110', 'ohe__postal_code_93120',\n",
       "       'ohe__postal_code_93130', 'ohe__postal_code_93140',\n",
       "       'ohe__postal_code_93150', 'ohe__postal_code_93160',\n",
       "       'ohe__postal_code_93170', 'ohe__postal_code_93190',\n",
       "       'ohe__postal_code_93200', 'ohe__postal_code_93210',\n",
       "       'ohe__postal_code_93220', 'ohe__postal_code_93230',\n",
       "       'ohe__postal_code_93240', 'ohe__postal_code_93250',\n",
       "       'ohe__postal_code_93260', 'ohe__postal_code_93270',\n",
       "       'ohe__postal_code_93290', 'ohe__postal_code_93300',\n",
       "       'ohe__postal_code_93310', 'ohe__postal_code_93320',\n",
       "       'ohe__postal_code_93330', 'ohe__postal_code_93340',\n",
       "       'ohe__postal_code_93350', 'ohe__postal_code_93360',\n",
       "       'ohe__postal_code_93370', 'ohe__postal_code_93380',\n",
       "       'ohe__postal_code_93390', 'ohe__postal_code_93400',\n",
       "       'ohe__postal_code_93410', 'ohe__postal_code_93420',\n",
       "       'ohe__postal_code_93430', 'ohe__postal_code_93440',\n",
       "       'ohe__postal_code_93450', 'ohe__postal_code_93460',\n",
       "       'ohe__postal_code_93470', 'ohe__postal_code_93500',\n",
       "       'ohe__postal_code_93600', 'ohe__postal_code_93700',\n",
       "       'ohe__postal_code_93800', 'ohe__property_type_Appartement',\n",
       "       'ohe__property_type_Maison', 'built', 'price', 'longitude', 'latitude',\n",
       "       'living_area_scaled', 'number_of_rooms_scaled', 'longitude_scaled',\n",
       "       'latitude_scaled'],\n",
       "      dtype='object')"
      ]
     },
     "execution_count": 77,
     "metadata": {},
     "output_type": "execute_result"
    }
   ],
   "source": [
    "data.columns"
   ]
  },
  {
   "cell_type": "markdown",
   "id": "2209612c",
   "metadata": {},
   "source": [
    "## Correlation"
   ]
  },
  {
   "cell_type": "code",
   "execution_count": 78,
   "id": "a2255d73",
   "metadata": {},
   "outputs": [
    {
     "data": {
      "text/plain": [
       "<Axes: >"
      ]
     },
     "execution_count": 78,
     "metadata": {},
     "output_type": "execute_result"
    },
    {
     "data": {
      "image/png": "[encoded data removed]",
      "text/plain": [
       "<Figure size 1000x1000 with 2 Axes>"
      ]
     },
     "metadata": {},
     "output_type": "display_data"
    }
   ],
   "source": [
    "plt.figure(figsize = (10,10))\n",
    "\n",
    "sns.heatmap(\n",
    "    data[['ohe__property_type_Appartement',\n",
    "       'ohe__property_type_Maison', 'built', 'price',\n",
    "       'longitude', 'latitude', 'living_area_scaled',\n",
    "       'number_of_rooms_scaled', 'longitude_scaled', 'latitude_scaled']].corr(),\n",
    "    cmap = 'coolwarm',\n",
    "    annot = True,\n",
    "    annot_kws = {\"size\": 10}\n",
    ")"
   ]
  },
  {
   "cell_type": "markdown",
   "id": "e23d2784",
   "metadata": {},
   "source": [
    "## 🐧 Linear Regression"
   ]
  },
  {
   "cell_type": "code",
   "execution_count": 79,
   "id": "6dca67f5",
   "metadata": {},
   "outputs": [
    {
     "name": "stderr",
     "output_type": "stream",
     "text": [
      "No artists with labels found to put in legend.  Note that artists whose label start with an underscore are ignored when legend() is called with no argument.\n",
      "No artists with labels found to put in legend.  Note that artists whose label start with an underscore are ignored when legend() is called with no argument.\n"
     ]
    },
    {
     "data": {
      "image/png": "[encoded data removed]",
      "text/plain": [
       "<Figure size 1200x500 with 2 Axes>"
      ]
     },
     "metadata": {},
     "output_type": "display_data"
    }
   ],
   "source": [
    "import matplotlib.pyplot as plt\n",
    "\n",
    "fig, axs = plt.subplots(1, 2, figsize=(12, 5))  # 1 row, 2 columns\n",
    "\n",
    "filtered_data = data[data['ohe__property_type_Appartement'] == 1] #Apartment\n",
    "filtered_data2 = filtered_data[filtered_data['built'] == 1] #Apartments that are built\n",
    "\n",
    "# Plot Living area vs Sale price\n",
    "axs[0].scatter(filtered_data2['living_area_scaled'], filtered_data2['price'], alpha = 0.5)\n",
    "axs[0].set_title('Living Area vs Price')\n",
    "axs[0].set_ylabel('Price')\n",
    "axs[0].set_xlabel('Living Area')\n",
    "axs[0].legend()\n",
    "\n",
    "# Plot Number of rooms vs Sale price\n",
    "axs[1].scatter(filtered_data2['number_of_rooms_scaled'], filtered_data2['price'], alpha = 0.5)\n",
    "axs[1].set_title('Number of Rooms vs Price')\n",
    "axs[1].set_ylabel('Price')\n",
    "axs[1].set_xlabel('Number of Rooms')\n",
    "axs[1].legend()\n",
    "\n",
    "plt.show()"
   ]
  },
  {
   "cell_type": "markdown",
   "id": "360c410a",
   "metadata": {},
   "source": [
    "### Univariate Regression"
   ]
  },
  {
   "cell_type": "code",
   "execution_count": 80,
   "id": "e9c122c4",
   "metadata": {},
   "outputs": [
    {
     "name": "stdout",
     "output_type": "stream",
     "text": [
      "Requirement already satisfied: statsmodels in /home/daniela/.pyenv/versions/3.10.6/envs/realdata/lib/python3.10/site-packages (0.14.1)\n",
      "Requirement already satisfied: numpy<2,>=1.18 in /home/daniela/.pyenv/versions/3.10.6/envs/realdata/lib/python3.10/site-packages (from statsmodels) (1.26.4)\n",
      "Requirement already satisfied: scipy!=1.9.2,>=1.4 in /home/daniela/.pyenv/versions/3.10.6/envs/realdata/lib/python3.10/site-packages (from statsmodels) (1.12.0)\n",
      "Requirement already satisfied: pandas!=2.1.0,>=1.0 in /home/daniela/.pyenv/versions/3.10.6/envs/realdata/lib/python3.10/site-packages (from statsmodels) (2.2.0)\n",
      "Requirement already satisfied: patsy>=0.5.4 in /home/daniela/.pyenv/versions/3.10.6/envs/realdata/lib/python3.10/site-packages (from statsmodels) (0.5.6)\n",
      "Requirement already satisfied: packaging>=21.3 in /home/daniela/.pyenv/versions/3.10.6/envs/realdata/lib/python3.10/site-packages (from statsmodels) (23.2)\n",
      "Requirement already satisfied: python-dateutil>=2.8.2 in /home/daniela/.pyenv/versions/3.10.6/envs/realdata/lib/python3.10/site-packages (from pandas!=2.1.0,>=1.0->statsmodels) (2.8.2)\n",
      "Requirement already satisfied: pytz>=2020.1 in /home/daniela/.pyenv/versions/3.10.6/envs/realdata/lib/python3.10/site-packages (from pandas!=2.1.0,>=1.0->statsmodels) (2023.4)\n",
      "Requirement already satisfied: tzdata>=2022.7 in /home/daniela/.pyenv/versions/3.10.6/envs/realdata/lib/python3.10/site-packages (from pandas!=2.1.0,>=1.0->statsmodels) (2023.4)\n",
      "Requirement already satisfied: six in /home/daniela/.pyenv/versions/3.10.6/envs/realdata/lib/python3.10/site-packages (from patsy>=0.5.4->statsmodels) (1.16.0)\n",
      "Note: you may need to restart the kernel to use updated packages.\n"
     ]
    }
   ],
   "source": [
    "pip install statsmodels"
   ]
  },
  {
   "cell_type": "code",
   "execution_count": 81,
   "id": "3a44f49c",
   "metadata": {},
   "outputs": [
    {
     "data": {
      "text/html": [
       "<table class=\"simpletable\">\n",
       "<caption>OLS Regression Results</caption>\n",
       "<tr>\n",
       "  <th>Dep. Variable:</th>          <td>price</td>      <th>  R-squared:         </th>  <td>   0.009</td>  \n",
       "</tr>\n",
       "<tr>\n",
       "  <th>Model:</th>                   <td>OLS</td>       <th>  Adj. R-squared:    </th>  <td>   0.009</td>  \n",
       "</tr>\n",
       "<tr>\n",
       "  <th>Method:</th>             <td>Least Squares</td>  <th>  F-statistic:       </th>  <td>   263.8</td>  \n",
       "</tr>\n",
       "<tr>\n",
       "  <th>Date:</th>             <td>Fri, 09 Feb 2024</td> <th>  Prob (F-statistic):</th>  <td>4.52e-59</td>  \n",
       "</tr>\n",
       "<tr>\n",
       "  <th>Time:</th>                 <td>15:55:40</td>     <th>  Log-Likelihood:    </th> <td>-4.6568e+05</td>\n",
       "</tr>\n",
       "<tr>\n",
       "  <th>No. Observations:</th>      <td> 30624</td>      <th>  AIC:               </th>  <td>9.314e+05</td> \n",
       "</tr>\n",
       "<tr>\n",
       "  <th>Df Residuals:</th>          <td> 30622</td>      <th>  BIC:               </th>  <td>9.314e+05</td> \n",
       "</tr>\n",
       "<tr>\n",
       "  <th>Df Model:</th>              <td>     1</td>      <th>                     </th>      <td> </td>     \n",
       "</tr>\n",
       "<tr>\n",
       "  <th>Covariance Type:</th>      <td>nonrobust</td>    <th>                     </th>      <td> </td>     \n",
       "</tr>\n",
       "</table>\n",
       "<table class=\"simpletable\">\n",
       "<tr>\n",
       "           <td></td>             <th>coef</th>     <th>std err</th>      <th>t</th>      <th>P>|t|</th>  <th>[0.025</th>    <th>0.975]</th>  \n",
       "</tr>\n",
       "<tr>\n",
       "  <th>Intercept</th>          <td> 1.859e+05</td> <td> 1.22e+04</td> <td>   15.256</td> <td> 0.000</td> <td> 1.62e+05</td> <td>  2.1e+05</td>\n",
       "</tr>\n",
       "<tr>\n",
       "  <th>living_area_scaled</th> <td> 1.583e+06</td> <td> 9.75e+04</td> <td>   16.242</td> <td> 0.000</td> <td> 1.39e+06</td> <td> 1.77e+06</td>\n",
       "</tr>\n",
       "</table>\n",
       "<table class=\"simpletable\">\n",
       "<tr>\n",
       "  <th>Omnibus:</th>       <td>54988.093</td> <th>  Durbin-Watson:     </th>   <td>   0.298</td>   \n",
       "</tr>\n",
       "<tr>\n",
       "  <th>Prob(Omnibus):</th>  <td> 0.000</td>   <th>  Jarque-Bera (JB):  </th> <td>100490709.000</td>\n",
       "</tr>\n",
       "<tr>\n",
       "  <th>Skew:</th>           <td>13.002</td>   <th>  Prob(JB):          </th>   <td>    0.00</td>   \n",
       "</tr>\n",
       "<tr>\n",
       "  <th>Kurtosis:</th>       <td>282.425</td>  <th>  Cond. No.          </th>   <td>    17.8</td>   \n",
       "</tr>\n",
       "</table><br/><br/>Notes:<br/>[1] Standard Errors assume that the covariance matrix of the errors is correctly specified."
      ],
      "text/latex": [
       "\\begin{center}\n",
       "\\begin{tabular}{lclc}\n",
       "\\toprule\n",
       "\\textbf{Dep. Variable:}       &      price       & \\textbf{  R-squared:         } &       0.009    \\\\\n",
       "\\textbf{Model:}               &       OLS        & \\textbf{  Adj. R-squared:    } &       0.009    \\\\\n",
       "\\textbf{Method:}              &  Least Squares   & \\textbf{  F-statistic:       } &       263.8    \\\\\n",
       "\\textbf{Date:}                & Fri, 09 Feb 2024 & \\textbf{  Prob (F-statistic):} &    4.52e-59    \\\\\n",
       "\\textbf{Time:}                &     15:55:40     & \\textbf{  Log-Likelihood:    } &  -4.6568e+05   \\\\\n",
       "\\textbf{No. Observations:}    &       30624      & \\textbf{  AIC:               } &   9.314e+05    \\\\\n",
       "\\textbf{Df Residuals:}        &       30622      & \\textbf{  BIC:               } &   9.314e+05    \\\\\n",
       "\\textbf{Df Model:}            &           1      & \\textbf{                     } &                \\\\\n",
       "\\textbf{Covariance Type:}     &    nonrobust     & \\textbf{                     } &                \\\\\n",
       "\\bottomrule\n",
       "\\end{tabular}\n",
       "\\begin{tabular}{lcccccc}\n",
       "                              & \\textbf{coef} & \\textbf{std err} & \\textbf{t} & \\textbf{P$> |$t$|$} & \\textbf{[0.025} & \\textbf{0.975]}  \\\\\n",
       "\\midrule\n",
       "\\textbf{Intercept}            &    1.859e+05  &     1.22e+04     &    15.256  &         0.000        &     1.62e+05    &      2.1e+05     \\\\\n",
       "\\textbf{living\\_area\\_scaled} &    1.583e+06  &     9.75e+04     &    16.242  &         0.000        &     1.39e+06    &     1.77e+06     \\\\\n",
       "\\bottomrule\n",
       "\\end{tabular}\n",
       "\\begin{tabular}{lclc}\n",
       "\\textbf{Omnibus:}       & 54988.093 & \\textbf{  Durbin-Watson:     } &       0.298    \\\\\n",
       "\\textbf{Prob(Omnibus):} &    0.000  & \\textbf{  Jarque-Bera (JB):  } & 100490709.000  \\\\\n",
       "\\textbf{Skew:}          &   13.002  & \\textbf{  Prob(JB):          } &        0.00    \\\\\n",
       "\\textbf{Kurtosis:}      &  282.425  & \\textbf{  Cond. No.          } &        17.8    \\\\\n",
       "\\bottomrule\n",
       "\\end{tabular}\n",
       "%\\caption{OLS Regression Results}\n",
       "\\end{center}\n",
       "\n",
       "Notes: \\newline\n",
       " [1] Standard Errors assume that the covariance matrix of the errors is correctly specified."
      ],
      "text/plain": [
       "<class 'statsmodels.iolib.summary.Summary'>\n",
       "\"\"\"\n",
       "                            OLS Regression Results                            \n",
       "==============================================================================\n",
       "Dep. Variable:                  price   R-squared:                       0.009\n",
       "Model:                            OLS   Adj. R-squared:                  0.009\n",
       "Method:                 Least Squares   F-statistic:                     263.8\n",
       "Date:                Fri, 09 Feb 2024   Prob (F-statistic):           4.52e-59\n",
       "Time:                        15:55:40   Log-Likelihood:            -4.6568e+05\n",
       "No. Observations:               30624   AIC:                         9.314e+05\n",
       "Df Residuals:                   30622   BIC:                         9.314e+05\n",
       "Df Model:                           1                                         \n",
       "Covariance Type:            nonrobust                                         \n",
       "======================================================================================\n",
       "                         coef    std err          t      P>|t|      [0.025      0.975]\n",
       "--------------------------------------------------------------------------------------\n",
       "Intercept           1.859e+05   1.22e+04     15.256      0.000    1.62e+05     2.1e+05\n",
       "living_area_scaled  1.583e+06   9.75e+04     16.242      0.000    1.39e+06    1.77e+06\n",
       "==============================================================================\n",
       "Omnibus:                    54988.093   Durbin-Watson:                   0.298\n",
       "Prob(Omnibus):                  0.000   Jarque-Bera (JB):        100490709.000\n",
       "Skew:                          13.002   Prob(JB):                         0.00\n",
       "Kurtosis:                     282.425   Cond. No.                         17.8\n",
       "==============================================================================\n",
       "\n",
       "Notes:\n",
       "[1] Standard Errors assume that the covariance matrix of the errors is correctly specified.\n",
       "\"\"\""
      ]
     },
     "execution_count": 81,
     "metadata": {},
     "output_type": "execute_result"
    }
   ],
   "source": [
    "import statsmodels.formula.api as smf\n",
    "\n",
    "model_uni = smf.ols(formula='price ~ living_area_scaled', data=data).fit()\n",
    "model_uni.rsquared\n",
    "\n",
    "model_uni.summary()"
   ]
  },
  {
   "cell_type": "markdown",
   "id": "26cf0728",
   "metadata": {},
   "source": [
    "### Multivariate Regression"
   ]
  },
  {
   "cell_type": "code",
   "execution_count": 82,
   "id": "9d5cab6e",
   "metadata": {},
   "outputs": [
    {
     "data": {
      "text/html": [
       "<table class=\"simpletable\">\n",
       "<caption>OLS Regression Results</caption>\n",
       "<tr>\n",
       "  <th>Dep. Variable:</th>          <td>price</td>      <th>  R-squared:         </th>  <td>   0.009</td>  \n",
       "</tr>\n",
       "<tr>\n",
       "  <th>Model:</th>                   <td>OLS</td>       <th>  Adj. R-squared:    </th>  <td>   0.009</td>  \n",
       "</tr>\n",
       "<tr>\n",
       "  <th>Method:</th>             <td>Least Squares</td>  <th>  F-statistic:       </th>  <td>   135.6</td>  \n",
       "</tr>\n",
       "<tr>\n",
       "  <th>Date:</th>             <td>Fri, 09 Feb 2024</td> <th>  Prob (F-statistic):</th>  <td>2.33e-59</td>  \n",
       "</tr>\n",
       "<tr>\n",
       "  <th>Time:</th>                 <td>15:55:40</td>     <th>  Log-Likelihood:    </th> <td>-4.6567e+05</td>\n",
       "</tr>\n",
       "<tr>\n",
       "  <th>No. Observations:</th>      <td> 30624</td>      <th>  AIC:               </th>  <td>9.313e+05</td> \n",
       "</tr>\n",
       "<tr>\n",
       "  <th>Df Residuals:</th>          <td> 30621</td>      <th>  BIC:               </th>  <td>9.314e+05</td> \n",
       "</tr>\n",
       "<tr>\n",
       "  <th>Df Model:</th>              <td>     2</td>      <th>                     </th>      <td> </td>     \n",
       "</tr>\n",
       "<tr>\n",
       "  <th>Covariance Type:</th>      <td>nonrobust</td>    <th>                     </th>      <td> </td>     \n",
       "</tr>\n",
       "</table>\n",
       "<table class=\"simpletable\">\n",
       "<tr>\n",
       "             <td></td>               <th>coef</th>     <th>std err</th>      <th>t</th>      <th>P>|t|</th>  <th>[0.025</th>    <th>0.975]</th>  \n",
       "</tr>\n",
       "<tr>\n",
       "  <th>Intercept</th>              <td> 2.075e+05</td> <td> 1.46e+04</td> <td>   14.253</td> <td> 0.000</td> <td> 1.79e+05</td> <td> 2.36e+05</td>\n",
       "</tr>\n",
       "<tr>\n",
       "  <th>living_area_scaled</th>     <td>  2.05e+06</td> <td> 1.98e+05</td> <td>   10.358</td> <td> 0.000</td> <td> 1.66e+06</td> <td> 2.44e+06</td>\n",
       "</tr>\n",
       "<tr>\n",
       "  <th>number_of_rooms_scaled</th> <td>-3.362e+05</td> <td> 1.24e+05</td> <td>   -2.713</td> <td> 0.007</td> <td>-5.79e+05</td> <td>-9.33e+04</td>\n",
       "</tr>\n",
       "</table>\n",
       "<table class=\"simpletable\">\n",
       "<tr>\n",
       "  <th>Omnibus:</th>       <td>54996.641</td> <th>  Durbin-Watson:     </th>   <td>   0.298</td>   \n",
       "</tr>\n",
       "<tr>\n",
       "  <th>Prob(Omnibus):</th>  <td> 0.000</td>   <th>  Jarque-Bera (JB):  </th> <td>100708359.889</td>\n",
       "</tr>\n",
       "<tr>\n",
       "  <th>Skew:</th>           <td>13.005</td>   <th>  Prob(JB):          </th>   <td>    0.00</td>   \n",
       "</tr>\n",
       "<tr>\n",
       "  <th>Kurtosis:</th>       <td>282.729</td>  <th>  Cond. No.          </th>   <td>    42.2</td>   \n",
       "</tr>\n",
       "</table><br/><br/>Notes:<br/>[1] Standard Errors assume that the covariance matrix of the errors is correctly specified."
      ],
      "text/latex": [
       "\\begin{center}\n",
       "\\begin{tabular}{lclc}\n",
       "\\toprule\n",
       "\\textbf{Dep. Variable:}            &      price       & \\textbf{  R-squared:         } &       0.009    \\\\\n",
       "\\textbf{Model:}                    &       OLS        & \\textbf{  Adj. R-squared:    } &       0.009    \\\\\n",
       "\\textbf{Method:}                   &  Least Squares   & \\textbf{  F-statistic:       } &       135.6    \\\\\n",
       "\\textbf{Date:}                     & Fri, 09 Feb 2024 & \\textbf{  Prob (F-statistic):} &    2.33e-59    \\\\\n",
       "\\textbf{Time:}                     &     15:55:40     & \\textbf{  Log-Likelihood:    } &  -4.6567e+05   \\\\\n",
       "\\textbf{No. Observations:}         &       30624      & \\textbf{  AIC:               } &   9.313e+05    \\\\\n",
       "\\textbf{Df Residuals:}             &       30621      & \\textbf{  BIC:               } &   9.314e+05    \\\\\n",
       "\\textbf{Df Model:}                 &           2      & \\textbf{                     } &                \\\\\n",
       "\\textbf{Covariance Type:}          &    nonrobust     & \\textbf{                     } &                \\\\\n",
       "\\bottomrule\n",
       "\\end{tabular}\n",
       "\\begin{tabular}{lcccccc}\n",
       "                                   & \\textbf{coef} & \\textbf{std err} & \\textbf{t} & \\textbf{P$> |$t$|$} & \\textbf{[0.025} & \\textbf{0.975]}  \\\\\n",
       "\\midrule\n",
       "\\textbf{Intercept}                 &    2.075e+05  &     1.46e+04     &    14.253  &         0.000        &     1.79e+05    &     2.36e+05     \\\\\n",
       "\\textbf{living\\_area\\_scaled}      &     2.05e+06  &     1.98e+05     &    10.358  &         0.000        &     1.66e+06    &     2.44e+06     \\\\\n",
       "\\textbf{number\\_of\\_rooms\\_scaled} &   -3.362e+05  &     1.24e+05     &    -2.713  &         0.007        &    -5.79e+05    &    -9.33e+04     \\\\\n",
       "\\bottomrule\n",
       "\\end{tabular}\n",
       "\\begin{tabular}{lclc}\n",
       "\\textbf{Omnibus:}       & 54996.641 & \\textbf{  Durbin-Watson:     } &       0.298    \\\\\n",
       "\\textbf{Prob(Omnibus):} &    0.000  & \\textbf{  Jarque-Bera (JB):  } & 100708359.889  \\\\\n",
       "\\textbf{Skew:}          &   13.005  & \\textbf{  Prob(JB):          } &        0.00    \\\\\n",
       "\\textbf{Kurtosis:}      &  282.729  & \\textbf{  Cond. No.          } &        42.2    \\\\\n",
       "\\bottomrule\n",
       "\\end{tabular}\n",
       "%\\caption{OLS Regression Results}\n",
       "\\end{center}\n",
       "\n",
       "Notes: \\newline\n",
       " [1] Standard Errors assume that the covariance matrix of the errors is correctly specified."
      ],
      "text/plain": [
       "<class 'statsmodels.iolib.summary.Summary'>\n",
       "\"\"\"\n",
       "                            OLS Regression Results                            \n",
       "==============================================================================\n",
       "Dep. Variable:                  price   R-squared:                       0.009\n",
       "Model:                            OLS   Adj. R-squared:                  0.009\n",
       "Method:                 Least Squares   F-statistic:                     135.6\n",
       "Date:                Fri, 09 Feb 2024   Prob (F-statistic):           2.33e-59\n",
       "Time:                        15:55:40   Log-Likelihood:            -4.6567e+05\n",
       "No. Observations:               30624   AIC:                         9.313e+05\n",
       "Df Residuals:                   30621   BIC:                         9.314e+05\n",
       "Df Model:                           2                                         \n",
       "Covariance Type:            nonrobust                                         \n",
       "==========================================================================================\n",
       "                             coef    std err          t      P>|t|      [0.025      0.975]\n",
       "------------------------------------------------------------------------------------------\n",
       "Intercept               2.075e+05   1.46e+04     14.253      0.000    1.79e+05    2.36e+05\n",
       "living_area_scaled       2.05e+06   1.98e+05     10.358      0.000    1.66e+06    2.44e+06\n",
       "number_of_rooms_scaled -3.362e+05   1.24e+05     -2.713      0.007   -5.79e+05   -9.33e+04\n",
       "==============================================================================\n",
       "Omnibus:                    54996.641   Durbin-Watson:                   0.298\n",
       "Prob(Omnibus):                  0.000   Jarque-Bera (JB):        100708359.889\n",
       "Skew:                          13.005   Prob(JB):                         0.00\n",
       "Kurtosis:                     282.729   Cond. No.                         42.2\n",
       "==============================================================================\n",
       "\n",
       "Notes:\n",
       "[1] Standard Errors assume that the covariance matrix of the errors is correctly specified.\n",
       "\"\"\""
      ]
     },
     "execution_count": 82,
     "metadata": {},
     "output_type": "execute_result"
    }
   ],
   "source": [
    "import statsmodels.formula.api as smf\n",
    "\n",
    "model_mul = smf.ols(formula='price ~ living_area_scaled + number_of_rooms_scaled', data=data).fit()\n",
    "model_mul.rsquared\n",
    "\n",
    "model_mul.summary()"
   ]
  },
  {
   "cell_type": "markdown",
   "id": "ade66be6",
   "metadata": {},
   "source": [
    "#### Important feature identification"
   ]
  },
  {
   "cell_type": "code",
   "execution_count": 83,
   "id": "03b3ab07",
   "metadata": {},
   "outputs": [
    {
     "data": {
      "text/plain": [
       "\"model_mul.params.drop('Intercept')\\n\\ncoefficients = model_mul.params\\ncoefficients = coefficients.drop('Intercept')\\nplt.bar(coefficients.index, coefficients)\\nplt.title('Important features correlating with review_score, p = 0.04')\""
      ]
     },
     "execution_count": 83,
     "metadata": {},
     "output_type": "execute_result"
    }
   ],
   "source": [
    "'''model_mul.params.drop('Intercept')\n",
    "\n",
    "coefficients = model_mul.params\n",
    "coefficients = coefficients.drop('Intercept')\n",
    "plt.bar(coefficients.index, coefficients)\n",
    "plt.title('Important features correlating with review_score, p = 0.04')'''"
   ]
  },
  {
   "cell_type": "markdown",
   "id": "ec1ab685",
   "metadata": {},
   "source": [
    "#### Model Performance"
   ]
  },
  {
   "cell_type": "code",
   "execution_count": 84,
   "id": "3229b273",
   "metadata": {},
   "outputs": [
    {
     "data": {
      "text/plain": [
       "\"\\n#Residual computation (should be close to 0)\\nn = len(X_std)\\npredicted_values = model_mul.predict()\\nresiduals = X_std['price'] - predicted_values\\nresiduals.std() / X_std.wait_time.std() / (n-2)**0.5\\n\\n#Root Mean Squared Error\\nrmse = np.sqrt(np.mean(residuals**2))\\nrmse\\n\\n#Plot residuals\\nsns.histplot(residuals, kde=True, edgecolor='w')\\nplt.title('Residuals')\""
      ]
     },
     "execution_count": 84,
     "metadata": {},
     "output_type": "execute_result"
    }
   ],
   "source": [
    "'''\n",
    "#Residual computation (should be close to 0)\n",
    "n = len(X_std)\n",
    "predicted_values = model_mul.predict()\n",
    "residuals = X_std['price'] - predicted_values\n",
    "residuals.std() / X_std.wait_time.std() / (n-2)**0.5\n",
    "\n",
    "#Root Mean Squared Error\n",
    "rmse = np.sqrt(np.mean(residuals**2))\n",
    "rmse\n",
    "\n",
    "#Plot residuals\n",
    "sns.histplot(residuals, kde=True, edgecolor='w')\n",
    "plt.title('Residuals')'''"
   ]
  },
  {
   "cell_type": "markdown",
   "id": "5d59ce17",
   "metadata": {},
   "source": [
    "### Linear Regression with ML"
   ]
  },
  {
   "cell_type": "code",
   "execution_count": 85,
   "id": "d89aa21c",
   "metadata": {},
   "outputs": [],
   "source": [
    "import pandas as pd\n",
    "import matplotlib.pyplot as plt\n",
    "import seaborn as sns\n",
    "\n",
    "from sklearn.model_selection import train_test_split\n",
    "from sklearn.linear_model import LinearRegression\n",
    "from sklearn.metrics import mean_squared_error\n",
    "from sklearn.model_selection import cross_validate, cross_val_score"
   ]
  },
  {
   "cell_type": "code",
   "execution_count": 86,
   "id": "a6dca519",
   "metadata": {},
   "outputs": [],
   "source": [
    "#Define data - has been done previously\n",
    "#X = data.drop(columns='price')\n",
    "#y = data['price']\n",
    "\n",
    "#Split into training and test set\n",
    "X_train, X_test, y_train, y_test = train_test_split(X, y, test_size=0.2, random_state=42)\n",
    "\n",
    "#LinRegression\n",
    "model_lin = LinearRegression()\n",
    "model_lin.fit(X_train, y_train)\n",
    "\n",
    "#Make prediction\n",
    "y_pred = model_lin.predict(X_test)\n",
    "\n",
    "#Evaluate model\n",
    "mse = mean_squared_error(y_test, y_pred)"
   ]
  },
  {
   "cell_type": "code",
   "execution_count": 87,
   "id": "87767bfc",
   "metadata": {},
   "outputs": [
    {
     "data": {
      "image/png": "[encoded data removed]",
      "text/plain": [
       "<Figure size 640x480 with 1 Axes>"
      ]
     },
     "metadata": {},
     "output_type": "display_data"
    }
   ],
   "source": [
    "#Visualize predictions\n",
    "plt.scatter(y_test, y_pred)\n",
    "plt.xlabel('Actual Prices')\n",
    "plt.ylabel('Predicted Prices')\n",
    "plt.title('Actual Prices vs Predicted Prices')\n",
    "plt.show()"
   ]
  },
  {
   "cell_type": "markdown",
   "id": "99a5aaee",
   "metadata": {},
   "source": [
    "## 🐓 KNN Regression"
   ]
  },
  {
   "cell_type": "code",
   "execution_count": 88,
   "id": "29280fe7",
   "metadata": {},
   "outputs": [
    {
     "ename": "ValueError",
     "evalue": "Found input variables with inconsistent numbers of samples: [27522, 24499]",
     "output_type": "error",
     "traceback": [
      "\u001b[0;31m---------------------------------------------------------------------------\u001b[0m",
      "\u001b[0;31mValueError\u001b[0m                                Traceback (most recent call last)",
      "Cell \u001b[0;32mIn[88], line 8\u001b[0m\n\u001b[1;32m      5\u001b[0m knn_model \u001b[38;5;241m=\u001b[39m KNeighborsRegressor()\n\u001b[1;32m      7\u001b[0m \u001b[38;5;66;03m# Train the model on the scaled Training data\u001b[39;00m\n\u001b[0;32m----> 8\u001b[0m cv_results \u001b[38;5;241m=\u001b[39m \u001b[43mcross_validate\u001b[49m\u001b[43m(\u001b[49m\u001b[43mknn_model\u001b[49m\u001b[43m,\u001b[49m\u001b[43m \u001b[49m\u001b[43mX_train_preproc\u001b[49m\u001b[43m,\u001b[49m\u001b[43my_train\u001b[49m\u001b[43m)\u001b[49m\n\u001b[1;32m     10\u001b[0m base_knn_score \u001b[38;5;241m=\u001b[39m cv_results[\u001b[38;5;124m'\u001b[39m\u001b[38;5;124mtest_score\u001b[39m\u001b[38;5;124m'\u001b[39m]\u001b[38;5;241m.\u001b[39mmean()\n\u001b[1;32m     12\u001b[0m base_knn_score\n",
      "File \u001b[0;32m~/.pyenv/versions/3.10.6/envs/realdata/lib/python3.10/site-packages/sklearn/utils/_param_validation.py:213\u001b[0m, in \u001b[0;36mvalidate_params.<locals>.decorator.<locals>.wrapper\u001b[0;34m(*args, **kwargs)\u001b[0m\n\u001b[1;32m    207\u001b[0m \u001b[38;5;28;01mtry\u001b[39;00m:\n\u001b[1;32m    208\u001b[0m     \u001b[38;5;28;01mwith\u001b[39;00m config_context(\n\u001b[1;32m    209\u001b[0m         skip_parameter_validation\u001b[38;5;241m=\u001b[39m(\n\u001b[1;32m    210\u001b[0m             prefer_skip_nested_validation \u001b[38;5;129;01mor\u001b[39;00m global_skip_validation\n\u001b[1;32m    211\u001b[0m         )\n\u001b[1;32m    212\u001b[0m     ):\n\u001b[0;32m--> 213\u001b[0m         \u001b[38;5;28;01mreturn\u001b[39;00m \u001b[43mfunc\u001b[49m\u001b[43m(\u001b[49m\u001b[38;5;241;43m*\u001b[39;49m\u001b[43margs\u001b[49m\u001b[43m,\u001b[49m\u001b[43m \u001b[49m\u001b[38;5;241;43m*\u001b[39;49m\u001b[38;5;241;43m*\u001b[39;49m\u001b[43mkwargs\u001b[49m\u001b[43m)\u001b[49m\n\u001b[1;32m    214\u001b[0m \u001b[38;5;28;01mexcept\u001b[39;00m InvalidParameterError \u001b[38;5;28;01mas\u001b[39;00m e:\n\u001b[1;32m    215\u001b[0m     \u001b[38;5;66;03m# When the function is just a wrapper around an estimator, we allow\u001b[39;00m\n\u001b[1;32m    216\u001b[0m     \u001b[38;5;66;03m# the function to delegate validation to the estimator, but we replace\u001b[39;00m\n\u001b[1;32m    217\u001b[0m     \u001b[38;5;66;03m# the name of the estimator by the name of the function in the error\u001b[39;00m\n\u001b[1;32m    218\u001b[0m     \u001b[38;5;66;03m# message to avoid confusion.\u001b[39;00m\n\u001b[1;32m    219\u001b[0m     msg \u001b[38;5;241m=\u001b[39m re\u001b[38;5;241m.\u001b[39msub(\n\u001b[1;32m    220\u001b[0m         \u001b[38;5;124mr\u001b[39m\u001b[38;5;124m\"\u001b[39m\u001b[38;5;124mparameter of \u001b[39m\u001b[38;5;124m\\\u001b[39m\u001b[38;5;124mw+ must be\u001b[39m\u001b[38;5;124m\"\u001b[39m,\n\u001b[1;32m    221\u001b[0m         \u001b[38;5;124mf\u001b[39m\u001b[38;5;124m\"\u001b[39m\u001b[38;5;124mparameter of \u001b[39m\u001b[38;5;132;01m{\u001b[39;00mfunc\u001b[38;5;241m.\u001b[39m\u001b[38;5;18m__qualname__\u001b[39m\u001b[38;5;132;01m}\u001b[39;00m\u001b[38;5;124m must be\u001b[39m\u001b[38;5;124m\"\u001b[39m,\n\u001b[1;32m    222\u001b[0m         \u001b[38;5;28mstr\u001b[39m(e),\n\u001b[1;32m    223\u001b[0m     )\n",
      "File \u001b[0;32m~/.pyenv/versions/3.10.6/envs/realdata/lib/python3.10/site-packages/sklearn/model_selection/_validation.py:351\u001b[0m, in \u001b[0;36mcross_validate\u001b[0;34m(estimator, X, y, groups, scoring, cv, n_jobs, verbose, fit_params, params, pre_dispatch, return_train_score, return_estimator, return_indices, error_score)\u001b[0m\n\u001b[1;32m    140\u001b[0m \u001b[38;5;250m\u001b[39m\u001b[38;5;124;03m\"\"\"Evaluate metric(s) by cross-validation and also record fit/score times.\u001b[39;00m\n\u001b[1;32m    141\u001b[0m \n\u001b[1;32m    142\u001b[0m \u001b[38;5;124;03mRead more in the :ref:`User Guide <multimetric_cross_validation>`.\u001b[39;00m\n\u001b[0;32m   (...)\u001b[0m\n\u001b[1;32m    347\u001b[0m \u001b[38;5;124;03m[0.28009951 0.3908844  0.22784907]\u001b[39;00m\n\u001b[1;32m    348\u001b[0m \u001b[38;5;124;03m\"\"\"\u001b[39;00m\n\u001b[1;32m    349\u001b[0m params \u001b[38;5;241m=\u001b[39m _check_params_groups_deprecation(fit_params, params, groups)\n\u001b[0;32m--> 351\u001b[0m X, y \u001b[38;5;241m=\u001b[39m \u001b[43mindexable\u001b[49m\u001b[43m(\u001b[49m\u001b[43mX\u001b[49m\u001b[43m,\u001b[49m\u001b[43m \u001b[49m\u001b[43my\u001b[49m\u001b[43m)\u001b[49m\n\u001b[1;32m    353\u001b[0m cv \u001b[38;5;241m=\u001b[39m check_cv(cv, y, classifier\u001b[38;5;241m=\u001b[39mis_classifier(estimator))\n\u001b[1;32m    355\u001b[0m \u001b[38;5;28;01mif\u001b[39;00m \u001b[38;5;28mcallable\u001b[39m(scoring):\n",
      "File \u001b[0;32m~/.pyenv/versions/3.10.6/envs/realdata/lib/python3.10/site-packages/sklearn/utils/validation.py:476\u001b[0m, in \u001b[0;36mindexable\u001b[0;34m(*iterables)\u001b[0m\n\u001b[1;32m    457\u001b[0m \u001b[38;5;250m\u001b[39m\u001b[38;5;124;03m\"\"\"Make arrays indexable for cross-validation.\u001b[39;00m\n\u001b[1;32m    458\u001b[0m \n\u001b[1;32m    459\u001b[0m \u001b[38;5;124;03mChecks consistent length, passes through None, and ensures that everything\u001b[39;00m\n\u001b[0;32m   (...)\u001b[0m\n\u001b[1;32m    472\u001b[0m \u001b[38;5;124;03m    sparse matrix, or dataframe) or `None`.\u001b[39;00m\n\u001b[1;32m    473\u001b[0m \u001b[38;5;124;03m\"\"\"\u001b[39;00m\n\u001b[1;32m    475\u001b[0m result \u001b[38;5;241m=\u001b[39m [_make_indexable(X) \u001b[38;5;28;01mfor\u001b[39;00m X \u001b[38;5;129;01min\u001b[39;00m iterables]\n\u001b[0;32m--> 476\u001b[0m \u001b[43mcheck_consistent_length\u001b[49m\u001b[43m(\u001b[49m\u001b[38;5;241;43m*\u001b[39;49m\u001b[43mresult\u001b[49m\u001b[43m)\u001b[49m\n\u001b[1;32m    477\u001b[0m \u001b[38;5;28;01mreturn\u001b[39;00m result\n",
      "File \u001b[0;32m~/.pyenv/versions/3.10.6/envs/realdata/lib/python3.10/site-packages/sklearn/utils/validation.py:430\u001b[0m, in \u001b[0;36mcheck_consistent_length\u001b[0;34m(*arrays)\u001b[0m\n\u001b[1;32m    428\u001b[0m uniques \u001b[38;5;241m=\u001b[39m np\u001b[38;5;241m.\u001b[39munique(lengths)\n\u001b[1;32m    429\u001b[0m \u001b[38;5;28;01mif\u001b[39;00m \u001b[38;5;28mlen\u001b[39m(uniques) \u001b[38;5;241m>\u001b[39m \u001b[38;5;241m1\u001b[39m:\n\u001b[0;32m--> 430\u001b[0m     \u001b[38;5;28;01mraise\u001b[39;00m \u001b[38;5;167;01mValueError\u001b[39;00m(\n\u001b[1;32m    431\u001b[0m         \u001b[38;5;124m\"\u001b[39m\u001b[38;5;124mFound input variables with inconsistent numbers of samples: \u001b[39m\u001b[38;5;132;01m%r\u001b[39;00m\u001b[38;5;124m\"\u001b[39m\n\u001b[1;32m    432\u001b[0m         \u001b[38;5;241m%\u001b[39m [\u001b[38;5;28mint\u001b[39m(l) \u001b[38;5;28;01mfor\u001b[39;00m l \u001b[38;5;129;01min\u001b[39;00m lengths]\n\u001b[1;32m    433\u001b[0m     )\n",
      "\u001b[0;31mValueError\u001b[0m: Found input variables with inconsistent numbers of samples: [27522, 24499]"
     ]
    }
   ],
   "source": [
    "from sklearn.neighbors import KNeighborsRegressor\n",
    "from sklearn.model_selection import cross_validate\n",
    "\n",
    "# Instanciate the model\n",
    "knn_model = KNeighborsRegressor()\n",
    "\n",
    "# Train the model on the scaled Training data\n",
    "cv_results = cross_validate(knn_model, X_train_preproc,y_train)\n",
    "\n",
    "base_knn_score = cv_results['test_score'].mean()\n",
    "\n",
    "base_knn_score"
   ]
  },
  {
   "cell_type": "markdown",
   "id": "e4b63477",
   "metadata": {},
   "source": [
    "## Decision Tree"
   ]
  },
  {
   "cell_type": "code",
   "execution_count": null,
   "id": "90d4134d",
   "metadata": {},
   "outputs": [],
   "source": [
    "from sklearn.model_selection import train_test_split\n",
    "from sklearn.preprocessing import StandardScaler\n",
    "from sklearn.metrics import mean_squared_error\n",
    "from sklearn.model_selection import validation_curve\n",
    "from sklearn.model_selection import GridSearchCV\n",
    "from sklearn.model_selection import KFold\n",
    "from sklearn.model_selection import cross_val_score\n",
    "\n",
    "#Define data - has been done previously\n",
    "#X = data.drop(columns='price')\n",
    "#y = data['price']\n",
    "\n",
    "#Split into training and test set\n",
    "#X_train, X_test, y_train, y_test = train_test_split(X, y, test_size=0.2, random_state=42)"
   ]
  },
  {
   "cell_type": "code",
   "execution_count": null,
   "id": "9b740f26",
   "metadata": {},
   "outputs": [
    {
     "name": "stdout",
     "output_type": "stream",
     "text": [
      "Mean Squared Error: 978304602440.2781\n",
      "Train score: 0.0832961702606766\n",
      "Cross validation score mean 0.284725320415942\n"
     ]
    }
   ],
   "source": [
    "from sklearn.tree import DecisionTreeRegressor\n",
    "model_dtr = DecisionTreeRegressor()\n",
    "\n",
    "model_dtr.fit(X_train, y_train)\n",
    "\n",
    "y_pred = model_dtr.predict(X_test)\n",
    "mse = mean_squared_error(y_test, y_pred)\n",
    "print(f'Mean Squared Error: {mse}')\n",
    "print('Train score:', model_dtr.score(X_test, y_test))\n",
    "print('Cross validation score mean', cross_val_score(model_dtr, X_train, y_train, cv = 5).mean())"
   ]
  },
  {
   "cell_type": "code",
   "execution_count": null,
   "id": "3942fef0",
   "metadata": {},
   "outputs": [
    {
     "data": {
      "image/png": "[encoded data removed]",
      "text/plain": [
       "<Figure size 640x480 with 1 Axes>"
      ]
     },
     "metadata": {},
     "output_type": "display_data"
    }
   ],
   "source": [
    "#Visualize DTR\n",
    "plt.scatter(y_test, y_pred)\n",
    "plt.xlabel('Actual Prices')\n",
    "plt.ylabel('Predicted Prices')\n",
    "plt.title('Actual Prices vs Predicted Prices')\n",
    "plt.show()"
   ]
  },
  {
   "cell_type": "markdown",
   "id": "aebf7482",
   "metadata": {},
   "source": [
    "## 🐬 Ensemble Model"
   ]
  },
  {
   "cell_type": "code",
   "execution_count": null,
   "id": "a6f6f35c",
   "metadata": {},
   "outputs": [
    {
     "name": "stdout",
     "output_type": "stream",
     "text": [
      "Mean Squared Error: 628637.4899437703\n",
      "Train score: 0.6296984722297971\n",
      "Cross val score mean 0.5374258959730038\n"
     ]
    }
   ],
   "source": [
    "from sklearn.ensemble import RandomForestRegressor\n",
    "model_rfr = RandomForestRegressor()\n",
    "\n",
    "model_rfr.fit(X_train, y_train)\n",
    "y_pred = model_rfr.predict(X_test)\n",
    "mse = mean_squared_error(y_test, y_pred)\n",
    "rmse = mse**(1/2)\n",
    "print(f'Mean Squared Error: {rmse}')\n",
    "print( 'Train score:', model_rfr.score(X_test, y_test))\n",
    "print('Cross val score mean', cross_val_score(model_rfr, X_train, y_train, cv = 5).mean())"
   ]
  },
  {
   "cell_type": "code",
   "execution_count": null,
   "id": "0f5188ff",
   "metadata": {},
   "outputs": [
    {
     "data": {
      "image/png": "[encoded data removed]",
      "text/plain": [
       "<Figure size 640x480 with 1 Axes>"
      ]
     },
     "metadata": {},
     "output_type": "display_data"
    }
   ],
   "source": [
    "#Visualize RFR\n",
    "plt.scatter(y_test, y_pred)\n",
    "plt.xlabel('Actual Prices')\n",
    "plt.ylabel('Predicted Prices')\n",
    "plt.title('Actual Prices vs Predicted Prices')\n",
    "plt.show()"
   ]
  },
  {
   "cell_type": "code",
   "execution_count": null,
   "id": "be4f3c8e",
   "metadata": {},
   "outputs": [
    {
     "name": "stdout",
     "output_type": "stream",
     "text": [
      "Mean Squared Error: 522534210108.80664\n",
      "Train score: 0.5103681303535551\n",
      "Cross val score mean 0.4203673810906617\n"
     ]
    }
   ],
   "source": [
    "from sklearn.ensemble import GradientBoostingRegressor\n",
    "model_gbr = GradientBoostingRegressor()\n",
    "\n",
    "model_gbr.fit(X_train, y_train)\n",
    "#scaler = StandardScaler()\n",
    "#X_train_scaled = scaler.fit_transform(X_train)\n",
    "#X_test_scaled = scaler.transform(X_test)\n",
    "y_pred = model_gbr.predict(X_test)\n",
    "mse = mean_squared_error(y_test, y_pred)\n",
    "print(f'Mean Squared Error: {mse}')\n",
    "print( 'Train score:', model_gbr.score(X_test, y_test))\n",
    "print('Cross val score mean', cross_val_score(model_gbr, X_train, y_train, cv = 5).mean())"
   ]
  },
  {
   "cell_type": "code",
   "execution_count": null,
   "id": "89f77411",
   "metadata": {},
   "outputs": [
    {
     "data": {
      "image/png": "[encoded data removed]",
      "text/plain": [
       "<Figure size 640x480 with 1 Axes>"
      ]
     },
     "metadata": {},
     "output_type": "display_data"
    }
   ],
   "source": [
    "#Visualize GBR\n",
    "plt.scatter(y_test, y_pred)\n",
    "plt.xlabel('Actual Prices')\n",
    "plt.ylabel('Predicted Prices')\n",
    "plt.title('Actual Prices vs Predicted Prices')\n",
    "plt.show()"
   ]
  },
  {
   "cell_type": "code",
   "execution_count": null,
   "id": "17accb5d",
   "metadata": {},
   "outputs": [
    {
     "name": "stdout",
     "output_type": "stream",
     "text": [
      "Requirement already satisfied: xgboost in /home/daniela/.pyenv/versions/3.10.6/envs/realdata/lib/python3.10/site-packages (2.0.3)\n",
      "Requirement already satisfied: numpy in /home/daniela/.pyenv/versions/3.10.6/envs/realdata/lib/python3.10/site-packages (from xgboost) (1.26.4)\n",
      "Requirement already satisfied: scipy in /home/daniela/.pyenv/versions/3.10.6/envs/realdata/lib/python3.10/site-packages (from xgboost) (1.12.0)\n",
      "Note: you may need to restart the kernel to use updated packages.\n"
     ]
    }
   ],
   "source": [
    "pip install xgboost"
   ]
  },
  {
   "cell_type": "code",
   "execution_count": null,
   "id": "91f408ac",
   "metadata": {},
   "outputs": [
    {
     "ename": "ValueError",
     "evalue": "DataFrame.dtypes for data must be int, float, bool or category. When categorical type is supplied, The experimental DMatrix parameter`enable_categorical` must be set to `True`.  Invalid columns:ohe__property_type_Appartement: object, ohe__property_type_Maison: object, built: object, longitude: object, latitude: object",
     "output_type": "error",
     "traceback": [
      "\u001b[0;31m---------------------------------------------------------------------------\u001b[0m",
      "\u001b[0;31mValueError\u001b[0m                                Traceback (most recent call last)",
      "Cell \u001b[0;32mIn[103], line 4\u001b[0m\n\u001b[1;32m      1\u001b[0m \u001b[38;5;28;01mfrom\u001b[39;00m \u001b[38;5;21;01mxgboost\u001b[39;00m \u001b[38;5;28;01mimport\u001b[39;00m XGBRegressor\n\u001b[1;32m      2\u001b[0m model_xgb \u001b[38;5;241m=\u001b[39m XGBRegressor()\n\u001b[0;32m----> 4\u001b[0m \u001b[43mmodel_xgb\u001b[49m\u001b[38;5;241;43m.\u001b[39;49m\u001b[43mfit\u001b[49m\u001b[43m(\u001b[49m\u001b[43mX_train\u001b[49m\u001b[43m,\u001b[49m\u001b[43m \u001b[49m\u001b[43my_train\u001b[49m\u001b[43m)\u001b[49m\n\u001b[1;32m      5\u001b[0m \u001b[38;5;66;03m#scaler = StandardScaler()\u001b[39;00m\n\u001b[1;32m      6\u001b[0m \u001b[38;5;66;03m#X_train_scaled = scaler.fit_transform(X_train)\u001b[39;00m\n\u001b[1;32m      7\u001b[0m \u001b[38;5;66;03m#X_test_scaled = scaler.transform(X_test)\u001b[39;00m\n\u001b[1;32m      8\u001b[0m y_pred \u001b[38;5;241m=\u001b[39m model_xgb\u001b[38;5;241m.\u001b[39mpredict(X_test)\n",
      "File \u001b[0;32m~/.pyenv/versions/3.10.6/envs/realdata/lib/python3.10/site-packages/xgboost/core.py:730\u001b[0m, in \u001b[0;36mrequire_keyword_args.<locals>.throw_if.<locals>.inner_f\u001b[0;34m(*args, **kwargs)\u001b[0m\n\u001b[1;32m    728\u001b[0m \u001b[38;5;28;01mfor\u001b[39;00m k, arg \u001b[38;5;129;01min\u001b[39;00m \u001b[38;5;28mzip\u001b[39m(sig\u001b[38;5;241m.\u001b[39mparameters, args):\n\u001b[1;32m    729\u001b[0m     kwargs[k] \u001b[38;5;241m=\u001b[39m arg\n\u001b[0;32m--> 730\u001b[0m \u001b[38;5;28;01mreturn\u001b[39;00m \u001b[43mfunc\u001b[49m\u001b[43m(\u001b[49m\u001b[38;5;241;43m*\u001b[39;49m\u001b[38;5;241;43m*\u001b[39;49m\u001b[43mkwargs\u001b[49m\u001b[43m)\u001b[49m\n",
      "File \u001b[0;32m~/.pyenv/versions/3.10.6/envs/realdata/lib/python3.10/site-packages/xgboost/sklearn.py:1055\u001b[0m, in \u001b[0;36mXGBModel.fit\u001b[0;34m(self, X, y, sample_weight, base_margin, eval_set, eval_metric, early_stopping_rounds, verbose, xgb_model, sample_weight_eval_set, base_margin_eval_set, feature_weights, callbacks)\u001b[0m\n\u001b[1;32m   1053\u001b[0m \u001b[38;5;28;01mwith\u001b[39;00m config_context(verbosity\u001b[38;5;241m=\u001b[39m\u001b[38;5;28mself\u001b[39m\u001b[38;5;241m.\u001b[39mverbosity):\n\u001b[1;32m   1054\u001b[0m     evals_result: TrainingCallback\u001b[38;5;241m.\u001b[39mEvalsLog \u001b[38;5;241m=\u001b[39m {}\n\u001b[0;32m-> 1055\u001b[0m     train_dmatrix, evals \u001b[38;5;241m=\u001b[39m \u001b[43m_wrap_evaluation_matrices\u001b[49m\u001b[43m(\u001b[49m\n\u001b[1;32m   1056\u001b[0m \u001b[43m        \u001b[49m\u001b[43mmissing\u001b[49m\u001b[38;5;241;43m=\u001b[39;49m\u001b[38;5;28;43mself\u001b[39;49m\u001b[38;5;241;43m.\u001b[39;49m\u001b[43mmissing\u001b[49m\u001b[43m,\u001b[49m\n\u001b[1;32m   1057\u001b[0m \u001b[43m        \u001b[49m\u001b[43mX\u001b[49m\u001b[38;5;241;43m=\u001b[39;49m\u001b[43mX\u001b[49m\u001b[43m,\u001b[49m\n\u001b[1;32m   1058\u001b[0m \u001b[43m        \u001b[49m\u001b[43my\u001b[49m\u001b[38;5;241;43m=\u001b[39;49m\u001b[43my\u001b[49m\u001b[43m,\u001b[49m\n\u001b[1;32m   1059\u001b[0m \u001b[43m        \u001b[49m\u001b[43mgroup\u001b[49m\u001b[38;5;241;43m=\u001b[39;49m\u001b[38;5;28;43;01mNone\u001b[39;49;00m\u001b[43m,\u001b[49m\n\u001b[1;32m   1060\u001b[0m \u001b[43m        \u001b[49m\u001b[43mqid\u001b[49m\u001b[38;5;241;43m=\u001b[39;49m\u001b[38;5;28;43;01mNone\u001b[39;49;00m\u001b[43m,\u001b[49m\n\u001b[1;32m   1061\u001b[0m \u001b[43m        \u001b[49m\u001b[43msample_weight\u001b[49m\u001b[38;5;241;43m=\u001b[39;49m\u001b[43msample_weight\u001b[49m\u001b[43m,\u001b[49m\n\u001b[1;32m   1062\u001b[0m \u001b[43m        \u001b[49m\u001b[43mbase_margin\u001b[49m\u001b[38;5;241;43m=\u001b[39;49m\u001b[43mbase_margin\u001b[49m\u001b[43m,\u001b[49m\n\u001b[1;32m   1063\u001b[0m \u001b[43m        \u001b[49m\u001b[43mfeature_weights\u001b[49m\u001b[38;5;241;43m=\u001b[39;49m\u001b[43mfeature_weights\u001b[49m\u001b[43m,\u001b[49m\n\u001b[1;32m   1064\u001b[0m \u001b[43m        \u001b[49m\u001b[43meval_set\u001b[49m\u001b[38;5;241;43m=\u001b[39;49m\u001b[43meval_set\u001b[49m\u001b[43m,\u001b[49m\n\u001b[1;32m   1065\u001b[0m \u001b[43m        \u001b[49m\u001b[43msample_weight_eval_set\u001b[49m\u001b[38;5;241;43m=\u001b[39;49m\u001b[43msample_weight_eval_set\u001b[49m\u001b[43m,\u001b[49m\n\u001b[1;32m   1066\u001b[0m \u001b[43m        \u001b[49m\u001b[43mbase_margin_eval_set\u001b[49m\u001b[38;5;241;43m=\u001b[39;49m\u001b[43mbase_margin_eval_set\u001b[49m\u001b[43m,\u001b[49m\n\u001b[1;32m   1067\u001b[0m \u001b[43m        \u001b[49m\u001b[43meval_group\u001b[49m\u001b[38;5;241;43m=\u001b[39;49m\u001b[38;5;28;43;01mNone\u001b[39;49;00m\u001b[43m,\u001b[49m\n\u001b[1;32m   1068\u001b[0m \u001b[43m        \u001b[49m\u001b[43meval_qid\u001b[49m\u001b[38;5;241;43m=\u001b[39;49m\u001b[38;5;28;43;01mNone\u001b[39;49;00m\u001b[43m,\u001b[49m\n\u001b[1;32m   1069\u001b[0m \u001b[43m        \u001b[49m\u001b[43mcreate_dmatrix\u001b[49m\u001b[38;5;241;43m=\u001b[39;49m\u001b[38;5;28;43mself\u001b[39;49m\u001b[38;5;241;43m.\u001b[39;49m\u001b[43m_create_dmatrix\u001b[49m\u001b[43m,\u001b[49m\n\u001b[1;32m   1070\u001b[0m \u001b[43m        \u001b[49m\u001b[43menable_categorical\u001b[49m\u001b[38;5;241;43m=\u001b[39;49m\u001b[38;5;28;43mself\u001b[39;49m\u001b[38;5;241;43m.\u001b[39;49m\u001b[43menable_categorical\u001b[49m\u001b[43m,\u001b[49m\n\u001b[1;32m   1071\u001b[0m \u001b[43m        \u001b[49m\u001b[43mfeature_types\u001b[49m\u001b[38;5;241;43m=\u001b[39;49m\u001b[38;5;28;43mself\u001b[39;49m\u001b[38;5;241;43m.\u001b[39;49m\u001b[43mfeature_types\u001b[49m\u001b[43m,\u001b[49m\n\u001b[1;32m   1072\u001b[0m \u001b[43m    \u001b[49m\u001b[43m)\u001b[49m\n\u001b[1;32m   1073\u001b[0m     params \u001b[38;5;241m=\u001b[39m \u001b[38;5;28mself\u001b[39m\u001b[38;5;241m.\u001b[39mget_xgb_params()\n\u001b[1;32m   1075\u001b[0m     \u001b[38;5;28;01mif\u001b[39;00m \u001b[38;5;28mcallable\u001b[39m(\u001b[38;5;28mself\u001b[39m\u001b[38;5;241m.\u001b[39mobjective):\n",
      "File \u001b[0;32m~/.pyenv/versions/3.10.6/envs/realdata/lib/python3.10/site-packages/xgboost/sklearn.py:521\u001b[0m, in \u001b[0;36m_wrap_evaluation_matrices\u001b[0;34m(missing, X, y, group, qid, sample_weight, base_margin, feature_weights, eval_set, sample_weight_eval_set, base_margin_eval_set, eval_group, eval_qid, create_dmatrix, enable_categorical, feature_types)\u001b[0m\n\u001b[1;32m    501\u001b[0m \u001b[38;5;28;01mdef\u001b[39;00m \u001b[38;5;21m_wrap_evaluation_matrices\u001b[39m(\n\u001b[1;32m    502\u001b[0m     missing: \u001b[38;5;28mfloat\u001b[39m,\n\u001b[1;32m    503\u001b[0m     X: Any,\n\u001b[0;32m   (...)\u001b[0m\n\u001b[1;32m    517\u001b[0m     feature_types: Optional[FeatureTypes],\n\u001b[1;32m    518\u001b[0m ) \u001b[38;5;241m-\u001b[39m\u001b[38;5;241m>\u001b[39m Tuple[Any, List[Tuple[Any, \u001b[38;5;28mstr\u001b[39m]]]:\n\u001b[1;32m    519\u001b[0m \u001b[38;5;250m    \u001b[39m\u001b[38;5;124;03m\"\"\"Convert array_like evaluation matrices into DMatrix.  Perform validation on the\u001b[39;00m\n\u001b[1;32m    520\u001b[0m \u001b[38;5;124;03m    way.\"\"\"\u001b[39;00m\n\u001b[0;32m--> 521\u001b[0m     train_dmatrix \u001b[38;5;241m=\u001b[39m \u001b[43mcreate_dmatrix\u001b[49m\u001b[43m(\u001b[49m\n\u001b[1;32m    522\u001b[0m \u001b[43m        \u001b[49m\u001b[43mdata\u001b[49m\u001b[38;5;241;43m=\u001b[39;49m\u001b[43mX\u001b[49m\u001b[43m,\u001b[49m\n\u001b[1;32m    523\u001b[0m \u001b[43m        \u001b[49m\u001b[43mlabel\u001b[49m\u001b[38;5;241;43m=\u001b[39;49m\u001b[43my\u001b[49m\u001b[43m,\u001b[49m\n\u001b[1;32m    524\u001b[0m \u001b[43m        \u001b[49m\u001b[43mgroup\u001b[49m\u001b[38;5;241;43m=\u001b[39;49m\u001b[43mgroup\u001b[49m\u001b[43m,\u001b[49m\n\u001b[1;32m    525\u001b[0m \u001b[43m        \u001b[49m\u001b[43mqid\u001b[49m\u001b[38;5;241;43m=\u001b[39;49m\u001b[43mqid\u001b[49m\u001b[43m,\u001b[49m\n\u001b[1;32m    526\u001b[0m \u001b[43m        \u001b[49m\u001b[43mweight\u001b[49m\u001b[38;5;241;43m=\u001b[39;49m\u001b[43msample_weight\u001b[49m\u001b[43m,\u001b[49m\n\u001b[1;32m    527\u001b[0m \u001b[43m        \u001b[49m\u001b[43mbase_margin\u001b[49m\u001b[38;5;241;43m=\u001b[39;49m\u001b[43mbase_margin\u001b[49m\u001b[43m,\u001b[49m\n\u001b[1;32m    528\u001b[0m \u001b[43m        \u001b[49m\u001b[43mfeature_weights\u001b[49m\u001b[38;5;241;43m=\u001b[39;49m\u001b[43mfeature_weights\u001b[49m\u001b[43m,\u001b[49m\n\u001b[1;32m    529\u001b[0m \u001b[43m        \u001b[49m\u001b[43mmissing\u001b[49m\u001b[38;5;241;43m=\u001b[39;49m\u001b[43mmissing\u001b[49m\u001b[43m,\u001b[49m\n\u001b[1;32m    530\u001b[0m \u001b[43m        \u001b[49m\u001b[43menable_categorical\u001b[49m\u001b[38;5;241;43m=\u001b[39;49m\u001b[43menable_categorical\u001b[49m\u001b[43m,\u001b[49m\n\u001b[1;32m    531\u001b[0m \u001b[43m        \u001b[49m\u001b[43mfeature_types\u001b[49m\u001b[38;5;241;43m=\u001b[39;49m\u001b[43mfeature_types\u001b[49m\u001b[43m,\u001b[49m\n\u001b[1;32m    532\u001b[0m \u001b[43m        \u001b[49m\u001b[43mref\u001b[49m\u001b[38;5;241;43m=\u001b[39;49m\u001b[38;5;28;43;01mNone\u001b[39;49;00m\u001b[43m,\u001b[49m\n\u001b[1;32m    533\u001b[0m \u001b[43m    \u001b[49m\u001b[43m)\u001b[49m\n\u001b[1;32m    535\u001b[0m     n_validation \u001b[38;5;241m=\u001b[39m \u001b[38;5;241m0\u001b[39m \u001b[38;5;28;01mif\u001b[39;00m eval_set \u001b[38;5;129;01mis\u001b[39;00m \u001b[38;5;28;01mNone\u001b[39;00m \u001b[38;5;28;01melse\u001b[39;00m \u001b[38;5;28mlen\u001b[39m(eval_set)\n\u001b[1;32m    537\u001b[0m     \u001b[38;5;28;01mdef\u001b[39;00m \u001b[38;5;21mvalidate_or_none\u001b[39m(meta: Optional[Sequence], name: \u001b[38;5;28mstr\u001b[39m) \u001b[38;5;241m-\u001b[39m\u001b[38;5;241m>\u001b[39m Sequence:\n",
      "File \u001b[0;32m~/.pyenv/versions/3.10.6/envs/realdata/lib/python3.10/site-packages/xgboost/sklearn.py:958\u001b[0m, in \u001b[0;36mXGBModel._create_dmatrix\u001b[0;34m(self, ref, **kwargs)\u001b[0m\n\u001b[1;32m    956\u001b[0m \u001b[38;5;28;01mif\u001b[39;00m _can_use_qdm(\u001b[38;5;28mself\u001b[39m\u001b[38;5;241m.\u001b[39mtree_method) \u001b[38;5;129;01mand\u001b[39;00m \u001b[38;5;28mself\u001b[39m\u001b[38;5;241m.\u001b[39mbooster \u001b[38;5;241m!=\u001b[39m \u001b[38;5;124m\"\u001b[39m\u001b[38;5;124mgblinear\u001b[39m\u001b[38;5;124m\"\u001b[39m:\n\u001b[1;32m    957\u001b[0m     \u001b[38;5;28;01mtry\u001b[39;00m:\n\u001b[0;32m--> 958\u001b[0m         \u001b[38;5;28;01mreturn\u001b[39;00m \u001b[43mQuantileDMatrix\u001b[49m\u001b[43m(\u001b[49m\n\u001b[1;32m    959\u001b[0m \u001b[43m            \u001b[49m\u001b[38;5;241;43m*\u001b[39;49m\u001b[38;5;241;43m*\u001b[39;49m\u001b[43mkwargs\u001b[49m\u001b[43m,\u001b[49m\u001b[43m \u001b[49m\u001b[43mref\u001b[49m\u001b[38;5;241;43m=\u001b[39;49m\u001b[43mref\u001b[49m\u001b[43m,\u001b[49m\u001b[43m \u001b[49m\u001b[43mnthread\u001b[49m\u001b[38;5;241;43m=\u001b[39;49m\u001b[38;5;28;43mself\u001b[39;49m\u001b[38;5;241;43m.\u001b[39;49m\u001b[43mn_jobs\u001b[49m\u001b[43m,\u001b[49m\u001b[43m \u001b[49m\u001b[43mmax_bin\u001b[49m\u001b[38;5;241;43m=\u001b[39;49m\u001b[38;5;28;43mself\u001b[39;49m\u001b[38;5;241;43m.\u001b[39;49m\u001b[43mmax_bin\u001b[49m\n\u001b[1;32m    960\u001b[0m \u001b[43m        \u001b[49m\u001b[43m)\u001b[49m\n\u001b[1;32m    961\u001b[0m     \u001b[38;5;28;01mexcept\u001b[39;00m \u001b[38;5;167;01mTypeError\u001b[39;00m:  \u001b[38;5;66;03m# `QuantileDMatrix` supports lesser types than DMatrix\u001b[39;00m\n\u001b[1;32m    962\u001b[0m         \u001b[38;5;28;01mpass\u001b[39;00m\n",
      "File \u001b[0;32m~/.pyenv/versions/3.10.6/envs/realdata/lib/python3.10/site-packages/xgboost/core.py:730\u001b[0m, in \u001b[0;36mrequire_keyword_args.<locals>.throw_if.<locals>.inner_f\u001b[0;34m(*args, **kwargs)\u001b[0m\n\u001b[1;32m    728\u001b[0m \u001b[38;5;28;01mfor\u001b[39;00m k, arg \u001b[38;5;129;01min\u001b[39;00m \u001b[38;5;28mzip\u001b[39m(sig\u001b[38;5;241m.\u001b[39mparameters, args):\n\u001b[1;32m    729\u001b[0m     kwargs[k] \u001b[38;5;241m=\u001b[39m arg\n\u001b[0;32m--> 730\u001b[0m \u001b[38;5;28;01mreturn\u001b[39;00m \u001b[43mfunc\u001b[49m\u001b[43m(\u001b[49m\u001b[38;5;241;43m*\u001b[39;49m\u001b[38;5;241;43m*\u001b[39;49m\u001b[43mkwargs\u001b[49m\u001b[43m)\u001b[49m\n",
      "File \u001b[0;32m~/.pyenv/versions/3.10.6/envs/realdata/lib/python3.10/site-packages/xgboost/core.py:1529\u001b[0m, in \u001b[0;36mQuantileDMatrix.__init__\u001b[0;34m(self, data, label, weight, base_margin, missing, silent, feature_names, feature_types, nthread, max_bin, ref, group, qid, label_lower_bound, label_upper_bound, feature_weights, enable_categorical, data_split_mode)\u001b[0m\n\u001b[1;32m   1509\u001b[0m     \u001b[38;5;28;01mif\u001b[39;00m \u001b[38;5;28many\u001b[39m(\n\u001b[1;32m   1510\u001b[0m         info \u001b[38;5;129;01mis\u001b[39;00m \u001b[38;5;129;01mnot\u001b[39;00m \u001b[38;5;28;01mNone\u001b[39;00m\n\u001b[1;32m   1511\u001b[0m         \u001b[38;5;28;01mfor\u001b[39;00m info \u001b[38;5;129;01min\u001b[39;00m (\n\u001b[0;32m   (...)\u001b[0m\n\u001b[1;32m   1522\u001b[0m         )\n\u001b[1;32m   1523\u001b[0m     ):\n\u001b[1;32m   1524\u001b[0m         \u001b[38;5;28;01mraise\u001b[39;00m \u001b[38;5;167;01mValueError\u001b[39;00m(\n\u001b[1;32m   1525\u001b[0m             \u001b[38;5;124m\"\u001b[39m\u001b[38;5;124mIf data iterator is used as input, data like label should be \u001b[39m\u001b[38;5;124m\"\u001b[39m\n\u001b[1;32m   1526\u001b[0m             \u001b[38;5;124m\"\u001b[39m\u001b[38;5;124mspecified as batch argument.\u001b[39m\u001b[38;5;124m\"\u001b[39m\n\u001b[1;32m   1527\u001b[0m         )\n\u001b[0;32m-> 1529\u001b[0m \u001b[38;5;28;43mself\u001b[39;49m\u001b[38;5;241;43m.\u001b[39;49m\u001b[43m_init\u001b[49m\u001b[43m(\u001b[49m\n\u001b[1;32m   1530\u001b[0m \u001b[43m    \u001b[49m\u001b[43mdata\u001b[49m\u001b[43m,\u001b[49m\n\u001b[1;32m   1531\u001b[0m \u001b[43m    \u001b[49m\u001b[43mref\u001b[49m\u001b[38;5;241;43m=\u001b[39;49m\u001b[43mref\u001b[49m\u001b[43m,\u001b[49m\n\u001b[1;32m   1532\u001b[0m \u001b[43m    \u001b[49m\u001b[43mlabel\u001b[49m\u001b[38;5;241;43m=\u001b[39;49m\u001b[43mlabel\u001b[49m\u001b[43m,\u001b[49m\n\u001b[1;32m   1533\u001b[0m \u001b[43m    \u001b[49m\u001b[43mweight\u001b[49m\u001b[38;5;241;43m=\u001b[39;49m\u001b[43mweight\u001b[49m\u001b[43m,\u001b[49m\n\u001b[1;32m   1534\u001b[0m \u001b[43m    \u001b[49m\u001b[43mbase_margin\u001b[49m\u001b[38;5;241;43m=\u001b[39;49m\u001b[43mbase_margin\u001b[49m\u001b[43m,\u001b[49m\n\u001b[1;32m   1535\u001b[0m \u001b[43m    \u001b[49m\u001b[43mgroup\u001b[49m\u001b[38;5;241;43m=\u001b[39;49m\u001b[43mgroup\u001b[49m\u001b[43m,\u001b[49m\n\u001b[1;32m   1536\u001b[0m \u001b[43m    \u001b[49m\u001b[43mqid\u001b[49m\u001b[38;5;241;43m=\u001b[39;49m\u001b[43mqid\u001b[49m\u001b[43m,\u001b[49m\n\u001b[1;32m   1537\u001b[0m \u001b[43m    \u001b[49m\u001b[43mlabel_lower_bound\u001b[49m\u001b[38;5;241;43m=\u001b[39;49m\u001b[43mlabel_lower_bound\u001b[49m\u001b[43m,\u001b[49m\n\u001b[1;32m   1538\u001b[0m \u001b[43m    \u001b[49m\u001b[43mlabel_upper_bound\u001b[49m\u001b[38;5;241;43m=\u001b[39;49m\u001b[43mlabel_upper_bound\u001b[49m\u001b[43m,\u001b[49m\n\u001b[1;32m   1539\u001b[0m \u001b[43m    \u001b[49m\u001b[43mfeature_weights\u001b[49m\u001b[38;5;241;43m=\u001b[39;49m\u001b[43mfeature_weights\u001b[49m\u001b[43m,\u001b[49m\n\u001b[1;32m   1540\u001b[0m \u001b[43m    \u001b[49m\u001b[43mfeature_names\u001b[49m\u001b[38;5;241;43m=\u001b[39;49m\u001b[43mfeature_names\u001b[49m\u001b[43m,\u001b[49m\n\u001b[1;32m   1541\u001b[0m \u001b[43m    \u001b[49m\u001b[43mfeature_types\u001b[49m\u001b[38;5;241;43m=\u001b[39;49m\u001b[43mfeature_types\u001b[49m\u001b[43m,\u001b[49m\n\u001b[1;32m   1542\u001b[0m \u001b[43m    \u001b[49m\u001b[43menable_categorical\u001b[49m\u001b[38;5;241;43m=\u001b[39;49m\u001b[43menable_categorical\u001b[49m\u001b[43m,\u001b[49m\n\u001b[1;32m   1543\u001b[0m \u001b[43m\u001b[49m\u001b[43m)\u001b[49m\n",
      "File \u001b[0;32m~/.pyenv/versions/3.10.6/envs/realdata/lib/python3.10/site-packages/xgboost/core.py:1588\u001b[0m, in \u001b[0;36mQuantileDMatrix._init\u001b[0;34m(self, data, ref, enable_categorical, **meta)\u001b[0m\n\u001b[1;32m   1576\u001b[0m config \u001b[38;5;241m=\u001b[39m make_jcargs(\n\u001b[1;32m   1577\u001b[0m     nthread\u001b[38;5;241m=\u001b[39m\u001b[38;5;28mself\u001b[39m\u001b[38;5;241m.\u001b[39mnthread, missing\u001b[38;5;241m=\u001b[39m\u001b[38;5;28mself\u001b[39m\u001b[38;5;241m.\u001b[39mmissing, max_bin\u001b[38;5;241m=\u001b[39m\u001b[38;5;28mself\u001b[39m\u001b[38;5;241m.\u001b[39mmax_bin\n\u001b[1;32m   1578\u001b[0m )\n\u001b[1;32m   1579\u001b[0m ret \u001b[38;5;241m=\u001b[39m _LIB\u001b[38;5;241m.\u001b[39mXGQuantileDMatrixCreateFromCallback(\n\u001b[1;32m   1580\u001b[0m     \u001b[38;5;28;01mNone\u001b[39;00m,\n\u001b[1;32m   1581\u001b[0m     it\u001b[38;5;241m.\u001b[39mproxy\u001b[38;5;241m.\u001b[39mhandle,\n\u001b[0;32m   (...)\u001b[0m\n\u001b[1;32m   1586\u001b[0m     ctypes\u001b[38;5;241m.\u001b[39mbyref(handle),\n\u001b[1;32m   1587\u001b[0m )\n\u001b[0;32m-> 1588\u001b[0m \u001b[43mit\u001b[49m\u001b[38;5;241;43m.\u001b[39;49m\u001b[43mreraise\u001b[49m\u001b[43m(\u001b[49m\u001b[43m)\u001b[49m\n\u001b[1;32m   1589\u001b[0m \u001b[38;5;66;03m# delay check_call to throw intermediate exception first\u001b[39;00m\n\u001b[1;32m   1590\u001b[0m _check_call(ret)\n",
      "File \u001b[0;32m~/.pyenv/versions/3.10.6/envs/realdata/lib/python3.10/site-packages/xgboost/core.py:576\u001b[0m, in \u001b[0;36mDataIter.reraise\u001b[0;34m(self)\u001b[0m\n\u001b[1;32m    574\u001b[0m exc \u001b[38;5;241m=\u001b[39m \u001b[38;5;28mself\u001b[39m\u001b[38;5;241m.\u001b[39m_exception\n\u001b[1;32m    575\u001b[0m \u001b[38;5;28mself\u001b[39m\u001b[38;5;241m.\u001b[39m_exception \u001b[38;5;241m=\u001b[39m \u001b[38;5;28;01mNone\u001b[39;00m\n\u001b[0;32m--> 576\u001b[0m \u001b[38;5;28;01mraise\u001b[39;00m exc\n",
      "File \u001b[0;32m~/.pyenv/versions/3.10.6/envs/realdata/lib/python3.10/site-packages/xgboost/core.py:557\u001b[0m, in \u001b[0;36mDataIter._handle_exception\u001b[0;34m(self, fn, dft_ret)\u001b[0m\n\u001b[1;32m    554\u001b[0m     \u001b[38;5;28;01mreturn\u001b[39;00m dft_ret\n\u001b[1;32m    556\u001b[0m \u001b[38;5;28;01mtry\u001b[39;00m:\n\u001b[0;32m--> 557\u001b[0m     \u001b[38;5;28;01mreturn\u001b[39;00m \u001b[43mfn\u001b[49m\u001b[43m(\u001b[49m\u001b[43m)\u001b[49m\n\u001b[1;32m    558\u001b[0m \u001b[38;5;28;01mexcept\u001b[39;00m \u001b[38;5;167;01mException\u001b[39;00m \u001b[38;5;28;01mas\u001b[39;00m e:  \u001b[38;5;66;03m# pylint: disable=broad-except\u001b[39;00m\n\u001b[1;32m    559\u001b[0m     \u001b[38;5;66;03m# Defer the exception in order to return 0 and stop the iteration.\u001b[39;00m\n\u001b[1;32m    560\u001b[0m     \u001b[38;5;66;03m# Exception inside a ctype callback function has no effect except\u001b[39;00m\n\u001b[1;32m    561\u001b[0m     \u001b[38;5;66;03m# for printing to stderr (doesn't stop the execution).\u001b[39;00m\n\u001b[1;32m    562\u001b[0m     tb \u001b[38;5;241m=\u001b[39m sys\u001b[38;5;241m.\u001b[39mexc_info()[\u001b[38;5;241m2\u001b[39m]\n",
      "File \u001b[0;32m~/.pyenv/versions/3.10.6/envs/realdata/lib/python3.10/site-packages/xgboost/core.py:641\u001b[0m, in \u001b[0;36mDataIter._next_wrapper.<locals>.<lambda>\u001b[0;34m()\u001b[0m\n\u001b[1;32m    638\u001b[0m     \u001b[38;5;28mself\u001b[39m\u001b[38;5;241m.\u001b[39m_data_ref \u001b[38;5;241m=\u001b[39m ref\n\u001b[1;32m    640\u001b[0m \u001b[38;5;66;03m# pylint: disable=not-callable\u001b[39;00m\n\u001b[0;32m--> 641\u001b[0m \u001b[38;5;28;01mreturn\u001b[39;00m \u001b[38;5;28mself\u001b[39m\u001b[38;5;241m.\u001b[39m_handle_exception(\u001b[38;5;28;01mlambda\u001b[39;00m: \u001b[38;5;28;43mself\u001b[39;49m\u001b[38;5;241;43m.\u001b[39;49m\u001b[43mnext\u001b[49m\u001b[43m(\u001b[49m\u001b[43minput_data\u001b[49m\u001b[43m)\u001b[49m, \u001b[38;5;241m0\u001b[39m)\n",
      "File \u001b[0;32m~/.pyenv/versions/3.10.6/envs/realdata/lib/python3.10/site-packages/xgboost/data.py:1280\u001b[0m, in \u001b[0;36mSingleBatchInternalIter.next\u001b[0;34m(self, input_data)\u001b[0m\n\u001b[1;32m   1278\u001b[0m     \u001b[38;5;28;01mreturn\u001b[39;00m \u001b[38;5;241m0\u001b[39m\n\u001b[1;32m   1279\u001b[0m \u001b[38;5;28mself\u001b[39m\u001b[38;5;241m.\u001b[39mit \u001b[38;5;241m+\u001b[39m\u001b[38;5;241m=\u001b[39m \u001b[38;5;241m1\u001b[39m\n\u001b[0;32m-> 1280\u001b[0m \u001b[43minput_data\u001b[49m\u001b[43m(\u001b[49m\u001b[38;5;241;43m*\u001b[39;49m\u001b[38;5;241;43m*\u001b[39;49m\u001b[38;5;28;43mself\u001b[39;49m\u001b[38;5;241;43m.\u001b[39;49m\u001b[43mkwargs\u001b[49m\u001b[43m)\u001b[49m\n\u001b[1;32m   1281\u001b[0m \u001b[38;5;28;01mreturn\u001b[39;00m \u001b[38;5;241m1\u001b[39m\n",
      "File \u001b[0;32m~/.pyenv/versions/3.10.6/envs/realdata/lib/python3.10/site-packages/xgboost/core.py:730\u001b[0m, in \u001b[0;36mrequire_keyword_args.<locals>.throw_if.<locals>.inner_f\u001b[0;34m(*args, **kwargs)\u001b[0m\n\u001b[1;32m    728\u001b[0m \u001b[38;5;28;01mfor\u001b[39;00m k, arg \u001b[38;5;129;01min\u001b[39;00m \u001b[38;5;28mzip\u001b[39m(sig\u001b[38;5;241m.\u001b[39mparameters, args):\n\u001b[1;32m    729\u001b[0m     kwargs[k] \u001b[38;5;241m=\u001b[39m arg\n\u001b[0;32m--> 730\u001b[0m \u001b[38;5;28;01mreturn\u001b[39;00m \u001b[43mfunc\u001b[49m\u001b[43m(\u001b[49m\u001b[38;5;241;43m*\u001b[39;49m\u001b[38;5;241;43m*\u001b[39;49m\u001b[43mkwargs\u001b[49m\u001b[43m)\u001b[49m\n",
      "File \u001b[0;32m~/.pyenv/versions/3.10.6/envs/realdata/lib/python3.10/site-packages/xgboost/core.py:624\u001b[0m, in \u001b[0;36mDataIter._next_wrapper.<locals>.input_data\u001b[0;34m(data, feature_names, feature_types, **kwargs)\u001b[0m\n\u001b[1;32m    622\u001b[0m     new, cat_codes, feature_names, feature_types \u001b[38;5;241m=\u001b[39m \u001b[38;5;28mself\u001b[39m\u001b[38;5;241m.\u001b[39m_temporary_data\n\u001b[1;32m    623\u001b[0m \u001b[38;5;28;01melse\u001b[39;00m:\n\u001b[0;32m--> 624\u001b[0m     new, cat_codes, feature_names, feature_types \u001b[38;5;241m=\u001b[39m \u001b[43m_proxy_transform\u001b[49m\u001b[43m(\u001b[49m\n\u001b[1;32m    625\u001b[0m \u001b[43m        \u001b[49m\u001b[43mdata\u001b[49m\u001b[43m,\u001b[49m\n\u001b[1;32m    626\u001b[0m \u001b[43m        \u001b[49m\u001b[43mfeature_names\u001b[49m\u001b[43m,\u001b[49m\n\u001b[1;32m    627\u001b[0m \u001b[43m        \u001b[49m\u001b[43mfeature_types\u001b[49m\u001b[43m,\u001b[49m\n\u001b[1;32m    628\u001b[0m \u001b[43m        \u001b[49m\u001b[38;5;28;43mself\u001b[39;49m\u001b[38;5;241;43m.\u001b[39;49m\u001b[43m_enable_categorical\u001b[49m\u001b[43m,\u001b[49m\n\u001b[1;32m    629\u001b[0m \u001b[43m    \u001b[49m\u001b[43m)\u001b[49m\n\u001b[1;32m    630\u001b[0m \u001b[38;5;66;03m# Stage the data, meta info are copied inside C++ MetaInfo.\u001b[39;00m\n\u001b[1;32m    631\u001b[0m \u001b[38;5;28mself\u001b[39m\u001b[38;5;241m.\u001b[39m_temporary_data \u001b[38;5;241m=\u001b[39m (new, cat_codes, feature_names, feature_types)\n",
      "File \u001b[0;32m~/.pyenv/versions/3.10.6/envs/realdata/lib/python3.10/site-packages/xgboost/data.py:1315\u001b[0m, in \u001b[0;36m_proxy_transform\u001b[0;34m(data, feature_names, feature_types, enable_categorical)\u001b[0m\n\u001b[1;32m   1313\u001b[0m     data \u001b[38;5;241m=\u001b[39m pd\u001b[38;5;241m.\u001b[39mDataFrame(data)\n\u001b[1;32m   1314\u001b[0m \u001b[38;5;28;01mif\u001b[39;00m _is_pandas_df(data):\n\u001b[0;32m-> 1315\u001b[0m     arr, feature_names, feature_types \u001b[38;5;241m=\u001b[39m \u001b[43m_transform_pandas_df\u001b[49m\u001b[43m(\u001b[49m\n\u001b[1;32m   1316\u001b[0m \u001b[43m        \u001b[49m\u001b[43mdata\u001b[49m\u001b[43m,\u001b[49m\u001b[43m \u001b[49m\u001b[43menable_categorical\u001b[49m\u001b[43m,\u001b[49m\u001b[43m \u001b[49m\u001b[43mfeature_names\u001b[49m\u001b[43m,\u001b[49m\u001b[43m \u001b[49m\u001b[43mfeature_types\u001b[49m\n\u001b[1;32m   1317\u001b[0m \u001b[43m    \u001b[49m\u001b[43m)\u001b[49m\n\u001b[1;32m   1318\u001b[0m     arr, _ \u001b[38;5;241m=\u001b[39m _ensure_np_dtype(arr, arr\u001b[38;5;241m.\u001b[39mdtype)\n\u001b[1;32m   1319\u001b[0m     \u001b[38;5;28;01mreturn\u001b[39;00m arr, \u001b[38;5;28;01mNone\u001b[39;00m, feature_names, feature_types\n",
      "File \u001b[0;32m~/.pyenv/versions/3.10.6/envs/realdata/lib/python3.10/site-packages/xgboost/data.py:490\u001b[0m, in \u001b[0;36m_transform_pandas_df\u001b[0;34m(data, enable_categorical, feature_names, feature_types, meta, meta_type)\u001b[0m\n\u001b[1;32m    483\u001b[0m \u001b[38;5;28;01mfor\u001b[39;00m dtype \u001b[38;5;129;01min\u001b[39;00m data\u001b[38;5;241m.\u001b[39mdtypes:\n\u001b[1;32m    484\u001b[0m     \u001b[38;5;28;01mif\u001b[39;00m \u001b[38;5;129;01mnot\u001b[39;00m (\n\u001b[1;32m    485\u001b[0m         (dtype\u001b[38;5;241m.\u001b[39mname \u001b[38;5;129;01min\u001b[39;00m _pandas_dtype_mapper)\n\u001b[1;32m    486\u001b[0m         \u001b[38;5;129;01mor\u001b[39;00m is_pd_sparse_dtype(dtype)\n\u001b[1;32m    487\u001b[0m         \u001b[38;5;129;01mor\u001b[39;00m (is_pd_cat_dtype(dtype) \u001b[38;5;129;01mand\u001b[39;00m enable_categorical)\n\u001b[1;32m    488\u001b[0m         \u001b[38;5;129;01mor\u001b[39;00m is_pa_ext_dtype(dtype)\n\u001b[1;32m    489\u001b[0m     ):\n\u001b[0;32m--> 490\u001b[0m         \u001b[43m_invalid_dataframe_dtype\u001b[49m\u001b[43m(\u001b[49m\u001b[43mdata\u001b[49m\u001b[43m)\u001b[49m\n\u001b[1;32m    491\u001b[0m     \u001b[38;5;28;01mif\u001b[39;00m is_pa_ext_dtype(dtype):\n\u001b[1;32m    492\u001b[0m         pyarrow_extension \u001b[38;5;241m=\u001b[39m \u001b[38;5;28;01mTrue\u001b[39;00m\n",
      "File \u001b[0;32m~/.pyenv/versions/3.10.6/envs/realdata/lib/python3.10/site-packages/xgboost/data.py:308\u001b[0m, in \u001b[0;36m_invalid_dataframe_dtype\u001b[0;34m(data)\u001b[0m\n\u001b[1;32m    306\u001b[0m type_err \u001b[38;5;241m=\u001b[39m \u001b[38;5;124m\"\u001b[39m\u001b[38;5;124mDataFrame.dtypes for data must be int, float, bool or category.\u001b[39m\u001b[38;5;124m\"\u001b[39m\n\u001b[1;32m    307\u001b[0m msg \u001b[38;5;241m=\u001b[39m \u001b[38;5;124mf\u001b[39m\u001b[38;5;124m\"\"\"\u001b[39m\u001b[38;5;132;01m{\u001b[39;00mtype_err\u001b[38;5;132;01m}\u001b[39;00m\u001b[38;5;124m \u001b[39m\u001b[38;5;132;01m{\u001b[39;00m_ENABLE_CAT_ERR\u001b[38;5;132;01m}\u001b[39;00m\u001b[38;5;124m \u001b[39m\u001b[38;5;132;01m{\u001b[39;00merr\u001b[38;5;132;01m}\u001b[39;00m\u001b[38;5;124m\"\"\"\u001b[39m\n\u001b[0;32m--> 308\u001b[0m \u001b[38;5;28;01mraise\u001b[39;00m \u001b[38;5;167;01mValueError\u001b[39;00m(msg)\n",
      "\u001b[0;31mValueError\u001b[0m: DataFrame.dtypes for data must be int, float, bool or category. When categorical type is supplied, The experimental DMatrix parameter`enable_categorical` must be set to `True`.  Invalid columns:ohe__property_type_Appartement: object, ohe__property_type_Maison: object, built: object, longitude: object, latitude: object"
     ]
    }
   ],
   "source": [
    "from xgboost import XGBRegressor\n",
    "from sklearn.metrics import mean_squared_error\n",
    "from sklearn.model_selection import cross_val_score\n",
    "\n",
    "def model_xgb(X_train, y_train, X_test, y_test, X_all, y_all):\n",
    "\n",
    "    model_xgb = XGBRegressor(  )\n",
    "\n",
    "    model_xgb.fit(X_train, y_train)\n",
    "    y_pred = model_xgb.predict(X_test)\n",
    "\n",
    "    mse = mean_squared_error(y_pred, y_test)\n",
    "    rmse = mse**(1/2)\n",
    "\n",
    "    train_score = model_xgb.score(X_train, y_train)\n",
    "    test_score = model_xgb.score(X_test, y_test)\n",
    "    cv_mean = cross_val_score(model_xgb, X_all, y_all, cv = 5).mean()\n",
    "\n",
    "    baseline_train = 'Baseline train score was 0.63'\n",
    "    baseline_cv_mean = 'Baseline cv score mean was 0.54'\n",
    "\n",
    "    results = {'RMSE': rmse,\n",
    "               'Train score': train_score,\n",
    "               'Test score': test_score,\n",
    "               'CV mean': cv_mean,\n",
    "               'Baseline train score': baseline_train,\n",
    "               'Baseline cv score': baseline_cv_mean}\n",
    "\n",
    "    return results"
   ]
  },
  {
   "cell_type": "markdown",
   "id": "2097a841",
   "metadata": {},
   "source": [
    "## 🐇 Optional: Deep Learning"
   ]
  },
  {
   "cell_type": "markdown",
   "id": "68b5fa45",
   "metadata": {},
   "source": []
  }
 ],
 "metadata": {
  "kernelspec": {
   "display_name": "Python 3 (ipykernel)",
   "language": "python",
   "name": "python3"
  },
  "language_info": {
   "codemirror_mode": {
    "name": "ipython",
    "version": 3
   },
   "file_extension": ".py",
   "mimetype": "text/x-python",
   "name": "python",
   "nbconvert_exporter": "python",
   "pygments_lexer": "ipython3",
   "version": "3.10.6"
  },
  "toc": {
   "base_numbering": 1,
   "nav_menu": {},
   "number_sections": true,
   "sideBar": true,
   "skip_h1_title": false,
   "title_cell": "Table of Contents",
   "title_sidebar": "Contents",
   "toc_cell": false,
   "toc_position": {},
   "toc_section_display": true,
   "toc_window_display": false
  }
 },
 "nbformat": 4,
 "nbformat_minor": 5
}
